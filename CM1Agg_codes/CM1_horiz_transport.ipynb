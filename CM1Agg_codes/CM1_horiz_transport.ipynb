{
 "cells": [
  {
   "cell_type": "markdown",
   "metadata": {},
   "source": [
    "### CM1 horizontal transport in y "
   ]
  },
  {
   "cell_type": "code",
   "execution_count": 1,
   "metadata": {},
   "outputs": [],
   "source": [
    "import sys\n",
    "import os\n",
    "import numpy as np\n",
    "import xarray as xr\n",
    "from glob import glob\n",
    "import matplotlib.pyplot as plt\n",
    "import warnings\n",
    "from mpl_toolkits.axes_grid1 import make_axes_locatable\n",
    "from mpl_toolkits.axes_grid1.inset_locator import inset_axes\n",
    "from matplotlib.patches import Rectangle\n",
    "import metpy.calc as mpc\n",
    "from metpy.units import units\n",
    "# for animations\n",
    "from PIL import Image"
   ]
  },
  {
   "cell_type": "code",
   "execution_count": 2,
   "metadata": {},
   "outputs": [],
   "source": [
    "warnings.filterwarnings('ignore')"
   ]
  },
  {
   "cell_type": "code",
   "execution_count": 3,
   "metadata": {},
   "outputs": [],
   "source": [
    "def read_data(data_dir,t_start=-144):\n",
    "    os.chdir(data_dir)\n",
    "    print(data_dir)\n",
    "    file_name = glob('*nc')\n",
    "    data_zon = xr.open_dataset('cm1out_zonmean.nc')\n",
    "    data_3d = xr.open_dataset('cm1out_sub3d.nc')\n",
    "    data_2d = xr.open_dataset('cm1out_2Dvars.nc')\n",
    "    \n",
    "    # 3d data\n",
    "    th3d = data_3d.th[t_start:,:45,:,:]    \n",
    "    u3d = data_3d.uinterp[t_start:,:45,:,:]\n",
    "    v3d = data_3d.vinterp[t_start:,:45,:,:]\n",
    "    w3d = data_3d.winterp[t_start:,:45,:,:]\n",
    "    qv3d = data_3d.qv[t_start:,:45,:,:]\n",
    "\n",
    "    # zonal mean data\n",
    "    th = data_zon.th[t_start:,:,:,:]\n",
    "    qv = data_zon.qv[t_start:,:,:,:]\n",
    "    u = data_zon.uinterp[t_start:,:,:,:]\n",
    "    v = data_zon.vinterp[t_start:,:,:,:]\n",
    "    w = data_zon.winterp[t_start:,:,:,:]\n",
    "    qc = data_zon.qc[t_start:,:,:,:]\n",
    "    qi = data_zon.qi[t_start:,:,:,:]\n",
    "    prs = data_zon.prs[t_start:,:,:,:]\n",
    "    # 2d data\n",
    "    prate = data_2d.prate[t_start:,:,:]\n",
    "    pwat = data_2d.pwat[t_start:,:,:]\n",
    "    cwp = data_2d.cwp[t_start:,:,:]\n",
    "    cape = data_2d.cape[t_start:,:,:]\n",
    "    cin = data_2d.cin[t_start:,:,:]\n",
    "    \n",
    "    # temperature conversion\n",
    "    T = th/((1000*100/prs)**(287.15/1004))-273.15 # [degC]\n",
    "    # density \n",
    "    ro = prs/(287.15*(T+273.15))\n",
    "\n",
    "    x_dim = data_2d.lon\n",
    "    y_dim = data_2d.lat\n",
    "    div = np.gradient(v,y_dim*1000,axis=2) # du/dx+dv/dy \n",
    "    vor = -np.gradient(u,y_dim*1000,axis=2) # -du/dy+dv/dx\n",
    "    #relative humidty calculation, Buck (1996)\n",
    "    es_liq = 0.61121*np.exp((18.678-T/234.5)*(T/(257.14+T)))*10 #[hpa]\n",
    "    es_ice = 0.61115*np.exp((23.036-T/333.7)*(T/(279.82+T)))*10\n",
    "\n",
    "    qs_liq = 0.622*es_liq/(prs/100-es_liq)\n",
    "    qs_ice = 0.622*es_ice/(prs/100-es_ice)\n",
    "\n",
    "    rh = qv/qs_liq\n",
    "    rh_ice = qv/qs_ice\n",
    "\n",
    "    rh = rh.values.flatten()\n",
    "    rh_ice = rh_ice.values.flatten()\n",
    "    T_test = T.values.flatten()\n",
    "\n",
    "    rh[T_test<0] = rh_ice[T_test<0]\n",
    "    rh = rh.reshape((T.shape[0],T.shape[1],T.shape[2],T.shape[3]))\n",
    "    rh = xr.DataArray(rh,coords=[T.time,T.lev,T.lat,T.lon],dims=['time','lev','lat','lon'])\n",
    "    \n",
    "    return (th,T,qv,qc,qi,rh,prate*3600*24,pwat*1000,cwp,u,v,w,div,vor,cape,cin,prs,ro,th3d,u3d,v3d,w3d,qv3d)"
   ]
  },
  {
   "cell_type": "code",
   "execution_count": null,
   "metadata": {},
   "outputs": [],
   "source": [
    "# get weather or weather2 \n",
    "server = '/data2/willytsai/cm1r19.8/analysis/runs_cheyenne'\n",
    "#server = '/w2-data2/willytsai/cm1r19.8/analysis/runs_cheyenne'\n",
    "os.chdir(server)\n",
    "\n",
    "exp_name = ['CM1_RAD4K_RCEP_240x240_U204km',\n",
    "            'CM1_RAD4K_RCEP_240x240_lowU05',\n",
    "            'CM1_RAD4K_RCEP_240x240_lowU07',\n",
    "            'CM1_RAD4K_RCEP_240x240_lowU10',\n",
    "            'CM1_RAD4K_RCEP_240x240_lowU12',\n",
    "            'CM1_RAD4K_RCEP_240x240_lowU15']\n",
    "\n",
    "exp_short = ['U20_4km','U05','U07','U10','U12','U15']\n",
    "print(exp_name)\n",
    "print('Number of Exp: ', len(exp_name))\n",
    "fig_dir = server + '/fig_sum'"
   ]
  },
  {
   "cell_type": "code",
   "execution_count": null,
   "metadata": {},
   "outputs": [],
   "source": [
    "(th1,T1,qv1,qc1,qi1,rh1,prate1,pwat1,cwp1,u1,v1,w1,div1,vor1,cape1,cin1,prs1,ro1,th1_3d,u1_3d,v1_3d,w1_3d,qv1_3d) = read_data(server+'/'+exp_name[0])\n",
    "(th2,T2,qv2,qc2,qi2,rh2,prate2,pwat2,cwp2,u2,v2,w2,div2,vor2,cape2,cin2,prs2,ro2,th2_3d,u2_3d,v2_3d,w2_3d,qv2_3d) = read_data(server+'/'+exp_name[1])\n",
    "(th3,T3,qv3,qc3,qi3,rh3,prate3,pwat3,cwp3,u3,v3,w3,div3,vor3,cape3,cin3,prs3,ro3,th3_3d,u3_3d,v3_3d,w3_3d,qv3_3d) = read_data(server+'/'+exp_name[2])\n",
    "(th4,T4,qv4,qc4,qi4,rh4,prate4,pwat4,cwp4,u4,v4,w4,div4,vor4,cape4,cin4,prs4,ro4,th4_3d,u4_3d,v4_3d,w4_3d,qv4_3d) = read_data(server+'/'+exp_name[3])\n",
    "(th5,T5,qv5,qc5,qi5,rh5,prate5,pwat5,cwp5,u5,v5,w5,div5,vor5,cape5,cin5,prs5,ro5,th5_3d,u5_3d,v5_3d,w5_3d,qv5_3d) = read_data(server+'/'+exp_name[4])\n",
    "(th6,T6,qv6,qc6,qi6,rh6,prate6,pwat6,cwp6,u6,v6,w6,div6,vor6,cape6,cin6,prs6,ro6,th6_3d,u6_3d,v6_3d,w6_3d,qv6_3d) = read_data(server+'/'+exp_name[5])"
   ]
  },
  {
   "cell_type": "code",
   "execution_count": null,
   "metadata": {},
   "outputs": [],
   "source": [
    "# horizontal transport \n",
    "v_tmp = v3_3d\n",
    "u_tmp = u3_3d\n",
    "qv_tmp = qv3_3d\n",
    "y_dim = v3_3d.lon.values\n",
    "x_dim = v3_3d.lat.values\n",
    "ro_tmp = ro3[0,:45,:,0].mean(axis=1) # ro profile\n",
    "qv_div = (ro_tmp*v_tmp*qv_tmp).differentiate('lat')/1000 \\\n",
    "         + (ro_tmp*u_tmp*qv_tmp).differentiate('lon')/1000 # vapor mass flux divergence "
   ]
  },
  {
   "cell_type": "code",
   "execution_count": null,
   "metadata": {},
   "outputs": [],
   "source": [
    "# using pressure coordinate \n",
    "p_dim = prs1[0,:,:,0].mean(axis=1) # 65 p-levels"
   ]
  },
  {
   "cell_type": "code",
   "execution_count": null,
   "metadata": {},
   "outputs": [],
   "source": [
    "z_dim = v1_3d.lev\n",
    "y_dim = v1_3d.lat\n",
    "strmf_ctrl = np.zeros((144,len(z_dim),len(y_dim)))\n",
    "\n",
    "for n,(ro,v3d) in enumerate(zip([ro1],[v1_3d])):\n",
    "    v = v3d.mean('lon')\n",
    "    for t in range(144):\n",
    "        for z in range(len(z_dim)):\n",
    "            strmf_ctrl[t,z,:] = np.trapz(ro[t,:z,:,0]*(v[t,:z,:]),z_dim[:z]*1000,axis=0) "
   ]
  },
  {
   "cell_type": "code",
   "execution_count": null,
   "metadata": {},
   "outputs": [],
   "source": [
    "z_dim = v3_3d.lev\n",
    "y_dim = v3_3d.lat\n",
    "strmf = np.zeros((len(exp_name)-1,144,len(z_dim),len(y_dim)))\n",
    "\n",
    "for n,(ro,v3d) in enumerate(zip([ro2,ro3,ro4,ro5,ro6],[v2_3d,v3_3d,v4_3d,v5_3d,v6_3d])):\n",
    "    v = v3d.mean('lon')\n",
    "    for t in range(144):\n",
    "        for z in range(len(z_dim)):\n",
    "            strmf[n,t,z,:] = np.trapz(ro[t,:z,:,0]*(v[t,:z,:]),z_dim[:z]*1000,axis=0) "
   ]
  },
  {
   "cell_type": "code",
   "execution_count": null,
   "metadata": {},
   "outputs": [],
   "source": [
    "from matplotlib import cm\n",
    "from matplotlib.colors import ListedColormap, LinearSegmentedColormap\n",
    "cmap_new = cm.get_cmap('jet',256)\n",
    "newcolors = cmap_new(np.linspace(0, 1, 160))\n",
    "grey_new = cm.get_cmap('Greys',256)\n",
    "grey_new = grey_new(np.linspace(0,1,30))\n",
    "# replace by grey colors\n",
    "newcolors[:10,:] = grey_new[:10,:]\n",
    "newcmap = ListedColormap(newcolors)"
   ]
  },
  {
   "cell_type": "code",
   "execution_count": null,
   "metadata": {},
   "outputs": [],
   "source": [
    "# for CTRL only\n",
    "\n",
    "clevs = np.linspace(-1000,1000,21) # kg/(m*s)\n",
    "clab = clevs[np.abs(clevs)>0]\n",
    "q_clevs = np.linspace(5*1e-6,1e-4,11)*1000 # g/kg\n",
    "\n",
    "for n,(qc,qi) in enumerate(zip([qc1],[qi1])): # all run, except for CTRL\n",
    "    fig = plt.figure(figsize=(12,4))\n",
    "    strmf_re = -strmf_ctrl[:,:,:].mean(axis=0)\n",
    "    #strmf_re = np.concatenate([strmf_re,strmf_re],axis=1)\n",
    "    cf1 = plt.contour(y_dim,p_dim[:45]/100,strmf_re,levels=clab,colors=['k'])\n",
    "    cf1.clabel(clab,fmt='%4d')\n",
    "\n",
    "    qci_re = 1000*(qc+qi)[:,:45,:,:].squeeze().mean(axis=0)\n",
    "    #qci_re = np.concatenate([qci_re, qci_re],axis=1)\n",
    "    cf2 = plt.contourf(y_dim,p_dim[:45]/100,qci_re\n",
    "                   ,cmap=newcmap,levels=q_clevs)\n",
    "    cbar = plt.colorbar(cf2,shrink=0.7,pad=0.02)\n",
    "    cbar.set_label('qc+qi [g/kg]')\n",
    "    plt.xticks(np.linspace(0,480,9))\n",
    "    plt.ylabel('Pressure [hPa]',fontsize=13)\n",
    "    plt.xlabel('[km]',fontsize=13)\n",
    "    plt.title(exp_name[n])\n",
    "    plt.ylim([1000,50])\n",
    "\n",
    "    plt.close()\n",
    "    fig.savefig(fig_dir+'/streamfunc_qcqi_'+exp_short[n]+'.pdf',\n",
    "              bbox_inches='tight',transparent=False)"
   ]
  },
  {
   "cell_type": "code",
   "execution_count": null,
   "metadata": {},
   "outputs": [],
   "source": [
    "# mass vapor plot\n",
    "# for CTRL only\n",
    "\n",
    "clevs = np.linspace(-1000,1000,21) # kg/(m*s)\n",
    "clab = clevs[np.abs(clevs)>0]\n",
    "q_clevs = np.linspace(-1,1,11) # g/m^3\n",
    "\n",
    "for n,(ro,qv) in enumerate(zip([ro1],[qv1])): # all run, except for CTRL\n",
    "    fig = plt.figure(figsize=(12,4))\n",
    "    strmf_re = -strmf_ctrl[:,:,:].mean(axis=0)\n",
    "    #strmf_re = np.concatenate([strmf_re,strmf_re],axis=1)\n",
    "    cf1 = plt.contour(y_dim,p_dim[:45]/100,strmf_re,levels=clab,colors=['k'])\n",
    "    cf1.clabel(clab,fmt='%4d')\n",
    "\n",
    "    qv_re = 1000*(ro*qv)[:,:45,:,:].squeeze().mean(axis=0) # [g/m^3]\n",
    "    qv_anom = qv_re - qv_re.mean(axis=1)\n",
    "    cf2 = plt.contourf(y_dim,p_dim[:45]/100,qv_anom\n",
    "                   ,cmap=newcmap,levels=q_clevs)\n",
    "    cbar = plt.colorbar(cf2,shrink=0.7,pad=0.02)\n",
    "    cbar.set_label('qv [g/m$^3$]')\n",
    "    plt.xticks(np.linspace(0,480,9))\n",
    "    plt.ylabel('Pressure [hPa]',fontsize=13)\n",
    "    plt.xlabel('[km]',fontsize=13)\n",
    "    plt.title(exp_name[n])\n",
    "    plt.ylim([1000,50])\n",
    "\n",
    "    fig.savefig(fig_dir+'/streamfunc_qv_'+exp_short[n]+'.pdf',\n",
    "               bbox_inches='tight',transparent=False)"
   ]
  },
  {
   "cell_type": "code",
   "execution_count": null,
   "metadata": {},
   "outputs": [],
   "source": [
    "clevs = np.linspace(-1000,1000,21) # kg/(m*s)\n",
    "clab = clevs[np.abs(clevs)>0]\n",
    "q_clevs = np.linspace(-1,1,11) # g/m^3\n",
    "\n",
    "for n,(ro,qv) in enumerate(zip([ro2,ro3,ro4,ro5,ro6],[qv2,qv3,qv4,qv5,qv6])): # all run, except for CTRL\n",
    "    fig = plt.figure(figsize=(12,4))\n",
    "    cf1 = plt.contour(y_dim,p_dim[:45]/100,-strmf[n,:,:,:].mean(axis=0),levels=clab,colors=['k'])\n",
    "    cf1.clabel(clab,fmt='%4d')\n",
    "\n",
    "    qv_re = 1000*(ro*qv)[:,:45,:,:].squeeze().mean(axis=0) # [g/m^3]\n",
    "    qv_anom = qv_re - qv_re.mean(axis=1)\n",
    "    cf2 = plt.contourf(y_dim,p_dim[:45]/100,qv_anom\n",
    "                   ,cmap=newcmap,levels=q_clevs)\n",
    "    cbar = plt.colorbar(cf2,shrink=0.7,pad=0.02)\n",
    "    cbar.set_label('qv [g/m$^3$]')\n",
    "    plt.xticks(np.linspace(0,480,9))\n",
    "    plt.ylabel('Pressure [hPa]',fontsize=13)\n",
    "    plt.xlabel('[km]',fontsize=13)\n",
    "    plt.title(exp_name[n+1])\n",
    "    plt.ylim([1000,50])\n",
    "\n",
    "    plt.close()\n",
    "    fig.savefig(fig_dir+'/streamfunc_qv_'+exp_short[n+1]+'.pdf',\n",
    "               bbox_inches='tight',transparent=False)"
   ]
  },
  {
   "cell_type": "code",
   "execution_count": null,
   "metadata": {},
   "outputs": [],
   "source": [
    "z_dim = v3_3d.lev\n",
    "y_dim = v3_3d.lat\n",
    "strmf_vap = np.zeros((len(exp_name)-1,144,len(z_dim),len(y_dim))) # vapor mass streamfunc\n",
    "\n",
    "for n,(ro,v3d,qv3d) in enumerate(zip([ro2,ro3,ro4,ro5],[v2_3d,v3_3d,v4_3d,v5_3d]\n",
    "                                  ,[qv2_3d,qv3_3d,qv4_3d,qv5_3d])):\n",
    "    v = v3d.mean('lon')\n",
    "    qv = qv3d.mean('lon')\n",
    "    for t in range(144):\n",
    "        for z in range(len(z_dim)):\n",
    "            strmf_vap[n,t,z,:] = np.trapz(ro[t,:z,:,0]*qv[t,:z,:]*v[t,:z,:],z_dim[:z]*1000,axis=0) "
   ]
  },
  {
   "cell_type": "code",
   "execution_count": null,
   "metadata": {},
   "outputs": [],
   "source": [
    "fig = plt.figure(figsize=(12,4))\n",
    "cf1 = plt.contourf(y_dim,p_dim[:45]/100,-strmf_vap[3,:,:,:].mean(axis=0),levels=21,cmap='jet')\n",
    "#cf1.clabel(clab,fmt='%4d')\n",
    "\n",
    "#cf2 = plt.contourf(y_dim,p_dim[:45]/100,1000*(qc5+qi5)[:,:45,:,:].squeeze().mean(axis=0)\n",
    "#               ,cmap=newcmap,levels=q_clevs)\n",
    "cbar = plt.colorbar(cf1,shrink=0.7,pad=0.02)\n",
    "#cbar.set_label('qc+qi [g/kg]')\n",
    "plt.xticks(np.linspace(0,480,9))\n",
    "plt.ylabel('Pressure [hPa]',fontsize=13)\n",
    "plt.xlabel('[km]',fontsize=13)\n",
    "plt.title(exp_name[4])\n",
    "plt.ylim([1000,50])"
   ]
  },
  {
   "cell_type": "code",
   "execution_count": null,
   "metadata": {},
   "outputs": [],
   "source": [
    "clevs = np.linspace(-1000,1000,21) # kg/(m*s)\n",
    "clab = clevs[np.abs(clevs)>0]\n",
    "q_clevs = np.linspace(5*1e-6,1e-4,11)*1000 # g/kg\n",
    "\n",
    "for n,(qc,qi) in enumerate(zip([qc2,qc3,qc4,qc5],[qi2,qi3,qi4,qi5])): # all run, except for CTRL\n",
    "    fig = plt.figure(figsize=(12,4))\n",
    "    cf1 = plt.contour(y_dim,p_dim[:45]/100,-strmf[n,:,:,:].mean(axis=0),levels=clab,colors=['k'])\n",
    "    cf1.clabel(clab,fmt='%4d')\n",
    "\n",
    "    cf2 = plt.contourf(y_dim,p_dim[:45]/100,1000*(qc+qi)[:,:45,:,:].squeeze().mean(axis=0)\n",
    "                   ,cmap=newcmap,levels=q_clevs)\n",
    "    cbar = plt.colorbar(cf2,shrink=0.7,pad=0.02)\n",
    "    cbar.set_label('qc+qi [g/kg]')\n",
    "    plt.xticks(np.linspace(0,480,9))\n",
    "    plt.ylabel('Pressure [hPa]',fontsize=13)\n",
    "    plt.xlabel('[km]',fontsize=13)\n",
    "    plt.title(exp_name[n+1])\n",
    "    plt.ylim([1000,50])\n",
    "\n",
    "    plt.close()\n",
    "    fig.savefig(fig_dir+'streamfunc_qcqi_'+exp_short[n+1]+'.pdf',\n",
    "               bbox_inches='tight',transparent=False)"
   ]
  },
  {
   "cell_type": "code",
   "execution_count": null,
   "metadata": {},
   "outputs": [],
   "source": []
  },
  {
   "cell_type": "code",
   "execution_count": null,
   "metadata": {},
   "outputs": [],
   "source": [
    "# cloud condensate difference\n",
    "fig = plt.figure(figsize=(12,4))\n",
    "tmp3 =1000*(qc2+qi2)[:,:45,:,:].squeeze().mean(axis=0)\n",
    "tmp_ctr = 1000*(qc1+qi1)[:,:45,:,:].squeeze().mean(axis=0)\n",
    "cf = plt.contourf(y_dim,v3_3d.lev,(tmp3-np.hstack((tmp_ctr,tmp_ctr)))\n",
    "               ,cmap='bwr',levels=np.linspace(-0.04,0.04,17),extend='both')\n",
    "cf.cmap.set_under('darkblue')\n",
    "cbar = plt.colorbar(cf,shrink=0.7,pad=0.02)\n",
    "cbar.set_label('$\\Delta$(qc+qi) [g/kg]')\n",
    "plt.xticks(np.linspace(0,480,9))\n",
    "plt.ylabel('Height [km]',fontsize=13)\n",
    "plt.xlabel('[km]',fontsize=13)\n",
    "plt.title(exp_name[1])"
   ]
  },
  {
   "cell_type": "code",
   "execution_count": null,
   "metadata": {},
   "outputs": [],
   "source": [
    "# convective heating\n",
    "data = xr.open_dataset(server+'/'+exp_name[4]+'/cm1out_qvbgt.nc')\n",
    "qt_cond = data.qt_cond"
   ]
  },
  {
   "cell_type": "code",
   "execution_count": null,
   "metadata": {},
   "outputs": [],
   "source": [
    "fig = plt.figure(figsize=(12,4))\n",
    "cf = plt.contourf(y_dim,v3_3d.lev,86400*2.5e6/1004*data.qt_evar[-144:,:45,:,:].mean(axis=(0,3))\n",
    "                 ,cmap='bone_r',levels=10)\n",
    "cbar = plt.colorbar(cf,shrink=0.7,pad=0.02)\n",
    "cbar.set_label('Evaporation of rain [K/day]')\n",
    "plt.xticks(np.linspace(0,480,9))\n",
    "plt.ylabel('Height [km]',fontsize=13)\n",
    "plt.xlabel('[km]',fontsize=13)\n",
    "plt.ylim([0,5])"
   ]
  },
  {
   "cell_type": "code",
   "execution_count": null,
   "metadata": {},
   "outputs": [],
   "source": [
    "fig = plt.figure(figsize=(12,4))\n",
    "cf = plt.contourf(y_dim,v3_3d.lev,86400*2.5e6/1004*data.qt_evar[-144:,:45,:,:].mean(axis=(0,3))\n",
    "                 ,cmap='bone_r',levels=10)\n",
    "cbar = plt.colorbar(cf,shrink=0.7,pad=0.02)\n",
    "cbar.set_label('Evaporation of rain [K/day]')\n",
    "plt.xticks(np.linspace(0,480,9))\n",
    "plt.ylabel('Height [km]',fontsize=13)\n",
    "plt.xlabel('[km]',fontsize=13)\n",
    "plt.ylim([0,5])"
   ]
  },
  {
   "cell_type": "code",
   "execution_count": null,
   "metadata": {},
   "outputs": [],
   "source": []
  }
 ],
 "metadata": {
  "kernelspec": {
   "display_name": "Python 3",
   "language": "python",
   "name": "python3"
  },
  "language_info": {
   "codemirror_mode": {
    "name": "ipython",
    "version": 3
   },
   "file_extension": ".py",
   "mimetype": "text/x-python",
   "name": "python",
   "nbconvert_exporter": "python",
   "pygments_lexer": "ipython3",
   "version": "3.6.9"
  }
 },
 "nbformat": 4,
 "nbformat_minor": 4
}
