{
 "cells": [
  {
   "cell_type": "markdown",
   "metadata": {},
   "source": [
    "creating CM1 animations for precip and pwat<br>\n",
    "usage: python CM1_animations.py exp_file<br>\n",
    "date: Mar 2021"
   ]
  },
  {
   "cell_type": "code",
   "execution_count": 1,
   "metadata": {},
   "outputs": [],
   "source": [
    "import os\n",
    "import sys\n",
    "import numpy as np\n",
    "import xarray as xr\n",
    "from glob import glob\n",
    "import matplotlib.pyplot as plt\n",
    "import warnings\n",
    "from mpl_toolkits.axes_grid1 import make_axes_locatable\n",
    "from mpl_toolkits.axes_grid1.inset_locator import inset_axes\n",
    "# for animations\n",
    "from PIL import Image\n",
    "warnings.filterwarnings('ignore')"
   ]
  },
  {
   "cell_type": "markdown",
   "metadata": {},
   "source": [
    "define functions"
   ]
  },
  {
   "cell_type": "code",
   "execution_count": 2,
   "metadata": {},
   "outputs": [],
   "source": [
    "def running_mean(y,window_N):\n",
    "    y_avg = np.zeros(len(y))\n",
    "    avg_mask = np.ones(window_N) / window_N\n",
    "    y_avg = np.convolve(y, avg_mask, 'same')\n",
    "    return y_avg    "
   ]
  },
  {
   "cell_type": "code",
   "execution_count": 15,
   "metadata": {},
   "outputs": [],
   "source": [
    "def read_data(data_dir):\n",
    "    os.chdir(data_dir)\n",
    "    file_name = glob('*nc')\n",
    "    data_3d = xr.open_dataset('cm1out_sub3d.nc')\n",
    "    data_2d = xr.open_dataset('cm1out_2Dvars.nc')\n",
    "    # 3d data for wind vector and cold pool\n",
    "    th = data_3d.th[:,:20,:,:] # first 20 levels\n",
    "    qv = data_3d.qv[:,:20,:,:]\n",
    "    u = data_3d.uinterp[:,:20,:,:]\n",
    "    v = data_3d.vinterp[:,:20,:,:]\n",
    "\n",
    "    # 2d data\n",
    "    prate = data_2d.prate[:,:,:]\n",
    "    pwat = data_2d.pwat[:,:,:]\n",
    "    cwp = data_2d.cwp[:,:,:]\n",
    "    cape = data_2d.cape[:,:,:]\n",
    "    cin = data_2d.cin[:,:,:]\n",
    "        \n",
    "    return (th,qv,prate*3600*24,pwat*1000,u,v)"
   ]
  },
  {
   "cell_type": "code",
   "execution_count": 16,
   "metadata": {},
   "outputs": [],
   "source": [
    "#get weather or weather2 <br>\n",
    "#server = '/data2/willytsai/cm1r19.8/analysis/runs_cheyenne/'\n",
    "server = '/w2-data2/willytsai/cm1r19.8/analysis/runs_cheyenne'\n",
    "os.chdir(server)\n",
    "#exp_name = glob('CM1*')\n",
    "#print(exp_name)"
   ]
  },
  {
   "cell_type": "code",
   "execution_count": 17,
   "metadata": {},
   "outputs": [
    {
     "name": "stdout",
     "output_type": "stream",
     "text": [
      "EXP_NAME: CM1_LD2km_RAD4K_OPENMPshear_216x216_U15H2km_eqtset2\n"
     ]
    }
   ],
   "source": [
    "#exp_name = sys.argv[1] # input argument for experiment name\n",
    "exp_name = 'CM1_LD2km_RAD4K_OPENMPshear_216x216_U15H2km_eqtset2'\n",
    "print('EXP_NAME:' ,exp_name)"
   ]
  },
  {
   "cell_type": "code",
   "execution_count": 18,
   "metadata": {},
   "outputs": [],
   "source": [
    "(th1,qv1,prate1,pwat1,u1,v1) = read_data(server+'/'+exp_name)"
   ]
  },
  {
   "cell_type": "markdown",
   "metadata": {},
   "source": [
    "dimenstion variable"
   ]
  },
  {
   "cell_type": "code",
   "execution_count": 22,
   "metadata": {},
   "outputs": [],
   "source": [
    "x_dim = pwat1.lon\n",
    "y_dim = pwat1.lat\n",
    "z_dim = th1.lev\n",
    "t_dim = np.arange(pwat1.shape[0])/3 # hourly"
   ]
  },
  {
   "cell_type": "markdown",
   "metadata": {},
   "source": [
    "====== create animations ======"
   ]
  },
  {
   "cell_type": "code",
   "execution_count": 20,
   "metadata": {},
   "outputs": [
    {
     "data": {
      "text/plain": [
       "0"
      ]
     },
     "execution_count": 20,
     "metadata": {},
     "output_type": "execute_result"
    }
   ],
   "source": [
    "fig_dir = server+'/'+exp_name+'/fig'\n",
    "os.system('mkdir -p '+fig_dir)\n",
    "#print(fig_dir)"
   ]
  },
  {
   "cell_type": "code",
   "execution_count": 25,
   "metadata": {},
   "outputs": [
    {
     "data": {
      "text/plain": [
       "<xarray.DataArray 'lev' ()>\n",
       "array(0.955263)\n",
       "Coordinates:\n",
       "    lev      float64 0.9553\n",
       "Attributes:\n",
       "    axis:     Z"
      ]
     },
     "execution_count": 25,
     "metadata": {},
     "output_type": "execute_result"
    }
   ],
   "source": [
    "z_dim[7]"
   ]
  },
  {
   "cell_type": "code",
   "execution_count": 33,
   "metadata": {},
   "outputs": [
    {
     "data": {
      "text/plain": [
       "<xarray.DataArray 'uinterp' (lat: 36, lon: 36)>\n",
       "array([[-0.038347,  0.277196, -0.411898, ...,  0.322539, -1.198718, -0.107939],\n",
       "       [-1.48518 ,  0.246874, -0.678062, ..., -0.879206, -0.027241, -0.615266],\n",
       "       [-1.264522, -0.851405, -0.424229, ..., -0.700797, -1.362353, -0.543797],\n",
       "       ...,\n",
       "       [-2.083879, -1.446222, -1.845049, ...,  0.03252 ,  0.973009, -0.436216],\n",
       "       [-0.629946, -0.469701, -1.314882, ..., -0.04783 ,  0.4693  , -0.006432],\n",
       "       [-0.324528, -0.61902 , -0.719517, ...,  0.367842,  0.185212,  0.147094]],\n",
       "      dtype=float32)\n",
       "Coordinates:\n",
       "    time     object 0301-07-03 00:00:00\n",
       "  * lon      (lon) float64 1.0 13.0 25.0 37.0 49.0 ... 385.0 397.0 409.0 421.0\n",
       "  * lat      (lat) float64 1.0 13.0 25.0 37.0 49.0 ... 385.0 397.0 409.0 421.0\n",
       "    lev      float64 0.9553\n",
       "Attributes:\n",
       "    long_name:  u interpolated to scalar points (grid-relative)              ..."
      ]
     },
     "execution_count": 33,
     "metadata": {},
     "output_type": "execute_result"
    }
   ],
   "source": [
    "u1[t,7,::6,::6]"
   ]
  },
  {
   "cell_type": "code",
   "execution_count": null,
   "metadata": {},
   "outputs": [],
   "source": [
    "x_mesh,y_mesh = np.meshgrid(x_dim,y_dim)\n",
    "\n",
    "t = 300\n",
    "fig,ax = plt.subplots(1,1,figsize=(8,6))\n",
    "ax.contour(x_dim,y_dim,prate1[t,:,:],levels=[10,20],colors=['k']\n",
    "            ,linewidths=1)\n",
    "cf = ax.pcolor(x_dim,y_dim,pwat1[t,:,:],cmap='Spectral',\n",
    "           vmax=70,vmin=45)\n",
    "cbar = plt.colorbar(cf,ax=ax,shrink=0.8)\n",
    "Q = ax.quiver(x_mesh[::6,::6],y_mesh[::6,::6],u1[t,7,::6,::6].values,v1[t,7,::6,::6].values)\n",
    "qk = ax.quiverkey(Q, 0.65, 0.06, 10, r'10 [m/s]', labelpos='E',\n",
    "                   coordinates='figure')\n",
    "cbar.set_label('[mm]',fontsize=12)\n",
    "ax.set_title(exp_name+',  Time= '+ str(np.round(t/3,2)) + ' (h)',fontsize=14)\n",
    "ax.set_xlabel('[km]',fontsize=15)\n",
    "ax.set_ylabel('[km]',fontsize=15)\n",
    "\n",
    "for t in range(0,len(t_dim),3):\n",
    "    fig = plt.figure(figsize=(8,6))\n",
    "    plt.contour(x_dim,y_dim,prate1[t,:,:],levels=[10,20],colors=['k']\n",
    "            ,linewidths=1)\n",
    "    plt.pcolor(x_dim,y_dim,pwat1[t,:,:],cmap='Spectral',\n",
    "           vmax=65,vmin=45)\n",
    "    cbar = plt.colorbar(shrink=0.8)\n",
    "    cbar.set_label('[mm]',fontsize=12)\n",
    "    plt.title(exp_name+',  Time= '+ str(np.round(t/3,2)) + ' (h)',fontsize=14)\n",
    "\n",
    "    #     # save figs\n",
    "    if (t < 10):\n",
    "    plt.savefig(fig_dir+'/'+exp_name+'_000'+str(t)+'.png',dpi=300)\n",
    "    elif (10 <= t) and (t < 100):\n",
    "    plt.savefig(fig_dir+'/'+exp_name+'_00'+str(t)+'.png',dpi=300) \n",
    "    elif (100 <= t) and (t < 1000):\n",
    "    plt.savefig(fig_dir+'/'+exp_name+'_0'+str(t)+'.png',dpi=300)\n",
    "    else:\n",
    "    plt.savefig(fig_dir+'/'+exp_name+'_'+str(t)+'.png',dpi=300)\n",
    "    plt.close(fig)"
   ]
  },
  {
   "cell_type": "code",
   "execution_count": null,
   "metadata": {},
   "outputs": [],
   "source": [
    "fp_in = fig_dir+'/*.png'\n",
    "fp_out = fig_dir+'/'+exp_name+'.gif'"
   ]
  },
  {
   "cell_type": "code",
   "execution_count": null,
   "metadata": {},
   "outputs": [],
   "source": [
    "img, *imgs = [Image.open(f) for f in sorted(glob(fp_in))]\n",
    "img.save(fp=fp_out, format='GIF', append_images=imgs,\n",
    "          save_all=True, duration=200, loop=0)"
   ]
  }
 ],
 "metadata": {
  "kernelspec": {
   "display_name": "Python 3",
   "language": "python",
   "name": "python3"
  },
  "language_info": {
   "codemirror_mode": {
    "name": "ipython",
    "version": 3
   },
   "file_extension": ".py",
   "mimetype": "text/x-python",
   "name": "python",
   "nbconvert_exporter": "python",
   "pygments_lexer": "ipython3",
   "version": "3.6.9"
  }
 },
 "nbformat": 4,
 "nbformat_minor": 2
}
