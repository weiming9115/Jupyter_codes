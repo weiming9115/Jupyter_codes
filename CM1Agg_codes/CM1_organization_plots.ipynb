{
 "cells": [
  {
   "cell_type": "markdown",
   "metadata": {
    "hideCode": false,
    "hidePrompt": false
   },
   "source": [
    "### CM1 organization gradient standard output"
   ]
  },
  {
   "cell_type": "code",
   "execution_count": null,
   "metadata": {
    "hideCode": false,
    "hidePrompt": false
   },
   "outputs": [],
   "source": [
    "import sys\n",
    "import os\n",
    "import numpy as np\n",
    "import xarray as xr\n",
    "from glob import glob\n",
    "import matplotlib.pyplot as plt\n",
    "import warnings\n",
    "from mpl_toolkits.axes_grid1 import make_axes_locatable\n",
    "from mpl_toolkits.axes_grid1.inset_locator import inset_axes\n",
    "from matplotlib.patches import Rectangle\n",
    "import metpy.calc as mpc\n",
    "from metpy.units import units\n",
    "# for animations\n",
    "from PIL import Image"
   ]
  },
  {
   "cell_type": "code",
   "execution_count": null,
   "metadata": {
    "hideCode": false,
    "hidePrompt": false
   },
   "outputs": [],
   "source": [
    "warnings.filterwarnings('ignore')"
   ]
  },
  {
   "cell_type": "code",
   "execution_count": null,
   "metadata": {
    "hideCode": false,
    "hidePrompt": false
   },
   "outputs": [],
   "source": [
    "# aggregation indices\n",
    "os.chdir('/data2/willytsai/python_module')\n",
    "import conorgidx_revise as agi\n",
    "from SCAI_calc4obj import labeled_obj, SCAI_calc\n",
    "from COP_calc4obj import COP\n",
    "from MICA_calc4obj import MICA"
   ]
  },
  {
   "cell_type": "code",
   "execution_count": null,
   "metadata": {
    "hideCode": false,
    "hidePrompt": false
   },
   "outputs": [],
   "source": [
    "def running_mean(y,window_N):\n",
    "    y_avg = np.zeros(len(y))\n",
    "    avg_mask = np.ones(window_N) / window_N\n",
    "\n",
    "    y_avg = np.convolve(y, avg_mask, 'same')\n",
    "    y_avg[-window_N:] = y[-window_N:]\n",
    "    y_avg[:window_N] = y[:window_N]\n",
    "    return y_avg    "
   ]
  },
  {
   "cell_type": "code",
   "execution_count": null,
   "metadata": {
    "hideCode": false,
    "hidePrompt": false
   },
   "outputs": [],
   "source": [
    "def read_data(data_dir,t_start=0,t_end=721):\n",
    "    os.chdir(data_dir)\n",
    "    print(data_dir)\n",
    "    file_name = glob('*nc')\n",
    "    data_zon = xr.open_dataset('cm1out_zonmean.nc')\n",
    "    data_3d = xr.open_dataset('cm1out_sub3d.nc')\n",
    "    data_2d = xr.open_dataset('cm1out_2Dvars.nc')\n",
    "    \n",
    "    #3d data\n",
    "#    th3d = data_3d.th[t_start:t_end,:45,:,:]\n",
    "    v3d = data_3d.vinterp[t_start:t_end,:,:,:]\n",
    "    u3d = data_3d.uinterp[t_start:t_end,:,:,:]\n",
    "    w3d = data_3d.winterp[t_start:t_end,:,:,:]\n",
    "    \n",
    "    # zonal mean data\n",
    "    th = data_zon.th[t_start:t_end,:,:,:]\n",
    "    qv = data_zon.qv[t_start:t_end,:,:,:]\n",
    "#     u = data_zon.uinterp[t_start:t_end,:,:,:]\n",
    "#     v = data_zon.vinterp[t_start:t_end,:,:,:]\n",
    "#     w = data_zon.winterp[t_start:t_end,:,:,:]\n",
    "    qc = data_zon.qc[t_start:t_end,:,:,:]\n",
    "    qi = data_zon.qi[t_start:t_end,:,:,:]\n",
    "    prs = data_zon.prs[t_start:t_end,:,:,:]\n",
    "    # 2d data\n",
    "    prate = data_2d.prate[t_start:t_end,:,:]\n",
    "    pwat = data_2d.pwat[t_start:t_end,:,:]\n",
    "    cwp = data_2d.cwp[t_start:t_end,:,:]\n",
    "    cape = data_2d.cape[t_start:t_end,:,:]\n",
    "    cin = data_2d.cin[t_start:t_end,:,:]\n",
    "    \n",
    "    # temperature conversion\n",
    "    T = th/((1000*100/prs)**(287.15/1004))-273.15 # [degC]\n",
    "    # density \n",
    "    ro = prs/(287.15*(T+273.15))\n",
    "\n",
    "    x_dim = data_2d.lon\n",
    "    y_dim = data_2d.lat\n",
    "    #div = np.gradient(v,y_dim*1000,axis=2) # du/dx+dv/dy \n",
    "    #vor = -np.gradient(u,y_dim*1000,axis=2) # -du/dy+dv/dx\n",
    "    #relative humidty calculation, Buck (1996)\n",
    "    es_liq = 0.61121*np.exp((18.678-T/234.5)*(T/(257.14+T)))*10 #[hpa]\n",
    "    es_ice = 0.61115*np.exp((23.036-T/333.7)*(T/(279.82+T)))*10\n",
    "\n",
    "    qs_liq = 0.622*es_liq/(prs/100-es_liq)\n",
    "    qs_ice = 0.622*es_ice/(prs/100-es_ice)\n",
    "\n",
    "    rh = qv/qs_liq\n",
    "    rh_ice = qv/qs_ice\n",
    "\n",
    "    rh = rh.values.flatten()\n",
    "    rh_ice = rh_ice.values.flatten()\n",
    "    T_test = T.values.flatten()\n",
    "\n",
    "    rh[T_test<0] = rh_ice[T_test<0]\n",
    "    rh = rh.reshape((T.shape[0],T.shape[1],T.shape[2],T.shape[3]))\n",
    "    rh = xr.DataArray(rh,coords=[T.time,T.lev,T.lat,T.lon],dims=['time','lev','lat','lon'])\n",
    "    \n",
    "#    return (th,T,qv,qc,qi,rh,prate*3600*24,pwat*1000,cwp,u,v,w,div,vor,cape,cin,prs,ro,th3d,v3d,u3d)\n",
    "    return (th,T,qv,qc,qi,rh,prate*3600*24,pwat*1000,cwp,u3d,v3d,w3d,cape,cin,prs,ro)"
   ]
  },
  {
   "cell_type": "code",
   "execution_count": null,
   "metadata": {
    "hideCode": false,
    "hidePrompt": false
   },
   "outputs": [],
   "source": [
    "# get weather or weather2 \n",
    "server = '/data2/willytsai/cm1r19.8/analysis/runs_cheyenne/'\n",
    "exp_name = 'CM1_RAD4K_RCEP_240x240_S1_U104km'\n",
    "exp_short = 'LS_U05'\n",
    "#platform = 'weather'\n",
    "os.chdir(server + exp_name)\n",
    "os.system('mkdir -p fig') # create a figure archive\n",
    "fig_dir = server+'/'+exp_name+'/fig/' "
   ]
  },
  {
   "cell_type": "code",
   "execution_count": null,
   "metadata": {
    "hideCode": false,
    "hidePrompt": false
   },
   "outputs": [],
   "source": [
    "(th,T,qv,qc,qi,rh,prate,pwat,cwp,u3d,v3d,w3d,cape,cin,prs,ro) = read_data(server+exp_name\n",
    "                                                        ,t_start=360,t_end=721)"
   ]
  },
  {
   "cell_type": "code",
   "execution_count": null,
   "metadata": {},
   "outputs": [],
   "source": [
    "# #adding SFX for SFXint case\n",
    "# data = xr.open_dataset('cm1out_SFX.nc')\n",
    "# qfx = data.qfx*2.5e6\n",
    "# hfx = data.hfx"
   ]
  },
  {
   "cell_type": "code",
   "execution_count": null,
   "metadata": {
    "hideCode": false,
    "hidePrompt": false
   },
   "outputs": [],
   "source": [
    "x_dim = pwat.lon\n",
    "y_dim = pwat.lat\n",
    "z_dim = T.lev\n",
    "t_dim = np.arange(len(T.time))/3"
   ]
  },
  {
   "cell_type": "code",
   "execution_count": null,
   "metadata": {},
   "outputs": [],
   "source": [
    "# check theta profile\n",
    "fig = plt.figure(figsize=(5,5))\n",
    "plt.plot(th[0,:,:,0].mean(axis=1),z_dim,'k',label='INIT')\n",
    "plt.plot(th[-1,:,:,0].mean(axis=1),z_dim,'b',label='EQUI')\n",
    "plt.legend()\n",
    "plt.ylim([0,22]);plt.xlim([290,450])\n",
    "plt.xlabel('Theta [K]',fontsize=13)\n",
    "plt.ylabel('Height [km]',fontsize=13)\n",
    "fig.savefig(fig_dir+'theta_profile.pdf',bbox_inches='tight',transparent=False)"
   ]
  },
  {
   "cell_type": "code",
   "execution_count": null,
   "metadata": {
    "scrolled": true
   },
   "outputs": [],
   "source": [
    "fig,ax = plt.subplots(1,3,figsize=(15,5))\n",
    "ax[0].plot(th[-72:,:,:,0].mean(axis=(0,2))-th[0,:,:,0].mean(axis=1),z_dim,'k')\n",
    "ax[1].plot(1000*(qv[-72:,:,:,0].mean(axis=(0,2))-qv[0,:,:,0].mean(axis=1)),z_dim,'k')\n",
    "ax[2].plot((rh[-72:,:,:,0].mean(axis=(0,2))-rh[0,:,:,0].mean(axis=1))*100,z_dim,'k')\n",
    "\n",
    "ax[0].set_ylim([0,25]);#plt.xlim([-11,7])\n",
    "ax[0].set_xlabel('Theta [K]',fontsize=13)\n",
    "ax[0].set_ylabel('Height [km]',fontsize=13)\n",
    "      \n",
    "ax[1].set_ylim([0,25]);#plt.xlim([-11,7])\n",
    "ax[1].set_xlabel('qv [g/kg]',fontsize=13)\n",
    "ax[1].set_ylabel('Height [km]',fontsize=13)\n",
    "\n",
    "ax[2].set_ylim([0,25]);#plt.xlim([-11,7])\n",
    "ax[2].set_xlabel('RH [%]',fontsize=13)\n",
    "ax[2].set_ylabel('Height [km]',fontsize=13)"
   ]
  },
  {
   "cell_type": "code",
   "execution_count": null,
   "metadata": {},
   "outputs": [],
   "source": [
    "fig,ax = plt.subplots(1,1,figsize=(12,4))\n",
    "ax.plot(t_dim,pwat.mean(['lon','lat']),'-ob',zorder=1,label='PREC') # P in W/m^2\n",
    "#ax.plot(t_dim,np.ones(len(t_dim))*385,'k',label='LHF') # TFX W/m^2\n",
    "ax.legend()\n",
    "ax.set_xlabel('Time [hr]',fontsize=13)\n",
    "#ax.set_ylabel('Flux [W/m$^2$]',fontsize=13)\n",
    "ax.set_title(exp_name)\n",
    "# mm/d axis\n",
    "#ax2 = ax.twinx()\n",
    "#ax2.plot(t_dim,prate.mean(['lon','lat']),color='b',linewidth=.5,zorder=-1) # P in W/m^2\n",
    "#ax2.set_ylabel('[mm/d]',fontsize=13)\n",
    "fig.savefig(fig_dir+'PWAT_timeseries.pdf',fontsize=13)"
   ]
  },
  {
   "cell_type": "code",
   "execution_count": null,
   "metadata": {},
   "outputs": [],
   "source": [
    "fig,ax = plt.subplots(1,1,figsize=(12,4))\n",
    "ax.plot(t_dim,prate.mean(['lon','lat'])*2.5e6/86400,'b',zorder=1,label='PREC') # P in W/m^2\n",
    "ax.plot(t_dim,np.ones(len(t_dim))*385,'k',label='LHF') # TFX W/m^2\n",
    "ax.legend()\n",
    "ax.set_xlabel('Time [hr]',fontsize=13)\n",
    "ax.set_ylabel('Flux [W/m$^2$]',fontsize=13)\n",
    "ax.set_title(exp_name)\n",
    "# mm/d axis\n",
    "ax2 = ax.twinx()\n",
    "ax2.plot(t_dim,prate.mean(['lon','lat']),color='b',linewidth=.5,zorder=-1) # P in W/m^2\n",
    "ax2.set_ylabel('[mm/d]',fontsize=13)\n",
    "fig.savefig(fig_dir+'PRATE_SFX_timeseries.pdf',fontsize=13)"
   ]
  },
  {
   "cell_type": "code",
   "execution_count": null,
   "metadata": {},
   "outputs": [],
   "source": [
    "# # animations for U component evolution in the y-z plane\n",
    "\n",
    "# for t in range(0,len(t_dim),3):\n",
    "#     fig,ax = plt.subplots(1,1,figsize=(10,4))\n",
    "#     cf = ax.contourf(y_dim,z_dim[:60],pt1[t,:60,:,0],levels=np.linspace(1,10,16),cmap='jet')\n",
    "#     cbar = plt.colorbar(cf,ax=ax,shrink=0.8)\n",
    "#     cbar.set_label('U [m/s]',fontsize=13)\n",
    "#     cf2 = ax.contour(y_dim,z_dim[:60],pt1[t,:60,:,0],levels=[-5,-4,-3,-2,-1,1,2,3,4,5]\n",
    "#                      ,colors=['k'],linewidths=0.6)\n",
    "#     ax.set_xlabel('y [km]',fontsize=13)\n",
    "#     ax.set_ylabel('Height [km]',fontsize=13)\n",
    "    \n",
    "#     ax.set_title(exp_name+',  Time= '+ str(np.round(t/3,2)) + ' (h)',fontsize=14)\n",
    "\n",
    "# #     # save figs\n",
    "#     if (t < 10):\n",
    "#         plt.savefig(fig_dir+'/'+exp_name+'_000'+str(t)+'.png',dpi=300)\n",
    "#     elif (10 <= t) and (t < 100):\n",
    "#         plt.savefig(fig_dir+'/'+exp_name+'_00'+str(t)+'.png',dpi=300)\n",
    "#     elif (100 <= t) and (t < 1000):\n",
    "#         plt.savefig(fig_dir+'/'+exp_name+'_0'+str(t)+'.png',dpi=300)\n",
    "#     else:\n",
    "#         plt.savefig(fig_dir+'/'+exp_name+'_'+str(t)+'.png',dpi=300)\n",
    "#     plt.close(fig)\n",
    "# # end of loop\n",
    "# # save figures as gif\n",
    "# fp_in = fig_dir+'/*.png'\n",
    "# fp_out = fig_dir+'/'+exp_name+'.gif'"
   ]
  },
  {
   "cell_type": "code",
   "execution_count": null,
   "metadata": {},
   "outputs": [],
   "source": [
    "# img, *imgs = [Image.open(f) for f in sorted(glob(fp_in))]\n",
    "# img.save(fp=fp_out, format='GIF', append_images=imgs,\n",
    "#           save_all=True, duration=200, loop=0)"
   ]
  },
  {
   "cell_type": "code",
   "execution_count": null,
   "metadata": {},
   "outputs": [],
   "source": [
    "# soundings over 6 places\n",
    "y_pos = [13,39,52,65,91]\n",
    "color_snds = ['green','purple','purple','purple','green']\n",
    "ncol = [0,1,2,3,0,1,2,3]\n",
    "nrow = [0,0,0,0,1,1,1,1]\n",
    "pos_label = ['NS','A','A','A','NS']\n",
    "\n",
    "fig,ax = plt.subplots(1,1,figsize=(6,6))\n",
    "\n",
    "for n,(T,qv,prs) in enumerate(zip([T],[qv],\n",
    "                                 [prs])):\n",
    "    \n",
    "    mse = 1004*(T[-360:,:,:,0]+273.15).mean(axis=0)+2.5e6*qv[-360:,:,:,0].mean(axis=0) \\\n",
    "            +9.8*np.tile(z_dim*1000,reps=(len(y_dim),1)).swapaxes(0,1)\n",
    "    dse = 1004*(T[-360:,:,:,0]+273.15).mean(axis=0) \\\n",
    "            +9.8*np.tile(z_dim*1000,reps=(len(y_dim),1)).swapaxes(0,1)\n",
    "        \n",
    "    for p,y in enumerate(y_pos):\n",
    "    \n",
    "        # smse\n",
    "        qvs = mpc.saturation_mixing_ratio(prs[-360:,:,y,0].mean(axis=(0)).values/100*units('mbar')\n",
    "                            ,T[-360:,:,y,0].mean(axis=(0)).values*units('degC'))\n",
    "        smse = 1004*(T[-360:,:,y,0]+273.15).mean(axis=0)+2.5e6*qvs \\\n",
    "                +9.8*z_dim*1000\n",
    "        \n",
    "        ax.plot(dse[:,y]/1000,z_dim,color=color_snds[p],linestyle='--')\n",
    "        ax.plot(mse[:,y]/1000,z_dim,color=color_snds[p],linestyle='-',label=pos_label[p])\n",
    "        ax.plot(smse/1000,z_dim,color=color_snds[p],linestyle='-.')\n",
    "\n",
    "        ax.set_title(exp_name)\n",
    "        ax.set_ylim([0,12])\n",
    "        ax.set_xlim([325,350])\n",
    "        ax.grid(linestyle=':')\n",
    "ax.set_xlabel('MSE')\n",
    "ax.legend()"
   ]
  },
  {
   "cell_type": "code",
   "execution_count": null,
   "metadata": {},
   "outputs": [],
   "source": [
    "# # hovemuller diagram\n",
    "# fig,ax = plt.subplots(3,1,figsize=(13,9))\n",
    "# cf = ax[0].pcolor(t_dim,y_dim,pwat.mean('lon').T,cmap='Spectral',vmin=50,vmax=60)\n",
    "# cbaxes = inset_axes(ax[0], width=\"2%\",height=\"70%\",loc='lower left',\n",
    "#            bbox_to_anchor=(1.02,0.15, 1, 1),bbox_transform=ax[0].transAxes,\n",
    "#            borderpad=0)\n",
    "# cbar=fig.colorbar(cf,cax=cbaxes,orientation='vertical')\n",
    "# cbar.set_label('PW [mm]')\n",
    "\n",
    "# ax[0].contour(t_dim,y_dim,prate.mean('lon').T,levels=[20],colors=['k',]\n",
    "#              ,linewidths=1)\n",
    "# ax[1].plot(t_dim,prate.mean(('lon','lat')))\n",
    "# ax[1].set_xlim([0,t_dim[-1]])#;ax[1].set_ylim([7,18])\n",
    "# ax[2].plot(t_dim,pwat.mean(('lon','lat')))\n",
    "# ax[2].set_xlim([0,t_dim[-1]])#;ax[2].set_ylim([42,46])\n",
    "\n",
    "# ax[0].set_ylabel('[km]',fontsize=12)\n",
    "# ax[1].set_ylabel('[mm/d]',fontsize=12)\n",
    "# ax[2].set_ylabel('[mm]',fontsize=12)\n",
    "# ax[0].set_title(exp_name,fontsize=14)\n",
    "# ax[0].text(10,0.8*y_dim[-1],'contour=20[mm/d]',color='r',fontsize=12)\n",
    "# ax[1].grid(linestyle=':',linewidth=1)\n",
    "# ax[2].grid(linestyle=':',linewidth=1)\n",
    "# #fig.savefig(fig_dir+'PW_PREC_hovmuller.pdf',bbox_inches='tight')\n",
    "# #plt.close()\n",
    "# print('PW_PREC_hovmuller.pdf')"
   ]
  },
  {
   "cell_type": "code",
   "execution_count": null,
   "metadata": {},
   "outputs": [],
   "source": [
    "# fig,ax = plt.subplots(1,1,figsize=(13,3))\n",
    "# ax.plot(t_dim,(qfx+hfx).mean(('lon','lat'))[:2880],label='qfx+hfx')\n",
    "# ax.plot(t_dim,(qfx).mean(('lon','lat'))[:2880],'k',label='qfx')\n",
    "# ax.plot(t_dim,(hfx).mean(('lon','lat'))[:2880],'--k',label='hfx')\n",
    "\n",
    "# ax.set_ylabel('SFX [W/m$^2$]',fontsize=12)\n",
    "# ax.legend()\n",
    "# #fig.savefig(fig_dir+'SFX_hovmuller.pdf',bbox_inches='tight')\n",
    "# print('SFX_hovmuller.pdf')"
   ]
  },
  {
   "cell_type": "code",
   "execution_count": null,
   "metadata": {},
   "outputs": [],
   "source": [
    "# # hovemuller diagram\n",
    "# fig,ax = plt.subplots(3,1,figsize=(10,10))\n",
    "# cf = ax[0].pcolor(t_dim,y_dim,u[:,1,:,:].mean('lon').T,cmap='Spectral')\n",
    "# cbaxes = inset_axes(ax[0], width=\"2%\",height=\"70%\",loc='lower left',\n",
    "#            bbox_to_anchor=(1.02,0.15, 1, 1),bbox_transform=ax[0].transAxes,\n",
    "#            borderpad=0)\n",
    "# cbar=fig.colorbar(cf,cax=cbaxes,orientation='vertical')\n",
    "# cbar.set_label('U [m/s]')\n",
    "\n",
    "# cf = ax[1].pcolor(t_dim,y_dim,v[:,1,:,:].mean('lon').T,cmap='Spectral')\n",
    "# cbaxes = inset_axes(ax[1], width=\"2%\",height=\"70%\",loc='lower left',\n",
    "#            bbox_to_anchor=(1.02,0.15, 1, 1),bbox_transform=ax[1].transAxes,\n",
    "#            borderpad=0)\n",
    "# cbar=fig.colorbar(cf,cax=cbaxes,orientation='vertical')\n",
    "# cbar.set_label('V [m/s]')\n",
    "# ax[1].contourf(t_dim,y_dim,prate.mean('lon').T/24,levels=np.linspace(1,5,5),colors=['k'])\n",
    "\n",
    "# llconv = np.trapz(np.gradient(v[:,:8,:,:].mean('lon'),y_dim*1000,axis=2),z_dim[:8],axis=1)/z_dim[8].values # low-level mean convergence (sfc to 1km)\n",
    "# cf = ax[2].pcolor(t_dim,y_dim,llconv.T,cmap='Spectral')\n",
    "# cbaxes = inset_axes(ax[1], width=\"2%\",height=\"70%\",loc='lower left',\n",
    "#            bbox_to_anchor=(1.02,0.15, 1, 1),bbox_transform=ax[2].transAxes,\n",
    "#            borderpad=0)\n",
    "# cbar=fig.colorbar(cf,cax=cbaxes,orientation='vertical')\n",
    "# cbar.set_label('low-level divergence [1/s]')\n",
    "\n",
    "# ax[0].set_ylabel('[km]',fontsize=13)\n",
    "# ax[1].set_ylabel('[km]',fontsize=13)\n",
    "# ax[2].set_ylabel('[km]',fontsize=13)\n",
    "# ax[2].set_xlabel('[hr]',fontsize=13)\n",
    "# ax[0].set_title(exp_name,fontsize=12)\n",
    "\n",
    "# # ax[1].grid(linestyle=':',linewidth=1)\n",
    "# # ax[2].grid(linestyle=':',linewidth=1)\n",
    "# #fig.savefig(fig_dir+'PW_PREC_LLCOV_hovmuller.pdf',bbox_inches='tight')\n",
    "# #plt.close()\n",
    "# print('PW_PREC_LLCOV_hovmuller.pdf')"
   ]
  },
  {
   "cell_type": "code",
   "execution_count": null,
   "metadata": {},
   "outputs": [],
   "source": [
    "# # vertical profile t-z cross-section: T, qv, qi+qv, rh\n",
    "# fig,ax = plt.subplots(4,1,figsize=(13,12))\n",
    "# cf0=ax[0].contourf(t_dim,z_dim,T.mean(('lon','lat')).T)\n",
    "# cbar0=plt.colorbar(cf0,ax=ax[0]);cbar0.set_label('theta [K]')\n",
    "# cf1=ax[1].contourf(t_dim,z_dim,1000*qv.mean(('lon','lat')).T)\n",
    "# cbar1=plt.colorbar(cf1,ax=ax[1]);cbar1.set_label('qv [g/kg]')\n",
    "# cf2=ax[2].contourf(t_dim,z_dim,np.log10(1000*(qc+qi).mean(('lon','lat')).T))\n",
    "# cbar2=plt.colorbar(cf2,ax=ax[2]);cbar2.set_label('qc+qi')\n",
    "# cf3=ax[3].contourf(t_dim,z_dim,100*rh.mean(('lon','lat')).T)\n",
    "# cbar3=plt.colorbar(cf3,ax=ax[3]);cbar3.set_label('RH [%]')\n",
    "# fig.savefig(fig_dir+'Thermo_crosssect_tz.pdf',bbox_inches='tight')\n",
    "# plt.close()\n",
    "# print('Thermo_crosssect_tz.pdf')"
   ]
  },
  {
   "cell_type": "markdown",
   "metadata": {},
   "source": [
    "### Snapshot of evolutions"
   ]
  },
  {
   "cell_type": "code",
   "execution_count": null,
   "metadata": {},
   "outputs": [],
   "source": [
    "fig,ax = plt.subplots(1,4,figsize=(8,4))\n",
    "\n",
    "t=306\n",
    "\n",
    "cf = ax[0].pcolor(x_dim,y_dim,prate[t,:,:]/24,vmin=.5,cmap='jet');cf.set_clim(.5,60)\n",
    "cf = ax[1].pcolor(x_dim,y_dim,prate[t+6,:,:]/24,vmin=.5,cmap='jet');cf.set_clim(.5,60)\n",
    "cf = ax[2].pcolor(x_dim,y_dim,prate[t+12,:,:]/24,vmin=.5,cmap='jet');cf.set_clim(.5,60)\n",
    "cf = ax[3].pcolor(x_dim,y_dim,prate[t+18,:,:]/24,vmin=.5,cmap='jet');cf.set_clim(.5,60)\n",
    "cf.cmap.set_under('white')\n",
    "\n",
    "ax[0].set_title('t= '+str(t//3)+' (h)',loc='right',fontsize=12)\n",
    "ax[1].set_title('t= '+str((t+6)//3)+' (h)',loc='right',fontsize=12)\n",
    "ax[2].set_title('t= '+str((t+12)//3)+' (h)',loc='right',fontsize=12)\n",
    "ax[3].set_title('t= '+str((t+18)//3)+' (h)',loc='right',fontsize=12)\n",
    "ax[0].text(30,450,exp_short,color='r',fontweight='bold')\n",
    "\n",
    "ax[0].set_xlabel('[km]',fontsize=13)\n",
    "ax[1].set_xlabel('[km]',fontsize=13)\n",
    "ax[2].set_xlabel('[km]',fontsize=13)\n",
    "ax[3].set_xlabel('[km]',fontsize=13)\n",
    "ax[0].set_ylabel('[km]',fontsize=13)\n",
    "\n",
    "ax[0].set_aspect('equal')\n",
    "ax[1].set_aspect('equal')\n",
    "ax[2].set_aspect('equal')\n",
    "ax[3].set_aspect('equal')\n",
    "plt.tight_layout(h_pad=0.2)\n",
    "\n",
    "fig.savefig(fig_dir+'prate_snapshots.pdf',bbox_inches='tight')\n",
    "#plt.close()\n",
    "print('prate_snapshots.pdf')"
   ]
  },
  {
   "cell_type": "code",
   "execution_count": null,
   "metadata": {},
   "outputs": [],
   "source": [
    "fig,ax = plt.subplots(1,4,figsize=(16,4))\n",
    "\n",
    "t=306\n",
    "\n",
    "cf = ax[0].pcolor(pwat[t,:,:],vmin=35,cmap='jet');cf.set_clim(50,60)\n",
    "cf = ax[1].pcolor(pwat[t+6,:,:],vmin=35,cmap='jet');cf.set_clim(50,60)\n",
    "cf = ax[2].pcolor(pwat[t+12,:,:],vmin=35,cmap='jet');cf.set_clim(50,60)\n",
    "cf = ax[3].pcolor(pwat[t+18,:,:],vmin=35,cmap='jet');cf.set_clim(50,60)\n",
    "cf.cmap.set_under('white')\n",
    "\n",
    "ax[0].set_title('t= '+str(t//3)+' (h)',loc='right',fontsize=12)\n",
    "ax[1].set_title('t= '+str((t+6)//3)+' (h)',loc='right',fontsize=12)\n",
    "ax[2].set_title('t= '+str((t+12)//3)+' (h)',loc='right',fontsize=12)\n",
    "ax[3].set_title('t= '+str((t+18)//3)+' (h)',loc='right',fontsize=12)\n",
    "ax[0].set_xlabel('[km]',fontsize=13)\n",
    "ax[0].set_ylabel('[km]',fontsize=13)\n",
    "plt.tight_layout()\n",
    "\n",
    "#fig.savefig(fig_dir+'pwat_snapshots.pdf',bbox_inches='tight')\n",
    "#plt.close()\n",
    "print('pwta_snapshots.pdf')"
   ]
  },
  {
   "cell_type": "code",
   "execution_count": null,
   "metadata": {
    "hideCode": false,
    "hidePrompt": false
   },
   "outputs": [],
   "source": [
    "#Z = np.tile(z_dim*1000,reps=(len(t_dim),len(y_dim),1)).swapaxes(1,2)"
   ]
  },
  {
   "cell_type": "code",
   "execution_count": null,
   "metadata": {
    "hideCode": false,
    "hidePrompt": false
   },
   "outputs": [],
   "source": [
    "# # MSE time-series\n",
    "# vint_mse = np.zeros((len(t_dim),216))\n",
    "# vint_Lqv = np.copy(vint_mse)\n",
    "# vint_CpT = np.copy(vint_mse)\n",
    "\n",
    "# for n,(T,qv) in enumerate(zip([T],[qv])):\n",
    "#     vint_mse[:,:] = np.trapz(1004*(T.squeeze()+273.15)+9.8*Z*1000+2.5e6*qv.squeeze(),z_dim*1000,axis=1).squeeze()\n",
    "#     vint_Lqv[:,:] = np.trapz(2.5e6*qv,z_dim*1000,axis=1).squeeze()\n",
    "#     vint_CpT[:,:] = np.trapz(1004*(T+273.15),z_dim*1000,axis=1).squeeze()"
   ]
  },
  {
   "cell_type": "code",
   "execution_count": null,
   "metadata": {
    "hideCode": false,
    "hidePrompt": false
   },
   "outputs": [],
   "source": [
    "# # decompose into <T> & <qv> contributions\n",
    "# fig = plt.figure(figsize=(10,5))\n",
    "\n",
    "# plt.plot(t_dim,vint_CpT[:,:].mean(axis=1)/1000-vint_CpT[0,:].mean()/1000,color='r',label=exp_name,\n",
    "#             linewidth=1.8)\n",
    "# plt.legend(frameon=False)\n",
    "    \n",
    "# plt.xlim([0,240])\n",
    "# plt.ylabel('Vint_CpT [KJ/kg*m]')\n",
    "# plt.xlabel('Time [hr]')\n",
    "# plt.grid(linestyle=':')"
   ]
  },
  {
   "cell_type": "code",
   "execution_count": null,
   "metadata": {
    "hideCode": false,
    "hidePrompt": false
   },
   "outputs": [],
   "source": [
    "# # decompose into <T> & <qv> contributions\n",
    "# fig = plt.figure(figsize=(10,5))\n",
    "\n",
    "# plt.plot(t_dim,vint_Lqv[:,:].mean(axis=1)/1000-vint_Lqv[0,:].mean()/1000,color='r',label=exp_name,\n",
    "#             linewidth=1.8)\n",
    "# plt.legend(frameon=False)\n",
    "    \n",
    "# plt.xlim([0,240])\n",
    "# plt.ylabel('Vint_Lqv [KJ/kg*m]')\n",
    "# plt.xlabel('Time [hr]')\n",
    "# plt.grid(linestyle=':')"
   ]
  },
  {
   "cell_type": "code",
   "execution_count": null,
   "metadata": {},
   "outputs": [],
   "source": [
    "data_CTRL = xr.open_dataset('../CM1_RAD4K_MPI_SFXint/cm1out_2Dvars.nc')\n",
    "prate_CTRL = 24*3600*data_CTRL.prate[-72:,:,:].mean().values # mm/d"
   ]
  },
  {
   "cell_type": "code",
   "execution_count": null,
   "metadata": {
    "hideCode": false,
    "hidePrompt": false
   },
   "outputs": [],
   "source": [
    "# plotting zonal mean\n",
    "# y cross-section\n",
    "marker_label=['s','o']\n",
    "\n",
    "fig,ax = plt.subplots(2,1,figsize=(9,6))\n",
    "\n",
    "pwat_mn = np.nanmean(pwat[-360:,:,:],axis=(0,2))\n",
    "pwat_p1std = np.nanmean(pwat[-360:,:,:],axis=(0,2)) + np.nanstd(pwat[-360:,:,:],axis=(0,2))/np.sqrt(360)\n",
    "pwat_m1std = np.nanmean(pwat[-360:,:,:],axis=(0,2)) - np.nanstd(pwat[-360:,:,:],axis=(0,2))/np.sqrt(360)\n",
    "ax[0].plot(y_dim,pwat_mn,color='r'\n",
    "          ,label=exp_name,linewidth=2)\n",
    "ax[0].fill_between(y_dim,pwat_m1std,pwat_mn,facecolor='gainsboro')\n",
    "ax[0].fill_between(y_dim,pwat_p1std,pwat_mn,facecolor='gainsboro')\n",
    "\n",
    "prate_mn = np.nanmean(prate[-360:,:,:],axis=(0,2))\n",
    "prate_p1std = np.nanmean(prate[-360:,:,:],axis=(0,2)) + np.nanstd(prate[-360:,:,:],axis=(0,2))/np.sqrt(360)\n",
    "prate_m1std = np.nanmean(prate[-360:,:,:],axis=(0,2)) - np.nanstd(prate[-360:,:,:],axis=(0,2))/np.sqrt(360)\n",
    "\n",
    "ax[1].plot(y_dim,prate_mn,color='b'\n",
    "          ,label=exp_name,linewidth=2)\n",
    "ax[1].fill_between(y_dim,prate_m1std,prate_mn,facecolor='gainsboro')\n",
    "ax[1].fill_between(y_dim,prate_p1std,prate_mn,facecolor='gainsboro')\n",
    "# add CTRL prate\n",
    "prate_CTRL = np.ones(len(y_dim))*prate_CTRL\n",
    "ax[1].plot(y_dim,prate_CTRL,color='k')\n",
    "\n",
    "ax[0].legend(frameon=False,fontsize=8,ncol=2);\n",
    "ax[0].set_xlabel('y direction [km]',fontsize=14)#;ax[0].set_ylim([57,63])\n",
    "ax[0].set_ylabel('CWV [mm]',fontsize=14)\n",
    "ax[1].set_xlabel('y direction [km]',fontsize=14)#;ax[1].set_ylim([5,15])\n",
    "ax[1].set_ylabel('Prec [mm/d]',fontsize=14)\n",
    "ax[0].set_xlim([0,y_dim[-1]])\n",
    "ax[1].set_xlim([0,y_dim[-1]])\n",
    "ax[1].set_ylim([6,20])\n",
    "plt.tight_layout(h_pad=1)\n",
    "ax[0].grid(linestyle=':')\n",
    "ax[1].grid(linestyle=':')\n",
    "ax[1].legend(frameon=False,fontsize=8,ncol=2);\n",
    "ax[0].tick_params(labelsize=11)\n",
    "ax[1].tick_params(labelsize=11)\n",
    "\n",
    "ax[0].spines['right'].set_visible(False)\n",
    "ax[0].spines['top'].set_visible(False)\n",
    "ax[1].spines['right'].set_visible(False)\n",
    "ax[1].spines['top'].set_visible(False)\n",
    "\n",
    "fig.savefig(fig_dir+'PWAT_PREC_crossection.pdf',dpi=200,bbox_inches='tight')\n",
    "#plt.close()\n",
    "#print('PWAT_PREC_crossection.pdf')"
   ]
  },
  {
   "cell_type": "code",
   "execution_count": null,
   "metadata": {},
   "outputs": [],
   "source": [
    "# fig = plt.figure(figsize=(12,3))\n",
    "\n",
    "# plt.contourf(y_dim,z_dim,u[719,:,:,0])\n",
    "# plt.colorbar()\n",
    "# plt.title(exp_name + ', U wind [m/s]')\n",
    "# plt.ylim([0,10])\n",
    "# plt.ylabel('Height [km]',fontsize=13)\n",
    "# plt.xlabel('y direction [km]',fontsize=13)"
   ]
  },
  {
   "cell_type": "code",
   "execution_count": null,
   "metadata": {},
   "outputs": [],
   "source": [
    "# fig = plt.figure(figsize=(12,3))\n",
    "\n",
    "# plt.contourf(y_dim,z_dim,v[-100:,:,:,0].mean(axis=0))\n",
    "# plt.colorbar()\n",
    "# plt.title(exp_name + ', V wind [m/s]')\n",
    "# plt.ylim([0,10])\n",
    "# plt.ylabel('Height [km]',fontsize=13)\n",
    "# plt.xlabel('y direction [km]',fontsize=13)"
   ]
  },
  {
   "cell_type": "code",
   "execution_count": null,
   "metadata": {
    "hideCode": false,
    "hidePrompt": false
   },
   "outputs": [],
   "source": [
    "# streamfunction, anelastic + boussinesq==> grad(ro*V) = 0\n",
    "strmf = np.zeros((360,len(z_dim),len(y_dim)))\n",
    "v = v3d.mean('lon')\n",
    "\n",
    "for t in range(360):\n",
    "    for n in range(len(z_dim)):\n",
    "        #v_mean = v[t,:n,:].mean(axis=1)\n",
    "        strmf[t,n,:] = np.trapz(ro[t,:n,:,0]*(v[t,:n,:]),z_dim[:n]*1000,axis=0) "
   ]
  },
  {
   "cell_type": "code",
   "execution_count": null,
   "metadata": {
    "hideCode": false,
    "hidePrompt": false
   },
   "outputs": [],
   "source": [
    "# # U cross section\n",
    "# fig,ax = plt.subplots(len(exp_name)-1,1,figsize=(8,10))\n",
    "\n",
    "# for n,u in enumerate([u1]):\n",
    "#     cf=ax[n].contourf(y_dim,z_dim,u[:,:,0],levels=np.linspace(1,15,8),linewidths=2,cmap='RdBu')\n",
    "#     #ax[n].contour(y_dim,z_dim,v[-360:,:,:,0].mean(axis=0),levels=[0],colors='k')\n",
    "#     #ax[n].contour(y_dim,z_dim,T[-360:,:,:,0].mean(axis=0),levels=['40'],linewidths=2,colors=['grey'])\n",
    "#     #ax[n].set_ylim([0,18])\n",
    "#     if n == 4:\n",
    "#         cbaxes = inset_axes(ax[n], width=\"2%\",height=\"70%\",loc='lower left',\n",
    "#                    bbox_to_anchor=(1.02,0.15, 1, 1),bbox_transform=ax[n].transAxes,\n",
    "#                    borderpad=0) \n",
    "#         cbar=fig.colorbar(cf,cax=cbaxes,orientation='vertical',shrink=1)\n",
    "#         cbar.set_label('U [m/s]')\n",
    "\n",
    "#     ax[n].set_ylabel('height [km]',fontsize=13)\n",
    "#     ax[n].grid(linestyle=':')\n",
    "#     ax[n].set_title(exp_label[n+1],fontsize=14,loc='right')\n",
    "#     ax[n].set_ylim([0,6])    \n",
    "#     ax[n].set_xlabel('y direction [km]',fontsize=13)\n",
    "# plt.tight_layout()\n",
    "# fig.savefig(fig_out+'Ushear_crossection.png',dip=200,bbox_inches='tight')\n",
    "# plt.close()\n",
    "# print('Ushear_crossection.png')"
   ]
  },
  {
   "cell_type": "code",
   "execution_count": null,
   "metadata": {
    "hideCode": false,
    "hidePrompt": false
   },
   "outputs": [],
   "source": [
    "# # V cross section\n",
    "# fig,ax = plt.subplots(len(exp_name)-1,1,figsize=(8,10))\n",
    "\n",
    "# for n,v in enumerate([v2,v3,v4,v5,v6]):\n",
    "#     cf=ax[n].contourf(y_dim,z_dim,v[-360:,:,:,0].mean(axis=0),levels=np.linspace(-1.5,1.5,21),linewidths=2,cmap='RdBu')\n",
    "#     ax[n].contour(y_dim,z_dim,v[-360:,:,:,0].mean(axis=0),levels=[0],colors='k')\n",
    "#     #ax[n].contour(y_dim,z_dim,T[-360:,:,:,0].mean(axis=0),levels=['40'],linewidths=2,colors=['grey'])\n",
    "#     ax[n].set_ylim([0,18])\n",
    "#     if n == 0:\n",
    "#         cbaxes = inset_axes(ax[n], width=\"2%\",height=\"70%\",loc='lower left',\n",
    "#                    bbox_to_anchor=(1.02,0.15, 1, 1),bbox_transform=ax[0].transAxes,\n",
    "#                    borderpad=0) \n",
    "#         cbar=fig.colorbar(cf,cax=cbaxes,orientation='vertical',shrink=1)\n",
    "\n",
    "#     ax[n].set_ylabel('height [km]',fontsize=13)\n",
    "#     ax[n].grid(linestyle=':')\n",
    "#     ax[n].set_title(exp_name[n+1],fontsize=14)\n",
    "    \n",
    "# ax[n].set_xlabel('y direction [km]',fontsize=13)\n",
    "# plt.tight_layout()"
   ]
  },
  {
   "cell_type": "code",
   "execution_count": null,
   "metadata": {
    "hideCode": false,
    "hidePrompt": false
   },
   "outputs": [],
   "source": [
    "# # soundings over 6 places\n",
    "# y_pos = [26,52,78,104,130,156,182]\n",
    "# color_snds = ['green','r','purple','purple','purple','r','green']\n",
    "# ncol = [0,1,2,3,0,1,2,3]\n",
    "# nrow = [0,0,0,0,1,1,1,1]\n",
    "# pos_label = ['NS','EG1','S','S','S','EG2','NS']\n",
    "\n",
    "# fig,ax = plt.subplots(2,4,figsize=(20,10))\n",
    "\n",
    "# for n,(T,qv,prs) in enumerate(zip([T1,T2,T3,T4,T5,T6],[qv1,qv2,qv3,qv4,qv5,qv6],\n",
    "#                                  [prs1,prs2,prs3,prs4,prs5,prs6])):\n",
    "    \n",
    "#     mse = 1004*(T[-360:,:,:,0]+273.15).mean(axis=0)+2.5e6*qv[-360:,:,:,0].mean(axis=0) \\\n",
    "#             +9.8*np.tile(z_dim*1000,reps=(len(y_dim),1)).swapaxes(0,1)\n",
    "#     dse = 1004*(T[-360:,:,:,0]+273.15).mean(axis=0) \\\n",
    "#             +9.8*np.tile(z_dim*1000,reps=(len(y_dim),1)).swapaxes(0,1)\n",
    "        \n",
    "#     for p,y in enumerate(y_pos):\n",
    "    \n",
    "#         # smse\n",
    "#         qvs = mpc.saturation_mixing_ratio(prs[-360:,:,y,0].mean(axis=(0)).values/100*units('mbar')\n",
    "#                             ,T[-360:,:,y,0].mean(axis=(0)).values*units('degC'))\n",
    "#         smse = 1004*(T[-360:,:,y,0]+273.15).mean(axis=0)+2.5e6*qvs \\\n",
    "#                 +9.8*z_dim*1000\n",
    "        \n",
    "#         ax[nrow[n],ncol[n]].plot(dse[:,y]/1000,z_dim,color=color_snds[p],linestyle='--')\n",
    "#         ax[nrow[n],ncol[n]].plot(mse[:,y]/1000,z_dim,color=color_snds[p],linestyle='-',label=pos_label[p])\n",
    "#         ax[nrow[n],ncol[n]].plot(smse/1000,z_dim,color=color_snds[p],linestyle='-.')\n",
    "\n",
    "#         ax[nrow[n],ncol[n]].set_title(exp_label[n])\n",
    "#         ax[nrow[n],ncol[n]].set_ylim([0,18])\n",
    "#         ax[nrow[n],ncol[n]].set_xlim([300,360])\n",
    "#         ax[nrow[n],ncol[n]].grid(linestyle=':')\n",
    "# ax[0,0].legend()"
   ]
  },
  {
   "cell_type": "code",
   "execution_count": null,
   "metadata": {
    "hideCode": false,
    "hidePrompt": false
   },
   "outputs": [],
   "source": [
    "# # soundings over 6 places, cape and cin values\n",
    "# y_pos = [26,52,78,104,130,156,182]\n",
    "# color_snds = ['green','r','purple','purple','purple','r','green']\n",
    "# #nrow = [0,0,1,1,2,2,3]\n",
    "# #ncol = [0,1,0,1,0,1,0]\n",
    "# pos_label = ['NS','EG1','S','S','S','EG2','NS']\n",
    "\n",
    "# fig,ax = plt.subplots(1,2,figsize=(10,5))\n",
    "\n",
    "# for n,(cape,cin) in enumerate(zip([cape1,cape2,cape3,cape4,cape5,cape6]\n",
    "#                                   ,[cin1,cin2,cin3,cin4,cin5,cin6])):    \n",
    "#     for p,y in enumerate(y_pos):\n",
    "#         ax[0].plot(p,cape[-360:,y,:].mean(),'^',color=color_label[n])\n",
    "#         ax[1].plot(p,cin[-360:,y,:].mean(),'o',color=color_label[n])\n",
    "\n",
    "# ax[0].set_xticks(np.arange(len(y_pos)))\n",
    "# ax[1].set_xticks(np.arange(len(y_pos)))\n",
    "# ax[0].set_xticklabels(pos_label)\n",
    "# ax[1].set_xticklabels(pos_label)"
   ]
  },
  {
   "cell_type": "code",
   "execution_count": null,
   "metadata": {},
   "outputs": [],
   "source": [
    "# # Relative humdity profile\n",
    "# fig,ax = plt.subplots(1,1,figsize=(5,6))\n",
    "# ax.plot(rh[-360:,:,:,0].mean(axis=(0,2)),z_dim,'k')\n",
    "# ax2 = ax.twiny()\n",
    "# ax2.plot(1000*qv[-360:,:,:,0].mean(axis=(0,2)),z_dim,'b')\n",
    "# ax2.set_xlabel('Specific humidity',fontsize=13,color='b')\n",
    "# ax.set_xlabel('Relative humidity',fontsize=13)\n",
    "# ax.set_ylabel('Height [m]',fontsize=13)\n",
    "# ax.set_ylim([0,12]);ax.set_xlim([0.4,1])\n",
    "# ax2.set_xlim([0,17])\n",
    "# ax.legend([exp_name])\n",
    "# #fig.savefig(fig_dir+'RH_qv_DMprofile.pdf',bbox_inches='tight',transparent=False)"
   ]
  },
  {
   "cell_type": "code",
   "execution_count": null,
   "metadata": {},
   "outputs": [],
   "source": [
    "u3d.shape"
   ]
  },
  {
   "cell_type": "code",
   "execution_count": null,
   "metadata": {},
   "outputs": [],
   "source": [
    "plt.contourf(y_dim,z_dim,u3d[-1,:,:,:].mean('lon'))\n",
    "plt.colorbar()"
   ]
  },
  {
   "cell_type": "code",
   "execution_count": null,
   "metadata": {
    "hideCode": false,
    "hidePrompt": false
   },
   "outputs": [],
   "source": [
    "fig,ax = plt.subplots(figsize=(8,4))\n",
    "clevs = np.linspace(-1000,1000,21)\n",
    "\n",
    "for n,(strmf,rh) in enumerate(zip([strmf]\n",
    "                         ,[rh])):\n",
    "    ax.contour(y_dim,z_dim,strmf[-360:,:,:].mean(axis=0),levels=clevs,linewidths=1,colors='k')\n",
    "    ax.contour(y_dim,z_dim,strmf[-360:,:,:].mean(axis=0),levels=['0'],linewidths=2,colors=['w'])\n",
    "    cf = ax.pcolor(y_dim,z_dim,100*rh[-360:,:,:,0].mean(axis=0),vmin=40,vmax=100,cmap='BrBG')\n",
    "    ax.set_ylim([0,18])\n",
    "\n",
    "    ax.set_ylabel('height [km]',fontsize=13)\n",
    "    ax.grid(linestyle=':')\n",
    "    ax.set_title(exp_name,fontsize=14,loc='right')\n",
    "    ax.set_xlabel('y direction [km]',fontsize=13)\n",
    "    \n",
    "    cbaxes = fig.add_axes([1.01, 0.2, 0.02, 0.6]) \n",
    "    cb = plt.colorbar(cf, cax = cbaxes)  \n",
    "    cb.set_label('Relative humidity [%]',fontsize=13)\n",
    "    \n",
    "plt.tight_layout()\n",
    "fig.savefig(fig_dir+'rh_strm_crosssection.pdf',dip=200,bbox_inches='tight')\n",
    "#plt.close()\n",
    "print(fig_dir+'rh_strm_crosssection.pdf')"
   ]
  },
  {
   "cell_type": "code",
   "execution_count": null,
   "metadata": {
    "hideCode": false,
    "hidePrompt": false
   },
   "outputs": [],
   "source": [
    "# cloud fraction \n",
    "cld_mask = np.copy(qc)*0\n",
    "cld_mask[qc+qi>1e-5] = 1\n",
    "\n",
    "fig,ax = plt.subplots(1,3,figsize=(15,5))\n",
    " \n",
    "cf = ax[0].pcolor(y_dim,z_dim,qc[-360:,:,:,0].mean(axis=0)+qi[-360:,:,:,0].mean(axis=0),vmin=1e-5,vmax=7*1e-5,cmap='jet')\n",
    "cbar = plt.colorbar(cf,ax=ax[0],shrink=0.7)\n",
    "cbar.set_label('qc+qi')\n",
    "ax[0].set_ylim([0,18])\n",
    "\n",
    "ax[0].set_ylabel('height [km]',fontsize=13)\n",
    "ax[0].grid(linestyle=':')\n",
    "ax[0].set_title(exp_name,fontsize=12)\n",
    "\n",
    "cf = ax[1].pcolor(y_dim,z_dim,cld_mask[-360:,:,:,0].mean(axis=0),cmap='jet')\n",
    "cbar = plt.colorbar(cf,ax=ax[1],shrink=0.7)\n",
    "cbar.set_label('cloud fraction')\n",
    "ax[1].set_ylim([0,18])\n",
    "\n",
    "cld_s = np.nanmean(cld_mask[-360:,:,90:170,0],axis=(0,2))\n",
    "cld_ns = 0.5*(np.nanmean(cld_mask[-360:,:,:40,0],axis=(0,2)) + np.nanmean(cld_mask[-360:,:,-40:,0],axis=(0,2)))\n",
    "\n",
    "ax[2].plot(cld_s,z_dim,'-k',label='S')\n",
    "ax[2].plot(cld_ns,z_dim,'-r',label='NS')\n",
    "ax[2].set_ylabel('height [km]',fontsize=13)\n",
    "ax[2].set_ylim([0,18]);ax[2].legend()\n",
    "ax[2].set_xlim([0,1])\n",
    "ax[2].set_xlabel('Cloud fraction',fontsize=13)\n",
    "\n",
    "ax[1].set_ylabel('height [km]',fontsize=13)\n",
    "ax[1].grid(linestyle=':')\n",
    "ax[1].set_title(exp_name,fontsize=12)\n",
    "ax[0].set_xlabel('y direction [km]',fontsize=13)\n",
    "ax[1].set_xlabel('y direction  [km]',fontsize=13)\n",
    "\n",
    "plt.tight_layout()\n",
    "fig.savefig(fig_dir+'qcqi_cldfrac_crosssection.pdf',dip=200,bbox_inches='tight')\n",
    "#plt.close()\n",
    "print('qcqi_cldfrac_crosssection.pdf')"
   ]
  },
  {
   "cell_type": "markdown",
   "metadata": {},
   "source": [
    "### W variances in space and time"
   ]
  },
  {
   "cell_type": "code",
   "execution_count": null,
   "metadata": {},
   "outputs": [],
   "source": [
    "fig,ax = plt.subplots(1,1,figsize=(12,4))\n",
    "cf=plt.contourf(t_dim[-360:],y_dim,w3d[-360:,14,:,:].mean('lon').T,cmap='jet')\n",
    "plt.colorbar(cf)"
   ]
  },
  {
   "cell_type": "code",
   "execution_count": null,
   "metadata": {},
   "outputs": [],
   "source": [
    "fig,ax = plt.subplots(1,1,figsize=(12,4))\n",
    "cf=plt.contourf(t_dim[-360:],y_dim,w3d[-360:,14,:,:].var('lon').T,cmap='jet')\n",
    "plt.colorbar(cf)"
   ]
  },
  {
   "cell_type": "code",
   "execution_count": null,
   "metadata": {},
   "outputs": [],
   "source": []
  },
  {
   "cell_type": "code",
   "execution_count": null,
   "metadata": {},
   "outputs": [],
   "source": []
  }
 ],
 "metadata": {
  "celltoolbar": "Hide code",
  "hide_code_all_hidden": false,
  "kernelspec": {
   "display_name": "Python 3",
   "language": "python",
   "name": "python3"
  },
  "language_info": {
   "codemirror_mode": {
    "name": "ipython",
    "version": 3
   },
   "file_extension": ".py",
   "mimetype": "text/x-python",
   "name": "python",
   "nbconvert_exporter": "python",
   "pygments_lexer": "ipython3",
   "version": "3.6.9"
  }
 },
 "nbformat": 4,
 "nbformat_minor": 4
}
