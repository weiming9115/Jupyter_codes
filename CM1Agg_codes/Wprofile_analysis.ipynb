{
 "cells": [
  {
   "cell_type": "markdown",
   "metadata": {
    "hideCode": false,
    "hidePrompt": false
   },
   "source": [
    "### CM1 organization gradient standard output"
   ]
  },
  {
   "cell_type": "code",
   "execution_count": 1,
   "metadata": {
    "hideCode": false,
    "hidePrompt": false
   },
   "outputs": [],
   "source": [
    "import sys\n",
    "import os\n",
    "import numpy as np\n",
    "import xarray as xr\n",
    "from glob import glob\n",
    "import matplotlib.pyplot as plt\n",
    "import warnings\n",
    "from mpl_toolkits.axes_grid1 import make_axes_locatable\n",
    "from mpl_toolkits.axes_grid1.inset_locator import inset_axes\n",
    "from matplotlib.patches import Rectangle\n",
    "import metpy.calc as mpc\n",
    "from metpy.units import units\n",
    "# for animations\n",
    "from PIL import Image"
   ]
  },
  {
   "cell_type": "code",
   "execution_count": 2,
   "metadata": {
    "hideCode": false,
    "hidePrompt": false
   },
   "outputs": [],
   "source": [
    "warnings.filterwarnings('ignore')"
   ]
  },
  {
   "cell_type": "code",
   "execution_count": 3,
   "metadata": {
    "hideCode": false,
    "hidePrompt": false
   },
   "outputs": [],
   "source": [
    "# aggregation indices\n",
    "os.chdir('/data2/willytsai/python_module')\n",
    "import conorgidx_revise as agi\n",
    "from SCAI_calc4obj import labeled_obj, SCAI_calc\n",
    "from COP_calc4obj import COP\n",
    "from MICA_calc4obj import MICA"
   ]
  },
  {
   "cell_type": "code",
   "execution_count": 4,
   "metadata": {
    "hideCode": false,
    "hidePrompt": false
   },
   "outputs": [],
   "source": [
    "def running_mean(y,window_N):\n",
    "    y_avg = np.zeros(len(y))\n",
    "    avg_mask = np.ones(window_N) / window_N\n",
    "\n",
    "    y_avg = np.convolve(y, avg_mask, 'same')\n",
    "    y_avg[-window_N:] = y[-window_N:]\n",
    "    y_avg[:window_N] = y[:window_N]\n",
    "    return y_avg    "
   ]
  },
  {
   "cell_type": "code",
   "execution_count": 5,
   "metadata": {
    "hideCode": false,
    "hidePrompt": false
   },
   "outputs": [],
   "source": [
    "def read_data(data_dir,t_start=-144):\n",
    "    os.chdir(data_dir)\n",
    "    print(data_dir)\n",
    "    file_name = glob('*nc')\n",
    "    data_zon = xr.open_dataset('cm1out_zonmean.nc')\n",
    "    data_3d = xr.open_dataset('cm1out_sub3d.nc')\n",
    "    data_2d = xr.open_dataset('cm1out_2Dvars.nc')\n",
    "    \n",
    "    # 3d data\n",
    "    th3d = data_3d.th[t_start:,:30,:,:]\n",
    "    w3d = data_3d.winterp[t_start:,:,:,:]\n",
    "    \n",
    "    # zonal mean data\n",
    "    th = data_zon.th[t_start:,:,:,:]\n",
    "    qv = data_zon.qv[t_start:,:,:,:]\n",
    "    u = data_zon.uinterp[t_start:,:,:,:]\n",
    "    v = data_zon.vinterp[t_start:,:,:,:]\n",
    "    w = data_zon.winterp[t_start:,:,:,:]\n",
    "    qc = data_zon.qc[t_start:,:,:,:]\n",
    "    qi = data_zon.qi[t_start:,:,:,:]\n",
    "    prs = data_zon.prs[t_start:,:,:,:]\n",
    "    # 2d data\n",
    "    prate = data_2d.prate[t_start:,:,:]\n",
    "    pwat = data_2d.pwat[t_start:,:,:]\n",
    "    cwp = data_2d.cwp[t_start:,:,:]\n",
    "    cape = data_2d.cape[t_start:,:,:]\n",
    "    cin = data_2d.cin[t_start:,:,:]\n",
    "    \n",
    "    # temperature conversion\n",
    "    T = th/((1000*100/prs)**(287.15/1004))-273.15 # [degC]\n",
    "    # density \n",
    "    ro = prs/(287.15*(T+273.15))\n",
    "\n",
    "    x_dim = data_2d.lon\n",
    "    y_dim = data_2d.lat\n",
    "    div = np.gradient(v,y_dim*1000,axis=2) # du/dx+dv/dy \n",
    "    vor = -np.gradient(u,y_dim*1000,axis=2) # -du/dy+dv/dx\n",
    "    #relative humidty calculation, Buck (1996)\n",
    "    es_liq = 0.61121*np.exp((18.678-T/234.5)*(T/(257.14+T)))*10 #[hpa]\n",
    "    es_ice = 0.61115*np.exp((23.036-T/333.7)*(T/(279.82+T)))*10\n",
    "\n",
    "    qs_liq = 0.622*es_liq/(prs/100-es_liq)\n",
    "    qs_ice = 0.622*es_ice/(prs/100-es_ice)\n",
    "\n",
    "    rh = qv/qs_liq\n",
    "    rh_ice = qv/qs_ice\n",
    "\n",
    "    rh = rh.values.flatten()\n",
    "    rh_ice = rh_ice.values.flatten()\n",
    "    T_test = T.values.flatten()\n",
    "\n",
    "    rh[T_test<0] = rh_ice[T_test<0]\n",
    "    rh = rh.reshape((T.shape[0],T.shape[1],T.shape[2],T.shape[3]))\n",
    "    rh = xr.DataArray(rh,coords=[T.time,T.lev,T.lat,T.lon],dims=['time','lev','lat','lon'])\n",
    "    \n",
    "    return (th,T,qv,qc,qi,rh,prate*3600*24,pwat*1000,cwp,u,v,w,div,vor,cape,cin,prs,ro,th3d,w3d)"
   ]
  },
  {
   "cell_type": "code",
   "execution_count": 6,
   "metadata": {
    "hideCode": false,
    "hidePrompt": false
   },
   "outputs": [
    {
     "name": "stdout",
     "output_type": "stream",
     "text": [
      "['CM1_RAD4K_MPI_SFXint', 'CM1_RAD4K_RCEP_240x240_lowU05', 'CM1_RAD4K_RCEP_240x240_lowU07', 'CM1_RAD4K_RCEP_240x240_lowU10', 'CM1_RAD4K_RCEP_240x240_lowU12', 'CM1_RAD4K_RCEP_240x240_lowU15']\n",
      "Number of Exp:  6\n"
     ]
    }
   ],
   "source": [
    "# get weather or weather2 \n",
    "#server = '/data2/willytsai/cm1r19.8/analysis/runs_cheyenne/'\n",
    "server = '/data2/willytsai/cm1r19.8/analysis/runs_cheyenne'\n",
    "os.chdir(server)\n",
    "\n",
    "exp_name = ['CM1_RAD4K_MPI_SFXint',\n",
    "            'CM1_RAD4K_RCEP_240x240_lowU05',\n",
    "            'CM1_RAD4K_RCEP_240x240_lowU07',\n",
    "            'CM1_RAD4K_RCEP_240x240_lowU10',\n",
    "            'CM1_RAD4K_RCEP_240x240_lowU12',\n",
    "            'CM1_RAD4K_RCEP_240x240_lowU15']\n",
    "\n",
    "print(exp_name)\n",
    "print('Number of Exp: ', len(exp_name))"
   ]
  },
  {
   "cell_type": "code",
   "execution_count": 7,
   "metadata": {},
   "outputs": [],
   "source": [
    "exp_label = ['CTRL','U05','U07','U10','U12','U15']"
   ]
  },
  {
   "cell_type": "code",
   "execution_count": 8,
   "metadata": {
    "hideCode": false,
    "hidePrompt": false
   },
   "outputs": [
    {
     "name": "stdout",
     "output_type": "stream",
     "text": [
      "/data2/willytsai/cm1r19.8/analysis/runs_cheyenne/CM1_RAD4K_MPI_SFXint\n",
      "/data2/willytsai/cm1r19.8/analysis/runs_cheyenne/CM1_RAD4K_RCEP_240x240_lowU05\n",
      "/data2/willytsai/cm1r19.8/analysis/runs_cheyenne/CM1_RAD4K_RCEP_240x240_lowU07\n",
      "/data2/willytsai/cm1r19.8/analysis/runs_cheyenne/CM1_RAD4K_RCEP_240x240_lowU10\n",
      "/data2/willytsai/cm1r19.8/analysis/runs_cheyenne/CM1_RAD4K_RCEP_240x240_lowU12\n",
      "/data2/willytsai/cm1r19.8/analysis/runs_cheyenne/CM1_RAD4K_RCEP_240x240_lowU15\n"
     ]
    }
   ],
   "source": [
    "(th1,T1,qv1,qc1,qi1,rh1,prate1,pwat1,cwp1,u1,v1,w1,div1,vor1,cape1,cin1,prs1,ro1,th1_3d,w1_3d) = read_data(server+'/'+exp_name[0])\n",
    "(th2,T2,qv2,qc2,qi2,rh2,prate2,pwat2,cwp2,u2,v2,w2,div2,vor2,cape2,cin2,prs2,ro2,th2_3d,w2_3d) = read_data(server+'/'+exp_name[1])\n",
    "(th3,T3,qv3,qc3,qi3,rh3,prate3,pwat3,cwp3,u3,v3,w3,div3,vor3,cape3,cin3,prs3,ro3,th3_3d,w3_3d) = read_data(server+'/'+exp_name[2])\n",
    "(th4,T4,qv4,qc4,qi4,rh4,prate4,pwat4,cwp4,u4,v4,w4,div4,vor4,cape4,cin4,prs4,ro4,th4_3d,w4_3d) = read_data(server+'/'+exp_name[3])\n",
    "(th5,T5,qv5,qc5,qi5,rh5,prate5,pwat5,cwp5,u5,v5,w5,div5,vor5,cape5,cin5,prs5,ro5,th5_3d,w5_3d) = read_data(server+'/'+exp_name[4])\n",
    "(th6,T6,qv6,qc6,qi6,rh6,prate6,pwat6,cwp6,u6,v6,w6,div6,vor6,cape6,cin6,prs6,ro6,th6_3d,w6_3d) = read_data(server+'/'+exp_name[5])"
   ]
  },
  {
   "cell_type": "code",
   "execution_count": 9,
   "metadata": {
    "hideCode": false,
    "hidePrompt": false
   },
   "outputs": [],
   "source": [
    "x_dim = pwat1.lon\n",
    "y_dim = pwat1.lat\n",
    "z_dim = T1.lev\n",
    "t_dim = np.arange(len(T1.time))/3"
   ]
  },
  {
   "cell_type": "code",
   "execution_count": 10,
   "metadata": {
    "hideCode": false,
    "hidePrompt": false
   },
   "outputs": [],
   "source": [
    "fig_out = '/w2-data2/willytsai/cm1r19.8/analysis/runs_cheyenne/fig_sum/'"
   ]
  },
  {
   "cell_type": "code",
   "execution_count": null,
   "metadata": {},
   "outputs": [],
   "source": [
    "color_label=['k','r','g','b']"
   ]
  },
  {
   "cell_type": "markdown",
   "metadata": {},
   "source": [
    "### ranked vertical velocity "
   ]
  },
  {
   "cell_type": "code",
   "execution_count": null,
   "metadata": {},
   "outputs": [],
   "source": [
    "def ranked_omega(ro,w_3d):\n",
    "    omega = -9.8*ro[0,:,0,0]*w_3d\n",
    "    vint_omega = np.trapz(omega[7:33,:,:,:],z_dim[7:33]*1000,axis=0)\n",
    "    \n",
    "    # convective updrafts (omega) in shear and non-shear regions\n",
    "    vint_omega_s = vint_omega[:,65:151,:] \n",
    "    omega_s = omega[:,:,65:151,:]\n",
    "    vint_omega_ns = np.concatenate((vint_omega[:,-43:,:],vint_omega[:,:43,:]),axis=1)\n",
    "    omega_ns = np.concatenate((omega[:,:,-43:,:],omega[:,:,:43,:]),axis=2)\n",
    "\n",
    "    vint_omega_1ds = vint_omega_s[:,:,:].reshape(360*vint_omega_s.shape[1]*vint_omega_s.shape[2])\n",
    "    vint_omega_1dns = vint_omega_ns[-360:,:,:].reshape(360*vint_omega_ns.shape[1]*vint_omega_ns.shape[2])\n",
    "    omega_1ds = omega_s[:,-360:,:,:].values.reshape(65,360*omega_s.shape[2]*omega_s.shape[3])\n",
    "    omega_1dns = omega_ns[:,-360:,:,:].reshape(65,360*omega_ns.shape[2]*omega_ns.shape[3])\n",
    "    \n",
    "    # sorting index\n",
    "    idx_sorted = np.argsort(vint_omega_1ds)\n",
    "    p_90 = int(0.1*len(idx_sorted)) # return idx \n",
    "    p_99 = int(0.01*len(idx_sorted)) # return idx \n",
    "    p_999 = int(0.001*len(idx_sorted)) # return idx \n",
    "    \n",
    "    omega_mean = omega_1ds[:,:].mean(axis=1)\n",
    "    updft_p90 = omega_1ds[:,idx_sorted[:p_90]].mean(axis=1)\n",
    "    updft_p99 = omega_1ds[:,idx_sorted[:p_99]].mean(axis=1)\n",
    "    updft_p999 = omega_1ds[:,idx_sorted[:p_999]].mean(axis=1)\n",
    "    \n",
    "    dndft_p90 = omega_1ds[:,idx_sorted[-p_90:]].mean(axis=1)\n",
    "    dndft_p99 = omega_1ds[:,idx_sorted[-p_99:]].mean(axis=1)\n",
    "    dndft_p999 = omega_1ds[:,idx_sorted[-p_999:]].mean(axis=1)\n",
    "    \n",
    "    return omega_mean, updft_p90, updft_p99, updft_p999, dndft_p90, dndft_p99, dndft_p999"
   ]
  },
  {
   "cell_type": "code",
   "execution_count": null,
   "metadata": {},
   "outputs": [],
   "source": [
    "%%time\n",
    "# calculating for all cases\n",
    "omega_mean = np.empty((len(exp_label),len(z_dim)))\n",
    "updft_p90 = np.copy(omega_mean)\n",
    "updft_p99 = np.copy(omega_mean)\n",
    "updft_p999 = np.copy(omega_mean)\n",
    "dndft_p90 = np.copy(omega_mean)\n",
    "dndft_p99 = np.copy(omega_mean)\n",
    "dndft_p999 = np.copy(omega_mean)\n",
    "\n",
    "for n,(ro,w_3d) in enumerate(zip([ro1,ro2,ro3,ro4],[w1_3d,w2_3d,w3_3d,w4_3d])):\n",
    "    (omega_mean[n,:],updft_p90[n,:],updft_p99[n,:],updft_p999[n,:], \n",
    "                     dndft_p90[n,:],dndft_p99[n,:],dndft_p999[n,:]) = ranked_omega(ro,w_3d)"
   ]
  },
  {
   "cell_type": "code",
   "execution_count": null,
   "metadata": {},
   "outputs": [],
   "source": [
    "# sorting omega\n",
    "fig,ax = plt.subplots(1,3,figsize=(15,4))\n",
    "\n",
    "for n in range(len(exp_label)):\n",
    "    ax[0].plot(omega_mean[n,:],z_dim,color=color_label[n])\n",
    "    ax[1].plot(updft_p90[n,:],z_dim,color=color_label[n])\n",
    "    ax[2].plot(updft_p99[n,:],z_dim,color=color_label[n])\n",
    "    \n",
    "    ax[1].plot(dndft_p90[n,:],z_dim,'--',color=color_label[n])\n",
    "    ax[2].plot(dndft_p99[n,:],z_dim,'--',color=color_label[n])\n",
    "    \n",
    "ax[0].set_ylim([0,18]);#plt.xlim([0,10])\n",
    "ax[1].set_ylim([0,18])\n",
    "ax[2].set_ylim([0,18])"
   ]
  },
  {
   "cell_type": "code",
   "execution_count": null,
   "metadata": {},
   "outputs": [],
   "source": [
    "%%time\n",
    "#omega_p90, omega_p99, omega_p999 = ranked_omega(ro1,w1_3d)\n",
    "plt.plot(omega_p90,z_dim,'k')\n",
    "plt.plot(omega_p99,z_dim,'b')\n",
    "plt.plot(omega_p999,z_dim,'r')\n",
    "plt.ylim([0,18]);plt.xlim([0,10])"
   ]
  },
  {
   "cell_type": "code",
   "execution_count": null,
   "metadata": {},
   "outputs": [],
   "source": []
  },
  {
   "cell_type": "code",
   "execution_count": null,
   "metadata": {},
   "outputs": [],
   "source": []
  }
 ],
 "metadata": {
  "celltoolbar": "Hide code",
  "hide_code_all_hidden": false,
  "kernelspec": {
   "display_name": "Python 3",
   "language": "python",
   "name": "python3"
  },
  "language_info": {
   "codemirror_mode": {
    "name": "ipython",
    "version": 3
   },
   "file_extension": ".py",
   "mimetype": "text/x-python",
   "name": "python",
   "nbconvert_exporter": "python",
   "pygments_lexer": "ipython3",
   "version": "3.6.9"
  }
 },
 "nbformat": 4,
 "nbformat_minor": 4
}
