{
 "cells": [
  {
   "cell_type": "code",
   "execution_count": 5,
   "metadata": {},
   "outputs": [],
   "source": [
    "import sys\n",
    "import os\n",
    "import numpy as np\n",
    "import xarray as xr\n",
    "from glob import glob\n",
    "import matplotlib.pyplot as plt\n",
    "import warnings\n",
    "from mpl_toolkits.axes_grid1 import make_axes_locatable\n",
    "from mpl_toolkits.axes_grid1.inset_locator import inset_axes\n",
    "from matplotlib.patches import Rectangle\n",
    "import metpy.calc as mpc\n",
    "from metpy.units import units\n",
    "# for animations\n",
    "from PIL import Image"
   ]
  },
  {
   "cell_type": "code",
   "execution_count": 6,
   "metadata": {},
   "outputs": [],
   "source": [
    "warnings.filterwarnings('ignore')"
   ]
  },
  {
   "cell_type": "code",
   "execution_count": 7,
   "metadata": {},
   "outputs": [],
   "source": [
    "# aggregation indices\n",
    "os.chdir('/w2-data2/willytsai/python_module')\n",
    "import conorgidx_revise as agi\n",
    "from SCAI_calc4obj import labeled_obj, SCAI_calc\n",
    "from COP_calc4obj import COP\n",
    "from MICA_calc4obj import MICA"
   ]
  },
  {
   "cell_type": "code",
   "execution_count": 8,
   "metadata": {},
   "outputs": [],
   "source": [
    "def read_data(data_dir,t_start=0):\n",
    "    os.chdir(data_dir)\n",
    "    print(data_dir)\n",
    "    file_name = glob('*nc')\n",
    "    data_zon = xr.open_dataset('cm1out_zonmean.nc')\n",
    "    data_2d = xr.open_dataset('cm1out_2Dvars.nc')\n",
    "    th = data_zon.th[t_start:,:,:,:]\n",
    "    qv = data_zon.qv[t_start:,:,:,:]\n",
    "    u = data_zon.uinterp[t_start:,:,:,:]\n",
    "    v = data_zon.vinterp[t_start:,:,:,:]\n",
    "    w = data_zon.winterp[t_start:,:,:,:]\n",
    "    qc = data_zon.qc[t_start:,:,:,:]\n",
    "    qi = data_zon.qi[t_start:,:,:,:]\n",
    "    prs = data_zon.prs[t_start:,:,:,:]\n",
    "    # 2d data\n",
    "    prate = data_2d.prate[t_start:,:,:]\n",
    "    pwat = data_2d.pwat[t_start:,:,:]\n",
    "    cwp = data_2d.cwp[t_start:,:,:]\n",
    "    cape = data_2d.cape[t_start:,:,:]\n",
    "    cin = data_2d.cin[t_start:,:,:]\n",
    "    \n",
    "    # temperature conversion\n",
    "    T = th/((1000*100/prs)**(287.15/1004))-273.15 # [degC]\n",
    "    # density \n",
    "    ro = prs/(287.15*(T+273.15))\n",
    "\n",
    "    x_dim = data_2d.lon\n",
    "    y_dim = data_2d.lat\n",
    "    div = np.gradient(v,y_dim*1000,axis=2) # du/dx+dv/dy \n",
    "    vor = -np.gradient(u,y_dim*1000,axis=2) # -du/dy+dv/dx\n",
    "    #relative humidty calculation, Buck (1996)\n",
    "    es_liq = 0.61121*np.exp((18.678-T/234.5)*(T/(257.14+T)))*10 #[hpa]\n",
    "    es_ice = 0.61115*np.exp((23.036-T/333.7)*(T/(279.82+T)))*10\n",
    "\n",
    "    qs_liq = 0.622*es_liq/(prs/100-es_liq)\n",
    "    qs_ice = 0.622*es_ice/(prs/100-es_ice)\n",
    "\n",
    "    rh = qv/qs_liq\n",
    "    rh_ice = qv/qs_ice\n",
    "\n",
    "    rh = rh.values.flatten()\n",
    "    rh_ice = rh_ice.values.flatten()\n",
    "    T_test = T.values.flatten()\n",
    "\n",
    "    rh[T_test<0] = rh_ice[T_test<0]\n",
    "    rh = rh.reshape((T.shape[0],T.shape[1],T.shape[2],T.shape[3]))\n",
    "    rh = xr.DataArray(rh,coords=[T.time,T.lev,T.lat,T.lon],dims=['time','lev','lat','lon'])\n",
    "    \n",
    "    return (th,T,qv,qc,qi,rh,prate*3600*24,pwat*1000,cwp,u,v,w,div,vor,cape,cin,prs,ro)"
   ]
  },
  {
   "cell_type": "code",
   "execution_count": 16,
   "metadata": {},
   "outputs": [
    {
     "name": "stdout",
     "output_type": "stream",
     "text": [
      "['CM1_LD2km_RAD4K_MPICTRL_216x216_eqtset2', 'CM1_LD2km_RAD4K_OPENMPshear_216x216_U15H2km_eqtset2', 'CM1_LD2km_RAD4K_OPENMPshear_216x216_U12H2km_eqtset2', 'CM1_LD2km_RAD4K_OPENMPshear_216x216_U10H2km_eqtset2', 'CM1_LD2km_RAD4K_OPENMPshear_216x216_U7H2km_eqtset2', 'CM1_LD2km_RAD4K_OPENMPshear_216x216_U5H2km_eqtset2', 'CM1_LD2km_RAD4K_OPENMPshear_216x216_U10H2km_narrow', 'CM1_LD2km_RAD4K_OPENMPshear_216x216_U10H2km_wide']\n",
      "Number of Exp:  8\n"
     ]
    }
   ],
   "source": [
    "# get weather or weather2 \n",
    "#server = '/data2/willytsai/cm1r19.8/analysis/runs_cheyenne/'\n",
    "server = '/w2-data2/willytsai/cm1r19.8/analysis/runs_cheyenne'\n",
    "os.chdir(server)\n",
    "\n",
    "exp_name = ['CM1_LD2km_RAD4K_MPICTRL_216x216_eqtset2',\n",
    "            'CM1_LD2km_RAD4K_OPENMPshear_216x216_U15H2km_eqtset2',\n",
    "            'CM1_LD2km_RAD4K_OPENMPshear_216x216_U12H2km_eqtset2',\n",
    "            'CM1_LD2km_RAD4K_OPENMPshear_216x216_U10H2km_eqtset2',\n",
    "            'CM1_LD2km_RAD4K_OPENMPshear_216x216_U7H2km_eqtset2',\n",
    "            'CM1_LD2km_RAD4K_OPENMPshear_216x216_U5H2km_eqtset2',\n",
    "            'CM1_LD2km_RAD4K_OPENMPshear_216x216_U10H2km_narrow',\n",
    "            'CM1_LD2km_RAD4K_OPENMPshear_216x216_U10H2km_wide']\n",
    "print(exp_name)\n",
    "print('Number of Exp: ', len(exp_name))"
   ]
  },
  {
   "cell_type": "code",
   "execution_count": 17,
   "metadata": {},
   "outputs": [
    {
     "name": "stdout",
     "output_type": "stream",
     "text": [
      "/w2-data2/willytsai/cm1r19.8/analysis/runs_cheyenne/CM1_LD2km_RAD4K_MPICTRL_216x216_eqtset2\n",
      "/w2-data2/willytsai/cm1r19.8/analysis/runs_cheyenne/CM1_LD2km_RAD4K_OPENMPshear_216x216_U15H2km_eqtset2\n",
      "/w2-data2/willytsai/cm1r19.8/analysis/runs_cheyenne/CM1_LD2km_RAD4K_OPENMPshear_216x216_U12H2km_eqtset2\n",
      "/w2-data2/willytsai/cm1r19.8/analysis/runs_cheyenne/CM1_LD2km_RAD4K_OPENMPshear_216x216_U10H2km_eqtset2\n",
      "/w2-data2/willytsai/cm1r19.8/analysis/runs_cheyenne/CM1_LD2km_RAD4K_OPENMPshear_216x216_U7H2km_eqtset2\n",
      "/w2-data2/willytsai/cm1r19.8/analysis/runs_cheyenne/CM1_LD2km_RAD4K_OPENMPshear_216x216_U5H2km_eqtset2\n",
      "/w2-data2/willytsai/cm1r19.8/analysis/runs_cheyenne/CM1_LD2km_RAD4K_OPENMPshear_216x216_U10H2km_narrow\n",
      "/w2-data2/willytsai/cm1r19.8/analysis/runs_cheyenne/CM1_LD2km_RAD4K_OPENMPshear_216x216_U10H2km_wide\n"
     ]
    }
   ],
   "source": [
    "(th1,T1,qv1,qc1,qi1,rh1,prate1,pwat1,cwp1,u1,v1,w1,div1,vor1,cape1,cin1,prs1,ro1) = read_data(server+'/'+exp_name[0],t_start=-721)\n",
    "(th2,T2,qv2,qc2,qi2,rh2,prate2,pwat2,cwp2,u2,v2,w2,div2,vor2,cape2,cin2,prs2,ro2) = read_data(server+'/'+exp_name[1])\n",
    "(th3,T3,qv3,qc3,qi3,rh3,prate3,pwat3,cwp3,u3,v3,w3,div3,vor3,cape3,cin3,prs3,ro3) = read_data(server+'/'+exp_name[2])\n",
    "(th4,T4,qv4,qc4,qi4,rh4,prate4,pwat4,cwp4,u4,v4,w4,div4,vor4,cape4,cin4,prs4,ro4) = read_data(server+'/'+exp_name[3])\n",
    "(th5,T5,qv5,qc5,qi5,rh5,prate5,pwat5,cwp5,u5,v5,w5,div5,vor5,cape5,cin5,prs5,ro5) = read_data(server+'/'+exp_name[4])\n",
    "(th6,T6,qv6,qc6,qi6,rh6,prate6,pwat6,cwp6,u6,v6,w6,div6,vor6,cape6,cin6,prs6,ro6) = read_data(server+'/'+exp_name[5])\n",
    "(th7,T7,qv7,qc7,qi7,rh7,prate7,pwat7,cwp7,u7,v7,w7,div7,vor7,cape7,cin7,prs7,ro7) = read_data(server+'/'+exp_name[6])\n",
    "(th8,T8,qv8,qc8,qi8,rh8,prate8,pwat8,cwp8,u8,v8,w8,div8,vor8,cape8,cin8,prs8,ro8) = read_data(server+'/'+exp_name[7])\n",
    "\n",
    "# (th5,T5,qv5,qc5,qi5,prate5,pwat5,cwp5,u5,v5,w5,div5,vor5,cape5,cin5) = read_data(server+'/'+exp_name[4])"
   ]
  },
  {
   "cell_type": "code",
   "execution_count": 20,
   "metadata": {},
   "outputs": [],
   "source": [
    "# aggregation indices calculation\n",
    "def AGG_index_time_prec(prec_data,t):\n",
    "\n",
    "    prec =  prec_data[t,:,:].squeeze() # precip 2D array\n",
    "    \n",
    "    Iorg_time = np.zeros(2)*np.nan # 1. Iorg\n",
    "    SCAI_time = np.copy(Iorg_time) # 2. SCAI\n",
    "    COP_time = np.copy(Iorg_time) # 3. COP\n",
    "    MICA_time = np.copy(Iorg_time) # 4. MICA\n",
    "        \n",
    "    pr_s = prec[65:151,:] # only in the shear region\n",
    "    pr_ns = np.concatenate((prec[-43:,:],prec[:43,:]))\n",
    "    cldmask_s = np.zeros(pr_s.shape)\n",
    "    cldmask_ns = np.copy(cldmask_s)\n",
    "    cldmask_s[pr_s> 5] = 1 # cloudmaks, prec>5mm/d, cold cloud\n",
    "    cldmask_ns[pr_ns> 5] = 1 # cloudmaks, prec>5mm/d, cold cloud\n",
    "\n",
    "#    Iorg_time[0] = agi.iorg(cldmask_s)\n",
    "#    Iorg_time[1] = agi.iorg(cldmask_ns)\n",
    "\n",
    "    labeled_array, num_feature = labeled_obj(cldmask_s,1,1)\n",
    "    SCAI_time[0] = SCAI_calc(labeled_array, num_feature, dx=1 ,L=216)\n",
    "\n",
    "    labeled_array, num_feature = labeled_obj(cldmask_ns,1,1)\n",
    "    SCAI_time[1] = SCAI_calc(labeled_array, num_feature, dx=1 ,L=216)\n",
    "\n",
    "    COP_time[0] = COP(cldmask_s)\n",
    "    COP_time[1] = COP(cldmask_ns)\n",
    "            \n",
    "    return Iorg_time, SCAI_time, COP_time"
   ]
  },
  {
   "cell_type": "code",
   "execution_count": 55,
   "metadata": {},
   "outputs": [],
   "source": [
    "# aggregation indices calculation\n",
    "def AGG_index_time_prec3(prec_data,t):\n",
    "\n",
    "    prec =  prec_data[t,:,:].squeeze() # precip 2D array\n",
    "    \n",
    "    Iorg_time = np.zeros(2)*np.nan # 1. Iorg\n",
    "    SCAI_time = np.copy(Iorg_time) # 2. SCAI\n",
    "    COP_time = np.copy(Iorg_time) # 3. COP\n",
    "    MICA_time = np.copy(Iorg_time) # 4. MICA\n",
    "        \n",
    "    pr_s = prec[43:173,:] # only in the shear region\n",
    "    pr_ns = np.concatenate((prec[-21:,:],prec[:21,:]))\n",
    "    cldmask_s = np.zeros(pr_s.shape)\n",
    "    cldmask_ns = np.zeros(pr_ns.shape)\n",
    "    cldmask_s[pr_s> 5] = 1 # cloudmaks, prec>5mm/d, cold cloud\n",
    "    cldmask_ns[pr_ns> 5] = 1 # cloudmaks, prec>5mm/d, cold cloud\n",
    "\n",
    "#    Iorg_time[0] = agi.iorg(cldmask_s)\n",
    "#    Iorg_time[1] = agi.iorg(cldmask_ns)\n",
    "\n",
    "    labeled_array, num_feature = labeled_obj(cldmask_s,1,1)\n",
    "    SCAI_time[0] = SCAI_calc(labeled_array, num_feature, dx=1 ,L=216*2)\n",
    "\n",
    "    labeled_array, num_feature = labeled_obj(cldmask_ns,1,1)\n",
    "    SCAI_time[1] = SCAI_calc(labeled_array, num_feature, dx=1 ,L=216/2)\n",
    "\n",
    "    COP_time[0] = COP(cldmask_s)\n",
    "    COP_time[1] = COP(cldmask_ns)\n",
    "            \n",
    "    return Iorg_time, SCAI_time, COP_time"
   ]
  },
  {
   "cell_type": "code",
   "execution_count": 21,
   "metadata": {},
   "outputs": [],
   "source": [
    "from functools import partial\n",
    "from multiprocessing import Pool"
   ]
  },
  {
   "cell_type": "code",
   "execution_count": 22,
   "metadata": {},
   "outputs": [],
   "source": [
    "x_dim = pwat1.lon\n",
    "y_dim = pwat1.lat\n",
    "z_dim = T1.lev\n",
    "t_dim = np.arange(len(T1.time))/3"
   ]
  },
  {
   "cell_type": "code",
   "execution_count": 23,
   "metadata": {},
   "outputs": [],
   "source": [
    "exp_outname=['CTRL','U15','U12','U10','U7','U5','U10_narrow','U10_wide']"
   ]
  },
  {
   "cell_type": "code",
   "execution_count": 57,
   "metadata": {},
   "outputs": [
    {
     "name": "stdout",
     "output_type": "stream",
     "text": [
      "CPU times: user 6.55 s, sys: 5.07 s, total: 11.6 s\n",
      "Wall time: 42.4 s\n"
     ]
    }
   ],
   "source": [
    "%%time\n",
    "Iorg_pr_time = np.zeros((2,len(t_dim)))\n",
    "SCAI_pr_time = np.zeros((2,len(t_dim)))\n",
    "COP_pr_time = np.zeros((2,len(t_dim)))\n",
    "\n",
    "for n,prec in enumerate([prate8]):\n",
    "\n",
    "    if __name__ == \"__main__\":\n",
    "        pool = Pool()\n",
    "        func = partial(AGG_index_time_prec3, prec)\n",
    "        time_result = pool.map(func, range(721), chunksize=20)\n",
    "        pool.close()\n",
    "        pool.join()\n",
    "        \n",
    "    for t in range(len(t_dim)):\n",
    "        #Iorg_pr_time[n,:,t] = time_result[t][0]\n",
    "        SCAI_pr_time[:,t] = time_result[t][1]\n",
    "        COP_pr_time[:,t] = time_result[t][2]\n",
    "\n",
    "    np.save('/w2-data2/willytsai/cm1r19.8/analysis/runs_cheyenne/SCAI_com_shear_'+exp_outname[7]\n",
    "            +'.npy',SCAI_pr_time)\n",
    "    np.save('/w2-data2/willytsai/cm1r19.8/analysis/runs_cheyenne/COP_com_shear_'+exp_outname[7]\n",
    "            +'.npy',COP_pr_time)"
   ]
  },
  {
   "cell_type": "code",
   "execution_count": 11,
   "metadata": {},
   "outputs": [],
   "source": [
    "np.save('/w2-data2/willytsai/cm1r19.8/analysis/runs_cheyenne/Iorg_com_UNI.npy',Iorg_pr_time)\n",
    "np.save('/w2-data2/willytsai/cm1r19.8/analysis/runs_cheyenne/COP_com_UNI.npy',COP_pr_time)\n",
    "np.save('/w2-data2/willytsai/cm1r19.8/analysis/runs_cheyenne/SCAI_com_UNI.npy',SCAI_pr_time)"
   ]
  },
  {
   "cell_type": "code",
   "execution_count": null,
   "metadata": {},
   "outputs": [],
   "source": []
  },
  {
   "cell_type": "code",
   "execution_count": null,
   "metadata": {},
   "outputs": [],
   "source": []
  },
  {
   "cell_type": "code",
   "execution_count": null,
   "metadata": {},
   "outputs": [],
   "source": []
  },
  {
   "cell_type": "code",
   "execution_count": null,
   "metadata": {},
   "outputs": [],
   "source": []
  }
 ],
 "metadata": {
  "kernelspec": {
   "display_name": "Python 3",
   "language": "python",
   "name": "python3"
  },
  "language_info": {
   "codemirror_mode": {
    "name": "ipython",
    "version": 3
   },
   "file_extension": ".py",
   "mimetype": "text/x-python",
   "name": "python",
   "nbconvert_exporter": "python",
   "pygments_lexer": "ipython3",
   "version": "3.6.9"
  }
 },
 "nbformat": 4,
 "nbformat_minor": 2
}
