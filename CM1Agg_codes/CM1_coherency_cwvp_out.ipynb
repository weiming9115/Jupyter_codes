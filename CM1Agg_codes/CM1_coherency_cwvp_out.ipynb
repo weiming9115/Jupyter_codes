{
 "cells": [
  {
   "cell_type": "code",
   "execution_count": 1,
   "metadata": {},
   "outputs": [],
   "source": [
    "import sys\n",
    "import os\n",
    "import numpy as np\n",
    "import xarray as xr\n",
    "from glob import glob\n",
    "import matplotlib.pyplot as plt\n",
    "import warnings\n",
    "from mpl_toolkits.axes_grid1 import make_axes_locatable\n",
    "from mpl_toolkits.axes_grid1.inset_locator import inset_axes\n",
    "from matplotlib.patches import Rectangle\n",
    "import metpy.calc as mpc\n",
    "from metpy.units import units\n",
    "# for animations\n",
    "from PIL import Image"
   ]
  },
  {
   "cell_type": "code",
   "execution_count": 2,
   "metadata": {},
   "outputs": [],
   "source": [
    "warnings.filterwarnings('ignore')"
   ]
  },
  {
   "cell_type": "code",
   "execution_count": 3,
   "metadata": {},
   "outputs": [],
   "source": [
    "# aggregation indices\n",
    "os.chdir('/data2/willytsai/python_module')\n",
    "import conorgidx_revise as agi\n",
    "from SCAI_calc4obj import labeled_obj, SCAI_calc\n",
    "from COP_calc4obj import COP\n",
    "from MICA_calc4obj import MICA"
   ]
  },
  {
   "cell_type": "code",
   "execution_count": 4,
   "metadata": {},
   "outputs": [],
   "source": [
    "def running_mean(y,window_N):\n",
    "    y_avg = np.zeros(len(y))\n",
    "    avg_mask = np.ones(window_N) / window_N\n",
    "\n",
    "    y_avg = np.convolve(y, avg_mask, 'same')\n",
    "    y_avg[-window_N:] = y[-window_N:]\n",
    "    y_avg[:window_N] = y[:window_N]\n",
    "    return y_avg    "
   ]
  },
  {
   "cell_type": "code",
   "execution_count": 5,
   "metadata": {},
   "outputs": [],
   "source": [
    "def lanczos_filter(data_1d,dx=2,a=10):\n",
    "    \"simple Lanczos filter, a = Lanczos parameter \\\n",
    "     for example, a = 3 means kernel damped to zero at +-3\"\n",
    "    \n",
    "    data_filtered = np.copy(data_1d)\n",
    "    # generating Lanczos function\n",
    "    L = np.sinc(np.arange(-a,a+1))*np.sinc(np.arange(-a,a+1)/a)\n",
    "        \n",
    "    for x in range(len(data_1d)):\n",
    "        data_filtered[x] = np.sum(data_1d[x-a:x+a+1]*L)\n",
    "    \n",
    "    return data_filtered"
   ]
  },
  {
   "cell_type": "code",
   "execution_count": 6,
   "metadata": {},
   "outputs": [],
   "source": [
    "# a=3\n",
    "# L = np.zeros(50)\n",
    "# for n,x in enumerate(np.linspace(-a,a,50)):\n",
    "#     L[n] = a*np.sin(np.pi*x)*np.sin(np.pi*x/a)/((np.pi**2)*(x**2))\n",
    "#     if x == 0:\n",
    "#         L[n] = 1\n",
    "# plt.plot(np.linspace(-a,a,50),L)"
   ]
  },
  {
   "cell_type": "code",
   "execution_count": 7,
   "metadata": {},
   "outputs": [],
   "source": [
    "def read_data(data_dir,t_start=0,t_end=1081):\n",
    "    os.chdir(data_dir)\n",
    "    print(data_dir)\n",
    "    file_name = glob('*nc')\n",
    "    data_zon = xr.open_dataset('cm1out_zonmean.nc')\n",
    "    data_3d = xr.open_dataset('cm1out_sub3d.nc')\n",
    "    data_2d = xr.open_dataset('cm1out_2Dvars.nc')\n",
    "    data_q3d = xr.open_dataset('cm1out_q3d.nc')\n",
    "    \n",
    "    #3d data\n",
    "    th3d = data_3d.th[t_start:t_end,:45,:,:]\n",
    "    v3d = data_3d.vinterp[t_start:t_end,:45,:,:]\n",
    "    u3d = data_3d.uinterp[t_start:t_end,:45,:,:]\n",
    "    w3d = data_3d.winterp[t_start:t_end,:45,:,:]\n",
    "    qc3d = data_q3d.qc[t_start:t_end,:45,:,:]\n",
    "    qi3d = data_q3d.qi[t_start:t_end,:45,:,:]\n",
    "    qr3d = data_q3d.qr[t_start:t_end,:45,:,:]\n",
    "    qg3d = data_q3d.qg[t_start:t_end,:45,:,:]\n",
    "    qs3d = data_q3d.qs[t_start:t_end,:45,:,:]\n",
    "    \n",
    "    rnp3d = (qc3d+qi3d)\n",
    "    rp3d = (qr3d+qg3d+qs3d)\n",
    "    \n",
    "    # zonal mean data\n",
    "    th = data_zon.th[t_start:t_end,:,:,:]\n",
    "    qv = data_zon.qv[t_start:t_end,:,:,:]\n",
    "#     u = data_zon.uinterp[t_start:t_end,:,:,:]\n",
    "#     v = data_zon.vinterp[t_start:t_end,:,:,:]\n",
    "#     w = data_zon.winterp[t_start:t_end,:,:,:]\n",
    "    qc = data_zon.qc[t_start:t_end,:,:,:]\n",
    "    qi = data_zon.qi[t_start:t_end,:,:,:]\n",
    "    prs = data_zon.prs[t_start:t_end,:,:,:]\n",
    "    # 2d data\n",
    "    prate = data_2d.prate[t_start:t_end,:,:]\n",
    "    pwat = data_2d.pwat[t_start:t_end,:,:]\n",
    "    cwp = data_2d.cwp[t_start:t_end,:,:]\n",
    "    cape = data_2d.cape[t_start:t_end,:,:]\n",
    "    cin = data_2d.cin[t_start:t_end,:,:]\n",
    "    \n",
    "    # temperature conversion\n",
    "    T = th/((1000*100/prs)**(287.15/1004))-273.15 # [degC]\n",
    "    # density \n",
    "    ro = prs/(287.15*(T+273.15))\n",
    "\n",
    "    x_dim = data_2d.lon\n",
    "    y_dim = data_2d.lat\n",
    "#    div = np.gradient(v,y_dim*1000,axis=2) # du/dx+dv/dy \n",
    "#    vor = -np.gradient(u,y_dim*1000,axis=2) # -du/dy+dv/dx\n",
    "    #relative humidty calculation, Buck (1996)\n",
    "    es_liq = 0.61121*np.exp((18.678-T/234.5)*(T/(257.14+T)))*10 #[hpa]\n",
    "    es_ice = 0.61115*np.exp((23.036-T/333.7)*(T/(279.82+T)))*10\n",
    "\n",
    "    qs_liq = 0.622*es_liq/(prs/100-es_liq)\n",
    "    qs_ice = 0.622*es_ice/(prs/100-es_ice)\n",
    "\n",
    "    rh = qv/qs_liq\n",
    "    rh_ice = qv/qs_ice\n",
    "\n",
    "    rh = rh.values.flatten()\n",
    "    rh_ice = rh_ice.values.flatten()\n",
    "    T_test = T.values.flatten()\n",
    "\n",
    "    rh[T_test<0] = rh_ice[T_test<0]\n",
    "    rh = rh.reshape((T.shape[0],T.shape[1],T.shape[2],T.shape[3]))\n",
    "    rh = xr.DataArray(rh,coords=[T.time,T.lev,T.lat,T.lon],dims=['time','lev','lat','lon'])\n",
    "    \n",
    "#    return (th,T,qv,qc,qi,rh,prate*3600*24,pwat*1000,cwp,u,v,w,div,vor,cape,cin,prs,ro,th3d,v3d,u3d)\n",
    "    return (th,T,qv,qc,qi,rh,prate*3600*24,pwat*1000,cwp,u3d,v3d,w3d,cape,cin,prs,ro,th3d,rp3d,rnp3d)"
   ]
  },
  {
   "cell_type": "code",
   "execution_count": 8,
   "metadata": {},
   "outputs": [],
   "source": [
    "# get weather or weather2 \n",
    "server = '/data2/willytsai/cm1r19.8/analysis/runs_cheyenne/'\n",
    "exp_name = ['CM1_RAD4K_RCEP_240x240_lowU15']\n",
    "exp_short = ['CTRL','U10']\n",
    "\n",
    "#os.chdir(server)\n",
    "#os.system('mkdir -p fig_sum') # create a figure archive\n",
    "#fig_dir = server+'fig_sum/' "
   ]
  },
  {
   "cell_type": "code",
   "execution_count": 9,
   "metadata": {},
   "outputs": [
    {
     "name": "stdout",
     "output_type": "stream",
     "text": [
      "/data2/willytsai/cm1r19.8/analysis/runs_cheyenne/CM1_RAD4K_RCEP_240x240_lowU15\n"
     ]
    }
   ],
   "source": [
    "(th1,T1,qv1,qc1,qi1,rh1,prate1,pwat1,cwp1,u3d1,v3d1,w3d1,cape1,cin1,prs1,ro1,th3d1,rp3d1,rnp3d1) = read_data(server+exp_name[0],\n",
    "                                                                                                   t_start=360,t_end=721)"
   ]
  },
  {
   "cell_type": "code",
   "execution_count": 10,
   "metadata": {},
   "outputs": [],
   "source": [
    "x_dim = pwat1.lon\n",
    "y_dim = pwat1.lat\n",
    "z_dim = T1.lev\n",
    "t_dim = np.arange(len(T1.time))/3"
   ]
  },
  {
   "cell_type": "code",
   "execution_count": 13,
   "metadata": {},
   "outputs": [],
   "source": [
    "data_ctr = xr.open_dataset('/data2/willytsai/cm1r19.8/analysis/runs_cheyenne/CM1_RAD4K_MPI_SFXint/cm1out_sub3d.nc')\n",
    "th3d_ctr = data_ctr.th"
   ]
  },
  {
   "cell_type": "code",
   "execution_count": 19,
   "metadata": {},
   "outputs": [
    {
     "data": {
      "text/plain": [
       "<matplotlib.collections.QuadMesh at 0x7f66773abc88>"
      ]
     },
     "execution_count": 19,
     "metadata": {},
     "output_type": "execute_result"
    },
    {
     "data": {
      "image/png": "[encoded data removed]",
      "text/plain": [
       "<Figure size 360x360 with 1 Axes>"
      ]
     },
     "metadata": {
      "needs_background": "light"
     },
     "output_type": "display_data"
    }
   ],
   "source": [
    "fig,ax = plt.subplots(1,1,figsize=(5,5))\n",
    "t = -22\n",
    "cp = (th3d1[t,0,:,:]-th3d1[t,0,:,:].mean(('lat','lon'))).values\n",
    "#cp[cp>-1] = 0                                     \n",
    "plt.pcolormesh(th3d1.lon,th3d1.lat,cp,\n",
    "            cmap='bone')\n",
    "#plt.colorbar()"
   ]
  },
  {
   "cell_type": "code",
   "execution_count": null,
   "metadata": {},
   "outputs": [],
   "source": [
    "# cold pool stats - size, number\n",
    "# time-series of size, number"
   ]
  },
  {
   "cell_type": "code",
   "execution_count": null,
   "metadata": {},
   "outputs": [],
   "source": []
  },
  {
   "cell_type": "code",
   "execution_count": 21,
   "metadata": {},
   "outputs": [],
   "source": [
    "def lag_coeff(x):\n",
    "    \"x is a 1d array\"\n",
    "    coeff = np.empty(x.size)\n",
    "    for lag in range(x.size):\n",
    "        coeff[lag] = np.corrcoef(x,np.roll(x,lag))[0,1] # return lag coefficient\n",
    "    return coeff"
   ]
  },
  {
   "cell_type": "code",
   "execution_count": 26,
   "metadata": {},
   "outputs": [],
   "source": [
    "auto_coeff_ctr = np.empty((360,120))\n",
    "cwp_sub = cwp_ctr[-360:,:,:]\n",
    "cwp_yt = cwp_sub.mean(axis=2)\n",
    "\n",
    "for t in range(360):\n",
    "    auto_coeff_ctr[t,:] = lag_coeff(cwp_yt[t,:])\n",
    "\n",
    "auto_coeff_s = np.empty((len(exp_name),360,120))\n",
    "auto_coeff_ns = np.copy(auto_coeff_s)\n",
    "    \n",
    "for n,cwp in enumerate([cwp1]):\n",
    "\n",
    "    cwp_sub = cwp[-360:,:,:]\n",
    "    cwp_yt = cwp_sub.mean(axis=2)\n",
    "    cwp_yt_s = cwp_yt[:,60:180]\n",
    "    cwp_yt_ns =  np.concatenate([cwp_yt[:,-60:],cwp_yt[:,:60]],axis=1)\n",
    "\n",
    "    for t in range(360):\n",
    "        auto_coeff_s[n,t,:] = lag_coeff(cwp_yt_s[t,:])\n",
    "        auto_coeff_ns[n,t,:] = lag_coeff(cwp_yt_ns[t,:])"
   ]
  },
  {
   "cell_type": "code",
   "execution_count": 27,
   "metadata": {},
   "outputs": [
    {
     "data": {
      "image/png": "[encoded data removed]",
      "text/plain": [
       "<Figure size 432x288 with 1 Axes>"
      ]
     },
     "metadata": {
      "needs_background": "light"
     },
     "output_type": "display_data"
    }
   ],
   "source": [
    "fig,ax = plt.subplots(1,1,figsize=(6,4))\n",
    "colors = ['r']\n",
    "\n",
    "ax.plot(auto_coeff_ctr[:,:].mean(axis=0),'-',color='k')\n",
    "for n in range(len(exp_name)):\n",
    "    ax.plot(auto_coeff_s[n,:,:].mean(axis=0),'-',color=colors[n])\n",
    "\n",
    "ax.legend(exp_short)\n",
    "ax.set_xlim([0,30])\n",
    "#ax.set_xticks(ticks=[0,3,6,9,12,15,18,21]);ax.set_xticklabels([0,6,12,18,24,30,36,42])\n",
    "ax.set_xlabel('distance in y [km]',fontsize=13)\n",
    "ax.set_ylabel('lag correlation coeff.',fontsize=13)\n",
    "ax.set_title('lag correlation in space',fontsize=13)\n",
    "ax.grid(linestyle='--',linewidth=1)#;ax.set_ylim([-0.2,1.1])\n",
    "ax.spines['right'].set_visible(False)\n",
    "ax.spines['top'].set_visible(False)\n",
    "\n",
    "#fig.savefig(fig_dir+'lag_coeff_thvariance_space.pdf',bbox_inches='tight',transparent=False)"
   ]
  },
  {
   "cell_type": "code",
   "execution_count": 31,
   "metadata": {},
   "outputs": [],
   "source": [
    "# correlation in time\n",
    "auto_coeff_ctr_t = np.empty((360,120))\n",
    "cwp = cwp_ctr[-360:,:,:]\n",
    "cwp_yt = cwp.mean(axis=2)\n",
    "for y in range(120):\n",
    "    auto_coeff_ctr_t[:,y] = lag_coeff(cwp_yt[:,y])\n",
    "\n",
    "# autocorrelation in time\n",
    "auto_coeff_s_t = np.empty((len(exp_name),360,120))\n",
    "auto_coeff_ns_t = np.copy(auto_coeff_s_t)\n",
    "\n",
    "for n,cwp in enumerate([cwp1]):\n",
    "\n",
    "    cwp_sub = cwp[-360:,:,:]\n",
    "    cwp_yt = cwp_sub.mean(axis=2)\n",
    "    cwp_yt_s = cwp_yt[:,60:180]\n",
    "    cwp_yt_ns =  np.concatenate([cwp_yt[:,-60:],cwp_yt[:,:60]],axis=1)\n",
    "      \n",
    "    for y in range(120):\n",
    "        auto_coeff_s_t[n,:,y] = lag_coeff(cwp_yt_s[:,y])\n",
    "        auto_coeff_ns_t[n,:,y] = lag_coeff(cwp_yt_ns[:,y])"
   ]
  },
  {
   "cell_type": "code",
   "execution_count": 32,
   "metadata": {},
   "outputs": [
    {
     "data": {
      "image/png": "[encoded data removed]",
      "text/plain": [
       "<Figure size 432x288 with 1 Axes>"
      ]
     },
     "metadata": {
      "needs_background": "light"
     },
     "output_type": "display_data"
    }
   ],
   "source": [
    "fig,ax = plt.subplots(1,1,figsize=(6,4))\n",
    "colors = ['r']\n",
    "\n",
    "ax.plot(auto_coeff_ctr_t[:,:].mean(axis=1),'-',color='k')\n",
    "for n in range(len(exp_name)):\n",
    "    ax.plot(auto_coeff_s_t[n,:,:].mean(axis=1),'-',color=colors[n])\n",
    "    \n",
    "ax.legend(exp_short)\n",
    "ax.set_xlim([0,21])\n",
    "ax.set_xticks(ticks=[0,3,6,9,12,15,18,21]);ax.set_xticklabels([0,6,12,18,24,30,36,42])\n",
    "ax.set_xlabel('time [hr]',fontsize=13)\n",
    "ax.set_ylabel('lag correlation coeff.',fontsize=13)\n",
    "ax.set_title('lag correlation in time',fontsize=13)\n",
    "ax.grid(linestyle='--',linewidth=1)#;ax.set_ylim([-0.2,1.1])\n",
    "ax.spines['right'].set_visible(False)\n",
    "ax.spines['top'].set_visible(False)\n",
    "\n",
    "#fig.savefig(fig_dir+'lag_coeff_thvariance_space.pdf',bbox_inches='tight',transparent=False)"
   ]
  },
  {
   "cell_type": "code",
   "execution_count": null,
   "metadata": {},
   "outputs": [],
   "source": [
    "os.chdir(server + exp_name[0]) # experiment directory\n",
    "os.system('mkdir -p data_out')\n",
    "os.chdir(server + exp_name[0] + '/data_out')\n",
    "\n",
    "# save data array for later \n",
    "np.save('autocorre_space_shear_yz.npy',auto_coeff_s)\n",
    "np.save('autocorre_space_unshear_yz.npy',auto_coeff_ns)\n",
    "np.save('autocorre_time_shear_yz.npy',auto_coeff_s_t)\n",
    "np.save('autocorre_time_unshear_yz.npy',auto_coeff_ns_t)"
   ]
  },
  {
   "cell_type": "code",
   "execution_count": null,
   "metadata": {},
   "outputs": [],
   "source": [
    "# # save control data array for later\n",
    "# os.chdir(server + 'CM1_RAD4K_MPI_SFXint') # experiment directory\n",
    "# np.save('autocorre_space_shear_yz.npy',auto_coeff_ctr)\n",
    "# np.save('autocorre_space_unshear_yz.npy',auto_coeff_ctr)\n",
    "# np.save('autocorre_time_shear_yz.npy',auto_coeff_ctr_t)\n",
    "# np.save('autocorre_time_unshear_yz.npy',auto_coeff_ctr_t)"
   ]
  },
  {
   "cell_type": "markdown",
   "metadata": {},
   "source": [
    "### Diagnosis section for existing outputs"
   ]
  },
  {
   "cell_type": "code",
   "execution_count": null,
   "metadata": {},
   "outputs": [],
   "source": [
    "# combine all outputs\n",
    "server = '/data2/willytsai/cm1r19.8/analysis/runs_cheyenne/'\n",
    "exp_name = ['CM1_RAD4K_MPI_SFXint',\n",
    "            'CM1_RAD4K_RCEP_240x240_lowU05',\n",
    "            'CM1_RAD4K_RCEP_240x240_lowU10',\n",
    "            'CM1_RAD4K_RCEP_240x240_lowU15']"
   ]
  },
  {
   "cell_type": "code",
   "execution_count": null,
   "metadata": {},
   "outputs": [],
   "source": [
    "fig,ax = plt.subplots(len(exp_name),1,figsize=(12,2*len(exp_name)))\n",
    "\n",
    "for n,exp in enumerate(exp_name):\n",
    "    data = xr.open_dataset(server+exp+'/cm1out_sub3d.nc')\n",
    "    th = data.th\n",
    "    cp = (th[-360:,0,:,:]-th[-360:,0,:,:].mean(('lat','lon'))).values\n",
    "    cp[cp>-1] = 0      \n",
    "    tt = np.arange(360)\n",
    "    yy = th.lat\n",
    "    if n == 0:\n",
    "        cf = ax[n].pcolormesh(tt,yy,np.nanmean(cp,axis=2).T,\n",
    "                     cmap='bone',vmin=-2,vmax=0)\n",
    "    else:\n",
    "        cf = ax[n].pcolormesh(tt,yy[60:180],np.nanmean(cp[:,60:180,:],axis=2).T,\n",
    "                     cmap='bone',vmin=-2,vmax=0)\n",
    "    plt.colorbar(cf,ax=ax[n])"
   ]
  },
  {
   "cell_type": "code",
   "execution_count": null,
   "metadata": {},
   "outputs": [],
   "source": [
    "fig,ax = plt.subplots(len(exp_name),1,figsize=(12,2*len(exp_name)))\n",
    "\n",
    "for n,exp in enumerate(exp_name):\n",
    "    data2 = xr.open_dataset(server+exp+'/cm1out_2Dvars.nc')\n",
    "    cwp = data2.cwp\n",
    "    cwp = cwp[-360:,:,:]\n",
    "    tt = np.arange(360)\n",
    "    yy = cwp.lat\n",
    "    if n == 0:\n",
    "        cf = ax[n].pcolormesh(tt,yy,np.nanmean(cwp,axis=2).T,\n",
    "                     cmap='bone',vmin=0,vmax=0.3)\n",
    "    else:\n",
    "        cf = ax[n].pcolormesh(tt,yy[60:180],np.nanmean(cwp[:,60:180,:],axis=2).T,\n",
    "                     cmap='bone',vmin=0,vmax=0.3)\n",
    "    plt.colorbar(cf,ax=ax[n])"
   ]
  },
  {
   "cell_type": "code",
   "execution_count": null,
   "metadata": {},
   "outputs": [],
   "source": [
    "tmp = np.load(server+exp_name[0]+'/data_out/autocorre_space_shear_yz.npy')\n",
    "timesteps = len(tmp)\n",
    "\n",
    "corr_space_s_all = np.zeros((len(exp_name),120))\n",
    "corr_space_ns_all = np.zeros((len(exp_name),120))\n",
    "corr_time_s_all = np.zeros((len(exp_name),timesteps))\n",
    "corr_time_ns_all = np.zeros((len(exp_name),timesteps))\n",
    "\n",
    "for n in range(len(exp_name)):\n",
    "    corr_space_s_all[n,:] = np.mean(np.load(server+exp_name[n]+'/data_out/autocorre_space_shear_yz.npy').squeeze(),axis=0)\n",
    "    corr_space_ns_all[n,:] = np.mean(np.load(server+exp_name[n]+'/data_out/autocorre_space_unshear_yz.npy').squeeze(),axis=0)\n",
    "\n",
    "    corr_time_s_all[n,:] = np.mean(np.load(server+exp_name[n]+'/data_out/autocorre_time_shear_yz.npy').squeeze(),axis=1)\n",
    "    corr_time_ns_all[n,:] = np.mean(np.load(server+exp_name[n]+'/data_out/autocorre_time_unshear_yz.npy').squeeze(),axis=1)"
   ]
  },
  {
   "cell_type": "code",
   "execution_count": null,
   "metadata": {},
   "outputs": [],
   "source": [
    "fig,ax = plt.subplots(1,1,figsize=(6,4))\n",
    "colors = ['k','r','g','b']\n",
    "\n",
    "for n in range(len(exp_name)):\n",
    "    ax.plot(corr_space_s_all[n,:],'-',color=colors[n],label=exp_name[n])\n",
    "    \n",
    "ax.legend()\n",
    "ax.set_xlim([0,21])\n",
    "ax.set_xticks(ticks=[0,3,6,9,12,15,18,21]);ax.set_xticklabels([0,6,12,18,24,30,36,42])\n",
    "ax.set_xlabel('distance [km]',fontsize=13)\n",
    "ax.set_ylabel('lag correlation coeff.',fontsize=13)\n",
    "ax.set_title('lag correlation in space',fontsize=13)\n",
    "ax.grid(linestyle='--',linewidth=1)#;ax.set_ylim([-0.2,1.1])\n",
    "ax.spines['right'].set_visible(False)\n",
    "ax.spines['top'].set_visible(False)"
   ]
  },
  {
   "cell_type": "code",
   "execution_count": null,
   "metadata": {},
   "outputs": [],
   "source": [
    "fig,ax = plt.subplots(1,1,figsize=(6,4))\n",
    "colors = ['k','r','g','b']\n",
    "\n",
    "for n in range(len(exp_name)):\n",
    "    ax.plot(corr_time_s_all[n,:],'-',color=colors[n],label=exp_name[n])\n",
    "    \n",
    "ax.legend()\n",
    "ax.set_xlim([0,21])\n",
    "ax.set_xticks(ticks=[0,3,6,9,12,15,18,21]);ax.set_xticklabels([0,1,2,3,4,5,6,7])\n",
    "ax.set_xlabel('time [hr]',fontsize=13)\n",
    "ax.set_ylabel('lag correlation coeff.',fontsize=13)\n",
    "ax.set_title('lag correlation in time',fontsize=13)\n",
    "ax.grid(linestyle='--',linewidth=1)#;ax.set_ylim([-0.2,1.1])\n",
    "ax.spines['right'].set_visible(False)\n",
    "ax.spines['top'].set_visible(False)"
   ]
  },
  {
   "cell_type": "code",
   "execution_count": null,
   "metadata": {},
   "outputs": [],
   "source": []
  }
 ],
 "metadata": {
  "kernelspec": {
   "display_name": "Python 3",
   "language": "python",
   "name": "python3"
  },
  "language_info": {
   "codemirror_mode": {
    "name": "ipython",
    "version": 3
   },
   "file_extension": ".py",
   "mimetype": "text/x-python",
   "name": "python",
   "nbconvert_exporter": "python",
   "pygments_lexer": "ipython3",
   "version": "3.6.9"
  }
 },
 "nbformat": 4,
 "nbformat_minor": 4
}
