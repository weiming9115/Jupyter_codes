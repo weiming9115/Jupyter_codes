{
 "cells": [
  {
   "cell_type": "code",
   "execution_count": 1,
   "metadata": {},
   "outputs": [],
   "source": [
    "import sys\n",
    "import os\n",
    "import numpy as np\n",
    "import xarray as xr\n",
    "from glob import glob\n",
    "import matplotlib.pyplot as plt\n",
    "import warnings\n",
    "from mpl_toolkits.axes_grid1 import make_axes_locatable\n",
    "from mpl_toolkits.axes_grid1.inset_locator import inset_axes\n",
    "from matplotlib.patches import Rectangle\n",
    "import metpy.calc as mpc\n",
    "from metpy.units import units\n",
    "# for animations\n",
    "from PIL import Image"
   ]
  },
  {
   "cell_type": "code",
   "execution_count": 2,
   "metadata": {},
   "outputs": [],
   "source": [
    "warnings.filterwarnings('ignore')"
   ]
  },
  {
   "cell_type": "code",
   "execution_count": 3,
   "metadata": {},
   "outputs": [],
   "source": [
    "# aggregation indices\n",
    "os.chdir('/w2-data2/willytsai/python_module')\n",
    "import conorgidx_revise as agi\n",
    "from SCAI_calc4obj import labeled_obj, SCAI_calc\n",
    "from COP_calc4obj import COP\n",
    "from MICA_calc4obj import MICA"
   ]
  },
  {
   "cell_type": "code",
   "execution_count": 4,
   "metadata": {},
   "outputs": [],
   "source": [
    "def running_mean(y,window_N):\n",
    "    y_avg = np.zeros(len(y))\n",
    "    avg_mask = np.ones(window_N) / window_N\n",
    "\n",
    "    y_avg = np.convolve(y, avg_mask, 'same')\n",
    "    y_avg[-window_N:] = y[-window_N:]\n",
    "    y_avg[:window_N] = y[:window_N]\n",
    "    return y_avg    "
   ]
  },
  {
   "cell_type": "code",
   "execution_count": 5,
   "metadata": {},
   "outputs": [],
   "source": [
    "def read_data(data_dir,t_start=0,t_end=721):\n",
    "    \n",
    "    os.chdir(data_dir)\n",
    "    print(data_dir)\n",
    "    file_name = glob('*nc')\n",
    "    data_zon = xr.open_dataset('cm1out_zonmean.nc')\n",
    "#    data_3d = xr.open_dataset('cm1out_sub3d.nc')\n",
    "    data_2d = xr.open_dataset('cm1out_2Dvars.nc')\n",
    "    \n",
    "    # 3d data\n",
    "#    th3d = data_3d.th[t_start:t_end,:30,:,:]\n",
    "#    v3d = data_3d.vinterp[t_start:t_end,:30,:,:]\n",
    "#    u3d = data_3d.uinterp[t_start:t_end,:30,:,:]\n",
    "    \n",
    "    # zonal mean data\n",
    "    th = data_zon.th[t_start:t_end,:,:,:]\n",
    "    qv = data_zon.qv[t_start:t_end,:,:,:]\n",
    "    u = data_zon.uinterp[t_start:t_end,:,:,:]\n",
    "    v = data_zon.vinterp[t_start:t_end,:,:,:]\n",
    "    w = data_zon.winterp[t_start:t_end,:,:,:]\n",
    "    qc = data_zon.qc[t_start:t_end,:,:,:]\n",
    "    qi = data_zon.qi[t_start:t_end,:,:,:]\n",
    "    prs = data_zon.prs[t_start:t_end,:,:,:]\n",
    "    # 2d data\n",
    "    prate = data_2d.prate[t_start:t_end,:,:]\n",
    "    pwat = data_2d.pwat[t_start:t_end,:,:]\n",
    "    cwp = data_2d.cwp[t_start:t_end,:,:]\n",
    "    cape = data_2d.cape[t_start:t_end,:,:]\n",
    "    cin = data_2d.cin[t_start:t_end,:,:]\n",
    "    \n",
    "    # temperature conversion\n",
    "    T = th/((1000*100/prs)**(287.15/1004))-273.15 # [degC]\n",
    "    # density \n",
    "    ro = prs/(287.15*(T+273.15))\n",
    "\n",
    "    x_dim = data_2d.lon\n",
    "    y_dim = data_2d.lat\n",
    "    div = np.gradient(v,y_dim*1000,axis=2) # du/dx+dv/dy \n",
    "    vor = -np.gradient(u,y_dim*1000,axis=2) # -du/dy+dv/dx\n",
    "    #relative humidty calculation, Buck (1996)\n",
    "    es_liq = 0.61121*np.exp((18.678-T/234.5)*(T/(257.14+T)))*10 #[hpa]\n",
    "    es_ice = 0.61115*np.exp((23.036-T/333.7)*(T/(279.82+T)))*10\n",
    "\n",
    "    qs_liq = 0.622*es_liq/(prs/100-es_liq)\n",
    "    qs_ice = 0.622*es_ice/(prs/100-es_ice)\n",
    "\n",
    "    rh = qv/qs_liq\n",
    "    rh_ice = qv/qs_ice\n",
    "\n",
    "    rh = rh.values.flatten()\n",
    "    rh_ice = rh_ice.values.flatten()\n",
    "    T_test = T.values.flatten()\n",
    "\n",
    "    rh[T_test<0] = rh_ice[T_test<0]\n",
    "    rh = rh.reshape((T.shape[0],T.shape[1],T.shape[2],T.shape[3]))\n",
    "    rh = xr.DataArray(rh,coords=[T.time,T.lev,T.lat,T.lon],dims=['time','lev','lat','lon'])\n",
    "    \n",
    "#    return (th,T,qv,qc,qi,rh,prate*3600*24,pwat*1000,cwp,u,v,w,div,vor,cape,cin,prs,ro,th3d,v3d,u3d)\n",
    "    return (th,T,qv,qc,qi,rh,prate*3600*24,pwat*1000,cwp,u,v,w,div,vor,cape,cin,prs,ro)"
   ]
  },
  {
   "cell_type": "code",
   "execution_count": 7,
   "metadata": {},
   "outputs": [],
   "source": [
    "# get weather or weather2 \n",
    "server = '/w2-data2/willytsai/cm1r19.8/analysis/runs_cheyenne/'\n",
    "exp_name = 'CM1_RAD4K_MPI_SFXUNI_Midshear_2'\n",
    "os.chdir(server + exp_name)\n",
    "os.system('mkdir -p fig') # create a figure archive\n",
    "fig_dir = server+'/'+exp_name+'/fig/' "
   ]
  },
  {
   "cell_type": "code",
   "execution_count": 8,
   "metadata": {},
   "outputs": [
    {
     "name": "stdout",
     "output_type": "stream",
     "text": [
      "/w2-data2/willytsai/cm1r19.8/analysis/runs_cheyenne/CM1_RAD4K_MPI_SFXUNI_Midshear_2\n"
     ]
    }
   ],
   "source": [
    "(th1,T1,qv1,qc1,qi1,rh1,prate1,pwat1,cwp1,u1,v1,w1,div1,vor1,cape1,cin1,prs1,ro1) = read_data(server+exp_name\n",
    "                                                                                     ,t_start=0,t_end=2881)"
   ]
  },
  {
   "cell_type": "code",
   "execution_count": 9,
   "metadata": {},
   "outputs": [],
   "source": [
    "# data = xr.open_dataset('cm1out_SFX.nc') \n",
    "# qfx = data.qfx*2.5e6\n",
    "# hfx = data.hfx\n",
    "# tfx = qfx+hfx\n",
    "\n",
    "data = xr.open_dataset('cm1out_qvbgt_dm.nc')\n",
    "qvb_hadv = data.qvb_hadv[-72:,:,:,:].squeeze()\n",
    "qvb_vadv = data.qvb_vadv[-72:,:,:,:].squeeze()\n",
    "qvb_hidiff = data.qvb_hidiff[-72:,:,:,:].squeeze()\n",
    "qvb_vidiff = data.qvb_vidiff[-72:,:,:,:].squeeze()\n",
    "qvb_hturb = data.qvb_hturb[-72:,:,:,:].squeeze()\n",
    "qvb_vturb = data.qvb_vturb[-72,:,:,:].squeeze()\n",
    "qvb_mp = data.qvb_mp[-72:,:,:,:].squeeze()\n",
    "qt_cond = data.qt_cond[-72:,:,:,:].squeeze()\n",
    "qt_evac = data.qt_evac[-72:,:,:,:].squeeze()\n",
    "qt_evar = data.qt_evar[-72:,:,:,:].squeeze()\n",
    "qt_dep = data.qt_dep[-72:,:,:,:].squeeze()\n",
    "qt_subl = data.qt_subl[-72:,:,:,:].squeeze()\n",
    "\n",
    "z_dim = data.lev*1000"
   ]
  },
  {
   "cell_type": "code",
   "execution_count": 11,
   "metadata": {},
   "outputs": [],
   "source": [
    "# scatter plot for delta_P and delta_THF\n",
    "# plt.scatter(tfx[-1,:,:]-tfx[-1,:,:].mean(['lon','lat']),\n",
    "#             2.5e6/86400*prate1[-1,:,:]-2.5e6/86400*prate1[-1,:,:].mean(['lon','lat']))"
   ]
  },
  {
   "cell_type": "code",
   "execution_count": 12,
   "metadata": {},
   "outputs": [],
   "source": [
    "ro = ro1[-360:,:,:,0].mean(['time','lat'])\n",
    "#ro = np.tile(ro,[120,120,1]).swapaxes(2,0)"
   ]
  },
  {
   "cell_type": "code",
   "execution_count": 12,
   "metadata": {},
   "outputs": [],
   "source": [
    "# vint_qvb_hadv = np.trapz(ro*qvb_hadv,z_dim,axis=0).mean()*2.5e6 # [W/m^2]\n",
    "# vint_qvb_vadv = np.trapz(ro*qvb_vadv,z_dim,axis=0).mean()*2.5e6\n",
    "# vint_qvb_hturb = np.trapz(ro*qvb_hturb,z_dim,axis=0).mean()*2.5e6\n",
    "# vint_qvb_vturb = np.trapz(ro*qvb_vturb,z_dim,axis=0).mean()*2.5e6\n",
    "# vint_qvb_mp = np.trapz(ro*qvb_mp,z_dim,axis=0).mean()*2.5e6\n",
    "# vint_qt_cond = np.trapz(ro*qt_cond,z_dim,axis=0).mean()*2.5e6\n",
    "# vint_qt_evac = np.trapz(ro*qt_evac,z_dim,axis=0).mean()*2.5e6\n",
    "# vint_qt_evar = np.trapz(ro*qt_evar,z_dim,axis=0).mean()*2.5e6\n",
    "# vint_qt_dep = np.trapz(ro*qt_dep,z_dim,axis=0).mean()*2.5e6"
   ]
  },
  {
   "cell_type": "code",
   "execution_count": 14,
   "metadata": {},
   "outputs": [
    {
     "data": {
      "image/png": "[encoded data removed]",
      "text/plain": [
       "<Figure size 1080x360 with 1 Axes>"
      ]
     },
     "metadata": {},
     "output_type": "display_data"
    }
   ],
   "source": [
    "vint_qvb_hadv = np.trapz(ro*qvb_hadv,z_dim,axis=0).mean()*2.5e6 # [W/m^2]\n",
    "vint_qvb_vadv = np.trapz(ro*qvb_vadv,z_dim,axis=0).mean()*2.5e6\n",
    "vint_qvb_hidiff = np.trapz(ro*qvb_hidiff,z_dim,axis=0).mean()*2.5e6\n",
    "vint_qvb_vidiff = np.trapz(ro*qvb_vidiff,z_dim,axis=0).mean()*2.5e6\n",
    "vint_qvb_hturb = np.trapz(ro*qvb_hturb,z_dim,axis=0).mean()*2.5e6\n",
    "vint_qvb_vturb = np.trapz(ro*qvb_vturb,z_dim,axis=0).mean()*2.5e6\n",
    "vint_qvb_mp = np.trapz(ro*qvb_mp,z_dim,axis=0).mean()*2.5e6\n",
    "vint_qt_cond = np.trapz(ro*qt_cond,z_dim,axis=0).mean()*2.5e6\n",
    "vint_qt_evac = np.trapz(ro*qt_evac,z_dim,axis=0).mean()*2.5e6\n",
    "vint_qt_evar = np.trapz(ro*qt_evar,z_dim,axis=0).mean()*2.5e6\n",
    "vint_qt_dep = np.trapz(ro*qt_dep,z_dim,axis=0).mean()*2.5e6\n",
    "vint_qt_subl = np.trapz(ro*qt_subl,z_dim,axis=0).mean()*2.5e6\n",
    "\n",
    "net = vint_qvb_hadv + vint_qvb_vadv + vint_qvb_hturb + vint_qvb_vturb + \\\n",
    "      vint_qvb_mp # net qv tendency \n",
    "net_mp = vint_qt_cond + vint_qt_evac + vint_qt_evar + vint_qt_dep + vint_qt_subl\n",
    "\n",
    "cbar = ['k','r','g','b','m','y','orange','b','lightgrey'\n",
    "        ,'lightgrey','lightgrey','lightgrey','lightgrey','grey']\n",
    "\n",
    "fig,ax = plt.subplots(1,1,figsize=(15,5))\n",
    "ax.bar(['net','hadv','vadv','hdiff','vdiff','hturb','vturb','mp'\n",
    "        ,'cond','evac','evar','dep','subl','net_mp']\n",
    "       \n",
    "        ,[net,vint_qvb_hadv,vint_qvb_vadv,vint_qvb_hidiff,vint_qvb_vidiff\n",
    "         ,vint_qvb_hturb,vint_qvb_vturb,vint_qvb_mp\n",
    "         ,vint_qt_cond,vint_qt_evac,vint_qt_evar,vint_qt_dep,vint_qt_subl,net_mp],\n",
    "        color=cbar)\n",
    "ax.set_ylabel('[W/m$^2$]',fontsize=14);\n",
    "ax.hlines(0,xmin=-1,xmax=14,linewidth=0.5,zorder=1)\n",
    "ax.set_title('<qv> budget analysis, RCE_4K_SFXUNI_Midshear_2-4km',fontsize=15)\n",
    "ax.tick_params(labelsize=13)\n",
    "fig.savefig(fig_dir+'qvbudget_component.pdf',bbox_inches='tight',transparent=False)"
   ]
  },
  {
   "cell_type": "code",
   "execution_count": 15,
   "metadata": {},
   "outputs": [
    {
     "data": {
      "text/plain": [
       "(999, 65, 120, 1)"
      ]
     },
     "execution_count": 15,
     "metadata": {},
     "output_type": "execute_result"
    }
   ],
   "source": [
    "th1.shape"
   ]
  },
  {
   "cell_type": "code",
   "execution_count": 24,
   "metadata": {},
   "outputs": [
    {
     "data": {
      "image/png": "[encoded data removed]",
      "text/plain": [
       "<Figure size 360x360 with 1 Axes>"
      ]
     },
     "metadata": {},
     "output_type": "display_data"
    }
   ],
   "source": [
    "# T profiles\n",
    "fig = plt.figure(figsize=(5,5))\n",
    "\n",
    "plt.plot(th1[0,:,:,0].mean(axis=(1)),z_dim,'k',label='RCE_CTRL')\n",
    "plt.plot(th1[-360:,:,:,0].mean(axis=(0,2)),z_dim,'b',label='RCE_Midshear_2-4km')\n",
    "plt.ylim([0,20000])\n",
    "plt.xlim([290,450])\n",
    "plt.ylabel('Height [m]',fontsize=13)\n",
    "plt.xlabel('Theta [K]',fontsize=13)\n",
    "plt.legend()\n",
    "fig.savefig(fig_dir+'theta_profile.pdf',bbox_inches='tight',transparent=False)"
   ]
  },
  {
   "cell_type": "code",
   "execution_count": null,
   "metadata": {},
   "outputs": [],
   "source": [
    "test = np.copy(qvb_vturb[:,:,:].mean(axis=(1,2)))\n",
    "test[test<0] = 0\n",
    "#test = np.trapz(ro*test,z_dim)"
   ]
  },
  {
   "cell_type": "code",
   "execution_count": null,
   "metadata": {},
   "outputs": [],
   "source": [
    "test.shape"
   ]
  },
  {
   "cell_type": "code",
   "execution_count": null,
   "metadata": {},
   "outputs": [],
   "source": [
    "# vturb --> SFX \n",
    "\n",
    "plt.plot(2.5e6*ro*qvb_vturb[:,:,:].mean(axis=(1,2)),z_dim,'ok')\n",
    "plt.plot(2.5e6*test,z_dim,'-b')\n",
    "plt.ylim([0,2000])\n",
    "plt.ylim([0,2000])\n",
    "\n",
    "print(vint_qvb_vturb)\n",
    "print(2.5e6*np.trapz(ro*test,z_dim))"
   ]
  },
  {
   "cell_type": "code",
   "execution_count": null,
   "metadata": {},
   "outputs": [],
   "source": []
  },
  {
   "cell_type": "code",
   "execution_count": null,
   "metadata": {},
   "outputs": [],
   "source": []
  },
  {
   "cell_type": "code",
   "execution_count": null,
   "metadata": {},
   "outputs": [],
   "source": []
  },
  {
   "cell_type": "code",
   "execution_count": null,
   "metadata": {},
   "outputs": [],
   "source": []
  }
 ],
 "metadata": {
  "kernelspec": {
   "display_name": "Python 3",
   "language": "python",
   "name": "python3"
  },
  "language_info": {
   "codemirror_mode": {
    "name": "ipython",
    "version": 3
   },
   "file_extension": ".py",
   "mimetype": "text/x-python",
   "name": "python",
   "nbconvert_exporter": "python",
   "pygments_lexer": "ipython3",
   "version": "3.6.9"
  }
 },
 "nbformat": 4,
 "nbformat_minor": 2
}
