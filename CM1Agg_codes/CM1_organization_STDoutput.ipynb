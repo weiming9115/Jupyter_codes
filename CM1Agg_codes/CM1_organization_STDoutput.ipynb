{
 "cells": [
  {
   "cell_type": "markdown",
   "metadata": {
    "hideCode": false,
    "hidePrompt": false
   },
   "source": [
    "### CM1 organization gradient standard output"
   ]
  },
  {
   "cell_type": "code",
   "execution_count": 1,
   "metadata": {
    "hideCode": false,
    "hidePrompt": false
   },
   "outputs": [],
   "source": [
    "import sys\n",
    "import os\n",
    "import numpy as np\n",
    "import xarray as xr\n",
    "from glob import glob\n",
    "import matplotlib.pyplot as plt\n",
    "import warnings\n",
    "from mpl_toolkits.axes_grid1 import make_axes_locatable\n",
    "from mpl_toolkits.axes_grid1.inset_locator import inset_axes\n",
    "from matplotlib.patches import Rectangle\n",
    "import metpy.calc as mpc\n",
    "from metpy.units import units\n",
    "# for animations\n",
    "from PIL import Image"
   ]
  },
  {
   "cell_type": "code",
   "execution_count": 2,
   "metadata": {
    "hideCode": false,
    "hidePrompt": false
   },
   "outputs": [],
   "source": [
    "warnings.filterwarnings('ignore')"
   ]
  },
  {
   "cell_type": "code",
   "execution_count": 3,
   "metadata": {
    "hideCode": false,
    "hidePrompt": false
   },
   "outputs": [],
   "source": [
    "# aggregation indices\n",
    "os.chdir('/data2/willytsai/python_module')\n",
    "import conorgidx_revise as agi\n",
    "from SCAI_calc4obj import labeled_obj, SCAI_calc\n",
    "from COP_calc4obj import COP\n",
    "from MICA_calc4obj import MICA"
   ]
  },
  {
   "cell_type": "code",
   "execution_count": 4,
   "metadata": {
    "hideCode": false,
    "hidePrompt": false
   },
   "outputs": [],
   "source": [
    "def running_mean(y,window_N):\n",
    "    y_avg = np.zeros(len(y))\n",
    "    avg_mask = np.ones(window_N) / window_N\n",
    "\n",
    "    y_avg = np.convolve(y, avg_mask, 'same')\n",
    "    y_avg[-window_N:] = y[-window_N:]\n",
    "    y_avg[:window_N] = y[:window_N]\n",
    "    return y_avg    "
   ]
  },
  {
   "cell_type": "code",
   "execution_count": 5,
   "metadata": {
    "hideCode": false,
    "hidePrompt": false
   },
   "outputs": [],
   "source": [
    "def read_data(data_dir,t_start=0,t_end=721):\n",
    "    os.chdir(data_dir)\n",
    "    print(data_dir)\n",
    "    file_name = glob('*nc')\n",
    "    data_zon = xr.open_dataset('cm1out_zonmean.nc')\n",
    "    data_3d = xr.open_dataset('cm1out_sub3d.nc')\n",
    "    data_2d = xr.open_dataset('cm1out_2Dvars.nc')\n",
    "    \n",
    "    # 3d data\n",
    "    th3d = data_3d.th[t_start:t_end,:30,:,:]\n",
    "    \n",
    "    # zonal mean data\n",
    "    th = data_zon.th[t_start:t_end,:,:,:]\n",
    "    qv = data_zon.qv[t_start:t_end,:,:,:]\n",
    "    u = data_zon.uinterp[t_start:t_end,:,:,:]\n",
    "    v = data_zon.vinterp[t_start:t_end,:,:,:]\n",
    "    w = data_zon.winterp[t_start:t_end,:,:,:]\n",
    "    qc = data_zon.qc[t_start:t_end,:,:,:]\n",
    "    qi = data_zon.qi[t_start:t_end,:,:,:]\n",
    "    prs = data_zon.prs[t_start:t_end,:,:,:]\n",
    "    # 2d data\n",
    "    prate = data_2d.prate[t_start:t_end,:,:]\n",
    "    pwat = data_2d.pwat[t_start:t_end,:,:]\n",
    "    cwp = data_2d.cwp[t_start:t_end,:,:]\n",
    "    cape = data_2d.cape[t_start:t_end,:,:]\n",
    "    cin = data_2d.cin[t_start:t_end,:,:]\n",
    "    \n",
    "    # temperature conversion\n",
    "    T = th/((1000*100/prs)**(287.15/1004))-273.15 # [degC]\n",
    "    # density \n",
    "    ro = prs/(287.15*(T+273.15))\n",
    "\n",
    "    x_dim = data_2d.lon\n",
    "    y_dim = data_2d.lat\n",
    "    div = np.gradient(v,y_dim*1000,axis=2) # du/dx+dv/dy \n",
    "    vor = -np.gradient(u,y_dim*1000,axis=2) # -du/dy+dv/dx\n",
    "    #relative humidty calculation, Buck (1996)\n",
    "    es_liq = 0.61121*np.exp((18.678-T/234.5)*(T/(257.14+T)))*10 #[hpa]\n",
    "    es_ice = 0.61115*np.exp((23.036-T/333.7)*(T/(279.82+T)))*10\n",
    "\n",
    "    qs_liq = 0.622*es_liq/(prs/100-es_liq)\n",
    "    qs_ice = 0.622*es_ice/(prs/100-es_ice)\n",
    "\n",
    "    rh = qv/qs_liq\n",
    "    rh_ice = qv/qs_ice\n",
    "\n",
    "    rh = rh.values.flatten()\n",
    "    rh_ice = rh_ice.values.flatten()\n",
    "    T_test = T.values.flatten()\n",
    "\n",
    "    rh[T_test<0] = rh_ice[T_test<0]\n",
    "    rh = rh.reshape((T.shape[0],T.shape[1],T.shape[2],T.shape[3]))\n",
    "    rh = xr.DataArray(rh,coords=[T.time,T.lev,T.lat,T.lon],dims=['time','lev','lat','lon'])\n",
    "    \n",
    "    return (th,T,qv,qc,qi,rh,prate*3600*24,pwat*1000,cwp,u,v,w,div,vor,cape,cin,prs,ro,th3d)"
   ]
  },
  {
   "cell_type": "code",
   "execution_count": 6,
   "metadata": {
    "hideCode": false,
    "hidePrompt": false
   },
   "outputs": [
    {
     "name": "stdout",
     "output_type": "stream",
     "text": [
      "['CM1_LD2km_RAD4K_MPICTRL_216x216_eqtset2', 'CM1_LD2km_RAD4K_OPENMPshear_216x216_U5H2km_eqtset2', 'CM1_LD2km_RAD4K_OPENMPshear_216x216_U7H2km_eqtset2', 'CM1_LD2km_RAD4K_OPENMPshear_216x216_U10H2km_eqtset2', 'CM1_LD2km_RAD4K_OPENMPshear_216x216_U12H2km_eqtset2', 'CM1_LD2km_RAD4K_OPENMPshear_216x216_U15H2km_eqtset2']\n",
      "Number of Exp:  6\n"
     ]
    }
   ],
   "source": [
    "# get weather or weather2 \n",
    "server = '/data2/willytsai/cm1r19.8/analysis/runs_cheyenne/'\n",
    "#server = '/w2-data2/willytsai/cm1r19.8/analysis/runs_cheyenne'\n",
    "os.chdir(server)\n",
    "\n",
    "exp_name = ['CM1_LD2km_RAD4K_MPICTRL_216x216_eqtset2',\n",
    "            'CM1_LD2km_RAD4K_OPENMPshear_216x216_U5H2km_eqtset2',\n",
    "            'CM1_LD2km_RAD4K_OPENMPshear_216x216_U7H2km_eqtset2',\n",
    "            'CM1_LD2km_RAD4K_OPENMPshear_216x216_U10H2km_eqtset2',\n",
    "            'CM1_LD2km_RAD4K_OPENMPshear_216x216_U12H2km_eqtset2',\n",
    "            'CM1_LD2km_RAD4K_OPENMPshear_216x216_U15H2km_eqtset2']\n",
    "print(exp_name)\n",
    "print('Number of Exp: ', len(exp_name))"
   ]
  },
  {
   "cell_type": "code",
   "execution_count": null,
   "metadata": {},
   "outputs": [],
   "source": [
    "exp_label = ['CTRL','U05_H2km','U07_H2km','U10_H2km','U12_H2km','U15_H2km']"
   ]
  },
  {
   "cell_type": "code",
   "execution_count": null,
   "metadata": {
    "hideCode": false,
    "hidePrompt": false
   },
   "outputs": [],
   "source": [
    "(th1,T1,qv1,qc1,qi1,rh1,prate1,pwat1,cwp1,u1,v1,w1,div1,vor1,cape1,cin1,prs1,ro1,th1_3d) = read_data(server+'/'+exp_name[0],t_start=0)\n",
    "(th2,T2,qv2,qc2,qi2,rh2,prate2,pwat2,cwp2,u2,v2,w2,div2,vor2,cape2,cin2,prs2,ro2,th2_3d) = read_data(server+'/'+exp_name[1])\n",
    "(th3,T3,qv3,qc3,qi3,rh3,prate3,pwat3,cwp3,u3,v3,w3,div3,vor3,cape3,cin3,prs3,ro3,th3_3d) = read_data(server+'/'+exp_name[2])\n",
    "(th4,T4,qv4,qc4,qi4,rh4,prate4,pwat4,cwp4,u4,v4,w4,div4,vor4,cape4,cin4,prs4,ro4,th4_3d) = read_data(server+'/'+exp_name[3])\n",
    "(th5,T5,qv5,qc5,qi5,rh5,prate5,pwat5,cwp5,u5,v5,w5,div5,vor5,cape5,cin5,prs5,ro5,th5_3d) = read_data(server+'/'+exp_name[4])\n",
    "(th6,T6,qv6,qc6,qi6,rh6,prate6,pwat6,cwp6,u6,v6,w6,div6,vor6,cape6,cin6,prs6,ro6,th6_3d) = read_data(server+'/'+exp_name[5])\n",
    "#(th7,T7,qv7,qc7,qi7,rh7,prate7,pwat7,cwp7,u7,v7,w7,div7,vor7,cape7,cin7,prs7,ro7,th7_3d) = read_data(server+'/'+exp_name[6])\n",
    "\n",
    "# (th5,T5,qv5,qc5,qi5,prate5,pwat5,cwp5,u5,v5,w5,div5,vor5,cape5,cin5) = read_data(server+'/'+exp_name[4])"
   ]
  },
  {
   "cell_type": "code",
   "execution_count": null,
   "metadata": {
    "hideCode": false,
    "hidePrompt": false
   },
   "outputs": [],
   "source": [
    "# read brightness data\n",
    "# data2 = xr.open_dataset(server+'/'+exp_name[0]+'/cm1out_BT.nc')\n",
    "# BT1 = data2.T # brightness temperature determined by cloud top temperature\n",
    "# data2 = xr.open_dataset(server+'/'+exp_name[1]+'/cm1out_BT.nc')\n",
    "# BT2 = data2.T # brightness temperature determined by cloud top temperature\n",
    "# data2 = xr.open_dataset(server+'/'+exp_name[2]+'/cm1out_BT.nc')\n",
    "# BT3 = data2.T # brightness temperature determined by cloud top temperature\n",
    "# data2 = xr.open_dataset(server+'/'+exp_name[3]+'/cm1out_BT.nc')\n",
    "# BT4 = data2.T # brightness temperature determined by cloud top temperature\n",
    "# data2 = xr.open_dataset(server+'/'+exp_name[4]+'/cm1out_BT.nc')\n",
    "# BT5 = data2.T # brightness temperature determined by cloud top temperature\n",
    "# data2 = xr.open_dataset(server+'/'+exp_name[5]+'/cm1out_BT.nc')\n",
    "# BT6 = data2.T # brightness temperature determined by cloud top temperature\n",
    "#data2 = xr.open_dataset(server+'/'+exp_name[6]+'/cm1out_BT.nc')\n",
    "#BT7 = data2.T # brightness temperature determined by cloud top temperature"
   ]
  },
  {
   "cell_type": "code",
   "execution_count": null,
   "metadata": {
    "hideCode": false,
    "hidePrompt": false
   },
   "outputs": [],
   "source": [
    "x_dim = pwat1.lon\n",
    "y_dim = pwat1.lat\n",
    "z_dim = T1.lev\n",
    "t_dim = np.arange(len(T1.time))/3"
   ]
  },
  {
   "cell_type": "code",
   "execution_count": null,
   "metadata": {
    "hideCode": false,
    "hidePrompt": false
   },
   "outputs": [],
   "source": [
    "fig_out = '/w2-data2/willytsai/cm1r19.8/analysis/runs_cheyenne/fig_analysis/'"
   ]
  },
  {
   "cell_type": "code",
   "execution_count": null,
   "metadata": {
    "hideCode": false,
    "hidePrompt": false
   },
   "outputs": [],
   "source": [
    "fig,ax = plt.subplots(1,2,figsize=(9,6))\n",
    "\n",
    "QR = np.ones(len(z_dim))\n",
    "for n in range(65):\n",
    "    if z_dim[n]<=12:\n",
    "        QR[n] = -4\n",
    "    elif z_dim[n]>12 and z_dim[n] <= 15:\n",
    "        QR[n] = -4*(15-z_dim[n])/3.\n",
    "    else:\n",
    "        QR[n] = 0\n",
    "        \n",
    "ax[0].plot(QR,z_dim,'-ok')\n",
    "ax[0].set_xlabel('[K/d]',fontsize=14)\n",
    "ax[0].set_ylabel('[km]',fontsize=14)\n",
    "ax[0].grid(linestyle=':')\n",
    "ax[0].set_title('Radiative cooling [K/d]')\n",
    "\n",
    "ax[1].plot(ro1[0,:,:,:].mean(axis=(1,2))*1004*QR,z_dim,'-ok')\n",
    "ax[1].set_xlabel('[J/m^3/d]',fontsize=14)\n",
    "ax[1].set_ylabel('[km]',fontsize=14)\n",
    "ax[1].grid(linestyle=':')\n",
    "ax[1].set_title('Radiation [J/m^3/d], Q$_R$')\n",
    "\n",
    "vint_QR = np.trapz(ro1[0,:,:,:].mean(axis=(1,2))*1004*QR,z_dim*1000)/86400\n",
    "print(np.trapz(ro1[0,:,:,:].mean(axis=(1,2))*1004*QR,z_dim*1000)/86400)\n",
    "#fig.savefig(fig_out+'radiative_cooling.png',dpi=200,bbox_inches='tight')"
   ]
  },
  {
   "cell_type": "code",
   "execution_count": null,
   "metadata": {},
   "outputs": [],
   "source": [
    "fig,ax = plt.subplots(1,2,figsize=(9,6))\n",
    "\n",
    "QR = np.ones(len(z_dim))\n",
    "for n in range(65):\n",
    "    if z_dim[n]>5 and z_dim[n]<17:\n",
    "        QR[n] = -4\n",
    "    elif z_dim[n]>2 and z_dim[n] <= 5:\n",
    "        QR[n] = -4*(z_dim[n]-2)/3.\n",
    "    else:\n",
    "        QR[n] = 0\n",
    "\n",
    "vint_QR2 = np.trapz(ro1[0,:,:,:].mean(axis=(1,2))*1004*QR,z_dim*1000)/86400\n",
    "factor = vint_QR/vint_QR2\n",
    "\n",
    "ax[0].plot(QR*factor,z_dim,'-ok')\n",
    "ax[0].set_xlabel('[K/d]',fontsize=14)\n",
    "ax[0].set_ylabel('[km]',fontsize=14)\n",
    "ax[0].grid(linestyle=':')\n",
    "ax[0].set_title('Radiative cooling [K/d]')\n",
    "\n",
    "ax[1].plot(ro1[0,:,:,:].mean(axis=(1,2))*1004*QR*factor,z_dim,'-ok')\n",
    "ax[1].set_xlabel('[J/m^3/d]',fontsize=14)\n",
    "ax[1].set_ylabel('[km]',fontsize=14)\n",
    "ax[1].grid(linestyle=':')\n",
    "ax[1].set_title('Radiation [J/m^3/d], Q$_R$')\n",
    "\n",
    "print(vint_QR2)\n",
    "# #fig.savefig(fig_out+'radiative_cooling.png',dpi=200,bbox_inches='tight')"
   ]
  },
  {
   "cell_type": "code",
   "execution_count": null,
   "metadata": {
    "hideCode": false,
    "hidePrompt": false,
    "scrolled": true
   },
   "outputs": [],
   "source": [
    "a = np.empty(721)\n",
    "for t in range(721):\n",
    "    a[t] = np.trapz(ro6[t,:,:,:].mean(axis=(1,2))*1004*QR,z_dim*1000)/86400\n",
    "plt.plot(a)\n",
    "plt.ylim([-398,-395.5])"
   ]
  },
  {
   "cell_type": "code",
   "execution_count": null,
   "metadata": {
    "hideCode": false,
    "hidePrompt": false
   },
   "outputs": [],
   "source": [
    "fig = plt.figure(figsize=(8,6))\n",
    "\n",
    "plt.contour(x_dim,y_dim,prate1[-360,:,:],levels=[10,20],colors=['k']\n",
    "           ,linewidths=1)\n",
    "plt.pcolor(x_dim,y_dim,pwat1[-360,:,:],cmap='Spectral',\n",
    "          vmax=65,vmin=45)\n",
    "cbar = plt.colorbar(shrink=0.8)\n",
    "cbar.set_label('[mm]',fontsize=12)\n",
    "plt.title(exp_name[0]+',  Time= '+ str(np.round(360/3,2)) + ' (h)',fontsize=13)"
   ]
  },
  {
   "cell_type": "code",
   "execution_count": null,
   "metadata": {
    "hideCode": false,
    "hidePrompt": false
   },
   "outputs": [],
   "source": [
    "# hovmuller diagram for PWAT and P_y cross\n",
    "fig,ax = plt.subplots(len(exp_name),1,figsize=(10,6))\n",
    "\n",
    "for n,(pwat,prate) in enumerate(zip([pwat1,pwat2]\n",
    "                                    ,[prate1,prate2])):\n",
    "    cf = ax[n].pcolor(t_dim,y_dim,pwat.mean('lon').T,cmap='Spectral',vmin=55,vmax=65)\n",
    "    cbaxes = inset_axes(ax[n], width=\"2%\",height=\"70%\",loc='lower left',\n",
    "               bbox_to_anchor=(1.02,0.15, 1, 1),bbox_transform=ax[0].transAxes,\n",
    "               borderpad=0) \n",
    "    cbar=fig.colorbar(cf,cax=cbaxes,orientation='vertical')\n",
    "    cbar.set_label('PW [mm]')\n",
    "\n",
    "    ax[n].contour(t_dim,y_dim,prate.mean('lon').T,levels=[20],colors=['k',]\n",
    "                 ,linewidths=1)   \n",
    "    ax[n].set_title(exp_label[n],fontsize=14,loc='right')\n",
    "    ax[n].set_ylabel('[km]',fontsize=13)\n",
    "    if n != len(exp_label)-1: \n",
    "        ax[n].set_xticks([])\n",
    "        \n",
    "    #ax[n].set_xlim([200,220])\n",
    "\n",
    "ax[n].set_xlabel('Time [hr]',fontsize=13)\n",
    "plt.tight_layout()\n",
    "#fig.savefig(fig_out+'PWAT_PREC_hovmuller.png',dpi=200,bbox_inches='tight')"
   ]
  },
  {
   "cell_type": "markdown",
   "metadata": {},
   "source": [
    "### Snapshot of evolutions"
   ]
  },
  {
   "cell_type": "code",
   "execution_count": null,
   "metadata": {
    "scrolled": true
   },
   "outputs": [],
   "source": [
    "fig,ax = plt.subplots(1,1)\n",
    "cf = ax.pcolormesh(prate2[500,:,:]/24,vmin=1,cmap='jet')\n",
    "cf.set_clim(1,60)\n",
    "#plt.colorbar(cf)\n",
    "cf.cmap.set_under('w')"
   ]
  },
  {
   "cell_type": "code",
   "execution_count": null,
   "metadata": {},
   "outputs": [],
   "source": [
    "fig,ax = plt.subplots(4,4,figsize=(10,10))\n",
    "\n",
    "t=513\n",
    "\n",
    "cf = ax[0,0].pcolor(prate1[t,:,:]/24,vmin=1,cmap='jet');ax[0,0].set_xticks([]);ax[0,0].set_yticks([]);cf.set_clim(1,60)\n",
    "cf = ax[0,1].pcolor(prate1[t+6,:,:]/24,vmin=1,cmap='jet');ax[0,1].set_xticks([]);ax[0,1].set_yticks([]);cf.set_clim(1,60)\n",
    "cf = ax[0,2].pcolor(prate1[t+12,:,:]/24,vmin=1,cmap='jet');ax[0,2].set_xticks([]);ax[0,2].set_yticks([]);cf.set_clim(1,60)\n",
    "cf = ax[0,3].pcolor(prate1[t+18,:,:]/24,vmin=1,cmap='jet');ax[0,3].set_xticks([]);ax[0,3].set_yticks([]);cf.set_clim(1,60)\n",
    "\n",
    "cf = ax[1,0].pcolor(prate2[t,:,:]/24,vmin=1,cmap='jet');ax[1,0].set_xticks([]);ax[1,0].set_yticks([]);cf.set_clim(1,60)\n",
    "cf = ax[1,1].pcolor(prate2[t+6,:,:]/24,vmin=1,cmap='jet');ax[1,1].set_xticks([]);ax[1,1].set_yticks([]);cf.set_clim(1,60)\n",
    "cf = ax[1,2].pcolor(prate2[t+12,:,:]/24,vmin=1,cmap='jet');ax[1,2].set_xticks([]);ax[1,2].set_yticks([]);cf.set_clim(1,60)\n",
    "cf = ax[1,3].pcolor(prate2[t+18,:,:]/24,vmin=1,cmap='jet');ax[1,3].set_xticks([]);ax[1,3].set_yticks([]);cf.set_clim(1,60)\n",
    "\n",
    "cf = ax[2,0].pcolor(prate4[t,:,:]/24,vmin=1,cmap='jet');ax[2,0].set_xticks([]);ax[2,0].set_yticks([]);cf.set_clim(1,60)\n",
    "cf = ax[2,1].pcolor(prate4[t+6,:,:]/24,vmin=1,cmap='jet');ax[2,1].set_xticks([]);ax[2,1].set_yticks([]);cf.set_clim(1,60)\n",
    "cf = ax[2,2].pcolor(prate4[t+12,:,:]/24,vmin=1,cmap='jet');ax[2,2].set_xticks([]);ax[2,2].set_yticks([]);cf.set_clim(1,60)\n",
    "cf = ax[2,3].pcolor(prate4[t+18,:,:]/24,vmin=1,cmap='jet');ax[2,3].set_xticks([]);ax[2,3].set_yticks([]);cf.set_clim(1,60)\n",
    "\n",
    "cf = ax[3,0].pcolor(prate6[t,:,:]/24,vmin=1,cmap='jet');ax[3,0].set_xticks([]);ax[3,0].set_yticks([]);cf.set_clim(1,60)\n",
    "cf = ax[3,1].pcolor(prate6[t+6,:,:]/24,vmin=1,cmap='jet');ax[3,1].set_xticks([]);ax[3,1].set_yticks([]);cf.set_clim(1,60)\n",
    "cf = ax[3,2].pcolor(prate6[t+12,:,:]/24,vmin=1,cmap='jet');ax[3,2].set_xticks([]);ax[3,2].set_yticks([]);cf.set_clim(1,60)\n",
    "cf = ax[3,3].pcolor(prate6[t+18,:,:]/24,vmin=1,cmap='jet');ax[3,3].set_xticks([]);ax[3,3].set_yticks([]);cf.set_clim(1,60)\n",
    "\n",
    "ax[0,0].set_title('t= '+str(t/3)+' (h)',loc='right',fontsize=11)\n",
    "ax[0,1].set_title('t= '+str((t+6)/3)+' (h)',loc='right',fontsize=11)\n",
    "ax[0,2].set_title('t= '+str((t+12)/3)+' (h)',loc='right',fontsize=11)\n",
    "ax[0,3].set_title('t= '+str((t+18)/3)+' (h)',loc='right',fontsize=11)\n",
    "\n",
    "plt.tight_layout()"
   ]
  },
  {
   "cell_type": "code",
   "execution_count": null,
   "metadata": {},
   "outputs": [],
   "source": [
    "#fig.savefig(fig_out+'PRECsnapshots_4exps.png',dpi=200,bbox_inches='tight')"
   ]
  },
  {
   "cell_type": "code",
   "execution_count": null,
   "metadata": {
    "hideCode": false,
    "hidePrompt": false
   },
   "outputs": [],
   "source": [
    "# time\n",
    "#color_label=['k','darkred','r','darkgreen','limegreen','orange','gold']\n",
    "color_label2=['k','gold','orange','limegreen','darkgreen','r','darkred']\n",
    "\n",
    "#color_label=['k','darkred']\n",
    "\n",
    "fig,ax = plt.subplots(2,1,figsize=(10,7))\n",
    "for n,(pwat,prate) in enumerate(zip([pwat1,pwat2,pwat3,pwat4,pwat5,pwat6]\n",
    "                                    ,[prate1,prate2,prate3,prate4,prate5,prate6])):\n",
    "\n",
    "    ax[0].plot(pwat.mean(('lon','lat')),color=color_label2[n],linewidth=2)\n",
    "    ax[1].plot(prate.mean(('lon','lat')),color=color_label2[n],linewidth=2)\n",
    "\n",
    "ax[0].set_ylabel('CWV [mm]',fontsize=14)\n",
    "ax[0].set_xlim([0,241]);ax[0].set_ylim([56,66])\n",
    "ax[1].set_ylabel('Prec [mm/d]',fontsize=14)\n",
    "ax[1].set_xlim([0,241]);ax[1].set_ylim([5,20])\n",
    "ax[0].set_xticks(np.linspace(0,720,11));ax[0].set_xticklabels(np.linspace(0,10,11))\n",
    "ax[1].set_xticks(np.linspace(0,720,11));ax[1].set_xticklabels(np.linspace(0,10,11))\n",
    "\n",
    "ax[0].legend(exp_label,frameon=False,ncol=2)\n",
    "ax[0].grid(linestyle=':')\n",
    "ax[1].grid(linestyle=':')\n",
    "ax[1].set_xlabel('Simulation time [day]',fontsize=13)\n",
    "\n",
    "ax[0].spines['right'].set_visible(False)\n",
    "ax[0].spines['top'].set_visible(False)\n",
    "ax[1].spines['right'].set_visible(False)\n",
    "ax[1].spines['top'].set_visible(False)\n",
    "\n",
    "#plt.rcParams(labelsize=13)\n",
    "#fig.savefig(fig_out+'domain_averaged_PW_PREC.png',dpi=200,bbox_inches='tight')"
   ]
  },
  {
   "cell_type": "code",
   "execution_count": null,
   "metadata": {},
   "outputs": [],
   "source": [
    "pm1 = prate1[-360:,:,:].mean(('lat','lon'))\n",
    "pm2 = prate2[-360:,:,:].mean(('lat','lon'))\n",
    "pm3 = prate3[-360:,:,:].mean(('lat','lon'))\n",
    "pm4 = prate4[-360:,:,:].mean(('lat','lon'))\n",
    "pm5 = prate5[-360:,:,:].mean(('lat','lon'))\n",
    "pm6 = prate6[-360:,:,:].mean(('lat','lon'))\n",
    "\n",
    "pstd1 = pm1.std()\n",
    "pstd2 = pm2.std()\n",
    "pstd3 = pm3.std()\n",
    "pstd4 = pm4.std()\n",
    "pstd5 = pm5.std()\n",
    "pstd6 = pm6.std()"
   ]
  },
  {
   "cell_type": "code",
   "execution_count": null,
   "metadata": {},
   "outputs": [],
   "source": [
    "exp_label"
   ]
  },
  {
   "cell_type": "code",
   "execution_count": null,
   "metadata": {},
   "outputs": [],
   "source": [
    "fig = plt.figure(figsize=(5.5,6.5))\n",
    "\n",
    "for n,(pm,pstd) in enumerate(zip([pm1,pm2,pm3,pm4,pm5,pm6],[pstd1,pstd2,pstd3,pstd4,pstd5,pstd6])):\n",
    "    plt.errorbar(n,pm.mean(),pstd,marker='s',ms=12,color=color_label2[n])\n",
    "plt.xticks(range(len(exp_label)),exp_label)\n",
    "plt.ylabel('Domain-averaged P [mm/d]',fontsize=14)\n",
    "plt.grid(linestyle=':')\n",
    "plt.xlim([-0.5,5.5]);plt.ylim([10.5,13.5])\n",
    "plt.tick_params(labelsize=12)\n",
    "#fig.savefig(fig_out+'errorbar_DMPREC.png',dpi=200,bbox_inches='tight')"
   ]
  },
  {
   "cell_type": "code",
   "execution_count": null,
   "metadata": {
    "hideCode": false,
    "hidePrompt": false
   },
   "outputs": [],
   "source": [
    "Z = np.tile(z_dim*1000,reps=(len(t_dim),len(y_dim),1)).swapaxes(1,2)"
   ]
  },
  {
   "cell_type": "code",
   "execution_count": null,
   "metadata": {
    "hideCode": false,
    "hidePrompt": false
   },
   "outputs": [],
   "source": [
    "# MSE time-series\n",
    "vint_mse = np.zeros((len(exp_name),len(t_dim),216))\n",
    "vint_Lqv = np.copy(vint_mse)\n",
    "vint_CpT = np.copy(vint_mse)\n",
    "\n",
    "for n,(T,qv) in enumerate(zip([T1,T2,T3,T4,T5,T6],[qv1,qv2,qv3,qv4,qv5,qv6])):\n",
    "    vint_mse[n,:,:] = np.trapz(1004*(T.squeeze()+273.15)+9.8*Z*1000+2.5e6*qv.squeeze(),z_dim*1000,axis=1).squeeze()\n",
    "    vint_Lqv[n,:,:] = np.trapz(2.5e6*qv,z_dim*1000,axis=1).squeeze()\n",
    "    vint_CpT[n,:,:] = np.trapz(1004*(T+273.15),z_dim*1000,axis=1).squeeze()"
   ]
  },
  {
   "cell_type": "code",
   "execution_count": null,
   "metadata": {
    "hideCode": false,
    "hidePrompt": false
   },
   "outputs": [],
   "source": [
    "fig = plt.figure(figsize=(10,5))\n",
    "\n",
    "for n in range(len(exp_name)):\n",
    "    plt.plot(t_dim,vint_mse[n,:,:].mean(axis=1)/1000,color=color_label[n],label=exp_name[n],\n",
    "            linewidth=1.8)\n",
    "plt.legend(frameon=False)\n",
    "    \n",
    "# quantify the drifting of CMSE\n",
    "del_mse_1deg = np.trapz(1004*np.ones(len(z_dim)),z_dim*1000,axis=0).squeeze()/1000    \n",
    "plt.plot(t_dim,vint_mse[0,0,:].mean(axis=0)*np.ones(len(t_dim))/1000)\n",
    "\n",
    "factor=0.5\n",
    "plt.fill_between(t_dim,vint_mse[0,0,:].mean(axis=0)/1000+factor*del_mse_1deg*np.ones(len(t_dim))\n",
    "                 ,vint_mse[0,0,:].mean(axis=0)/1000-factor*del_mse_1deg*np.ones(len(t_dim)),color='lightgrey',alpha=0.4)\n",
    "    \n",
    "#plt.ylim([23000,23200])\n",
    "plt.xlim([0,240])\n",
    "plt.ylabel('CMSE [KJ/kg*m]')\n",
    "plt.xlabel('Time [hr]')\n",
    "plt.grid(linestyle=':')"
   ]
  },
  {
   "cell_type": "code",
   "execution_count": null,
   "metadata": {
    "hideCode": false,
    "hidePrompt": false
   },
   "outputs": [],
   "source": [
    "# decompose into <T> & <qv> contributions\n",
    "fig = plt.figure(figsize=(10,5))\n",
    "\n",
    "for n in range(len(exp_name)):\n",
    "    plt.plot(t_dim,vint_CpT[n,:,:].mean(axis=1)/1000-vint_CpT[n,0,:].mean()/1000,color=color_label[n],label=exp_name[n],\n",
    "            linewidth=1.8)\n",
    "plt.legend(frameon=False)\n",
    "    \n",
    "plt.xlim([0,240])\n",
    "plt.ylabel('Vint_CpT [KJ/kg*m]')\n",
    "plt.xlabel('Time [hr]')\n",
    "plt.grid(linestyle=':')"
   ]
  },
  {
   "cell_type": "code",
   "execution_count": null,
   "metadata": {
    "hideCode": false,
    "hidePrompt": false
   },
   "outputs": [],
   "source": [
    "# decompose into <T> & <qv> contributions\n",
    "fig = plt.figure(figsize=(10,5))\n",
    "\n",
    "for n in range(len(exp_name)):\n",
    "    plt.plot(t_dim,vint_Lqv[n,:,:].mean(axis=1)/1000-vint_Lqv[n,0,:].mean()/1000,color=color_label[n],label=exp_name[n],\n",
    "            linewidth=1.8)\n",
    "plt.legend(frameon=False)\n",
    "    \n",
    "plt.xlim([0,240])\n",
    "plt.ylabel('Vint_Lqv [KJ/kg*m]')\n",
    "plt.xlabel('Time [hr]')\n",
    "plt.grid(linestyle=':')"
   ]
  },
  {
   "cell_type": "code",
   "execution_count": null,
   "metadata": {
    "hideCode": false,
    "hidePrompt": false
   },
   "outputs": [],
   "source": [
    "# domain-averaged z-t plane\n",
    "fig,ax = plt.subplots(len(exp_name),1,figsize=(8,15))\n",
    "\n",
    "for n,data in enumerate([rh1,rh2,rh3,rh4,rh5,rh6]):\n",
    "    ax[n].contourf(t_dim,z_dim,data.mean(axis=(2,3)).T,levels=20,cmap='jet_r')\n",
    "    ax[n].set_title(exp_name[n])\n",
    "    ax[n].set_ylabel('Height [km]')\n",
    "    ax[n].set_ylim([0,18])\n",
    "plt.xlabel('Time [hr]')\n",
    "plt.tight_layout()"
   ]
  },
  {
   "cell_type": "code",
   "execution_count": null,
   "metadata": {
    "hideCode": false,
    "hidePrompt": false
   },
   "outputs": [],
   "source": [
    "# plotting zonal mean\n",
    "# y cross-section\n",
    "marker_label=['s','o']\n",
    "\n",
    "fig,ax = plt.subplots(2,1,figsize=(9,7))\n",
    "\n",
    "for n,data in enumerate([pwat1,pwat2,pwat3,pwat4,pwat5,pwat6]):\n",
    "    ax[0].plot(x_dim,np.nanmean(data[-360:,:,:],axis=(0,1)),color=color_label2[n]\n",
    "              ,label=exp_label[n],linewidth=2)\n",
    "    #ax[0].plot(x_dim,np.ones(len(x_dim))*np.nanmean(data[-360:,:,:]),'--',color=color_label[n])\n",
    "    \n",
    "    ax[1].plot(y_dim,np.nanmean(data[-360:,:,:],axis=(0,2)),color=color_label2[n]\n",
    "              ,label=exp_label[n],linewidth=2)\n",
    "#    ax[1].plot(y_dim,np.ones(len(y_dim))*np.nanmean(data[-360:,:,:]),'--',color=color_label[n])\n",
    "\n",
    "ax[0].legend(frameon=False,fontsize=8,ncol=2);\n",
    "ax[0].set_xlabel('x direction [km]',fontsize=14);ax[0].set_ylim([57,63])\n",
    "ax[0].set_ylabel('CWV [mm]',fontsize=14)\n",
    "ax[1].set_xlabel('y direction [km]',fontsize=14);ax[1].set_ylim([57,63])\n",
    "ax[1].set_ylabel('CWV [mm]',fontsize=14)\n",
    "ax[0].set_xlim([0,432])\n",
    "ax[1].set_xlim([0,432])\n",
    "plt.tight_layout(h_pad=1)\n",
    "ax[0].grid(linestyle=':')\n",
    "ax[1].grid(linestyle=':')\n",
    "ax[1].legend(frameon=False,fontsize=8,ncol=2);\n",
    "ax[0].tick_params(labelsize=12)\n",
    "ax[1].tick_params(labelsize=12)\n",
    "\n",
    "ax[0].spines['right'].set_visible(False)\n",
    "ax[0].spines['top'].set_visible(False)\n",
    "ax[1].spines['right'].set_visible(False)\n",
    "ax[1].spines['top'].set_visible(False)\n",
    "\n",
    "fig.savefig(fig_out+'PWAT_crosssection.png',dpi=200,bbox_inches='tight')"
   ]
  },
  {
   "cell_type": "code",
   "execution_count": null,
   "metadata": {
    "hideCode": false,
    "hidePrompt": false
   },
   "outputs": [],
   "source": [
    "# y cross-section \n",
    "marker_label=['s','o']\n",
    "\n",
    "fig,ax = plt.subplots(2,1,figsize=(9,7))\n",
    "\n",
    "for n,data in enumerate([prate1,prate2,prate3,prate4,prate5,prate6]):\n",
    "    ax[0].plot(x_dim,running_mean(np.nanmean(data[-360:,:,:],axis=(0,1)),window_N=3),color=color_label2[n]\n",
    "              ,label=exp_label[n],linewidth=2)\n",
    "    \n",
    "    ax[1].plot(y_dim,running_mean(np.nanmean(data[-360:,:,:],axis=(0,2)),window_N=3),color=color_label2[n]\n",
    "              ,label=exp_label[n],linewidth=2)\n",
    "    ax[0].plot(x_dim,np.ones(len(x_dim))*np.nanmean(data[-360:,:,:]),'--',color=color_label[n])\n",
    "    ax[1].plot(y_dim,np.ones(len(y_dim))*np.nanmean(data[-360:,:,:]),'--',color=color_label[n])\n",
    "\n",
    "ax[0].legend(frameon=False,fontsize=8,ncol=2);\n",
    "ax[1].legend(frameon=False,fontsize=8,ncol=2);\n",
    "\n",
    "ax[0].set_xlabel('x direction [km]',fontsize=14);ax[0].set_xlim([0,432])\n",
    "ax[0].set_ylim([6,22])\n",
    "ax[0].set_ylabel('Precip [mm/d]',fontsize=14)\n",
    "ax[1].set_xlabel('y direction [km]',fontsize=14);ax[1].set_xlim([0,432])\n",
    "ax[1].set_ylabel('Precip [mm/d]',fontsize=14)\n",
    "ax[1].set_ylim([6,22])\n",
    "ax[0].grid(linestyle=':')\n",
    "ax[1].grid(linestyle=':')\n",
    "\n",
    "plt.tight_layout(h_pad=0.5)\n",
    "ax[0].tick_params(labelsize=12)\n",
    "ax[1].tick_params(labelsize=12)\n",
    "\n",
    "ax[0].spines['right'].set_visible(False)\n",
    "ax[0].spines['top'].set_visible(False)\n",
    "ax[1].spines['right'].set_visible(False)\n",
    "ax[1].spines['top'].set_visible(False)\n",
    "\n",
    "fig.savefig(fig_out+'PREC_crosssection.png',dpi=200,bbox_inches='tight')"
   ]
  },
  {
   "cell_type": "code",
   "execution_count": null,
   "metadata": {
    "hideCode": false,
    "hidePrompt": false
   },
   "outputs": [],
   "source": [
    "%%time\n",
    "# streamfunction, anelastic + boussinesq==> grad(ro*V) = 0\n",
    "strmf1 = np.zeros((len(t_dim),len(z_dim),len(y_dim)))\n",
    "strmf2 = np.zeros((len(t_dim),len(z_dim),len(y_dim)))\n",
    "strmf3 = np.zeros((len(t_dim),len(z_dim),len(y_dim)))\n",
    "strmf4 = np.zeros((len(t_dim),len(z_dim),len(y_dim)))\n",
    "strmf5 = np.zeros((len(t_dim),len(z_dim),len(y_dim)))\n",
    "strmf6 = np.zeros((len(t_dim),len(z_dim),len(y_dim)))\n",
    "\n",
    "for t in range(len(t_dim)):\n",
    "    for n in range(len(z_dim)):\n",
    "        strmf1[t,n,:] = np.trapz(ro1[t,:n,:,0]*v1[t,:n,:,0],z_dim[:n]*1000,axis=0) \n",
    "        strmf2[t,n,:] = np.trapz(ro2[t,:n,:,0]*v2[t,:n,:,0],z_dim[:n]*1000,axis=0)\n",
    "        strmf3[t,n,:] = np.trapz(ro3[t,:n,:,0]*v3[t,:n,:,0],z_dim[:n]*1000,axis=0)\n",
    "        strmf4[t,n,:] = np.trapz(ro4[t,:n,:,0]*v4[t,:n,:,0],z_dim[:n]*1000,axis=0)\n",
    "        strmf5[t,n,:] = np.trapz(ro5[t,:n,:,0]*v5[t,:n,:,0],z_dim[:n]*1000,axis=0)\n",
    "        strmf6[t,n,:] = np.trapz(ro6[t,:n,:,0]*v6[t,:n,:,0],z_dim[:n]*1000,axis=0)"
   ]
  },
  {
   "cell_type": "code",
   "execution_count": null,
   "metadata": {
    "hideCode": false,
    "hidePrompt": false
   },
   "outputs": [],
   "source": [
    "# RH cross section\n",
    "fig,ax = plt.subplots(len(exp_name),1,figsize=(8,10))\n",
    " \n",
    "for n,rh in enumerate([rh1,rh2,rh3,rh4,rh5,rh6]):\n",
    "    cf=ax[n].contourf(y_dim,z_dim,rh[-360:,:,:,0].mean(axis=0),levels=np.linspace(0.4,1,13),linewidths=2,cmap='jet_r')\n",
    "    ax[n].contour(y_dim,z_dim,rh[-360:,:,:,0].mean(axis=0),levels=[0.5,0.6],linewidths=1.5,colors=['k'])\n",
    "    ax[n].set_ylim([0,18])\n",
    "    if n == 0:\n",
    "        cbaxes = inset_axes(ax[n], width=\"2%\",height=\"70%\",loc='lower left',\n",
    "                   bbox_to_anchor=(1.02,0.15, 1, 1),bbox_transform=ax[0].transAxes,\n",
    "                   borderpad=0) \n",
    "        cbar=fig.colorbar(cf,cax=cbaxes,orientation='vertical')\n",
    "\n",
    "    ax[n].set_ylabel('height [km]',fontsize=13)\n",
    "    ax[n].grid(linestyle=':')\n",
    "    ax[n].set_title(exp_name[n],fontsize=14)\n",
    "    \n",
    "ax[n].set_xlabel('y direction [km]',fontsize=13)\n",
    "plt.tight_layout()"
   ]
  },
  {
   "cell_type": "code",
   "execution_count": null,
   "metadata": {
    "hideCode": false,
    "hidePrompt": false
   },
   "outputs": [],
   "source": [
    "# T cross section\n",
    "fig,ax = plt.subplots(len(exp_name)-1,1,figsize=(8,10))\n",
    " \n",
    "for n,T in enumerate([T2,T3,T4,T5,T6]):\n",
    "    cf=ax[n].contourf(y_dim,z_dim,T[-360:,:,:,0].mean(axis=0)-T1[-360:,:,:,0].mean(axis=0),levels=20,linewidths=2,cmap='RdBu_r')\n",
    "    #ax[n].contour(y_dim,z_dim,T[-360:,:,:,0].mean(axis=0),levels=['40'],linewidths=2,colors=['grey'])\n",
    "    ax[n].set_ylim([0,18])\n",
    "    if n == 0:\n",
    "        cbaxes = inset_axes(ax[n], width=\"2%\",height=\"70%\",loc='lower left',\n",
    "                   bbox_to_anchor=(1.02,0.15, 1, 1),bbox_transform=ax[0].transAxes,\n",
    "                   borderpad=0) \n",
    "        cbar=fig.colorbar(cf,cax=cbaxes,orientation='vertical',shrink=1)\n",
    "\n",
    "    ax[n].set_ylabel('height [km]',fontsize=13)\n",
    "    ax[n].grid(linestyle=':')\n",
    "    ax[n].set_title(exp_label[n+1],fontsize=14)\n",
    "    \n",
    "ax[n].set_xlabel('y direction [km]',fontsize=13)\n",
    "plt.tight_layout()"
   ]
  },
  {
   "cell_type": "code",
   "execution_count": null,
   "metadata": {
    "hideCode": false,
    "hidePrompt": false
   },
   "outputs": [],
   "source": [
    "# T cross section\n",
    "fig,ax = plt.subplots(len(exp_name)-1,1,figsize=(8,10))\n",
    "\n",
    "for n,qv in enumerate([qv2,qv3,qv4,qv5,qv6]):\n",
    "    cf=ax[n].contourf(y_dim,z_dim,1000*qv[-360:,:,:,0].mean(axis=0)-1000*qv1[-360:,:,:,0].mean(axis=0),levels=np.linspace(-1.5,1.5,21),linewidths=2,cmap='RdBu')\n",
    "    ax[n].contour(y_dim,z_dim,1000*qv[-360:,:,:,0].mean(axis=0)-1000*qv1[-360:,:,:,0].mean(axis=0),levels=[0],colors='k')\n",
    "    #ax[n].contour(y_dim,z_dim,T[-360:,:,:,0].mean(axis=0),levels=['40'],linewidths=2,colors=['grey'])\n",
    "    ax[n].set_ylim([0,18])\n",
    "    if n == 0:\n",
    "        cbaxes = inset_axes(ax[n], width=\"2%\",height=\"70%\",loc='lower left',\n",
    "                   bbox_to_anchor=(1.02,0.15, 1, 1),bbox_transform=ax[0].transAxes,\n",
    "                   borderpad=0) \n",
    "        cbar=fig.colorbar(cf,cax=cbaxes,orientation='vertical',shrink=1)\n",
    "\n",
    "    ax[n].set_ylabel('height [km]',fontsize=13)\n",
    "    ax[n].grid(linestyle=':')\n",
    "    ax[n].set_title(exp_name[n+1],fontsize=14)\n",
    "    \n",
    "ax[n].set_xlabel('y direction [km]',fontsize=13)\n",
    "plt.tight_layout()"
   ]
  },
  {
   "cell_type": "code",
   "execution_count": null,
   "metadata": {
    "hideCode": false,
    "hidePrompt": false
   },
   "outputs": [],
   "source": [
    "# U cross section\n",
    "fig,ax = plt.subplots(len(exp_name)-1,1,figsize=(8,10))\n",
    "\n",
    "for n,u in enumerate([u2,u3,u4,u5,u6]):\n",
    "    cf=ax[n].contourf(y_dim,z_dim,u[0,:,:,0],levels=np.linspace(1,15,8),linewidths=2,cmap='RdBu')\n",
    "    #ax[n].contour(y_dim,z_dim,v[-360:,:,:,0].mean(axis=0),levels=[0],colors='k')\n",
    "    #ax[n].contour(y_dim,z_dim,T[-360:,:,:,0].mean(axis=0),levels=['40'],linewidths=2,colors=['grey'])\n",
    "    #ax[n].set_ylim([0,18])\n",
    "    if n == 4:\n",
    "        cbaxes = inset_axes(ax[n], width=\"2%\",height=\"70%\",loc='lower left',\n",
    "                   bbox_to_anchor=(1.02,0.15, 1, 1),bbox_transform=ax[n].transAxes,\n",
    "                   borderpad=0) \n",
    "        cbar=fig.colorbar(cf,cax=cbaxes,orientation='vertical',shrink=1)\n",
    "        cbar.set_label('U [m/s]')\n",
    "\n",
    "    ax[n].set_ylabel('height [km]',fontsize=13)\n",
    "    ax[n].grid(linestyle=':')\n",
    "    ax[n].set_title(exp_label[n+1],fontsize=14,loc='right')\n",
    "    ax[n].set_ylim([0,6])    \n",
    "    ax[n].set_xlabel('y direction [km]',fontsize=13)\n",
    "plt.tight_layout()\n",
    "fig.savefig(fig_out+'Ushear_crossection.png',dip=200,bbox_inches='tight')"
   ]
  },
  {
   "cell_type": "code",
   "execution_count": null,
   "metadata": {
    "hideCode": false,
    "hidePrompt": false
   },
   "outputs": [],
   "source": [
    "# V cross section\n",
    "fig,ax = plt.subplots(len(exp_name)-1,1,figsize=(8,10))\n",
    "\n",
    "for n,v in enumerate([v2,v3,v4,v5,v6]):\n",
    "    cf=ax[n].contourf(y_dim,z_dim,v[-360:,:,:,0].mean(axis=0),levels=np.linspace(-1.5,1.5,21),linewidths=2,cmap='RdBu')\n",
    "    ax[n].contour(y_dim,z_dim,v[-360:,:,:,0].mean(axis=0),levels=[0],colors='k')\n",
    "    #ax[n].contour(y_dim,z_dim,T[-360:,:,:,0].mean(axis=0),levels=['40'],linewidths=2,colors=['grey'])\n",
    "    ax[n].set_ylim([0,18])\n",
    "    if n == 0:\n",
    "        cbaxes = inset_axes(ax[n], width=\"2%\",height=\"70%\",loc='lower left',\n",
    "                   bbox_to_anchor=(1.02,0.15, 1, 1),bbox_transform=ax[0].transAxes,\n",
    "                   borderpad=0) \n",
    "        cbar=fig.colorbar(cf,cax=cbaxes,orientation='vertical',shrink=1)\n",
    "\n",
    "    ax[n].set_ylabel('height [km]',fontsize=13)\n",
    "    ax[n].grid(linestyle=':')\n",
    "    ax[n].set_title(exp_name[n+1],fontsize=14)\n",
    "    \n",
    "ax[n].set_xlabel('y direction [km]',fontsize=13)\n",
    "plt.tight_layout()"
   ]
  },
  {
   "cell_type": "code",
   "execution_count": null,
   "metadata": {
    "hideCode": false,
    "hidePrompt": false
   },
   "outputs": [],
   "source": [
    "# soundings over 6 places\n",
    "y_pos = [26,52,78,104,130,156,182]\n",
    "color_snds = ['green','r','purple','purple','purple','r','green']\n",
    "ncol = [0,1,2,3,0,1,2,3]\n",
    "nrow = [0,0,0,0,1,1,1,1]\n",
    "pos_label = ['NS','EG1','S','S','S','EG2','NS']\n",
    "\n",
    "fig,ax = plt.subplots(2,4,figsize=(20,10))\n",
    "\n",
    "for n,(T,qv,prs) in enumerate(zip([T1,T2,T3,T4,T5,T6],[qv1,qv2,qv3,qv4,qv5,qv6],\n",
    "                                 [prs1,prs2,prs3,prs4,prs5,prs6])):\n",
    "    \n",
    "    mse = 1004*(T[-360:,:,:,0]+273.15).mean(axis=0)+2.5e6*qv[-360:,:,:,0].mean(axis=0) \\\n",
    "            +9.8*np.tile(z_dim*1000,reps=(len(y_dim),1)).swapaxes(0,1)\n",
    "    dse = 1004*(T[-360:,:,:,0]+273.15).mean(axis=0) \\\n",
    "            +9.8*np.tile(z_dim*1000,reps=(len(y_dim),1)).swapaxes(0,1)\n",
    "        \n",
    "    for p,y in enumerate(y_pos):\n",
    "    \n",
    "        # smse\n",
    "        qvs = mpc.saturation_mixing_ratio(prs[-360:,:,y,0].mean(axis=(0)).values/100*units('mbar')\n",
    "                            ,T[-360:,:,y,0].mean(axis=(0)).values*units('degC'))\n",
    "        smse = 1004*(T[-360:,:,y,0]+273.15).mean(axis=0)+2.5e6*qvs \\\n",
    "                +9.8*z_dim*1000\n",
    "        \n",
    "        ax[nrow[n],ncol[n]].plot(dse[:,y]/1000,z_dim,color=color_snds[p],linestyle='--')\n",
    "        ax[nrow[n],ncol[n]].plot(mse[:,y]/1000,z_dim,color=color_snds[p],linestyle='-',label=pos_label[p])\n",
    "        ax[nrow[n],ncol[n]].plot(smse/1000,z_dim,color=color_snds[p],linestyle='-.')\n",
    "\n",
    "        ax[nrow[n],ncol[n]].set_title(exp_label[n])\n",
    "        ax[nrow[n],ncol[n]].set_ylim([0,18])\n",
    "        ax[nrow[n],ncol[n]].set_xlim([300,360])\n",
    "        ax[nrow[n],ncol[n]].grid(linestyle=':')\n",
    "ax[0,0].legend()"
   ]
  },
  {
   "cell_type": "code",
   "execution_count": null,
   "metadata": {
    "hideCode": false,
    "hidePrompt": false
   },
   "outputs": [],
   "source": [
    "# soundings over 6 places, cape and cin values\n",
    "y_pos = [26,52,78,104,130,156,182]\n",
    "color_snds = ['green','r','purple','purple','purple','r','green']\n",
    "#nrow = [0,0,1,1,2,2,3]\n",
    "#ncol = [0,1,0,1,0,1,0]\n",
    "pos_label = ['NS','EG1','S','S','S','EG2','NS']\n",
    "\n",
    "fig,ax = plt.subplots(1,2,figsize=(10,5))\n",
    "\n",
    "for n,(cape,cin) in enumerate(zip([cape1,cape2,cape3,cape4,cape5,cape6]\n",
    "                                  ,[cin1,cin2,cin3,cin4,cin5,cin6])):    \n",
    "    for p,y in enumerate(y_pos):\n",
    "        ax[0].plot(p,cape[-360:,y,:].mean(),'^',color=color_label[n])\n",
    "        ax[1].plot(p,cin[-360:,y,:].mean(),'o',color=color_label[n])\n",
    "\n",
    "ax[0].set_xticks(np.arange(len(y_pos)))\n",
    "ax[1].set_xticks(np.arange(len(y_pos)))\n",
    "ax[0].set_xticklabels(pos_label)\n",
    "ax[1].set_xticklabels(pos_label)"
   ]
  },
  {
   "cell_type": "code",
   "execution_count": null,
   "metadata": {
    "hideCode": false,
    "hidePrompt": false
   },
   "outputs": [],
   "source": [
    "%%time\n",
    "fig,ax = plt.subplots(2,3,figsize=(12,8))\n",
    "nrow = [0,0,0,1,1,1]\n",
    "ncol = [0,1,2,0,1,2]\n",
    "clevs = np.linspace(-1000,1000,21)\n",
    "\n",
    "for n,(strmf,rh) in enumerate(zip([strmf1,strmf2,strmf3,strmf4,strmf5,strmf6]\n",
    "                         ,[rh1,rh2,rh3,rh4,rh5,rh6])):\n",
    "    ax[nrow[n],ncol[n]].contour(y_dim,z_dim,strmf[-360:,:,:].mean(axis=0),levels=clevs,linewidths=1,colors='k')\n",
    "    ax[nrow[n],ncol[n]].contour(y_dim,z_dim,strmf[-360:,:,:].mean(axis=0),levels=['0'],linewidths=2,colors=['w'])\n",
    "    cf = ax[nrow[n],ncol[n]].pcolor(y_dim,z_dim,100*rh[-360:,:,:,0].mean(axis=0),vmin=40,vmax=100,cmap='BrBG')\n",
    "    #cbar = plt.colorbar(cf,ax=ax[nrow[n],ncol[n]])\n",
    "    #cbar.set_label('RH [%]',fontsize=12)\n",
    "    ax[nrow[n],ncol[n]].set_ylim([0,18])\n",
    "\n",
    "    ax[nrow[n],ncol[n]].set_ylabel('height [km]',fontsize=13)\n",
    "    ax[nrow[n],ncol[n]].grid(linestyle=':')\n",
    "    ax[nrow[n],ncol[n]].set_title(exp_label[n],fontsize=14,loc='right')\n",
    "    if nrow[n] != 1:\n",
    "        ax[nrow[n],ncol[n]].set_xticklabels([])\n",
    "    if nrow[n] == 1:\n",
    "        ax[nrow[n],ncol[n]].set_xlabel('y direction [km]',fontsize=13)\n",
    "    \n",
    "    if n == len(exp_label)-1:\n",
    "        cbaxes = fig.add_axes([1.01, 0.2, 0.02, 0.6]) \n",
    "        cb = plt.colorbar(cf, cax = cbaxes)  \n",
    "        cb.set_label('Relative humidity [%]',fontsize=13)\n",
    "    \n",
    "plt.tight_layout()\n",
    "fig.savefig(fig_out+'rh_strm_crosssection.png',dip=200,bbox_inches='tight')"
   ]
  },
  {
   "cell_type": "code",
   "execution_count": null,
   "metadata": {},
   "outputs": [],
   "source": [
    "%%time\n",
    "fig,ax = plt.subplots(2,3,figsize=(12,8))\n",
    "nrow = [0,0,0,1,1,1]\n",
    "ncol = [0,1,2,0,1,2]\n",
    "clevs = np.linspace(-0.2,0.2,11)\n",
    "\n",
    "for n,(strmf,rh) in enumerate(zip([ro1*w1,ro1*w2,ro1*w3,ro1*w4,ro1*w5,ro1*w6]\n",
    "                         ,[rh1,rh2,rh3,rh4,rh5,rh6])):\n",
    "    cf=ax[nrow[n],ncol[n]].contourf(y_dim,z_dim,-9.8*strmf[-360:,:,:,0].mean(axis=0),levels=clevs,linewidths=1,cmap='RdBu')\n",
    "    #ax[nrow[n],ncol[n]].contour(y_dim,z_dim,9.8*strmf[-360:,:,:,0].mean(axis=0),levels=clevs,linewidths=0.5,color='k')\n",
    "    #ax[nrow[n],ncol[n]].contour(y_dim,z_dim,strmf[-360:,:,:,0].mean(axis=0),levels=['0'],linewidths=2,colors=['w'])\n",
    "    #cf = ax[nrow[n],ncol[n]].pcolor(y_dim,z_dim,100*rh[-360:,:,:,0].mean(axis=0),vmin=40,vmax=100,cmap='BrBG')\n",
    "    #cbar = plt.colorbar(cf,ax=ax[nrow[n],ncol[n]])\n",
    "    #cbar.set_label('RH [%]',fontsize=12)\n",
    "    ax[nrow[n],ncol[n]].set_ylim([0,18])\n",
    "\n",
    "    ax[nrow[n],ncol[n]].set_ylabel('height [km]',fontsize=13)\n",
    "    ax[nrow[n],ncol[n]].grid(linestyle=':')\n",
    "    ax[nrow[n],ncol[n]].set_title(exp_label[n],fontsize=14,loc='right')\n",
    "    if nrow[n] != 1:\n",
    "        ax[nrow[n],ncol[n]].set_xticklabels([])\n",
    "    if nrow[n] == 1:\n",
    "        ax[nrow[n],ncol[n]].set_xlabel('y direction [km]',fontsize=13)\n",
    "    \n",
    "    if n == len(exp_label)-1:\n",
    "        cbaxes = fig.add_axes([1.01, 0.2, 0.02, 0.6]) \n",
    "        cb = plt.colorbar(cf, cax = cbaxes)  \n",
    "        cb.set_label('Omega [Pa/s]',fontsize=13)\n",
    "    \n",
    "plt.tight_layout()\n",
    "#fig.savefig(fig_out+'rh_strm_crosssection.png',dip=200,bbox_inches='tight')"
   ]
  },
  {
   "cell_type": "code",
   "execution_count": null,
   "metadata": {
    "hideCode": false,
    "hidePrompt": false
   },
   "outputs": [],
   "source": [
    "# cloud fraction \n",
    "fig,ax = plt.subplots(len(exp_label),1,figsize=(8,14))\n",
    " \n",
    "for n,(qc,qi) in enumerate(zip([qc1,qc2,qc3,qc4,qc5,qc6]\n",
    "                         ,[qi1,qi2,qi3,qi4,qi5,qi6])):\n",
    "    #ax[n].contour(y_dim,z_dim,strmf[-360:,:,:].mean(axis=0),levels=10,linewidths=1,colors='k')\n",
    "    #ax[n].contour(y_dim,z_dim,strmf[-360:,:,:].mean(axis=0),levels=['0'],linewidths=2,colors=['grey'])\n",
    "    cf = ax[n].pcolor(y_dim,z_dim,qc[-360:,:,:,0].mean(axis=0)+qi[-360:,:,:,0].mean(axis=0),vmin=1e-5,cmap='BrBG')\n",
    "    cbar = plt.colorbar(cf,ax=ax[n])\n",
    "    ax[n].set_ylim([0,18])\n",
    "\n",
    "    ax[n].set_ylabel('height [km]',fontsize=13)\n",
    "    ax[n].grid(linestyle=':')\n",
    "    ax[n].set_title(exp_name[n],fontsize=14)\n",
    "    \n",
    "ax[n].set_xlabel('y direction [km]',fontsize=13)\n",
    "plt.tight_layout()"
   ]
  },
  {
   "cell_type": "code",
   "execution_count": null,
   "metadata": {
    "hideCode": false,
    "hidePrompt": false
   },
   "outputs": [],
   "source": [
    "# lumpsize distribution \n",
    "\n",
    "def lumpsize_dist(prec):\n",
    "    \n",
    "    size_cri = np.linspace(0,400,101)\n",
    "    lumpsize_dist = np.zeros((2,len(size_cri)-1))\n",
    "\n",
    "    for t in range(prec.shape[0]):\n",
    "        pr_s = prec[t,65:151,:] # only in the shear region\n",
    "        pr_ns = np.concatenate((prec[t,-43:,:],prec[t,:43,:]))\n",
    "        cldmask_s = np.zeros(pr_s.shape)\n",
    "        cldmask_ns = np.copy(cldmask_s)\n",
    "        cldmask_s[pr_s> 5] = 1 # cloudmaks, prec>5mm/d, cold cloud\n",
    "        cldmask_ns[pr_ns> 5] = 1 # cloudmaks, prec>5mm/d, cold cloud\n",
    "        \n",
    "        try:\n",
    "        # shear region\n",
    "            labeled_array, num_feature = labeled_obj(cldmask_s,1,1)\n",
    "            for label in np.unique(labeled_array)[1:]:\n",
    "                tmp = len(np.where(labeled_array == label)[0])\n",
    "                for i in range(len(size_cri)-1):\n",
    "                    if (tmp >= size_cri[i]) and (tmp < size_cri[i+1]):\n",
    "                        lumpsize_dist[0,i] += 1\n",
    "        # non-shear region                \n",
    "            labeled_array, num_feature = labeled_obj(cldmask_ns,1,1)\n",
    "            for label in np.unique(labeled_array)[1:]:\n",
    "                tmp = len(np.where(labeled_array == label)[0]) # pixel numbers: size\n",
    "                for i in range(len(size_cri)-1):\n",
    "                    if (tmp >= size_cri[i]) and (tmp < size_cri[i+1]):\n",
    "                        lumpsize_dist[1,i] += 1\n",
    "                         \n",
    "        except:\n",
    "            continue\n",
    "            \n",
    "    return lumpsize_dist"
   ]
  },
  {
   "cell_type": "code",
   "execution_count": null,
   "metadata": {
    "hideCode": false,
    "hidePrompt": false
   },
   "outputs": [],
   "source": [
    "%%time\n",
    "size_cri = np.linspace(0,400,101)\n",
    "psize_dist = np.zeros((len(exp_label),2,len(size_cri)-1))\n",
    "for n,prate in enumerate([prate1,prate2,prate3,prate4,prate5,prate6]):\n",
    "    tmp = prate[-360:,:,:]\n",
    "    psize_dist[n,:,:] = lumpsize_dist(tmp)"
   ]
  },
  {
   "cell_type": "code",
   "execution_count": null,
   "metadata": {
    "hideCode": false,
    "hidePrompt": false
   },
   "outputs": [],
   "source": [
    "nrow = [0,0,1,1,2,2,3]\n",
    "ncol = [0,1,0,1,0,1,0]\n",
    "fig,ax = plt.subplots(3,2,figsize=(10,15))\n",
    "\n",
    "for n in range(len(exp_label)):\n",
    "    ax[nrow[n],ncol[n]].plot(4*size_cri[:-1], psize_dist[n,0,:]/np.sum(psize_dist[n,0,:]),label='Shear region')\n",
    "    ax[nrow[n],ncol[n]].plot(4*size_cri[:-1], psize_dist[n,1,:]/np.sum(psize_dist[n,1,:]),label='Non-Shear region')\n",
    "    if n > 0:\n",
    "        ref_dist = (psize_dist[0,1,:]/np.sum(psize_dist[0,1,:]) + psize_dist[0,1,:]/np.sum(psize_dist[0,1,:]))/2\n",
    "        ax[nrow[n],ncol[n]].plot(4*size_cri[:-1], ref_dist ,color='lightgrey')\n",
    "    ax[nrow[n],ncol[n]].set_yscale('log')\n",
    "    ax[nrow[n],ncol[n]].legend(frameon=False,fontsize=11)\n",
    "    ax[nrow[n],ncol[n]].set_xlabel('Size [km$^2$]',fontsize=13)\n",
    "    ax[nrow[n],ncol[n]].set_ylabel('probability',fontsize=13)\n",
    "    ax[nrow[n],ncol[n]].text(100,1e-1,exp_label[n],fontsize=13)\n",
    "    ax[nrow[n],ncol[n]].set_ylim([1e-5,0])\n",
    "    ax[nrow[n],ncol[n]].grid(linestyle=':')\n",
    "    \n",
    "    if n == 7:\n",
    "        ax[nrow[n],ncol[n]].spines['bottom'].set_edegcolor('white')\n",
    "        ax[nrow[n],ncol[n]].spines['top'].set_edgecolor('w') \n",
    "        ax[nrow[n],ncol[n]].spines['right'].set_edgecolor('w')\n",
    "        ax[nrow[n],ncol[n]].spines['left'].set_edgecolor('w')\n",
    "        #ax[nrow[n],ncol[n]].set_xticks([])\n",
    "        #ax[nrow[n],ncol[n]].set_yticks([])\n",
    "        \n",
    "fig.savefig(fig_out+'objsize_PDF.png',dpi=200,bbox_inches='tight')"
   ]
  },
  {
   "cell_type": "markdown",
   "metadata": {
    "hideCode": false,
    "hidePrompt": false
   },
   "source": [
    "### Organization gradient (OG)"
   ]
  },
  {
   "cell_type": "code",
   "execution_count": null,
   "metadata": {
    "hideCode": false,
    "hidePrompt": false
   },
   "outputs": [],
   "source": [
    "Iorg_time = np.load('/data2/willytsai/cm1r19.8/analysis/runs_cheyenne/Iorg_com_shear.npy')\n",
    "SCAI_time = np.load('/data2/willytsai/cm1r19.8/analysis/runs_cheyenne/SCAI_com_shear.npy')\n",
    "COP_time = np.load('/data2/willytsai/cm1r19.8/analysis/runs_cheyenne/COP_com_shear.npy')"
   ]
  },
  {
   "cell_type": "code",
   "execution_count": null,
   "metadata": {
    "hideCode": false,
    "hidePrompt": false
   },
   "outputs": [],
   "source": [
    "color_label=['k','darkred','r','darkgreen','limegreen','orange','gold']\n",
    "\n",
    "shear_int = [0,7.5,6,5,3.5,2.5]\n",
    "shear_depth = [0,2,2,2,2,2,2]\n",
    "fig = plt.figure(figsize=(5,5))\n",
    "for n,(s_int,s_dep) in enumerate(zip(shear_int,shear_depth)):\n",
    "    \n",
    "    plt.plot(s_int,SCAI_time[n,0,-360:].mean(),marker='^',markersize=12,linestyle='None'\n",
    "                 ,color=color_label[n],markerfacecolor='None',markeredgewidth=2) # SCAI_BT\n",
    "    plt.plot(s_int,SCAI_time[n,1,-360:].mean(),marker='x',markersize=12,linestyle='None'\n",
    "                 ,color=color_label[n],markerfacecolor='None',markeredgewidth=2) # SCAI_BT\n",
    "    \n",
    "plt.xlabel('shear intensity',fontsize=15)\n",
    "plt.ylabel('SCAI',fontsize=15);#plt.ylim([-6,0])\n",
    "plt.legend(exp_label,fontsize=9)\n",
    "plt.grid(linestyle=\":\")\n",
    "plt.tick_params(labelsize=13)\n",
    "plt.title('SCAI',fontsize=14)\n",
    "\n",
    "# for n,(s_int,s_dep) in enumerate(zip(shear_int,shear_depth)):\n",
    "\n",
    "#     plt.plot(s_int,SCAI_time[n,0,-360:].mean()-SCAI_time[n,1,-360:].mean(),marker='o',markersize=12,linestyle='None'\n",
    "#                  ,color=color_label[n],markerfacecolor='None',markeredgewidth=2) # SCAI_BT"
   ]
  },
  {
   "cell_type": "code",
   "execution_count": null,
   "metadata": {
    "hideCode": false,
    "hidePrompt": false
   },
   "outputs": [],
   "source": [
    "#shear_int = [0,3.75,7.5,2.5,5,1.25,2.5]\n",
    "#shear_depth = [0,4,2,4,2,4,2]\n",
    "fig,ax = plt.subplots(1,2,figsize=(10,5))\n",
    "\n",
    "for n,(s_int,s_dep) in enumerate(zip(shear_int,shear_depth)):\n",
    "\n",
    "    ax[0].plot(s_int,COP_time[n,0,-360:].mean(),marker='^',markersize=13,linestyle='None'\n",
    "                 ,color=color_label[n],markerfacecolor='None',markeredgewidth=2) # COP\n",
    "ax[0].legend(exp_label,fontsize=10)\n",
    "\n",
    "for n,(s_int,s_dep) in enumerate(zip(shear_int,shear_depth)):\n",
    "    ax[0].plot(s_int,COP_time[n,1,-360:].mean(),marker='x',markersize=13,linestyle='None'\n",
    "                 ,color=color_label[n],markerfacecolor='None',markeredgewidth=2) # COP\n",
    "\n",
    "for n,(s_int,s_dep) in enumerate(zip(shear_int,shear_depth)):\n",
    "\n",
    "    ax[1].plot(s_int,COP_time[n,0,-360:].mean()-COP_time[n,1,-360:].mean(),marker='o',markersize=12,linestyle='None'\n",
    "                 ,color=color_label[n],markerfacecolor='None',markeredgewidth=2) # COP\n",
    "ax[1].legend(exp_label,fontsize=10)\n",
    "    \n",
    "ax[0].set_xlabel('shear intensity [s$^{-1}$]',fontsize=15)\n",
    "ax[1].set_xlabel('shear intensity [s$^{-1}$]',fontsize=15)\n",
    "ax[0].set_ylabel('COP',fontsize=18);#plt.ylim([0,10])\n",
    "ax[1].set_ylabel('$\\Delta$COP',fontsize=18);#plt.ylim([0,10])\n",
    "ax[0].grid(linestyle=\":\")\n",
    "ax[1].grid(linestyle=\":\")\n",
    "ax[0].tick_params(labelsize=13)\n",
    "ax[1].tick_params(labelsize=13)\n",
    "ax[1].set_title('COP difference (S-NS)')\n",
    "plt.tight_layout()\n",
    "\n",
    "fig.savefig(fig_out+'COP_shearintensity.png',dpi=200,bbox_inches='tight')\n",
    "# for n,(s_int,s_dep) in enumerate(zip(shear_int,shear_depth)):\n",
    "\n",
    "#      plt.plot(s_int,COP_pr_time[n,0,-360:].mean()-COP_pr_time[n,1,-360:].mean(),marker='o',markersize=12,linestyle='None'\n",
    "#                  ,color=color_label[n],markerfacecolor='None',markeredgewidth=2) # COP_pr"
   ]
  },
  {
   "cell_type": "code",
   "execution_count": null,
   "metadata": {},
   "outputs": [],
   "source": [
    "pwat5"
   ]
  },
  {
   "cell_type": "code",
   "execution_count": null,
   "metadata": {},
   "outputs": [],
   "source": [
    "## standardizing, centered PW \n",
    "fig = plt.figure(figsize=(13,4))\n",
    "plt.contourf(t_dim,y_dim,pwat5.mean(axis=2).T,cmap='')\n",
    "plt.colorbar()"
   ]
  },
  {
   "cell_type": "code",
   "execution_count": null,
   "metadata": {},
   "outputs": [],
   "source": [
    "pwat_standardized = (pwat5-pwat5.mean(axis=(1,2)))/pwat5.std(axis=(1,2))"
   ]
  },
  {
   "cell_type": "code",
   "execution_count": null,
   "metadata": {},
   "outputs": [],
   "source": [
    "def centered_pwat_xcolumn(pwat_stded_xcolumn):\n",
    "    L = len(pwat_stded_xcolumn)\n",
    "    idx = np.where(pwat_stded_xcolumn.values == np.max(pwat_stded_xcolumn).values)[0]\n",
    "    pwat_re_xcolumn = np.roll(pwat_stded_xcolumn,int(L/2)-idx)\n",
    "    pwat_mean_xcolumn = pwat_stded_xcolumn.mean().values\n",
    "    \n",
    "    return pwat_re_xcolumn, pwat_mean_xcolumn  "
   ]
  },
  {
   "cell_type": "code",
   "execution_count": null,
   "metadata": {},
   "outputs": [],
   "source": [
    "idx = np.where(pwat_standardized[400,:,65].values == np.max(pwat_standardized[400,:,65]).values)[0]\n",
    "test = np.roll(pwat_standardized[400,:,65],int(len(x_dim)/2)-idx)"
   ]
  },
  {
   "cell_type": "code",
   "execution_count": null,
   "metadata": {},
   "outputs": [],
   "source": [
    "plt.plot(pwat_standardized[400,:,65],'k')\n",
    "plt.plot(test)"
   ]
  },
  {
   "cell_type": "code",
   "execution_count": null,
   "metadata": {},
   "outputs": [],
   "source": [
    "pwat_centered_pattern = np.empty(pwat_standardized[0,:,:].shape)\n",
    "pwat_sorted_pattern = np.copy(pwat_standardized)\n",
    "pwat_mean_xcolumn = np.empty(len(x_dim))\n",
    "\n",
    "for t in range(len(t_dim)):\n",
    "    for i in range(216):\n",
    "        # 2D centered pattern\n",
    "        pwat_centered_pattern[:,i], pwat_mean_xcolumn[i] = centered_pwat_xcolumn(pwat_standardized[t,:,i])\n",
    "    \n",
    "    idx_sorted = np.argsort(pwat_mean_xcolumn)\n",
    "    pwat_sorted_pattern[t,:,:] = pwat_centered_pattern[:,idx_sorted]"
   ]
  },
  {
   "cell_type": "code",
   "execution_count": null,
   "metadata": {},
   "outputs": [],
   "source": [
    "plt.pcolor(pwat_sorted_pattern[600,:,:],cmap='RdBu_r',vmin=-2,vmax=2)\n",
    "plt.colorbar()"
   ]
  },
  {
   "cell_type": "code",
   "execution_count": null,
   "metadata": {},
   "outputs": [],
   "source": [
    "plt.pcolor(pwat_sorted_pattern[-360:,:,162].T,vmax=3,vmin=-0.5)\n",
    "plt.colorbar()\n",
    "plt.contour(pwat_sorted_pattern[-360:,:,162].T,levels=[1])"
   ]
  },
  {
   "cell_type": "code",
   "execution_count": null,
   "metadata": {},
   "outputs": [],
   "source": []
  },
  {
   "cell_type": "code",
   "execution_count": null,
   "metadata": {},
   "outputs": [],
   "source": []
  },
  {
   "cell_type": "markdown",
   "metadata": {
    "hideCode": false,
    "hidePrompt": false
   },
   "source": [
    "### Cold pool intensity calculation\n",
    "cold pool = vint_(theta_purt/theta_env)dz"
   ]
  },
  {
   "cell_type": "code",
   "execution_count": null,
   "metadata": {
    "hideCode": false,
    "hidePrompt": false,
    "scrolled": true
   },
   "outputs": [],
   "source": [
    "tmp = th1_3d[500,:,:,:]\n",
    "buoy = 9.8*(tmp-tmp.mean(('lat','lon')))/tmp.mean(('lat','lon')) # g*th'/th_env\n",
    "idx = np.where(buoy[:,150,200]<-0.005)[0]\n",
    "h=0\n",
    "for n in range(len(idx)-1):\n",
    "    if (idx[n+1] - idx[n]) <=2: # allowing one discontinuity\n",
    "        h = idx[n+1]\n",
    "    else:\n",
    "        break"
   ]
  },
  {
   "cell_type": "code",
   "execution_count": null,
   "metadata": {
    "hideCode": false,
    "hidePrompt": false
   },
   "outputs": [],
   "source": [
    "def coldpool_intensity(t):\n",
    "    \n",
    "    for i in range(len(y_dim)):\n",
    "        for j in range(len(x_dim)):\n",
    "            idx = np.where(buoy[t,:,i,j]<-0.005)[0]  # H = highest altitude of −0.005 m s−2\n",
    "            h=0\n",
    "            for n in range(len(idx)-1):\n",
    "                if (idx[n+1] - idx[n]) <=2: # allowing one discontinuity\n",
    "                    h = idx[n+1]\n",
    "                else:\n",
    "                    break\n",
    "            if h > 0:        \n",
    "                cp_den[i,j] = np.sqrt(2*np.trapz(-buoy[t,:h+1,i,j],z_dim[:h+1]*1000)) # cold pool speed[m/s]\n",
    "            \n",
    "    return cp_den"
   ]
  },
  {
   "cell_type": "code",
   "execution_count": null,
   "metadata": {
    "hideCode": false,
    "hidePrompt": false
   },
   "outputs": [],
   "source": [
    "\n",
    "buoy = 9.8*(th2_3d-th2_3d.mean(('lat','lon')))/th2_3d.mean(('lat','lon')) # g*th'/th_env\n",
    "cp_den = np.zeros((len(t_dim),len(y_dim),len(x_dim)))*np.nan\n",
    "\n",
    "for t in range(2):\n",
    "    for i in range(len(y_dim)):\n",
    "        for j in range(len(x_dim)):\n",
    "            idx = np.where(buoy[t,:,i,j]<-0.005)[0]  # H = highest altitude of −0.005 m s−2\n",
    "            h=0\n",
    "            for n in range(len(idx)-1):\n",
    "                if (idx[n+1] - idx[n]) <=2: # allowing one discontinuity\n",
    "                    h = idx[n+1]\n",
    "                else:\n",
    "                    break\n",
    "            if h > 0:        \n",
    "                cp_den[t,i,j] = np.sqrt(2*np.trapz(-buoy[t,:h+1,i,j],z_dim[:h+1]*1000)) # cold pool speed[m/s]"
   ]
  },
  {
   "cell_type": "code",
   "execution_count": null,
   "metadata": {
    "hideCode": false,
    "hidePrompt": false
   },
   "outputs": [],
   "source": [
    "fig = plt.figure(figsize=(8,7))\n",
    "\n",
    "plt.pcolor(x_dim,y_dim,cp_den[500,:,:],cmap='GnBu',vmin=0,vmax=15)\n",
    "cbar = plt.colorbar(shrink=0.7)\n",
    "cbar.set_label('Cold pool intendsity [m/s]',fontsize=13)\n",
    "plt.contour(x_dim,y_dim,prate2[500,:,:],levels=[10,20],colors=['m'])"
   ]
  },
  {
   "cell_type": "code",
   "execution_count": null,
   "metadata": {
    "hideCode": false,
    "hidePrompt": false
   },
   "outputs": [],
   "source": [
    "# shear_int = [0,3.75,7.5,2.5,5,1.25,2.5]\n",
    "# shear_depth = [0,4,2,4,2,4,2]\n",
    "# fig = plt.figure(figsize=(6,6))\n",
    "# for n,(s_int,s_dep) in enumerate(zip(shear_int,shear_depth)):\n",
    "\n",
    "#      plt.plot(s_int,Iorg_time[n,0,-360:].mean(),marker='^',markersize=12,linestyle='None'\n",
    "#                  ,color=color_label[n],markerfacecolor='None',markeredgewidth=2) # Iorg\n",
    "\n",
    "# plt.xlabel('shear intensity',fontsize=15)\n",
    "# plt.ylabel('Iorg',fontsize=15);#plt.ylim([0,10])\n",
    "# plt.legend(exp_label,loc=1,fontsize=9)\n",
    "# plt.grid(linestyle=\":\")\n",
    "# plt.tick_params(labelsize=13)\n",
    "# plt.title('Iorg in the shear region')\n",
    "\n",
    "# for n,(s_int,s_dep) in enumerate(zip(shear_int,shear_depth)):\n",
    "\n",
    "#      plt.plot(s_int,Iorg_pr_time[n,0,-360:].mean(),marker='o',markersize=12,linestyle='None'\n",
    "#                  ,color=color_label[n],markerfacecolor='None',markeredgewidth=2) # Iorg_pr"
   ]
  },
  {
   "cell_type": "code",
   "execution_count": null,
   "metadata": {
    "hideCode": false,
    "hidePrompt": false
   },
   "outputs": [],
   "source": [
    "# vertical dynamic structures of soundings over 6 places\n",
    "y_pos = [26,52,78,104,130,156,182]\n",
    "color_snds = ['green','r','purple','purple','purple','r','green']\n",
    "nrow = [0,0,1,1,2,2,3]\n",
    "ncol = [0,1,0,1,0,1,0]\n",
    "pos_label = ['NS','EG1','S','S','S','EG2','NS']\n",
    "\n",
    "fig,ax = plt.subplots(4,2,figsize=(8,12))\n",
    "\n",
    "for n,(w,ro) in enumerate(zip([w1,w2,w3,w4,w5,w6,w7],[ro1,ro2,ro3,ro4,ro5,ro6,ro7])):\n",
    "    \n",
    "    for p,y in enumerate(y_pos):\n",
    "        ax[nrow[n],ncol[n]].plot(w[-360:,:,y,0].mean(axis=0),z_dim,color=color_snds[p])\n",
    "        ax[nrow[n],ncol[n]].set_ylabel('Height [km]')\n",
    "        ax[nrow[n],ncol[n]].set_xlabel('Vert. velocity [m/s]')\n",
    "        ax[nrow[n],ncol[n]].text(0.02,16,exp_label[n],fontsize=12)\n",
    "        ax[nrow[n],ncol[n]].set_ylim([0,18])\n",
    "        ax[nrow[n],ncol[n]].vlines(x=0,ymin=0,ymax=18,color='lightgrey')\n",
    "        ax[nrow[n],ncol[n]].set_xlim([-0.03,0.05])\n",
    "\n",
    "plt.tight_layout()"
   ]
  },
  {
   "cell_type": "code",
   "execution_count": null,
   "metadata": {
    "hideCode": false,
    "hidePrompt": false
   },
   "outputs": [],
   "source": [
    "# prec vs CWV diagram \n",
    "pwat_cri = np.linspace(50,80,31)\n",
    "prate_s_com = np.zeros((len(exp_label),len(pwat_cri)-1))\n",
    "prate_ns_com = np.copy(prate_s_com)\n",
    "\n",
    "fig,ax = plt.subplots(4,2,figsize=(10,15))\n",
    "\n",
    "nrow = [0,0,1,1,2,2,3]\n",
    "ncol = [0,1,0,1,0,1,0]\n",
    "\n",
    "for n,(prate,pwat) in enumerate(zip([prate1,prate2,prate3,prate4,prate5,prate6]\n",
    "                                  ,[pwat1,pwat2,pwat3,pwat4,pwat5,pwat6])):\n",
    "    #S\n",
    "    prate_s = prate[-360:,65:151,:].values.flatten()\n",
    "    pwat_s = pwat[-360:,65:151,:].values.flatten()\n",
    "    #NS\n",
    "    prate_ns = np.concatenate((prate[-360:,:43,:],prate[-360:,-43:,:])).flatten()\n",
    "    pwat_ns = np.concatenate((pwat[-360:,:43,:],pwat[-360:,-43:,:])).flatten()\n",
    "    \n",
    "    prate_s_bin = np.zeros(len(pwat_cri)-1)\n",
    "    prate_ns_bin = np.zeros(len(pwat_cri)-1)\n",
    "    for i in range(len(pwat_cri)-1):\n",
    "        idx_s = np.where(np.logical_and(pwat_s>=pwat_cri[i],pwat_s<pwat_cri[i+1]))[0]\n",
    "        idx_ns = np.where(np.logical_and(pwat_ns>=pwat_cri[i],pwat_ns<pwat_cri[i+1]))[0]\n",
    "        prate_s_bin[i] = np.nanmean(prate_s[idx_s])\n",
    "        prate_ns_bin[i] = np.nanmean(prate_ns[idx_ns])\n",
    "        \n",
    "    ax[nrow[n],ncol[n]].plot(pwat_cri[:-1],prate_s_bin/24,label='Shear')\n",
    "    ax[nrow[n],ncol[n]].plot(pwat_cri[:-1],prate_ns_bin/24,label='Non-Shear')\n",
    "    ax[nrow[n],ncol[n]].legend()\n",
    "    ax[nrow[n],ncol[n]].text(56.5,20,exp_label[n],fontsize=13)\n",
    "    ax[nrow[n],ncol[n]].set_ylabel('P [mm/hr]',fontsize=13)\n",
    "    ax[nrow[n],ncol[n]].grid(linestyle=':')\n",
    "    if nrow[n] == 3:\n",
    "        ax[nrow[n],ncol[n]].set_xlabel('CWV [mm]',fontsize=13)\n",
    "    ax[nrow[n],ncol[n]].set_xlim([55,80])\n",
    "    ax[nrow[n],ncol[n]].set_ylim([-2,30])\n",
    "    \n",
    "    # save data\n",
    "    prate_s_com[n,:] = prate_s_bin/24\n",
    "    prate_ns_com[n,:] = prate_ns_bin/24"
   ]
  },
  {
   "cell_type": "code",
   "execution_count": null,
   "metadata": {
    "hideCode": false,
    "hidePrompt": false
   },
   "outputs": [],
   "source": [
    "from scipy.stats import linregress"
   ]
  },
  {
   "cell_type": "code",
   "execution_count": null,
   "metadata": {
    "hideCode": false,
    "hidePrompt": false
   },
   "outputs": [],
   "source": [
    "# p-cwv relationship: prate = exp(a*pwat + b), fixing b and see how a depends on \"org\" \n",
    "slope_com = np.empty(len(exp_label))\n",
    "interp_com = np.copy(slope_com) \n",
    "\n",
    "for n in range(len(exp_label)):\n",
    "    idx_rmnan = np.where(np.logical_and(np.isnan(prate_s_com[n,:])==0,prate_s_com[n,:]>0))[0]\n",
    "    slope,interp,r,p_val,stderr = linregress(pwat_cri[idx_rmnan[:]],np.log(prate_s_com[n,idx_rmnan]))\n",
    "    slope_com[n] = slope\n",
    "    interp_com[n] = interp\n",
    "\n",
    "# recalculating modified parameter \"a\", with fixed b for every case\n",
    "slope_range = np.linspace(0,0.5,50)\n",
    "slope_mod = np.empty(len(exp_label))\n",
    "\n",
    "# for n in range(len(exp_label)):\n",
    "    \n",
    "#     diff_p = np.empty(len(slope_range))\n",
    "#     for i,slp in enumerate(slope_range):\n",
    "#         p_new = np.exp(slp*pwat_cri[:-1] + interp_com[0])\n",
    "#         diff_p[i] = np.abs(np.sum(p_new-prate_s_com[n,:]))\n",
    "#     idx_min = np.where(diff_p==np.min(diff_p))[0]\n",
    "#     slope_mod[n] = slope_range[idx_min]"
   ]
  },
  {
   "cell_type": "code",
   "execution_count": null,
   "metadata": {
    "hideCode": false,
    "hidePrompt": false
   },
   "outputs": [],
   "source": [
    "#for n in range(7):\n",
    "fig, ax = plt.subplots(1,2,figsize=(12,5))\n",
    "\n",
    "for n in [0,2,4,6]:\n",
    "    ax[0].plot(pwat_cri[:-1],prate_s_com[n,:]-prate_s_com[0,:],color=color_label[n]\n",
    "             ,label=exp_label[n],linewidth=2)\n",
    "    ax[1].plot(pwat_cri[:-1],prate_ns_com[n,:]-prate_ns_com[0,:],color=color_label[n]\n",
    "             ,label=exp_label[n],linewidth=2)\n",
    "    \n",
    "ax[0].legend()\n",
    "ax[0].set_xlim([55,79])\n",
    "ax[0].set_xlabel('CWV [mm]',fontsize=13)\n",
    "ax[0].set_ylabel('P [mm/hr]',fontsize=13)\n",
    "ax[0].grid(linestyle=':')\n",
    "ax[0].set_title('Shear region',fontsize=13)\n",
    "\n",
    "#ax[1].legend()\n",
    "ax[1].set_xlim([55,79])\n",
    "ax[1].set_xlabel('CWV [mm]',fontsize=13)\n",
    "ax[1].set_ylabel('P [mm/hr]',fontsize=13)\n",
    "ax[1].grid(linestyle=':')\n",
    "ax[1].set_title('Non-shear region',fontsize=13)"
   ]
  },
  {
   "cell_type": "code",
   "execution_count": null,
   "metadata": {
    "hideCode": false,
    "hidePrompt": false
   },
   "outputs": [],
   "source": [
    "for n in range(len(exp_label)):\n",
    "    plt.plot(n,slope_com[n],'o',color=color_label[n],label=exp_label[n])\n",
    "plt.legend(ncol=2)"
   ]
  },
  {
   "cell_type": "code",
   "execution_count": null,
   "metadata": {
    "hideCode": false,
    "hidePrompt": false
   },
   "outputs": [],
   "source": [
    "Z = np.tile(z_dim,(len(y_dim),1)).swapaxes(0,1)\n",
    "Z.shape"
   ]
  },
  {
   "cell_type": "code",
   "execution_count": null,
   "metadata": {
    "hideCode": false,
    "hidePrompt": false,
    "scrolled": true
   },
   "outputs": [],
   "source": [
    "# MSE budget analysis over the meridional direction\n",
    "\n",
    "sfx = 372.728*np.ones(len(y_dim)) # [W/m^2]\n",
    "vint_QR = vint_QR*np.ones(len(y_dim)) # [W/m^2]\n",
    "\n",
    "dvint_h_dt = np.empty((len(exp_label),len(y_dim)))\n",
    "vint_vadv_h = np.copy(dvint_h_dt)\n",
    "vint_hadv_h = np.copy(dvint_h_dt)\n",
    "\n",
    "for n,(T,qv,ro,w,v) in enumerate(zip([T1,T2,T3,T4,T5,T6],[qv1,qv2,qv3,qv4,qv5,qv6],\n",
    "                                 [ro1,ro2,ro3,ro4,ro5,ro6],[w1,w2,w3,w4,w5,w6],[v1,v2,v3,v4,v5,v6])):\n",
    "    \n",
    "    h = 1004*(T[-360:,:,:,0]+273.15)+2.5e6*qv[-360:,:,:,0] \\\n",
    "            +9.8*np.tile(z_dim*1000,reps=(360,len(y_dim),1)).swapaxes(1,2)\n",
    "    \n",
    "    dhdz = np.gradient(h,z_dim*1000,axis=1)\n",
    "    dhdy = np.gradient(h,y_dim*2000,axis=2)\n",
    "    \n",
    "    vadv_h = np.trapz(ro[-360:,:,:,0]*w[-360:,:,:,0]*dhdz,z_dim.values*1000,axis=1) # vertically integrated vadv\n",
    "    hadv_h = np.trapz(ro[-360:,:,:,0]*v[-360:,:,:,0]*dhdy,z_dim.values*1000,axis=1) # vertically integrated hadv\n",
    "    vint_h = np.trapz(ro[-360:,:,:,0]*h,z_dim.values*1000,axis=1) # vertically integrated MSE   \n",
    "    \n",
    "    dvint_h_dt[n,:] = np.gradient(vint_h,3600,axis=0).mean(axis=0) # [w/m^2]\n",
    "    vint_vadv_h[n,:] = vadv_h.mean(axis=0)\n",
    "    vint_hadv_h[n,:] = hadv_h.mean(axis=0)"
   ]
  },
  {
   "cell_type": "code",
   "execution_count": null,
   "metadata": {
    "hideCode": false,
    "hidePrompt": false
   },
   "outputs": [],
   "source": [
    "fig,ax = plt.subplots(4,2,figsize=(10,15))\n",
    "\n",
    "nrow = [0,0,1,1,2,2,3]\n",
    "ncol = [0,1,0,1,0,1,0]\n",
    "\n",
    "for n in range(len(exp_label)):\n",
    "    ax[nrow[n],ncol[n]].plot(dvint_h_dt[n,:],'--k')\n",
    "#    ax[nrow[n],ncol[n]].plot(sfx+vint_QR,color='k')\n",
    "    ax[nrow[n],ncol[n]].plot(-vint_hadv_h[n,:],color='b')\n",
    "#    ax[nrow[n],ncol[n]].plot(-vint_vadv_h[n,:],color='r')"
   ]
  },
  {
   "cell_type": "code",
   "execution_count": null,
   "metadata": {
    "hideCode": false,
    "hidePrompt": false
   },
   "outputs": [],
   "source": [
    "fig = plt.figure(figsize=(8,6))\n",
    "for n in range(6):\n",
    "    plt.plot(y_dim,running_mean(-vint_vadv_h[n,:],5),'-',color=color_label[n])\n",
    "    #plt.plot(y_dim,-vint_hadv_h[n,:],color=color_label[n])\n",
    "    #plt.plot(y_dim,vint_QR,'grey')\n",
    "    #plt.plot(y_dim,sfx,'k')\n",
    "    #plt.legend(['VADV_MSE','HADV_MSE','QR','SFX'],frameon=False)"
   ]
  },
  {
   "cell_type": "code",
   "execution_count": null,
   "metadata": {
    "hideCode": false,
    "hidePrompt": false
   },
   "outputs": [],
   "source": [
    "plt.plot(y_dim,-vint_vadv_h[4,:],'r')\n",
    "plt.plot(y_dim,-vint_hadv_h[4,:],'b')\n",
    "plt.plot(y_dim,vint_QR,'grey')\n",
    "plt.plot(y_dim,sfx,'k')\n",
    "plt.legend(['VADV_MSE','HADV_MSE','QR','SFX'],frameon=False)"
   ]
  },
  {
   "cell_type": "code",
   "execution_count": null,
   "metadata": {
    "hideCode": false,
    "hidePrompt": false
   },
   "outputs": [],
   "source": [
    "# np.save('/w2-data2/willytsai/cm1r19.8/analysis/runs_cheyenne/Iorg_com_shear.npy',Iorg_time)\n",
    "# np.save('/w2-data2/willytsai/cm1r19.8/analysis/runs_cheyenne/MICA_com_shear.npy',MICA_time)\n",
    "# np.save('/w2-data2/willytsai/cm1r19.8/analysis/runs_cheyenne/SCAI_com_shear.npy',SCAI_time)\n",
    "# np.save('/w2-data2/willytsai/cm1r19.8/analysis/runs_cheyenne/COP_com_shear.npy',COP_time)"
   ]
  },
  {
   "cell_type": "code",
   "execution_count": null,
   "metadata": {
    "hideCode": false,
    "hidePrompt": false
   },
   "outputs": [],
   "source": []
  },
  {
   "cell_type": "code",
   "execution_count": null,
   "metadata": {
    "hideCode": false,
    "hidePrompt": false
   },
   "outputs": [],
   "source": []
  }
 ],
 "metadata": {
  "celltoolbar": "Hide code",
  "hide_code_all_hidden": false,
  "kernelspec": {
   "display_name": "Python 3",
   "language": "python",
   "name": "python3"
  },
  "language_info": {
   "codemirror_mode": {
    "name": "ipython",
    "version": 3
   },
   "file_extension": ".py",
   "mimetype": "text/x-python",
   "name": "python",
   "nbconvert_exporter": "python",
   "pygments_lexer": "ipython3",
   "version": "3.6.9"
  }
 },
 "nbformat": 4,
 "nbformat_minor": 4
}
