{
 "cells": [
  {
   "cell_type": "markdown",
   "metadata": {},
   "source": [
    "### HRRR using wgrib2 regrid3km\n",
    "script for regridding lambert into lat,lon by wgrib2 <br>\n",
    "Dec, 2020"
   ]
  },
  {
   "cell_type": "code",
   "execution_count": 1,
   "metadata": {},
   "outputs": [],
   "source": [
    "import os\n",
    "import sys\n",
    "import numpy as np\n",
    "import matplotlib.pyplot as plt\n",
    "import cfgrib\n",
    "import cf2cdm\n",
    "from glob import glob\n",
    "import cartopy.crs as ccrs\n",
    "import cartopy.feature as cfeat\n",
    "import xarray as xr\n",
    "from datetime import datetime, timedelta\n",
    "import urllib.request\n",
    "from cfgrib.xarray_store import open_dataset\n",
    "import warnings\n",
    "import h5py"
   ]
  },
  {
   "cell_type": "code",
   "execution_count": 3,
   "metadata": {},
   "outputs": [
    {
     "data": {
      "text/plain": [
       "['hrrr.20150322.t02z.grib2',\n",
       " 'hrrr.20150403.t02z.grib2',\n",
       " 'hrrr.20150415.t02z.grib2',\n",
       " 'hrrr.20150509.t02z.grib2',\n",
       " 'hrrr.20150626.t02z.grib2',\n",
       " 'hrrr.20150720.t02z.grib2',\n",
       " 'hrrr.20150906.t02z.grib2',\n",
       " 'hrrr.20160104.t02z.grib2',\n",
       " 'hrrr.20160221.t02z.grib2',\n",
       " 'hrrr.20160316.t02z.grib2',\n",
       " 'hrrr.20160409.t02z.grib2',\n",
       " 'hrrr.20160503.t02z.grib2',\n",
       " 'hrrr.20160527.t02z.grib2',\n",
       " 'hrrr.20160714.t02z.grib2',\n",
       " 'hrrr.20160807.t02z.grib2',\n",
       " 'hrrr.20161105.t02z.grib2',\n",
       " 'hrrr.20161129.t02z.grib2',\n",
       " 'hrrr.20161223.t02z.grib2',\n",
       " 'hrrr.20170116.t02z.grib2',\n",
       " 'hrrr.20170305.t02z.grib2',\n",
       " 'hrrr.20170317.t02z.grib2',\n",
       " 'hrrr.20170422.t02z.grib2',\n",
       " 'hrrr.20170516.t02z.grib2',\n",
       " 'hrrr.20170528.t02z.grib2',\n",
       " 'hrrr.20170609.t02z.grib2',\n",
       " 'hrrr.20170621.t02z.grib2',\n",
       " 'hrrr.20170703.t02z.grib2',\n",
       " 'hrrr.20170715.t02z.grib2',\n",
       " 'hrrr.20170727.t02z.grib2',\n",
       " 'hrrr.20170808.t02z.grib2',\n",
       " 'hrrr.20170820.t02z.grib2',\n",
       " 'hrrr.20170901.t02z.grib2',\n",
       " 'hrrr.20170913.t02z.grib2',\n",
       " 'hrrr.20170925.t02z.grib2',\n",
       " 'hrrr.20171007.t02z.grib2',\n",
       " 'hrrr.20171019.t02z.grib2',\n",
       " 'hrrr.20171031.t02z.grib2',\n",
       " 'hrrr.20171112.t02z.grib2',\n",
       " 'hrrr.20171124.t02z.grib2',\n",
       " 'hrrr.20171206.t02z.grib2',\n",
       " 'hrrr.20171218.t02z.grib2',\n",
       " 'hrrr.20171230.t02z.grib2',\n",
       " 'hrrr.20180111.t02z.grib2',\n",
       " 'hrrr.20180123.t02z.grib2',\n",
       " 'hrrr.20180204.t02z.grib2',\n",
       " 'hrrr.20180216.t02z.grib2',\n",
       " 'hrrr.20180228.t02z.grib2',\n",
       " 'hrrr.20180312.t02z.grib2',\n",
       " 'hrrr.20180324.t02z.grib2',\n",
       " 'hrrr.20180405.t02z.grib2',\n",
       " 'hrrr.20180417.t02z.grib2',\n",
       " 'hrrr.20180429.t02z.grib2',\n",
       " 'hrrr.20180511.t02z.grib2',\n",
       " 'hrrr.20180523.t02z.grib2',\n",
       " 'hrrr.20180604.t02z.grib2',\n",
       " 'hrrr.20180616.t02z.grib2',\n",
       " 'hrrr.20180710.t02z.grib2',\n",
       " 'hrrr.20180722.t02z.grib2',\n",
       " 'hrrr.20180803.t02z.grib2',\n",
       " 'hrrr.20180815.t02z.grib2',\n",
       " 'hrrr.20180908.t02z.grib2',\n",
       " 'hrrr.20180920.t02z.grib2',\n",
       " 'hrrr.20181002.t02z.grib2',\n",
       " 'hrrr.20181014.t02z.grib2',\n",
       " 'hrrr.20181026.t02z.grib2',\n",
       " 'hrrr.20181107.t02z.grib2',\n",
       " 'hrrr.20181119.t02z.grib2',\n",
       " 'hrrr.20181201.t02z.grib2',\n",
       " 'hrrr.20181213.t02z.grib2',\n",
       " 'hrrr.20181225.t02z.grib2',\n",
       " 'hrrr.20190106.t02z.grib2',\n",
       " 'hrrr.20190118.t02z.grib2',\n",
       " 'hrrr.20190130.t02z.grib2',\n",
       " 'hrrr.20190211.t02z.grib2',\n",
       " 'hrrr.20190223.t02z.grib2',\n",
       " 'hrrr.20190319.t02z.grib2',\n",
       " 'hrrr.20190331.t02z.grib2',\n",
       " 'hrrr.20190412.t02z.grib2',\n",
       " 'hrrr.20190424.t02z.grib2',\n",
       " 'hrrr.20190506.t02z.grib2',\n",
       " 'hrrr.20190518.t02z.grib2',\n",
       " 'hrrr.20190530.t02z.grib2',\n",
       " 'hrrr.20190611.t02z.grib2',\n",
       " 'hrrr.20190623.t02z.grib2',\n",
       " 'hrrr.20190705.t02z.grib2',\n",
       " 'hrrr.20190717.t02z.grib2',\n",
       " 'hrrr.20190729.t02z.grib2',\n",
       " 'hrrr.20190810.t02z.grib2',\n",
       " 'hrrr.20190822.t02z.grib2',\n",
       " 'hrrr.20190903.t02z.grib2',\n",
       " 'hrrr.20190915.t02z.grib2',\n",
       " 'hrrr.20190927.t02z.grib2',\n",
       " 'hrrr.20191009.t02z.grib2',\n",
       " 'hrrr.20191021.t02z.grib2',\n",
       " 'hrrr.20191102.t02z.grib2',\n",
       " 'hrrr.20191114.t02z.grib2',\n",
       " 'hrrr.20191126.t02z.grib2',\n",
       " 'hrrr.20191208.t02z.grib2',\n",
       " 'hrrr.20191220.t02z.grib2',\n",
       " 'hrrr.20200301.t02z.grib2',\n",
       " 'hrrr.20200313.t02z.grib2',\n",
       " 'hrrr.20200325.t02z.grib2',\n",
       " 'hrrr.20200406.t02z.grib2',\n",
       " 'hrrr.20200418.t02z.grib2',\n",
       " 'hrrr.20200430.t02z.grib2',\n",
       " 'hrrr.20200512.t02z.grib2',\n",
       " 'hrrr.20200524.t02z.grib2',\n",
       " 'hrrr.20200605.t02z.grib2',\n",
       " 'hrrr.20200617.t02z.grib2',\n",
       " 'hrrr.20200629.t02z.grib2',\n",
       " 'hrrr.20200711.t02z.grib2',\n",
       " 'hrrr.20200723.t02z.grib2',\n",
       " 'hrrr.20200804.t02z.grib2',\n",
       " 'hrrr.20200816.t02z.grib2',\n",
       " 'hrrr.20200828.t02z.grib2',\n",
       " 'hrrr.20200909.t02z.grib2',\n",
       " 'hrrr.20200921.t02z.grib2',\n",
       " 'hrrr.20201003.t02z.grib2']"
      ]
     },
     "execution_count": 3,
     "metadata": {},
     "output_type": "execute_result"
    }
   ],
   "source": [
    "# direction\n",
    "os.chdir('/data2/willytsai/InSAR_HRRR/HRRR_data/google_archive/')\n",
    "files = sorted(glob('*grib2'))\n",
    "files"
   ]
  },
  {
   "cell_type": "markdown",
   "metadata": {},
   "source": [
    "### wgrib2 command "
   ]
  },
  {
   "cell_type": "code",
   "execution_count": 4,
   "metadata": {},
   "outputs": [],
   "source": [
    "cmd = '/home/willytsai/grib2/wgrib2/wgrib2'\n",
    "attr = '-set_grib_type same -new_grid_winds earth -new_grid latlon 225.9:2440:0.03 21.14:1049:0.03'"
   ]
  },
  {
   "cell_type": "code",
   "execution_count": 5,
   "metadata": {},
   "outputs": [
    {
     "name": "stdout",
     "output_type": "stream",
     "text": [
      "/data2/willytsai/InSAR_HRRR/HRRR_data/google_archive\n"
     ]
    }
   ],
   "source": [
    "os.chdir('/data2/willytsai/InSAR_HRRR/HRRR_data/google_archive/')\n",
    "os.system('mkdir -p regrid_3km')\n",
    "print(os.getcwd())\n",
    "for file in files:\n",
    "    input_file = file\n",
    "    output_file = file[:19]+'regrid3km'+'.grib2'\n",
    "    os.system(cmd+' '+input_file+' '+attr+' ./regrid_3km/'+output_file)"
   ]
  },
  {
   "cell_type": "code",
   "execution_count": null,
   "metadata": {},
   "outputs": [],
   "source": [
    "os.chdir('/data2/willytsai/InSAR_HRRR/HRRR_ARs/regrid_3km/')\n",
    "files = sorted(glob('*grib2'))\n",
    "files[-10:]"
   ]
  },
  {
   "cell_type": "code",
   "execution_count": null,
   "metadata": {},
   "outputs": [],
   "source": [
    "ds = xr.open_dataset(files[-1],engine='cfgrib',\n",
    "                    backend_kwargs=dict(filter_by_keys={'typeOfLevel':'unknown'}))\n",
    "ds"
   ]
  },
  {
   "cell_type": "code",
   "execution_count": null,
   "metadata": {},
   "outputs": [],
   "source": [
    "plt.contourf(ds.longitude,ds.latitude,ds.pwat)"
   ]
  },
  {
   "cell_type": "code",
   "execution_count": null,
   "metadata": {},
   "outputs": [],
   "source": [
    "ds.longitude-360"
   ]
  },
  {
   "cell_type": "code",
   "execution_count": null,
   "metadata": {},
   "outputs": [],
   "source": []
  }
 ],
 "metadata": {
  "kernelspec": {
   "display_name": "Python 3",
   "language": "python",
   "name": "python3"
  },
  "language_info": {
   "codemirror_mode": {
    "name": "ipython",
    "version": 3
   },
   "file_extension": ".py",
   "mimetype": "text/x-python",
   "name": "python",
   "nbconvert_exporter": "python",
   "pygments_lexer": "ipython3",
   "version": "3.6.9"
  }
 },
 "nbformat": 4,
 "nbformat_minor": 4
}
