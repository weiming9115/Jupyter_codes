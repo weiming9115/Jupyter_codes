{
 "cells": [
  {
   "cell_type": "markdown",
   "metadata": {},
   "source": [
    "### Download HRRR data on public archives\n",
    "Wei-Ming Tsai <br> Date modified: July, 2021 <br>\n",
    " - (2017-now, data will be gradually reduced)HRRR data archive: <br> http://home.chpc.utah.edu/~u0553130/Brian_Blaylock/hrrr_script_tips.html\n",
    " - (2014-now) Google Cloud Platform: <br>\n",
    " https://console.cloud.google.com/marketplace/product/noaa-public/hrrr?project=python-232920&pli=1"
   ]
  },
  {
   "cell_type": "code",
   "execution_count": 1,
   "metadata": {},
   "outputs": [],
   "source": [
    "import os\n",
    "import sys\n",
    "import numpy as np\n",
    "import matplotlib.pyplot as plt\n",
    "#import cfgrib\n",
    "import cf2cdm\n",
    "from glob import glob\n",
    "import cartopy.crs as ccrs\n",
    "import cartopy.feature as cfeature\n",
    "import xarray as xr\n",
    "from datetime import datetime, timedelta\n",
    "import urllib.request\n",
    "#from cfgrib.xarray_store import open_dataset\n",
    "import warnings\n",
    "import h5py"
   ]
  },
  {
   "cell_type": "code",
   "execution_count": 2,
   "metadata": {},
   "outputs": [],
   "source": [
    "warnings.filterwarnings('ignore')"
   ]
  },
  {
   "cell_type": "code",
   "execution_count": 3,
   "metadata": {},
   "outputs": [],
   "source": [
    "def datetime_converter(year, day_num, hour):\n",
    "\n",
    "# adjusting day num in a certain year into year, month, day, hour\n",
    "# day_num = string '300'\n",
    "# year = string : '2016'\n",
    "# hour = string, example: '02'\n",
    "\n",
    "    day_num.rjust(3 + len(day_num), '0')\n",
    "\n",
    "    # Initializing start date\n",
    "    strt_date = datetime(int(year), 1, 1)\n",
    "\n",
    "    # converting to date\n",
    "    res_date = strt_date + timedelta(days=int(day_num) - 1)\n",
    "    res_time = res_date + timedelta(hours=int(hour))\n",
    "    \n",
    "    return res_time"
   ]
  },
  {
   "cell_type": "code",
   "execution_count": 4,
   "metadata": {},
   "outputs": [
    {
     "data": {
      "text/plain": [
       "datetime.datetime(2017, 10, 7, 2, 0)"
      ]
     },
     "execution_count": 4,
     "metadata": {},
     "output_type": "execute_result"
    }
   ],
   "source": [
    "datetime_converter('2017','280','02')"
   ]
  },
  {
   "cell_type": "code",
   "execution_count": 5,
   "metadata": {},
   "outputs": [],
   "source": [
    "os.chdir('/data2/willytsai/InSAR_HRRR/')\n",
    "file = xr.open_dataset('date_ARs_events.nc')\n",
    "date_acqui = []\n",
    "for t in range(len(file.time)):\n",
    "    tmp = datetime.utcfromtimestamp(file.time[t].values.tolist()/1e9)\n",
    "    time_str = tmp.strftime('%Y%m%d%H')\n",
    "    date_acqui.append(time_str) # times of acquisitions"
   ]
  },
  {
   "cell_type": "code",
   "execution_count": 6,
   "metadata": {
    "scrolled": true
   },
   "outputs": [
    {
     "data": {
      "text/plain": [
       "['2014020821',\n",
       " '2014022621',\n",
       " '2014022700',\n",
       " '2014022703',\n",
       " '2014022706',\n",
       " '2014022806',\n",
       " '2014022809',\n",
       " '2014022812',\n",
       " '2014022818',\n",
       " '2014022821',\n",
       " '2014030100',\n",
       " '2014030103',\n",
       " '2014030106',\n",
       " '2014030109',\n",
       " '2014030112',\n",
       " '2014030115',\n",
       " '2014091800',\n",
       " '2014091803',\n",
       " '2014091806',\n",
       " '2014091809',\n",
       " '2014091812',\n",
       " '2014111309',\n",
       " '2014120215',\n",
       " '2014120218',\n",
       " '2014120221',\n",
       " '2014120300',\n",
       " '2014120303',\n",
       " '2014120306',\n",
       " '2014120309',\n",
       " '2014120312',\n",
       " '2014120315',\n",
       " '2014120318',\n",
       " '2014120521',\n",
       " '2014121109',\n",
       " '2014121112',\n",
       " '2014121115',\n",
       " '2014121118',\n",
       " '2014122103',\n",
       " '2014122106',\n",
       " '2014122109',\n",
       " '2015020612',\n",
       " '2015020615',\n",
       " '2015020618',\n",
       " '2015020621',\n",
       " '2015020700',\n",
       " '2015020703',\n",
       " '2015020706',\n",
       " '2015020709',\n",
       " '2015020812',\n",
       " '2015020815',\n",
       " '2015020818',\n",
       " '2015020821',\n",
       " '2015020900',\n",
       " '2015020903',\n",
       " '2015071909',\n",
       " '2015071912',\n",
       " '2015071915',\n",
       " '2015071918',\n",
       " '2015071921',\n",
       " '2015122121',\n",
       " '2015122200',\n",
       " '2015122203',\n",
       " '2015122206',\n",
       " '2015122209',\n",
       " '2015122212',\n",
       " '2015122215',\n",
       " '2015122218',\n",
       " '2015122221',\n",
       " '2015122300',\n",
       " '2016010506',\n",
       " '2016010509',\n",
       " '2016011309',\n",
       " '2016011912',\n",
       " '2016011915',\n",
       " '2016011918',\n",
       " '2016012209',\n",
       " '2016012915',\n",
       " '2016013121',\n",
       " '2016021718',\n",
       " '2016021721',\n",
       " '2016021800',\n",
       " '2016021803',\n",
       " '2016030503',\n",
       " '2016030518',\n",
       " '2016030521',\n",
       " '2016030600',\n",
       " '2016030603',\n",
       " '2016030606',\n",
       " '2016031115',\n",
       " '2016031321',\n",
       " '2016031400',\n",
       " '2016101518',\n",
       " '2016101521',\n",
       " '2016101600',\n",
       " '2016101603',\n",
       " '2016101618',\n",
       " '2016101621',\n",
       " '2016101700',\n",
       " '2016101703',\n",
       " '2016102715',\n",
       " '2016102718',\n",
       " '2016102721',\n",
       " '2016103009',\n",
       " '2016103012',\n",
       " '2016103015',\n",
       " '2016103018',\n",
       " '2016103021',\n",
       " '2016111915',\n",
       " '2016111918',\n",
       " '2016112809',\n",
       " '2016120809',\n",
       " '2016120812',\n",
       " '2016121012',\n",
       " '2016121521',\n",
       " '2016121600',\n",
       " '2016121603',\n",
       " '2016121606',\n",
       " '2016121609',\n",
       " '2016121612',\n",
       " '2016121615']"
      ]
     },
     "execution_count": 6,
     "metadata": {},
     "output_type": "execute_result"
    }
   ],
   "source": [
    "date_acqui"
   ]
  },
  {
   "cell_type": "markdown",
   "metadata": {},
   "source": [
    "### Download HRRR data from archive\n",
    "1. archive at Utah is reduced....\n",
    "2. now using Google cloud platform. Fancy!"
   ]
  },
  {
   "cell_type": "code",
   "execution_count": null,
   "metadata": {},
   "outputs": [],
   "source": [
    "os.system('mkdir -p /data2/willytsai/InSAR_HRRR/HRRR_ARs')\n",
    "os.chdir('/data2/willytsai/InSAR_HRRR/HRRR_ARs')\n",
    "# Downloading best analyzed output for specfied UTC.\n",
    "# example: \n",
    "for date in date_acqui:\n",
    "    date_str = date[:-2]\n",
    "    hour_str = date[-2:]\n",
    "    file_name = 'hrrr.'+date_str+'.t'+hour_str+'z.grib2'\n",
    "    url = 'curl -o ' + file_name + ' '\\\n",
    "      'https://storage.googleapis.com/high-resolution-rapid-refresh/hrrr.'+date_str+'/conus/hrrr.t'+hour_str+'z.wrfprsf00.grib2'\n",
    "    os.system(url)\n",
    "    print(file_name)"
   ]
  },
  {
   "cell_type": "markdown",
   "metadata": {},
   "source": [
    "### Extract precipitable water and merge into a single ncfile"
   ]
  },
  {
   "cell_type": "code",
   "execution_count": null,
   "metadata": {},
   "outputs": [],
   "source": [
    "# get geolocation from InSAR\n",
    "geo_file = '/data2/willytsai/InSAR_HRRR/CentralNevadaSenAT166/mintpy/inputs/geometryRadar.h5'\n",
    "geo = h5py.File(geo_file,'r')\n",
    "# for key in geo.keys():\n",
    "#     print(key) #Names of the groups in HDF5 file.\n",
    "lat = geo['latitude'];\n",
    "lon = geo['longitude'];\n",
    "incidence = geo['incidenceAngle'];\n",
    "axis_bound = [np.min(lat),np.max(lat),np.min(lon),np.max(lon)]; # coordinate bound [South,North,West,East]\n",
    "axis_bound = [np.unique(lat.value)[1],np.unique(lat.value)[-1],np.unique(lon.value)[0],np.unique(lon.value)[-2]]\n",
    "axis_bound"
   ]
  },
  {
   "cell_type": "code",
   "execution_count": null,
   "metadata": {},
   "outputs": [],
   "source": [
    "# using fake axis bound for matching ARs\n",
    "axis_bound = [30,40,-124,-116]\n",
    "axis_bound"
   ]
  },
  {
   "cell_type": "code",
   "execution_count": null,
   "metadata": {},
   "outputs": [],
   "source": [
    "# merge HRRR dataset \n",
    "os.chdir('/data2/willytsai/InSAR_HRRR/HRRR_ARs/regrid_3km/')\n",
    "files = sorted(glob('*grib2'))\n",
    "tmp = xr.open_dataset(files[-1],engine='cfgrib',\n",
    "                            backend_kwargs=dict(filter_by_keys={'stepType': 'instant', 'typeOfLevel': 'unknown'}))\n",
    "pwat_tmp = tmp.pwat.sel(latitude=slice(axis_bound[0],axis_bound[1]),longitude=slice(axis_bound[2]+360,axis_bound[3]+360))\n",
    "\n",
    "pwat_acqu = np.zeros((len(files),pwat_tmp.shape[0],pwat_tmp.shape[1]))\n",
    "date_frame = []\n",
    "\n",
    "for t in range(len(files)):\n",
    "    \n",
    "    date_frame.append(datetime.strptime(files[t][5:18],'%Y%m%d.t%Hz'))\n",
    "    try:\n",
    "        ds = xr.open_dataset(files[t],engine='cfgrib',\n",
    "                            backend_kwargs=dict(filter_by_keys={'stepType': 'instant', 'typeOfLevel': 'unknown'}))\n",
    "        pwat = ds.pwat.sel(latitude=slice(axis_bound[0],axis_bound[1]),longitude=slice(axis_bound[2]+360,axis_bound[3]+360))\n",
    "        pwat_acqu[t,:,:] = pwat.values   \n",
    "    except:\n",
    "        print('ERROR file: '+files[t])\n",
    "        pwat_acqu[t,:,:] = np.nan\n",
    "\n",
    "# convert into xarray \n",
    "pwat_acqu_xr = xr.DataArray(pwat_acqu,dims=('time','latitude','longitude')\n",
    "                            ,coords=(date_frame,pwat.latitude,pwat.longitude-360),name='pwat')\n",
    "#pwat_acqu_xr.to_netcdf('/data2/willytsai/InSAR_HRRR/HRRR_data/t02z/merged/HRRR_pwat_NEVADA.nc')\n",
    "os.system('mkdir -p merged') # create directory\n",
    "pwat_ds = pwat_acqu_xr.to_dataset(name='pwat')\n",
    "pwat_ds.to_netcdf('/data2/willytsai/InSAR_HRRR/HRRR_ARs/regrid_3km/merged/HRRR_pwat_ARs.nc')"
   ]
  },
  {
   "cell_type": "markdown",
   "metadata": {},
   "source": [
    "### Checking merged files"
   ]
  },
  {
   "cell_type": "code",
   "execution_count": null,
   "metadata": {},
   "outputs": [],
   "source": [
    "ds = xr.open_dataset('/data2/willytsai/InSAR_HRRR/HRRR_ARs/regrid_3km/merged/HRRR_pwat_ARs.nc')\n",
    "ds"
   ]
  },
  {
   "cell_type": "code",
   "execution_count": null,
   "metadata": {},
   "outputs": [],
   "source": [
    "fig = plt.figure(figsize=(10,4))\n",
    "\n",
    "ax = plt.axes(projection=ccrs.PlateCarree(central_longitude=0))\n",
    "states_provinces = cfeature.NaturalEarthFeature(\n",
    "    category='cultural',\n",
    "    name='admin_1_states_provinces_lakes_shp',\n",
    "    scale='50m',\n",
    "    facecolor='none')\n",
    "\n",
    "ax.add_feature(cfeature.LAND)\n",
    "ax.add_feature(cfeature.COASTLINE)\n",
    "ax.add_feature(states_provinces, edgecolor='gray')\n",
    "\n",
    "plt.contourf(ds.longitude,ds.latitude,ds.pwat[-1,:,:])\n",
    "plt.title(str(ds.time.values[-1])[:-10],fontsize=13)\n",
    "gl = ax.gridlines(crs=ccrs.PlateCarree(), draw_labels=True,\n",
    "                  linewidth=1, color='gray', alpha=0.5, linestyle=':')\n",
    "gl.xlabels_top=False; gl.ylabels_right=False"
   ]
  },
  {
   "cell_type": "code",
   "execution_count": null,
   "metadata": {},
   "outputs": [],
   "source": []
  }
 ],
 "metadata": {
  "kernelspec": {
   "display_name": "Python 3",
   "language": "python",
   "name": "python3"
  },
  "language_info": {
   "codemirror_mode": {
    "name": "ipython",
    "version": 3
   },
   "file_extension": ".py",
   "mimetype": "text/x-python",
   "name": "python",
   "nbconvert_exporter": "python",
   "pygments_lexer": "ipython3",
   "version": "3.6.9"
  }
 },
 "nbformat": 4,
 "nbformat_minor": 4
}
