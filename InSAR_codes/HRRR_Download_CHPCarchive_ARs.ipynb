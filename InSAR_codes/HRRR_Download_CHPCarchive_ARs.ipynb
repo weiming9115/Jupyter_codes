{
 "cells": [
  {
   "cell_type": "markdown",
   "metadata": {},
   "source": [
    "### Download HRRR data from U of UTAH CHPC archive\n",
    "Wei-Ming Tsai, Nov. 2020 <br>\n",
    "HRRR data archive: http://home.chpc.utah.edu/~u0553130/Brian_Blaylock/hrrr_script_tips.html"
   ]
  },
  {
   "cell_type": "code",
   "execution_count": 3,
   "metadata": {},
   "outputs": [
    {
     "name": "stderr",
     "output_type": "stream",
     "text": [
      "/home/willytsai/anaconda3/lib/python3.6/site-packages/h5py/__init__.py:36: FutureWarning: Conversion of the second argument of issubdtype from `float` to `np.floating` is deprecated. In future, it will be treated as `np.float64 == np.dtype(float).type`.\n",
      "  from ._conv import register_converters as _register_converters\n"
     ]
    }
   ],
   "source": [
    "import os\n",
    "import sys\n",
    "import numpy as np\n",
    "import matplotlib.pyplot as plt\n",
    "#import cfgrib\n",
    "import cf2cdm\n",
    "from glob import glob\n",
    "import cartopy.crs as ccrs\n",
    "import cartopy.feature as cfeat\n",
    "import xarray as xr\n",
    "from datetime import datetime, timedelta\n",
    "import urllib.request\n",
    "#from cfgrib.xarray_store import open_dataset\n",
    "import warnings\n",
    "import h5py"
   ]
  },
  {
   "cell_type": "code",
   "execution_count": 4,
   "metadata": {},
   "outputs": [],
   "source": [
    "warnings.filterwarnings('ignore')"
   ]
  },
  {
   "cell_type": "code",
   "execution_count": null,
   "metadata": {},
   "outputs": [],
   "source": [
    "# var = 'PWAT'\n",
    "# id_begin = 49173818\n",
    "# id_end = 50061135"
   ]
  },
  {
   "cell_type": "code",
   "execution_count": 35,
   "metadata": {},
   "outputs": [
    {
     "data": {
      "text/plain": [
       "<xarray.DataArray 'time' ()>\n",
       "array('2014-02-28T21:00:00.000000000', dtype='datetime64[ns]')\n",
       "Coordinates:\n",
       "    time     datetime64[ns] 2014-02-28T21:00:00\n",
       "Attributes:\n",
       "    standard_name:  time\n",
       "    long_name:      time\n",
       "    axis:           T"
      ]
     },
     "execution_count": 35,
     "metadata": {},
     "output_type": "execute_result"
    }
   ],
   "source": [
    "file.time[9]"
   ]
  },
  {
   "cell_type": "code",
   "execution_count": 36,
   "metadata": {},
   "outputs": [
    {
     "data": {
      "text/plain": [
       "'20140228'"
      ]
     },
     "execution_count": 36,
     "metadata": {},
     "output_type": "execute_result"
    }
   ],
   "source": [
    "tmp = datetime.utcfromtimestamp(file.time[9].values.tolist()/1e9)\n",
    "time_str = tmp.strftime('%Y%m%d')\n",
    "time_str"
   ]
  },
  {
   "cell_type": "code",
   "execution_count": 37,
   "metadata": {},
   "outputs": [],
   "source": [
    "os.chdir('/w2-data2/willytsai/InSAR_HRRR/MERRA2_ARs/')\n",
    "file = xr.open_dataset('date_ARs_events.nc')\n",
    "date_acqui = []\n",
    "for t in range(len(file.time)):\n",
    "    tmp = datetime.utcfromtimestamp(file.time[t].values.tolist()/1e9)\n",
    "    time_str = tmp.strftime('%Y%m%d')\n",
    "    date_acqui.append(time_str) # times of acquisitions"
   ]
  },
  {
   "cell_type": "code",
   "execution_count": 39,
   "metadata": {},
   "outputs": [
    {
     "data": {
      "text/plain": [
       "120"
      ]
     },
     "execution_count": 39,
     "metadata": {},
     "output_type": "execute_result"
    }
   ],
   "source": [
    "len(date_acqui)"
   ]
  },
  {
   "cell_type": "markdown",
   "metadata": {},
   "source": [
    "### Download HRRR data from archive"
   ]
  },
  {
   "cell_type": "code",
   "execution_count": null,
   "metadata": {},
   "outputs": [],
   "source": [
    "os.chdir('/data2/willytsai/InSAR_HRRR/HRRR_data/t02z/prs_levels/')\n",
    "# Downloading best analyzed output for specfied UTC.\n",
    "# example: \n",
    "for date in date_acqui:\n",
    "    for hour in ['02']:\n",
    "        file_name = 'hrrr.'+date+'.t'+hour+'z.grib2'\n",
    "        url = 'curl -o ' + file_name + \\\n",
    "          ' https://pando-rgw01.chpc.utah.edu/hrrr/prs/'+date+'/hrrr.t'+hour+'z.wrfprsf00.grib2'\n",
    "        os.system(url)"
   ]
  },
  {
   "cell_type": "markdown",
   "metadata": {},
   "source": [
    "### Extract precipitable water and merge into a single ncfile"
   ]
  },
  {
   "cell_type": "code",
   "execution_count": null,
   "metadata": {},
   "outputs": [],
   "source": [
    "# get geolocation from InSAR\n",
    "geo_file = '/data2/willytsai/InSAR_HRRR/CentralNevadaSenAT166/mintpy/inputs/geometryRadar.h5'\n",
    "geo = h5py.File(geo_file,'r')\n",
    "# for key in geo.keys():\n",
    "#     print(key) #Names of the groups in HDF5 file.\n",
    "lat = geo['latitude'];\n",
    "lon = geo['longitude'];\n",
    "incidence = geo['incidenceAngle'];\n",
    "axis_bound = [np.min(lat),np.max(lat),np.min(lon),np.max(lon)]; # coordinate bound [South,North,West,East]\n",
    "axis_bound = [np.unique(lat.value)[1],np.unique(lat.value)[-1],np.unique(lon.value)[0],np.unique(lon.value)[-2]]\n",
    "axis_bound"
   ]
  },
  {
   "cell_type": "code",
   "execution_count": null,
   "metadata": {},
   "outputs": [],
   "source": [
    "# merge data\n",
    "\n",
    "# 0. get the geolocation and array size of HRRR\n",
    "os.chdir('/data2/willytsai/InSAR_HRRR/HRRR_data/t02z')\n",
    "files = sorted(glob('*grib2'))\n",
    "ds = xr.open_dataset('hrrr.20200313.t02z.grib2',engine='cfgrib',\n",
    "                    backend_kwargs=dict(filter_by_keys={'typeOfLevel':'unknown'}))\n",
    "\n",
    "lon = ds.longitude-360 # convert to -180-180\n",
    "lat = ds.latitude\n",
    "\n",
    "lat_idx = np.where(np.logical_and(lat>=axis_bound[0],lat<=axis_bound[1]))\n",
    "lon_idx = np.where(np.logical_and(lon>=axis_bound[2],lon<=axis_bound[3]))\n",
    "# get x and y index for the targed region\n",
    "idy_list = np.intersect1d(lat_idx[0],lon_idx[0])\n",
    "idx_list = np.intersect1d(lat_idx[1],lon_idx[1])"
   ]
  },
  {
   "cell_type": "code",
   "execution_count": null,
   "metadata": {},
   "outputs": [],
   "source": [
    "os.chdir('/data2/willytsai/InSAR_HRRR/HRRR_data/t02z')\n",
    "pwat_acqui = np.zeros((len(files),len(idy_list),len(idx_list)))\n",
    "date_frame = []\n",
    "\n",
    "for t in range(len(files)):\n",
    "    \n",
    "    date_frame.append(datetime.strptime(files[t][5:18],'%Y%m%d.t%Hz'))\n",
    "    try:\n",
    "        ds = xr.open_dataset(files[t],engine='cfgrib',\n",
    "                            backend_kwargs=dict(filter_by_keys={'typeOfLevel':'unknown'}))\n",
    "        pwat = ds.pwat\n",
    "        pwat_acqui[t,:,:] = pwat[idy_list[0]:idy_list[-1]+1,idx_list[0]:idx_list[-1]+1]    \n",
    "    except:\n",
    "        print('ERROR file: '+files[t])\n",
    "        pwat_acqui[t,:,:] = np.nan\n",
    "\n",
    "# create a merged directory for merged file of PWAT over NEVADA\n",
    "os.system('mkdir -p merged')\n",
    "np.save('./merged/HRRR_lon_acquisition.npy',lon[idy_list[0]:idy_list[-1]+1,idx_list[0]:idx_list[-1]+1].values)\n",
    "np.save('./merged/HRRR_lat_acquisition.npy',lat[idy_list[0]:idy_list[-1]+1,idx_list[0]:idx_list[-1]+1].values)\n",
    "np.save('./merged/HRRR_time_acquisition.npy',date_frame)\n",
    "np.save('./merged/HRRR_PWAT_acquisition.npy',pwat_acqui)"
   ]
  },
  {
   "cell_type": "code",
   "execution_count": null,
   "metadata": {},
   "outputs": [],
   "source": []
  },
  {
   "cell_type": "code",
   "execution_count": null,
   "metadata": {},
   "outputs": [],
   "source": []
  },
  {
   "cell_type": "markdown",
   "metadata": {},
   "source": [
    "### Checking merged files"
   ]
  },
  {
   "cell_type": "code",
   "execution_count": null,
   "metadata": {},
   "outputs": [],
   "source": [
    "lon1 = np.load('./merged/HRRR_lon_acquisition.npy')\n",
    "lat1 = np.load('./merged/HRRR_lat_acquisition.npy')\n",
    "date1 = np.load('./merged/HRRR_time_acquisition.npy',allow_pickle=True)\n",
    "pwat1 = np.load('./merged/HRRR_PWAT_acquisition.npy')"
   ]
  },
  {
   "cell_type": "code",
   "execution_count": null,
   "metadata": {
    "scrolled": true
   },
   "outputs": [],
   "source": [
    "date1[:30]"
   ]
  },
  {
   "cell_type": "code",
   "execution_count": null,
   "metadata": {},
   "outputs": [],
   "source": [
    "row"
   ]
  },
  {
   "cell_type": "code",
   "execution_count": null,
   "metadata": {},
   "outputs": [],
   "source": []
  },
  {
   "cell_type": "code",
   "execution_count": null,
   "metadata": {},
   "outputs": [],
   "source": [
    "total_frame = len(date1)\n",
    "rows,remainder = np.divmod(161,21)\n",
    "col = np.repeat(np.arange(0,rows+1),21)\n",
    "row = np.tile(np.arange(0,21),rows+1)\n",
    "\n",
    "fig,ax = plt.subplots(21,rows+1,figsize=(20,20))\n",
    "#ax = plt.subplot(projection=ccrs.PlateCarree())\n",
    "for t in range(total_frame):\n",
    "    ax[row[t],col[t]].pcolor(lon1,lat1,pwat1[t,:,:],transform=ccrs.PlateCarree(),vmin=0,vmax=30,cmap='jet')\n",
    "    ax[row[t],col[t]].set_ylim([37.228, 43.223568])\n",
    "    ax[row[t],col[t]].set_xlim([-119.00549, -114.65358])\n",
    "    ax[row[t],col[t]].set_title(date1[t])\n",
    "#    ax.coastlines()\n",
    "#ax.gridlines(draw_labels=False)"
   ]
  },
  {
   "cell_type": "code",
   "execution_count": null,
   "metadata": {},
   "outputs": [],
   "source": [
    "fig = plt.figure(figsize=(8,8))\n",
    "ax = plt.subplot(projection=ccrs.PlateCarree())\n",
    "plt.pcolor(lon1,lat1,pwat1[0,:,:],transform=ccrs.PlateCarree(),vmin=0,vmax=30,cmap='jet')\n",
    "#plt.ylim([37.228, 43.223568])\n",
    "plt.xlim([-119.00549, -114.65358])\n",
    "ax.coastlines()\n",
    "#ax.gridlines(draw_labels=False)"
   ]
  },
  {
   "cell_type": "code",
   "execution_count": null,
   "metadata": {},
   "outputs": [],
   "source": []
  }
 ],
 "metadata": {
  "kernelspec": {
   "display_name": "Python 3",
   "language": "python",
   "name": "python3"
  },
  "language_info": {
   "codemirror_mode": {
    "name": "ipython",
    "version": 3
   },
   "file_extension": ".py",
   "mimetype": "text/x-python",
   "name": "python",
   "nbconvert_exporter": "python",
   "pygments_lexer": "ipython3",
   "version": "3.6.9"
  }
 },
 "nbformat": 4,
 "nbformat_minor": 4
}
