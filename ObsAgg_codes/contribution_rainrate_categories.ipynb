{
 "cells": [
  {
   "cell_type": "markdown",
   "metadata": {},
   "source": [
    "## total precipitation contribution from rainfall categories"
   ]
  },
  {
   "cell_type": "code",
   "execution_count": null,
   "metadata": {},
   "outputs": [],
   "source": [
    "import sys\n",
    "import os\n",
    "import xarray as xr\n",
    "from glob import glob\n",
    "import numpy as np\n",
    "import matplotlib as mpl\n",
    "import matplotlib.pyplot as plt\n",
    "import matplotlib.colors as colors\n",
    "import dask.array as da\n",
    "from scipy.ndimage import gaussian_filter\n",
    "from scipy import interpolate\n",
    "from scipy.stats import linregress\n",
    "\n",
    "from datetime import datetime, timedelta\n",
    "import cartopy.crs as ccrs\n",
    "import cartopy.feature as cfeat\n",
    "from cartopy.util import add_cyclic_point\n",
    "from cartopy.mpl.gridliner import LONGITUDE_FORMATTER, LATITUDE_FORMATTER\n",
    "from scipy.ndimage.filters import uniform_filter1d\n",
    "\n",
    "import warnings\n",
    "import psutil\n",
    "import matplotlib.dates as mdates\n",
    "from matplotlib.dates import DateFormatter\n",
    "from matplotlib import patches\n",
    "from matplotlib import cm\n",
    "from matplotlib.colors import ListedColormap, Normalize\n",
    "\n",
    "from metpy import calc as mpcalc\n",
    "from metpy.units import units\n",
    "from scipy.stats import ttest_ind"
   ]
  },
  {
   "cell_type": "code",
   "execution_count": null,
   "metadata": {},
   "outputs": [],
   "source": [
    "def running_mean(y,window_N):\n",
    "    y_avg = np.zeros(len(y))\n",
    "    avg_mask = np.ones(window_N) / window_N\n",
    "    y_avg = np.convolve(y, avg_mask, 'same')\n",
    "    return y_avg"
   ]
  },
  {
   "cell_type": "code",
   "execution_count": null,
   "metadata": {},
   "outputs": [],
   "source": [
    "ISCCP_dir = '/data/willytsai/ISCCP/hgg/'\n",
    "TRMM_dir = '/data2/willytsai/TRMM_3hr/TRMM/'\n",
    "MERRA2_dir = '/data2/willytsai/MERRA2/'\n",
    "MERRA2_3d_dir = '/data/willytsai/'\n",
    "ERA5_dir = '/data/willytsai/ERA5/'\n",
    "Gridsat_dir = '/data/willytsai/gridsat_BT/remap_0.1deg/'\n",
    "fig_dir = '/data/willytsai/ISCCP/fig/'"
   ]
  },
  {
   "cell_type": "code",
   "execution_count": null,
   "metadata": {},
   "outputs": [],
   "source": [
    "# load data\n",
    "os.chdir('/data/willytsai/ISCCP/')\n",
    "\n",
    "# variable namelist\n",
    "var_name = np.loadtxt('var_name_2014_2018_5deg_4ds.dat',dtype='U16')\n",
    "# event time\n",
    "var_time = np.loadtxt('time_event_2014_2018_5deg_4ds.dat',dtype='U13')\n",
    "time_event = []\n",
    "for t in var_time:\n",
    "    tmp = datetime.strptime(t,'%Y-%m-%d-%H')\n",
    "    time_event.append(tmp)\n",
    "\n",
    "var_dataset = (np.loadtxt('var_event_2014_2018_5deg_4ds.dat'))"
   ]
  },
  {
   "cell_type": "code",
   "execution_count": null,
   "metadata": {},
   "outputs": [],
   "source": [
    "lat_event = var_dataset[:,0]\n",
    "lon_event = var_dataset[:,1]"
   ]
  },
  {
   "cell_type": "code",
   "execution_count": null,
   "metadata": {},
   "outputs": [],
   "source": [
    "%%time\n",
    "date = []; date_begin = datetime(2014,1,1)\n",
    "for t in range(14608):\n",
    "    tmp = date_begin + t*timedelta(hours=3)\n",
    "    date.append(tmp)\n",
    "                \n",
    "# # TRMM3B42 dataset 2014, 3hrly separate\n",
    "prec_3hr = np.nan*np.zeros((len(date),241,1440))\n",
    "\n",
    "os.chdir(TRMM_dir+'2009_2018')\n",
    "files = sorted(glob('*2014*')+glob('*2015*')+glob('*2016*')+glob('*2017*')+glob('*2018*'))\n",
    "for n,file in enumerate(files):\n",
    "    data = xr.open_dataset(file).precipitation        \n",
    "    prec_3hr[n,:,:] = data.values.swapaxes(0,1)\n",
    "         \n",
    "lon = data.nlon; lat = data.nlat\n",
    "prec_xr = xr.DataArray(prec_3hr,coords=[date,lat,lon],dims=['time','lat','lon']); del prec_3hr"
   ]
  },
  {
   "cell_type": "code",
   "execution_count": null,
   "metadata": {},
   "outputs": [],
   "source": [
    "MERRA2_dir"
   ]
  },
  {
   "cell_type": "code",
   "execution_count": null,
   "metadata": {},
   "outputs": [],
   "source": [
    "# # MERRA-2 CWV dataset 2014, 3hrly separate\n",
    "cwv_3hr = np.nan*np.zeros((len(date),121,576))\n",
    "\n",
    "os.chdir(MERRA2_dir+'inst_2d_hourly')\n",
    "files = sorted(glob('*2014*')+glob('*2015*')+glob('*2016*')+glob('*2017*')+glob('*2018*'))\n",
    "for n,file in enumerate(files):\n",
    "    data = xr.open_dataset(file).TQV\n",
    "    cwv_3hr[8*n:8*(n+1),:,:] = data.resample(time='3H').nearest()\n",
    "         \n",
    "lon = data.lon; lat = data.lat\n",
    "cwv_xr = xr.DataArray(cwv_3hr,coords=[date,lat,lon],dims=['time','lat','lon']); del cwv_3hr"
   ]
  },
  {
   "cell_type": "code",
   "execution_count": null,
   "metadata": {},
   "outputs": [],
   "source": [
    "os.chdir('/data/willytsai/ISCCP/')\n",
    "prec_all = np.load('prec_all_5deg_4ds.mat.npy') # event"
   ]
  },
  {
   "cell_type": "code",
   "execution_count": null,
   "metadata": {},
   "outputs": [],
   "source": [
    "import warnings\n",
    "warnings.filterwarnings('ignore')"
   ]
  },
  {
   "cell_type": "code",
   "execution_count": null,
   "metadata": {},
   "outputs": [],
   "source": [
    "# testing bed for the Indian Ocean\n",
    "lon_cen = 70; lat_cen = 5\n",
    "idx_lon = np.where(lon_event==70)[0]\n",
    "idx_lat = np.where(lat_event==5)[0]\n",
    "idx_com = np.intersect1d(idx_lon,idx_lat)\n",
    "\n",
    "prec_loc = prec_all[idx_com,:]\n",
    "\n",
    "for n in range(len(prec_bin)-1):\n",
    "    idx = np.where(np.logical_and(24*prec_loc[:,16]>=prec_bin[n],\n",
    "                                  24*prec_loc[:,16]<prec_bin[n+1]))[0]"
   ]
  },
  {
   "cell_type": "code",
   "execution_count": null,
   "metadata": {},
   "outputs": [],
   "source": [
    "prec_mn = np.nanmean(prec_xr.sel(lat=slice(lat_cen-2.5,lat_cen+2.5)\n",
    "                     ,lon=slice(lon_cen-2.5,lon_cen+2.5)),axis=(1,2))\n",
    "cwv_mn = np.nanmean(cwv_xr.sel(lat=slice(lat_cen-2.5,lat_cen+2.5)\n",
    "                     ,lon=slice(lon_cen-2.5,lon_cen+2.5)),axis=(1,2))"
   ]
  },
  {
   "cell_type": "code",
   "execution_count": null,
   "metadata": {},
   "outputs": [],
   "source": [
    "fig,ax = plt.subplots(1,1,figsize=(12,4))\n",
    "ax.plot(date,24*prec_mn)\n",
    "ax1 = ax.twinx()\n",
    "ax1.plot(date,running_mean(cwv_mn,40),'m')\n",
    "ax1.set_ylim([30,80])\n",
    "\n",
    "for i in idx:\n",
    "    plt.plot(time_event[idx_com[i]],20,'^g')\n",
    "    plt.vlines(x=time_event[idx_com[i]]-timedelta(days=2),ymin=0,ymax=120,color='lightgrey')\n",
    "    plt.vlines(x=time_event[idx_com[i]]+timedelta(days=2),ymin=0,ymax=120,color='lightgrey')\n",
    "\n",
    "plt.xlim([datetime(2015,6,1),datetime(2015,8,15)])"
   ]
  },
  {
   "cell_type": "code",
   "execution_count": null,
   "metadata": {},
   "outputs": [],
   "source": [
    "%%time\n",
    "\n",
    "lat_bin = np.linspace(-7.5,7.5,7)\n",
    "lon_bin = np.linspace(-177.5,177.5,143)\n",
    "prec_bin = np.array([5,15,25,35,45,200])\n",
    "\n",
    "precsum_frac = np.zeros((len(prec_bin)-1,len(lon_bin),len(lat_bin)))\n",
    "precnum_frac = np.copy(precsum_frac)\n",
    "\n",
    "for i,lon_cen in enumerate(lon_bin):\n",
    "    for j,lat_cen in enumerate(lat_bin):\n",
    "        \n",
    "        prec_total = np.nansum(np.nanmean(prec_xr.sel(lat=slice(lat_cen-2.5,lat_cen+2.5)\n",
    "                     ,lon=slice(lon_cen-2.5,lon_cen+2.5)),axis=(1,2))) # time-series\n",
    "        \n",
    "        idx_lon = np.where(lon_event==lon_cen)[0]\n",
    "        idx_lat = np.where(lat_event==lat_cen)[0]\n",
    "        idx_com = np.intersect1d(idx_lon,idx_lat)\n",
    "        \n",
    "        prec_loc = prec_all[idx_com,:]\n",
    "        \n",
    "        for n in range(len(prec_bin)-1):\n",
    "            idx = np.where(np.logical_and(24*prec_loc[:,16]>=prec_bin[n],\n",
    "                                          24*prec_loc[:,16]<prec_bin[n+1]))[0]\n",
    "            \n",
    "            prec_total_event = np.nansum(prec_loc[idx,:])\n",
    "            precsum_frac[n,i,j] = prec_total_event/prec_total\n",
    "            try:\n",
    "                precnum_frac[n,i,j] = len(idx)/len(idx_com)\n",
    "            except:\n",
    "                precnum_frac[n,i,j] = 0"
   ]
  },
  {
   "cell_type": "code",
   "execution_count": null,
   "metadata": {},
   "outputs": [],
   "source": [
    "lat_edge = np.linspace(-8.75,8.75,8)\n",
    "lon_edge = np.linspace(-178.75,181.25,145)\n",
    "\n",
    "ratio_map_all = np.zeros((5,145,8))\n",
    "num_map_all = np.copy(ratio_map_all)\n",
    "\n",
    "for n in range(5):\n",
    "    ratio_map = np.zeros((145,7))\n",
    "    ratio_map[:143,:] = precsum_frac[n,:,:]\n",
    "    ratio_map[143,:] = (precsum_frac[n,0,:]+precsum_frac[n,-1,:])/2\n",
    "    ratio_map[144,:] = (precsum_frac[n,0,:]+precsum_frac[n,-1,:])/2    \n",
    "    ratio_map = np.vstack([ratio_map.T,np.zeros((ratio_map.shape[0])).T]).T\n",
    "    ratio_map[ratio_map==0] = np.nan\n",
    "    \n",
    "    num_map = np.zeros((145,7))\n",
    "    num_map[:143,:] = precnum_frac[n,:,:]\n",
    "    num_map[143,:] = (precnum_frac[n,0,:]+precnum_frac[n,-1,:])/2\n",
    "    num_map[144,:] = (precnum_frac[n,0,:]+precnum_frac[n,-1,:])/2    \n",
    "    num_map = np.vstack([num_map.T,np.zeros((num_map.shape[0])).T]).T\n",
    "    num_map[num_map==0] = np.nan\n",
    "    \n",
    "    ratio_map_all[n,:,:] = ratio_map\n",
    "    num_map_all[n,:,:] = num_map"
   ]
  },
  {
   "cell_type": "code",
   "execution_count": null,
   "metadata": {},
   "outputs": [],
   "source": [
    "fig = plt.figure(figsize=(13,4))\n",
    "ax = plt.axes(projection=ccrs.PlateCarree(central_longitude=180))\n",
    "\n",
    "ps = plt.pcolor(lon_edge,lat_edge,ratio_map_all[0,:,:].T,transform=ccrs.PlateCarree(),\n",
    "                  cmap='jet',vmin=0,vmax=0.3)\n",
    "cbar = plt.colorbar(fraction=0.05,pad=0.1,orientation='horizontal')\n",
    "cbar.set_label('fraction of total rainfall',fontsize=12)\n",
    "#cs = plt.contour(prec_clim.lon,prec_clim.lat,prec_clim.mean(axis=0)*24)\n",
    "ax.coastlines()\n",
    "ax.add_feature(cfeat.LAND,zorder=1,edgecolor='k',facecolor='whitesmoke') # maskout LAND\n",
    "\n",
    "ax.set_yticks([-20,-15,-10,-5,0,5,10,15,20])\n",
    "ax.set_yticklabels(['20S','15S','10S','5S','EQ','5N','10N','15N','20N'])\n",
    "ax.set_xticks([-179.875,-120,-60,-0,60,120,179.875])\n",
    "ax.set_xticklabels(['0','60E','120E','180','120W','60W','0'])\n",
    "ax.set_ylim([-10,10]); ax.set_xlim([-129,89]);ax.grid(linestyle=':')\n",
    "ax.set_title('(a) Rainfall contribution, 5-15 (mm/d), 2014-2018',fontsize=15);\n",
    "\n",
    "#plt.savefig(fig_dir+'rainfrac_p515_4ds.pdf',bbox_inches='tight')"
   ]
  },
  {
   "cell_type": "code",
   "execution_count": null,
   "metadata": {},
   "outputs": [],
   "source": [
    "fig = plt.figure(figsize=(13,4))\n",
    "ax = plt.axes(projection=ccrs.PlateCarree(central_longitude=180))\n",
    "\n",
    "ps = plt.pcolor(lon_edge,lat_edge,ratio_map_all[1,:,:].T,transform=ccrs.PlateCarree(),\n",
    "                  cmap='jet',vmin=0,vmax=0.3)\n",
    "cbar = plt.colorbar(fraction=0.05,pad=0.1,orientation='horizontal')\n",
    "cbar.set_label('fraction of total rainfall',fontsize=12)\n",
    "#cs = plt.contour(prec_clim.lon,prec_clim.lat,prec_clim.mean(axis=0)*24)\n",
    "ax.coastlines()\n",
    "ax.add_feature(cfeat.LAND,zorder=1,edgecolor='k',facecolor='whitesmoke') # maskout LAND\n",
    "\n",
    "ax.set_yticks([-20,-15,-10,-5,0,5,10,15,20])\n",
    "ax.set_yticklabels(['20S','15S','10S','5S','EQ','5N','10N','15N','20N'])\n",
    "ax.set_xticks([-179.875,-120,-60,-0,60,120,179.875])\n",
    "ax.set_xticklabels(['0','60E','120E','180','120W','60W','0'])\n",
    "ax.set_ylim([-10,10]); ax.set_xlim([-129,89]);ax.grid(linestyle=':')\n",
    "ax.set_title('(b) Rainfall contribution, 15-25 (mm/d), 2014-2018',fontsize=15);\n",
    "\n",
    "#plt.savefig(fig_dir+'rainfrac_p1525_4ds.pdf',bbox_inches='tight')"
   ]
  },
  {
   "cell_type": "code",
   "execution_count": null,
   "metadata": {},
   "outputs": [],
   "source": [
    "fig = plt.figure(figsize=(13,4))\n",
    "ax = plt.axes(projection=ccrs.PlateCarree(central_longitude=180))\n",
    "\n",
    "ps = plt.pcolor(lon_edge,lat_edge,ratio_map_all[2,:,:].T,transform=ccrs.PlateCarree(),\n",
    "                  cmap='jet',vmin=0,vmax=0.3)\n",
    "cbar = plt.colorbar(fraction=0.05,pad=0.1,orientation='horizontal')\n",
    "cbar.set_label('fraction of total rainfall',fontsize=12)\n",
    "#cs = plt.contour(prec_clim.lon,prec_clim.lat,prec_clim.mean(axis=0)*24)\n",
    "ax.coastlines()\n",
    "ax.add_feature(cfeat.LAND,zorder=1,edgecolor='k',facecolor='whitesmoke') # maskout LAND\n",
    "\n",
    "ax.set_yticks([-20,-15,-10,-5,0,5,10,15,20])\n",
    "ax.set_yticklabels(['20S','15S','10S','5S','EQ','5N','10N','15N','20N'])\n",
    "ax.set_xticks([-179.875,-120,-60,-0,60,120,179.875])\n",
    "ax.set_xticklabels(['0','60E','120E','180','120W','60W','0'])\n",
    "ax.set_ylim([-10,10]); ax.set_xlim([-129,89]);ax.grid(linestyle=':')\n",
    "ax.set_title('(c) Rainfall contribution, 25-35 (mm/d), 2014-2018',fontsize=15);\n",
    "\n",
    "#plt.savefig(fig_dir+'rainfrac_p2535_4ds.pdf',bbox_inches='tight')"
   ]
  },
  {
   "cell_type": "code",
   "execution_count": null,
   "metadata": {},
   "outputs": [],
   "source": [
    "fig = plt.figure(figsize=(13,4))\n",
    "ax = plt.axes(projection=ccrs.PlateCarree(central_longitude=180))\n",
    "\n",
    "ps = plt.pcolor(lon_edge,lat_edge,ratio_map_all[3,:,:].T,transform=ccrs.PlateCarree(),\n",
    "                  cmap='jet',vmin=0,vmax=0.3)\n",
    "cbar = plt.colorbar(fraction=0.05,pad=0.1,orientation='horizontal')\n",
    "cbar.set_label('fraction of total rainfall',fontsize=12)\n",
    "#cs = plt.contour(prec_clim.lon,prec_clim.lat,prec_clim.mean(axis=0)*24)\n",
    "ax.coastlines()\n",
    "ax.add_feature(cfeat.LAND,zorder=1,edgecolor='k',facecolor='whitesmoke') # maskout LAND\n",
    "\n",
    "ax.set_yticks([-20,-15,-10,-5,0,5,10,15,20])\n",
    "ax.set_yticklabels(['20S','15S','10S','5S','EQ','5N','10N','15N','20N'])\n",
    "ax.set_xticks([-179.875,-120,-60,-0,60,120,179.875])\n",
    "ax.set_xticklabels(['0','60E','120E','180','120W','60W','0'])\n",
    "ax.set_ylim([-10,10]); ax.set_xlim([-129,89]);ax.grid(linestyle=':')\n",
    "ax.set_title('(d) Rainfall contribution, 35-45 (mm/d), 2014-2018',fontsize=15);\n",
    "\n",
    "#plt.savefig(fig_dir+'rainfrac_p3545_4ds.pdf',bbox_inches='tight')"
   ]
  },
  {
   "cell_type": "code",
   "execution_count": null,
   "metadata": {},
   "outputs": [],
   "source": [
    "fig = plt.figure(figsize=(13,4))\n",
    "ax = plt.axes(projection=ccrs.PlateCarree(central_longitude=180))\n",
    "\n",
    "ps = plt.pcolor(lon_edge,lat_edge,ratio_map_all[4,:,:].T,transform=ccrs.PlateCarree(),\n",
    "                  cmap='jet',vmin=0)\n",
    "cbar = plt.colorbar(fraction=0.05,pad=0.1,orientation='horizontal')\n",
    "cbar.set_label('fraction of total rainfall',fontsize=12)\n",
    "#cs = plt.contour(prec_clim.lon,prec_clim.lat,prec_clim.mean(axis=0)*24)\n",
    "ax.coastlines()\n",
    "ax.add_feature(cfeat.LAND,zorder=1,edgecolor='k',facecolor='whitesmoke') # maskout LAND\n",
    "\n",
    "ax.set_yticks([-20,-15,-10,-5,0,5,10,15,20])\n",
    "ax.set_yticklabels(['20S','15S','10S','5S','EQ','5N','10N','15N','20N'])\n",
    "ax.set_xticks([-179.875,-120,-60,-0,60,120,179.875])\n",
    "ax.set_xticklabels(['0','60E','120E','180','120W','60W','0'])\n",
    "ax.set_ylim([-10,10]); ax.set_xlim([-129,89]);ax.grid(linestyle=':')\n",
    "ax.set_title('(e) Rainfall contribution, 45 up (mm/d), 2014-2018',fontsize=15);\n",
    "\n",
    "#plt.savefig(fig_dir+'rainfrac_p45up_4ds.pdf',bbox_inches='tight')"
   ]
  },
  {
   "cell_type": "code",
   "execution_count": null,
   "metadata": {},
   "outputs": [],
   "source": [
    "fig = plt.figure(figsize=(13,4))\n",
    "ax = plt.axes(projection=ccrs.PlateCarree(central_longitude=180))\n",
    "\n",
    "ps = plt.pcolor(lon_edge,lat_edge,num_map_all[0,:,:].T,transform=ccrs.PlateCarree(),\n",
    "                  cmap='jet')\n",
    "cbar = plt.colorbar(fraction=0.05,pad=0.1,orientation='horizontal')\n",
    "cbar.set_label('fraction of total events',fontsize=12)\n",
    "#cs = plt.contour(prec_clim.lon,prec_clim.lat,prec_clim.mean(axis=0)*24)\n",
    "ax.coastlines()\n",
    "ax.add_feature(cfeat.LAND,zorder=1,edgecolor='k',facecolor='whitesmoke') # maskout LAND\n",
    "\n",
    "ax.set_yticks([-20,-15,-10,-5,0,5,10,15,20])\n",
    "ax.set_yticklabels(['20S','15S','10S','5S','EQ','5N','10N','15N','20N'])\n",
    "ax.set_xticks([-179.875,-120,-60,-0,60,120,179.875])\n",
    "ax.set_xticklabels(['0','60E','120E','180','120W','60W','0'])\n",
    "ax.set_ylim([-10,10]); ax.set_xlim([-129,89]);ax.grid(linestyle=':')\n",
    "ax.set_title('(a) event fraction, 5-15 (mm/d), 2014-2018',fontsize=15);\n",
    "\n",
    "#plt.savefig(fig_dir+'rainfrac_p45up_4ds.pdf',bbox_inches='tight')"
   ]
  },
  {
   "cell_type": "code",
   "execution_count": null,
   "metadata": {},
   "outputs": [],
   "source": [
    "fig = plt.figure(figsize=(13,4))\n",
    "ax = plt.axes(projection=ccrs.PlateCarree(central_longitude=180))\n",
    "\n",
    "ps = plt.pcolor(lon_edge,lat_edge,num_map_all[1,:,:].T,transform=ccrs.PlateCarree(),\n",
    "                  cmap='jet',vmin=0,vmax=0.3)\n",
    "cbar = plt.colorbar(fraction=0.05,pad=0.1,orientation='horizontal')\n",
    "cbar.set_label('fraction of total events',fontsize=12)\n",
    "#cs = plt.contour(prec_clim.lon,prec_clim.lat,prec_clim.mean(axis=0)*24)\n",
    "ax.coastlines()\n",
    "ax.add_feature(cfeat.LAND,zorder=1,edgecolor='k',facecolor='whitesmoke') # maskout LAND\n",
    "\n",
    "ax.set_yticks([-20,-15,-10,-5,0,5,10,15,20])\n",
    "ax.set_yticklabels(['20S','15S','10S','5S','EQ','5N','10N','15N','20N'])\n",
    "ax.set_xticks([-179.875,-120,-60,-0,60,120,179.875])\n",
    "ax.set_xticklabels(['0','60E','120E','180','120W','60W','0'])\n",
    "ax.set_ylim([-10,10]); ax.set_xlim([-129,89]);ax.grid(linestyle=':')\n",
    "ax.set_title('(b) event fraction, 15-25 (mm/d), 2014-2018',fontsize=15);\n",
    "\n",
    "#plt.savefig(fig_dir+'rainfrac_p45up_4ds.pdf',bbox_inches='tight')"
   ]
  },
  {
   "cell_type": "code",
   "execution_count": null,
   "metadata": {},
   "outputs": [],
   "source": [
    "fig = plt.figure(figsize=(13,4))\n",
    "ax = plt.axes(projection=ccrs.PlateCarree(central_longitude=180))\n",
    "\n",
    "ps = plt.pcolor(lon_edge,lat_edge,num_map_all[2,:,:].T,transform=ccrs.PlateCarree(),\n",
    "                  cmap='jet',vmin=0,vmax=0.3)\n",
    "cbar = plt.colorbar(fraction=0.05,pad=0.1,orientation='horizontal')\n",
    "cbar.set_label('fraction of total events',fontsize=12)\n",
    "#cs = plt.contour(prec_clim.lon,prec_clim.lat,prec_clim.mean(axis=0)*24)\n",
    "ax.coastlines()\n",
    "ax.add_feature(cfeat.LAND,zorder=1,edgecolor='k',facecolor='whitesmoke') # maskout LAND\n",
    "\n",
    "ax.set_yticks([-20,-15,-10,-5,0,5,10,15,20])\n",
    "ax.set_yticklabels(['20S','15S','10S','5S','EQ','5N','10N','15N','20N'])\n",
    "ax.set_xticks([-179.875,-120,-60,-0,60,120,179.875])\n",
    "ax.set_xticklabels(['0','60E','120E','180','120W','60W','0'])\n",
    "ax.set_ylim([-10,10]); ax.set_xlim([-129,89]);ax.grid(linestyle=':')\n",
    "ax.set_title('(c) event fraction, 25-35 (mm/d), 2014-2018',fontsize=15);\n",
    "\n",
    "#plt.savefig(fig_dir+'rainfrac_p45up_4ds.pdf',bbox_inches='tight')"
   ]
  },
  {
   "cell_type": "code",
   "execution_count": null,
   "metadata": {},
   "outputs": [],
   "source": [
    "fig = plt.figure(figsize=(13,4))\n",
    "ax = plt.axes(projection=ccrs.PlateCarree(central_longitude=180))\n",
    "\n",
    "ps = plt.pcolor(lon_edge,lat_edge,num_map_all[3,:,:].T,transform=ccrs.PlateCarree(),\n",
    "                  cmap='jet',vmin=0,vmax=0.3)\n",
    "cbar = plt.colorbar(fraction=0.05,pad=0.1,orientation='horizontal')\n",
    "cbar.set_label('fraction of total events',fontsize=12)\n",
    "#cs = plt.contour(prec_clim.lon,prec_clim.lat,prec_clim.mean(axis=0)*24)\n",
    "ax.coastlines()\n",
    "ax.add_feature(cfeat.LAND,zorder=1,edgecolor='k',facecolor='whitesmoke') # maskout LAND\n",
    "\n",
    "ax.set_yticks([-20,-15,-10,-5,0,5,10,15,20])\n",
    "ax.set_yticklabels(['20S','15S','10S','5S','EQ','5N','10N','15N','20N'])\n",
    "ax.set_xticks([-179.875,-120,-60,-0,60,120,179.875])\n",
    "ax.set_xticklabels(['0','60E','120E','180','120W','60W','0'])\n",
    "ax.set_ylim([-10,10]); ax.set_xlim([-129,89]);ax.grid(linestyle=':')\n",
    "ax.set_title('(d) event fraction, 35-45 (mm/d), 2014-2018',fontsize=15);\n",
    "\n",
    "#plt.savefig(fig_dir+'rainfrac_p45up_4ds.pdf',bbox_inches='tight')"
   ]
  },
  {
   "cell_type": "code",
   "execution_count": null,
   "metadata": {},
   "outputs": [],
   "source": [
    "fig = plt.figure(figsize=(13,4))\n",
    "ax = plt.axes(projection=ccrs.PlateCarree(central_longitude=180))\n",
    "\n",
    "ps = plt.pcolor(lon_edge,lat_edge,num_map_all[3,:,:].T,transform=ccrs.PlateCarree(),\n",
    "                  cmap='jet',vmin=0,vmax=0.3)\n",
    "cbar = plt.colorbar(fraction=0.05,pad=0.1,orientation='horizontal')\n",
    "cbar.set_label('fraction of total rainfall',fontsize=12)\n",
    "#cs = plt.contour(prec_clim.lon,prec_clim.lat,prec_clim.mean(axis=0)*24)\n",
    "ax.coastlines()\n",
    "ax.add_feature(cfeat.LAND,zorder=1,edgecolor='k',facecolor='whitesmoke') # maskout LAND\n",
    "\n",
    "ax.set_yticks([-20,-15,-10,-5,0,5,10,15,20])\n",
    "ax.set_yticklabels(['20S','15S','10S','5S','EQ','5N','10N','15N','20N'])\n",
    "ax.set_xticks([-179.875,-120,-60,-0,60,120,179.875])\n",
    "ax.set_xticklabels(['0','60E','120E','180','120W','60W','0'])\n",
    "ax.set_ylim([-10,10]); ax.set_xlim([-129,89]);ax.grid(linestyle=':')\n",
    "ax.set_title('(d) event fraction, 35-45 (mm/d), 2014-2018',fontsize=15);\n",
    "\n",
    "#plt.savefig(fig_dir+'rainfrac_p45up_4ds.pdf',bbox_inches='tight')"
   ]
  },
  {
   "cell_type": "code",
   "execution_count": null,
   "metadata": {},
   "outputs": [],
   "source": []
  },
  {
   "cell_type": "code",
   "execution_count": null,
   "metadata": {},
   "outputs": [],
   "source": []
  }
 ],
 "metadata": {
  "kernelspec": {
   "display_name": "Python 3",
   "language": "python",
   "name": "python3"
  },
  "language_info": {
   "codemirror_mode": {
    "name": "ipython",
    "version": 3
   },
   "file_extension": ".py",
   "mimetype": "text/x-python",
   "name": "python",
   "nbconvert_exporter": "python",
   "pygments_lexer": "ipython3",
   "version": "3.6.9"
  }
 },
 "nbformat": 4,
 "nbformat_minor": 4
}
