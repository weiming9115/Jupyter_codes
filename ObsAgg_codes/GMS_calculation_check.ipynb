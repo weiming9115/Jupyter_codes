{
 "cells": [
  {
   "cell_type": "code",
   "execution_count": 3,
   "metadata": {},
   "outputs": [],
   "source": [
    "# del_sv equation test "
   ]
  },
  {
   "cell_type": "code",
   "execution_count": 4,
   "metadata": {},
   "outputs": [],
   "source": [
    "import sys\n",
    "import os\n",
    "import xarray as xr\n",
    "from glob import glob\n",
    "import numpy as np\n",
    "import matplotlib.pyplot as plt\n",
    "import matplotlib.colors as colors\n",
    "import dask.array as da\n",
    "from scipy.ndimage import gaussian_filter\n",
    "from scipy import interpolate\n",
    "from scipy.stats import linregress\n",
    "\n",
    "from datetime import datetime, timedelta\n",
    "import cartopy.crs as ccrs\n",
    "import cartopy.feature as cfeat\n",
    "from cartopy.util import add_cyclic_point\n",
    "from cartopy.mpl.gridliner import LONGITUDE_FORMATTER, LATITUDE_FORMATTER\n",
    "\n",
    "import warnings\n",
    "import psutil\n",
    "import matplotlib.dates as mdates\n",
    "from matplotlib.dates import DateFormatter\n",
    "from matplotlib import patches\n",
    "from matplotlib import cm\n",
    "from matplotlib.colors import LinearSegmentedColormap, ListedColormap, Normalize\n",
    "\n",
    "from metpy import calc as mpcalc\n",
    "from metpy.units import units\n",
    "from scipy.stats import ttest_ind"
   ]
  },
  {
   "cell_type": "code",
   "execution_count": 5,
   "metadata": {},
   "outputs": [],
   "source": [
    "warnings.filterwarnings('ignore')"
   ]
  },
  {
   "cell_type": "code",
   "execution_count": 17,
   "metadata": {},
   "outputs": [],
   "source": [
    "# MERRA2_dir = '/w2-data2/willytsai/MERRA2/'\n",
    "# Gridsat_dir = '/w2-data/willytsai/gridsat_BT/remap_0.25deg/'\n",
    "ISCCP_dir = '/data/willytsai/ISCCP/hgg/'\n",
    "# MERRA2_3d_dir = '/w2-data/willytsai/TQUV_3hr/'\n",
    "MERRA2_dir = '/data2/willytsai/MERRA2/'\n",
    "Gridsat_dir = '/data/willytsai/gridsat_BT/remap_0.1deg/'\n",
    "ISCCP_dir = '/data/willytsai/ISCCP/hgg/'\n",
    "MERRA2_3d_dir = '/data/willytsai/TQUV_3hr/'\n",
    "MERRA2_TQCI_dir = '/data/willytsai/TQCI_3hr'\n",
    "AIRS_dir = '/data/willytsai/AIRS_daily'\n",
    "TRMM_dir = '/data2/willytsai/TRMM_3hr/TRMM/'\n",
    "WHOI_dir = '/data/willytsai/WHOI_oaflux/'"
   ]
  },
  {
   "cell_type": "code",
   "execution_count": 7,
   "metadata": {},
   "outputs": [],
   "source": [
    "def event_region(lat_event,lon_event,lon_w,lon_e,lat_s,lat_n):\n",
    "    'select specfic region'\n",
    "    idx = np.where(np.logical_and(lon_event >= lon_w, lon_event < lon_e))[0]\n",
    "    idy = np.where(np.logical_and(lat_event >= lat_s, lat_event < lat_n))[0]\n",
    "    idc = np.intersect1d(idx,idy)\n",
    "    return idc"
   ]
  },
  {
   "cell_type": "code",
   "execution_count": 8,
   "metadata": {},
   "outputs": [],
   "source": [
    "def subset_MERRA2(file_path,time_cent,lat_cent,lon_cent,days=3,lat_inc=5,lon_inc=5):\n",
    "\n",
    "    os.chdir(file_path)\n",
    "    \n",
    "    n=0\n",
    "    # daily file \n",
    "    date_sel = [time_cent + timedelta(days=day) for day in range(-days,days+1)] # selected files\n",
    "    for i,date in enumerate(date_sel):\n",
    "        #print(date)\n",
    "        date_str = datetime.strftime(date,format='%Y%m%d')\n",
    "        file = sorted(glob('*'+date_str+'*'))[0]\n",
    "        data = xr.open_dataset(file)\n",
    "        data = data.sel(lat=slice(lat_cent-lat_inc,lat_cent+lat_inc),\n",
    "                        lon=slice(lon_cent-lon_inc,lon_cent+lon_inc))\n",
    "        \n",
    "        if n == 0: \n",
    "            tmp = data; n+=1\n",
    "        else:\n",
    "            tmp = xr.concat([tmp,data],'time')\n",
    "    \n",
    "    # extract fetched time window \n",
    "    data_sub = tmp.sel(time=slice(time_cent-timedelta(days=days),time_cent+timedelta(days=days)))\n",
    "    \n",
    "    return data_sub"
   ]
  },
  {
   "cell_type": "code",
   "execution_count": 29,
   "metadata": {},
   "outputs": [],
   "source": [
    "# load data\n",
    "#os.chdir('/w2-data/willytsai/ISCCP/')\n",
    "os.chdir('/data/willytsai/ISCCP/')\n",
    "\n",
    "# variable namelist\n",
    "var_name = np.loadtxt('var_name_2014_2018_5deg_4ds.dat',dtype='U16')\n",
    "# event time\n",
    "var_time = np.loadtxt('time_event_2014_2018_5deg_4ds.dat',dtype='U13')\n",
    "time_event = []\n",
    "for t in var_time:\n",
    "    tmp = datetime.strptime(t,'%Y-%m-%d-%H')\n",
    "    time_event.append(tmp)\n",
    "\n",
    "var_dataset = (np.loadtxt('var_event_2014_2018_5deg_4ds.dat'))"
   ]
  },
  {
   "cell_type": "code",
   "execution_count": 30,
   "metadata": {},
   "outputs": [],
   "source": [
    "# precipitation events over specific basins: \n",
    "lat_event = var_dataset[:,0]\n",
    "lon_event = var_dataset[:,1]\n",
    "idx_REG = event_region(lat_event,lon_event,-180,180,-10,10) # all tropics\n",
    "\n",
    "# total event over IND\n",
    "time_event = np.asarray(time_event); time_event = time_event[idx_REG]\n",
    "lat_event = var_dataset[idx_REG,0]\n",
    "lon_event = var_dataset[idx_REG,1]"
   ]
  },
  {
   "cell_type": "code",
   "execution_count": 31,
   "metadata": {},
   "outputs": [],
   "source": [
    "t_org = np.where(lat_event>-50)[0]"
   ]
  },
  {
   "cell_type": "code",
   "execution_count": 32,
   "metadata": {},
   "outputs": [
    {
     "data": {
      "text/plain": [
       "108419"
      ]
     },
     "execution_count": 32,
     "metadata": {},
     "output_type": "execute_result"
    }
   ],
   "source": [
    "len(t_org)"
   ]
  },
  {
   "cell_type": "code",
   "execution_count": 34,
   "metadata": {},
   "outputs": [],
   "source": [
    "os.chdir('/data/willytsai/ISCCP/')\n",
    "test_data = np.load('mse_all_5deg_4ds.mat.npy')"
   ]
  },
  {
   "cell_type": "code",
   "execution_count": 35,
   "metadata": {},
   "outputs": [
    {
     "data": {
      "text/plain": [
       "(108419, 33, 42)"
      ]
     },
     "execution_count": 35,
     "metadata": {},
     "output_type": "execute_result"
    }
   ],
   "source": [
    "test_data.shape"
   ]
  },
  {
   "cell_type": "code",
   "execution_count": 16,
   "metadata": {},
   "outputs": [
    {
     "data": {
      "text/plain": [
       "'/data/willytsai/'"
      ]
     },
     "execution_count": 16,
     "metadata": {},
     "output_type": "execute_result"
    }
   ],
   "source": [
    "MERRA2_3d_dir"
   ]
  },
  {
   "cell_type": "code",
   "execution_count": 39,
   "metadata": {},
   "outputs": [],
   "source": [
    "t=0"
   ]
  },
  {
   "cell_type": "code",
   "execution_count": 40,
   "metadata": {},
   "outputs": [],
   "source": [
    "## function derived MERRA2\n",
    "\n",
    "data_sub = subset_MERRA2(MERRA2_3d_dir\n",
    "           ,time_event[t],lat_event[t],lon_event[t],days=2,lon_inc=2.5,lat_inc=2.5)\n",
    "data_sub2 = subset_MERRA2(MERRA2_3d_dir+'../omega_3hr'\n",
    "           ,time_event[t],lat_event[t],lon_event[t],days=2,\n",
    "           lat_inc=2.5,lon_inc=2.5)\n",
    "data_sub3 = subset_MERRA2(MERRA2_3d_dir+'../geoheight_3hr/'\n",
    "           ,time_event[t],lat_event[t],lon_event[t],days=2,\n",
    "           lat_inc=2.5,lon_inc=2.5)\n",
    "\n",
    "u_sm = data_sub.U\n",
    "v_sm = data_sub.V\n",
    "T_sm = data_sub.T\n",
    "omega_sm = data_sub2.OMEGA\n",
    "q_sm = data_sub.QV\n",
    "z_sm = data_sub3.H\n",
    "lev = T_sm.lev\n",
    "lon = T_sm.lon\n",
    "lat = T_sm.lat\n",
    "\n",
    "h_sm = 1004*T_sm + 2.5e6*q_sm + 9.8*z_sm \n",
    "s_sm = 1004*T_sm + 9.8*z_sm \n",
    "\n",
    "hsm = np.nanmean(h_sm,axis=(2,3))\n",
    "ssm = np.nanmean(s_sm,axis=(2,3))\n",
    "\n",
    "# GMS_test formula\n",
    "dhdpm = np.gradient(h_sm,h_sm.lev*100,axis=1)\n",
    "dsdpm = np.gradient(s_sm,s_sm.lev*100,axis=1)\n",
    "\n",
    "# MERRA2 function formula\n",
    "dhdx = np.nanmean(np.gradient(h_sm,lon*100000,axis=3),axis=(2,3))\n",
    "dhdy = np.nanmean(np.gradient(h_sm,lat*100000,axis=2),axis=(2,3))\n",
    "hadv_org = u_sm.mean(axis=(2,3))*dhdx + v_sm.mean(axis=(2,3))*dhdy\n",
    "\n",
    "dsdx = np.nanmean(np.gradient(s_sm,lon*100000,axis=3),axis=(2,3))\n",
    "dsdy = np.nanmean(np.gradient(s_sm,lat*100000,axis=2),axis=(2,3))\n",
    "sadv_org = u_sm.mean(axis=(2,3))*dsdx + v_sm.mean(axis=(2,3))*dsdy\n",
    "\n",
    "s_adv_GMS = np.nanmean(u_sm,axis=(2,3))*dsdx + np.nanmean(v_sm,axis=(2,3))*dsdy                                       \n",
    "h_adv_GMS = np.nanmean(u_sm,axis=(2,3))*dhdx + np.nanmean(v_sm,axis=(2,3))*dhdy \n",
    "#wdsdp_GMS = np.nanmean(omega_sm,axis=(2,3))*np.nanmean(dsdpm,axis=(2,3))\n",
    "#wdsdp_M2 = np.nanmean(omega_sm,axis=(2,3))*np.gradient(ssm,lev*100,axis=1)"
   ]
  },
  {
   "cell_type": "code",
   "execution_count": 44,
   "metadata": {},
   "outputs": [
    {
     "data": {
      "text/plain": [
       "[<matplotlib.lines.Line2D at 0x7fc277444da0>]"
      ]
     },
     "execution_count": 44,
     "metadata": {},
     "output_type": "execute_result"
    },
    {
     "data": {
      "image/png": "[encoded data removed]",
      "text/plain": [
       "<Figure size 432x288 with 1 Axes>"
      ]
     },
     "metadata": {
      "needs_background": "light"
     },
     "output_type": "display_data"
    }
   ],
   "source": [
    "plt.plot(s_adv_GMS[10,:])\n",
    "plt.plot(sadv_org[10,:],'k')"
   ]
  },
  {
   "cell_type": "code",
   "execution_count": null,
   "metadata": {},
   "outputs": [],
   "source": []
  },
  {
   "cell_type": "code",
   "execution_count": null,
   "metadata": {},
   "outputs": [],
   "source": []
  },
  {
   "cell_type": "code",
   "execution_count": null,
   "metadata": {},
   "outputs": [],
   "source": []
  }
 ],
 "metadata": {
  "kernelspec": {
   "display_name": "Python 3",
   "language": "python",
   "name": "python3"
  },
  "language_info": {
   "codemirror_mode": {
    "name": "ipython",
    "version": 3
   },
   "file_extension": ".py",
   "mimetype": "text/x-python",
   "name": "python",
   "nbconvert_exporter": "python",
   "pygments_lexer": "ipython3",
   "version": "3.6.9"
  }
 },
 "nbformat": 4,
 "nbformat_minor": 4
}
