{
 "cells": [
  {
   "cell_type": "markdown",
   "metadata": {},
   "source": [
    "#### test for Iorg algorithm "
   ]
  },
  {
   "cell_type": "code",
   "execution_count": 1,
   "metadata": {},
   "outputs": [],
   "source": [
    "import os\n",
    "import numpy as np\n",
    "import xarray as xr\n",
    "import matplotlib.pyplot as plt\n",
    "from glob import glob"
   ]
  },
  {
   "cell_type": "code",
   "execution_count": 2,
   "metadata": {},
   "outputs": [],
   "source": [
    "import scipy as sc\n",
    "\n",
    "from skimage import measure\n",
    "from scipy.spatial.distance import pdist"
   ]
  },
  {
   "cell_type": "code",
   "execution_count": 3,
   "metadata": {},
   "outputs": [],
   "source": [
    "os.chdir('/data2/willytsai/python_module/')\n",
    "import conorgidx_revise as corgv\n",
    "import conorgidx as corg"
   ]
  },
  {
   "cell_type": "code",
   "execution_count": 4,
   "metadata": {},
   "outputs": [],
   "source": [
    "def get_cloudproperties(cloudmask, connectivity=1):\n",
    "    cloudmask[np.isnan(cloudmask)] = 0\n",
    "\n",
    "    labels = measure.label(cloudmask, connectivity=connectivity)\n",
    "\n",
    "    return measure.regionprops(labels)    "
   ]
  },
  {
   "cell_type": "code",
   "execution_count": 5,
   "metadata": {},
   "outputs": [],
   "source": [
    "def neighbor_distance(cloudproperties):\n",
    "    centroids = [prop.centroid for prop in cloudproperties]\n",
    "    indices = np.arange(len(centroids))\n",
    "    neighbor_distance = np.zeros(len(centroids))\n",
    "    centroids_array = np.asarray(centroids)\n",
    "\n",
    "    for n, point in enumerate(centroids):\n",
    "        # use all center of mass coordinates, but the one from the point\n",
    "        mytree = sc.spatial.cKDTree(centroids_array[indices != n])\n",
    "        dist, indexes = mytree.query(point)\n",
    "        neighbor_distance[n] = dist\n",
    "\n",
    "    return neighbor_distance"
   ]
  },
  {
   "cell_type": "code",
   "execution_count": 6,
   "metadata": {},
   "outputs": [],
   "source": [
    "def _iorg(neighbor_distance, cloudmask):\n",
    "    nn_sorted = np.sort(neighbor_distance)\n",
    "\n",
    "    nncdf = np.array(range(len(neighbor_distance))) / len(neighbor_distance)\n",
    "\n",
    "    # theoretical nearest neighbor cumulative frequency\n",
    "    # distribution (nncdf) of a random point process (Poisson)\n",
    "    lamb = (len(neighbor_distance) /\n",
    "            (cloudmask.shape[0] * cloudmask.shape[1]))\n",
    "    nncdf_poisson = 1 - np.exp(-lamb * np.pi * nn_sorted**2)\n",
    "\n",
    "    return sc.integrate.trapz(y=nncdf, x=nncdf_poisson)"
   ]
  },
  {
   "cell_type": "code",
   "execution_count": 7,
   "metadata": {},
   "outputs": [],
   "source": [
    "def iorg(cloudmask):\n",
    "    cloud_props = get_cloudproperties(cloudmask)\n",
    "    dists = neighbor_distance(cloud_props)\n",
    "    return _iorg(neighbor_distance=dists, cloudmask=cloudmask)"
   ]
  },
  {
   "cell_type": "code",
   "execution_count": 8,
   "metadata": {},
   "outputs": [],
   "source": [
    "test = np.ones((50,50))\n",
    "#test = np.random.randint(0,2,size=(30,30))\n",
    "for i in range(50):\n",
    "    for j in range(50):\n",
    "        if np.mod(i+j,2) == 1:\n",
    "            test[i,j] = test[i,j] \n",
    "        else:\n",
    "            test[i,j] = np.nan"
   ]
  },
  {
   "cell_type": "code",
   "execution_count": 9,
   "metadata": {},
   "outputs": [
    {
     "data": {
      "text/plain": [
       "<matplotlib.colorbar.Colorbar at 0x7fce6664a668>"
      ]
     },
     "execution_count": 9,
     "metadata": {},
     "output_type": "execute_result"
    },
    {
     "data": {
      "image/png": "[encoded data removed]",
      "text/plain": [
       "<Figure size 432x288 with 2 Axes>"
      ]
     },
     "metadata": {},
     "output_type": "display_data"
    }
   ],
   "source": [
    "plt.pcolor(test);plt.colorbar()"
   ]
  },
  {
   "cell_type": "code",
   "execution_count": 155,
   "metadata": {},
   "outputs": [],
   "source": [
    "test2 = np.zeros((50,50))*np.nan\n",
    "test2[10:40,15:45] = 1\n",
    "test2[20:30,5:10] = 1\n",
    "#test2[30:35,5:10] = 1\n",
    "#test2[27:29,20:22] = 1\n",
    "#test2[27:29,20:22] = 1\n",
    "#test2[22:24,17:19] = 1\n",
    "#test2[5:7,40:43] = 1; test2[47:49,5:8] = 1"
   ]
  },
  {
   "cell_type": "code",
   "execution_count": 157,
   "metadata": {},
   "outputs": [
    {
     "data": {
      "text/plain": [
       "<matplotlib.collections.PolyCollection at 0x7fce5a875080>"
      ]
     },
     "execution_count": 157,
     "metadata": {},
     "output_type": "execute_result"
    },
    {
     "data": {
      "image/png": "[encoded data removed]",
      "text/plain": [
       "<Figure size 432x288 with 1 Axes>"
      ]
     },
     "metadata": {},
     "output_type": "display_data"
    }
   ],
   "source": [
    "plt.pcolor(test2.T)"
   ]
  },
  {
   "cell_type": "code",
   "execution_count": 158,
   "metadata": {},
   "outputs": [
    {
     "data": {
      "text/plain": [
       "0.2804308824378384"
      ]
     },
     "execution_count": 158,
     "metadata": {},
     "output_type": "execute_result"
    }
   ],
   "source": [
    "corgv.iorg(test2)"
   ]
  },
  {
   "cell_type": "code",
   "execution_count": 135,
   "metadata": {},
   "outputs": [],
   "source": [
    "test2 = np.zeros((50,50))*np.nan\n",
    "test2[15:20,13:18] = 1\n",
    "test2[20:30,23:33] = 1\n",
    "test2[30:35,13:18] = 1\n",
    "test2[27:29,18:20] = 1\n",
    "test2[27:29,18:20] = 1"
   ]
  },
  {
   "cell_type": "code",
   "execution_count": 136,
   "metadata": {},
   "outputs": [
    {
     "data": {
      "text/plain": [
       "<matplotlib.collections.PolyCollection at 0x7fce5b30f160>"
      ]
     },
     "execution_count": 136,
     "metadata": {},
     "output_type": "execute_result"
    },
    {
     "data": {
      "image/png": "[encoded data removed]",
      "text/plain": [
       "<Figure size 432x288 with 1 Axes>"
      ]
     },
     "metadata": {},
     "output_type": "display_data"
    }
   ],
   "source": [
    "plt.pcolor(test2.T)"
   ]
  },
  {
   "cell_type": "code",
   "execution_count": null,
   "metadata": {},
   "outputs": [],
   "source": [
    "#test2 = np.random.randint(0,2,size=(20,20))\n",
    "\n",
    "cloudmask=test\n",
    "\n",
    "cloudproperties = get_cloudproperties(cloudmask,connectivity=1)\n",
    "\n",
    "centroids = [prop.centroid for prop in cloudproperties]\n",
    "indices = np.arange(len(centroids))\n",
    "neighbor_distance = np.zeros(len(centroids))\n",
    "centroids_array = np.asarray(centroids)\n",
    "\n",
    "for n, point in enumerate(centroids):\n",
    "    # use all center of mass coordinates, but the one from the point\n",
    "    mytree = sc.spatial.cKDTree(centroids_array[indices != n])\n",
    "    dist, indexes = mytree.query(point)\n",
    "    neighbor_distance[n] = dist\n",
    "\n",
    "#     nn_sorted = np.sort(neighbor_distance)\n",
    "\n",
    "#     nncdf = np.array(range(len(neighbor_distance))) / len(neighbor_distance)\n",
    "\n",
    "#     # theoretical nearest neighbor cumulative frequency\n",
    "#     # distribution (nncdf) of a random point process (Poisson)\n",
    "#     lamb = (len(neighbor_distance) /\n",
    "#             (cloudmask.shape[0] * cloudmask.shape[1]))\n",
    "#     nncdf_poisson = 1 - np.exp(-lamb * np.pi * nn_sorted**2)\n",
    "\n",
    "# revised\n",
    "nn_sorted = np.sort(neighbor_distance)\n",
    "Dmax = np.sqrt(cloudmask.shape[0]**2 + cloudmask.shape[1]**2) # maximum distance\n",
    "nn_normalized_dist = nn_sorted\n",
    "dist_bins = np.linspace(0,Dmax,10000)\n",
    "nncdf = np.zeros(len(dist_bins)-1)\n",
    "for n in range(len(dist_bins)-1):\n",
    "    idx = np.where(np.logical_and(nn_normalized_dist>=dist_bins[n],nn_normalized_dist<dist_bins[n+1]))[0]\n",
    "    nncdf[n] = len(idx)\n",
    "nncdf = np.cumsum(nncdf)/len(neighbor_distance)    \n",
    "\n",
    "# theoretical nearest neighbor cumulative frequency\n",
    "# distribution (nncdf) of a random point process (Poisson)\n",
    "lamb = (len(neighbor_distance) /\n",
    "        (cloudmask.shape[0] * cloudmask.shape[1]))\n",
    "nncdf_poisson = 1 - np.exp(-lamb * np.pi * dist_bins[:-1]**2)\n",
    "\n",
    "sc.integrate.trapz(y=nncdf, x=nncdf_poisson)"
   ]
  },
  {
   "cell_type": "code",
   "execution_count": 60,
   "metadata": {},
   "outputs": [
    {
     "data": {
      "text/plain": [
       "'GRIDSAT-B1.2014.01.01.00._0.1deg.nc'"
      ]
     },
     "execution_count": 60,
     "metadata": {},
     "output_type": "execute_result"
    }
   ],
   "source": [
    "os.chdir('/data/willytsai/gridsat_BT/remap_0.1deg/2014_2018/')\n",
    "files = glob('*.nc')\n",
    "files[0]"
   ]
  },
  {
   "cell_type": "code",
   "execution_count": 142,
   "metadata": {},
   "outputs": [],
   "source": [
    "data = xr.open_dataset(files[1])\n",
    "tbb = data.sel(lat=slice(0,5),lon=slice(60,65)).irwin_cdr\n",
    "tbb_mask = np.copy(tbb)\n",
    "tbb_mask[tbb_mask>240] = np.nan"
   ]
  },
  {
   "cell_type": "code",
   "execution_count": 143,
   "metadata": {},
   "outputs": [
    {
     "data": {
      "text/plain": [
       "<matplotlib.colorbar.Colorbar at 0x7fce5acd7630>"
      ]
     },
     "execution_count": 143,
     "metadata": {},
     "output_type": "execute_result"
    },
    {
     "data": {
      "image/png": "[encoded data removed]",
      "text/plain": [
       "<Figure size 864x360 with 4 Axes>"
      ]
     },
     "metadata": {},
     "output_type": "display_data"
    }
   ],
   "source": [
    "fig,ax = plt.subplots(1,2,figsize=(12,5))\n",
    "cf1 = ax[0].pcolor(tbb,cmap='binary',vmin=200,vmax=290);plt.colorbar(cf1,ax=ax[0])\n",
    "cf2 = ax[1].pcolor(tbb_mask,cmap='jet',vmin=200,vmax=290);plt.colorbar(cf2,ax=ax[1])"
   ]
  },
  {
   "cell_type": "code",
   "execution_count": 144,
   "metadata": {},
   "outputs": [
    {
     "data": {
      "text/plain": [
       "0.6566507766386508"
      ]
     },
     "execution_count": 144,
     "metadata": {},
     "output_type": "execute_result"
    }
   ],
   "source": [
    "corgv.iorg(tbb_mask)"
   ]
  },
  {
   "cell_type": "code",
   "execution_count": 145,
   "metadata": {},
   "outputs": [
    {
     "data": {
      "text/plain": [
       "0.6522139471430008"
      ]
     },
     "execution_count": 145,
     "metadata": {},
     "output_type": "execute_result"
    }
   ],
   "source": [
    "corg.iorg(tbb_mask)"
   ]
  },
  {
   "cell_type": "code",
   "execution_count": null,
   "metadata": {},
   "outputs": [],
   "source": []
  }
 ],
 "metadata": {
  "kernelspec": {
   "display_name": "Python 3",
   "language": "python",
   "name": "python3"
  },
  "language_info": {
   "codemirror_mode": {
    "name": "ipython",
    "version": 3
   },
   "file_extension": ".py",
   "mimetype": "text/x-python",
   "name": "python",
   "nbconvert_exporter": "python",
   "pygments_lexer": "ipython3",
   "version": "3.6.9"
  }
 },
 "nbformat": 4,
 "nbformat_minor": 2
}
