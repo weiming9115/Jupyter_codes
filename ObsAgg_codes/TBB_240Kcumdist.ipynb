{
 "cells": [
  {
   "cell_type": "code",
   "execution_count": null,
   "metadata": {},
   "outputs": [],
   "source": [
    "import sys\n",
    "import os\n",
    "import xarray as xr\n",
    "from glob import glob\n",
    "import numpy as np\n",
    "import matplotlib.pyplot as plt\n",
    "\n",
    "from datetime import datetime, timedelta\n",
    "import cartopy.crs as ccrs\n",
    "import cartopy.feature as cfeat\n",
    "from cartopy.util import add_cyclic_point\n",
    "from cartopy.mpl.gridliner import LONGITUDE_FORMATTER, LATITUDE_FORMATTER\n",
    "\n",
    "import warnings\n",
    "import psutil\n",
    "import matplotlib.dates as mdates\n",
    "from matplotlib.dates import DateFormatter\n",
    "from matplotlib import patches\n",
    "from matplotlib import cm\n",
    "\n",
    "from metpy import calc as mpcalc\n",
    "from metpy.units import units"
   ]
  },
  {
   "cell_type": "code",
   "execution_count": null,
   "metadata": {},
   "outputs": [],
   "source": [
    "Gridsat_dir = '/data/willytsai/gridsat_BT/remap_0.1deg/'"
   ]
  },
  {
   "cell_type": "code",
   "execution_count": null,
   "metadata": {},
   "outputs": [],
   "source": [
    "os.chdir(Gridsat_dir)\n",
    "data = xr.open_dataset('LandSeaMask_0.1deg.nc4')\n",
    "lsmask = data.sel(lat=slice(-10,10)).landseamask\n",
    "lsmask_1d = lsmask.values.flatten()"
   ]
  },
  {
   "cell_type": "code",
   "execution_count": null,
   "metadata": {},
   "outputs": [],
   "source": [
    "plt.contourf(lsmask.T)\n",
    "plt.colorbar()"
   ]
  },
  {
   "cell_type": "code",
   "execution_count": null,
   "metadata": {},
   "outputs": [],
   "source": [
    "os.chdir(Gridsat_dir+'2014_2018/')"
   ]
  },
  {
   "cell_type": "code",
   "execution_count": null,
   "metadata": {},
   "outputs": [],
   "source": [
    "files = sorted(glob('*nc'))"
   ]
  },
  {
   "cell_type": "code",
   "execution_count": null,
   "metadata": {},
   "outputs": [],
   "source": [
    "%%time\n",
    "tbb_bins = np.linspace(180,300,61)\n",
    "tbb_dist = np.zeros(len(tbb_bins)-1)\n",
    "\n",
    "for file in files:\n",
    "    data = xr.open_dataset(file)\n",
    "    tbb = data.sel(lat=slice(-10,10)).irwin_cdr\n",
    "    tbb_1d = tbb.values.flatten()\n",
    "    tbb_1d[lsmask_1d<100] = np.nan\n",
    "    \n",
    "    for i in range(len(tbb_bins)-1):\n",
    "        idx = np.where(np.logical_and(tbb_1d>=tbb_bins[i],tbb_1d<tbb_bins[i+1]))[0]\n",
    "        tbb_dist[i] += len(idx)"
   ]
  },
  {
   "cell_type": "code",
   "execution_count": null,
   "metadata": {},
   "outputs": [],
   "source": [
    "from matplotlib.ticker import NullFormatter"
   ]
  },
  {
   "cell_type": "code",
   "execution_count": null,
   "metadata": {},
   "outputs": [],
   "source": [
    "fig = plt.figure(figsize=(5,5))\n",
    "plt.step(tbb_bins[:-1],np.cumsum(tbb_dist)/np.sum(tbb_dist))\n",
    "plt.yscale('logit')\n",
    "plt.gca().yaxis.set_minor_formatter(NullFormatter())\n",
    "plt.ylim([0,0.99])\n",
    "plt.ylabel('Cumulative probability',fontsize=12);\n",
    "plt.xlabel('Brightness temperature [K]',fontsize=12)\n",
    "plt.xlim([175,305])\n",
    "#plt.yticks([0.01,0.1,1,5,10,20,30,40,50,70,80.90,95,99,99.9,99.99])\n",
    "plt.grid()\n",
    "plt.show"
   ]
  },
  {
   "cell_type": "code",
   "execution_count": null,
   "metadata": {},
   "outputs": [],
   "source": [
    "os.chdir('/data/willytsai/ISCCP/fig/')\n",
    "fig.savefig('TBB_cumulative_dist.pdf',bbox_inches='tight')"
   ]
  },
  {
   "cell_type": "code",
   "execution_count": null,
   "metadata": {},
   "outputs": [],
   "source": []
  },
  {
   "cell_type": "code",
   "execution_count": null,
   "metadata": {},
   "outputs": [],
   "source": []
  }
 ],
 "metadata": {
  "kernelspec": {
   "display_name": "Python 3",
   "language": "python",
   "name": "python3"
  },
  "language_info": {
   "codemirror_mode": {
    "name": "ipython",
    "version": 3
   },
   "file_extension": ".py",
   "mimetype": "text/x-python",
   "name": "python",
   "nbconvert_exporter": "python",
   "pygments_lexer": "ipython3",
   "version": "3.6.9"
  }
 },
 "nbformat": 4,
 "nbformat_minor": 2
}
