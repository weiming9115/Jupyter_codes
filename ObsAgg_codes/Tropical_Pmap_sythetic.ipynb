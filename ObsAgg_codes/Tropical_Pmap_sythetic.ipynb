{
 "cells": [
  {
   "cell_type": "markdown",
   "metadata": {},
   "source": [
    "#### Tropical mean P constructed by events of aggregated convection"
   ]
  },
  {
   "cell_type": "code",
   "execution_count": null,
   "metadata": {},
   "outputs": [],
   "source": [
    "import sys\n",
    "import os\n",
    "import xarray as xr\n",
    "from glob import glob\n",
    "import numpy as np\n",
    "import matplotlib.pyplot as plt\n",
    "import matplotlib.colors as colors\n",
    "import dask.array as da\n",
    "from scipy.ndimage import gaussian_filter\n",
    "\n",
    "from datetime import datetime, timedelta\n",
    "import cartopy.crs as ccrs\n",
    "import cartopy.feature as cfeat\n",
    "from cartopy.util import add_cyclic_point\n",
    "from cartopy.mpl.gridliner import LONGITUDE_FORMATTER, LATITUDE_FORMATTER\n",
    "\n",
    "import warnings\n",
    "import psutil\n",
    "import matplotlib.dates as mdates\n",
    "from matplotlib.dates import DateFormatter\n",
    "from matplotlib import patches\n",
    "from matplotlib import cm\n",
    "from matplotlib.colors import ListedColormap, Normalize\n",
    "\n",
    "from metpy import calc as mpcalc\n",
    "from metpy.units import units\n",
    "from scipy.stats import ttest_ind"
   ]
  },
  {
   "cell_type": "code",
   "execution_count": null,
   "metadata": {},
   "outputs": [],
   "source": [
    "ISCCP_dir = '/data/willytsai/ISCCP/hgg/'\n",
    "TRMM_dir = '/data2/willytsai/TRMM_3hr/TRMM/'\n",
    "MERRA2_dir = '/data2/willytsai/MERRA2/'\n",
    "MERRA2_3d_dir = '/data/willytsai/'\n",
    "ERA5_dir = '/data/willytsai/ERA5/'\n",
    "Gridsat_dir = '/data/willytsai/gridsat_BT/remap_0.25deg/'\n",
    "fig_dir = '/data/willytsai/ISCCP/fig/'"
   ]
  },
  {
   "cell_type": "code",
   "execution_count": null,
   "metadata": {},
   "outputs": [],
   "source": [
    " os.chdir(TRMM_dir+'2014_2018')"
   ]
  },
  {
   "cell_type": "code",
   "execution_count": null,
   "metadata": {},
   "outputs": [],
   "source": [
    "%%time\n",
    "date = []; date_begin = datetime(2014,1,1)\n",
    "for t in range(14608):\n",
    "    tmp = date_begin + t*timedelta(hours=3)\n",
    "    date.append(tmp)\n",
    "                \n",
    "# # TRMM3B42 dataset 2014, 3hrly separate\n",
    "prec_3hr = np.nan*np.zeros((len(date),241,1440))"
   ]
  },
  {
   "cell_type": "code",
   "execution_count": null,
   "metadata": {},
   "outputs": [],
   "source": [
    "%%time\n",
    "files = sorted(glob('3B42.*'))\n",
    "for n,file in enumerate(files):\n",
    "    try:\n",
    "        data = xr.open_dataset(file).precipitation        \n",
    "        prec_3hr[n,:,:] = data.values.swapaxes(0,1)\n",
    "    except:\n",
    "        prec_3hr[n,:,:] = np.nan       \n",
    "lon = data.nlon; lat = data.nlat\n",
    "prec_xr = xr.DataArray(prec_3hr,coords=[date,lat,lon],dims=['time','lat','lon']); del prec_3hr"
   ]
  },
  {
   "cell_type": "code",
   "execution_count": null,
   "metadata": {},
   "outputs": [],
   "source": [
    "warnings.filterwarnings('ignore')"
   ]
  },
  {
   "cell_type": "code",
   "execution_count": null,
   "metadata": {},
   "outputs": [],
   "source": [
    "# load data\n",
    "os.chdir('/data/willytsai/ISCCP/')\n",
    "\n",
    "# variable namelist\n",
    "var_name = np.loadtxt('var_name_2014_2018_5deg_4ds.dat',dtype='U16')\n",
    "# event time\n",
    "var_time = np.loadtxt('time_event_2014_2018_5deg_4ds.dat',dtype='U13')\n",
    "time_event = []\n",
    "for t in var_time:\n",
    "    tmp = datetime.strptime(t,'%Y-%m-%d-%H')\n",
    "    time_event.append(tmp)\n",
    "\n",
    "var_dataset = (np.loadtxt('var_event_2014_2018_5deg_4ds.dat'))"
   ]
  },
  {
   "cell_type": "code",
   "execution_count": null,
   "metadata": {},
   "outputs": [],
   "source": [
    "lat_event = var_dataset[:,0]\n",
    "lon_event = var_dataset[:,1]"
   ]
  },
  {
   "cell_type": "code",
   "execution_count": null,
   "metadata": {},
   "outputs": [],
   "source": [
    "prec_all = np.load('prec_all_5deg_4ds.mat.npy') #\n",
    "SCAI_all = np.load('SCAIbt_all_5deg_4ds.mat.npy')"
   ]
  },
  {
   "cell_type": "code",
   "execution_count": null,
   "metadata": {},
   "outputs": [],
   "source": [
    "%%time\n",
    "date_frame = np.asarray(date)\n",
    "\n",
    "lat_bin = np.linspace(-7.5,7.5,7)\n",
    "lon_bin = np.linspace(-177.5,177.5,143)\n",
    "\n",
    "precsum_uncov = np.zeros((len(lon_bin),len(lat_bin)))\n",
    "precsum_uni = np.copy(precsum_uncov)\n",
    "precsum_overlap = np.copy(precsum_uncov)\n",
    "\n",
    "for i,lon_cen in enumerate(lon_bin):\n",
    "    for j,lat_cen in enumerate(lat_bin):\n",
    "        \n",
    "        prec_record = np.zeros(len(date_frame))\n",
    "        prec_mn = prec_xr.sel(lat=slice(lat_cen-2.5,lat_cen+2.5)\n",
    "                                         ,lon=slice(lon_cen-2.5,lon_cen+2.5)).mean(axis=(1,2)) # time-series\n",
    "        idx = np.where(24*prec_mn >=5)[0] # larger than 5mm/day\n",
    "        for n in idx:\n",
    "            if n >= 16 and (n + 17) < len(prec_record):\n",
    "                if prec_mn[n] == np.max(prec_mn[n-16:n+17]):\n",
    "                    prec_record[n-16:n+17] += 1 # 4-day window\n",
    "        \n",
    "        idx_unc = np.where(prec_record==0)[0] # uncovered time\n",
    "        idx_uni = np.where(prec_record==1)[0] # unitary evnets\n",
    "        idx_over = np.where(prec_record>1)[0] # overlapped time\n",
    "        \n",
    "        precmn_uncov[i,j] = prec_mn[idx_unc].mean()\n",
    "        precmn_uni[i,j] = prec_mn[idx_uni].mean()\n",
    "        precsum_overlap[i,j] = prec_mn[idx_over].sum()/prec_mn.sum()"
   ]
  },
  {
   "cell_type": "code",
   "execution_count": null,
   "metadata": {},
   "outputs": [],
   "source": [
    "%%time \n",
    "lat_bin = np.linspace(-7.5,7.5,7)\n",
    "lon_bin = np.linspace(-177.5,177.5,143)\n",
    "\n",
    "precmn_clim = np.zeros((143,7))\n",
    "precmn_tot = np.copy(precmn_clim)\n",
    "precmn_org = np.copy(precmn_clim)\n",
    "precmn_scat = np.copy(precmn_clim)\n",
    "for i,lon_cen in enumerate(lon_bin):\n",
    "    for j,lat_cen in enumerate(lat_bin):\n",
    "    \n",
    "        idx_geo = np.where(np.logical_and(lat_event==lat_cen, lon_event==lon_cen))[0]\n",
    "        idx_SCAI1 = np.where(SCAI_all[:,16] < 3)[0]\n",
    "        idx_SCAI2 = np.where(SCAI_all[:,16] > 6)[0]        \n",
    "        idx_org = np.intersect1d(idx_geo,idx_SCAI1)\n",
    "        idx_scat = np.intersect1d(idx_geo,idx_SCAI2)\n",
    "        \n",
    "        precmn_clim[i,j] = prec_xr.sel(lat=slice(lat_cen-2.5,lat_cen+2.5)\n",
    "                                    ,lon=slice(lon_cen-2.5,lon_cen+2.5)).mean() # climatology P in a single 5x5 box\n",
    "        \n",
    "        precmn_tot[i,j] = np.nanmean(prec_all[idx_geo,:])\n",
    "        precmn_org[i,j] = np.nanmean(prec_all[idx_org,:]) # \n",
    "        precmn_scat[i,j] = np.nanmean(prec_all[idx_scat,:])"
   ]
  },
  {
   "cell_type": "code",
   "execution_count": null,
   "metadata": {},
   "outputs": [],
   "source": [
    "plt.hist(SCAI_all[:,16],bins=20);"
   ]
  },
  {
   "cell_type": "code",
   "execution_count": null,
   "metadata": {},
   "outputs": [],
   "source": [
    "precmn_clim_re = np.zeros((145,7))\n",
    "precmn_clim_re[:143,:] = precmn_clim\n",
    "precmn_clim_re[143,:] = (precmn_clim[0,:]+precmn_clim[-1,:])/2\n",
    "precmn_clim_re[144,:] = (precmn_clim[0,:]+precmn_clim[-1,:])/2    \n",
    "precmn_clim_re = np.vstack([precmn_clim_re.T,np.zeros((precmn_clim_re.shape[0])).T]).T\n",
    "\n",
    "lat_bin = np.linspace(-8.75,8.75,8)\n",
    "lon_bin = np.linspace(-178.75,181.25,145)"
   ]
  },
  {
   "cell_type": "code",
   "execution_count": null,
   "metadata": {},
   "outputs": [],
   "source": [
    "precmn_org_re = np.zeros((145,7))\n",
    "precmn_org_re[:143,:] = precmn_org\n",
    "precmn_org_re[143,:] = (precmn_org[0,:]+precmn_org[-1,:])/2\n",
    "precmn_org_re[144,:] = (precmn_org[0,:]+precmn_org[-1,:])/2    \n",
    "precmn_org_re = np.vstack([precmn_org_re.T,np.zeros((precmn_org_re.shape[0])).T]).T"
   ]
  },
  {
   "cell_type": "code",
   "execution_count": null,
   "metadata": {},
   "outputs": [],
   "source": [
    "precmn_scat_re = np.zeros((145,7))\n",
    "precmn_scat_re[:143,:] = precmn_scat\n",
    "precmn_scat_re[143,:] = (precmn_scat[0,:]+precmn_scat[-1,:])/2\n",
    "precmn_scat_re[144,:] = (precmn_scat[0,:]+precmn_scat[-1,:])/2    \n",
    "precmn_scat_re = np.vstack([precmn_scat_re.T,np.zeros((precmn_scat_re.shape[0])).T]).T"
   ]
  },
  {
   "cell_type": "code",
   "execution_count": null,
   "metadata": {},
   "outputs": [],
   "source": [
    "precmn_tot_re = np.zeros((145,7))\n",
    "precmn_tot_re[:143,:] = precmn_tot\n",
    "precmn_tot_re[143,:] = (precmn_tot[0,:]+precmn_tot[-1,:])/2\n",
    "precmn_tot_re[144,:] = (precmn_tot[0,:]+precmn_tot[-1,:])/2    \n",
    "precmn_tot_re = np.vstack([precmn_tot_re.T,np.zeros((precmn_tot_re.shape[0])).T]).T"
   ]
  },
  {
   "cell_type": "code",
   "execution_count": null,
   "metadata": {},
   "outputs": [],
   "source": [
    "fig,ax = plt.subplots(1,1,figsize=(15,8.5)\n",
    "        ,subplot_kw=dict(projection=ccrs.PlateCarree(central_longitude=180)))\n",
    "\n",
    "#prec_con,lon = add_cyclic_point(prec_clim, coord=prec.lon)\n",
    "cf = ax.pcolormesh(lon_bin,lat_bin,24*precmn_tot_re.T,transform=ccrs.PlateCarree(),cmap='jet')\n",
    "ax.set_title('TRMM precipitation mean, 5-yr climatology',fontsize=14)\n",
    "\n",
    "ax.set_yticks([-20,-15,-10,-5,0,5,10,15,20])\n",
    "ax.set_yticklabels(['20S','15S','10S','5S','EQ','5N','10N','15N','20N'])\n",
    "ax.set_xticks([-180,-150,-120,-90,-60,-30,-0,30,60,90,120,150,180])\n",
    "ax.set_xticklabels(['0','30E','60E','90E','120E','150E','180','150W','120W','90W','60W','30W','0'])\n",
    "ax.set_ylim([-10,10]);ax.grid(linestyle=':')\n",
    "ax.set_xlim([-129,89])\n",
    "cbar = plt.colorbar(cf,ax=ax,shrink=0.3,pad=0.02)"
   ]
  },
  {
   "cell_type": "code",
   "execution_count": null,
   "metadata": {},
   "outputs": [],
   "source": [
    "fig,ax = plt.subplots(1,1,figsize=(15,10)\n",
    "        ,subplot_kw=dict(projection=ccrs.PlateCarree(central_longitude=180)))\n",
    "\n",
    "#prec_con,lon = add_cyclic_point(prec_clim, coord=prec.lon)\n",
    "cf = ax.pcolormesh(lon_bin,lat_bin,24*precmn_org_re.T,transform=ccrs.PlateCarree(),cmap='jet')\n",
    "ax.set_title('TRMM precipitation mean, Aggregated events, SCAI < 4',fontsize=14)\n",
    "\n",
    "ax.set_yticks([-20,-15,-10,-5,0,5,10,15,20])\n",
    "ax.set_yticklabels(['20S','15S','10S','5S','EQ','5N','10N','15N','20N'])\n",
    "ax.set_xticks([-180,-150,-120,-90,-60,-30,-0,30,60,90,120,150,180])\n",
    "ax.set_xticklabels(['0','30E','60E','90E','120E','150E','180','150W','120W','90W','60W','30W','0'])\n",
    "ax.set_ylim([-10,10]);ax.grid(linestyle=':')\n",
    "ax.set_xlim([-129,89])\n",
    "cbar = plt.colorbar(cf,ax=ax,shrink=0.3,pad=0.02)"
   ]
  },
  {
   "cell_type": "code",
   "execution_count": null,
   "metadata": {},
   "outputs": [],
   "source": [
    "fig,ax = plt.subplots(1,1,figsize=(15,8.5)\n",
    "        ,subplot_kw=dict(projection=ccrs.PlateCarree(central_longitude=180)))\n",
    "\n",
    "#prec_con,lon = add_cyclic_point(prec_clim, coord=prec.lon)\n",
    "cf = ax.pcolormesh(lon_bin,lat_bin,24*precmn_scat_re.T,transform=ccrs.PlateCarree(),cmap='jet')\n",
    "ax.set_title('TRMM precipitation mean, scattered events, SCAI > 8',fontsize=14)\n",
    "\n",
    "ax.set_yticks([-20,-15,-10,-5,0,5,10,15,20])\n",
    "ax.set_yticklabels(['20S','15S','10S','5S','EQ','5N','10N','15N','20N'])\n",
    "ax.set_xticks([-180,-150,-120,-90,-60,-30,-0,30,60,90,120,150,180])\n",
    "ax.set_xticklabels(['0','30E','60E','90E','120E','150E','180','150W','120W','90W','60W','30W','0'])\n",
    "ax.set_ylim([-10,10]);ax.grid(linestyle=':')\n",
    "ax.set_xlim([-129,89])\n",
    "cbar = plt.colorbar(cf,ax=ax,shrink=0.3,pad=0.02)"
   ]
  },
  {
   "cell_type": "code",
   "execution_count": null,
   "metadata": {},
   "outputs": [],
   "source": [
    "lon_bin.shape"
   ]
  },
  {
   "cell_type": "code",
   "execution_count": null,
   "metadata": {},
   "outputs": [],
   "source": [
    "precmn_tot_re.shape"
   ]
  },
  {
   "cell_type": "code",
   "execution_count": null,
   "metadata": {},
   "outputs": [],
   "source": [
    "fig,ax = plt.subplots(1,1,figsize=(15,10)\n",
    "        ,subplot_kw=dict(projection=ccrs.PlateCarree(central_longitude=180)))\n",
    "\n",
    "cf = ax.pcolormesh(lon_bin,lat_bin,24*(precmn_org_re-precmn_tot_re).T,transform=ccrs.PlateCarree()\n",
    "                   ,cmap='BrBG',vmin=-2,vmax=2)\n",
    "ax.set_title('TRMM precipitation mean, Aggregated events, SCAI < 3',fontsize=14)\n",
    "#prec_con,lon = add_cyclic_point(precmn_tot_re, coord=lon_bin)\n",
    "ax.contour(lon_bin,lat_bin,24*precmn_tot_re.T,transform=ccrs.PlateCarree(),\n",
    "             levels=[5,7,10,15],colors=['k'],linewidths=1)\n",
    "\n",
    "ax.set_yticks([-20,-15,-10,-5,0,5,10,15,20])\n",
    "ax.set_yticklabels(['20S','15S','10S','5S','EQ','5N','10N','15N','20N'])\n",
    "ax.set_xticks([-180,-150,-120,-90,-60,-30,-0,30,60,90,120,150,180])\n",
    "ax.set_xticklabels(['0','30E','60E','90E','120E','150E','180','150W','120W','90W','60W','30W','0'])\n",
    "ax.set_ylim([-10,10]);ax.grid(linestyle=':')\n",
    "ax.set_xlim([-129,89])\n",
    "cbar = plt.colorbar(cf,ax=ax,shrink=0.3,pad=0.05,orientation='horizontal')"
   ]
  },
  {
   "cell_type": "code",
   "execution_count": null,
   "metadata": {},
   "outputs": [],
   "source": []
  }
 ],
 "metadata": {
  "kernelspec": {
   "display_name": "Python 3",
   "language": "python",
   "name": "python3"
  },
  "language_info": {
   "codemirror_mode": {
    "name": "ipython",
    "version": 3
   },
   "file_extension": ".py",
   "mimetype": "text/x-python",
   "name": "python",
   "nbconvert_exporter": "python",
   "pygments_lexer": "ipython3",
   "version": "3.6.9"
  }
 },
 "nbformat": 4,
 "nbformat_minor": 2
}
