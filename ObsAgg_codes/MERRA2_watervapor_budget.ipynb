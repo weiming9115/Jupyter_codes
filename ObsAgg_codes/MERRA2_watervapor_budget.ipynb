{
 "cells": [
  {
   "cell_type": "code",
   "execution_count": 22,
   "metadata": {},
   "outputs": [],
   "source": [
    "import sys\n",
    "import os\n",
    "import xarray as xr\n",
    "from glob import glob\n",
    "import numpy as np\n",
    "import matplotlib.pyplot as plt\n",
    "import matplotlib.colors\n",
    "import dask.array as da\n",
    "from scipy import interpolate\n",
    "\n",
    "from datetime import datetime, timedelta\n",
    "import cartopy.crs as ccrs\n",
    "import cartopy.feature as cfeat\n",
    "from cartopy.util import add_cyclic_point\n",
    "from cartopy.mpl.gridliner import LONGITUDE_FORMATTER, LATITUDE_FORMATTER\n",
    "\n",
    "import warnings\n",
    "import psutil\n",
    "import matplotlib.dates as mdates\n",
    "from matplotlib.dates import DateFormatter\n",
    "from matplotlib import patches\n",
    "from matplotlib import cm\n",
    "\n",
    "from metpy import calc as mpcalc\n",
    "from metpy.units import units\n",
    "from scipy.stats import ttest_ind"
   ]
  },
  {
   "cell_type": "code",
   "execution_count": 2,
   "metadata": {},
   "outputs": [],
   "source": [
    "os.chdir('/data2/willytsai/python_module/')\n",
    "import SCAI_calc4obj as scai "
   ]
  },
  {
   "cell_type": "code",
   "execution_count": 3,
   "metadata": {},
   "outputs": [],
   "source": [
    "def subset_TRMM(file_path,time_cent,lat_cent,lon_cent,days=2,lat_inc=5,lon_inc=5):\n",
    "\n",
    "    os.chdir(file_path)\n",
    "    \n",
    "    n=0\n",
    "    # daily file\n",
    "    date_sel = [time_cent + timedelta(days=day) for day in range(-days,days+1)] # selected files\n",
    "    for i,date in enumerate(date_sel):\n",
    "        date_str = datetime.strftime(date,format='%Y%m%d')\n",
    "        files = sorted(glob('*'+date_str+'*')) # sub-daily\n",
    "        for file in files:\n",
    "            data = xr.open_dataset(file)\n",
    "            data = data.sel(nlat=slice(lat_cent-lat_inc,lat_cent+lat_inc),\n",
    "                            nlon=slice(lon_cent-lon_inc,lon_cent+lon_inc))\n",
    "            data = data.assign_coords(time=datetime.strptime(file[5:16],'%Y%m%d.%H'))\n",
    "        \n",
    "            if n == 0: \n",
    "                tmp = data; n+=1\n",
    "            else:\n",
    "                tmp = xr.concat([tmp,data],dim='time')\n",
    "    \n",
    "    # extract fetched time window \n",
    "    data_sub = tmp.sel(time=slice(time_cent-timedelta(days=days),time_cent+timedelta(days=days)))\n",
    "    \n",
    "    return data_sub"
   ]
  },
  {
   "cell_type": "code",
   "execution_count": 4,
   "metadata": {},
   "outputs": [],
   "source": [
    "def subset_MERRA2(file_path,time_cent,lat_cent,lon_cent,days=2,lat_inc=5,lon_inc=5):\n",
    "\n",
    "    os.chdir(file_path)\n",
    "    \n",
    "    n=0\n",
    "    # daily file \n",
    "    date_sel = [time_cent + timedelta(days=day) for day in range(-days,days+1)] # selected files\n",
    "    for i,date in enumerate(date_sel):\n",
    "        #print(date)\n",
    "        date_str = datetime.strftime(date,format='%Y%m%d')\n",
    "        file = sorted(glob('*'+date_str+'*'))[0]\n",
    "        data = xr.open_dataset(file)\n",
    "        data = data.sel(lat=slice(lat_cent-lat_inc,lat_cent+lat_inc),\n",
    "                        lon=slice(lon_cent-lon_inc,lon_cent+lon_inc))\n",
    "        \n",
    "        if n == 0: \n",
    "            tmp = data; n+=1\n",
    "        else:\n",
    "            tmp = xr.concat([tmp,data],'time')\n",
    "    \n",
    "    # extract fetched time window \n",
    "    data_sub = tmp.sel(time=slice(time_cent-timedelta(days=days),time_cent+timedelta(days=days)))\n",
    "    \n",
    "    return data_sub"
   ]
  },
  {
   "cell_type": "code",
   "execution_count": 5,
   "metadata": {},
   "outputs": [],
   "source": [
    "def subset_gridsat(file_path,time_cent,lat_cent,lon_cent,days=2,lat_inc=5,lon_inc=5):\n",
    "\n",
    "    os.chdir(file_path)\n",
    "    \n",
    "    n=0\n",
    "    # daily file\n",
    "    date_sel = [time_cent + timedelta(days=day) for day in range(-days,days+1)] # selected files\n",
    "    for i,date in enumerate(date_sel):\n",
    "        date_str = datetime.strftime(date,format='%Y.%m.%d')\n",
    "        files = sorted(glob('*'+date_str+'*')) # sub-daily\n",
    "        for file in files:\n",
    "            data = xr.open_dataset(file)\n",
    "            data = data.sel(lat=slice(lat_cent-lat_inc,lat_cent+lat_inc)\n",
    "                            ,lon=slice(lon_cent-lon_inc,lon_cent+lon_inc))\n",
    "            data = data.assign_coords(time=datetime.strptime(file[11:24],'%Y.%m.%d.%H'))\n",
    "        \n",
    "            if n == 0: \n",
    "                tmp = data; n+=1\n",
    "            else:\n",
    "                tmp = xr.concat([tmp,data],'time')\n",
    "    \n",
    "    # extract fetched time window \n",
    "    data_sub = tmp.sel(time=slice(time_cent-timedelta(days=days),time_cent+timedelta(days=days)))\n",
    "    \n",
    "    return data_sub"
   ]
  },
  {
   "cell_type": "code",
   "execution_count": 6,
   "metadata": {},
   "outputs": [],
   "source": [
    "def remove_diurnal_1D(data_all):\n",
    "    'remove diurnal cycle in the time series [N,time], N cases'\n",
    "    tmp_re = np.copy(data_all)\n",
    "    NT = data_all.shape[1]\n",
    "    \n",
    "    for n in range(data_all.shape[0]):\n",
    "        tmp = np.fft.fft(data_all[n,:]) # 49\n",
    "        freqs = np.array(range(NT))   # This gets the left end correct\n",
    "        reversed_freqs = freqs[::-1]  # Reverse the array \n",
    "        reversed_freqs[0:int(NT/2)] = freqs[1:int(NT/2)+1] # Fix the low end of the reversed array\n",
    "        freqs = reversed_freqs[::-1]  # reverse it back \n",
    "        tmp[np.where(freqs==6)] = 0 # remove diurnal 6 cycles for 6 days\n",
    "        tmp[np.where(freqs==12)] = 0 # remove half-day\n",
    "        tmp[np.where(freqs==11)] = 0\n",
    "        tmp_re[n,:] = np.fft.ifft(tmp) # reconstructed time-series                   \n",
    "    \n",
    "    return tmp_re"
   ]
  },
  {
   "cell_type": "code",
   "execution_count": 7,
   "metadata": {},
   "outputs": [],
   "source": [
    "def center_case(time_event,lon_event,lat_event,cri_r=300,ratio=0.5):\n",
    "    'precipitation area is enclosed within a circle R at reference time'\n",
    "    \n",
    "    file_path = TRMM_dir+'2014_2018'\n",
    "    time_cent = time_event\n",
    "    lat_cent = lat_event\n",
    "    lon_cent = lon_event\n",
    "    \n",
    "    # read preciptation data in the given domain\n",
    "    data = subset_TRMM(file_path,time_cent,lat_cent,lon_cent,days=0,lat_inc=2.5,lon_inc=2.5)\n",
    "    prec_sm = data.precipitation.squeeze()\n",
    "    prec_sum = np.nansum(prec_sm)\n",
    "\n",
    "    # calculate the distance matrix\n",
    "    x,y = np.meshgrid(prec_sm.nlon,prec_sm.nlat)\n",
    "    dist = np.sqrt((x-lon_cent)**2+(y-lat_cent)**2)*100 # distance from center [km]\n",
    "    prec_sm.values[dist > cri_r] = 0\n",
    "    prec_frac = (np.nansum(prec_sm)/prec_sum)\n",
    "    \n",
    "    if prec_frac >= ratio:\n",
    "        result = 1\n",
    "    else:\n",
    "        result = 0\n",
    "\n",
    "    return result"
   ]
  },
  {
   "cell_type": "code",
   "execution_count": 8,
   "metadata": {},
   "outputs": [],
   "source": [
    "# plt.pcolor(prec_sm.nlon,prec_sm.nlat,prec_sm)\n",
    "# x,y = np.meshgrid(prec_sm.nlon,prec_sm.nlat)\n",
    "# dist = np.sqrt((x-lon_event[0])**2+(y-lat_event[0])**2)*100 # distance from center [km]\n",
    "# plt.contour(prec_sm.nlon,prec_sm.nlat,dist,levels=[200],colors=['r'])"
   ]
  },
  {
   "cell_type": "code",
   "execution_count": 9,
   "metadata": {},
   "outputs": [],
   "source": [
    "warnings.filterwarnings('ignore')"
   ]
  },
  {
   "cell_type": "code",
   "execution_count": 10,
   "metadata": {},
   "outputs": [],
   "source": [
    "# ISCCP_dir = '/w2-data/willytsai/ISCCP/hgg/'\n",
    "# TRMM_dir = '/w2-data2/willytsai/TRMM_3hr/TRMM/'\n",
    "# MERRA2_dir = '/w2-data2/willytsai/MERRA2/'\n",
    "# MERRA2_3d_dir = '/w2-data/willytsai/'\n",
    "# ERA5_dir = '/w2-data/willytsai/ERA5/'\n",
    "# Gridsat_dir = '/w2-data/willytsai/gridsat_BT/remap_0.25deg/'\n",
    "# fig_dir = '/w2-data/willytsai/ISCCP/fig/'\n",
    "\n",
    "ISCCP_dir = '/data/willytsai/ISCCP/hgg/'\n",
    "TRMM_dir = '/data2/willytsai/TRMM_3hr/TRMM/'\n",
    "MERRA2_dir = '/data2/willytsai/MERRA2/'\n",
    "MERRA2_3d_dir = '/data/willytsai/'\n",
    "ERA5_dir = '/data/willytsai/ERA5/'\n",
    "Gridsat_dir = '/data/willytsai/gridsat_BT/remap_0.25deg/'\n",
    "fig_dir = '/data/willytsai/ISCCP/fig/'"
   ]
  },
  {
   "cell_type": "code",
   "execution_count": 11,
   "metadata": {},
   "outputs": [],
   "source": [
    "# load data\n",
    "os.chdir('/data/willytsai/ISCCP/')\n",
    "\n",
    "# variable namelist\n",
    "var_name = np.loadtxt('var_name_2014_2018_5deg_4ds.dat',dtype='U16')\n",
    "# event time\n",
    "var_time = np.loadtxt('time_event_2014_2018_5deg_4ds.dat',dtype='U13')\n",
    "time_event = []\n",
    "for t in var_time:\n",
    "    tmp = datetime.strptime(t,'%Y-%m-%d-%H')\n",
    "    time_event.append(tmp)\n",
    "\n",
    "var_dataset = (np.loadtxt('var_event_2014_2018_5deg_4ds.dat'))"
   ]
  },
  {
   "cell_type": "code",
   "execution_count": 12,
   "metadata": {},
   "outputs": [],
   "source": [
    "os.chdir('/data/willytsai/TQUV_3hr/')\n",
    "files = glob('*.nc')\n",
    "lev = xr.open_dataset(files[0]).T.lev # MERRA2 standard level \n",
    "del files\n",
    "os.chdir('/data/willytsai/Cloudfrac_3hr/')\n",
    "lev_m = np.loadtxt('model_lev.txt')[:,1]# MERRA2 model level, 58 levs [72-15]"
   ]
  },
  {
   "cell_type": "code",
   "execution_count": 13,
   "metadata": {},
   "outputs": [],
   "source": [
    "def event_region(lat_event,lon_event,lon_w,lon_e,lat_s,lat_n):\n",
    "    'select specfic region'\n",
    "    idx = np.where(np.logical_and(lon_event >= lon_w, lon_event <= lon_e))[0]\n",
    "    idy = np.where(np.logical_and(lat_event >= lat_s, lat_event <= lat_n))[0]\n",
    "    idc = np.intersect1d(idx,idy)\n",
    "    return idc"
   ]
  },
  {
   "cell_type": "code",
   "execution_count": 14,
   "metadata": {},
   "outputs": [],
   "source": [
    "lat_event = var_dataset[:,0]\n",
    "lon_event = var_dataset[:,1]"
   ]
  },
  {
   "cell_type": "code",
   "execution_count": 15,
   "metadata": {},
   "outputs": [],
   "source": [
    "time_event = np.asarray(time_event)\n",
    "lat_event = lat_event\n",
    "lon_event = lon_event"
   ]
  },
  {
   "cell_type": "code",
   "execution_count": 16,
   "metadata": {},
   "outputs": [],
   "source": [
    "os.chdir('/data/willytsai/ISCCP/')\n",
    "\n",
    "prec_all = np.load('prec_all_5deg_4ds.mat.npy')\n",
    "precM2_all = np.load('precM2_all_5deg_4ds.mat.npy')\n",
    "cldfrac_all = np.load('cldfrac_all_5deg_4ds.mat.npy')\n",
    "SCAIbt_all = np.load('SCAIbt_all_5deg_4ds.mat.npy')\n",
    "\n",
    "crh_all = np.load('crh_all_5deg_4ds.mat.npy')\n",
    "#cwv_all = np.load('cwv_all_5deg_4ds.mat.npy')\n",
    "cwvten_ten_all = np.load('cwvten_ten_all_5deg_4ds.mat.npy')\n",
    "cwvten_dyn_all = np.load('cwvten_dyn_all_5deg_4ds.mat.npy')\n",
    "cwvten_phy_all = np.load('cwvten_phy_all_5deg_4ds.mat.npy')\n",
    "cwvten_ana_all = np.load('cwvten_ana_all_5deg_4ds.mat.npy')\n",
    "LHF_all = np.load('LHF_all_5deg_4ds.mat.npy')\n",
    "SHF_all = np.load('SHF_all_5deg_4ds.mat.npy')"
   ]
  },
  {
   "cell_type": "code",
   "execution_count": 17,
   "metadata": {},
   "outputs": [],
   "source": [
    "lat_cen = np.arange(-7.5,10,2.5)\n",
    "lon_cen = np.arange(-177.5,180,2.5)\n",
    "idx_record = [] # idx list for final events\n",
    "\n",
    "for lat in lat_cen:\n",
    "    for lon in lon_cen:\n",
    "        idx = np.where(lat_event==lat)[0]\n",
    "        idy = np.where(lon_event==lon)[0]\n",
    "        idx_org = np.intersect1d(idx,idy)\n",
    "        \n",
    "        time_frame = time_event[idx_org]\n",
    "        for i,idx in enumerate(idx_org):\n",
    "            if i == 0:\n",
    "                if (time_frame[i+1]-time_frame[i]).days >= 4:\n",
    "                    idx_record.append(idx)\n",
    "            elif i == len(idx_org)-1:\n",
    "                if (time_frame[i]-time_frame[i-1]).days >= 4:\n",
    "                    idx_record.append(idx)\n",
    "            else:\n",
    "                if (time_frame[i+1]-time_frame[i]).days >= 4 and \\\n",
    "                   (time_frame[i]-time_frame[i-1]).days >= 4:\n",
    "                    idx_record.append(idx)            "
   ]
  },
  {
   "cell_type": "code",
   "execution_count": 18,
   "metadata": {},
   "outputs": [],
   "source": [
    "idx_rm = np.arange(len(time_event))\n",
    "idx_cld0 = np.where(cldfrac_all[:,16]==0)[0] # cldfrac = 0\n",
    "idx_scai = np.where(np.isnan(SCAIbt_all[:,16])==1)[0] # SCAI = NaN\n",
    "\n",
    "idx_rm = np.setdiff1d(idx_rm, idx_cld0) # remove index with all weird cases\n",
    "idx_rm = np.setdiff1d(idx_rm, idx_scai) # remove index with all weird cases"
   ]
  },
  {
   "cell_type": "code",
   "execution_count": 19,
   "metadata": {},
   "outputs": [],
   "source": [
    "time_event = time_event[idx_rm]\n",
    "lat_event = lat_event[idx_rm]\n",
    "lon_event = lon_event[idx_rm]\n",
    "\n",
    "crh_all = crh_all[idx_rm,:]\n",
    "prec_all = prec_all[idx_rm,:]\n",
    "precM2_all = precM2_all[idx_rm,:]\n",
    "cldfrac_all = cldfrac_all[idx_rm,:]\n",
    "SCAIbt_all = SCAIbt_all[idx_rm,:]\n",
    "\n",
    "cwvten_ten_all = cwvten_ten_all[idx_rm,:]\n",
    "cwvten_dyn_all = cwvten_dyn_all[idx_rm,:]\n",
    "cwvten_phy_all = cwvten_phy_all[idx_rm,:]\n",
    "cwvten_ana_all = cwvten_ana_all[idx_rm,:]\n",
    "SHF_all = SHF_all[idx_rm,:]\n",
    "LHF_all = LHF_all[idx_rm,:]"
   ]
  },
  {
   "cell_type": "code",
   "execution_count": 25,
   "metadata": {},
   "outputs": [],
   "source": [
    "# linear interpolation for MERRA2 flux fields: precM2, SHF, and LHF \n",
    "\n",
    "precM2_allre = np.zeros((len(time_event),33))\n",
    "cwvten_ten_allre = np.copy(precM2_allre)\n",
    "cwvten_dyn_allre = np.copy(precM2_allre)\n",
    "cwvten_phy_allre = np.copy(precM2_allre)\n",
    "cwvten_ana_allre = np.copy(precM2_allre)\n",
    "\n",
    "for n in range(len(time_event)):\n",
    "    x = np.linspace(-48,48,32); x2 = np.linspace(-48,48,96)\n",
    "    xnew = np.linspace(-48,48,33) # interpolating into 3hrly and centered at precip max\n",
    "    f1 = interpolate.interp1d(x2, cwvten_ten_all[n,:], kind='linear')\n",
    "    f2 = interpolate.interp1d(x2, cwvten_dyn_all[n,:], kind='linear')\n",
    "    f3 = interpolate.interp1d(x2, cwvten_phy_all[n,:], kind='linear')\n",
    "    f4 = interpolate.interp1d(x2, cwvten_ana_all[n,:], kind='linear')\n",
    "    f5 = interpolate.interp1d(x, precM2_all[n,:], kind='linear')\n",
    "\n",
    "    cwvten_ten_allre[n,:] = f1(xnew)\n",
    "    cwvten_dyn_allre[n,:] = f2(xnew)\n",
    "    cwvten_phy_allre[n,:] = f3(xnew) \n",
    "    cwvten_ana_allre[n,:] = f4(xnew)\n",
    "    precM2_allre[n,:] = f5(xnew)\n",
    "    \n",
    "cwvten_ten_all = cwvten_ten_allre; # replace it back\n",
    "cwvten_phy_all = cwvten_phy_allre; \n",
    "cwvten_dyn_all = cwvten_dyn_allre; \n",
    "cwvten_ana_all = cwvten_ana_allre; \n",
    "precM2_all = precM2_allre; "
   ]
  },
  {
   "cell_type": "code",
   "execution_count": 26,
   "metadata": {},
   "outputs": [],
   "source": [
    "# cwvten_ten_all = remove_diurnal_1D(cwvten_ten_all)\n",
    "# cwvten_dyn_all = remove_diurnal_1D(cwvten_dyn_all)\n",
    "# cwvten_phy_all = remove_diurnal_1D(cwvten_phy_all)\n",
    "# cwvten_ana_all = remove_diurnal_1D(cwvten_ana_all)"
   ]
  },
  {
   "cell_type": "code",
   "execution_count": 27,
   "metadata": {},
   "outputs": [],
   "source": [
    "def idx_group(var1_all,v1_lbound,v1_ubound,var2_all,v2_lbound,v2_ubound):\n",
    "    \n",
    "    idx1 = np.where(np.logical_and(var1_all[:,16]>=v1_lbound,var1_all[:,16]<v1_ubound))[0]\n",
    "    idx2 = np.where(np.logical_and(var2_all[:,16]>=v2_lbound,var2_all[:,16]<v2_ubound))[0]\n",
    "    idx = np.intersect1d(idx1,idx2)\n",
    "    \n",
    "    return idx"
   ]
  },
  {
   "cell_type": "code",
   "execution_count": 28,
   "metadata": {},
   "outputs": [],
   "source": [
    "# event separation by cloud cover (convective scale) and CRH \n",
    "idx_G1 = idx_group(cldfrac_all,0,0.2,crh_all,0,1)\n",
    "idx_G2 = idx_group(cldfrac_all,0.2,0.4,crh_all,0,1)\n",
    "idx_G3 = idx_group(cldfrac_all,0.4,0.6,crh_all,0,1)\n",
    "idx_G4 = idx_group(cldfrac_all,0.6,0.8,crh_all,0,1)\n",
    "idx_G5 = idx_group(cldfrac_all,0.8,1,crh_all,0,1)"
   ]
  },
  {
   "cell_type": "code",
   "execution_count": 29,
   "metadata": {},
   "outputs": [],
   "source": [
    "net1 = 24*np.nanmean(cwvten_ten_all,axis=0) # 'mm/day'\n",
    "net1_p = np.copy(net1); net1_p[net1_p<0] = np.nan\n",
    "net1_n = np.copy(net1); net1_n[net1_n>0] = np.nan"
   ]
  },
  {
   "cell_type": "code",
   "execution_count": 30,
   "metadata": {},
   "outputs": [],
   "source": [
    "from matplotlib.lines import Line2D\n",
    "from matplotlib.patches import Patch"
   ]
  },
  {
   "cell_type": "code",
   "execution_count": 32,
   "metadata": {},
   "outputs": [
    {
     "data": {
      "text/plain": [
       "(-10, 10)"
      ]
     },
     "execution_count": 32,
     "metadata": {},
     "output_type": "execute_result"
    },
    {
     "data": {
      "image/png": "[encoded data removed]",
      "text/plain": [
       "<Figure size 1008x216 with 1 Axes>"
      ]
     },
     "metadata": {},
     "output_type": "display_data"
    }
   ],
   "source": [
    "fig = plt.figure(figsize=(14,3))\n",
    "\n",
    "line1=plt.plot(np.linspace(-48,48,33),24*cwvten_phy_all.mean(axis=0)*3600,color='darkorange')\n",
    "line2=plt.plot(np.linspace(-48,48,33),24*cwvten_dyn_all.mean(axis=0)*3600,color='darkblue')\n",
    "plt.bar(np.linspace(-48,48,33),net1_p,color='b',align='center',width=2,alpha=0.6,edgecolor='None')\n",
    "plt.bar(np.linspace(-48,48,33),net1_n,color='r',align='center',width=2,alpha=0.6,edgecolor='NOne')\n",
    "plt.plot(np.linspace(-48,48,33),24*cwvten_ana_all.mean(axis=0)*3600,color='grey')\n",
    "plt.grid(linestyle=':',color='grey',linewidth=0.05);plt.xticks(np.arange(-48,60,12))\n",
    "plt.hlines(y=0,xmin=-48,xmax=48,linewidth=1)\n",
    "\n",
    "legend_elements = [Line2D([0], [0], color='darkorange', label='E-P'),\n",
    "                   Line2D([0], [0], color='darkblue', label='Mflux'),\n",
    "                   Patch(facecolor='lightgrey', edgecolor='grey',label=r'$\\langle Q_v \\rangle_t$'),\n",
    "                   Line2D([0], [0], color='grey', label='ANA$_t$')]\n",
    "                         \n",
    "plt.legend(handles=legend_elements,loc=1,\n",
    "       ncol=4, borderaxespad=0.2, frameon=False, fontsize=9)\n",
    "\n",
    "plt.rcParams.update({'font.size':10})\n",
    "plt.ylabel('[mm/day]',fontsize=12);plt.xlabel('hour',fontsize=12)\n",
    "plt.xlim([-48,48]);plt.ylim([-10,10])\n",
    "#fig.savefig(fig_dir+'MoistBA_allevents_M2def.pdf',bbox_inches='tight')"
   ]
  },
  {
   "cell_type": "code",
   "execution_count": null,
   "metadata": {},
   "outputs": [],
   "source": [
    "net1 = np.nanmean(cwvten_ten_all[idx_G1,:],axis=0) # 'mm/day'\n",
    "net1_p = np.copy(net1); net1_p[net1_p<0] = np.nan\n",
    "net1_n = np.copy(net1); net1_n[net1_n>0] = np.nan\n",
    "\n",
    "net2 = np.nanmean(cwvten_ten_all[idx_G2,:],axis=0) # 'mm/day'\n",
    "net2_p = np.copy(net2); net2_p[net2_p<0] = np.nan\n",
    "net2_n = np.copy(net2); net2_n[net2_n>0] = np.nan\n",
    "\n",
    "net3 = np.nanmean(cwvten_ten_all[idx_G3,:],axis=0) # 'mm/day'\n",
    "net3_p = np.copy(net3); net3_p[net3_p<0] = np.nan\n",
    "net3_n = np.copy(net3); net3_n[net3_n>0] = np.nan\n",
    "\n",
    "net4 = np.nanmean(cwvten_ten_all[idx_G4,:],axis=0) # 'mm/day'\n",
    "net4_p = np.copy(net4); net4_p[net4_p<0] = np.nan\n",
    "net4_n = np.copy(net4); net4_n[net4_n>0] = np.nan\n",
    "\n",
    "net5 = np.nanmean(cwvten_ten_all[idx_G5,:],axis=0) # 'mm/day'\n",
    "net5_p = np.copy(net5); net5_p[net5_p<0] = np.nan\n",
    "net5_n = np.copy(net5); net5_n[net5_n>0] = np.nan"
   ]
  },
  {
   "cell_type": "code",
   "execution_count": null,
   "metadata": {},
   "outputs": [],
   "source": [
    "fig, ax = plt.subplots(5,1,figsize=(10,10)) \n",
    "\n",
    "ax[0].plot(np.linspace(-48,48,32),24*cwvten_phy_all[idx_G1,::3].mean(axis=0)*3600,color='darkorange')\n",
    "ax[0].plot(np.linspace(-48,48,32),24*cwvten_dyn_all[idx_G1,::3].mean(axis=0)*3600,color='g')\n",
    "ax[0].bar(np.linspace(-48,48,32),24*net1_p[::3],color='b',align='center',width=2,alpha=0.6,edgecolor='None')\n",
    "ax[0].bar(np.linspace(-48,48,32),24*net1_n[::3],color='r',align='center',width=2,alpha=0.6,edgecolor='NOne')\n",
    "ax[0].plot(np.linspace(-48,48,32),24*cwvten_ana_all[idx_G1,::3].mean(axis=0)*3600,color='grey')\n",
    "ax[0].grid(linestyle=':',color='grey',linewidth=0.05);ax[0].set_xticks(np.arange(-48,60,12))\n",
    "\n",
    "legend_elements = [Line2D([0], [0], color='darkorange', label='E-P'),\n",
    "                   Line2D([0], [0], color='g', label='Mflux'),\n",
    "                   Patch(facecolor='lightgrey', edgecolor='grey',label=r'$\\langle Q_v \\rangle_t$'),\n",
    "                   Line2D([0], [0], color='grey', label='ANA$_t$')]\n",
    "                         \n",
    "ax[0].legend(handles=legend_elements,loc=1,\n",
    "       ncol=4, borderaxespad=0.2, frameon=False, fontsize=9)\n",
    "\n",
    "plt.rcParams.update({'font.size':10})\n",
    "ax[0].set_ylabel('[mm/day]',fontsize=12)\n",
    "ax[0].set_xlim([-48,48]);ax[0].set_ylim([-10,10])\n",
    "\n",
    "ax[1].plot(np.linspace(-48,48,32),24*cwvten_phy_all[idx_G2,::3].mean(axis=0)*3600,color='darkorange')\n",
    "ax[1].plot(np.linspace(-48,48,32),24*cwvten_dyn_all[idx_G2,::3].mean(axis=0)*3600,color='g')\n",
    "ax[1].bar(np.linspace(-48,48,32),24*net2_p[::3],color='b',align='center',width=2,alpha=0.6,edgecolor='None')\n",
    "ax[1].bar(np.linspace(-48,48,32),24*net2_n[::3],color='r',align='center',width=2,alpha=0.6,edgecolor='NOne')\n",
    "ax[1].plot(np.linspace(-48,48,32),24*cwvten_ana_all[idx_G2,::3].mean(axis=0)*3600,color='grey')\n",
    "ax[1].grid(linestyle=':',color='grey',linewidth=0.05);ax[1].set_xticks(np.arange(-48,60,12))\n",
    "\n",
    "plt.rcParams.update({'font.size':10})\n",
    "ax[1].set_ylabel('[mm/day]',fontsize=12)\n",
    "ax[1].set_xlim([-48,48]);ax[1].set_ylim([-10,10])\n",
    "\n",
    "ax[2].plot(np.linspace(-48,48,32),24*cwvten_phy_all[idx_G3,::3].mean(axis=0)*3600,color='darkorange')\n",
    "ax[2].plot(np.linspace(-48,48,32),24*cwvten_dyn_all[idx_G3,::3].mean(axis=0)*3600,color='g')\n",
    "ax[2].bar(np.linspace(-48,48,32),24*net3_p[::3],color='b',align='center',width=2,alpha=0.6,edgecolor='None')\n",
    "ax[2].bar(np.linspace(-48,48,32),24*net3_n[::3],color='r',align='center',width=2,alpha=0.6,edgecolor='NOne')\n",
    "ax[2].plot(np.linspace(-48,48,32),24*cwvten_ana_all[idx_G3,::3].mean(axis=0)*3600,color='grey')\n",
    "ax[2].grid(linestyle=':',color='grey',linewidth=0.05);ax[2].set_xticks(np.arange(-48,60,12))\n",
    "plt.rcParams.update({'font.size':10})\n",
    "ax[2].set_ylabel('[mm/day]',fontsize=12)\n",
    "ax[2].set_xlim([-48,48]);ax[2].set_ylim([-20,20])\n",
    "\n",
    "ax[3].plot(np.linspace(-48,48,32),24*cwvten_phy_all[idx_G4,::3].mean(axis=0)*3600,color='darkorange')\n",
    "ax[3].plot(np.linspace(-48,48,32),24*cwvten_dyn_all[idx_G4,::3].mean(axis=0)*3600,color='g')\n",
    "ax[3].bar(np.linspace(-48,48,32),24*net4_p[::3],color='b',align='center',width=2,alpha=0.6,edgecolor='None')\n",
    "ax[3].bar(np.linspace(-48,48,32),24*net4_n[::3],color='r',align='center',width=2,alpha=0.6,edgecolor='NOne')\n",
    "ax[3].plot(np.linspace(-48,48,32),24*cwvten_ana_all[idx_G4,::3].mean(axis=0)*3600,color='grey')\n",
    "ax[3].grid(linestyle=':',color='grey',linewidth=0.05);ax[3].set_xticks(np.arange(-48,60,12))\n",
    "plt.rcParams.update({'font.size':10})\n",
    "ax[3].set_ylabel('[mm/day]',fontsize=12)\n",
    "ax[3].set_xlim([-48,48]);ax[3].set_ylim([-20,20])\n",
    "\n",
    "ax[4].plot(np.linspace(-48,48,32),24*cwvten_phy_all[idx_G5,::3].mean(axis=0)*3600,color='darkorange')\n",
    "ax[4].plot(np.linspace(-48,48,32),24*cwvten_dyn_all[idx_G5,::3].mean(axis=0)*3600,color='g')\n",
    "ax[4].bar(np.linspace(-48,48,32),24*net5_p[::3],color='b',align='center',width=2,alpha=0.6,edgecolor='None')\n",
    "ax[4].bar(np.linspace(-48,48,32),24*net5_n[::3],color='r',align='center',width=2,alpha=0.6,edgecolor='NOne')\n",
    "ax[4].plot(np.linspace(-48,48,32),24*cwvten_ana_all[idx_G5,::3].mean(axis=0)*3600,color='grey')\n",
    "ax[4].grid(linestyle=':',color='grey',linewidth=0.05);ax[4].set_xticks(np.arange(-48,60,12))\n",
    "plt.rcParams.update({'font.size':10})\n",
    "ax[4].set_ylabel('[mm/day]',fontsize=12);ax[4].set_xlabel('hour',fontsize=12)\n",
    "ax[4].set_xlim([-48,48]);ax[4].set_ylim([-30,30])\n",
    "\n",
    "ax[0].set_xticklabels(labels=[]);ax[0].hlines(y=0,xmin=-72,xmax=72,linewidth=0.8)\n",
    "ax[1].set_xticklabels(labels=[]);ax[1].hlines(y=0,xmin=-72,xmax=72,linewidth=0.8)\n",
    "ax[2].set_xticklabels(labels=[]);ax[2].hlines(y=0,xmin=-72,xmax=72,linewidth=0.8)\n",
    "ax[3].set_xticklabels(labels=[]);ax[3].hlines(y=0,xmin=-72,xmax=72,linewidth=0.8)\n",
    "ax[4].hlines(y=0,xmin=-48,xmax=48,linewidth=0.8)\n",
    "\n",
    "props = dict(facecolor='white', alpha=0.5)\n",
    "ax[0].text(-46,6.5,'a',fontsize=14,bbox=props)\n",
    "ax[1].text(-46,6.5,'b',fontsize=14,bbox=props)\n",
    "ax[2].text(-46,13,'c',fontsize=14,bbox=props)\n",
    "ax[3].text(-46,13,'d',fontsize=14,bbox=props)\n",
    "ax[4].text(-46,19.5,'e',fontsize=14,bbox=props)"
   ]
  },
  {
   "cell_type": "code",
   "execution_count": null,
   "metadata": {},
   "outputs": [],
   "source": [
    "#fig.savefig(fig_dir+'MoistBA_scales_M2def.pdf',bbox_inches='tight')"
   ]
  },
  {
   "cell_type": "code",
   "execution_count": null,
   "metadata": {},
   "outputs": [],
   "source": [
    "fig = plt.figure(figsize=(10,4))\n",
    "plt.plot(np.linspace(-48,48,32),24*cwvten_ten_all[idx_G1,:].mean(axis=0)[::3],'xk'\n",
    "         ,markersize=8,markerfacecolor='None')\n",
    "plt.plot(np.linspace(-48,48,32),24*cwvten_ten_all[idx_G2,:].mean(axis=0)[::3],'or'\n",
    "         ,markersize=8,markerfacecolor='None')\n",
    "plt.plot(np.linspace(-48,48,32),24*cwvten_ten_all[idx_G3,:].mean(axis=0)[::3],'^g'\n",
    "         ,markersize=8,markerfacecolor='None')\n",
    "plt.plot(np.linspace(-48,48,32),24*cwvten_ten_all[idx_G4,:].mean(axis=0)[::3],'db'\n",
    "         ,markersize=8,markerfacecolor='None')\n",
    "plt.plot(np.linspace(-48,48,32),24*cwvten_ten_all[idx_G5,:].mean(axis=0)[::3],'sm'\n",
    "         ,markersize=8,markerfacecolor='None')\n",
    "plt.legend(['0-0.2','0.2-0.4','0.4-0.6','0.6-0.8','0.8-1'],fontsize=10,loc=1)\n",
    "plt.xticks(np.arange(-48,60,12))\n",
    "plt.hlines(y=0,xmin=-48,xmax=48,linewidth=1);plt.xlim([-48,48])\n",
    "#plt.vlines(x=0,ymin=-5,ymax=5,linewidth=0.8,color='grey');plt.ylim([-5,5])\n",
    "plt.xlabel('[hr]',fontsize=14);plt.ylabel('[mm/d]',fontsize=14)\n",
    "\n",
    "#fig.savefig(fig_dir+'CWVtend_Mbudeget.pdf',bbox_inches='tight')"
   ]
  },
  {
   "cell_type": "code",
   "execution_count": 33,
   "metadata": {},
   "outputs": [],
   "source": [
    "## sorting SCAI with fixed range of precipitation for consistency\n",
    "prec_bins2 = np.linspace(5,80,6)\n",
    "\n",
    "SCAI_deciles_p = np.zeros((len(prec_bins2)-1,10))\n",
    "\n",
    "for i in range(len(prec_bins2)-1):\n",
    "    idx = np.where(np.logical_and(24*prec_all[:,16]>=prec_bins2[i],24*prec_all[:,16]<prec_bins2[i+1]))[0]\n",
    "    SCAI_tmp = SCAIbt_all[idx,16]\n",
    "    \n",
    "    # SCAI deciles\n",
    "    SCAI_deciles_p[i,:] = np.percentile(SCAI_tmp,np.arange(0, 100, 10))"
   ]
  },
  {
   "cell_type": "code",
   "execution_count": 34,
   "metadata": {},
   "outputs": [],
   "source": [
    "def vars_decile_evo1D(var_all,size=(5,10,33)):\n",
    "    \n",
    "    var_dec = np.zeros(size)\n",
    "    \n",
    "    for i in range(len(prec_bins2)-1):\n",
    "        idx = np.where(np.logical_and(24*prec_all[:,16]>=prec_bins2[i],24*prec_all[:,16]<prec_bins2[i+1]))[0]\n",
    "        SCAI_tmp = SCAIbt_all[idx,16]\n",
    "        # vars\n",
    "        var_tmp = var_all[idx,:]\n",
    "        \n",
    "        for n in range(10):\n",
    "            if n < 9:\n",
    "                idx_dec = np.where(np.logical_and(SCAI_tmp>= SCAI_deciles_p[i,n],SCAI_tmp < SCAI_deciles_p[i,n+1]))[0]\n",
    "            else:\n",
    "                idx_dec = np.where(SCAI_tmp>= SCAI_deciles_p[i,n])[0]\n",
    "\n",
    "            var_dec[i,n] = np.nanmean(var_tmp[idx_dec,:],axis=0)\n",
    "    \n",
    "    return var_dec"
   ]
  },
  {
   "cell_type": "code",
   "execution_count": 36,
   "metadata": {},
   "outputs": [],
   "source": [
    "cwvten_ten_dec = vars_decile_evo1D(cwvten_ten_all,size=(5,10,33))*24 # [mm/d]\n",
    "cwvten_dyn_dec = vars_decile_evo1D(cwvten_dyn_all,size=(5,10,33))*86400 # [mm/d]\n",
    "cwvten_phy_dec = vars_decile_evo1D(cwvten_phy_all,size=(5,10,33))*86400 # [mm/d]\n",
    "cwvten_ana_dec = vars_decile_evo1D(cwvten_ana_all,size=(5,10,33))*86400 # [mm/d]"
   ]
  },
  {
   "cell_type": "code",
   "execution_count": 43,
   "metadata": {},
   "outputs": [
    {
     "data": {
      "text/plain": [
       "(-48, 48)"
      ]
     },
     "execution_count": 43,
     "metadata": {},
     "output_type": "execute_result"
    },
    {
     "data": {
      "image/png": "[encoded data removed]",
      "text/plain": [
       "<Figure size 864x360 with 1 Axes>"
      ]
     },
     "metadata": {},
     "output_type": "display_data"
    }
   ],
   "source": [
    "fig = plt.figure(figsize=(12,5))\n",
    "cmp=plt.cm.get_cmap('RdBu')\n",
    "colors=cmp(np.linspace(0,1,10))\n",
    "\n",
    "for n in range(10):\n",
    "    plt.plot(np.linspace(-48,48,33),cwvten_dyn_dec[2,n,:],color=colors[n])\n",
    "    plt.plot(np.linspace(-48,48,33),cwvten_phy_dec[2,n,:],color=colors[n])\n",
    "    plt.plot(np.linspace(-48,48,33),cwvten_ana_dec[2,n,:],color=colors[n])    \n",
    "    plt.plot(np.linspace(-48,48,33),cwvten_ten_dec[2,n,:],color='grey')        \n",
    "plt.xlim([-48,48])"
   ]
  },
  {
   "cell_type": "code",
   "execution_count": null,
   "metadata": {},
   "outputs": [],
   "source": []
  },
  {
   "cell_type": "code",
   "execution_count": null,
   "metadata": {},
   "outputs": [],
   "source": []
  },
  {
   "cell_type": "code",
   "execution_count": null,
   "metadata": {},
   "outputs": [],
   "source": []
  },
  {
   "cell_type": "code",
   "execution_count": null,
   "metadata": {},
   "outputs": [],
   "source": []
  },
  {
   "cell_type": "code",
   "execution_count": null,
   "metadata": {},
   "outputs": [],
   "source": [
    "# budget test E-Prec equals to cwvten_phy_all as defined\n",
    "plt.plot(range(48),LHF_all[idx_G1,:].mean(axis=0)/2.5e6-prec_all[idx_G1,:].mean(axis=0),'k')\n",
    "plt.plot(range(48),cwvten_phy_all[idx_G1,::3].mean(axis=0),'r')"
   ]
  },
  {
   "cell_type": "code",
   "execution_count": null,
   "metadata": {},
   "outputs": [],
   "source": [
    "tqv_ten = cwv_test[1:,:,:].values-cwv_test[:-1,:,:].values"
   ]
  },
  {
   "cell_type": "code",
   "execution_count": null,
   "metadata": {},
   "outputs": [],
   "source": [
    "plt.plot(tqv_ten[::3,:,:].mean(axis=(1,2)),'k')\n",
    "plt.plot(dyn_test[::3,:,:].mean(axis=(1,2))*3600,'r')\n",
    "plt.plot(phy_test[::3,:,:].mean(axis=(1,2))*3600,'g')\n",
    "plt.plot(ana_test[::3,:,:].mean(axis=(1,2))*3600,'b')\n",
    "plt.plot(tqv_ten[::3,:,:].mean(axis=(1,2))\n",
    "         -(dyn_test[::3,:,:]+phy_test[::3,:,:]+ana_test[::3,:,:]).mean(axis=(1,2))*3600,'--')"
   ]
  },
  {
   "cell_type": "code",
   "execution_count": null,
   "metadata": {},
   "outputs": [],
   "source": [
    "# cloud types\n",
    "os.chdir('/w2-data/willytsai/ISCCP/')\n",
    "cldamt_cu_all = np.load('cldamt_cu_all_5deg.mat.npy')\n",
    "cldamt_st_all = np.load('cldamt_st_all_5deg.mat.npy')\n",
    "cldamt_dc_all = np.load('cldamt_dc_all_5deg.mat.npy')"
   ]
  },
  {
   "cell_type": "code",
   "execution_count": null,
   "metadata": {},
   "outputs": [],
   "source": [
    "cldamt_cu_all = cldamt_cu_all[idx_rm,:]\n",
    "cldamt_st_all = cldamt_st_all[idx_rm,:]\n",
    "cldamt_dc_all = cldamt_dc_all[idx_rm,:]"
   ]
  },
  {
   "cell_type": "code",
   "execution_count": null,
   "metadata": {},
   "outputs": [],
   "source": [
    "cldamt_st_g1 = np.nanmean(cldamt_st_all[idx_G1,:],axis=0)\n",
    "cldamt_st_g3 = np.nanmean(cldamt_st_all[idx_G3,:],axis=0)\n",
    "cldamt_st_g5 = np.nanmean(cldamt_st_all[idx_G5,:],axis=0)"
   ]
  },
  {
   "cell_type": "code",
   "execution_count": null,
   "metadata": {},
   "outputs": [],
   "source": [
    "plt.plot(range(49),cldamt_st_g1,'k')\n",
    "plt.plot(range(49),cldamt_st_g3,'b')\n",
    "plt.plot(range(49),cldamt_st_g5,'r')"
   ]
  },
  {
   "cell_type": "code",
   "execution_count": null,
   "metadata": {},
   "outputs": [],
   "source": []
  },
  {
   "cell_type": "code",
   "execution_count": null,
   "metadata": {},
   "outputs": [],
   "source": []
  }
 ],
 "metadata": {
  "kernelspec": {
   "display_name": "Python 3",
   "language": "python",
   "name": "python3"
  },
  "language_info": {
   "codemirror_mode": {
    "name": "ipython",
    "version": 3
   },
   "file_extension": ".py",
   "mimetype": "text/x-python",
   "name": "python",
   "nbconvert_exporter": "python",
   "pygments_lexer": "ipython3",
   "version": "3.6.9"
  }
 },
 "nbformat": 4,
 "nbformat_minor": 2
}
