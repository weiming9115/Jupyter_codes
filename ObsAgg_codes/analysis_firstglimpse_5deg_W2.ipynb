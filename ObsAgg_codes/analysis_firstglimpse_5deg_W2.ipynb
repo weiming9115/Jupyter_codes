{
 "cells": [
  {
   "cell_type": "code",
   "execution_count": null,
   "metadata": {
    "hideCode": false,
    "hidePrompt": false
   },
   "outputs": [],
   "source": [
    "import sys\n",
    "import os\n",
    "import xarray as xr\n",
    "from glob import glob\n",
    "import numpy as np\n",
    "import matplotlib.pyplot as plt\n",
    "import matplotlib.colors\n",
    "import dask.array as da\n",
    "\n",
    "from datetime import datetime, timedelta\n",
    "import cartopy.crs as ccrs\n",
    "import cartopy.feature as cfeat\n",
    "from cartopy.util import add_cyclic_point\n",
    "from cartopy.mpl.gridliner import LONGITUDE_FORMATTER, LATITUDE_FORMATTER\n",
    "\n",
    "import warnings\n",
    "import psutil\n",
    "import matplotlib.dates as mdates\n",
    "from matplotlib.dates import DateFormatter\n",
    "from matplotlib import patches\n",
    "from matplotlib import cm\n",
    "from matplotlib.colors import ListedColormap, Normalize\n",
    "\n",
    "from metpy import calc as mpcalc\n",
    "from metpy.units import units\n",
    "from scipy.stats import ttest_ind"
   ]
  },
  {
   "cell_type": "code",
   "execution_count": null,
   "metadata": {},
   "outputs": [],
   "source": [
    "os.chdir('/data2/willytsai/python_module/')\n",
    "import SCAI_calc4obj as scai "
   ]
  },
  {
   "cell_type": "code",
   "execution_count": null,
   "metadata": {},
   "outputs": [],
   "source": [
    "def subset_TRMM(file_path,time_cent,lat_cent,lon_cent,days=3,lat_inc=5,lon_inc=5):\n",
    "\n",
    "    os.chdir(file_path)\n",
    "    \n",
    "    n=0\n",
    "    # daily file\n",
    "    date_sel = [time_cent + timedelta(days=day) for day in range(-days,days+1)] # selected files\n",
    "    for i,date in enumerate(date_sel):\n",
    "        date_str = datetime.strftime(date,format='%Y%m%d')\n",
    "        files = sorted(glob('*'+date_str+'*')) # sub-daily\n",
    "        for file in files:\n",
    "            data = xr.open_dataset(file)\n",
    "            data = data.sel(nlat=slice(lat_cent-lat_inc,lat_cent+lat_inc),\n",
    "                            nlon=slice(lon_cent-lon_inc,lon_cent+lon_inc))\n",
    "            data = data.assign_coords(time=datetime.strptime(file[5:16],'%Y%m%d.%H'))\n",
    "        \n",
    "            if n == 0: \n",
    "                tmp = data; n+=1\n",
    "            else:\n",
    "                tmp = xr.concat([tmp,data],dim='time')\n",
    "    \n",
    "    # extract fetched time window \n",
    "    data_sub = tmp.sel(time=slice(time_cent-timedelta(days=days),time_cent+timedelta(days=days)))\n",
    "    \n",
    "    return data_sub"
   ]
  },
  {
   "cell_type": "code",
   "execution_count": null,
   "metadata": {},
   "outputs": [],
   "source": [
    "def subset_MERRA2(file_path,time_cent,lat_cent,lon_cent,days=3,lat_inc=5,lon_inc=5):\n",
    "\n",
    "    os.chdir(file_path)\n",
    "    \n",
    "    n=0\n",
    "    # daily file \n",
    "    date_sel = [time_cent + timedelta(days=day) for day in range(-days,days+1)] # selected files\n",
    "    for i,date in enumerate(date_sel):\n",
    "        #print(date)\n",
    "        date_str = datetime.strftime(date,format='%Y%m%d')\n",
    "        file = sorted(glob('*'+date_str+'*'))[0]\n",
    "        data = xr.open_dataset(file)\n",
    "        data = data.sel(lat=slice(lat_cent-lat_inc,lat_cent+lat_inc),\n",
    "                        lon=slice(lon_cent-lon_inc,lon_cent+lon_inc))\n",
    "        \n",
    "        if n == 0: \n",
    "            tmp = data; n+=1\n",
    "        else:\n",
    "            tmp = xr.concat([tmp,data],'time')\n",
    "    \n",
    "    # extract fetched time window \n",
    "    data_sub = tmp.sel(time=slice(time_cent-timedelta(days=days),time_cent+timedelta(days=days)))\n",
    "    \n",
    "    return data_sub"
   ]
  },
  {
   "cell_type": "code",
   "execution_count": null,
   "metadata": {},
   "outputs": [],
   "source": [
    "def subset_gridsat(file_path,time_cent,lat_cent,lon_cent,days=3,lat_inc=5,lon_inc=5):\n",
    "\n",
    "    os.chdir(file_path)\n",
    "    \n",
    "    n=0\n",
    "    # daily file\n",
    "    date_sel = [time_cent + timedelta(days=day) for day in range(-days,days+1)] # selected files\n",
    "    for i,date in enumerate(date_sel):\n",
    "        date_str = datetime.strftime(date,format='%Y.%m.%d')\n",
    "        files = sorted(glob('*'+date_str+'*')) # sub-daily\n",
    "        for file in files:\n",
    "            data = xr.open_dataset(file)\n",
    "            data = data.sel(lat=slice(lat_cent-lat_inc,lat_cent+lat_inc)\n",
    "                            ,lon=slice(lon_cent-lon_inc,lon_cent+lon_inc))\n",
    "            data = data.assign_coords(time=datetime.strptime(file[11:24],'%Y.%m.%d.%H'))\n",
    "        \n",
    "            if n == 0: \n",
    "                tmp = data; n+=1\n",
    "            else:\n",
    "                tmp = xr.concat([tmp,data],'time')\n",
    "    \n",
    "    # extract fetched time window \n",
    "    data_sub = tmp.sel(time=slice(time_cent-timedelta(days=days),time_cent+timedelta(days=days)))\n",
    "    \n",
    "    return data_sub"
   ]
  },
  {
   "cell_type": "code",
   "execution_count": null,
   "metadata": {},
   "outputs": [],
   "source": [
    "def SCAI_index(prec_sm,bt_sm):\n",
    "\n",
    "    N_psT = np.zeros(bt_sm.shape[0]) # BT_based\n",
    "    N_prec = np.zeros(prec_sm.shape[0]) # prec_based\n",
    "    SCAI_BT = np.zeros(bt_sm.shape[0]) # cldfrac over domain by BT criteria\n",
    "    SCAI_p = np.zeros(prec_sm.shape[0]) # cldfrac over domain by prec criteria\n",
    "    \n",
    "   # N and SCAI indices\n",
    "    for t in range(bt_sm.shape[0]):\n",
    "        label_obj, N = scai.labeled_obj(bt_sm[t,:,:].values,cri=240,flag=2) # less than 240 W/m^2\n",
    "        SCAI_BT[t] = scai.SCAI_calc(label_obj,N,dx=0.25*100000,L=10*100000)\n",
    "        N_psT[t] = N\n",
    "    \n",
    "    for t in range(prec_sm.shape[0]):\n",
    "        label_obj, N = scai.labeled_obj(prec_sm[t,:,:].values,cri=1,flag=1) # larger than 1mm/day\n",
    "        SCAI_p[t] = scai.SCAI_calc(label_obj,N,dx=0.25*100000,L=10*100000)    \n",
    "        N_prec[t] = N\n",
    "\n",
    "    return (SCAI_BT,SCAI_p,N_psT,N_prec)"
   ]
  },
  {
   "cell_type": "code",
   "execution_count": null,
   "metadata": {
    "hideCode": false,
    "hidePrompt": false
   },
   "outputs": [],
   "source": [
    "warnings.filterwarnings('ignore')"
   ]
  },
  {
   "cell_type": "code",
   "execution_count": null,
   "metadata": {
    "hideCode": false,
    "hidePrompt": false
   },
   "outputs": [],
   "source": [
    "ISCCP_dir = '/data/willytsai/ISCCP/hgg/'\n",
    "TRMM_dir = '/data2/willytsai/TRMM_3hr/TRMM/'\n",
    "MERRA2_dir = '/data2/willytsai/MERRA2/'\n",
    "MERRA2_3d_dir = '/data/willytsai/'\n",
    "ERA5_dir = '/data/willytsai/ERA5/'\n",
    "Gridsat_dir = '/data/willytsai/gridsat_BT/remap_0.25deg/'\n",
    "fig_dir = '/data/willytsai/ISCCP/fig/'"
   ]
  },
  {
   "cell_type": "markdown",
   "metadata": {
    "hideCode": false,
    "hidePrompt": false
   },
   "source": [
    "### Read data_event from written .dat files"
   ]
  },
  {
   "cell_type": "code",
   "execution_count": null,
   "metadata": {
    "hideCode": false,
    "hidePrompt": false
   },
   "outputs": [],
   "source": [
    "# load data\n",
    "os.chdir('/data/willytsai/ISCCP/')\n",
    "\n",
    "# variable namelist\n",
    "var_name = np.loadtxt('var_name_2014_2018_5deg_4ds.dat',dtype='U16')\n",
    "# event time\n",
    "var_time = np.loadtxt('time_event_2014_2018_5deg_4ds.dat',dtype='U13')\n",
    "time_event = []\n",
    "for t in var_time:\n",
    "    tmp = datetime.strptime(t,'%Y-%m-%d-%H')\n",
    "    time_event.append(tmp)\n",
    "\n",
    "var_dataset = (np.loadtxt('var_event_2014_2018_5deg_4ds.dat'))"
   ]
  },
  {
   "cell_type": "code",
   "execution_count": null,
   "metadata": {
    "hideCode": false,
    "hidePrompt": false
   },
   "outputs": [],
   "source": [
    "os.chdir('/data/willytsai/TQUV_3hr/')\n",
    "files = glob('*.nc')\n",
    "lev = xr.open_dataset(files[0]).T.lev # MERRA2 standard level \n",
    "del files\n",
    "os.chdir('/data/willytsai/Cloudfrac_3hr/')\n",
    "lev_m = np.loadtxt('model_lev.txt')[:,1]# MERRA2 model level, 58 levs [72-15]"
   ]
  },
  {
   "cell_type": "code",
   "execution_count": null,
   "metadata": {
    "hideCode": false,
    "hidePrompt": false
   },
   "outputs": [],
   "source": [
    "def event_region(lat_event,lon_event,lon_w,lon_e,lat_s,lat_n):\n",
    "    'select specfic region'\n",
    "    idx = np.where(np.logical_and(lon_event >= lon_w, lon_event < lon_e))[0]\n",
    "    idy = np.where(np.logical_and(lat_event >= lat_s, lat_event < lat_n))[0]\n",
    "    idc = np.intersect1d(idx,idy)\n",
    "    return idc"
   ]
  },
  {
   "cell_type": "code",
   "execution_count": null,
   "metadata": {
    "hideCode": false,
    "hidePrompt": false
   },
   "outputs": [],
   "source": [
    "lat_event = var_dataset[:,0]\n",
    "lon_event = var_dataset[:,1]"
   ]
  },
  {
   "cell_type": "code",
   "execution_count": null,
   "metadata": {},
   "outputs": [],
   "source": [
    "time_event = np.asarray(time_event)\n",
    "lat_event = lat_event\n",
    "lon_event = lon_event"
   ]
  },
  {
   "cell_type": "code",
   "execution_count": null,
   "metadata": {},
   "outputs": [],
   "source": [
    "os.chdir('/data/willytsai/ISCCP')\n",
    "T_all = np.load('T_all_5deg_4ds.mat.npy') #\n",
    "q_all = np.load('q_all_5deg_4ds.mat.npy') #\n",
    "u_all = np.load('u_all_5deg_4ds.mat.npy') #\n",
    "v_all = np.load('v_all_5deg_4ds.mat.npy') #\n",
    "N_all = np.load('N_all_5deg_4ds.mat.npy') #\n",
    "SCAIbt_all = np.load('SCAIbt_all_5deg_4ds.mat.npy') #\n",
    "bt_all = np.load('bt_all_5deg_4ds.mat.npy') #\n",
    "#llws_all = np.load('llws_all_5deg.mat.npy')\n",
    "prec_all = np.load('prec_all_5deg_4ds.mat.npy') #\n",
    "cwv_all = np.load('cwv_all_5deg_4ds.mat.npy') #\n",
    "crh_all = np.load('crh_all_5deg_4ds.mat.npy')\n",
    "\n",
    "omega_all = np.load('omega_all_5deg_4ds.mat.npy') #\n",
    "rh_all = np.load('rh_all_5deg_4ds.mat.npy')\n",
    "#cwvstd_all = np.load('cwvstd_all.mat.npy')\n",
    "#SF_all = np.load('SF_all.mat.npy')\n",
    "cldfrac_all = np.load('cldfrac_all_5deg_4ds.mat.npy') #\n",
    "#CFv_all = np.load('CFv_all.mat.npy')\n",
    "div_all  = np.load('div_all_5deg_4ds.mat.npy') #\n",
    "# cwvten_dyn_all = np.load('cwvten_dyn_all_5deg.mat.npy')\n",
    "# cwvten_phy_all = np.load('cwvten_phy_all_5deg.mat.npy')\n",
    "# cwvten_ana_all = np.load('cwvten_ana_all_5deg.mat.npy')\n",
    "#cwvten_tot_all = cwvten_dyn_all+cwvten_phy_all+cwvten_ana_all\n",
    "Abar_all = (cldfrac_all/N_all*2500*(10*10))**0.5 # square root of Area [km] #\n",
    "#cape_all = np.load('cape_all.mat.npy')\n",
    "#cin_all = np.load('cin_all.mat.npy')\n",
    "\n",
    "cldamt_call_all = np.load('cldamt_call_all_5deg_4ds.mat.npy') #\n",
    "cldamt_cu_all = np.load('cldamt_cu_all_5deg_4ds.mat.npy') #\n",
    "cldamt_st_all = np.load('cldamt_st_all_5deg_4ds.mat.npy') #\n",
    "cldamt_dc_all = np.load('cldamt_dc_all_5deg_4ds.mat.npy') #\n",
    "\n",
    "LHF_all = np.load('LHF_all_5deg_4ds.mat.npy') #\n",
    "SHF_all = np.load('SHF_all_5deg_4ds.mat.npy') #\n",
    "#qvflux_all = np.load('qvfluxm_all_5deg_4ds.mat.npy') #\n",
    "qvflux_all = np.load('qvflux_all_5deg_4ds.mat.npy') #\n",
    "\n",
    "#ctp_all = np.load('ctpir_all_5deg.mat.npy')\n",
    "precM2_all = np.load('precM2_all_5deg_4ds.mat.npy') #\n",
    "# TQL_all = np.load('TQL_all.mat_5deg.npy')\n",
    "# TQI_all = np.load('TQI_all.mat_5deg.npy')\n",
    "# TQLI_all = TQL_all + TQI_all; del TQL_all, TQI_all"
   ]
  },
  {
   "cell_type": "code",
   "execution_count": null,
   "metadata": {
    "hideCode": false,
    "hidePrompt": false
   },
   "outputs": [],
   "source": [
    "# os.chdir('/data/willytsai/ISCCP')\n",
    "# T_all = np.load('T_all_5deg_4ds.mat.npy') #\n",
    "# q_all = np.load('q_all_5deg_4ds.mat.npy') #\n",
    "# u_all = np.load('u_all_5deg_4ds.mat.npy') #\n",
    "# v_all = np.load('v_all_5deg_4ds.mat.npy') #\n",
    "# N_all = np.load('N_all_5deg.mat.npy') #\n",
    "# SCAIbt_all = np.load('SCAIbt_all_5deg.mat.npy') #\n",
    "# bt_all = np.load('bt_all_5deg.mat.npy') #\n",
    "# #llws_all = np.load('llws_all_5deg.mat.npy')\n",
    "# prec_all = np.load('prec_all_5deg.mat.npy') #\n",
    "# cwv_all = np.load('cwv_all_5deg.mat.npy') #\n",
    "# crh_all = np.load('crh_all_5deg.mat.npy')\n",
    "\n",
    "# omega_all = np.load('omega_all_5deg.mat.npy') #\n",
    "# rh_all = np.load('rh_all_5deg.mat.npy')\n",
    "# #cwvstd_all = np.load('cwvstd_all.mat.npy')\n",
    "# #SF_all = np.load('SF_all.mat.npy')\n",
    "# cldfrac_all = np.load('cldfrac_all_5deg.mat.npy') #\n",
    "# #CFv_all = np.load('CFv_all.mat.npy')\n",
    "# div_all  = np.load('div_all_5deg.mat.npy') #\n",
    "# # cwvten_dyn_all = np.load('cwvten_dyn_all_5deg.mat.npy')\n",
    "# # cwvten_phy_all = np.load('cwvten_phy_all_5deg.mat.npy')\n",
    "# # cwvten_ana_all = np.load('cwvten_ana_all_5deg.mat.npy')\n",
    "# #cwvten_tot_all = cwvten_dyn_all+cwvten_phy_all+cwvten_ana_all\n",
    "# Abar_all = (cldfrac_all/N_all*2500*(10*10))**0.5 # square root of Area [km] #\n",
    "# #cape_all = np.load('cape_all.mat.npy')\n",
    "# #cin_all = np.load('cin_all.mat.npy')\n",
    "\n",
    "# cldamt_call_all = np.load('cldamt_call_all_5deg_new.mat.npy') #\n",
    "# cldamt_cu_all = np.load('cldamt_cu_all_5deg_new.mat.npy') #\n",
    "# cldamt_st_all = np.load('cldamt_st_all_5deg_new.mat.npy') #\n",
    "# cldamt_dc_all = np.load('cldamt_dc_all_5deg_new.mat.npy') #\n",
    "\n",
    "# LHF_all = np.load('LHF_all_5deg.mat.npy') #\n",
    "# SHF_all = np.load('SHF_all_5deg.mat.npy') #\n",
    "# qvflux_all = np.load('qvfluxm_all_5deg.mat.npy') #\n",
    "\n",
    "# #ctp_all = np.load('ctpir_all_5deg.mat.npy')\n",
    "# precM2_all = np.load('precM2_all_5deg.mat.npy') #\n",
    "# # TQL_all = np.load('TQL_all.mat_5deg.npy')\n",
    "# # TQI_all = np.load('TQI_all.mat_5deg.npy')\n",
    "# # TQLI_all = TQL_all + TQI_all; del TQL_all, TQI_all"
   ]
  },
  {
   "cell_type": "code",
   "execution_count": null,
   "metadata": {},
   "outputs": [],
   "source": [
    "def center_case(time_event,lon_event,lat_event,cri_r=300,ratio=0.5):\n",
    "    'precipitation area is enclosed within a circle R at reference time'\n",
    "    \n",
    "    file_path = TRMM_dir+'2014_2018'\n",
    "    time_cent = time_event\n",
    "    lat_cent = lat_event\n",
    "    lon_cent = lon_event\n",
    "    \n",
    "    # read preciptation data in the given domain\n",
    "    data = subset_TRMM(file_path,time_cent,lat_cent,lon_cent,days=0,lat_inc=2.5,lon_inc=2.5)\n",
    "    prec_sm = data.precipitation.squeeze()\n",
    "    prec_sum = np.nansum(prec_sm)\n",
    "\n",
    "    # calculate the distance matrix\n",
    "    x,y = np.meshgrid(prec_sm.nlon,prec_sm.nlat)\n",
    "    dist = np.sqrt((x-lon_cent)**2+(y-lat_cent)**2)*100 # distance from center [km]\n",
    "    prec_sm.values[dist > cri_r] = 0\n",
    "    prec_frac = (np.nansum(prec_sm)/prec_sum)\n",
    "    \n",
    "    if prec_frac >= ratio:\n",
    "        result = 1\n",
    "    else:\n",
    "        result = 0\n",
    "\n",
    "    return result"
   ]
  },
  {
   "cell_type": "code",
   "execution_count": null,
   "metadata": {
    "hideCode": false,
    "hidePrompt": false
   },
   "outputs": [],
   "source": [
    "def remove_diurnal_1D(data_all):\n",
    "    'remove diurnal cycle in the time series [N,time], N cases'\n",
    "    tmp_re = np.copy(data_all)\n",
    "    NT = data_all.shape[1]\n",
    "    \n",
    "    for n in range(data_all.shape[0]):\n",
    "        tmp = np.fft.fft(data_all[n,:]) # 49\n",
    "        freqs = np.array(range(NT))   # This gets the left end correct\n",
    "        reversed_freqs = freqs[::-1]  # Reverse the array \n",
    "        reversed_freqs[0:int(NT/2)] = freqs[1:int(NT/2)+1] # Fix the low end of the reversed array\n",
    "        freqs = reversed_freqs[::-1]  # reverse it back \n",
    "        tmp[np.where(freqs==6)] = 0 # remove diurnal 6 cycles for 6 days\n",
    "        tmp[np.where(freqs==12)] = 0 # remove half-day\n",
    "        tmp[np.where(freqs==11)] = 0\n",
    "        tmp_re[n,:] = np.fft.ifft(tmp) # reconstructed time-series                   \n",
    "    \n",
    "    return tmp_re"
   ]
  },
  {
   "cell_type": "code",
   "execution_count": null,
   "metadata": {
    "hideCode": false,
    "hidePrompt": false
   },
   "outputs": [],
   "source": [
    "def remove_diurnal_2D(data_all):\n",
    "    'remove diurnal cycle in the time series [N,time,lev], N cases'\n",
    "    \n",
    "    tmp_re = np.copy(data_all)\n",
    "    NT = data_all.shape[1]\n",
    "    \n",
    "    for n in range(data_all.shape[0]):\n",
    "        for k in range(data_all.shape[2]):\n",
    "            tmp = np.fft.fft(data_all[n,:,k]) # 49\n",
    "            freqs = np.array(range(NT))   # This gets the left end correct\n",
    "            reversed_freqs = freqs[::-1]  # Reverse the array \n",
    "            reversed_freqs[0:int(NT/2)] = freqs[1:int(NT/2)+1] # Fix the low end of the reversed array\n",
    "            freqs = reversed_freqs[::-1]  # reverse it back \n",
    "            tmp[np.where(freqs==6)] = 0 # remove diurnal 6 cycles for 6 days\n",
    "            tmp[np.where(freqs==12)] = 0 # remove half-day\n",
    "            tmp[np.where(freqs==11)] = 0\n",
    "            tmp_re[n,:,k] = np.fft.ifft(tmp) # reconstructed time-series                   \n",
    "    \n",
    "    return tmp_re"
   ]
  },
  {
   "cell_type": "markdown",
   "metadata": {},
   "source": [
    "#### overlapping events identification and removal"
   ]
  },
  {
   "cell_type": "code",
   "execution_count": null,
   "metadata": {},
   "outputs": [],
   "source": [
    "lat_cen = np.arange(-7.5,10,2.5)\n",
    "lon_cen = np.arange(-177.5,180,2.5)\n",
    "idx_record = [] # idx list for final events\n",
    "\n",
    "for lat in lat_cen:\n",
    "    for lon in lon_cen:\n",
    "        idx = np.where(lat_event==lat)[0]\n",
    "        idy = np.where(lon_event==lon)[0]\n",
    "        idx_org = np.intersect1d(idx,idy)\n",
    "        \n",
    "        time_frame = time_event[idx_org]\n",
    "        for i,idx in enumerate(idx_org):\n",
    "            if i == 0:\n",
    "                if (time_frame[i+1]-time_frame[i]).days >= 4:\n",
    "                    idx_record.append(idx)\n",
    "            elif i == len(idx_org)-1:\n",
    "                if (time_frame[i]-time_frame[i-1]).days >= 4:\n",
    "                    idx_record.append(idx)\n",
    "            else:\n",
    "                if (time_frame[i+1]-time_frame[i]).days >= 4 and \\\n",
    "                   (time_frame[i]-time_frame[i-1]).days >= 4:\n",
    "                    idx_record.append(idx)            "
   ]
  },
  {
   "cell_type": "code",
   "execution_count": null,
   "metadata": {},
   "outputs": [],
   "source": [
    "## testing relationship between cloud coverage and TRMM prec"
   ]
  },
  {
   "cell_type": "code",
   "execution_count": null,
   "metadata": {},
   "outputs": [],
   "source": [
    "# cldfrac_bins = np.linspace(0,1.025,42)\n",
    "# prec_bins = np.linspace(0,80,41)\n",
    "# prec_com = np.zeros(len(cldfrac_bins)-1)\n",
    "# num_com = np.zeros((len(cldfrac_bins),len(prec_bins)))\n",
    "\n",
    "# cldfrac_1d = cldfrac_all.flatten()\n",
    "# prec_1d = prec_all.flatten()*24 #[mm/day]\n",
    "\n",
    "# for i in range(len(cldfrac_bins)-1):\n",
    "#     for j in range(len(prec_bins)-1):\n",
    "#         idx = np.where(np.logical_and(cldfrac_1d>=cldfrac_bins[i],cldfrac_1d<cldfrac_bins[i+1]))[0]\n",
    "#         idy = np.where(np.logical_and(prec_1d>=prec_bins[j],prec_1d<prec_bins[j+1]))[0]\n",
    "#         idx_com = np.intersect1d(idx,idy)\n",
    "#         num_com[i,j] = len(idx_com)\n",
    "        \n",
    "# for n in range(len(cldfrac_bins)-1):\n",
    "#     idx = np.where(np.logical_and(cldfrac_1d>=cldfrac_bins[n],cldfrac_1d<cldfrac_bins[n+1]))\n",
    "#     prec_com[n] = np.nanmean(prec_1d[idx])"
   ]
  },
  {
   "cell_type": "code",
   "execution_count": null,
   "metadata": {},
   "outputs": [],
   "source": [
    "# fig = plt.figure(figsize=(6.5,5))\n",
    "\n",
    "# plt.pcolormesh(cldfrac_bins,prec_bins,np.log10(num_com.T/np.sum(num_com)),\n",
    "#               cmap='binary')\n",
    "# cbar=plt.colorbar(shrink=0.8)\n",
    "# cbar.set_label('Log$_{10}$(Probability)',fontsize=12)\n",
    "# plt.contour(cldfrac_bins,prec_bins,np.log10(num_com.T/np.sum(num_com)),levels=[-5,-4,-3,-2,-1]\n",
    "#             ,colors=['w'],linewidths=2)\n",
    "# plt.plot(cldfrac_bins[:-1],prec_com,'k',linewidth=2)\n",
    "# plt.xlim([0,1]);plt.ylim([0,80])\n",
    "# plt.ylabel('TRMM precip. [mm d$^{-1}$]',fontsize=14)\n",
    "# plt.tick_params(labelsize=13)\n",
    "# plt.xlabel('Cloud coverage' ,fontsize=14)\n",
    "\n",
    "# fig.savefig(fig_dir+'prec_cldfrac_histogram.pdf',bbox_inches='tight')"
   ]
  },
  {
   "cell_type": "code",
   "execution_count": null,
   "metadata": {},
   "outputs": [],
   "source": [
    "idx_rm = np.array(idx_record) # new idx with removal overlapping"
   ]
  },
  {
   "cell_type": "code",
   "execution_count": null,
   "metadata": {},
   "outputs": [],
   "source": [
    "len(idx_rm)"
   ]
  },
  {
   "cell_type": "code",
   "execution_count": null,
   "metadata": {},
   "outputs": [],
   "source": [
    "time_event = time_event[idx_rm]\n",
    "lat_event = lat_event[idx_rm]\n",
    "lon_event = lon_event[idx_rm]\n",
    "\n",
    "T_all = T_all[idx_rm,:,:]\n",
    "q_all = q_all[idx_rm,:,:]\n",
    "u_all = u_all[idx_rm,:,:]\n",
    "v_all = v_all[idx_rm,:,:]\n",
    "N_all = N_all[idx_rm,:]\n",
    "SCAIbt_all = SCAIbt_all[idx_rm,:]\n",
    "bt_all = bt_all[idx_rm,:]\n",
    "#llws_all = llws_all[idx_rm,:]\n",
    "prec_all = prec_all[idx_rm,:]\n",
    "#precstd_all = precstd_all[idx_rm,:]\n",
    "cwv_all = cwv_all[idx_rm,:]\n",
    "crh_all = crh_all[idx_rm,:]\n",
    "\n",
    "omega_all = omega_all[idx_rm,:,:]\n",
    "rh_all = rh_all[idx_rm,:,:]\n",
    "#cwvstd_all = cwvstd_all[idx_rm,:]\n",
    "\n",
    "cldfrac_all = cldfrac_all[idx_rm,:]\n",
    "#CFv_all = CFv_all[idx_rm,:,:]\n",
    "div_all  = div_all[idx_rm,:,:]\n",
    "# cwvten_dyn_all = cwvten_dyn_all[idx_rm,:]\n",
    "# cwvten_phy_all = cwvten_phy_all[idx_rm,:]\n",
    "# cwvten_ana_all = cwvten_ana_all[idx_rm,:]\n",
    "#cwvten_tot_all = cwvten_dyn_all+cwvten_phy_all+cwvten_ana_all\n",
    "Abar_all = Abar_all[idx_rm,:]\n",
    "#cape_all = cape_all[idx_rm,:]\n",
    "#cin_all = cin_all[idx_rm,:]\n",
    "\n",
    "cldamt_call_all = cldamt_call_all[idx_rm,:]\n",
    "cldamt_cu_all = cldamt_cu_all[idx_rm,:]\n",
    "cldamt_st_all = cldamt_st_all[idx_rm,:]\n",
    "cldamt_dc_all = cldamt_dc_all[idx_rm,:]\n",
    "\n",
    "qvflux_all = qvflux_all[idx_rm,:,:]\n",
    "SHF_all = SHF_all[idx_rm,:]\n",
    "LHF_all = LHF_all[idx_rm,:]\n",
    "#ctp_all = ctp_all[idx_rm,:]\n",
    "precM2_all = precM2_all[idx_rm,:]\n",
    "#TQLI_all = TQLI_all[idx_rm,:]"
   ]
  },
  {
   "cell_type": "code",
   "execution_count": null,
   "metadata": {
    "hideCode": false,
    "hidePrompt": false
   },
   "outputs": [],
   "source": [
    "# remove diurnal cycle and marginal cases\n",
    "T_all = remove_diurnal_2D(T_all) \n",
    "q_all = remove_diurnal_2D(q_all)\n",
    "u_all = remove_diurnal_2D(u_all)\n",
    "v_all = remove_diurnal_2D(v_all)\n",
    "N_all = N_all\n",
    "SCAIbt_all = SCAIbt_all\n",
    "#llws_all = remove_diurnal_1D(llws_all)\n",
    "bt_all = remove_diurnal_1D(bt_all)\n",
    "prec_all = prec_all\n",
    "#precstd_all = remove_diurnal_1D(prec_all)\n",
    "cwv_all = remove_diurnal_1D(cwv_all)\n",
    "crh_all = remove_diurnal_1D(crh_all)\n",
    "\n",
    "omega_all = remove_diurnal_2D(omega_all)\n",
    "rh_all = remove_diurnal_2D(rh_all)\n",
    "#cwvstd_all = remove_diurnal_1D(cwvstd_all)\n",
    "#SF_all = remove_diurnal_1D(SF_all)\n",
    "cldfrac_all = cldfrac_all\n",
    "#CFv_all = remove_diurnal_2D(CFv_all)\n",
    "div_all  = remove_diurnal_2D(div_all); \n",
    "#cwvten_dyn_all = remove_diurnal_1D(cwvten_dyn_all)\n",
    "#cwvten_phy_all = remove_diurnal_1D(cwvten_phy_all)\n",
    "#cwvten_ana_all = remove_diurnal_1D(cwvten_ana_all)\n",
    "#cwvten_tot_all = cwvten_dyn_all+cwvten_phy_all+cwvten_ana_all;\n",
    "Abar_all = Abar_all\n",
    "#cape_all = remove_diurnal_1D(cape_all)\n",
    "#cin_all = remove_diurnal_1D(cin_all)\n",
    "\n",
    "# crh_q1_all = remove_diurnal_1D(crh_q1_all)\n",
    "# crh_q4_all = remove_diurnal_1D(crh_q4_all)\n",
    "\n",
    "# cwv_q1_all = remove_diurnal_1D(cwv_q1_all)\n",
    "# cwv_q4_all = remove_diurnal_1D(cwv_q4_all)\n",
    "\n",
    "# rh_q1_all = remove_diurnal_2D(rh_q1_all)\n",
    "# rh_q4_all = remove_diurnal_2D(rh_q4_all)\n",
    "\n",
    "cldamt_call_all = cldamt_call_all\n",
    "cldamt_cu_all = cldamt_cu_all\n",
    "cldamt_st_all = cldamt_st_all\n",
    "cldamt_dc_all = cldamt_dc_all\n",
    "\n",
    "SHF_all = remove_diurnal_1D(SHF_all)\n",
    "LHF_all = remove_diurnal_1D(LHF_all)\n",
    "SFX_all = SHF_all + LHF_all\n",
    "#TQLI_all = remove_diurnal_1D(TQLI_all)\n",
    "\n",
    "#SFXstd_all = remove_diurnal_1D(SFXstd_all)\n",
    "qvflux_all = remove_diurnal_2D(qvflux_all)\n",
    "#ctp_all = ctp_all\n",
    "precM2_all = precM2_all\n",
    "#qvflux_all = qvflux_all"
   ]
  },
  {
   "cell_type": "code",
   "execution_count": null,
   "metadata": {},
   "outputs": [],
   "source": [
    "# deal with qvflux at the first level\n",
    "for n in range(len(time_event)):\n",
    "    for t in range(33):\n",
    "        if np.isnan(qvflux_all[n,t,0]) == True:\n",
    "            qvflux_all[n,t,0] = qvflux_all[n,t,1]"
   ]
  },
  {
   "cell_type": "code",
   "execution_count": null,
   "metadata": {},
   "outputs": [],
   "source": [
    "# remove wrong values\n",
    "idx = np.where(np.logical_or(cldamt_call_all>100,cldamt_call_all<0))\n",
    "cldamt_call_all[idx] = np.nan\n",
    "idx = np.where(np.logical_or(cldamt_cu_all>100,cldamt_cu_all<0))\n",
    "cldamt_cu_all[idx] = np.nan\n",
    "idx = np.where(np.logical_or(cldamt_st_all>100,cldamt_st_all<0))\n",
    "cldamt_st_all[idx] = np.nan\n",
    "idx = np.where(np.logical_or(cldamt_dc_all>100,cldamt_dc_all<0))\n",
    "cldamt_dc_all[idx] = np.nan"
   ]
  },
  {
   "cell_type": "markdown",
   "metadata": {
    "hideCode": false,
    "hidePrompt": false
   },
   "source": [
    "#### TRMM precipitation seasonality showcases"
   ]
  },
  {
   "cell_type": "code",
   "execution_count": null,
   "metadata": {
    "hideCode": false,
    "hidePrompt": false
   },
   "outputs": [],
   "source": [
    "os.chdir(TRMM_dir+'2014_2018')"
   ]
  },
  {
   "cell_type": "code",
   "execution_count": null,
   "metadata": {
    "hideCode": false,
    "hidePrompt": false,
    "scrolled": true
   },
   "outputs": [],
   "source": [
    "%%time\n",
    "date = []; date_begin = datetime(2014,1,1)\n",
    "for t in range(14608):\n",
    "    tmp = date_begin + t*timedelta(hours=3)\n",
    "    date.append(tmp)\n",
    "                \n",
    "# # TRMM3B42 dataset 2014, 3hrly separate\n",
    "prec_3hr = np.nan*np.zeros((len(date),241,1440))"
   ]
  },
  {
   "cell_type": "code",
   "execution_count": null,
   "metadata": {
    "hideCode": false,
    "hidePrompt": false
   },
   "outputs": [],
   "source": [
    "%%time\n",
    "files = sorted(glob('3B42.*'))\n",
    "for n,file in enumerate(files):\n",
    "    try:\n",
    "        data = xr.open_dataset(file).precipitation        \n",
    "        prec_3hr[n,:,:] = data.values.swapaxes(0,1)\n",
    "    except:\n",
    "        prec_3hr[n,:,:] = np.nan       \n",
    "lon = data.nlon; lat = data.nlat\n",
    "prec_xr = xr.DataArray(prec_3hr,coords=[date,lat,lon],dims=['time','lat','lon']); del prec_3hr"
   ]
  },
  {
   "cell_type": "code",
   "execution_count": null,
   "metadata": {},
   "outputs": [],
   "source": [
    "date_frame = np.asarray(date)\n",
    "\n",
    "lat_bin = np.linspace(-7.5,7.5,7)\n",
    "lon_bin = np.linspace(-177.5,177.5,143)\n",
    "\n",
    "precsum_uncov = np.zeros((len(lon_bin),len(lat_bin)))\n",
    "precsum_uni = np.copy(precsum_uncov)\n",
    "precsum_overlap = np.copy(precsum_uncov)\n",
    "\n",
    "for i,lon_cen in enumerate(lon_bin):\n",
    "    for j,lat_cen in enumerate(lat_bin):\n",
    "        \n",
    "        prec_record = np.zeros(len(date_frame))\n",
    "        prec_mn = prec_xr.sel(lat=slice(lat_cen-2.5,lat_cen+2.5)\n",
    "                                         ,lon=slice(lon_cen-2.5,lon_cen+2.5)).mean(axis=(1,2)) # time-series\n",
    "        idx = np.where(24*prec_mn >=5)[0] # larger than 5mm/day\n",
    "        for n in idx:\n",
    "            if n >= 16 and (n + 17) < len(prec_record):\n",
    "                if prec_mn[n] == np.max(prec_mn[n-16:n+17]):\n",
    "                    prec_record[n-16:n+17] += 1 # 4-day window\n",
    "        \n",
    "        idx_unc = np.where(prec_record==0)[0] # uncovered time\n",
    "        idx_uni = np.where(prec_record==1)[0] # unitary evnets\n",
    "        idx_over = np.where(prec_record>1)[0] # overlapped time\n",
    "        precsum_uncov[i,j] = prec_mn[idx_unc].sum()/prec_mn.sum()\n",
    "        precsum_uni[i,j] = prec_mn[idx_uni].sum()/prec_mn.sum()\n",
    "        precsum_overlap[i,j] = prec_mn[idx_over].sum()/prec_mn.sum()"
   ]
  },
  {
   "cell_type": "code",
   "execution_count": null,
   "metadata": {},
   "outputs": [],
   "source": [
    "fig = plt.figure(figsize=(8,4))\n",
    "\n",
    "plt.plot(range(300),prec_mn[:300]*24)\n",
    "plt.plot(idx[:100],prec_mn[idx[:100]]*24,'o')\n",
    "plt.hlines(y=5,xmin=0,xmax=300)\n",
    "plt.xlim([0,300])"
   ]
  },
  {
   "cell_type": "code",
   "execution_count": null,
   "metadata": {},
   "outputs": [],
   "source": [
    "lat_edge = np.linspace(-8.75,8.75,8)\n",
    "lon_edge = np.linspace(-178.75,181.25,145)\n",
    "\n",
    "ratio_map = np.zeros((145,7))\n",
    "ratio_map[:143,:] = precsum_uncov\n",
    "ratio_map[143,:] = (precsum_uncov[0,:]+precsum_uncov[-1,:])/2\n",
    "ratio_map[144,:] = (precsum_uncov[0,:]+precsum_uncov[-1,:])/2    \n",
    "ratio_map = np.vstack([ratio_map.T,np.zeros((ratio_map.shape[0])).T]).T\n",
    "ratio_map[ratio_map==0] = np.nan"
   ]
  },
  {
   "cell_type": "code",
   "execution_count": null,
   "metadata": {},
   "outputs": [],
   "source": [
    "fig = plt.figure(figsize=(13,4))\n",
    "ax = plt.axes(projection=ccrs.PlateCarree(central_longitude=180))\n",
    "\n",
    "ps = plt.pcolormesh(lon_edge,lat_edge,ratio_map.T,transform=ccrs.PlateCarree(),\n",
    "                  cmap='jet',vmin=0,vmax=0.4)\n",
    "cbar = plt.colorbar(fraction=0.05,pad=0.1,orientation='horizontal')\n",
    "cbar.set_label('fraction of total rainfall',fontsize=12)\n",
    "#cs = plt.contour(prec_clim.lon,prec_clim.lat,prec_clim.mean(axis=0)*24)\n",
    "ax.coastlines()\n",
    "ax.add_feature(cfeat.LAND,zorder=1,edgecolor='k',facecolor='whitesmoke') # maskout LAND\n",
    "\n",
    "ax.set_yticks([-20,-15,-10,-5,0,5,10,15,20])\n",
    "ax.set_yticklabels(['20S','15S','10S','5S','EQ','5N','10N','15N','20N'])\n",
    "ax.set_xticks([-179.875,-120,-60,-0,60,120,179.875])\n",
    "ax.set_xticklabels(['0','60E','120E','180','120W','60W','0'])\n",
    "ax.set_ylim([-10,10]); ax.set_xlim([-129,89]);ax.grid(linestyle=':')\n",
    "plt.title('Rainfall contribution, uncovered, 2014-2018',fontsize=14)"
   ]
  },
  {
   "cell_type": "code",
   "execution_count": null,
   "metadata": {},
   "outputs": [],
   "source": [
    "fig.savefig(fig_dir+'rainfrac_uncoveredevents_4ds.pdf',bbox_inches='tight')"
   ]
  },
  {
   "cell_type": "code",
   "execution_count": null,
   "metadata": {},
   "outputs": [],
   "source": [
    "lat_edge = np.linspace(-8.75,8.75,8)\n",
    "lon_edge = np.linspace(-178.75,181.25,145)\n",
    "\n",
    "ratio_map = np.zeros((145,7))\n",
    "ratio_map[:143,:] = precsum_uni\n",
    "ratio_map[143,:] = (precsum_uni[0,:]+precsum_uni[-1,:])/2\n",
    "ratio_map[144,:] = (precsum_uni[0,:]+precsum_uni[-1,:])/2    \n",
    "ratio_map = np.vstack([ratio_map.T,np.zeros((ratio_map.shape[0])).T]).T\n",
    "ratio_map[ratio_map==0] = np.nan"
   ]
  },
  {
   "cell_type": "code",
   "execution_count": null,
   "metadata": {},
   "outputs": [],
   "source": [
    "fig = plt.figure(figsize=(13,4))\n",
    "ax = plt.axes(projection=ccrs.PlateCarree(central_longitude=180))\n",
    "\n",
    "ps = plt.pcolormesh(lon_edge,lat_edge,ratio_map.T,transform=ccrs.PlateCarree(),\n",
    "                  cmap='jet',vmin=0.65,vmax=0.9)\n",
    "cbar = plt.colorbar(fraction=0.05,pad=0.1,orientation='horizontal')\n",
    "cbar.set_label('fraction of total rainfall',fontsize=12)\n",
    "#cs = plt.contour(prec_clim.lon,prec_clim.lat,prec_clim.mean(axis=0)*24)\n",
    "ax.coastlines()\n",
    "ax.add_feature(cfeat.LAND,zorder=1,edgecolor='k',facecolor='whitesmoke') # maskout LAND\n",
    "\n",
    "ax.set_yticks([-20,-15,-10,-5,0,5,10,15,20])\n",
    "ax.set_yticklabels(['20S','15S','10S','5S','EQ','5N','10N','15N','20N'])\n",
    "ax.set_xticks([-179.875,-120,-60,-0,60,120,179.875])\n",
    "ax.set_xticklabels(['0','60E','120E','180','120W','60W','0'])\n",
    "ax.set_ylim([-10,10]); ax.set_xlim([-129,89]);ax.grid(linestyle=':')\n",
    "plt.title('Rainfall contribution, unitary events, 2014-2018',fontsize=14)"
   ]
  },
  {
   "cell_type": "code",
   "execution_count": null,
   "metadata": {},
   "outputs": [],
   "source": [
    "fig.savefig(fig_dir+'rainfrac_unitary_4ds.pdf',bbox_inches='tight')"
   ]
  },
  {
   "cell_type": "code",
   "execution_count": null,
   "metadata": {},
   "outputs": [],
   "source": [
    "lat_edge = np.linspace(-8.75,8.75,8)\n",
    "lon_edge = np.linspace(-178.75,181.25,145)\n",
    "\n",
    "ratio_map = np.zeros((145,7))\n",
    "ratio_map[:143,:] = precsum_overlap\n",
    "ratio_map[143,:] = (precsum_overlap[0,:]+precsum_overlap[-1,:])/2\n",
    "ratio_map[144,:] = (precsum_overlap[0,:]+precsum_overlap[-1,:])/2    \n",
    "ratio_map = np.vstack([ratio_map.T,np.zeros((ratio_map.shape[0])).T]).T\n",
    "ratio_map[ratio_map==0] = np.nan"
   ]
  },
  {
   "cell_type": "code",
   "execution_count": null,
   "metadata": {},
   "outputs": [],
   "source": [
    "fig = plt.figure(figsize=(13,4))\n",
    "ax = plt.axes(projection=ccrs.PlateCarree(central_longitude=180))\n",
    "\n",
    "ps = plt.pcolormesh(lon_edge,lat_edge,ratio_map.T,transform=ccrs.PlateCarree(),\n",
    "                  cmap='jet',vmin=0,vmax=0.1)\n",
    "cbar = plt.colorbar(fraction=0.05,pad=0.1,orientation='horizontal')\n",
    "cbar.set_label('fraction of total rainfall',fontsize=12)\n",
    "#cs = plt.contour(prec_clim.lon,prec_clim.lat,prec_clim.mean(axis=0)*24)\n",
    "ax.coastlines()\n",
    "ax.add_feature(cfeat.LAND,zorder=1,edgecolor='k',facecolor='whitesmoke') # maskout LAND\n",
    "\n",
    "ax.set_yticks([-20,-15,-10,-5,0,5,10,15,20])\n",
    "ax.set_yticklabels(['20S','15S','10S','5S','EQ','5N','10N','15N','20N'])\n",
    "ax.set_xticks([-179.875,-120,-60,-0,60,120,179.875])\n",
    "ax.set_xticklabels(['0','60E','120E','180','120W','60W','0'])\n",
    "ax.set_ylim([-10,10]); ax.set_xlim([-129,89]);ax.grid(linestyle=':')\n",
    "plt.title('Rainfall contribution, unitary events, 2014-2018',fontsize=14)"
   ]
  },
  {
   "cell_type": "code",
   "execution_count": null,
   "metadata": {},
   "outputs": [],
   "source": [
    "fig.savefig(fig_dir+'rainfrac_overlapped_4ds.pdf',bbox_inches='tight')"
   ]
  },
  {
   "cell_type": "code",
   "execution_count": null,
   "metadata": {
    "hideCode": false,
    "hidePrompt": false
   },
   "outputs": [],
   "source": [
    "# # explanation rate \n",
    "# lon_bin = np.arange(-177.5,180,2.5)\n",
    "# lat_bin = np.arange(-7.5,10,2.5)\n",
    "lat_bin = np.linspace(-7.5,7.5,7)\n",
    "lon_bin = np.linspace(-177.5,177.5,143)\n",
    "\n",
    "precsum_total = np.zeros((len(lon_bin),len(lat_bin)))\n",
    "for i,lon_cen in enumerate(lon_bin):\n",
    "    for j,lat_cen in enumerate(lat_bin):\n",
    "        precsum_total[i,j] = prec_xr.sel(lat=slice(lat_cen-2.5,lat_cen+2.5)\n",
    "                                         ,lon=slice(lon_cen-2.5,lon_cen+2.5)).sum()"
   ]
  },
  {
   "cell_type": "code",
   "execution_count": null,
   "metadata": {
    "hideCode": false,
    "hidePrompt": false
   },
   "outputs": [],
   "source": [
    "precsum_event = np.copy(precsum_total)*0\n",
    "for n in range(len(time_event)):\n",
    "    \n",
    "    for i,lon_cen in enumerate(lon_bin):\n",
    "        for j,lat_cen in enumerate(lat_bin):\n",
    "            if lon_cen == lon_event[n] and lat_cen == lat_event[n]:\n",
    "                precsum_event[i,j] += prec_all[n,:].sum()*400 "
   ]
  },
  {
   "cell_type": "code",
   "execution_count": null,
   "metadata": {
    "hideCode": false,
    "hidePrompt": false
   },
   "outputs": [],
   "source": [
    "# convert lon_bin, lat_bin for pcolormap\n",
    "lat_edge = np.linspace(-8.75,8.75,8)\n",
    "lon_edge = np.linspace(-178.75,181.25,145)\n",
    "\n",
    "cover_ratio = precsum_event/precsum_total # explained total rainfall\n",
    "\n",
    "ratio_map = np.zeros((145,7))\n",
    "ratio_map[:143,:] = cover_ratio\n",
    "ratio_map[143,:] = (cover_ratio[0,:]+cover_ratio[-1,:])/2\n",
    "ratio_map[144,:] = (cover_ratio[0,:]+cover_ratio[-1,:])/2    \n",
    "ratio_map = np.vstack([ratio_map.T,np.zeros((ratio_map.shape[0])).T]).T\n",
    "\n",
    "# cover_ratio = np.vstack([np.zeros((cover_ratio.shape[1])),cover_ratio])\n",
    "# cover_ratio = np.vstack([cover_ratio.T,np.zeros((cover_ratio.shape[0])).T]).T\n",
    "ratio_map[ratio_map==0] = np.nan"
   ]
  },
  {
   "cell_type": "code",
   "execution_count": null,
   "metadata": {
    "hideCode": false,
    "hidePrompt": false
   },
   "outputs": [],
   "source": [
    "fig = plt.figure(figsize=(13,4))\n",
    "ax = plt.axes(projection=ccrs.PlateCarree(central_longitude=180))\n",
    "\n",
    "clevs=np.linspace(0,20,21)\n",
    "ps = plt.pcolormesh(lon_edge,lat_edge,ratio_map.T,transform=ccrs.PlateCarree(),\n",
    "                  cmap='jet',)\n",
    "cbar = plt.colorbar(fraction=0.05,pad=0.1,orientation='horizontal')\n",
    "cbar.set_label('fraction of total rainfall',fontsize=12)\n",
    "#cs = plt.contour(prec_clim.lon,prec_clim.lat,prec_clim.mean(axis=0)*24)\n",
    "ax.coastlines()\n",
    "ax.add_feature(cfeat.LAND,zorder=1,edgecolor='k',facecolor='whitesmoke') # maskout LAND\n",
    "#gl = ax.gridlines(draw_labels=False,linestyle='--')\n",
    "#gl.xlabels_top = gl.ylabels_right = False\n",
    "#gl.xformatter = LONGITUDE_FORMATTER\n",
    "#gl.yformatter = LATITUDE_FORMATTER\n",
    "\n",
    "ax.set_yticks([-20,-15,-10,-5,0,5,10,15,20])\n",
    "ax.set_yticklabels(['20S','15S','10S','5S','EQ','5N','10N','15N','20N'])\n",
    "ax.set_xticks([-179.875,-120,-60,-0,60,120,179.875])\n",
    "ax.set_xticklabels(['0','60E','120E','180','120W','60W','0'])\n",
    "ax.set_ylim([-10,10]); ax.set_xlim([-129,89]);ax.grid(linestyle=':')\n",
    "plt.title('Rainfall contribution, all events, 2014-2018',fontsize=14)"
   ]
  },
  {
   "cell_type": "code",
   "execution_count": null,
   "metadata": {},
   "outputs": [],
   "source": [
    "fig.savefig(fig_dir+'rainfrac_allevents.pdf',bbox_inches='tight')"
   ]
  },
  {
   "cell_type": "markdown",
   "metadata": {
    "hideCode": false,
    "hidePrompt": false
   },
   "source": [
    "#### Region definition"
   ]
  },
  {
   "cell_type": "code",
   "execution_count": null,
   "metadata": {
    "hideCode": false,
    "hidePrompt": false
   },
   "outputs": [],
   "source": [
    "idx_IND = event_region(lat_event,lon_event,50,90,-10,10) # Tropical Indian Ocean\n",
    "idx_WPC = event_region(lat_event,lon_event,150,180,-10,10) # Tropical Western Pacific\n",
    "idx_EPC = event_region(lat_event,lon_event,-180,-90,-10,10) # Tropical Eastern Pacific"
   ]
  },
  {
   "cell_type": "code",
   "execution_count": null,
   "metadata": {},
   "outputs": [],
   "source": [
    "len(idx_IND)+len(idx_WPC)+len(idx_EPC)"
   ]
  },
  {
   "cell_type": "code",
   "execution_count": null,
   "metadata": {
    "hideCode": false,
    "hidePrompt": false
   },
   "outputs": [],
   "source": [
    "cldfrac_IND = cldfrac_all[idx_IND,:] # reference cloud coverage \n",
    "cldfrac_WPC = cldfrac_all[idx_WPC,:] # reference cloud coverage \n",
    "cldfrac_EPC = cldfrac_all[idx_EPC,:] # reference cloud coverage \n",
    "\n",
    "prec_IND = prec_all[idx_IND,:] \n",
    "prec_WPC = prec_all[idx_WPC,:] \n",
    "prec_EPC = prec_all[idx_EPC,:] \n",
    "\n",
    "crh_IND = crh_all[idx_IND,:] \n",
    "crh_WPC = crh_all[idx_WPC,:] \n",
    "crh_EPC = crh_all[idx_EPC,:] \n",
    "\n",
    "Abar_IND = Abar_all[idx_IND,:]\n",
    "Abar_WPC = Abar_all[idx_WPC,:]\n",
    "Abar_EPC = Abar_all[idx_EPC,:]\n",
    "\n",
    "SCAIbt_IND = SCAIbt_all[idx_IND,:]\n",
    "SCAIbt_WPC = SCAIbt_all[idx_WPC,:]\n",
    "SCAIbt_EPC = SCAIbt_all[idx_EPC,:]\n",
    "\n",
    "N_IND = N_all[idx_IND,:]\n",
    "N_WPC = N_all[idx_WPC,:]\n",
    "N_EPC = N_all[idx_EPC,:]\n",
    "\n",
    "q_IND = q_all[idx_IND,:,:]\n",
    "q_WPC = q_all[idx_WPC,:,:]\n",
    "q_EPC = q_all[idx_EPC,:,:]\n",
    "\n",
    "rh_IND = rh_all[idx_IND,:,:]\n",
    "rh_WPC = rh_all[idx_WPC,:,:]\n",
    "rh_EPC = rh_all[idx_EPC,:,:]\n",
    "\n",
    "# omega_IND = omega_all[idx_IND]\n",
    "# omega_WPC = omega_all[idx_WPC]\n",
    "# omega_EPC = omega_all[idx_EPC]\n",
    "\n",
    "# # #------------------------------------------------\n",
    "# # counts_IND,bins = np.histogram(cldfrac_IND[:,24],bins=10,range=(0,1))\n",
    "# # plt.plot(bins[1:],counts_IND/sum(counts_IND),'-sr',markerfacecolor='w')\n",
    "# # counts_WPC,bins = np.histogram(cldfrac_WPC[:,24],bins=10,range=(0,1))\n",
    "# # plt.plot(bins[1:],counts_WPC/sum(counts_WPC),'-s',color='orange',markerfacecolor='w')\n",
    "# # counts_EPC,bins = np.histogram(cldfrac_EPC[:,24],bins=10,range=(0,1))\n",
    "# # plt.plot(bins[1:],counts_EPC/sum(counts_EPC),'-sb',markerfacecolor='w')\n",
    "# # plt.ylabel('Probability',fontsize=12);plt.xlabel('Cloud coverage',fontsize=12)\n",
    "# # legend=plt.legend(['IND '+'('+str(sum(counts_IND))+')',\n",
    "# #             'WPC '+'('+str(sum(counts_WPC))+')',\n",
    "# #             'EPC '+'('+str(sum(counts_EPC))+')'])\n",
    "# # plt.setp(legend.get_texts(),color='dimgrey')\n",
    "# # plt.xlim([-0.05,1.05]);plt.grid(linestyle=':');plt.show()\n",
    "\n",
    "# # counts_IND,bins = np.histogram(Abar_IND[:,24],bins=10,range=(0,500))\n",
    "# # plt.plot(bins[1:],counts_IND/sum(counts_IND),'-sr',markerfacecolor='w')\n",
    "# # counts_WPC,bins = np.histogram(Abar_WPC[:,24],bins=10,range=(0,500))\n",
    "# # plt.plot(bins[1:],counts_WPC/sum(counts_WPC),'-s',color='orange',markerfacecolor='w')\n",
    "# # counts_EPC,bins = np.histogram(Abar_EPC[:,24],bins=10,range=(0,500))\n",
    "# # plt.plot(bins[1:],counts_EPC/sum(counts_EPC),'-sb',markerfacecolor='w')\n",
    "# # plt.ylabel('Probability',fontsize=12);plt.xlabel(r'$\\sqrt{\\bar{A}}$   [km]',fontsize=12)\n",
    "# # legend=plt.legend(['IND '+'('+str(sum(counts_IND))+')',\n",
    "# #             'WPC '+'('+str(sum(counts_WPC))+')',\n",
    "# #             'EPC '+'('+str(sum(counts_EPC))+')'])\n",
    "# # plt.setp(legend.get_texts(),color='dimgrey')\n",
    "# # plt.xlim([0,500]);plt.grid(linestyle=':');plt.show()"
   ]
  },
  {
   "cell_type": "markdown",
   "metadata": {},
   "source": [
    "#### Stats for reference time"
   ]
  },
  {
   "cell_type": "code",
   "execution_count": null,
   "metadata": {},
   "outputs": [],
   "source": [
    "# cloud cover & Abar\n",
    "#cover_cri = np.array([0,0.1,0.2,0.3,0.4,0.5,0.6,0.7,0.8,0.9,1])\n",
    "cover_cri = np.linspace(0,1,21)\n",
    "Abar_bin = np.zeros((3,len(cover_cri)-1))\n",
    "Abarstd_bin = np.copy(Abar_bin)\n",
    "\n",
    "for i in range(len(cover_cri)-1):\n",
    "    idx1 = np.where(np.logical_and(cldfrac_IND[:,16]>=cover_cri[i]\n",
    "                                 ,cldfrac_IND[:,16]<cover_cri[i+1]))[0]\n",
    "    idx2 = np.where(np.logical_and(cldfrac_WPC[:,16]>=cover_cri[i]\n",
    "                                 ,cldfrac_WPC[:,16]<cover_cri[i+1]))[0]\n",
    "    idx3 = np.where(np.logical_and(cldfrac_EPC[:,16]>=cover_cri[i]\n",
    "                                 ,cldfrac_EPC[:,16]<cover_cri[i+1]))[0]\n",
    "    Abar_tmp1 = Abar_IND[idx1,16]\n",
    "    Abar_tmp1 = Abar_tmp1[~np.isnan(Abar_tmp1)]\n",
    "    Abar_tmp2 = Abar_WPC[idx2,16]\n",
    "    Abar_tmp2 = Abar_tmp2[~np.isnan(Abar_tmp2)]    \n",
    "    Abar_tmp3 = Abar_EPC[idx3,16]\n",
    "    \n",
    "    Abar_tmp3 = Abar_tmp3[~np.isnan(Abar_tmp3)]\n",
    "    \n",
    "    Abar_bin[0,i] = np.nanmean(Abar_tmp1)\n",
    "    Abar_bin[1,i] = np.nanmean(Abar_tmp2)\n",
    "    Abar_bin[2,i] = np.nanmean(Abar_tmp3)\n",
    "    \n",
    "    Abarstd_bin[0,i] = np.nanstd(Abar_tmp1)/len(idx1)**0.5\n",
    "    Abarstd_bin[1,i] = np.nanstd(Abar_tmp2)/len(idx2)**0.5\n",
    "    Abarstd_bin[2,i] = np.nanstd(Abar_tmp3)/len(idx3)**0.5\n",
    "    \n",
    "    #Abarstd_bin[i] = np.nanstd(Abar_all[idx,24])/len(idx)**0.5"
   ]
  },
  {
   "cell_type": "code",
   "execution_count": null,
   "metadata": {},
   "outputs": [],
   "source": [
    "# cloud cover & N\n",
    "#cover_cri = np.array([0,0.1,0.2,0.3,0.4,0.5,0.6,0.7,0.8,0.9,1])\n",
    "cover_cri = np.linspace(0,1,21)\n",
    "N_bin = np.zeros((3,len(cover_cri)-1))\n",
    "Nstd_bin = np.copy(N_bin)\n",
    "\n",
    "for i in range(len(cover_cri)-1):\n",
    "    idx1 = np.where(np.logical_and(cldfrac_IND[:,16]>=cover_cri[i]\n",
    "                                 ,cldfrac_IND[:,16]<cover_cri[i+1]))[0]\n",
    "    idx2 = np.where(np.logical_and(cldfrac_WPC[:,16]>=cover_cri[i]\n",
    "                                 ,cldfrac_WPC[:,16]<cover_cri[i+1]))[0]\n",
    "    idx3 = np.where(np.logical_and(cldfrac_EPC[:,16]>=cover_cri[i]\n",
    "                                 ,cldfrac_EPC[:,16]<cover_cri[i+1]))[0]\n",
    "    N_tmp1 = N_IND[idx1,16]\n",
    "    N_tmp1 = N_tmp1[~np.isnan(N_tmp1)]\n",
    "    N_tmp2 = N_WPC[idx2,16]\n",
    "    N_tmp2 = N_tmp2[~np.isnan(N_tmp2)]    \n",
    "    N_tmp3 = N_EPC[idx3,16]\n",
    "    N_tmp3 = N_tmp3[~np.isnan(N_tmp3)]\n",
    "    \n",
    "    N_bin[0,i] = np.nanmean(N_tmp1)\n",
    "    N_bin[1,i] = np.nanmean(N_tmp2)\n",
    "    N_bin[2,i] = np.nanmean(N_tmp3)\n",
    "    \n",
    "    Nstd_bin[0,i] = np.nanstd(N_tmp1)/len(idx1)**0.5\n",
    "    Nstd_bin[1,i] = np.nanstd(N_tmp2)/len(idx2)**0.5\n",
    "    Nstd_bin[2,i] = np.nanstd(N_tmp3)/len(idx3)**0.5\n",
    "    \n",
    "    #Abarstd_bin[i] = np.nanstd(Abar_all[idx,24])/len(idx)**0.5"
   ]
  },
  {
   "cell_type": "code",
   "execution_count": null,
   "metadata": {},
   "outputs": [],
   "source": [
    "fig = plt.figure(figsize=(5,5))\n",
    "\n",
    "plt.plot(np.linspace(0.05,0.95,20),Abar_bin[0,:],linewidth=2,color='b')\n",
    "plt.fill_between(np.linspace(0.05,0.95,20),Abar_bin[0,:]+Abarstd_bin[0,:],Abar_bin[0,:],\n",
    "                color='b',alpha=0.2)\n",
    "plt.fill_between(np.linspace(0.05,0.95,20),Abar_bin[0,:]-Abarstd_bin[0,:],Abar_bin[0,:],\n",
    "                color='b',alpha=0.2)\n",
    "\n",
    "plt.plot(np.linspace(0.05,0.95,20),Abar_bin[1,:],linewidth=2,color='g')\n",
    "plt.fill_between(np.linspace(0.05,0.95,20),Abar_bin[1,:]+Abarstd_bin[1,:],Abar_bin[1,:],\n",
    "                color='g',alpha=0.2)\n",
    "plt.fill_between(np.linspace(0.05,0.95,20),Abar_bin[1,:]-Abarstd_bin[1,:],Abar_bin[1,:],\n",
    "                color='g',alpha=0.2)\n",
    "\n",
    "plt.plot(np.linspace(0.05,0.95,20),Abar_bin[2,:],linewidth=2,color='darkorange')\n",
    "plt.fill_between(np.linspace(0.05,0.95,20),Abar_bin[2,:]+Abarstd_bin[2,:],Abar_bin[2,:],\n",
    "                color='darkorange',alpha=0.2)\n",
    "plt.fill_between(np.linspace(0.05,0.95,20),Abar_bin[2,:]-Abarstd_bin[2,:],Abar_bin[2,:],\n",
    "                color='darkorange',alpha=0.2)\n",
    "plt.xlim([0,1])\n",
    "plt.ylabel(r'$\\sqrt{\\bar{A}}$   [km]',fontsize=14);plt.xlabel('Cloud coverage',fontsize=14)\n",
    "legend=plt.legend(['IND ','WPC ','EPC'],loc=2)\n",
    "plt.setp(legend.get_texts(),color='dimgrey')\n",
    "plt.grid(linestyle=':');plt.show()\n",
    "plt.rcParams.update({'font.size': 13})\n",
    "\n",
    "#fig.savefig(fig_dir+'relation_cloudcover_Abar.pdf',bbox_inches='tight')"
   ]
  },
  {
   "cell_type": "code",
   "execution_count": null,
   "metadata": {},
   "outputs": [],
   "source": [
    "fig = plt.figure(figsize=(5,5))\n",
    "\n",
    "plt.plot(np.linspace(0.05,0.95,20),N_bin[0,:],linewidth=2,color='b')\n",
    "plt.fill_between(np.linspace(0.05,0.95,20),N_bin[0,:]+Nstd_bin[0,:],N_bin[0,:],\n",
    "                color='b',alpha=0.2)\n",
    "plt.fill_between(np.linspace(0.05,0.95,20),N_bin[0,:]-Nstd_bin[0,:],N_bin[0,:],\n",
    "                color='b',alpha=0.2)\n",
    "\n",
    "plt.plot(np.linspace(0.05,0.95,20),N_bin[1,:],linewidth=2,color='g')\n",
    "plt.fill_between(np.linspace(0.05,0.95,20),N_bin[1,:]+Nstd_bin[1,:],N_bin[1,:],\n",
    "                color='g',alpha=0.2)\n",
    "plt.fill_between(np.linspace(0.05,0.95,20),N_bin[1,:]-Nstd_bin[1,:],N_bin[1,:],\n",
    "                color='g',alpha=0.2)\n",
    "\n",
    "plt.plot(np.linspace(0.05,0.95,20),N_bin[2,:],linewidth=2,color='darkorange')\n",
    "plt.fill_between(np.linspace(0.05,0.95,20),N_bin[2,:]+Nstd_bin[2,:],N_bin[2,:],\n",
    "                color='darkorange',alpha=0.2)\n",
    "plt.fill_between(np.linspace(0.05,0.95,20),N_bin[2,:]-Nstd_bin[2,:],N_bin[2,:],\n",
    "                color='darkorange',alpha=0.2)\n",
    "plt.xlim([0,1])\n",
    "plt.ylabel('Number',fontsize=14);plt.xlabel('Cloud coverage',fontsize=14)\n",
    "#plt.legend(['IND','WPC','EPC'],fontsize=12,loc=2)\n",
    "plt.rcParams.update({'font.size': 13})\n",
    "plt.grid(linestyle=':');plt.show()\n",
    "\n",
    "#fig.savefig(fig_dir+'relation_cloudcover_number.pdf',bbox_inches='tight')"
   ]
  },
  {
   "cell_type": "code",
   "execution_count": null,
   "metadata": {},
   "outputs": [],
   "source": [
    "# cloud scale distribution\n",
    "os.chdir('/data/willytsai/ISCCP')\n",
    "cldscale_dist = np.load('cldscale_dist_all_5deg.mat.npy')\n",
    "cldscale_dist = cldscale_dist[idx_rm,:]\n",
    "bins = np.linspace(0,500,21)"
   ]
  },
  {
   "cell_type": "code",
   "execution_count": null,
   "metadata": {},
   "outputs": [],
   "source": [
    "cf_bins = np.array([0,0.1,0.2,0.4,0.6,0.8,1])\n",
    "cldscale_com = np.zeros((len(cf_bins)-1,20))\n",
    "for n in range(len(cf_bins)-1):\n",
    "    idx = np.where(np.logical_and(cldfrac_all[:,24]>= cf_bins[n], cldfrac_all[:,24]<cf_bins[n+1]))[0]\n",
    "    cldscale_com[n,:] = np.sum(cldscale_dist[idx,:],axis=0)"
   ]
  },
  {
   "cell_type": "code",
   "execution_count": null,
   "metadata": {},
   "outputs": [],
   "source": [
    "# qv, rh profile binned by cloud coverage\n",
    "cover_cri = np.array([0,0.2,0.4,0.6,0.8,1])\n",
    "qv_binIND = np.zeros((len(cover_cri)-1,len(lev)))\n",
    "qvstd_binIND = np.copy(qv_binIND)\n",
    "qv_binWPC = np.zeros((len(cover_cri)-1,len(lev)))\n",
    "qvstd_binWPC = np.copy(qv_binIND)\n",
    "qv_binEPC = np.zeros((len(cover_cri)-1,len(lev)))\n",
    "qvstd_binEPC = np.copy(qv_binIND)\n",
    "\n",
    "for i in range(len(cover_cri)-1):\n",
    "    idx1 = np.where(np.logical_and(cldfrac_IND[:,24]>=cover_cri[i]\n",
    "                                 ,cldfrac_IND[:,24]<cover_cri[i+1]))[0]\n",
    "    idx2 = np.where(np.logical_and(cldfrac_WPC[:,24]>=cover_cri[i]\n",
    "                                 ,cldfrac_WPC[:,24]<cover_cri[i+1]))[0]\n",
    "    idx3 = np.where(np.logical_and(cldfrac_EPC[:,24]>=cover_cri[i]\n",
    "                                 ,cldfrac_EPC[:,24]<cover_cri[i+1]))[0]\n",
    "    q_tmp1 = q_IND[idx1,24,:]\n",
    "    q_tmp2 = q_WPC[idx2,24,:]\n",
    "    q_tmp3 = q_EPC[idx3,24,:]\n",
    "    \n",
    "    qv_binIND[i,:] = np.nanmean(q_tmp1,axis=0)\n",
    "    qv_binWPC[i,:] = np.nanmean(q_tmp2,axis=0)\n",
    "    qv_binEPC[i,:] = np.nanmean(q_tmp3,axis=0)\n",
    "\n",
    "fig,ax = plt.subplots(1,3,figsize=(12,4))\n",
    "colors = ['r','g','b','k','m']\n",
    "for n in range(5):\n",
    "    ax[0].plot(qv_binIND[n,:]*1000,lev,color=colors[n])\n",
    "    ax[1].plot(qv_binWPC[n,:]*1000,lev,color=colors[n])\n",
    "    ax[2].plot(qv_binEPC[n,:]*1000,lev,color=colors[n])\n",
    "ax[0].set_ylim([1000,100]);ax[0].set_xlim([-0.5,20])\n",
    "ax[1].set_ylim([1000,100]);ax[1].set_xlim([-0.5,20])\n",
    "ax[2].set_ylim([1000,100]);ax[2].set_xlim([-0.5,20])\n",
    "ax[0].text(1,200,'IND',fontsize=16,color='grey')\n",
    "ax[1].text(1,200,'WPC',fontsize=16,color='grey')\n",
    "ax[2].text(1,200,'EPC',fontsize=16,color='grey')\n",
    "ax[0].legend(['0-0.2','0.2-0.4','0.4-0.6','0.6-0..8'])\n",
    "ax[0].grid(linestyle=':');ax[1].grid(linestyle=':');ax[2].grid(linestyle=':')\n",
    "ax[0].set_ylabel('Pressure [hPa]',fontsize=12)\n",
    "ax[0].set_xlabel('qv [g/kg]',fontsize=12)\n",
    "ax[1].set_xlabel('qv [g/kg]',fontsize=12)\n",
    "ax[2].set_xlabel('qv [g/kg]',fontsize=12)\n",
    "\n",
    "plt.tight_layout()"
   ]
  },
  {
   "cell_type": "code",
   "execution_count": null,
   "metadata": {},
   "outputs": [],
   "source": [
    "cover_cri = np.array([0,0.2,0.4,0.6,0.8,1])\n",
    "rh_binIND = np.zeros((len(cover_cri)-1,len(lev)))\n",
    "rh_binWPC = np.zeros((len(cover_cri)-1,len(lev)))\n",
    "rh_binEPC = np.zeros((len(cover_cri)-1,len(lev)))\n",
    "\n",
    "for i in range(len(cover_cri)-1):\n",
    "    idx1 = np.where(np.logical_and(cldfrac_IND[:,24]>=cover_cri[i]\n",
    "                                 ,cldfrac_IND[:,24]<cover_cri[i+1]))[0]\n",
    "    idx2 = np.where(np.logical_and(cldfrac_WPC[:,24]>=cover_cri[i]\n",
    "                                 ,cldfrac_WPC[:,24]<cover_cri[i+1]))[0]\n",
    "    idx3 = np.where(np.logical_and(cldfrac_EPC[:,24]>=cover_cri[i]\n",
    "                                 ,cldfrac_EPC[:,24]<cover_cri[i+1]))[0]\n",
    "    rh_tmp1 = rh_IND[idx1,24,:] # to 1 hpa\n",
    "    rh_tmp2 = rh_WPC[idx2,24,:]\n",
    "    rh_tmp3 = rh_EPC[idx3,24,:]\n",
    "    \n",
    "    rh_binIND[i,:] = np.nanmean(rh_tmp1,axis=0)\n",
    "    rh_binWPC[i,:] = np.nanmean(rh_tmp2,axis=0)\n",
    "    rh_binEPC[i,:] = np.nanmean(rh_tmp3,axis=0)\n",
    "\n",
    "fig,ax = plt.subplots(1,3,figsize=(12,4))\n",
    "colors = ['r','g','b','k','m']\n",
    "for n in range(5):\n",
    "    ax[0].plot(rh_binIND[n,:]*100,lev,color=colors[n])\n",
    "    ax[1].plot(rh_binWPC[n,:]*100,lev,color=colors[n])\n",
    "    ax[2].plot(rh_binEPC[n,:]*100,lev,color=colors[n])\n",
    "ax[0].set_ylim([1000,100]);ax[0].set_xlim([30,100])\n",
    "ax[1].set_ylim([1000,100]);ax[1].set_xlim([30,100])\n",
    "ax[2].set_ylim([1000,100]);ax[2].set_xlim([30,100])\n",
    "ax[0].text(35,200,'IND',fontsize=16,color='grey')\n",
    "ax[1].text(35,200,'WPC',fontsize=16,color='grey')\n",
    "ax[2].text(35,200,'EPC',fontsize=16,color='grey')\n",
    "ax[0].legend(['0-0.2','0.2-0.4','0.4-0.6','0.6-0..8'],loc=3)\n",
    "ax[0].grid(linestyle=':');ax[1].grid(linestyle=':');ax[2].grid(linestyle=':')\n",
    "ax[0].set_ylabel('Pressure [hPa]',fontsize=12)\n",
    "ax[0].set_xlabel('RH [%]',fontsize=12)\n",
    "ax[1].set_xlabel('RH [%]',fontsize=12)\n",
    "ax[2].set_xlabel('RH [%]',fontsize=12)\n",
    "\n",
    "plt.tight_layout()"
   ]
  },
  {
   "cell_type": "code",
   "execution_count": null,
   "metadata": {
    "hideCode": false,
    "hidePrompt": false
   },
   "outputs": [],
   "source": [
    "# CRH vs cloud cover \n",
    "crh_cri = np.array([0,0.5,0.65,0.8,1])\n",
    "cover_cri = np.array([0,0.2,0.4,0.6,0.8,1])\n",
    "cover_bin = np.zeros((len(crh_cri)-1,len(cover_cri)-1))\n",
    "precm_bin = np.copy(cover_bin)\n",
    "precste_bin = np.copy(cover_bin)\n",
    "SCAIbt_bin = np.copy(cover_bin)\n",
    "SCAIbtste_bin = np.copy(cover_bin)\n",
    "\n",
    "for n in range(len(crh_cri)-1):\n",
    "    idx = np.where(np.logical_and(crh_EPC[:,24]>=crh_cri[n],crh_EPC[:,24]<crh_cri[n+1]))[0]\n",
    "    \n",
    "    cover_tmp = cldfrac_EPC[idx,:]\n",
    "    prec_tmp = prec_EPC[idx,:]\n",
    "    SCAIbt_tmp = SCAIbt_EPC[idx,:]\n",
    "    \n",
    "    for i in range(len(cover_cri)-1):\n",
    "        idx2 = np.where(np.logical_and(cover_tmp[:,24]>=cover_cri[i]\n",
    "                                      ,cover_tmp[:,24]<cover_cri[i+1]))[0]\n",
    "        cover_bin[n,i] = len(idx2)\n",
    "        precm_bin[n,i] = np.nanmean(prec_tmp[idx2,24])\n",
    "        precste_bin[n,i] = np.nanstd(prec_tmp[idx2,24])/len(idx2)**0.5\n",
    "        SCAIbt_bin[n,i] = np.nanmean(SCAIbt_tmp[idx2,24])\n",
    "        SCAIbtste_bin[n,i] = np.nanstd(SCAIbt_tmp[idx2,24])/len(idx2)**0.5"
   ]
  },
  {
   "cell_type": "code",
   "execution_count": null,
   "metadata": {
    "hideCode": false,
    "hidePrompt": false
   },
   "outputs": [],
   "source": [
    "# joint histogram CRH, cloud fraction for all \n",
    "crh_bin = np.linspace(0,1,21)\n",
    "cldfrac_bin = np.linspace(0,1,21)\n",
    "hist_bin_cf = np.zeros((len(crh_bin)-1,len(cldfrac_bin)-1))\n",
    "hist_bin_cfp = np.zeros((len(crh_bin)-1,len(cldfrac_bin)-1))\n",
    "\n",
    "for i in range(len(cldfrac_bin)-1):\n",
    "    for j in range(len(crh_bin)-1):\n",
    "        \n",
    "        idx = np.where(np.logical_and(crh_all[:,24]>=crh_bin[i],crh_all[:,24]<crh_bin[i+1]))[0]\n",
    "        idx2 = np.where(np.logical_and(cldfrac_all[:,24]>=cldfrac_bin[j]\n",
    "                                       ,cldfrac_all[:,24]<cldfrac_bin[j+1]))[0]\n",
    "        idx = np.intersect1d(idx,idx2)\n",
    "        hist_bin_cf[i,j] = len(idx)\n",
    "        hist_bin_cfp[i,j] = np.nanmean(prec_all[idx,24])"
   ]
  },
  {
   "cell_type": "code",
   "execution_count": null,
   "metadata": {},
   "outputs": [],
   "source": [
    "# joint histogram CRH, Abar for all \n",
    "Abar_bin = np.linspace(0,400,21)\n",
    "crh_bin = np.linspace(0,1,21)\n",
    "hist_bin_A = np.zeros((len(Abar_bin)-1,len(cldfrac_bin)-1))\n",
    "hist_bin_Ap = np.zeros((len(Abar_bin)-1,len(cldfrac_bin)-1))\n",
    "\n",
    "for i in range(len(Abar_bin)-1):\n",
    "    for j in range(len(crh_bin)-1):\n",
    "        \n",
    "        idx = np.where(np.logical_and(crh_all[:,24]>=crh_bin[i],crh_all[:,24]<crh_bin[i+1]))[0]\n",
    "        idx2 = np.where(np.logical_and(Abar_all[:,24]>=Abar_bin[j]\n",
    "                                       ,Abar_all[:,24]<Abar_bin[j+1]))[0]\n",
    "        idx = np.intersect1d(idx,idx2)\n",
    "        hist_bin_A[i,j] = len(idx)\n",
    "        hist_bin_Ap[i,j] = np.nanmean(prec_all[idx,24])"
   ]
  },
  {
   "cell_type": "code",
   "execution_count": null,
   "metadata": {},
   "outputs": [],
   "source": [
    "# joint histogram CWV, cloud fraction for all \n",
    "cwv_bin = np.linspace(30,70,21)\n",
    "cldfrac_bin = np.linspace(0,1,21)\n",
    "hist_bin_cf = np.zeros((len(cwv_bin)-1,len(cldfrac_bin)-1))\n",
    "hist_bin_cfp = np.zeros((len(cwv_bin)-1,len(cldfrac_bin)-1))\n",
    "\n",
    "for i in range(len(cldfrac_bin)-1):\n",
    "    for j in range(len(cwv_bin)-1):\n",
    "        \n",
    "        idx = np.where(np.logical_and(cwv_all[:,24]>=cwv_bin[i],cwv_all[:,24]<cwv_bin[i+1]))[0]\n",
    "        idx2 = np.where(np.logical_and(cldfrac_all[:,24]>=cldfrac_bin[j]\n",
    "                                       ,cldfrac_all[:,24]<cldfrac_bin[j+1]))[0]\n",
    "        idx = np.intersect1d(idx,idx2)\n",
    "        hist_bin_cf[i,j] = len(idx)\n",
    "        hist_bin_cfp[i,j] = np.nanmean(prec_all[idx,24])"
   ]
  },
  {
   "cell_type": "code",
   "execution_count": null,
   "metadata": {},
   "outputs": [],
   "source": [
    "# joint histogram CRH, Abar for all \n",
    "Abar_bin = np.linspace(0,500,21)\n",
    "cwv_bin = np.linspace(30,70,21)\n",
    "hist_bin_A = np.zeros((len(Abar_bin)-1,len(cldfrac_bin)-1))\n",
    "hist_bin_Ap = np.zeros((len(Abar_bin)-1,len(cldfrac_bin)-1))\n",
    "\n",
    "for i in range(len(Abar_bin)-1):\n",
    "    for j in range(len(cwv_bin)-1):\n",
    "        \n",
    "        idx = np.where(np.logical_and(cwv_all[:,24]>=cwv_bin[i],cwv_all[:,24]<cwv_bin[i+1]))[0]\n",
    "        idx2 = np.where(np.logical_and(Abar_all[:,24]>=Abar_bin[j]\n",
    "                                       ,Abar_all[:,24]<Abar_bin[j+1]))[0]\n",
    "        idx = np.intersect1d(idx,idx2)\n",
    "        hist_bin_A[i,j] = len(idx)\n",
    "        hist_bin_Ap[i,j] = np.nanmean(prec_all[idx,24])"
   ]
  },
  {
   "cell_type": "code",
   "execution_count": null,
   "metadata": {
    "hideCode": false,
    "hidePrompt": false
   },
   "outputs": [],
   "source": [
    "# add row and column for pcolor\n",
    "hist_bin_cf = np.vstack([np.zeros((hist_bin_cf.shape[1])),hist_bin_cf])\n",
    "hist_bin_cf = np.vstack([hist_bin_cf.T,np.zeros((hist_bin_cf.shape[0])).T]).T\n",
    "\n",
    "hist_bin_cfp = np.vstack([np.zeros((hist_bin_cfp.shape[1])),hist_bin_cfp])\n",
    "hist_bin_cfp = np.vstack([hist_bin_cfp.T,np.zeros((hist_bin_cfp.shape[0])).T]).T\n",
    "\n",
    "hist_bin_A = np.vstack([np.zeros((hist_bin_A.shape[1])),hist_bin_A])\n",
    "hist_bin_A = np.vstack([hist_bin_A.T,np.zeros((hist_bin_A.shape[0])).T]).T\n",
    "\n",
    "hist_bin_Ap = np.vstack([np.zeros((hist_bin_Ap.shape[1])),hist_bin_Ap])\n",
    "hist_bin_Ap = np.vstack([hist_bin_Ap.T,np.zeros((hist_bin_Ap.shape[0])).T]).T"
   ]
  },
  {
   "cell_type": "code",
   "execution_count": null,
   "metadata": {
    "hideCode": false,
    "hidePrompt": false
   },
   "outputs": [],
   "source": [
    "fig,ax = plt.subplots(1,2,figsize=(12,5))\n",
    "ps1 = ax[0].pcolormesh(cwv_bin,cldfrac_bin,np.log10(hist_bin_cf.T/np.sum(hist_bin_cf))[:,1:])\n",
    "cbar = plt.colorbar(ps1,ax=ax[0],shrink=0.8)\n",
    "cbar.set_label('Log$_{10}$(Probability)',fontsize=14)\n",
    "ax[0].set_xlabel('Column water vapor [mm]',fontsize=14);ax[0].set_ylabel('Cloud cover',fontsize=14)\n",
    "ax[0].set_xlim([30,70]);ax[0].set_ylim([0,1])\n",
    "ax[0].set_title('(a)',loc='left');ax[0].grid(linestyle=':')\n",
    "plt.rcParams.update({'font.size': 13})\n",
    "\n",
    "ps2 = ax[1].pcolormesh(cwv_bin,cldfrac_bin,hist_bin_cfp.T[:,1:]*24,cmap='jet',vmin=5)\n",
    "cbar = plt.colorbar(ps2,ax=ax[1],shrink=0.8)\n",
    "cbar.set_label('Precipitation [mm/d]',fontsize=14)\n",
    "ax[1].contour(cwv_bin,cldfrac_bin,hist_bin_cfp.T*24,levels=[10,20,30,50,70,90],colors=['w'],linewidths=1.5)\n",
    "ax[1].set_xlabel('Column water vapor [mm]',fontsize=14);ax[1].set_ylabel('Cloud cover',fontsize=14)\n",
    "ax[1].set_xlim([30,70]);ax[1].set_ylim([0,1]);ax[1].grid(linestyle=':')\n",
    "ax[1].set_title('(b)',loc='left')\n",
    "\n",
    "plt.tight_layout()\n",
    "fig.savefig(fig_dir+'CFAD_cloudcover_CWV.pdf',bbox_inches='tight')"
   ]
  },
  {
   "cell_type": "code",
   "execution_count": null,
   "metadata": {},
   "outputs": [],
   "source": [
    "fig,ax = plt.subplots(1,2,figsize=(12,5))\n",
    "ps1 = ax[0].pcolormesh(cwv_bin,Abar_bin,np.log10(hist_bin_A.T/np.sum(hist_bin_A))[:,1:])\n",
    "cbar = plt.colorbar(ps1,ax=ax[0],shrink=0.8)\n",
    "cbar.set_label('Log$_{10}$(Probability)',fontsize=14)\n",
    "ax[0].set_xlabel('Column water vapor [mm]',fontsize=14);ax[0].set_ylabel(r'$\\sqrt{\\bar{A}}$  [km]',fontsize=14)\n",
    "ax[0].set_xlim([30,70]);ax[0].set_ylim([0,500]);ax[0].grid(linestyle=':')\n",
    "plt.rcParams.update({'font.size': 13})\n",
    "ax[0].set_title('(c)',loc='left');ax[0].grid(linestyle=':')\n",
    "#ax[0].set_xticks([0.3,0.4,0.5,0.6,0.7,0.8,0.9,1])\n",
    "\n",
    "ps2 = ax[1].pcolormesh(cwv_bin,Abar_bin,hist_bin_Ap.T[:,1:]*24,cmap='jet',vmin=5)\n",
    "cbar = plt.colorbar(ps2,ax=ax[1],shrink=0.8)\n",
    "cbar.set_label('Precipitation [mm/d]',fontsize=14)\n",
    "ax[1].contour(cwv_bin,Abar_bin,hist_bin_Ap.T*24,levels=[10,20,30,50,70,90],colors=['w'])\n",
    "ax[1].set_xlabel('Column water vapor [mm]',fontsize=14);ax[1].set_ylabel(r'$\\sqrt{\\bar{A}}$  [km]',fontsize=14)\n",
    "ax[1].set_xlim([30,70]);ax[1].set_ylim([0,500]);ax[1].grid(linestyle=':')\n",
    "ax[1].set_title('(d)',loc='left');ax[0].grid(linestyle=':')\n",
    "#ax[1].set_xticks([0.3,0.4,0.5,0.6,0.7,0.8,0.9,1])\n",
    "\n",
    "plt.tight_layout()\n",
    "fig.savefig(fig_dir+'CFAD_Abar_CWV.pdf',bbox_inches='tight')"
   ]
  },
  {
   "cell_type": "markdown",
   "metadata": {},
   "source": [
    "### Grouping by cldfrac and Abar"
   ]
  },
  {
   "cell_type": "code",
   "execution_count": null,
   "metadata": {},
   "outputs": [],
   "source": [
    "def idx_group(var1_all,v1_lbound,v1_ubound,var2_all,v2_lbound,v2_ubound):\n",
    "    \n",
    "    idx1 = np.where(np.logical_and(var1_all[:,24]>v1_lbound,var1_all[:,24]<=v1_ubound))[0]\n",
    "    idx2 = np.where(np.logical_and(var2_all[:,24]>v2_lbound,var2_all[:,24]<=v2_ubound))[0]\n",
    "    idx = np.intersect1d(idx1,idx2)\n",
    "    \n",
    "    return idx"
   ]
  },
  {
   "cell_type": "code",
   "execution_count": null,
   "metadata": {},
   "outputs": [],
   "source": [
    "def qvint_layer(q_all,T_all,lev,lp,up):\n",
    "    \n",
    "    # partial cwv\n",
    "    idx = np.where(np.logical_and(lev<=lp,lev>up))[0]\n",
    "    q_layer = q_all[:,:,idx]\n",
    "    T_layer = T_all[:,:,idx]\n",
    "    \n",
    "    lev_layer = np.tile(lev[idx],(T_layer.shape[0],T_layer.shape[1]))\n",
    "    lev_layer = (lev_layer.reshape(T_layer.shape[0],T_layer.shape[1],len(lev[idx])))\n",
    "        \n",
    "    ro_layer = lev_layer*100/(287.15*T_layer)\n",
    "    vint_layer = -np.trapz(q_layer/ro_layer,lev_layer*100,axis=2)/9.8 # vertical integral of q    \n",
    "    \n",
    "    return vint_layer"
   ]
  },
  {
   "cell_type": "code",
   "execution_count": null,
   "metadata": {},
   "outputs": [],
   "source": [
    "# event separation by cloud cover (convective scale) and CRH \n",
    "idx_G1 = idx_group(cldfrac_all,0,0.2,cwv_all,0,100)\n",
    "idx_G2 = idx_group(cldfrac_all,0.2,0.4,cwv_all,0,100)\n",
    "idx_G3 = idx_group(cldfrac_all,0.4,0.6,cwv_all,0,100)\n",
    "idx_G4 = idx_group(cldfrac_all,0.6,0.8,cwv_all,0,100)\n",
    "idx_G5 = idx_group(cldfrac_all,0.8,1,cwv_all,0,100)"
   ]
  },
  {
   "cell_type": "code",
   "execution_count": null,
   "metadata": {},
   "outputs": [],
   "source": [
    "# percentage of different categories in each oceanic basin\n",
    "freq_IND = np.zeros(5)\n",
    "freq_WPC = np.copy(freq_IND)\n",
    "freq_EPC = np.copy(freq_IND)\n",
    "\n",
    "freq_IND[0] = len(event_region(lat_event[idx_G1],lon_event[idx_G1],50,90,-10,10))\n",
    "freq_IND[1] = len(event_region(lat_event[idx_G2],lon_event[idx_G2],50,90,-10,10))\n",
    "freq_IND[2] = len(event_region(lat_event[idx_G3],lon_event[idx_G3],50,90,-10,10))\n",
    "freq_IND[3] = len(event_region(lat_event[idx_G4],lon_event[idx_G4],50,90,-10,10))\n",
    "freq_IND[4] = len(event_region(lat_event[idx_G5],lon_event[idx_G5],50,90,-10,10))\n",
    "\n",
    "freq_WPC[0] = len(event_region(lat_event[idx_G1],lon_event[idx_G1],150,180,-10,10))\n",
    "freq_WPC[1] = len(event_region(lat_event[idx_G2],lon_event[idx_G2],150,180,-10,10))\n",
    "freq_WPC[2] = len(event_region(lat_event[idx_G3],lon_event[idx_G3],150,180,-10,10))\n",
    "freq_WPC[3] = len(event_region(lat_event[idx_G4],lon_event[idx_G4],150,180,-10,10))\n",
    "freq_WPC[4] = len(event_region(lat_event[idx_G5],lon_event[idx_G5],150,180,-10,10))\n",
    "\n",
    "freq_EPC[0] = len(event_region(lat_event[idx_G1],lon_event[idx_G1],-180,-90,-10,10))\n",
    "freq_EPC[1] = len(event_region(lat_event[idx_G2],lon_event[idx_G2],-180,-90,-10,10))\n",
    "freq_EPC[2] = len(event_region(lat_event[idx_G3],lon_event[idx_G3],-180,-90,-10,10))\n",
    "freq_EPC[3] = len(event_region(lat_event[idx_G4],lon_event[idx_G4],-180,-90,-10,10))\n",
    "freq_EPC[4] = len(event_region(lat_event[idx_G5],lon_event[idx_G5],-180,-90,-10,10))\n",
    "\n",
    "print(np.sum(freq_IND),freq_IND[:]/np.sum(freq_IND)*100)\n",
    "print(np.sum(freq_WPC),freq_WPC[:]/np.sum(freq_WPC)*100)\n",
    "print(np.sum(freq_EPC),freq_EPC[:]/np.sum(freq_EPC)*100)"
   ]
  },
  {
   "cell_type": "code",
   "execution_count": null,
   "metadata": {},
   "outputs": [],
   "source": [
    "qvint_G1_BL,qvint_G1_LF,qvint_G1_MF = (qvint_layer(q_all[idx_G1,:,:],T_all[idx_G1,:,:],lev,1000,900),\n",
    "                                       qvint_layer(q_all[idx_G1,:,:],T_all[idx_G1,:,:],lev,900,700),\n",
    "                                       qvint_layer(q_all[idx_G1,:,:],T_all[idx_G1,:,:],lev,700,500))\n",
    "\n",
    "qvint_G2_BL,qvint_G2_LF,qvint_G2_MF = (qvint_layer(q_all[idx_G2,:,:],T_all[idx_G2,:,:],lev,1000,900),\n",
    "                                       qvint_layer(q_all[idx_G2,:,:],T_all[idx_G2,:,:],lev,900,700),\n",
    "                                       qvint_layer(q_all[idx_G2,:,:],T_all[idx_G2,:,:],lev,700,500))\n",
    "\n",
    "qvint_G3_BL,qvint_G3_LF,qvint_G3_MF = (qvint_layer(q_all[idx_G3,:,:],T_all[idx_G3,:,:],lev,1000,900),\n",
    "                                       qvint_layer(q_all[idx_G3,:,:],T_all[idx_G3,:,:],lev,900,700),\n",
    "                                       qvint_layer(q_all[idx_G3,:,:],T_all[idx_G3,:,:],lev,700,500))\n",
    "\n",
    "qvint_G4_BL,qvint_G4_LF,qvint_G4_MF = (qvint_layer(q_all[idx_G4,:,:],T_all[idx_G4,:,:],lev,1000,900),\n",
    "                                       qvint_layer(q_all[idx_G4,:,:],T_all[idx_G4,:,:],lev,900,700),\n",
    "                                       qvint_layer(q_all[idx_G4,:,:],T_all[idx_G4,:,:],lev,700,500))\n",
    "\n",
    "qvint_G5_BL,qvint_G5_LF,qvint_G5_MF = (qvint_layer(q_all[idx_G5,:,:],T_all[idx_G5,:,:],lev,1000,900),\n",
    "                                       qvint_layer(q_all[idx_G5,:,:],T_all[idx_G5,:,:],lev,900,700),\n",
    "                                       qvint_layer(q_all[idx_G5,:,:],T_all[idx_G5,:,:],lev,700,500))"
   ]
  },
  {
   "cell_type": "code",
   "execution_count": null,
   "metadata": {},
   "outputs": [],
   "source": [
    "fig = plt.figure(figsize=(6,5))\n",
    "plt.plot(np.arange(-72,75,3),np.nanmean(cwv_all[idx_G1,:],axis=0),'xk',markersize=8,\n",
    "        markerfacecolor='None')\n",
    "plt.plot(np.arange(-72,75,3),np.nanmean(cwv_all[idx_G2,:],axis=0),'or',markersize=8,\n",
    "        markerfacecolor='None')\n",
    "plt.plot(np.arange(-72,75,3),np.nanmean(cwv_all[idx_G3,:],axis=0),'^g',markersize=8,\n",
    "        markerfacecolor='None')\n",
    "plt.plot(np.arange(-72,75,3),np.nanmean(cwv_all[idx_G4,:],axis=0),'db',markersize=8,\n",
    "        markerfacecolor='None')\n",
    "plt.plot(np.arange(-72,75,3),np.nanmean(cwv_all[idx_G5,:],axis=0),'sm',markersize=8,\n",
    "        markerfacecolor='None')\n",
    "\n",
    "plt.vlines(x=0,ymin=40,ymax=65,linestyle='-',linewidth=0.5);plt.ylim([40,65])\n",
    "plt.legend(['0-0.1','0.1-0.2','0.2-0.4','0.4-0.6','0.6-0.8'])\n",
    "plt.xlabel('hour',fontsize=14);plt.ylabel('CWV [mm]',fontsize=14)"
   ]
  },
  {
   "cell_type": "code",
   "execution_count": null,
   "metadata": {},
   "outputs": [],
   "source": [
    "fig,ax = plt.subplots(2,2,figsize=(10,8))\n",
    "\n",
    "ax[0,0].plot(np.arange(-72,75,3),np.nanmean(cwv_all[idx_G1,:],axis=0),'xk',markersize=6,\n",
    "        markerfacecolor='None')\n",
    "ax[0,0].plot(np.arange(-72,75,3),np.nanmean(cwv_all[idx_G2,:],axis=0),'or',markersize=6,\n",
    "        markerfacecolor='None')\n",
    "ax[0,0].plot(np.arange(-72,75,3),np.nanmean(cwv_all[idx_G3,:],axis=0),'^g',markersize=6,\n",
    "        markerfacecolor='None')\n",
    "ax[0,0].plot(np.arange(-72,75,3),np.nanmean(cwv_all[idx_G4,:],axis=0),'db',markersize=6,\n",
    "        markerfacecolor='None')\n",
    "ax[0,0].plot(np.arange(-72,75,3),np.nanmean(cwv_all[idx_G5,:],axis=0),'sm',markersize=6,\n",
    "        markerfacecolor='None')\n",
    "ax[0,0].vlines(x=0,ymin=0,ymax=70,linestyles='-',linewidth=0.5);ax[0,0].set_ylim([40,65])\n",
    "ax[0,0].legend(['0-0.2','0.2-0.4','0.4-0.6','0.6-0.8','0.8-1'],fontsize=8,loc=2)\n",
    "\n",
    "ax[0,1].plot(np.arange(-72,75,3),np.nanmean(qvint_G1_BL,axis=0),'xk',markersize=6,\n",
    "        markerfacecolor='None')\n",
    "ax[0,1].plot(np.arange(-72,75,3),np.nanmean(qvint_G2_BL,axis=0),'or',markersize=6,\n",
    "        markerfacecolor='None')\n",
    "ax[0,1].plot(np.arange(-72,75,3),np.nanmean(qvint_G3_BL,axis=0),'^g',markersize=6,\n",
    "        markerfacecolor='None')\n",
    "ax[0,1].plot(np.arange(-72,75,3),np.nanmean(qvint_G4_BL,axis=0),'db',markersize=6,\n",
    "        markerfacecolor='None')\n",
    "ax[0,1].plot(np.arange(-72,75,3),np.nanmean(qvint_G5_BL,axis=0),'sm',markersize=6,\n",
    "        markerfacecolor='None')\n",
    "ax[0,1].vlines(x=0,ymin=0,ymax=50,linestyles='-',linewidth=0.5);ax[0,1].set_ylim([10.2,11.8])\n",
    "\n",
    "ax[1,0].plot(np.arange(-72,75,3),np.nanmean(qvint_G1_LF,axis=0),'xk',markersize=6,\n",
    "        markerfacecolor='None')\n",
    "ax[1,0].plot(np.arange(-72,75,3),np.nanmean(qvint_G2_LF,axis=0),'or',markersize=6,\n",
    "        markerfacecolor='None')\n",
    "ax[1,0].plot(np.arange(-72,75,3),np.nanmean(qvint_G3_LF,axis=0),'^g',markersize=6,\n",
    "        markerfacecolor='None')\n",
    "ax[1,0].plot(np.arange(-72,75,3),np.nanmean(qvint_G4_LF,axis=0),'db',markersize=6,\n",
    "        markerfacecolor='None')\n",
    "ax[1,0].plot(np.arange(-72,75,3),np.nanmean(qvint_G5_LF,axis=0),'sm',markersize=6,\n",
    "        markerfacecolor='None')\n",
    "ax[1,0].vlines(x=0,ymin=0,ymax=50,linestyles='-',linewidth=0.5);ax[1,0].set_ylim([15,21.5])\n",
    "\n",
    "ax[1,1].plot(np.arange(-72,75,3),np.nanmean(qvint_G1_MF,axis=0),'xk',markersize=6,\n",
    "        markerfacecolor='None')\n",
    "ax[1,1].plot(np.arange(-72,75,3),np.nanmean(qvint_G2_MF,axis=0),'or',markersize=6,\n",
    "        markerfacecolor='None')\n",
    "ax[1,1].plot(np.arange(-72,75,3),np.nanmean(qvint_G3_MF,axis=0),'^g',markersize=6,\n",
    "        markerfacecolor='None')\n",
    "ax[1,1].plot(np.arange(-72,75,3),np.nanmean(qvint_G4_MF,axis=0),'db',markersize=6,\n",
    "        markerfacecolor='None')\n",
    "ax[1,1].plot(np.arange(-72,75,3),np.nanmean(qvint_G5_MF,axis=0),'sm',markersize=6,\n",
    "        markerfacecolor='None')\n",
    "ax[1,1].vlines(x=0,ymin=0,ymax=50,linestyles='-',linewidth=0.5);ax[1,1].set_ylim([6,16])\n",
    "\n",
    "ax[0,0].set_title('<Q$_v$>, all');ax[0,0].set_ylabel('[g/kg]',fontsize=14)\n",
    "ax[0,0].set_xlabel('hour',fontsize=13);ax[0,0].grid(linestyle=':');ax[0,0].set_xlim([-73,73])\n",
    "ax[0,1].set_title('<Q$_v$>$_{BL}$, 1000-900 hPa');ax[0,1].set_ylabel('[g/kg]',fontsize=13)\n",
    "ax[0,1].set_xlabel('hour',fontsize=13);ax[0,1].grid(linestyle=':');ax[0,1].set_xlim([-73,73])\n",
    "ax[1,0].set_title('<Q$_v$>$_{LF}$, 900-700 hPa');ax[1,0].set_ylabel('[g/kg]',fontsize=13)\n",
    "ax[1,0].set_xlabel('hour',fontsize=13);ax[1,0].grid(linestyle=':');ax[1,0].set_xlim([-73,73])\n",
    "ax[1,1].set_title('<Q$_v$>$_{MF}$, 700-500 hPa');ax[1,1].set_ylabel('[g/kg]',fontsize=13)\n",
    "ax[1,1].set_xlabel('hour',fontsize=13);ax[1,1].grid(linestyle=':');ax[1,1].set_xlim([-73,73])\n",
    "\n",
    "ax[0,0].set_xticks([-72,-60,-48,-36,-24,-12,0,12,24,36,48,60,72])\n",
    "ax[0,1].set_xticks([-72,-60,-48,-36,-24,-12,0,12,24,36,48,60,72])\n",
    "ax[1,0].set_xticks([-72,-60,-48,-36,-24,-12,0,12,24,36,48,60,72])\n",
    "ax[1,1].set_xticks([-72,-60,-48,-36,-24,-12,0,12,24,36,48,60,72])\n",
    "\n",
    "plt.rcParams.update({'font.size':11})\n",
    "plt.tight_layout()\n",
    "fig.savefig(fig_dir+'qvint_evolution_multilayers.pdf',bbox_inches='tight')"
   ]
  },
  {
   "cell_type": "code",
   "execution_count": null,
   "metadata": {},
   "outputs": [],
   "source": [
    "# mean cloud top pressure\n",
    "fig = plt.figure(figsize=(6,4))\n",
    "\n",
    "plt.plot(np.arange(-72,75,3),np.nanmean(ctp_all[idx_G1,:],axis=0),'-xk',\n",
    "        markersize=8,markerfacecolor='None',linewidth=0.5)\n",
    "plt.plot(np.arange(-72,75,3),np.nanmean(ctp_all[idx_G2,:],axis=0),'-or',\n",
    "        markersize=8,markerfacecolor='None',linewidth=0.5)\n",
    "plt.plot(np.arange(-72,75,3),np.nanmean(ctp_all[idx_G3,:],axis=0),'-^g',\n",
    "        markersize=8,markerfacecolor='None',linewidth=0.5)\n",
    "plt.plot(np.arange(-72,75,3),np.nanmean(ctp_all[idx_G4,:],axis=0),'-db',\n",
    "        markersize=8,markerfacecolor='None',linewidth=0.5)\n",
    "plt.plot(np.arange(-72,75,3),np.nanmean(ctp_all[idx_G5,:],axis=0),'-sm',        \n",
    "        markersize=8,markerfacecolor='None',linewidth=0.5)\n",
    "plt.legend(['0-0.2','0.2-0.4','0.4-0.6','0.6-0.8','0.8-1'],fontsize=8,loc=1)\n",
    "\n",
    "\n",
    "plt.hlines(y=500,xmin=-72,xmax=72,linestyles='-',linewidth=0.5)\n",
    "plt.hlines(y=700,xmin=-72,xmax=72,linestyles='-',linewidth=0.5)\n",
    "plt.vlines(x=0,ymin=200,ymax=1000,linestyles='-',linewidth=0.5)\n",
    "plt.ylim([850,150])\n",
    "plt.xticks([-72,-60,-48,-36,-24,-12,0,12,24,36,48,60,72])\n",
    "plt.xlabel('hour',fontsize=12)\n",
    "\n",
    "\n",
    "plt.ylabel('Cloud top pressure [hPa]',fontsize=12)\n",
    "plt.grid(linestyle=':');plt.xlim([-73,73])\n",
    "fig.savefig(fig_dir+'CTP_evoluion.pdf',bbox_inches='tight')"
   ]
  },
  {
   "cell_type": "code",
   "execution_count": null,
   "metadata": {},
   "outputs": [],
   "source": [
    "# cldscale dist"
   ]
  },
  {
   "cell_type": "markdown",
   "metadata": {},
   "source": [
    "#### Moisture budget analysis based on cloud scale"
   ]
  },
  {
   "cell_type": "code",
   "execution_count": null,
   "metadata": {},
   "outputs": [],
   "source": [
    "# column-integrated moisture flux \n",
    "#qvflux_vint_all = np.trapz(qvflux_all,lev*100,axis=2)/9.8"
   ]
  },
  {
   "cell_type": "code",
   "execution_count": null,
   "metadata": {},
   "outputs": [],
   "source": [
    "# extend SFX array\n",
    "LHF_allre = np.zeros((len(time_event),49))\n",
    "for n in range(len(time_event)):\n",
    "    LHF_allre[n,:48] = LHF_all[n,:]\n",
    "    LHF_allre[n,48] = LHF_all[n,-1]"
   ]
  },
  {
   "cell_type": "code",
   "execution_count": null,
   "metadata": {},
   "outputs": [],
   "source": [
    "# TQLI local tendency\n",
    "#TQLI_tend = np.gradient(TQLI_all,3,axis=1)"
   ]
  },
  {
   "cell_type": "code",
   "execution_count": null,
   "metadata": {},
   "outputs": [],
   "source": [
    "fig,ax = plt.subplots(1,1,figsize=(8,4))\n",
    "ax.plot(np.linspace(-72,72,49),np.nanmean(LHF_allre[idx_G1,:],axis=0),'-xk'\n",
    "        ,markersize=6,markerfacecolor='None')\n",
    "ax.plot(np.linspace(-72,72,49),np.nanmean(LHF_allre[idx_G2,:],axis=0),'-or'\n",
    "        ,markersize=6,markerfacecolor='None')\n",
    "ax.plot(np.linspace(-72,72,49),np.nanmean(LHF_allre[idx_G3,:],axis=0),'-^g'\n",
    "        ,markersize=6,markerfacecolor='None')\n",
    "ax.plot(np.linspace(-72,72,49),np.nanmean(LHF_allre[idx_G4,:],axis=0),'-db'\n",
    "        ,markersize=6,markerfacecolor='None')\n",
    "ax.plot(np.linspace(-72,72,49),np.nanmean(LHF_allre[idx_G5,:],axis=0),'-sm'\n",
    "        ,markersize=6,markerfacecolor='None')\n",
    "ax.plot(np.linspace(-72,72,49),np.nanmean(LHF_allre[:,:],axis=0),'-'\n",
    "        ,color='grey',linewidth=4)\n"
   ]
  },
  {
   "cell_type": "code",
   "execution_count": null,
   "metadata": {},
   "outputs": [],
   "source": [
    "# SFX grouped by idx_AM, area-binned, moist \n",
    "fig,ax = plt.subplots(5,1,figsize=(10,10))\n",
    "ax[0].plot(np.linspace(-72,72,49),np.nanmean(LHF_allre[idx_G1,:]/2.5e6*86400,axis=0),'-g',linewidth=1.5)\n",
    "ax[1].plot(np.linspace(-72,72,49),np.nanmean(LHF_allre[idx_G2,:]/2.5e6*86400,axis=0),'-g',linewidth=1.5)\n",
    "ax[2].plot(np.linspace(-72,72,49),np.nanmean(LHF_allre[idx_G3,:]/2.5e6*86400,axis=0),'-g',linewidth=1.5)\n",
    "ax[3].plot(np.linspace(-72,72,49),np.nanmean(LHF_allre[idx_G4,:]/2.5e6*86400,axis=0),'-g',linewidth=1.5)\n",
    "ax[4].plot(np.linspace(-72,72,49),np.nanmean(LHF_allre[idx_G5,:]/2.5e6*86400,axis=0),'-g',linewidth=1.5)\n",
    "\n",
    "ax[0].plot(np.linspace(-72,72,49),np.nanmean(qvflux_vint_all[idx_G1,:]*86400,axis=0),color='navy',linewidth=1.5)\n",
    "ax[1].plot(np.linspace(-72,72,49),np.nanmean(qvflux_vint_all[idx_G2,:]*86400,axis=0),color='navy',linewidth=1.5)\n",
    "ax[2].plot(np.linspace(-72,72,49),np.nanmean(qvflux_vint_all[idx_G3,:]*86400,axis=0),color='navy',linewidth=1.5)\n",
    "ax[3].plot(np.linspace(-72,72,49),np.nanmean(qvflux_vint_all[idx_G4,:]*86400,axis=0),color='navy',linewidth=1.5)\n",
    "ax[4].plot(np.linspace(-72,72,49),np.nanmean(qvflux_vint_all[idx_G5,:]*86400,axis=0),color='navy',linewidth=1.5)\n",
    "\n",
    "ax[0].plot(np.linspace(-72,72,49),np.nanmean(-prec_all[idx_G1,:]*24,axis=0),color='darkorange',linewidth=1.5)\n",
    "ax[1].plot(np.linspace(-72,72,49),np.nanmean(-prec_all[idx_G2,:]*24,axis=0),color='darkorange',linewidth=1.5)\n",
    "ax[2].plot(np.linspace(-72,72,49),np.nanmean(-prec_all[idx_G3,:]*24,axis=0),color='darkorange',linewidth=1.5)\n",
    "ax[3].plot(np.linspace(-72,72,49),np.nanmean(-prec_all[idx_G4,:]*24,axis=0),color='darkorange',linewidth=1.5)\n",
    "ax[4].plot(np.linspace(-72,72,49),np.nanmean(-prec_all[idx_G5,:]*24,axis=0),color='darkorange',linewidth=1.5)\n",
    "\n",
    "# net mositure storage based on the budget equation\n",
    "net1 = np.nanmean(LHF_allre[idx_G1,:]/2.5e6*86400,axis=0)+ \\\n",
    "             np.nanmean(qvflux_vint_all[idx_G1,:]*86400,axis=0)- \\\n",
    "             np.nanmean(prec_all[idx_G1,:]*24,axis=0)\n",
    "net1_p = np.copy(net1); net1_p[net1_p<0] = np.nan\n",
    "net1_n = np.copy(net1); net1_n[net1_n>0] = np.nan\n",
    "net2 = np.nanmean(LHF_allre[idx_G2,:]/2.5e6*86400,axis=0)+ \\\n",
    "             np.nanmean(qvflux_vint_all[idx_G2,:]*86400,axis=0)- \\\n",
    "             np.nanmean(prec_all[idx_G2,:]*24,axis=0)\n",
    "net2_p = np.copy(net2); net2_p[net2_p<0] = np.nan\n",
    "net2_n = np.copy(net2); net2_n[net2_n>0] = np.nan\n",
    "net3 = np.nanmean(LHF_allre[idx_G3,:]/2.5e6*86400,axis=0)+ \\\n",
    "             np.nanmean(qvflux_vint_all[idx_G3,:]*86400,axis=0)- \\\n",
    "             np.nanmean(prec_all[idx_G3,:]*24,axis=0)\n",
    "net3_p = np.copy(net3); net3_p[net3_p<0] = np.nan\n",
    "net3_n = np.copy(net3); net3_n[net3_n>0] = np.nan\n",
    "net4 = np.nanmean(LHF_allre[idx_G4,:]/2.5e6*86400,axis=0)+ \\\n",
    "             np.nanmean(qvflux_vint_all[idx_G4,:]*86400,axis=0)- \\\n",
    "             np.nanmean(prec_all[idx_G4,:]*24,axis=0)\n",
    "net4_p = np.copy(net4); net4_p[net4_p<0] = np.nan\n",
    "net4_n = np.copy(net4); net4_n[net4_n>0] = np.nan\n",
    "net5 = np.nanmean(LHF_allre[idx_G5,:]/2.5e6*86400,axis=0)+ \\\n",
    "             np.nanmean(qvflux_vint_all[idx_G5,:]*86400,axis=0)- \\\n",
    "             np.nanmean(prec_all[idx_G5,:]*24,axis=0)\n",
    "net5_p = np.copy(net5); net5_p[net5_p<0] = np.nan\n",
    "net5_n = np.copy(net5); net5_n[net5_n>0] = np.nan\n",
    "\n",
    "ax[0].bar(np.linspace(-72,72,49),net1_p,align='center',width=3,alpha=0.4,edgecolor='grey')\n",
    "ax[0].bar(np.linspace(-72,72,49),net1_n,align='center',width=3,color='r',alpha=0.4,edgecolor='grey')\n",
    "ax[1].bar(np.linspace(-72,72,49),net2_p,align='center',width=3,alpha=0.4,edgecolor='grey')\n",
    "ax[1].bar(np.linspace(-72,72,49),net2_n,align='center',width=3,color='r',alpha=0.4,edgecolor='grey')\n",
    "ax[2].bar(np.linspace(-72,72,49),net3_p,align='center',width=3,alpha=0.4,edgecolor='grey')\n",
    "ax[2].bar(np.linspace(-72,72,49),net3_n,align='center',width=3,color='r',alpha=0.4,edgecolor='grey')\n",
    "ax[3].bar(np.linspace(-72,72,49),net4_p,align='center',width=3,alpha=0.4,edgecolor='grey')\n",
    "ax[3].bar(np.linspace(-72,72,49),net4_n,align='center',width=3,color='r',alpha=0.4,edgecolor='grey')\n",
    "ax[4].bar(np.linspace(-72,72,49),net5_p,align='center',width=3,alpha=0.4,edgecolor='grey')\n",
    "ax[4].bar(np.linspace(-72,72,49),net5_n,align='center',width=3,color='r',alpha=0.4,edgecolor='grey')\n",
    "\n",
    "ax[0].set_xlim([-72,72]);ax[0].hlines(y=0,xmin=-72,xmax=600,linewidth=0.5,zorder=3)\n",
    "ax[1].set_xlim([-72,72]);ax[1].hlines(y=0,xmin=-72,xmax=600,linewidth=0.5,zorder=3)\n",
    "ax[2].set_xlim([-72,72]);ax[2].hlines(y=0,xmin=-72,xmax=600,linewidth=0.5,zorder=3)\n",
    "ax[3].set_xlim([-72,72]);ax[3].hlines(y=0,xmin=-72,xmax=600,linewidth=0.5,zorder=3)\n",
    "ax[4].set_xlim([-72,72]);ax[4].hlines(y=0,xmin=-72,xmax=600,linewidth=0.5,zorder=3)\n",
    "\n",
    "ax[0].set_ylim([-10,10]);ax[1].set_ylim([-15,10]);ax[2].set_ylim([-25,10])\n",
    "ax[3].set_ylim([-40,20]);ax[4].set_ylim([-50,20])\n",
    "\n",
    "ax[0].set_ylabel('[mm/day]',fontsize=12)\n",
    "ax[1].set_ylabel('[mm/day]',fontsize=12)\n",
    "ax[2].set_ylabel('[mm/day]',fontsize=12)\n",
    "ax[3].set_ylabel('[mm/day]',fontsize=12)\n",
    "ax[4].set_ylabel('[mm/day]',fontsize=12)\n",
    "ax[4].set_xlabel('hour',fontsize=12)\n",
    "\n",
    "ax[0].grid(linestyle=':',color='grey',linewidth=0.05);ax[0].set_xticks(np.arange(-72,84,12))\n",
    "ax[1].grid(linestyle=':',color='grey',linewidth=0.05);ax[1].set_xticks(np.arange(-72,84,12))\n",
    "ax[2].grid(linestyle=':',color='grey',linewidth=0.05);ax[2].set_xticks(np.arange(-72,84,12))\n",
    "ax[3].grid(linestyle=':',color='grey',linewidth=0.05);ax[3].set_xticks(np.arange(-72,84,12))\n",
    "ax[4].grid(linestyle=':',color='grey',linewidth=0.05);ax[4].set_xticks(np.arange(-72,84,12))\n",
    "\n",
    "ax[0].set_xticklabels(labels=[])\n",
    "ax[1].set_xticklabels(labels=[])\n",
    "ax[2].set_xticklabels(labels=[])\n",
    "ax[3].set_xticklabels(labels=[])\n",
    "\n",
    "#ax[0].set_title('Column-integrated moisture budget analysis, Qv_ten = QF + LHF - P',fontsize=13)\n",
    "ax[0].legend(['LHF','MFlux','Prec','<Q$_v$>$_{ten}$'], loc=1,\n",
    "       ncol=4, borderaxespad=0.2, frameon=False, fontsize=9)\n",
    "plt.rcParams.update({'font.size':10})\n",
    "\n",
    "ax[0].text(66,-9.5,'(a)',fontsize=13)\n",
    "ax[1].text(66,-14.5,'(b)',fontsize=13)\n",
    "ax[2].text(66,-24.5,'(c)',fontsize=13)\n",
    "ax[3].text(66,-39.5,'(d)',fontsize=13)\n",
    "ax[4].text(66,-49.5,'(e)',fontsize=13)\n",
    "\n",
    "plt.show()\n",
    "\n",
    "fig.savefig(fig_dir+'MoistBA_scales.pdf',bbox_inches='tight')"
   ]
  },
  {
   "cell_type": "code",
   "execution_count": null,
   "metadata": {},
   "outputs": [],
   "source": [
    "# SFX grouped by idx_AM, area-binned, moist \n",
    "fig,ax = plt.subplots(1,1,figsize=(10,2))\n",
    "ax.plot(np.linspace(-72,72,49),np.nanmean(LHF_allre[:,:]/2.5e6*86400,axis=0),'-g',linewidth=1.5)\n",
    "ax.plot(np.linspace(-72,72,49),np.nanmean(qvflux_vint_all[:,:]*86400,axis=0),color='navy',linewidth=1.5)\n",
    "ax.plot(np.linspace(-72,72,49),np.nanmean(-prec_all[:,:]*24,axis=0),color='darkorange',linewidth=1.5)\n",
    "\n",
    "# net mositure storage based on the budget equation\n",
    "net1 = np.nanmean(LHF_allre[:,:]/2.5e6*86400,axis=0)+ \\\n",
    "             np.nanmean(qvflux_vint_all[:,:]*86400,axis=0)- \\\n",
    "             np.nanmean(prec_all[:,:]*24,axis=0)\n",
    "\n",
    "#ax.fill_between(np.linspace(-72,72,49),net1, 0, where=net1>0, facecolor='b',interpolate=True,alpha=0.4)\n",
    "#ax.fill_between(np.linspace(-72,72,49),net1, 0, where=net1<0, facecolor='r',interpolate=True,alpha=0.4)\n",
    "net1_p = np.copy(net1); net1_p[net1_p<0] = np.nan\n",
    "net1_n = np.copy(net1); net1_n[net1_n>0] = np.nan\n",
    "\n",
    "ax.bar(np.linspace(-72,72,49),net1_p,align='center',width=3,alpha=0.4,edgecolor='grey')\n",
    "ax.bar(np.linspace(-72,72,49),net1_n,align='center',width=3,color='r',alpha=0.4,edgecolor='grey')\n",
    "\n",
    "ax.set_xlim([-72,72]);ax.hlines(y=0,xmin=-72,xmax=600,linewidth=0.5,zorder=3)\n",
    "ax.set_ylim([-10,10])\n",
    "ax.set_ylabel('[mm/day]',fontsize=13)\n",
    "\n",
    "ax.grid(linestyle=':',color='grey',linewidth=0.05);ax.set_xticks(np.arange(-72,84,12))\n",
    "ax.set_xlabel('hour',fontsize=13)\n",
    "#ax.set_title('Column-integrated moisture budget analysis, Qv_ten = QF + LHF - P',fontsize=13)\n",
    "ax.legend(['Evap','MFlux','Prec',r'$\\langle Q_v \\rangle_t$'], loc=1,\n",
    "       ncol=4, borderaxespad=0.2, frameon=False, fontsize=9)\n",
    "plt.rcParams.update({'font.size':10})\n",
    "plt.show()\n",
    "fig.savefig(fig_dir+'MoistBA_allevents.pdf',bbox_inches='tight')"
   ]
  },
  {
   "cell_type": "code",
   "execution_count": null,
   "metadata": {},
   "outputs": [],
   "source": [
    "# SFX grouped by idx_AM, area-binned, moist \n",
    "fig,ax = plt.subplots(5,1,figsize=(10,10))\n",
    "\n",
    "# net mositure storage based on the budget equation\n",
    "net1 = np.nanmean(LHF_allre[idx_G1,:]/2.5e6*86400,axis=0)+ \\\n",
    "             np.nanmean(qvflux_vint_all[idx_G1,:]*86400,axis=0)- \\\n",
    "             np.nanmean(prec_all[idx_G1,:]*24,axis=0)\n",
    "net1_p = np.copy(net1); net1_p[net1_p<0] = np.nan\n",
    "net1_n = np.copy(net1); net1_n[net1_n>0] = np.nan\n",
    "net2 = np.nanmean(LHF_allre[idx_G2,:]/2.5e6*86400,axis=0)+ \\\n",
    "             np.nanmean(qvflux_vint_all[idx_G2,:]*86400,axis=0)- \\\n",
    "             np.nanmean(prec_all[idx_G2,:]*24,axis=0)\n",
    "net2_p = np.copy(net2); net2_p[net2_p<0] = np.nan\n",
    "net2_n = np.copy(net2); net2_n[net2_n>0] = np.nan\n",
    "net3 = np.nanmean(LHF_allre[idx_G3,:]/2.5e6*86400,axis=0)+ \\\n",
    "             np.nanmean(qvflux_vint_all[idx_G3,:]*86400,axis=0)- \\\n",
    "             np.nanmean(prec_all[idx_G3,:]*24,axis=0)\n",
    "net3_p = np.copy(net3); net3_p[net3_p<0] = np.nan\n",
    "net3_n = np.copy(net3); net3_n[net3_n>0] = np.nan\n",
    "net4 = np.nanmean(LHF_allre[idx_G4,:]/2.5e6*86400,axis=0)+ \\\n",
    "             np.nanmean(qvflux_vint_all[idx_G4,:]*86400,axis=0)- \\\n",
    "             np.nanmean(prec_all[idx_G4,:]*24,axis=0)\n",
    "net4_p = np.copy(net4); net4_p[net4_p<0] = np.nan\n",
    "net4_n = np.copy(net4); net4_n[net4_n>0] = np.nan\n",
    "net5 = np.nanmean(LHF_allre[idx_G5,:]/2.5e6*86400,axis=0)+ \\\n",
    "             np.nanmean(qvflux_vint_all[idx_G5,:]*86400,axis=0)- \\\n",
    "             np.nanmean(prec_all[idx_G5,:]*24,axis=0)\n",
    "net5_p = np.copy(net5); net5_p[net5_p<0] = np.nan\n",
    "net5_n = np.copy(net5); net5_n[net5_n>0] = np.nan\n",
    "\n",
    "ax[0].bar(np.linspace(-72,72,49),net1_p,align='center',width=3,alpha=0.4,edgecolor='grey')\n",
    "ax[0].bar(np.linspace(-72,72,49),net1_n,align='center',width=3,color='r',alpha=0.4,edgecolor='grey')\n",
    "ax[1].bar(np.linspace(-72,72,49),net2_p,align='center',width=3,alpha=0.4,edgecolor='grey')\n",
    "ax[1].bar(np.linspace(-72,72,49),net2_n,align='center',width=3,color='r',alpha=0.4,edgecolor='grey')\n",
    "ax[2].bar(np.linspace(-72,72,49),net3_p,align='center',width=3,alpha=0.4,edgecolor='grey')\n",
    "ax[2].bar(np.linspace(-72,72,49),net3_n,align='center',width=3,color='r',alpha=0.4,edgecolor='grey')\n",
    "ax[3].bar(np.linspace(-72,72,49),net4_p,align='center',width=3,alpha=0.4,edgecolor='grey')\n",
    "ax[3].bar(np.linspace(-72,72,49),net4_n,align='center',width=3,color='r',alpha=0.4,edgecolor='grey')\n",
    "ax[4].bar(np.linspace(-72,72,49),net5_p,align='center',width=3,alpha=0.4,edgecolor='grey')\n",
    "ax[4].bar(np.linspace(-72,72,49),net5_n,align='center',width=3,color='r',alpha=0.4,edgecolor='grey')\n",
    "\n",
    "ax[0].set_xlim([-72,72]);ax[0].hlines(y=0,xmin=-72,xmax=600,linewidth=0.5,zorder=3)\n",
    "ax[1].set_xlim([-72,72]);ax[1].hlines(y=0,xmin=-72,xmax=600,linewidth=0.5,zorder=3)\n",
    "ax[2].set_xlim([-72,72]);ax[2].hlines(y=0,xmin=-72,xmax=600,linewidth=0.5,zorder=3)\n",
    "ax[3].set_xlim([-72,72]);ax[3].hlines(y=0,xmin=-72,xmax=600,linewidth=0.5,zorder=3)\n",
    "ax[4].set_xlim([-72,72]);ax[4].hlines(y=0,xmin=-72,xmax=600,linewidth=0.5,zorder=3)\n",
    "\n",
    "ax[0].set_ylim([-10,10]);ax[1].set_ylim([-10,10]);ax[2].set_ylim([-10,10])\n",
    "ax[3].set_ylim([-10,10]);ax[4].set_ylim([-10,10])\n",
    "\n",
    "ax[0].set_ylabel('[mm/day]',fontsize=12)\n",
    "ax[1].set_ylabel('[mm/day]',fontsize=12)\n",
    "ax[2].set_ylabel('[mm/day]',fontsize=12)\n",
    "ax[3].set_ylabel('[mm/day]',fontsize=12)\n",
    "ax[4].set_ylabel('[mm/day]',fontsize=12)\n",
    "ax[4].set_xlabel('hour',fontsize=12)\n",
    "\n",
    "ax[0].grid(linestyle='--',color='grey',linewidth=0.2);ax[0].set_xticks(np.arange(-72,84,12))\n",
    "ax[1].grid(linestyle='--',color='grey',linewidth=0.2);ax[1].set_xticks(np.arange(-72,84,12))\n",
    "ax[2].grid(linestyle='--',color='grey',linewidth=0.2);ax[2].set_xticks(np.arange(-72,84,12))\n",
    "ax[3].grid(linestyle='--',color='grey',linewidth=0.2);ax[3].set_xticks(np.arange(-72,84,12))\n",
    "ax[4].grid(linestyle='--',color='grey',linewidth=0.2);ax[4].set_xticks(np.arange(-72,84,12))\n",
    "\n",
    "ax[0].set_xticklabels(labels=[])\n",
    "ax[1].set_xticklabels(labels=[])\n",
    "ax[2].set_xticklabels(labels=[])\n",
    "ax[3].set_xticklabels(labels=[])\n",
    "\n",
    "ax[0].set_title('Column-integrated moisture budget analysis, Qv_ten = QF + LHF - P',fontsize=13)\n",
    "ax[0].legend(['LHF','MFlux','Prec'], loc=1,\n",
    "       ncol=3, borderaxespad=0.2, frameon=False)\n",
    "plt.show()"
   ]
  },
  {
   "cell_type": "code",
   "execution_count": null,
   "metadata": {},
   "outputs": [],
   "source": [
    "plt.plot(np.nanmean(rh_q1_all[idx_G4,24,:],axis=0)*100,lev,'sr')\n",
    "plt.plot(np.nanmean(rh_q1_all[idx_G4,28,:],axis=0)*100,lev,'sg')\n",
    "plt.plot(np.nanmean(rh_q1_all[idx_G4,32,:],axis=0)*100,lev,'sb')\n",
    "plt.plot(np.nanmean(rh_q1_all[idx_G4,36,:],axis=0)*100,lev,'sm')\n",
    "\n",
    "plt.plot(np.nanmean(rh_q1_all[idx_G1,24,:],axis=0)*100,lev,'r')\n",
    "plt.plot(np.nanmean(rh_q1_all[idx_G1,28,:],axis=0)*100,lev,'g')\n",
    "plt.plot(np.nanmean(rh_q1_all[idx_G1,32,:],axis=0)*100,lev,'b')\n",
    "plt.plot(np.nanmean(rh_q1_all[idx_G1,36,:],axis=0)*100,lev,'m')\n",
    "\n",
    "#plt.plot(np.nanmean(rh_q4_all[idx_G3,26,:],axis=0),lev,'g')\n",
    "#plt.plot(np.nanmean(rh_q1_all[idx_G3,26,:],axis=0),lev,'--g')\n",
    "#plt.plot(np.nanmean(rh_all[idx_G3,26,:],axis=0),lev,'-',color='grey',linewidth=1.5)\n",
    "plt.ylim([1000,100])\n",
    "# plt.plot(np.arange(-72,75,3),np.nanmean(crh_q4_all[idx_G3,:]-crh_q1_all[idx_G3,:],axis=0),'b')\n",
    "# plt.plot(np.arange(-72,75,3),np.nanmean(crh_q4_all[idx_G4,:]-crh_q1_all[idx_G4,:],axis=0),'k')\n",
    "# plt.plot(np.arange(-72,75,3),np.nanmean(crh_q4_all[idx_G5,:]-crh_q1_all[idx_G5,:],axis=0),'m')"
   ]
  },
  {
   "cell_type": "markdown",
   "metadata": {},
   "source": [
    "#### occurrence map "
   ]
  },
  {
   "cell_type": "code",
   "execution_count": null,
   "metadata": {},
   "outputs": [],
   "source": [
    "# different catagory \n",
    "def freq_map_cat(lon_event,lat_event):\n",
    "   \n",
    "    lat_bin = np.linspace(-7.5,7.5,7)\n",
    "    lon_bin = np.linspace(-177.5,177.5,143)\n",
    "\n",
    "    freq_map = np.zeros((len(lon_bin),len(lat_bin)))\n",
    "\n",
    "    for i in range(len(lon_bin)):\n",
    "        for j in range(len(lat_bin)):\n",
    "            idx = np.where(lon_event == lon_bin[i])[0]\n",
    "            idy = np.where(lat_event == lat_bin[j])[0]\n",
    "            \n",
    "            if (lon_bin[i] >= 90) & (lon_bin[i]<=150):\n",
    "                freq_map[i,j] = np.nan\n",
    "\n",
    "            if len(np.intersect1d(idx,idy)) > 0:\n",
    "                freq_map[i,j] += len(np.intersect1d(idx,idy))\n",
    "    \n",
    "    freq_map_re = np.zeros((145,7))\n",
    "    freq_map_re[:143,:] = freq_map\n",
    "    freq_map_re[143,:] = (freq_map[0,:]+freq_map[-1,:])/2\n",
    "    freq_map_re[144,:] = (freq_map[0,:]+freq_map[-1,:])/2    \n",
    "    freq_map_re = np.vstack([freq_map_re.T,np.zeros((freq_map_re.shape[0])).T]).T\n",
    "    \n",
    "    return freq_map_re"
   ]
  },
  {
   "cell_type": "code",
   "execution_count": null,
   "metadata": {},
   "outputs": [],
   "source": [
    "lat_bin = np.linspace(-8.75,8.75,8)\n",
    "lon_bin = np.linspace(-178.75,181.25,145)\n",
    "\n",
    "freq_map_tot =  freq_map_cat(lon_event,lat_event)\n",
    "freq_map_G1 = freq_map_cat(lon_event[idx_G1],lat_event[idx_G1])\n",
    "freq_map_G2 = freq_map_cat(lon_event[idx_G2],lat_event[idx_G2])\n",
    "freq_map_G3 = freq_map_cat(lon_event[idx_G3],lat_event[idx_G3])\n",
    "freq_map_G4 = freq_map_cat(lon_event[idx_G4],lat_event[idx_G4])\n",
    "freq_map_G5 = freq_map_cat(lon_event[idx_G5],lat_event[idx_G5])"
   ]
  },
  {
   "cell_type": "code",
   "execution_count": null,
   "metadata": {},
   "outputs": [],
   "source": [
    "# %%time\n",
    "# # TRMM3B42 dataset 2014, 3hrly separate\n",
    "# os.chdir(TRMM_dir+'2014_2018')\n",
    "\n",
    "# n=1\n",
    "# files = sorted(glob('3B42*'))\n",
    "# prec_3hr = np.nan*np.zeros((len(files),80,1440))\n",
    "# for file in files:\n",
    "#     data = xr.open_dataset(file).precipitation        \n",
    "#     prec_3hr[n-1,:,:] = data.sel(nlat=slice(-10,10)).values.swapaxes(0,1)\n",
    "#     n+=1"
   ]
  },
  {
   "cell_type": "code",
   "execution_count": null,
   "metadata": {},
   "outputs": [],
   "source": [
    "%%time\n",
    "# TRMM3B42 dataset 2014, 3hrly separate\n",
    "os.chdir('/data2/willytsai/MERRA2/inst_2d_hourly/')\n",
    "\n",
    "n=1\n",
    "files = sorted(glob('*.nc'))\n",
    "cwv_3hr = np.nan*np.zeros((len(files),41,576))\n",
    "for file in files:\n",
    "    try:\n",
    "        data = xr.open_dataset(file).TQV        \n",
    "        cwv_3hr[n-1,:,:] = data.sel(lat=slice(-10,10)).values.mean(axis=0)\n",
    "    except:\n",
    "        cwv_3hr[n-1,:,:] = np.nan\n",
    "    n+=1"
   ]
  },
  {
   "cell_type": "code",
   "execution_count": null,
   "metadata": {},
   "outputs": [],
   "source": [
    "cwv_clim = np.nanmean(cwv_3hr,axis=0)\n",
    "cwv = data.sel(lat=slice(-10,10))"
   ]
  },
  {
   "cell_type": "code",
   "execution_count": null,
   "metadata": {},
   "outputs": [],
   "source": [
    "cmap_cus = ListedColormap(['white','whitesmoke','lightgrey','darkgrey','royalblue','green','mediumseagreen',\n",
    "'greenyellow','yellow','gold','orange','darkorange','red','firebrick'])"
   ]
  },
  {
   "cell_type": "code",
   "execution_count": null,
   "metadata": {},
   "outputs": [],
   "source": [
    "fig,ax = plt.subplots(6,1,figsize=(15,10.5)\n",
    "        ,subplot_kw=dict(projection=ccrs.PlateCarree(central_longitude=180)))\n",
    "\n",
    "for i,freq in enumerate([freq_map_tot,freq_map_G1,freq_map_G2\n",
    "                         ,freq_map_G3,freq_map_G4,freq_map_G5]):\n",
    "    \n",
    "    ax[i].coastlines()\n",
    "    ax[i].add_feature(cfeat.LAND,zorder=3,edgecolor='k',facecolor='whitesmoke') # maskout LAND\n",
    "    ax[i].set_facecolor('snow')\n",
    "    \n",
    "    if i == 0:\n",
    "        cf = ax[i].pcolormesh(lon_bin,lat_bin,freq.T[:,:],transform=ccrs.PlateCarree()\n",
    "                        ,cmap=cmap_cus,vmax=100)\n",
    "    else:\n",
    "        cf = ax[i].pcolormesh(lon_bin,lat_bin,freq.T[:,:],transform=ccrs.PlateCarree()\n",
    "                        ,cmap=cmap_cus,vmax=40)        \n",
    "    \n",
    "    cwv_con,lon = add_cyclic_point(cwv_clim, coord=cwv.lon)\n",
    "    ax[i].contour(lon,cwv.lat,cwv_con,transform=ccrs.PlateCarree(),\n",
    "                 levels=[45,50,55],colors=['whitesmoke'],linewidths=2)\n",
    "\n",
    "    ax[i].set_yticks([-20,-15,-10,-5,0,5,10,15,20])\n",
    "    ax[i].set_yticklabels(['20S','15S','10S','5S','EQ','5N','10N','15N','20N'])\n",
    "    ax[i].set_xticks([-180,-120,-60,-0,60,120,180])\n",
    "    ax[i].set_xticklabels(['0','60E','120E','180','120W','60W','0'])\n",
    "    ax[i].set_ylim([-10,10]);ax[i].grid(linestyle=':')\n",
    "    ax[i].set_xlim([-129,89])\n",
    "    cbar = plt.colorbar(cf,ax=ax[i],shrink=0.7,pad=0.01)"
   ]
  },
  {
   "cell_type": "code",
   "execution_count": null,
   "metadata": {
    "scrolled": false
   },
   "outputs": [],
   "source": [
    "# fig,ax = plt.subplots(6,1,figsize=(15,10.5)\n",
    "#         ,subplot_kw=dict(projection=ccrs.PlateCarree(central_longitude=180)))\n",
    "\n",
    "# for i,freq in enumerate([freq_map_tot,freq_map_G1,freq_map_G2\n",
    "#                          ,freq_map_G3,freq_map_G4,freq_map_G5]):\n",
    "    \n",
    "#     ax[i].coastlines()\n",
    "#     ax[i].add_feature(cfeat.LAND,zorder=3,edgecolor='k',facecolor='whitesmoke') # maskout LAND\n",
    "    \n",
    "#     if i == 0:\n",
    "#         cf = ax[i].pcolormesh(lon_bin,lat_bin,freq.T[:,:],transform=ccrs.PlateCarree()\n",
    "#                         ,cmap='nipy_spectral',vmax=100)\n",
    "#     else:\n",
    "#         cf = ax[i].pcolormesh(lon_bin,lat_bin,freq.T[:,:],transform=ccrs.PlateCarree()\n",
    "#                         ,cmap='nipy_spectral',vmax=40)        \n",
    "    \n",
    "#     prec_con,lon = add_cyclic_point(prec_clim, coord=data.nlon)\n",
    "#     ax[i].contour(lon,data.sel(nlat=slice(-10,10)).nlat,prec_con*24,transform=ccrs.PlateCarree(),\n",
    "#                  levels=[2,4,6,8,10],colors=['whitesmoke'],linewidths=2)\n",
    "\n",
    "#     ax[i].set_yticks([-20,-15,-10,-5,0,5,10,15,20])\n",
    "#     ax[i].set_yticklabels(['20S','15S','10S','5S','EQ','5N','10N','15N','20N'])\n",
    "#     ax[i].set_xticks([-180,-120,-60,-0,60,120,180])\n",
    "#     ax[i].set_xticklabels(['0','60E','120E','180','120W','60W','0'])\n",
    "#     ax[i].set_ylim([-10,10]);ax[i].grid(linestyle=':')\n",
    "#     ax[i].set_xlim([-129,89])\n",
    "#     cbar = plt.colorbar(cf,ax=ax[i],shrink=0.7,pad=0.01)"
   ]
  },
  {
   "cell_type": "code",
   "execution_count": null,
   "metadata": {},
   "outputs": [],
   "source": [
    "fig.savefig(fig_dir+'freqmap_tropics_cwv.pdf',bbox_inches='tight')"
   ]
  },
  {
   "cell_type": "markdown",
   "metadata": {},
   "source": [
    "#### Vertical structure of atmospheric states"
   ]
  },
  {
   "cell_type": "code",
   "execution_count": null,
   "metadata": {},
   "outputs": [],
   "source": [
    "def vert_anomaly(vert1_all, vert2_all, vert3_all):    \n",
    "    # removing +-12h as background state\n",
    "    vert1_mn = 0.5*(np.nanmean(vert1_all[:,:4,:],axis=1)+np.nanmean(vert1_all[:,-4:,:],axis=1))\n",
    "    vert1_a = vert1_all-np.tile(vert1_mn,(1,49)).reshape(vert1_mn.shape[0],49,42)\n",
    "    \n",
    "    vert2_mn = 0.5*(np.nanmean(vert2_all[:,:4,:],axis=1)+np.nanmean(vert2_all[:,-4:,:],axis=1))\n",
    "    vert2_a = vert2_all-np.tile(vert2_mn,(1,49)).reshape(vert2_mn.shape[0],49,42)\n",
    "    \n",
    "    vert3_mn = 0.5*(np.nanmean(vert3_all[:,:4,:],axis=1)+np.nanmean(vert3_all[:,-4:,:],axis=1))\n",
    "    vert3_a = vert3_all-np.tile(vert3_mn,(1,49)).reshape(vert3_mn.shape[0],49,42)\n",
    "    \n",
    "    return vert1_a, vert2_a, vert3_a"
   ]
  },
  {
   "cell_type": "code",
   "execution_count": null,
   "metadata": {},
   "outputs": [],
   "source": [
    "def vert_regress(vert_all,prec_all):\n",
    "    T_g1 = vert_all\n",
    "    prec_g1 = prec_all\n",
    "    T_regress_g1 = np.copy(T_g1)\n",
    "\n",
    "    for t in range(T_regress_g1.shape[0]): # samples\n",
    "        for k in range(T_regress_g1.shape[2]): # vertical dims\n",
    "            tmp = prec_g1[t,:];tmp2 = T_g1[t,:,k]\n",
    "            pp = tmp[~np.isnan(tmp2)]; qq = tmp2[~np.isnan(tmp2)]  \n",
    "            if len(pp) > 0: # not empty\n",
    "                reg = [np.polyfit(pp,np.roll(qq,-lag),deg=1)[0] for lag in range(-24,25)]\n",
    "                T_regress_g1[t,:,k] = np.asarray(reg)\n",
    "            else:\n",
    "                T_regress_g1[t,:,k] = np.nan\n",
    "                \n",
    "    return T_regress_g1"
   ]
  },
  {
   "cell_type": "code",
   "execution_count": null,
   "metadata": {},
   "outputs": [],
   "source": [
    "def vert_ttest(vert_a):\n",
    "    \n",
    "    t_stats = ttest_ind(vert_a,0*vert_a,axis=0)\n",
    "    qv1pval = t_stats.pvalue\n",
    "    test1 = np.copy(vert_a.mean(axis=0))\n",
    "    test1[qv1pval>0.1] = np.nan # significance map\n",
    "    \n",
    "    return  test1"
   ]
  },
  {
   "cell_type": "code",
   "execution_count": null,
   "metadata": {},
   "outputs": [],
   "source": [
    "# T_g1 = vert_regress(T_all[idx_G1,:,:],prec_all[idx_G1,:])\n",
    "# T_g3 = vert_regress(T_all[idx_G3,:,:],prec_all[idx_G3,:])\n",
    "# T_g5 = vert_regress(T_all[idx_G5,:,:],prec_all[idx_G5,:])"
   ]
  },
  {
   "cell_type": "code",
   "execution_count": null,
   "metadata": {},
   "outputs": [],
   "source": [
    "Ta_g1,qa_g1,diva_g1 = vert_anomaly(T_all[idx_G1,:,:], q_all[idx_G1,:,:], div_all[idx_G1,:,:])\n",
    "Ta_g3,qa_g3,diva_g3 = vert_anomaly(T_all[idx_G3,:,:], q_all[idx_G3,:,:], div_all[idx_G3,:,:])\n",
    "Ta_g4,qa_g4,diva_g4 = vert_anomaly(T_all[idx_G4,:,:], q_all[idx_G4,:,:], div_all[idx_G4,:,:])"
   ]
  },
  {
   "cell_type": "code",
   "execution_count": null,
   "metadata": {},
   "outputs": [],
   "source": [
    "fig,ax = plt.subplots(3,1,figsize=(10,12))\n",
    "\n",
    "levs= [-0.5,-0.3,-0.1,0.1,0.3,0.5]\n",
    "\n",
    "cf1 = ax[0].pcolor(range(49),lev,vert_ttest(Ta_g1).transpose(),vmin=-0.5,vmax=0.5\n",
    "                   ,cmap='RdBu_r')\n",
    "cc1 = ax[0].contour(range(49),lev,vert_ttest(Ta_g1).transpose()\n",
    "                   ,levels=levs,colors=['k'],linewidths=0.8)\n",
    "ax[0].set_ylim([1000,200]);ax[0].set_yticks([1000,800,600,400,200])\n",
    "ax[0].set_xticks(np.linspace(0,48,13));ax[0].set_xticklabels([])\n",
    "#ax[0].set_xlabel('Lag time [hr]',fontsize=12)\n",
    "ax[0].set_ylabel('Pressure [hPa]',fontsize=14)\n",
    "cbar1 = plt.colorbar(cf1,ax=ax[0],pad=0.02,shrink=0.8);cc1.clabel(fmt='%1.1f')\n",
    "ax[0].vlines(x=24,ymin=200,ymax=1000,linewidth=0.8)\n",
    "ax[0].set_title('T anomaly [K]',fontsize=15,fontweight='bold')\n",
    "\n",
    "cf2 = ax[1].pcolor(range(49),lev,vert_ttest(Ta_g3).transpose(),vmin=-0.5,vmax=0.5\n",
    "                   ,cmap='RdBu_r')\n",
    "cc2 = ax[1].contour(range(49),lev,vert_ttest(Ta_g3).transpose()\n",
    "                   ,levels=levs,colors=['k'],linewidths=0.8)\n",
    "ax[1].set_ylim([1000,200]);ax[1].set_yticks([1000,800,600,400,200])\n",
    "ax[1].set_xticks(np.linspace(0,48,13));ax[1].set_xticklabels([])\n",
    "#ax[1].set_xlabel('Lag time [hr]',fontsize=12)\n",
    "ax[1].set_ylabel('Pressure [hPa]',fontsize=14)\n",
    "ax[1].vlines(x=24,ymin=200,ymax=1000,linewidth=0.8)\n",
    "cbar2 = plt.colorbar(cf2,ax=ax[1],pad=0.02,shrink=0.8);cc2.clabel(fmt='%1.1f')\n",
    "\n",
    "cf3 = ax[2].pcolor(range(49),lev,vert_ttest(Ta_g4).transpose(),vmin=-0.5,vmax=0.5\n",
    "                   ,cmap='RdBu_r')\n",
    "cc3 = ax[2].contour(range(49),lev,vert_ttest(Ta_g4).transpose()\n",
    "                   ,levels=levs,colors=['k'],linewidths=0.8)\n",
    "ax[2].set_ylim([1000,200]);ax[2].set_yticks([1000,800,600,400,200])\n",
    "ax[2].set_xticks(np.linspace(0,48,13));ax[2].set_xticklabels(np.linspace(-72,72,13,dtype=int))\n",
    "ax[2].set_xlabel('hour',fontsize=14)\n",
    "ax[2].set_ylabel('Pressure [hPa]',fontsize=14)\n",
    "ax[2].vlines(x=24,ymin=200,ymax=1000,linewidth=0.8)\n",
    "cbar3 = plt.colorbar(cf3,ax=ax[2],pad=0.02,shrink=0.8);cc3.clabel(fmt='%1.1f')\n",
    "\n",
    "plt.tight_layout(h_pad=1.5)\n",
    "ax[0].tick_params(labelsize=13)\n",
    "ax[1].tick_params(labelsize=13)\n",
    "ax[2].tick_params(labelsize=13)\n",
    "props = dict(facecolor='white', alpha=0.5)\n",
    "ax[0].text(0.5,300,'0.0-0.2',fontsize=20,bbox=props)\n",
    "ax[1].text(0.5,300,'0.4-0.6',fontsize=20,bbox=props)\n",
    "ax[2].text(0.5,300,'0.6-0.8',fontsize=20,bbox=props)\n",
    "\n",
    "fig.savefig(fig_dir+'Tanomaly_vert.pdf',bbox_inches='tight')"
   ]
  },
  {
   "cell_type": "code",
   "execution_count": null,
   "metadata": {},
   "outputs": [],
   "source": [
    "fig,ax = plt.subplots(3,1,figsize=(10,12))\n",
    "\n",
    "levs= [-1.5,-1.2,-0.9,-0.6,-0.3,0.3,0.6,0.9,1.2,1.5]\n",
    "\n",
    "cf1 = ax[0].pcolor(range(49),lev,1000*vert_ttest(qa_g1).transpose(),vmin=-1.5,vmax=1.5\n",
    "                   ,cmap='RdBu_r')\n",
    "cc1 = ax[0].contour(range(49),lev,1000*vert_ttest(qa_g1).transpose()\n",
    "                   ,levels=levs,colors=['k'],linewidths=0.8)\n",
    "ax[0].set_xticks(np.linspace(0,48,13));ax[0].set_xticklabels([])\n",
    "ax[0].set_ylim([1000,200]);ax[0].vlines(x=24,ymin=200,ymax=1000,linewidth=0.8)\n",
    "#ax[0].set_xlabel('Lag time [hr]',fontsize=12)\n",
    "ax[0].set_ylabel('Pressure [hPa]',fontsize=14);ax[0].set_yticks([1000,800,600,400,200])\n",
    "cbar1 = plt.colorbar(cf1,ax=ax[0],pad=0.02,shrink=0.8);cc1.clabel(fmt='%1.1f')\n",
    "ax[0].set_title('Qv anomaly [g/kg]',fontsize=15,fontweight='bold')\n",
    "\n",
    "cf2 = ax[1].pcolor(range(49),lev,1000*vert_ttest(qa_g3).transpose(),vmin=-1.5,vmax=1.5\n",
    "                   ,cmap='RdBu_r')\n",
    "cc2 = ax[1].contour(range(49),lev,1000*vert_ttest(qa_g3).transpose()\n",
    "                   ,levels=levs,colors=['k'],linewidths=0.8)\n",
    "ax[1].set_xticks(np.linspace(0,48,13));ax[1].set_xticklabels([])\n",
    "ax[1].set_ylim([1000,200]);ax[1].vlines(x=24,ymin=200,ymax=1000,linewidth=0.8)\n",
    "#ax[1].set_xlabel('hour',fontsize=12)\n",
    "ax[1].set_ylabel('Pressure [hPa]',fontsize=14);ax[1].set_yticks([1000,800,600,400,200])\n",
    "cbar2 = plt.colorbar(cf2,ax=ax[1],pad=0.02,shrink=0.8);cc2.clabel(fmt='%1.1f')\n",
    "\n",
    "cf3 = ax[2].pcolor(range(49),lev,1000*vert_ttest(qa_g4).transpose(),vmin=-1.5,vmax=1.5\n",
    "                   ,cmap='RdBu_r')\n",
    "cc3 = ax[2].contour(range(49),lev,1000*vert_ttest(qa_g4).transpose()\n",
    "                   ,levels=levs,colors=['k'],linewidths=0.8)\n",
    "ax[2].set_xticks(np.linspace(0,48,13));ax[2].set_xticklabels(np.linspace(-72,72,13,dtype=int))\n",
    "ax[2].set_ylim([1000,200]);ax[2].vlines(x=24,ymin=200,ymax=1000,linewidth=0.8)\n",
    "ax[2].set_xlabel('hour',fontsize=14)\n",
    "ax[2].set_ylabel('Pressure [hPa]',fontsize=14);ax[2].set_yticks([1000,800,600,400,200])\n",
    "cbar3 = plt.colorbar(cf3,ax=ax[2],pad=0.02,shrink=0.8);cc3.clabel(fmt='%1.1f')\n",
    "\n",
    "ax[0].tick_params(labelsize=13)\n",
    "ax[1].tick_params(labelsize=13)\n",
    "ax[2].tick_params(labelsize=13)\n",
    "plt.tight_layout(h_pad=1.5)\n",
    "\n",
    "props = dict(facecolor='white', alpha=0.5)\n",
    "ax[0].text(0.5,300,'0.0-0.2',fontsize=20,bbox=props)\n",
    "ax[1].text(0.5,300,'0.4-0.6',fontsize=20,bbox=props)\n",
    "ax[2].text(0.5,300,'0.6-0.8',fontsize=20,bbox=props)\n",
    "fig.savefig(fig_dir+'qanomaly_vert.pdf',bbox_inches='tight')"
   ]
  },
  {
   "cell_type": "code",
   "execution_count": null,
   "metadata": {},
   "outputs": [],
   "source": [
    "fig,ax = plt.subplots(3,1,figsize=(10,12))\n",
    "\n",
    "#levs = np.linspace(-1.5,1.5,13)\n",
    "cf1 = ax[0].pcolor(range(49),lev,1e6*vert_ttest(diva_g1).transpose(),vmin=-5,vmax=5\n",
    "                   ,cmap='RdBu_r')\n",
    "cc1 = ax[0].contour(range(49),lev,1e6*vert_ttest(diva_g1).transpose()\n",
    "                   ,levels=[-5,-3,-1,1,3,5],colors=['k'],linewidths=0.8)\n",
    "ax[0].set_ylim([1000,200]);ax[0].vlines(x=24,ymin=200,ymax=1000)\n",
    "ax[0].set_xticks(np.linspace(0,48,13));ax[0].set_xticklabels([])\n",
    "#ax[0].set_xlabel('Lag time [hr]',fontsize=12)\n",
    "ax[0].set_ylabel('Pressure [hPa]',fontsize=14);ax[0].set_yticks([1000,800,600,400,200])\n",
    "cbar1 = plt.colorbar(cf1,ax=ax[0],pad=0.02,shrink=0.8);cc1.clabel(fmt='%1.1f')\n",
    "ax[0].set_title('Div anomaly [s$^{-1}$] x 10$^{-6}$',fontsize=15,fontweight='bold')\n",
    "\n",
    "cf2 = ax[1].pcolor(range(49),lev,1e6*vert_ttest(diva_g3).transpose(),vmin=-5,vmax=5\n",
    "                   ,cmap='RdBu_r')\n",
    "cc2 = ax[1].contour(range(49),lev,1e6*vert_ttest(diva_g3).transpose()\n",
    "                   ,levels=[-5,-3,-1,1,3,5],colors=['k'],linewidths=0.8)\n",
    "ax[1].set_ylim([1000,200]);ax[1].vlines(x=24,ymin=200,ymax=1000)\n",
    "ax[1].set_xticks(np.linspace(0,48,13));ax[1].set_xticklabels([])\n",
    "#ax[1].set_xlabel('Lag time [hr]',fontsize=12)\n",
    "ax[1].set_ylabel('Pressure [hPa]',fontsize=14);ax[1].set_yticks([1000,800,600,400,200])\n",
    "cbar2 = plt.colorbar(cf2,ax=ax[1],pad=0.02,shrink=0.8);cc2.clabel(fmt='%1.1f')\n",
    "\n",
    "cf3 = ax[2].pcolor(range(49),lev,1e6*vert_ttest(diva_g4).transpose(),vmin=-5,vmax=5\n",
    "                   ,cmap='RdBu_r')\n",
    "cc3 = ax[2].contour(range(49),lev,1e6*vert_ttest(diva_g4).transpose()\n",
    "                   ,levels=[-5,-3,-1,1,3,5],colors=['k'],linewidths=0.8)\n",
    "ax[2].set_ylim([1000,200]);ax[2].vlines(x=24,ymin=200,ymax=1000)\n",
    "ax[2].set_xticks(np.linspace(0,48,13));ax[2].set_xticklabels(np.linspace(-72,72,13,dtype=int))\n",
    "ax[2].set_xlabel('hour',fontsize=14)\n",
    "ax[2].set_ylabel('Pressure [hPa]',fontsize=14);ax[2].set_yticks([1000,800,600,400,200])\n",
    "cbar3 = plt.colorbar(cf3,ax=ax[2],pad=0.02);cc3.clabel(fmt='%1.1f')\n",
    "\n",
    "ax[0].tick_params(labelsize=13)\n",
    "ax[1].tick_params(labelsize=13)\n",
    "ax[2].tick_params(labelsize=13)\n",
    "plt.tight_layout(h_pad=1.5)\n",
    "\n",
    "props = dict(facecolor='white', alpha=0.5)\n",
    "ax[0].text(0.5,300,'0.0-0.2',fontsize=20,bbox=props)\n",
    "ax[1].text(0.5,300,'0.4-0.6',fontsize=20,bbox=props)\n",
    "ax[2].text(0.5,300,'0.6-0.8',fontsize=20,bbox=props)\n",
    "fig.savefig(fig_dir+'Divanomaly_vert.pdf',bbox_inches='tight')"
   ]
  },
  {
   "cell_type": "code",
   "execution_count": null,
   "metadata": {},
   "outputs": [],
   "source": [
    "def get_omegabg(time_cent,lat_cent,lon_cent,omega_sm):\n",
    "    yr = time_cent.year\n",
    "    mn = time_cent.month\n",
    "    os.chdir('/w2-data/willytsai/omega_3hr_monthly/')\n",
    "    if mn < 10:\n",
    "        file = glob('*'+str(yr)+'0'+str(mn)+'*')\n",
    "    else:\n",
    "        file = glob('*'+str(yr)+str(mn)+'*')\n",
    "    data = xr.open_dataset(file[0])\n",
    "    omega_bg = data.OMEGA.sel(lat=slice(lat_cent-7.5,lat_cent+7.5),\n",
    "                             lon=slice(lon_cent-7.5,lon_cent+7.5))\n",
    "    \n",
    "    data_sub = subset_MERRA2(MERRA2_dir+'inst_2d_hourly'\n",
    "                     ,time_cent,lat_cent,lon_cent,3,lat_inc=7.5,lon_inc=7.5)\n",
    "    cwv_sm = data_sub.TQV.resample(time='3H').nearest()\n",
    "    \n",
    "    # along direction to drier region\n",
    "    cwv_north = cwv_sm.sel(lat=slice(lat_cent,lat_cent+7.5))\n",
    "    cwv_south = cwv_sm.sel(lat=slice(lat_cent-7.5,lat_cent))\n",
    "    cwvN_mn = np.nanmean(cwv_north)\n",
    "    cwvS_mn = np.nanmean(cwv_south)\n",
    "    \n",
    "    omega_cross = np.zeros((42,31))\n",
    "    if cwvN_mn < cwvS_mn: # on average north is drier\n",
    "        for n in range(49):\n",
    "            omega_cross = omega_sm[n,:,:]-np.nanmean(omega_bg,axis=3) # zonal averaged\n",
    "    else:\n",
    "        for n in range(49):\n",
    "            omega_cross = np.fliplr(omega_sm-np.nanmean(omega_bg,axis=3))\n",
    "    \n",
    "    return omega_cross.squeeze()"
   ]
  },
  {
   "cell_type": "code",
   "execution_count": null,
   "metadata": {},
   "outputs": [],
   "source": [
    "os.chdir('/data/willytsai/ISCCP')"
   ]
  },
  {
   "cell_type": "code",
   "execution_count": null,
   "metadata": {},
   "outputs": [],
   "source": [
    "# rh_cross_all = np.load('rh_crosssect_all_lat_5deg.mat.npy')\n",
    "# rh_cross_all = rh_cross_all[idx_rm,:,:,:]"
   ]
  },
  {
   "cell_type": "code",
   "execution_count": null,
   "metadata": {},
   "outputs": [],
   "source": [
    "# rh_r1 = np.nanmean(rh_cross_all[idx_G1,:,:],axis=0)\n",
    "# rh_r2 = np.nanmean(rh_cross_all[idx_G2,:,:],axis=0)\n",
    "# rh_r3 = np.nanmean(rh_cross_all[idx_G3,:,:],axis=0)\n",
    "# rh_r4 = np.nanmean(rh_cross_all[idx_G4,:,:],axis=0)\n",
    "# rh_r5 = np.nanmean(rh_cross_all[idx_G5,:,:],axis=0)"
   ]
  },
  {
   "cell_type": "markdown",
   "metadata": {},
   "source": [
    "### qvflux cross-section"
   ]
  },
  {
   "cell_type": "code",
   "execution_count": null,
   "metadata": {},
   "outputs": [],
   "source": [
    "omega_cross_all = np.load('omega_crosssect_all_lat_5deg.mat.npy')\n",
    "omega_cross_all = omega_cross_all[idx_rm,:,:,:]"
   ]
  },
  {
   "cell_type": "code",
   "execution_count": null,
   "metadata": {},
   "outputs": [],
   "source": [
    "v_cross_all = np.load('v_crosssect_all_lat_5deg.mat.npy')\n",
    "v_cross_all = v_cross_all[idx_rm,:,:,:]\n",
    "\n",
    "cwv_cross_all = np.load('cwv_crosssect_all_lat_5deg.mat.npy')\n",
    "cwv_cross_all = cwv_cross_all[idx_rm,:,:]"
   ]
  },
  {
   "cell_type": "code",
   "execution_count": null,
   "metadata": {},
   "outputs": [],
   "source": [
    "cwv_r1 = np.nanmean(cwv_cross_all[idx_G1,:,:],axis=0)\n",
    "cwv_r2 = np.nanmean(cwv_cross_all[idx_G2,:,:],axis=0)\n",
    "cwv_r3 = np.nanmean(cwv_cross_all[idx_G3,:,:],axis=0)\n",
    "cwv_r4 = np.nanmean(cwv_cross_all[idx_G4,:,:],axis=0)\n",
    "cwv_r5 = np.nanmean(cwv_cross_all[idx_G5,:,:],axis=0)"
   ]
  },
  {
   "cell_type": "code",
   "execution_count": null,
   "metadata": {},
   "outputs": [],
   "source": [
    "v_r1 = np.nanmean(v_cross_all[idx_G1,:,:,:],axis=0)\n",
    "v_r2 = np.nanmean(v_cross_all[idx_G2,:,:,:],axis=0)\n",
    "v_r3 = np.nanmean(v_cross_all[idx_G3,:,:,:],axis=0)\n",
    "v_r4 = np.nanmean(v_cross_all[idx_G4,:,:,:],axis=0)\n",
    "v_r5 = np.nanmean(v_cross_all[idx_G5,:,:,:],axis=0)"
   ]
  },
  {
   "cell_type": "code",
   "execution_count": null,
   "metadata": {},
   "outputs": [],
   "source": [
    "omega_r1 = np.nanmean(omega_cross_all[idx_G1,:,:,:],axis=0)\n",
    "omega_r2 = np.nanmean(omega_cross_all[idx_G2,:,:,:],axis=0)\n",
    "omega_r3 = np.nanmean(omega_cross_all[idx_G3,:,:,:],axis=0)\n",
    "omega_r4 = np.nanmean(omega_cross_all[idx_G4,:,:,:],axis=0)\n",
    "omega_r5 = np.nanmean(omega_cross_all[idx_G5,:,:,:],axis=0)"
   ]
  },
  {
   "cell_type": "code",
   "execution_count": null,
   "metadata": {},
   "outputs": [],
   "source": [
    "qvflx_radius_all = np.load('qvflux_crosssect_all_lat_5deg.mat.npy')\n",
    "qvflx_radius_all = qvflx_radius_all[idx_rm,:,:,:]\n",
    "#div_radius_all = np.load('div_crosssect_all_5deg.mat.npy')\n",
    "# qadv_radius_all = np.load('qadv_crosssect_all_lat_5deg.mat.npy')\n",
    "# qadv_radius_all = qadv_radius_all[idx_rm,:,:,:]"
   ]
  },
  {
   "cell_type": "code",
   "execution_count": null,
   "metadata": {},
   "outputs": [],
   "source": [
    "os.chdir('/data/willytsai/ISCCP')\n",
    "qvflx_cross_all = np.load('qvflux_crosssect_all_uv_5deg.mat.npy')\n",
    "qvflx_cross_all = qvflx_cross_all[idx_rm,:,:,:]"
   ]
  },
  {
   "cell_type": "code",
   "execution_count": null,
   "metadata": {},
   "outputs": [],
   "source": [
    "qvflx_r1 = np.nanmean(qvflx_radius_all[idx_G1,:,:],axis=0)\n",
    "qvflx_r2 = np.nanmean(qvflx_radius_all[idx_G2,:,:],axis=0)\n",
    "qvflx_r3 = np.nanmean(qvflx_radius_all[idx_G3,:,:],axis=0)\n",
    "qvflx_r4 = np.nanmean(qvflx_radius_all[idx_G4,:,:],axis=0)\n",
    "qvflx_r5 = np.nanmean(qvflx_radius_all[idx_G5,:,:],axis=0)"
   ]
  },
  {
   "cell_type": "code",
   "execution_count": null,
   "metadata": {},
   "outputs": [],
   "source": [
    "qvflx_r1a = np.nanmean(qvflx_cross_all[idx_G1,:,:],axis=0)\n",
    "qvflx_r2a = np.nanmean(qvflx_cross_all[idx_G2,:,:],axis=0)\n",
    "qvflx_r3a = np.nanmean(qvflx_cross_all[idx_G3,:,:],axis=0)\n",
    "qvflx_r4a = np.nanmean(qvflx_cross_all[idx_G4,:,:],axis=0)\n",
    "qvflx_r5a = np.nanmean(qvflx_cross_all[idx_G5,:,:],axis=0)"
   ]
  },
  {
   "cell_type": "code",
   "execution_count": null,
   "metadata": {},
   "outputs": [],
   "source": [
    "class MidpointNormalize(Normalize):\n",
    "    \"\"\"\n",
    "    Normalise the colorbar so that diverging bars work there way either side from a prescribed midpoint value)\n",
    "\n",
    "    e.g. im=ax1.imshow(array, norm=MidpointNormalize(midpoint=0.,vmin=-100, vmax=100))\n",
    "    \"\"\"\n",
    "    def __init__(self, vmin=None, vmax=None, midpoint=None, clip=False):\n",
    "        self.midpoint = midpoint\n",
    "        Normalize.__init__(self, vmin, vmax, clip)\n",
    "\n",
    "    def __call__(self, value, clip=None):\n",
    "    # I'm ignoring masked values and all kinds of edge cases to make a\n",
    "    # simple example...\n",
    "        x, y = [self.vmin, self.midpoint, self.vmax], [0, 0.5, 1]\n",
    "        return np.ma.masked_array(np.interp(value, x, y), np.isnan(value))"
   ]
  },
  {
   "cell_type": "code",
   "execution_count": null,
   "metadata": {},
   "outputs": [],
   "source": [
    "cmap_cus = ListedColormap(['darkred','firebrick','red','darkorange','orange','peachpuff','lemonchiffon',\n",
    "                           'yellow','greenyellow','mediumseagreen','green','royalblue','white',\n",
    "                          'whitesmoke','lightgrey','darkgrey','grey','dimgrey','dimgrey','dimgrey'])"
   ]
  },
  {
   "cell_type": "code",
   "execution_count": null,
   "metadata": {},
   "outputs": [],
   "source": [
    "radius_bin = np.linspace(-750,750,31)\n",
    "radius_bin2 = np.linspace(0,750,21)"
   ]
  },
  {
   "cell_type": "code",
   "execution_count": null,
   "metadata": {
    "scrolled": true
   },
   "outputs": [],
   "source": [
    "# tt = 22\n",
    "# t_stats = ttest_ind(omega_cross_all[idx_G5,tt,:,:],0*omega_cross_all[idx_G5,tt,:,:],axis=0)\n",
    "# qv1pval = t_stats.pvalue\n",
    "# test1 = np.copy(rh_r5[tt,:,:])\n",
    "# test1[qv1pval>0.05] = np.nan # significance map\n",
    "\n",
    "# plt.contourf(radius_bin[:],lev,rh_r5[24,:,:],cmap='BrBG',levels=np.linspace(0.4,1,13))\n",
    "# #            clim=(-0.5, 1.5),norm=MidpointNormalize(midpoint=0,vmin=-0.5, vmax=1.5))\n",
    "# plt.ylim([1000,200])\n",
    "# plt.colorbar()\n",
    "# # plt.contour(radius_bin[:-1],lev,-test1[:,:].T*1e7\n",
    "# #             ,levels=[-0.4,-0.2,0.2,0.4,0.6,0.8,1],colors=['k'],linewidths=1)\n",
    "# plt.grid(linestyle=':')"
   ]
  },
  {
   "cell_type": "code",
   "execution_count": null,
   "metadata": {},
   "outputs": [],
   "source": [
    "def crosssect_vars_plot(qvflx,v,omega,cwv,group_id,t = [20,24,28]):\n",
    "    \n",
    "    fig,ax = plt.subplots(1,len(t),figsize=(15,2.9))\n",
    "    levs = np.linspace(-15,35,13)*1e-4\n",
    "    \n",
    "    for n,tt in enumerate(t):\n",
    "        cf1=ax[n].contourf(radius_bin[:],lev,-qvflx[tt,:,:]*86400,cmap='BrBG',levels = levs,\n",
    "               clim=(-15e-4, 35e-4),norm=MidpointNormalize(midpoint=0,vmin=-15e-4, vmax=35e-4),\n",
    "               extend='both')\n",
    "        cf1.cmap.set_under('darkslategrey')\n",
    "        \n",
    "        ax[n].quiver(radius_bin[::2],lev,v[tt,:,::2],20*omega[tt,:,::2],zorder=2)\n",
    "        #ax[n].contour(radius_bin[:],lev,-omega[tt,:,:],levels=[0.01,0.03,0.05],colors=['m'])\n",
    "        ax2 = ax[n].twinx();ax2.tick_params(axis='y', labelcolor='b')\n",
    "        ax2.plot(radius_bin[:],cwv[tt,:],'white',linewidth=3)\n",
    "        ax[n].set_ylim([1000,200]);ax2.set_ylim([35,60]);ax2.set_yticks([])\n",
    "        ax[n].set_xlim([-700,700]);ax[n].set_yticks([])\n",
    "        if n ==0: \n",
    "            ax[n].set_yticks([1000,900,800,700,600,500,400,300,200])\n",
    "            ax[n].set_ylabel('Pressure [hPa]',fontsize=12)\n",
    "        if n == 2:\n",
    "            ax2.set_yticks([35,40,45,50,55,60]);\n",
    "            ax2.set_ylabel('CWV [mm]',fontsize=12,color='b')\n",
    "        ax[n].vlines(x=-250,ymin=200,ymax=1000,linewidth=2,color='grey',zorder=1)\n",
    "        ax[n].vlines(x=250,ymin=200,ymax=1000,linewidth=2,color='grey',zorder=1)\n",
    "        #ax[n].set_xlabel('distance [km]',fontsize=12)\n",
    "        \n",
    "        #if n == 0: ax[n].set_title('Time = -12 hr',fontsize=14,fontweight='bold')\n",
    "        #if n == 1: ax[n].set_title('Time = 0 hr',fontsize=14,fontweight='bold')\n",
    "        #if n == 2: ax[n].set_title('Time = +12 hr',fontsize=14,fontweight='bold')\n",
    "            \n",
    "    plt.tight_layout(w_pad=0.06)\n",
    "    cbar1 = plt.colorbar(cf1,ax=ax,pad=0.06,shrink=0.8); cbar1.set_label('QADV [day$^{-1}$]')\n",
    "    cbar1.ax.yaxis.set_offset_position('right')\n",
    "\n",
    "    props = dict(facecolor='white', alpha=0.5)\n",
    "    ax[0].text(-650,300,group_id,fontsize=15,bbox=props)\n",
    "    return fig"
   ]
  },
  {
   "cell_type": "code",
   "execution_count": null,
   "metadata": {},
   "outputs": [],
   "source": [
    "fig = crosssect_vars_plot(qvflx_r1a,v_r1,-omega_r1,cwv_r1,'0-0.2',t = [20,24,28])\n",
    "#fig.savefig(fig_dir+'vertcross_mflux_G1.pdf',bbox_inches='tight')"
   ]
  },
  {
   "cell_type": "code",
   "execution_count": null,
   "metadata": {},
   "outputs": [],
   "source": [
    "fig =crosssect_vars_plot(qvflx_r3a,v_r3,-omega_r3,cwv_r3,'0.4-0.6',t = [20,24,28])\n",
    "#fig.savefig(fig_dir+'vertcross_mflux_G3.pdf',bbox_inches='tight')"
   ]
  },
  {
   "cell_type": "code",
   "execution_count": null,
   "metadata": {},
   "outputs": [],
   "source": [
    "fig = crosssect_vars_plot(qvflx_r4a,v_r4,-omega_r4,cwv_r4,'0.6-0.8',t = [20,24,28])\n",
    "#fig.savefig(fig_dir+'vertcross_mflux_G4.pdf',bbox_inches='tight')"
   ]
  },
  {
   "cell_type": "markdown",
   "metadata": {},
   "source": [
    "### Omega profiles "
   ]
  },
  {
   "cell_type": "code",
   "execution_count": null,
   "metadata": {},
   "outputs": [],
   "source": [
    "precM2_allre = np.copy(24*3600*precM2_all[:,23]) #[mm/day]\n",
    "precM2_allre[24*precM2_allre < 5] = np.nan # remove unqualified events < 5mm/day"
   ]
  },
  {
   "cell_type": "code",
   "execution_count": null,
   "metadata": {},
   "outputs": [],
   "source": [
    "cf_bins = np.linspace(0,1,6)\n",
    "omega_com = np.zeros((len(cf_bins)-1,42))\n",
    "omega_comstd = np.copy(omega_com)\n",
    "\n",
    "omega_IND = np.copy(omega_com); omega_IND_std = np.copy(omega_com)\n",
    "omega_WPC = np.copy(omega_com); omega_WPC_std = np.copy(omega_com)\n",
    "omega_EPC = np.copy(omega_com); omega_EPC_std = np.copy(omega_com)\n",
    "\n",
    "for n in range(len(cf_bins)-1):\n",
    "    idx = np.where(np.logical_and(cldfrac_all[:,24]>=cf_bins[n],cldfrac_all[:,24]<cf_bins[n+1]))[0]\n",
    "    prec_scale = np.tile((precM2_allre[idx]),(42,1)).swapaxes(0,1)\n",
    "    omega_com[n,:] = np.nanmean(omega_all[idx,24,:],axis=0)/np.nanmean(prec_scale,axis=0)\n",
    "    #omega_comstd[n,:] = np.nanstd(omega_all[idx,24,:]/prec_scale,axis=0)/np.sqrt(len(idx))\n",
    "    if n == 4: \n",
    "        print((prec_scale))\n",
    "    \n",
    "for n in range(len(cf_bins)-1):\n",
    "    idx = np.where(np.logical_and(cldfrac_IND[:,24]>=cf_bins[n],cldfrac_IND[:,24]<cf_bins[n+1]))[0]\n",
    "    prec_scale = np.tile((precM2_allre[idx_IND[idx]]),(42,1)).swapaxes(0,1)\n",
    "    omega_IND[n,:] = np.nanmean(omega_all[idx_IND[idx],24,:],axis=0)/np.nanmean(prec_scale,axis=0)\n",
    "    #omega_IND_std[n] = np.nanstd(omega_all[idx_IND[idx],24,:]/prec_scale,axis=0)/np.sqrt(len(idx))\n",
    "for n in range(len(cf_bins)-1):\n",
    "    idx = np.where(np.logical_and(cldfrac_WPC[:,24]>=cf_bins[n],cldfrac_WPC[:,24]<cf_bins[n+1]))[0]\n",
    "    prec_scale = np.tile((precM2_allre[idx_WPC[idx]]),(42,1)).swapaxes(0,1)\n",
    "    omega_WPC[n,:] = np.nanmean(omega_all[idx_WPC[idx],24,:],axis=0)/np.nanmean(prec_scale,axis=0)\n",
    "    #omega_WPC_std[n,:] = np.nanstd(omega_all[idx_WPC[idx],24,:]/prec_scale,axis=0)/np.sqrt(len(idx))\n",
    "for n in range(len(cf_bins)-1):\n",
    "    idx = np.where(np.logical_and(cldfrac_EPC[:,24]>=cf_bins[n],cldfrac_EPC[:,24]<cf_bins[n+1]))[0]\n",
    "    prec_scale = np.tile((precM2_allre[idx_EPC[idx]]),(42,1)).swapaxes(0,1)\n",
    "    omega_EPC[n,:] = np.nanmean(omega_all[idx_EPC[idx],24,:],axis=0)/np.nanmean(prec_scale,axis=0)\n",
    "    #omega_EPC_std[n,:] = np.nanstd(omega_all[idx_EPC[idx],24,:]/prec_scale,axis=0)/np.sqrt(len(idx))"
   ]
  },
  {
   "cell_type": "code",
   "execution_count": null,
   "metadata": {},
   "outputs": [],
   "source": [
    "os.chdir('/data/willytsai/ISCCP/')\n",
    "omega_dynamo = np.load('omega_grouped_Dynamo_rescale.mat.npy')/3600*100 # DYNAMO scaled omega [pa/s]/(mm/day)\n",
    "data = xr.open_dataset('dynamo_ssa/dynamo_nsa_v3a.nc')\n",
    "lev_dyn = data.T.level"
   ]
  },
  {
   "cell_type": "code",
   "execution_count": null,
   "metadata": {},
   "outputs": [],
   "source": [
    "title_txt = ['0-0.2','0.2-0.4','0.4-0.6','0.6-0.8','0.8-1']\n",
    "fig,ax = plt.subplots(1,5,figsize=(15,4))\n",
    "for n in range(5):\n",
    "    ax[n].plot(omega_com[n,:],lev,'-k',linewidth=2.5,alpha=0.7) \n",
    "    ax[n].plot(omega_IND[n,:],lev,'-b',linewidth=2.5,alpha=0.7)\n",
    "    ax[n].plot(omega_WPC[n,:],lev,'-g',linewidth=2.5,alpha=0.7)\n",
    "    ax[n].plot(omega_EPC[n,:],lev,'-',color='orange',linewidth=2.5,alpha=0.7)\n",
    "    ax[n].plot(omega_dynamo[n,:],lev_dyn,'x',color='royalblue')\n",
    "    ax[n].set_yticks([1000,800,600,400,200]);ax[n].set_yticklabels([])\n",
    "    if n == 0:\n",
    "        ax[n].set_yticks([1000,800,600,400,200]);ax[n].set_yticklabels([1000,800,600,400,200])\n",
    "        ax[n].set_ylabel('Pressure [hPa]',fontsize=12)\n",
    "        ax[n].legend(['All','IND','WPC','EPC','DYN'],loc=2)\n",
    "    #ax[n].set_xticks([-0.4,-0.3,-0.2,-0.1,0])\n",
    "    ax[n].set_ylim([1000,100]);ax[n].set_xlim([-0.012,0.005])\n",
    "    ax[n].grid(linestyle=':')\n",
    "    ax[n].set_xlabel('[Pa s$^{-1}$] / [mm/day]',fontsize=12)\n",
    "    ax[n].set_title('CC = '+title_txt[n],fontsize=14)\n",
    "    ax[n].vlines(x=0,ymin=1000,ymax=100,linewidth=1,color='grey')\n",
    "    \n",
    "plt.tight_layout(w_pad=0.08)"
   ]
  },
  {
   "cell_type": "code",
   "execution_count": null,
   "metadata": {},
   "outputs": [],
   "source": [
    "#fig.savefig(fig_dir+'omega_grouped_vert_M2scaled.pdf',bbox_inches='tight')"
   ]
  },
  {
   "cell_type": "code",
   "execution_count": null,
   "metadata": {},
   "outputs": [],
   "source": [
    "# persistency of mid-level moisture convergence \n",
    "# flux convergence at 600hpa binned by cloud coverage, and differnt oceanic regions\n",
    "cf_bins = np.linspace(0,1,21)\n",
    "qvflux_600h = np.zeros((len(cf_bins)-1,49))\n",
    "qvflux_600hstd = np.copy(qvflux_600h)\n",
    "\n",
    "qvflux_600h_IND = np.copy(qvflux_600h); qvflux_600h_INDstd = np.copy(qvflux_600h)\n",
    "qvflux_600h_WPC = np.copy(qvflux_600h); qvflux_600h_WPCstd = np.copy(qvflux_600h)\n",
    "qvflux_600h_EPC = np.copy(qvflux_600h); qvflux_600h_EPCstd = np.copy(qvflux_600h)\n",
    "\n",
    "for n in range(len(cf_bins)-1):\n",
    "    idx = np.where(np.logical_and(cldfrac_all[:,24]>=cf_bins[n],cldfrac_all[:,24]<cf_bins[n+1]))[0]\n",
    "    qvflux_600h[n,:] = np.nanmean(qvflux_all[idx,:,14],axis=(0))\n",
    "    qvflux_600hstd[n,:] = np.nanstd(qvflux_all[idx,:,14],axis=(0))/np.sqrt(len(idx))\n",
    "    \n",
    "for n in range(len(cf_bins)-1):\n",
    "    idx = np.where(np.logical_and(cldfrac_IND[:,24]>=cf_bins[n],cldfrac_IND[:,24]<cf_bins[n+1]))[0]\n",
    "    qvflux_600h_IND[n,:] = np.nanmean(qvflux_all[idx_IND[idx],:,14],axis=(0))\n",
    "    qvflux_600h_INDstd[n,:] = np.nanstd(qvflux_all[idx_IND[idx],:,14],axis=(0))/np.sqrt(len(idx))\n",
    "for n in range(len(cf_bins)-1):\n",
    "    idx = np.where(np.logical_and(cldfrac_WPC[:,24]>=cf_bins[n],cldfrac_WPC[:,24]<cf_bins[n+1]))[0]\n",
    "    qvflux_600h_WPC[n,:] = np.nanmean(qvflux_all[idx_WPC[idx],:,14],axis=(0))\n",
    "    qvflux_600h_WPCstd[n,:] = np.nanstd(qvflux_all[idx_WPC[idx],:,14],axis=(0))/np.sqrt(len(idx))\n",
    "for n in range(len(cf_bins)-1):\n",
    "    idx = np.where(np.logical_and(cldfrac_EPC[:,24]>=cf_bins[n],cldfrac_EPC[:,24]<cf_bins[n+1]))[0]\n",
    "    qvflux_600h_EPC[n,:] = np.nanmean(qvflux_all[idx_EPC[idx],:,14],axis=(0))\n",
    "    qvflux_600h_EPCstd[n,:] = np.nanstd(qvflux_all[idx_EPC[idx],:,14],axis=(0))/np.sqrt(len(idx))"
   ]
  },
  {
   "cell_type": "code",
   "execution_count": null,
   "metadata": {},
   "outputs": [],
   "source": [
    "fig = plt.figure(figsize=(6,4))\n",
    "plt.plot(cf_bins[1:]-0.025,86400*-qvflux_600h[:,24],'k')\n",
    "plt.fill_between(cf_bins[1:]-0.025,86400*(-qvflux_600h[:,24]+qvflux_600hstd[:,24]),86400*-qvflux_600h[:,24],color='lightgrey')\n",
    "plt.fill_between(cf_bins[1:]-0.025,86400*(-qvflux_600h[:,24]-qvflux_600hstd[:,24]),86400*-qvflux_600h[:,24],color='lightgrey')\n",
    "\n",
    "plt.plot(cf_bins[1:]-0.025,86400*-qvflux_600h_IND[:,24],'b')\n",
    "plt.fill_between(cf_bins[1:]-0.025,86400*(-qvflux_600h_IND[:,24]+qvflux_600h_INDstd[:,24]),86400*-qvflux_600h_IND[:,24],color='lightgrey')\n",
    "plt.fill_between(cf_bins[1:]-0.025,86400*(-qvflux_600h_IND[:,24]-qvflux_600h_INDstd[:,24]),86400*-qvflux_600h_IND[:,24],color='lightgrey')\n",
    "\n",
    "plt.plot(cf_bins[1:]-0.025,86400*-qvflux_600h_WPC[:,24],'g')\n",
    "plt.fill_between(cf_bins[1:]-0.025,86400*(-qvflux_600h_WPC[:,24]+qvflux_600h_WPCstd[:,24]),86400*-qvflux_600h_WPC[:,24],color='lightgrey')\n",
    "plt.fill_between(cf_bins[1:]-0.025,86400*(-qvflux_600h_WPC[:,24]-qvflux_600h_WPCstd[:,24]),86400*-qvflux_600h_WPC[:,24],color='lightgrey')\n",
    "\n",
    "plt.plot(cf_bins[1:]-0.025,86400*-qvflux_600h_EPC[:,24],color='orange')\n",
    "plt.fill_between(cf_bins[1:]-0.025,86400*(-qvflux_600h_EPC[:,24]+qvflux_600h_EPCstd[:,24]),86400*-qvflux_600h_EPC[:,24],color='lightgrey')\n",
    "plt.fill_between(cf_bins[1:]-0.025,86400*(-qvflux_600h_EPC[:,24]-qvflux_600h_EPCstd[:,24]),86400*-qvflux_600h_EPC[:,24],color='lightgrey')\n",
    "\n",
    "plt.hlines(y=0,xmin=0,xmax=1,linewidth=1)\n",
    "plt.xlabel('Cloud coverage',fontsize=12); plt.ylabel('Mflux Conv. [day$^-1$]',fontsize=12)\n",
    "plt.xlim([0,1])"
   ]
  },
  {
   "cell_type": "code",
   "execution_count": null,
   "metadata": {},
   "outputs": [],
   "source": [
    "Amp = np.zeros((qvflux_600h.shape[0],49))\n",
    "for n in range(20):\n",
    "    Amp[n,:] = -qvflux_600h[n,:]/-qvflux_600h[n,24] # factor\n",
    "\n",
    "e_fold = np.zeros(len(Amp))    \n",
    "for n in range(20):\n",
    "    idx = np.where(Amp[n,24:]<1/np.e)[0]\n",
    "    try:\n",
    "        e_fold[n] = idx[0]\n",
    "    except:\n",
    "        e_fold[n] = np.nan\n",
    "\n",
    "for n in range(10,20):\n",
    "    plt.plot(np.linspace(-72,72,49),Amp[n,:])\n",
    "plt.legend(['1','2','3','4','5','6','7','8','9','10'])\n",
    "plt.xlim([0,72])"
   ]
  },
  {
   "cell_type": "code",
   "execution_count": null,
   "metadata": {},
   "outputs": [],
   "source": [
    "plt.plot(np.linspace(0.025,0.975,20),stamt_com,'k')\n",
    "plt.fill_between(np.linspace(0.025,0.975,20),stamt_com+stamt_comstd,stamt_com,\n",
    "                color='lightgrey',alpha=0.4)\n",
    "plt.fill_between(np.linspace(0.025,0.975,20),stamt_com-stamt_comstd,stamt_com,\n",
    "                color='lightgrey',alpha=0.2)\n",
    "\n",
    "plt.plot(np.linspace(0.025,0.975,20),stamt_IND,'b')\n",
    "plt.fill_between(np.linspace(0.025,0.975,20),stamt_IND+stamt_INDstd,stamt_IND,\n",
    "                color='lightgrey',alpha=0.4)\n",
    "plt.fill_between(np.linspace(0.025,0.975,20),stamt_IND-stamt_INDstd,stamt_IND,\n",
    "                color='lightgrey',alpha=0.2)\n",
    "\n",
    "plt.plot(np.linspace(0.025,0.975,20),stamt_WPC,'g')\n",
    "plt.fill_between(np.linspace(0.025,0.975,20),stamt_WPC+stamt_WPCstd,stamt_WPC,\n",
    "                color='lightgrey',alpha=0.4)\n",
    "plt.fill_between(np.linspace(0.025,0.975,20),stamt_WPC-stamt_WPCstd,stamt_WPC,\n",
    "                color='lightgrey',alpha=0.4)\n",
    "\n",
    "plt.plot(np.linspace(0.025,0.975,20),stamt_EPC,color='darkorange')\n",
    "plt.fill_between(np.linspace(0.025,0.975,20),stamt_EPC+stamt_EPCstd,stamt_EPC,\n",
    "                color='lightgrey',alpha=0.4)\n",
    "plt.fill_between(np.linspace(0.025,0.975,20),stamt_EPC-stamt_EPCstd,stamt_EPC,\n",
    "                color='lightgrey',alpha=0.4)\n",
    "\n",
    "plt.xlim([0,1]);plt.ylabel('Cirrus cloud amount',fontsize=12)\n",
    "plt.legend(['All','IND','WPC','EPC']);plt.xlabel('Cloud coverage',fontsize=12)"
   ]
  },
  {
   "cell_type": "code",
   "execution_count": null,
   "metadata": {},
   "outputs": [],
   "source": [
    "fig,ax = plt.subplots(1,1,figsize=(8,5))\n",
    "levs = np.linspace(-1.8,1.8,13)*1e-8\n",
    "cf1=ax.contourf(radius_bin[:],lev,-qvflx_r1[20,:,:],cmap='BrBG',levels = levs,\n",
    "               clim=(-1.8e-8, 1.8e-8),norm=MidpointNormalize(midpoint=0,vmin=-1.8e-8, vmax=1.8e-8))\n",
    "cbar1 = plt.colorbar(cf1,ax=ax,pad=0.08,shrink=0.8); cbar1.set_label('QADV [s$^{-1}$]')\n",
    "ax.quiver(radius_bin[::2],lev,v_r1[20,:,::2],-20*omega_r1[20,:,::2],zorder=2)\n",
    "#ax.contour(radius_bin[:],lev,v_r1[24,:,:],levels=[-0.5,0.5],colors='r',zorder=2)\n",
    "ax2 = ax.twinx();ax2.tick_params(axis='y', labelcolor='b')\n",
    "ax2.plot(radius_bin[:],cwv_cross_all[idx_G1,20,:].mean(axis=0),'white',linewidth=3)\n",
    "ax.set_ylim([1000,200]);ax2.set_ylim([35,60])\n",
    "ax.set_xlim([-700,700])\n",
    "ax.set_xlabel('Distance [km]',fontsize=12);ax.set_ylabel('Pressure [hPa]',fontsize=12)\n",
    "ax2.set_ylabel('CWV [mm]',fontsize=12,color='b')\n",
    "ax.vlines(x=-250,ymin=200,ymax=1000,linewidth=2,color='grey',zorder=1)\n",
    "ax.vlines(x=250,ymin=200,ymax=1000,linewidth=2,color='grey',zorder=1)"
   ]
  },
  {
   "cell_type": "code",
   "execution_count": null,
   "metadata": {},
   "outputs": [],
   "source": [
    "fig,ax = plt.subplots(1,1,figsize=(8,5))\n",
    "levs = np.linspace(-1.8,1.8,13)*1e-8\n",
    "cf1=ax.contourf(radius_bin[:],lev,-qvflx_r1[24,:,:],cmap='BrBG',levels = levs,\n",
    "               clim=(-1.8e-8, 1.8e-8),norm=MidpointNormalize(midpoint=0,vmin=-1.8e-8, vmax=1.8e-8))\n",
    "cbar1 = plt.colorbar(cf1,ax=ax,pad=0.08,shrink=0.8); cbar1.set_label('QADV [s$^{-1}$]')\n",
    "ax.quiver(radius_bin[::2],lev,v_r1[24,:,::2],-20*omega_r1[24,:,::2],zorder=2)\n",
    "#ax.contour(radius_bin[:],lev,v_r1[24,:,:],levels=[-0.5,0.5],colors='r',zorder=2)\n",
    "ax2 = ax.twinx();ax2.tick_params(axis='y', labelcolor='b')\n",
    "ax2.plot(radius_bin[:],cwv_cross_all[idx_G1,24,:].mean(axis=0),'white',linewidth=3)\n",
    "ax.set_ylim([1000,200]);ax2.set_ylim([35,60])\n",
    "ax.set_xlim([-700,700])\n",
    "ax.set_xlabel('Distance [km]',fontsize=12);ax.set_ylabel('Pressure [hPa]',fontsize=12)\n",
    "ax2.set_ylabel('CWV [mm]',fontsize=12,color='b')\n",
    "ax.vlines(x=-250,ymin=200,ymax=1000,linewidth=2,color='grey',zorder=1)\n",
    "ax.vlines(x=250,ymin=200,ymax=1000,linewidth=2,color='grey',zorder=1)\n",
    "\n",
    "#fig.savefig(fig_dir+'QADV_crosssect_G1.pdf',bbox_inches='tight')"
   ]
  },
  {
   "cell_type": "code",
   "execution_count": null,
   "metadata": {},
   "outputs": [],
   "source": [
    "fig,ax = plt.subplots(1,1,figsize=(8,5))\n",
    "levs = np.linspace(-1.8,1.8,13)*1e-8\n",
    "cf1=ax.contourf(radius_bin[:],lev,-qvflx_r4[24,:,:],cmap='BrBG',levels = levs,\n",
    "               clim=(-1.8e-8, 1.8e-8),norm=MidpointNormalize(midpoint=0,vmin=-1.8e-8, vmax=1.8e-8))\n",
    "cbar1 = plt.colorbar(cf1,ax=ax,pad=0.08,shrink=0.8); cbar1.set_label('QADV [s$^{-1}$]')\n",
    "ax.quiver(radius_bin[::2],lev,v_r4[24,:,::2],-20*omega_r4[24,:,::2],zorder=2)\n",
    "ax2 = ax.twinx();ax2.tick_params(axis='y', labelcolor='b')\n",
    "ax2.plot(radius_bin[:],cwv_cross_all[idx_G4,24,:].mean(axis=0),'white',linewidth=3)\n",
    "ax.set_ylim([1000,200]);ax2.set_ylim([35,60])\n",
    "ax.set_xlim([-700,700])\n",
    "ax.set_xlabel('Distance [km]',fontsize=12);ax.set_ylabel('Pressure [hPa]',fontsize=12)\n",
    "ax2.set_ylabel('CWV [mm]',fontsize=12,color='b')\n",
    "ax.vlines(x=-250,ymin=200,ymax=1000,linewidth=2,color='grey',zorder=1)\n",
    "ax.vlines(x=250,ymin=200,ymax=1000,linewidth=2,color='grey',zorder=1)"
   ]
  },
  {
   "cell_type": "markdown",
   "metadata": {},
   "source": [
    "####  successive events after different scale of convection formation"
   ]
  },
  {
   "cell_type": "code",
   "execution_count": null,
   "metadata": {},
   "outputs": [],
   "source": [
    "def var_successive(idx_group,succ_num,var_all):\n",
    "    var_com = np.zeros((len(idx_group),succ_num)) # variable stored\n",
    "    days_com = np.copy(var_com)\n",
    "    for n,idx in enumerate(idx_group):\n",
    "\n",
    "        target_time = time_event[idx]\n",
    "        target_lat = lat_event[idx]\n",
    "        target_lon = lon_event[idx]\n",
    "\n",
    "        idx1 = np.where(lat_event == target_lat)\n",
    "        idx2 = np.where(lon_event == target_lon)\n",
    "        idx_pos = np.intersect1d(idx1,idx2)\n",
    "\n",
    "        for i,idy in enumerate(idx_pos):\n",
    "            if target_time == time_event[idy]:\n",
    "                idx_succ = idx_pos[i:i+succ_num]\n",
    "                var_com[n,:len(idx_succ)] = var_all[idx_succ,24]\n",
    "                for t in range(len(idx_succ)-1):\n",
    "                    days_com[n,:len(idx_succ)] = (time_event[idx_succ[t+1]]-time_event[idx_succ[t]]).days\n",
    "                \n",
    "    return var_com, days_com"
   ]
  },
  {
   "cell_type": "code",
   "execution_count": null,
   "metadata": {},
   "outputs": [],
   "source": [
    "cldfrac_succG1,days_succG1 = var_successive(idx_G1,2,cldfrac_all)\n",
    "cldfrac_succG2,days_succG2 = var_successive(idx_G2,2,cldfrac_all)\n",
    "cldfrac_succG3,days_succG3 = var_successive(idx_G3,2,cldfrac_all)\n",
    "cldfrac_succG4,days_succG4 = var_successive(idx_G4,2,cldfrac_all)\n",
    "cldfrac_succG5,days_succG5 = var_successive(idx_G5,2,cldfrac_all)\n",
    "\n",
    "# plt.plot(np.nanmean(cldfrac_succG1,axis=0),'-or')\n",
    "# plt.plot(np.nanmean(cldfrac_succG2,axis=0),'-og')\n",
    "# plt.plot(np.nanmean(cldfrac_succG3,axis=0),'-ob')\n",
    "# plt.plot(np.nanmean(cldfrac_succG4,axis=0),'-om')\n",
    "# plt.plot(np.nanmean(cldfrac_succG5,axis=0),'-ok')"
   ]
  },
  {
   "cell_type": "code",
   "execution_count": null,
   "metadata": {},
   "outputs": [],
   "source": [
    "days_succG1"
   ]
  },
  {
   "cell_type": "markdown",
   "metadata": {},
   "source": [
    "#### CWV-P relationship"
   ]
  },
  {
   "cell_type": "code",
   "execution_count": null,
   "metadata": {},
   "outputs": [],
   "source": [
    "cldfrac_bin = np.array([0,0.1,0.2,0.5,1]) # mm/day\n",
    "crhcom_bin = np.zeros((len(cldfrac_bin)-1,49))\n",
    "preccom_crh_bin = np.copy(crhcom_bin)\n",
    "num_bin = np.copy(cldfrac_bin)*0\n",
    "\n",
    "for n in range(len(cldfrac_bin)-1):\n",
    "    idx = np.where(np.logical_and(cldfrac_all[:,24]>= cldfrac_bin[n],cldfrac_all[:,24]<cldfrac_bin[n+1]))[0]\n",
    "    crhcom_bin[n,:] = np.nanmean(crh_all[idx,:],axis=0)\n",
    "    preccom_crh_bin[n,:] = np.nanmean(prec_all[idx,:],axis=0)\n",
    "    num_bin[n] = len(idx)"
   ]
  },
  {
   "cell_type": "code",
   "execution_count": null,
   "metadata": {},
   "outputs": [],
   "source": [
    "cldfrac_bin = np.array([0,0.1,0.2,0.5,1]) # mm/day\n",
    "cwvcom_bin = np.zeros((len(cldfrac_bin)-1,49))\n",
    "preccom_cwv_bin = np.copy(cwvcom_bin)\n",
    "num_bin = np.copy(cldfrac_bin)*0\n",
    "\n",
    "for n in range(len(cldfrac_bin)-1):\n",
    "    idx = np.where(np.logical_and(cldfrac_all[:,24]>= cldfrac_bin[n],cldfrac_all[:,24]<cldfrac_bin[n+1]))[0]\n",
    "    cwvcom_bin[n,:] = np.nanmean(cwv_all[idx,:],axis=0)\n",
    "    preccom_cwv_bin[n,:] = np.nanmean(prec_all[idx,:],axis=0)\n",
    "    num_bin[n] = len(idx)"
   ]
  },
  {
   "cell_type": "code",
   "execution_count": null,
   "metadata": {},
   "outputs": [],
   "source": [
    "# SSMI/daily 2018 P-RH relation \n",
    "pr=6.89e-5 # mm/day\n",
    "ad=14.72   \n",
    "\n",
    "crh_range = np.linspace(0.3,0.9,50,dtype='float32')\n",
    "P_est_R2018_all = pr*np.exp(ad*crh_range)/24\n",
    "P_est_B2004_all = np.exp(11.4*(crh_range-0.522))/24"
   ]
  },
  {
   "cell_type": "code",
   "execution_count": null,
   "metadata": {},
   "outputs": [],
   "source": [
    "cwv_array = np.linspace(40,65,25)\n",
    "crh_array = np.linspace(0.5,0.9,25)\n",
    "prec_cwv = np.zeros(len(cwv_array)-1)\n",
    "prec_crh = np.zeros(len(crh_array)-1)\n",
    "\n",
    "for i in range(len(cwv_array)-1):\n",
    "    idx = np.where(np.logical_and(cwv_all.ravel()>=cwv_array[i],cwv_all.ravel()<cwv_array[i+1]))[0]\n",
    "    prec_cwv[i] = np.nanmean(prec_all.ravel()[idx])\n",
    "    \n",
    "for i in range(len(crh_array)-1):\n",
    "    idx = np.where(np.logical_and(crh_all.ravel()>=crh_array[i],crh_all.ravel()<crh_array[i+1]))[0]\n",
    "    prec_crh[i] = np.nanmean(prec_all.ravel()[idx])"
   ]
  },
  {
   "cell_type": "code",
   "execution_count": null,
   "metadata": {},
   "outputs": [],
   "source": [
    "crh_samp = crh_all.ravel()\n",
    "prec_samp = prec_all.ravel()\n",
    "\n",
    "crh_re = crh_samp[np.where(~np.isnan(crh_samp))[0]]\n",
    "prec_re = prec_samp[np.where(~np.isnan(crh_samp))[0]]\n",
    "# remove non-precip \n",
    "prec_re2 = prec_re[np.where(prec_re>0)[0]]\n",
    "crh_re2 = crh_re[np.where(prec_re>0)[0]]\n",
    "\n",
    "c = np.polyfit(crh_re2,np.log(prec_re2),1)\n",
    "\n",
    "prec_clim = np.exp(c[0]*crh_range+c[1])"
   ]
  },
  {
   "cell_type": "code",
   "execution_count": null,
   "metadata": {},
   "outputs": [],
   "source": [
    "fig,ax = plt.subplots(1,2,figsize=(12,6))\n",
    "\n",
    "ax[0].plot(crhcom_bin[0,:],preccom_crh_bin[0,:],'-om',markerfacecolor='None')\n",
    "ax[0].plot(crhcom_bin[1,:],preccom_crh_bin[1,:],'-og',markerfacecolor='None')\n",
    "ax[0].plot(crhcom_bin[2,:],preccom_crh_bin[2,:],'-ob',markerfacecolor='None')\n",
    "ax[0].plot(crhcom_bin[3,:],preccom_crh_bin[3,:],'-oy',markerfacecolor='None')\n",
    "ax[0].plot(crh_array[:-1],prec_crh,'-k',linewidth=2.5)\n",
    "ax[0].set_xlabel('Column relative humidity',fontsize=14)\n",
    "ax[0].set_ylabel('Precipitation [mm/hr]',fontsize=14)\n",
    "ax[0].set_xlim([0.55,0.85]);ax[0].set_ylim([-0.06,2.2])\n",
    "ax[0].legend(['0-0.1','0.1-0.25','0.25-0.5','>0.5','CLIM'])\n",
    "ax[0].grid(linestyle='--')\n",
    "ax[0].tick_params(labelsize=13)\n",
    "\n",
    "ax[1].plot(cwvcom_bin[0,:],preccom_cwv_bin[0,:],'-om',markerfacecolor='None')\n",
    "ax[1].plot(cwvcom_bin[1,:],preccom_cwv_bin[1,:],'-og',markerfacecolor='None')\n",
    "ax[1].plot(cwvcom_bin[2,:],preccom_cwv_bin[2,:],'-ob',markerfacecolor='None')\n",
    "ax[1].plot(cwvcom_bin[3,:],preccom_cwv_bin[3,:],'-oy',markerfacecolor='None')\n",
    "ax[1].plot(cwv_array[:-1],prec_cwv,'-k',linewidth=2.5)\n",
    "ax[1].set_xlabel('Column water vapor [mm]',fontsize=14)\n",
    "ax[1].set_ylabel('Precipitation [mm/hr]',fontsize=14)\n",
    "ax[1].set_xlim([42,60]);plt.ylim([-0.06,2.2])\n",
    "ax[1].legend(['0-0.1','0.1-0.25','0.25-0.5','>0.5','CLIM'])\n",
    "ax[1].grid(linestyle='--')\n",
    "ax[1].tick_params(labelsize=13)"
   ]
  },
  {
   "cell_type": "code",
   "execution_count": null,
   "metadata": {},
   "outputs": [],
   "source": [
    "from scipy.ndimage import gaussian_filter"
   ]
  },
  {
   "cell_type": "markdown",
   "metadata": {},
   "source": [
    "### Omega vertical mode decomposition [Masunaga and L'ecuyer]"
   ]
  },
  {
   "cell_type": "code",
   "execution_count": null,
   "metadata": {},
   "outputs": [],
   "source": [
    "def vertmode_omega(omega_data,omega_bg,fbc_mtx):\n",
    "    'omega_bg: background omega profile'\n",
    "    m_dim = fbc_mtx.shape[0]\n",
    "    t_dim = omega_data.shape[0]\n",
    "    m_time = np.zeros((m_dim,t_dim))\n",
    "    omega_rcst = np.zeros(omega_data.shape) # reconstructed profile by three modes \n",
    "    for t in range(t_dim):\n",
    "        omega_mtx = np.matrix((omega_data[t,:25]-omega_bg[:25]))\n",
    "        m_mtx = (fbc_mtx*fbc_mtx.T).I*(fbc_mtx*omega_mtx.T) # regression coefficient    \n",
    "        m_time[:,t] = m_mtx.A.T\n",
    "        omega_rcst[t,:] = m_mtx.T*fbc_mtx\n",
    "    return m_time, omega_rcst"
   ]
  },
  {
   "cell_type": "code",
   "execution_count": null,
   "metadata": {},
   "outputs": [],
   "source": [
    "# prescribed vertical mode definition\n",
    "ps = 1000\n",
    "ptp = 100\n",
    "p = lev[:25]\n",
    "fbc1 = -np.sin(1*np.pi*(p-ptp)/(ps-ptp)) # prescribed first mode\n",
    "fbc2 = -np.sin(2*np.pi*(p-ptp)/(ps-ptp)) # prescribed second mode \n",
    "fshl = -np.sin(np.pi*(p-800)/(ps-800)); fshl[8:] = 0 # prescribed shallow mode, peak at 900hpa\n",
    "fbc_mtx = np.stack((fbc1,fbc2,fshl),axis=0)\n",
    "fbc_mtx = np.matrix(fbc_mtx)"
   ]
  },
  {
   "cell_type": "code",
   "execution_count": null,
   "metadata": {},
   "outputs": [],
   "source": [
    "fig = plt.figure(figsize=(5,4.5))\n",
    "plt.plot(fbc1,p,'-k',linewidth=2,alpha=0.8)\n",
    "plt.plot(fbc2,p,'--k',linewidth=2,alpha=0.8)\n",
    "plt.plot(fshl,p,':k',linewidth=2,alpha=0.8)\n",
    "plt.ylim([1000,100]);plt.vlines(x=0,ymax=1000,ymin=100,linewidth=0.5)\n",
    "plt.legend(['F$_1$, dc','F$_2$, st','F$_3$, cu'],fontsize=12,frameon=False)\n",
    "plt.ylabel('Pressure [hPa]',fontsize=12)"
   ]
  },
  {
   "cell_type": "code",
   "execution_count": null,
   "metadata": {},
   "outputs": [],
   "source": [
    "#fig.savefig(fig_dir+'Verticalmode_functions.pdf',bbox_inches='tight')"
   ]
  },
  {
   "cell_type": "code",
   "execution_count": null,
   "metadata": {},
   "outputs": [],
   "source": [
    "omega_allmn = np.nanmean(omega_all,axis=0)\n",
    "omega_bg = np.nanmean(np.concatenate((omega_allmn[:4,:25],omega_allmn[-4:,:25])),axis=0)"
   ]
  },
  {
   "cell_type": "code",
   "execution_count": null,
   "metadata": {},
   "outputs": [],
   "source": [
    "em1_time = np.zeros(prec_all.shape)\n",
    "em2_time = np.zeros(prec_all.shape)\n",
    "em3_time = np.zeros(prec_all.shape)\n",
    "\n",
    "for n in range(len(omega_all)):\n",
    "    m_time, omega_rcst = vertmode_omega(omega_all[n,:,:25],omega_bg,fbc_mtx)\n",
    "    em1_time[n,:] = m_time[0,:]\n",
    "    em2_time[n,:] = m_time[1,:]\n",
    "    em3_time[n,:] = m_time[2,:]"
   ]
  },
  {
   "cell_type": "code",
   "execution_count": null,
   "metadata": {},
   "outputs": [],
   "source": [
    "fig,ax = plt.subplots(1,1,figsize=(10,2.5))\n",
    "\n",
    "plt.plot(np.linspace(-72,72,49),np.nanmean(em1_time,axis=0)/100*3600,'-k')\n",
    "plt.plot(np.linspace(-72,72,49),np.nanmean(em2_time,axis=0)/100*3600,'--k')\n",
    "plt.plot(np.linspace(-72,72,49),np.nanmean(em3_time,axis=0)/100*3600,':k')\n",
    "plt.hlines(y=0,xmin=-72,xmax=72,color='k',linewidth=1)\n",
    "plt.xlabel('hour',fontsize=12);plt.ylabel('Coefficient, M [hPa/h]')\n",
    "\n",
    "plt.xlim([-72,72]);plt.ylim([-1,3]);plt.xticks(np.arange(-72,84,12))\n",
    "plt.grid(linestyle=':',color='grey',linewidth=0.2)\n",
    "#fig.savefig(fig_dir+'vertmode_coeff_allevents.pdf',bbox_inches='tight')"
   ]
  },
  {
   "cell_type": "code",
   "execution_count": null,
   "metadata": {},
   "outputs": [],
   "source": [
    "cldamt_call_all[0,:]"
   ]
  },
  {
   "cell_type": "code",
   "execution_count": null,
   "metadata": {},
   "outputs": [],
   "source": [
    "fig,ax = plt.subplots(1,1,figsize=(10,2.5))\n",
    "\n",
    "plt.plot(np.linspace(-72,72,49),np.nanmean(cldamt_call_all,axis=0),'-xk')\n",
    "plt.plot(np.linspace(-72,72,49),np.nanmean(cldamt_cu_all,axis=0),':k')\n",
    "plt.plot(np.linspace(-72,72,49),np.nanmean(cldamt_dc_all,axis=0),'--k')\n",
    "plt.plot(np.linspace(-72,72,49),np.nanmean(cldamt_st_all,axis=0),'-k')\n",
    "plt.hlines(y=0,xmin=-72,xmax=72,color='k',linewidth=1)\n",
    "plt.xlabel('hour',fontsize=12);plt.ylabel('Cloud amount [%]')\n",
    "ax.set_ylim([0,80])\n",
    "plt.xlim([-72,72]);ax2.set_ylim([0,0.3]);plt.xticks(np.arange(-72,84,12))\n",
    "plt.grid(linestyle=':',color='grey',linewidth=0.2)\n",
    "plt.legend(['total','cu','dc','st'],loc=1)"
   ]
  },
  {
   "cell_type": "code",
   "execution_count": null,
   "metadata": {},
   "outputs": [],
   "source": [
    "plt.plot(np.nanmean(cldamt_cu_all,axis=0)/(np.nanmean(cldamt_call_all,axis=0)-np.nanmean(cldamt_dc_all,axis=0)\n",
    "                                           -np.nanmean(cldamt_st_all,axis=0)))"
   ]
  },
  {
   "cell_type": "code",
   "execution_count": null,
   "metadata": {},
   "outputs": [],
   "source": [
    "np.nanmean(cldamt_cu_all/(cldamt_call_all-cldamt_dc_all-cldamt_st_all),axis=0)"
   ]
  },
  {
   "cell_type": "code",
   "execution_count": null,
   "metadata": {},
   "outputs": [],
   "source": [
    "fig,ax = plt.subplots(1,1,figsize=(10,2.5))\n",
    "\n",
    "plt.plot(np.linspace(-72,72,49),np.nanmean(cldamt_dc_all,axis=0),'-k')\n",
    "plt.plot(np.linspace(-72,72,49),np.nanmean(cldamt_st_all,axis=0),'--k')\n",
    "plt.plot(np.linspace(-72,72,49),np.nanmean(cldamt_cu_all,axis=0),':k')\n",
    "plt.hlines(y=0,xmin=-72,xmax=72,color='k',linewidth=1)\n",
    "plt.xlabel('hour',fontsize=12);plt.ylabel('Cloud amount [%]')\n",
    "ax.set_ylim([0,30])\n",
    "\n",
    "ax2 = ax.twinx()\n",
    "ax2.plot(np.linspace(-72,72,49),np.nanmean(cldamt_cu_all,axis=0)/(np.nanmean(cldamt_call_all,axis=0)-np.nanmean(cldamt_dc_all,axis=0)\n",
    "                                           -np.nanmean(cldamt_st_all,axis=0)),'-k',linewidth=0.6)\n",
    "#ax2.plot(np.linspace(-72,72,49),100*np.nanmean(cldamt_cu_all/(cldamt_call_all-cldamt_dc_all-cldamt_st_all)\n",
    "#                                           ,axis=0),'-k',linewidth=0.8)\n",
    "ax2.set_ylabel('Cu fraction',fontsize=12)\n",
    "\n",
    "plt.xlim([-72,72]);ax2.set_ylim([0,0.3]);plt.xticks(np.arange(-72,84,12))\n",
    "plt.grid(linestyle=':',color='grey',linewidth=0.2)\n",
    "#fig.savefig(fig_dir+'vertmode_cldamt_allevents.pdf',bbox_inches='tight')"
   ]
  },
  {
   "cell_type": "code",
   "execution_count": null,
   "metadata": {},
   "outputs": [],
   "source": [
    "em1_g1 = np.nanmean(em1_time[idx_G1,:],axis=0)\n",
    "em2_g1 = np.nanmean(em2_time[idx_G1,:],axis=0)\n",
    "em3_g1 = np.nanmean(em3_time[idx_G1,:],axis=0)\n",
    "\n",
    "fig,ax = plt.subplots(1,1,figsize=(10,2.5))\n",
    "\n",
    "plt.plot(np.linspace(-72,72,49),em1_g1/100*3600,'-k')\n",
    "plt.plot(np.linspace(-72,72,49),em2_g1/100*3600,'--k')\n",
    "plt.plot(np.linspace(-72,72,49),em3_g1/100*3600,':k')\n",
    "plt.hlines(y=0,xmin=-72,xmax=72,color='k',linewidth=1)\n",
    "plt.xlabel('hour',fontsize=12);plt.ylabel('Coefficient, M [hPa/h]')\n",
    "\n",
    "plt.xlim([-72,72]);plt.xticks(np.arange(-72,84,12))\n",
    "plt.grid(linestyle=':',color='grey',linewidth=0.2)"
   ]
  },
  {
   "cell_type": "code",
   "execution_count": null,
   "metadata": {},
   "outputs": [],
   "source": [
    "callamt_g1 = np.nanmean(cldamt_call_all[idx_G1,:],axis=0)\n",
    "cuamt_g1 = np.nanmean(cldamt_cu_all[idx_G1,:],axis=0)\n",
    "stamt_g1 = np.nanmean(cldamt_st_all[idx_G1,:],axis=0)\n",
    "dcamt_g1 = np.nanmean(cldamt_dc_all[idx_G1,:],axis=0)\n",
    "\n",
    "fig,ax = plt.subplots(1,1,figsize=(10,2.5))\n",
    "\n",
    "plt.plot(np.linspace(-72,72,49),callamt_g1,'-xk')\n",
    "plt.plot(np.linspace(-72,72,49),dcamt_g1,'-k')\n",
    "plt.plot(np.linspace(-72,72,49),stamt_g1,'--k')\n",
    "plt.plot(np.linspace(-72,72,49),cuamt_g1,':k')\n",
    "plt.hlines(y=0,xmin=-72,xmax=72,color='k',linewidth=1)\n",
    "plt.xlabel('hour',fontsize=12);plt.ylabel('Cloud amount [%]')\n",
    "\n",
    "plt.xlim([-72,72]);plt.ylim([0,60]);plt.xticks(np.arange(-72,84,12))\n",
    "plt.grid(linestyle=':',color='grey',linewidth=0.2)"
   ]
  },
  {
   "cell_type": "code",
   "execution_count": null,
   "metadata": {},
   "outputs": [],
   "source": [
    "em1_g3 = np.nanmean(em1_time[idx_G3,:],axis=0)\n",
    "em2_g3 = np.nanmean(em2_time[idx_G3,:],axis=0)\n",
    "em3_g3 = np.nanmean(em3_time[idx_G3,:],axis=0)\n",
    "\n",
    "fig,ax = plt.subplots(1,1,figsize=(10,2.5))\n",
    "\n",
    "plt.plot(np.linspace(-72,72,49),em1_g3/100*3600,'-k')\n",
    "plt.plot(np.linspace(-72,72,49),em2_g3/100*3600,'--k')\n",
    "plt.plot(np.linspace(-72,72,49),em3_g3/100*3600,':k')\n",
    "plt.hlines(y=0,xmin=-72,xmax=72,color='k',linewidth=1)\n",
    "plt.xlabel('hour',fontsize=12);plt.ylabel('Coefficient, M [hPa/h]')\n",
    "\n",
    "plt.xlim([-72,72]);plt.xticks(np.arange(-72,84,12))\n",
    "plt.grid(linestyle=':',color='grey',linewidth=0.2)"
   ]
  },
  {
   "cell_type": "code",
   "execution_count": null,
   "metadata": {},
   "outputs": [],
   "source": [
    "cuamt_g3 = np.nanmean(cldamt_cu_all[idx_G3,:],axis=0)\n",
    "stamt_g3 = np.nanmean(cldamt_st_all[idx_G3,:],axis=0)\n",
    "dcamt_g3 = np.nanmean(cldamt_dc_all[idx_G3,:],axis=0)\n",
    "\n",
    "fig,ax = plt.subplots(1,1,figsize=(10,2.5))\n",
    "\n",
    "plt.plot(np.linspace(-72,72,49),dcamt_g3,'-k')\n",
    "plt.plot(np.linspace(-72,72,49),stamt_g3,'--k')\n",
    "plt.plot(np.linspace(-72,72,49),cuamt_g3,':k')\n",
    "plt.hlines(y=0,xmin=-72,xmax=72,color='k',linewidth=1)\n",
    "plt.xlabel('hour',fontsize=12);plt.ylabel('Cloud amount [%]')\n",
    "\n",
    "plt.xlim([-72,72]);plt.ylim([0,50]);plt.xticks(np.arange(-72,84,12))\n",
    "plt.grid(linestyle=':',color='grey',linewidth=0.2)"
   ]
  },
  {
   "cell_type": "code",
   "execution_count": null,
   "metadata": {},
   "outputs": [],
   "source": [
    "em1_g4 = np.nanmean(em1_time[idx_G4,:],axis=0)\n",
    "em2_g4 = np.nanmean(em2_time[idx_G4,:],axis=0)\n",
    "em3_g4 = np.nanmean(em3_time[idx_G4,:],axis=0)\n",
    "\n",
    "fig,ax = plt.subplots(1,1,figsize=(10,2.5))\n",
    "\n",
    "plt.plot(np.linspace(-72,72,49),em1_g4/100*3600,'-k')\n",
    "plt.plot(np.linspace(-72,72,49),em2_g4/100*3600,'--k')\n",
    "plt.plot(np.linspace(-72,72,49),em3_g4/100*3600,':k')\n",
    "plt.hlines(y=0,xmin=-72,xmax=72,color='k',linewidth=1)\n",
    "plt.xlabel('hour',fontsize=12);plt.ylabel('Coefficient, M [hPa/h]')\n",
    "\n",
    "plt.xlim([-72,72]);plt.xticks(np.arange(-72,84,12))\n",
    "plt.grid(linestyle=':',color='grey',linewidth=0.2)"
   ]
  },
  {
   "cell_type": "code",
   "execution_count": null,
   "metadata": {},
   "outputs": [],
   "source": [
    "cuamt_g4 = np.nanmean(cldamt_cu_all[idx_G4,:],axis=0)\n",
    "stamt_g4 = np.nanmean(cldamt_st_all[idx_G4,:],axis=0)\n",
    "dcamt_g4 = np.nanmean(cldamt_dc_all[idx_G4,:],axis=0)\n",
    "\n",
    "fig,ax = plt.subplots(1,1,figsize=(10,2.5))\n",
    "\n",
    "plt.plot(np.linspace(-72,72,49),dcamt_g4,'-k')\n",
    "plt.plot(np.linspace(-72,72,49),stamt_g4,'--k')\n",
    "plt.plot(np.linspace(-72,72,49),cuamt_g4,':k')\n",
    "plt.hlines(y=0,xmin=-72,xmax=72,color='k',linewidth=1)\n",
    "plt.xlabel('hour',fontsize=12);plt.ylabel('Cloud amount [%]')\n",
    "\n",
    "plt.xlim([-72,72]);plt.ylim([0,45]);plt.xticks(np.arange(-72,84,12))\n",
    "plt.grid(linestyle=':',color='grey',linewidth=0.2)"
   ]
  },
  {
   "cell_type": "code",
   "execution_count": null,
   "metadata": {},
   "outputs": [],
   "source": [
    "from scipy.stats import pearsonr"
   ]
  },
  {
   "cell_type": "code",
   "execution_count": null,
   "metadata": {},
   "outputs": [],
   "source": [
    "cuamt_g2 = np.nanmean(cldamt_cu_all[idx_G2,:],axis=0)\n",
    "stamt_g2 = np.nanmean(cldamt_st_all[idx_G2,:],axis=0)\n",
    "dcamt_g2 = np.nanmean(cldamt_dc_all[idx_G2,:],axis=0)\n",
    "\n",
    "em1_g2 = np.nanmean(em1_time[idx_G2,:],axis=0)\n",
    "em2_g2 = np.nanmean(em2_time[idx_G2,:],axis=0)\n",
    "em3_g2 = np.nanmean(em3_time[idx_G2,:],axis=0)\n",
    "\n",
    "cuamt_g5 = np.nanmean(cldamt_cu_all[idx_G5,:],axis=0)\n",
    "stamt_g5 = np.nanmean(cldamt_st_all[idx_G5,:],axis=0)\n",
    "dcamt_g5 = np.nanmean(cldamt_dc_all[idx_G5,:],axis=0)\n",
    "\n",
    "em1_g5 = np.nanmean(em1_time[idx_G5,:],axis=0)\n",
    "em2_g5 = np.nanmean(em2_time[idx_G5,:],axis=0)\n",
    "em3_g5 = np.nanmean(em3_time[idx_G5,:],axis=0)"
   ]
  },
  {
   "cell_type": "code",
   "execution_count": null,
   "metadata": {},
   "outputs": [],
   "source": [
    "# plot cloud amount for all categories\n",
    "plt.plot(np.linspace(-72,72,49),stamt_g1)\n",
    "plt.plot(np.linspace(-72,72,49),stamt_g2)\n",
    "plt.plot(np.linspace(-72,72,49),stamt_g3)\n",
    "plt.plot(np.linspace(-72,72,49),stamt_g4)\n",
    "plt.plot(np.linspace(-72,72,49),stamt_g5)\n",
    "plt.xlim([0,72])"
   ]
  },
  {
   "cell_type": "code",
   "execution_count": null,
   "metadata": {},
   "outputs": [],
   "source": [
    "plt.plot(np.linspace(-72,72,49),em2_g1)\n",
    "plt.plot(np.linspace(-72,72,49),em2_g2)\n",
    "plt.plot(np.linspace(-72,72,49),em2_g3)\n",
    "plt.plot(np.linspace(-72,72,49),em2_g4)\n",
    "plt.plot(np.linspace(-72,72,49),em2_g5)\n",
    "plt.xlim([0,72])"
   ]
  },
  {
   "cell_type": "code",
   "execution_count": null,
   "metadata": {},
   "outputs": [],
   "source": []
  },
  {
   "cell_type": "code",
   "execution_count": null,
   "metadata": {},
   "outputs": [],
   "source": [
    "re_stats = np.zeros((6,3,2))\n",
    "re_stats[0,0,:] = np.asarray(pearsonr(em1_g1,dcamt_g1))\n",
    "re_stats[0,1,:] = np.asarray(pearsonr(em2_g1,stamt_g1))    \n",
    "re_stats[0,2,:] = np.asarray(pearsonr(em3_g1,cuamt_g1))    \n",
    "re_stats[1,0,:] = np.asarray(pearsonr(em1_g2,dcamt_g2))    \n",
    "re_stats[1,1,:] = np.asarray(pearsonr(em2_g2,stamt_g2))    \n",
    "re_stats[1,2,:] = np.asarray(pearsonr(em3_g2,cuamt_g2))    \n",
    "re_stats[2,0,:] = np.asarray(pearsonr(em1_g3,dcamt_g3))    \n",
    "re_stats[2,1,:] = np.asarray(pearsonr(em2_g3,stamt_g3))    \n",
    "re_stats[2,2,:] = np.asarray(pearsonr(em3_g3,cuamt_g3))    \n",
    "re_stats[3,0,:] = np.asarray(pearsonr(em1_g4,dcamt_g4))    \n",
    "re_stats[3,1,:] = np.asarray(pearsonr(em2_g4,stamt_g4))    \n",
    "re_stats[3,2,:] = np.asarray(pearsonr(em3_g4,cuamt_g4))    \n",
    "re_stats[4,0,:] = np.asarray(pearsonr(em1_g5,dcamt_g5))    \n",
    "re_stats[4,1,:] = np.asarray(pearsonr(em2_g5,stamt_g5))    \n",
    "re_stats[4,2,:] = np.asarray(pearsonr(em3_g5,cuamt_g5)) "
   ]
  },
  {
   "cell_type": "code",
   "execution_count": null,
   "metadata": {},
   "outputs": [],
   "source": [
    "import pandas as pd"
   ]
  },
  {
   "cell_type": "code",
   "execution_count": null,
   "metadata": {},
   "outputs": [],
   "source": [
    "d = {'coeff_m1': re_stats[:,0,0],'p_m1': re_stats[:,0,1],\n",
    "     'coeff_m2': re_stats[:,1,0],'p_m2': re_stats[:,1,1],\n",
    "     'coeff_m3': re_stats[:,2,0],'p_m3': re_stats[:,2,1]}\n",
    "df = pd.DataFrame(data = d)"
   ]
  },
  {
   "cell_type": "code",
   "execution_count": null,
   "metadata": {},
   "outputs": [],
   "source": [
    "df"
   ]
  },
  {
   "cell_type": "code",
   "execution_count": null,
   "metadata": {},
   "outputs": [],
   "source": [
    "colors = ['k','r','g','b','m']\n",
    "symbals = ['x','o','^','d','s']\n",
    "for n in range(5):\n",
    "    plt.plot(range(3),re_stats[n,:,0],linestyle='',\n",
    "             color=colors[n],marker=symbals[n],markersize=10)\n",
    "plt.ylim([-1.2,1.2])"
   ]
  },
  {
   "cell_type": "code",
   "execution_count": null,
   "metadata": {},
   "outputs": [],
   "source": [
    "fig = plt.figure(figsize=(12,3))\n",
    "clevs=np.linspace(-0.09,0.015,15)*3600/100\n",
    "plt.contourf(np.linspace(-72,72,49),lev,3600/100*np.nanmean(omega_all,axis=0).T,levels=clevs,\n",
    "            cmap='RdBu_r',clim=(-0.09*36,0.015*36),norm=MidpointNormalize(midpoint=0,vmin=-0.09*36, vmax=0.015*36))\n",
    "plt.ylim([1000,100]);cbar = plt.colorbar(pad=0.02,shrink=0.8)\n",
    "cbar.set_label('[hPa/hr]')\n",
    "plt.ylabel('Pressure [hPa]');plt.xlabel('hour')\n",
    "fig.savefig(fig_dir+'omega_profile_exp.pdf',bbox_inches='tight')"
   ]
  },
  {
   "cell_type": "code",
   "execution_count": null,
   "metadata": {},
   "outputs": [],
   "source": [
    "cuamt3 = np.nanmean(cldamt_cu_all[idx_G3,:],axis=0)\n",
    "stamt3 = np.nanmean(cldamt_st_all[idx_G3,:],axis=0)\n",
    "dcamt3 = np.nanmean(cldamt_dc_all[idx_G3,:],axis=0)\n",
    "toamt3 = cuamt3+stamt3+dcamt3\n",
    "\n",
    "plt.plot(np.convolve(cuamt3/toamt3\n",
    "                      ,np.ones((5,))/5,mode='valid'),'k')\n",
    "plt.plot(np.convolve(stamt3/toamt3\n",
    "                      ,np.ones((5,))/5,mode='valid'),'b')\n",
    "plt.plot(np.convolve(dcamt3/toamt3\n",
    "                      ,np.ones((5,))/5,mode='valid'),'r')\n",
    "plt.ylim([0,1])"
   ]
  },
  {
   "cell_type": "code",
   "execution_count": null,
   "metadata": {},
   "outputs": [],
   "source": [
    "cuamt5 = np.nanmean(cldamt_cu_all[idx_G5,:],axis=0)\n",
    "stamt5 = np.nanmean(cldamt_st_all[idx_G5,:],axis=0)\n",
    "dcamt5 = np.nanmean(cldamt_dc_all[idx_G5,:],axis=0)\n",
    "toamt5 = cuamt5+stamt5+dcamt5\n",
    "\n",
    "plt.plot(np.convolve(cuamt5/toamt5\n",
    "                      ,np.ones((5,))/5,mode='valid'),'k')\n",
    "plt.plot(np.convolve(stamt5/toamt5\n",
    "                      ,np.ones((5,))/5,mode='valid'),'b')\n",
    "plt.plot(np.convolve(dcamt5/toamt5\n",
    "                      ,np.ones((5,))/5,mode='valid'),'r')\n",
    "plt.ylim([0,1])"
   ]
  },
  {
   "cell_type": "code",
   "execution_count": null,
   "metadata": {
    "hideCode": true
   },
   "outputs": [],
   "source": []
  },
  {
   "cell_type": "code",
   "execution_count": null,
   "metadata": {},
   "outputs": [],
   "source": []
  },
  {
   "cell_type": "code",
   "execution_count": null,
   "metadata": {},
   "outputs": [],
   "source": []
  },
  {
   "cell_type": "code",
   "execution_count": null,
   "metadata": {},
   "outputs": [],
   "source": [
    "-----------------------------------------------"
   ]
  },
  {
   "cell_type": "code",
   "execution_count": null,
   "metadata": {},
   "outputs": [],
   "source": [
    "def caseview(time_event,lat_event,lon_event):\n",
    "\n",
    "    data_sub1 = subset_MERRA2(MERRA2_3d_dir+'TQUV_3hr'\n",
    "                          ,time_event,lat_event,lon_event,3,10,20)\n",
    "    data_sub2 = subset_TRMM(TRMM_dir+'2014_2018'\n",
    "                          ,time_event,lat_event,lon_event,3,10,20)\n",
    "    data_sub3 = subset_MERRA2(MERRA2_dir+'inst_2d_hourly'\n",
    "                          ,time_event,lat_event,lon_event,3,10,20)\n",
    "    data_sub4 = subset_MERRA2(MERRA2_3d_dir+'omega_3hr'\n",
    "                          ,time_event,lat_event,lon_event,3,10,20)\n",
    "    data_sub5 = subset_gridsat(Gridsat_dir+'2014_2018'\n",
    "                          ,time_event,lat_event,lon_event,3,10,20)\n",
    "    \n",
    "    u_sm = data_sub1.U\n",
    "    v_sm = data_sub1.V\n",
    "    T_sm = data_sub1.T\n",
    "    q_sm = data_sub1.QV\n",
    "    prec_sm = data_sub2.precipitation.resample(time='6H').nearest()\n",
    "    cwv_sm = data_sub3.TQV.resample(time='6H').nearest()\n",
    "    omega_sm = data_sub4.OMEGA\n",
    "    bt_sm = data_sub5.irwin_cdr.resample(time='6H').nearest()\n",
    "\n",
    "    u_950sm = u_sm.sel(lev=950).resample(time='6H').nearest()\n",
    "    v_950sm = v_sm.sel(lev=950).resample(time='6H').nearest()\n",
    "    u_tar = u_sm.sel(lon=slice(lon_event-5,lon_event+5),lat=slice(lat_event-5,lat_event+5))\n",
    "    v_tar = v_sm.sel(lon=slice(lon_event-5,lon_event+5),lat=slice(lat_event-5,lat_event+5))\n",
    "    omega_tar = omega_sm.sel(lon=slice(lon_event-5,lon_event+5),lat=slice(lat_event-5,lat_event+5))\n",
    "    prec_tar = prec_sm.sel(nlon=slice(lon_event-5,lon_event+5),nlat=slice(lat_event-5,lat_event+5))\n",
    "    bt_tar = bt_sm.sel(lon=slice(lon_event-5,lon_event+5),lat=slice(lat_event-5,lat_event+5))\n",
    "    SCAIbt_sm,SCAI_p,Nbt_sm,N_prec = SCAI_index(prec_tar,bt_tar) # 6H data\n",
    "    div_tar = np.gradient(u_tar,0.625*100*1e3,axis=3)+np.gradient(v_tar,0.5*100*1e3,axis=2) # divergence 3D\n",
    "    \n",
    "    p = T_sm.lev.values*units('mbar')\n",
    "    T_tar = T_sm.sel(lon=slice(lon_event-5,lon_event+5),lat=slice(lat_event-5,lat_event+5))\n",
    "    q_tar = q_sm.sel(lon=slice(lon_event-5,lon_event+5),lat=slice(lat_event-5,lat_event+5))\n",
    "    # cape/cin calculation\n",
    "    cape_sm = np.zeros(len(T_tar.time))\n",
    "    cin_sm = np.copy(cape_sm)\n",
    "    for t in range(len(u_tar.time)):\n",
    "        T_tmp = np.nanmean(T_tar[t,:,:,:],axis=(1,2))\n",
    "        q_tmp = np.nanmean(q_tar[t,:,:,:],axis=(1,2))\n",
    "        T = (T_tmp-273.15)*units('degC')\n",
    "        q = q_tmp*units('kg/kg')\n",
    "        Td = mpcalc.dewpoint(mpcalc.vapor_pressure(p,q))\n",
    "        \n",
    "        try:\n",
    "            Tp = mpcalc.parcel_profile(p,T[0],Td[0]).to('degC')                    \n",
    "            el_pressure,el_temperature = mpcalc.el(p,T,Td) # equilibrium level\n",
    "            el_idx = np.argmin(np.abs(p.magnitude - el_pressure.magnitude))                \n",
    "            ELps = [el_pressure.magnitude] # Initialize an array of EL pressures for detrainment profile\n",
    "            [CAPE,CIN] = mpcalc.cape_cin(p[:el_idx],T[:el_idx],Td[:el_idx],Tp[:el_idx])\n",
    "            cape_sm[t] = CAPE.magnitude\n",
    "            cin_sm[t] = CIN.magnitude\n",
    "        except:\n",
    "            cape_sm[t] = np.nan\n",
    "            cin_sm[t] = np.nan\n",
    "    \n",
    "    # Abar calculation\n",
    "    tmp = bt_tar.values\n",
    "    cldfrac_sm = [len(np.where(tmp[n,:,:]<240)[0])/(tmp.shape[1]*tmp.shape[2]) for n in range(tmp.shape[0])]\n",
    "    Abar_sm = cldfrac_sm/Nbt_sm*1600\n",
    "    \n",
    "    return (u_950sm,v_950sm,omega_sm,prec_sm,cwv_sm,bt_sm,SCAIbt_sm,Nbt_sm,Abar_sm\n",
    "            ,div_tar,cape_sm,cin_sm)"
   ]
  },
  {
   "cell_type": "code",
   "execution_count": null,
   "metadata": {},
   "outputs": [],
   "source": [
    "idx_G1[4000:4100]"
   ]
  },
  {
   "cell_type": "code",
   "execution_count": null,
   "metadata": {},
   "outputs": [],
   "source": [
    "num=16890\n",
    "u_950sm,v_950sm,omega_sm,prec_sm,cwv_sm,bt_sm,SCAIbt_sm,Nbt_sm,Abar_sm,div_sm,cape_sm,cin_sm = caseview(time_event[num],lat_event[num],lon_event[num])"
   ]
  },
  {
   "cell_type": "code",
   "execution_count": null,
   "metadata": {},
   "outputs": [],
   "source": [
    "fig,ax = plt.subplots(7,2,figsize=(12,15))\n",
    "\n",
    "label = np.arange(0,7)\n",
    "timelabel = np.array([11,12,13,14,15,16,17])\n",
    "\n",
    "for n,t in zip(label,timelabel):\n",
    "    #ax[n] = plt.axes(projection=ccrs.PlateCarree(central_longitude=0))\n",
    "    ax[n,0].pcolormesh(cwv_sm.lon,cwv_sm.lat,cwv_sm[t,:,:])\n",
    "    ax[n,0].contour(cwv_sm.lon,cwv_sm.lat,cwv_sm[t,:,:],levels=[45],colors=['w'])\n",
    "    ax[n,0].quiver(u_950sm.lon[::2],u_950sm.lat[::2],u_950sm[t,::2,::2],v_950sm[t,::2,::2])      \n",
    "    rect1 = patches.Rectangle((lon_event[num]-2.5,lat_event[num]-2.5),5,5,linewidth=2,\n",
    "                              edgecolor='r',facecolor='None')\n",
    "    ax[n,0].add_patch(rect1)\n",
    "    if n ==0:\n",
    "        ax[n,0].set_title(time_event[num])\n",
    "        \n",
    "    ax[n,1].contour(prec_sm.nlon,prec_sm.nlat,prec_sm[t,:,:].transpose(),\n",
    "                   levels=[1,5,10,30,50],linewidths=1,colors=['m'])\n",
    "    tmp = bt_sm[t,:,:].values; #tmp[tmp>240] = np.nan\n",
    "    ax[n,1].pcolormesh(bt_sm.lon,bt_sm.lat,tmp,cmap='binary_r') \n",
    "    rect2 = patches.Rectangle((lon_event[num]-2.5,lat_event[num]-2.5),5,5,linewidth=2,\n",
    "                              edgecolor='r',facecolor='None')\n",
    "    ax[n,1].add_patch(rect2)\n",
    "    ax[n,1].text(lon_event[num]+10,lat_event[num]+7.5,'N = '+str(int(Nbt_sm[t])),color='g',fontsize=11)\n",
    "    ax[n,1].text(lon_event[num]+10,lat_event[num]+5.5,'SCAI = '+str(round(SCAIbt_sm[t],1)),color='g',fontsize=11)\n",
    "    ax[n,1].text(lon_event[num]+10,lat_event[num]+3.5,'Abar = '+str(round(Abar_sm[t],1)),color='g',fontsize=11)\n",
    "    if n ==0:\n",
    "        ax[n,1].set_title(time_event[num])"
   ]
  },
  {
   "cell_type": "code",
   "execution_count": null,
   "metadata": {},
   "outputs": [],
   "source": []
  },
  {
   "cell_type": "code",
   "execution_count": null,
   "metadata": {},
   "outputs": [],
   "source": []
  },
  {
   "cell_type": "code",
   "execution_count": null,
   "metadata": {
    "hideCode": false,
    "hidePrompt": false
   },
   "outputs": [],
   "source": [
    "cldfrac_bin = np.array([0,0.1,0.25,0.5,1]) # mm/day\n",
    "SFX_bin = np.zeros((len(cldfrac_bin)-1,48)) # m/s\n",
    "SFXstd_bin = np.zeros((len(cldfrac_bin)-1,48))\n",
    "num_bin = np.copy(cldfrac_bin)*0\n",
    "\n",
    "for n in range(len(cldfrac_bin)-1):\n",
    "    idx = np.where(np.logical_and(cldfrac_all[:,24]>=cldfrac_bin[n],cldfrac_all[:,24]<cldfrac_bin[n+1]))[0]\n",
    "    SFX_bin[n,:] = np.nanmean(SFX_all[idx,:],axis=0)\n",
    "    SFXstd_bin[n,:] = np.nanmean(SFXstd_all[idx,:],axis=0)\n",
    "    num_bin[n] = len(idx)\n",
    "    \n",
    "fig=plt.figure(figsize=(8,4))\n",
    "\n",
    "plt.plot(np.linspace(-72,72,48,dtype=int),SFX_bin[0,:],color='k')\n",
    "plt.plot(np.linspace(-72,72,48,dtype=int),SFX_bin[1,:],color='b')\n",
    "plt.plot(np.linspace(-72,72,48,dtype=int),SFX_bin[2,:],color='orange')\n",
    "plt.plot(np.linspace(-72,72,48,dtype=int),SFX_bin[3,:],color='r')\n",
    "\n",
    "plt.legend(['0 < cldfrac < 0.1','0.1 < cldfrac < 0.25','0.25 < cldfrac < 0.5','0.5 < cldfrac < 1']\n",
    "          ,fontsize=9)\n",
    "plt.ylabel('SFX [W/m$^2$]')\n",
    "plt.xlabel('Lag time [hr]')\n",
    "plt.grid(axis='x',linestyle=':')\n",
    "#plt.title('Precipitation evolution, 10deg box, IND')"
   ]
  },
  {
   "cell_type": "code",
   "execution_count": null,
   "metadata": {
    "hideCode": false,
    "hidePrompt": false
   },
   "outputs": [],
   "source": [
    "cldfrac_bin = np.array([0,0.1,0.25,0.5,1]) # mm/day\n",
    "wsfc_bin = np.zeros((len(cldfrac_bin)-1,49)) # m/s\n",
    "num_bin = np.copy(cldfrac_bin)*0\n",
    "\n",
    "for n in range(len(cldfrac_bin)-1):\n",
    "    idx = np.where(np.logical_and(cldfrac_all[:,24]>=cldfrac_bin[n],cldfrac_all[:,24]<cldfrac_bin[n+1]))[0]\n",
    "    wsfc_bin[n,:] = np.nanmean((u_all[idx,:,0]**2+v_all[idx,:,0]**2)**0.5,axis=0)\n",
    "    num_bin[n] = len(idx)\n",
    "    \n",
    "fig=plt.figure(figsize=(8,4))\n",
    "\n",
    "plt.plot(np.linspace(-72,72,49,dtype=int),wsfc_bin[0,:],color='k')\n",
    "plt.plot(np.linspace(-72,72,49,dtype=int),wsfc_bin[1,:],color='b')\n",
    "plt.plot(np.linspace(-72,72,49,dtype=int),wsfc_bin[2,:],color='orange')\n",
    "plt.plot(np.linspace(-72,72,49,dtype=int),wsfc_bin[3,:],color='r')\n",
    "\n",
    "plt.legend(['0 < cldfrac < 0.1','0.1 < cldfrac < 0.25','0.25 < cldfrac < 0.5','0.5 < cldfrac < 1']\n",
    "          ,fontsize=9)\n",
    "plt.ylabel('SFX [W/m$^2$]')\n",
    "plt.xlabel('Lag time [hr]')\n",
    "plt.grid(axis='x',linestyle=':')\n",
    "#plt.title('Precipitation evolution, 10deg box, IND')"
   ]
  },
  {
   "cell_type": "code",
   "execution_count": null,
   "metadata": {
    "hideCode": false,
    "hidePrompt": false
   },
   "outputs": [],
   "source": [
    "# cldfrac_bin = np.array([0,0.1,0.25,0.5,1]) # mm/day\n",
    "# freq_bin = np.zeros((len(cldfrac_bin)-1,4)) # m/s\n",
    "\n",
    "# for n in range(len(cldfrac_bin)-1):\n",
    "#     idx1 = np.where(np.logical_and(cldfrac_DJF[:,24]>=cldfrac_bin[n],cldfrac_DJF[:,24]<cldfrac_bin[n+1]))[0]\n",
    "#     idx2 = np.where(np.logical_and(cldfrac_MAM[:,24]>=cldfrac_bin[n],cldfrac_MAM[:,24]<cldfrac_bin[n+1]))[0]\n",
    "#     idx3 = np.where(np.logical_and(cldfrac_JJA[:,24]>=cldfrac_bin[n],cldfrac_JJA[:,24]<cldfrac_bin[n+1]))[0]\n",
    "#     idx4 = np.where(np.logical_and(cldfrac_SON[:,24]>=cldfrac_bin[n],cldfrac_SON[:,24]<cldfrac_bin[n+1]))[0]\n",
    "    \n",
    "#     freq_bin[n,0] = len(idx1)\n",
    "#     freq_bin[n,1] = len(idx2)\n",
    "#     freq_bin[n,2] = len(idx3)\n",
    "#     freq_bin[n,3] = len(idx4)"
   ]
  },
  {
   "cell_type": "code",
   "execution_count": null,
   "metadata": {
    "hideCode": false,
    "hidePrompt": false
   },
   "outputs": [],
   "source": [
    "# constructing the climatology over targeted scenes for T,q,RH anomaly \n",
    "# to remove seasonality and diurnal cycle\n",
    "os.chdir(MERRA2_dir+'inst_2d_hourly')\n",
    "files = sorted(glob('*nc'))\n",
    "data = xr.open_mfdataset(files)"
   ]
  },
  {
   "cell_type": "code",
   "execution_count": null,
   "metadata": {
    "hideCode": false,
    "hidePrompt": false
   },
   "outputs": [],
   "source": [
    "cwv = data.sel(lat=slice(-20,20)).TQV\n",
    "cwv_clim = cwv.groupby('time.month').mean('time').compute() # climatology of daily data"
   ]
  },
  {
   "cell_type": "code",
   "execution_count": null,
   "metadata": {
    "hideCode": false,
    "hidePrompt": false
   },
   "outputs": [],
   "source": [
    "# test for removing seasonality over all cases\n",
    "cwv_rmseason = np.copy(cwv_all)\n",
    "\n",
    "for n in range(len(time_event)):\n",
    "    cwv_climsub = cwv_clim.sel(lat=slice(lat_event[n]-5,lat_event[n]+5),\n",
    "                          lon=slice(lon_event[n]-5,lon_event[n]+5),month=time_event[n].month)\n",
    "    cwv_rmseason[n,:] = cwv_all[n,:] - cwv_climsub.mean().values"
   ]
  },
  {
   "cell_type": "code",
   "execution_count": null,
   "metadata": {
    "hideCode": false,
    "hidePrompt": false
   },
   "outputs": [],
   "source": [
    "cldfrac_bin = np.array([0,0.1,0.25,0.5,1]) # mm/day\n",
    "cwva_bin = np.zeros((len(cldfrac_bin)-1,49)) # m/s\n",
    "cwvastd_bin = np.zeros((len(cldfrac_bin)-1,49))\n",
    "num_bin = np.copy(cldfrac_bin)*0\n",
    "\n",
    "for n in range(len(cldfrac_bin)-1):\n",
    "    idx = np.where(np.logical_and(cldfrac_all[:,24]>=cldfrac_bin[n],cldfrac_all[:,24]<cldfrac_bin[n+1]))[0]\n",
    "    cwva_bin[n,:] = np.nanmean(cwv_all[idx,:],axis=0)\n",
    "    cwvastd_bin[n,:] = np.nanstd(cwv_all[idx,:],axis=0)/np.sqrt(len(idx))\n",
    "    num_bin[n] = len(idx)\n",
    "\n",
    "fig=plt.figure(figsize=(8,4))\n",
    "\n",
    "plt.plot(np.linspace(-72,72,49,dtype=int),cwva_bin[0,:],color='k')\n",
    "plt.plot(np.linspace(-72,72,49,dtype=int),cwva_bin[1,:],color='b')\n",
    "plt.plot(np.linspace(-72,72,49,dtype=int),cwva_bin[2,:],color='orange')\n",
    "plt.plot(np.linspace(-72,72,49,dtype=int),cwva_bin[3,:],color='r')\n",
    "\n",
    "plt.legend(['0 < cldfrac < 0.1','0.1 < cldfrac < 0.25','0.25 < cldfrac < 0.5','0.5 < cldfrac < 1']\n",
    "          ,fontsize=9)\n",
    "plt.ylabel('CWV anomaly [mm]')\n",
    "plt.xlabel('Lag time [hr]')\n",
    "plt.grid(axis='x',linestyle='--')\n",
    "#plt.title('Precipitation evolution, 10deg box, IND')"
   ]
  },
  {
   "cell_type": "code",
   "execution_count": null,
   "metadata": {
    "hideCode": false,
    "hidePrompt": false
   },
   "outputs": [],
   "source": [
    "def discrete_cmap(N, base_cmap=None):\n",
    "    \"\"\"Create an N-bin discrete colormap from the specified input map\"\"\"\n",
    "\n",
    "    # Note that if base_cmap is a string or None, you can simply do\n",
    "    #    return plt.cm.get_cmap(base_cmap, N)\n",
    "    # The following works for string, None, or a colormap instance:\n",
    "\n",
    "    base = plt.cm.get_cmap(base_cmap)\n",
    "    color_list = base(np.linspace(0, 1, N))\n",
    "    cmap_name = base.name + str(N)\n",
    "    return base.from_list(cmap_name, color_list, N)"
   ]
  },
  {
   "cell_type": "code",
   "execution_count": null,
   "metadata": {
    "hideCode": false,
    "hidePrompt": false
   },
   "outputs": [],
   "source": [
    "# prec anomaly vs cwv anomaly\n",
    "fig = plt.figure(figsize=(6,6))\n",
    "\n",
    "plt.plot(cwva_bin[0,:],preca_bin[0,:],'-k',linewidth=0.6)\n",
    "plt.scatter(cwva_bin[0,:],preca_bin[0,:],c=np.arange(-24,25),s=80\n",
    "            ,cmap=discrete_cmap(6, 'RdBu'),zorder=2,edgecolor='grey')\n",
    "plt.plot(cwva_bin[1,:],preca_bin[1,:],'-r',linewidth=0.6)\n",
    "plt.scatter(cwva_bin[1,:],preca_bin[1,:],c=np.arange(-24,25),s=80\n",
    "            ,cmap=discrete_cmap(6, 'RdBu'),zorder=2,edgecolor='grey')\n",
    "plt.plot(cwva_bin[2,:],preca_bin[2,:],'-g',linewidth=0.6)\n",
    "plt.scatter(cwva_bin[2,:],preca_bin[2,:],c=np.arange(-24,25),s=80\n",
    "            ,cmap=discrete_cmap(6, 'RdBu'),zorder=2,edgecolor='grey')\n",
    "plt.plot(cwva_bin[3,:],preca_bin[3,:],'-b',linewidth=0.6)\n",
    "plt.scatter(cwva_bin[3,:],preca_bin[3,:],c=np.arange(-24,25),s=80\n",
    "            ,cmap=discrete_cmap(6, 'RdBu'),zorder=2,edgecolor='grey')"
   ]
  },
  {
   "cell_type": "code",
   "execution_count": null,
   "metadata": {
    "hideCode": false,
    "hidePrompt": false
   },
   "outputs": [],
   "source": [
    "# open T_clim, qv_clim, RH_clim \n",
    "os.chdir('/w2-data/willytsai/ISCCP/')\n",
    "T_clim = xr.open_dataset('T_clim_10deg.nc')\n",
    "qv_clim = xr.open_dataset('qv_clim_10deg.nc')\n",
    "RH_clim = xr.open_dataset('rh_clim_10deg.nc')"
   ]
  },
  {
   "cell_type": "code",
   "execution_count": null,
   "metadata": {
    "hideCode": false,
    "hidePrompt": false
   },
   "outputs": [],
   "source": [
    "T_rmseason = np.copy(T_all)\n",
    "\n",
    "for n in range(len(time_event)):\n",
    "    T_climsub = T_clim.sel(lat=slice(lat_event[n]-5,lat_event[n]+5),\n",
    "                          lon=slice(lon_event[n]-5,lon_event[n]+5),month=time_event[n].month).T\n",
    "    T_rmseason[n,:,:] = (T_all[n,:,:] - T_climsub.mean(axis=(1,2)).values)"
   ]
  },
  {
   "cell_type": "code",
   "execution_count": null,
   "metadata": {
    "hideCode": false,
    "hidePrompt": false
   },
   "outputs": [],
   "source": [
    "q_rmseason = np.copy(q_all)\n",
    "\n",
    "for n in range(len(time_event)):\n",
    "    q_climsub = qv_clim.sel(lat=slice(lat_event[n]-5,lat_event[n]+5),\n",
    "                          lon=slice(lon_event[n]-5,lon_event[n]+5),month=time_event[n].month).QV\n",
    "    q_rmseason[n,:,:] = q_all[n,:,:] - q_climsub.mean(axis=(1,2)).values"
   ]
  },
  {
   "cell_type": "code",
   "execution_count": null,
   "metadata": {
    "hideCode": false,
    "hidePrompt": false
   },
   "outputs": [],
   "source": [
    "rh_rmseason = np.copy(rh_all)\n",
    "\n",
    "for n in range(len(time_event)):\n",
    "    rh_climsub = RH_clim.sel(lat=slice(lat_event[n]-5,lat_event[n]+5),\n",
    "                          lon=slice(lon_event[n]-5,lon_event[n]+5),month=time_event[n].month).RH\n",
    "    rh_rmseason[n,:,:] = rh_all[n,:,:] - rh_climsub.mean(axis=(1,2)).values"
   ]
  },
  {
   "cell_type": "code",
   "execution_count": null,
   "metadata": {
    "hideCode": false,
    "hidePrompt": false
   },
   "outputs": [],
   "source": [
    "# os.chdir(MERRA2_3d_dir+'RH_3hr')\n",
    "# files = glob('*nc4')\n",
    "# data = xr.open_mfdataset(files)"
   ]
  },
  {
   "cell_type": "code",
   "execution_count": null,
   "metadata": {
    "hideCode": false,
    "hidePrompt": false
   },
   "outputs": [],
   "source": [
    "# %%time\n",
    "# rh = data.sel(lon=slice(50,90),lat=slice(-10,10)).RH\n",
    "# rh_clim = rh.groupby('time.month').mean('time').compute() # climatology of daily data"
   ]
  },
  {
   "cell_type": "code",
   "execution_count": null,
   "metadata": {
    "hideCode": false,
    "hidePrompt": false
   },
   "outputs": [],
   "source": [
    "# os.chdir('/w2-data/willytsai/ISCCP')\n",
    "# m2data = np.loadtxt('MERRA2_modellevs.txt')\n",
    "# m2lev = np.flipud(m2data[:,1])"
   ]
  },
  {
   "cell_type": "code",
   "execution_count": null,
   "metadata": {
    "hideCode": false,
    "hidePrompt": false
   },
   "outputs": [],
   "source": [
    "# for m in range(12):\n",
    "#     plt.plot(np.nanmean(rh_clim[m,:,:,:],axis=(1,2)),m2lev,zorder=1)\n",
    "# plt.ylim([1000,150])\n",
    "# plt.legend(['1','2','3','4','5','6','7','8','9','10','11','12'])"
   ]
  },
  {
   "cell_type": "code",
   "execution_count": null,
   "metadata": {
    "hideCode": false,
    "hidePrompt": false
   },
   "outputs": [],
   "source": [
    "for m in range(12):\n",
    "    plt.plot(qv_clim[m,:,:,:].mean(axis=(1,2)),lev,zorder=1)\n",
    "plt.ylim([1000,150])\n",
    "plt.legend(['1','2','3','4','5','6','7','8','9','10','11','12'])"
   ]
  },
  {
   "cell_type": "code",
   "execution_count": null,
   "metadata": {
    "hideCode": false,
    "hidePrompt": false
   },
   "outputs": [],
   "source": [
    "u = data.sel(lon=slice(50,90),lat=slice(-10,10)).U\n",
    "u_clim = u.groupby('time.month').mean('time').compute() # climatology of daily data\n",
    "\n",
    "u_rmseason = np.copy(u_all)\n",
    "\n",
    "for n in range(len(time_event)):\n",
    "    u_climsub = u_clim.sel(lat=slice(lat_event[n]-5,lat_event[n]+5),\n",
    "                          lon=slice(lon_event[n]-5,lon_event[n]+5),month=time_event[n].month)\n",
    "    u_rmseason[n,:] = u_all[n,:,:] - u_climsub.mean(axis=(1,2)).values"
   ]
  },
  {
   "cell_type": "code",
   "execution_count": null,
   "metadata": {
    "hideCode": false,
    "hidePrompt": false
   },
   "outputs": [],
   "source": [
    "for m in range(12):\n",
    "    plt.plot(u_clim[m,:,:,:].mean(axis=(1,2)),lev,zorder=1)\n",
    "plt.ylim([1000,150]);plt.vlines(0,ymax=1000,ymin=0,zorder=2)\n",
    "plt.xlim([-10,10])\n",
    "plt.legend(['1','2','3','4','5','6','7','8','9','10','11','12'])"
   ]
  },
  {
   "cell_type": "code",
   "execution_count": null,
   "metadata": {
    "hideCode": false,
    "hidePrompt": false
   },
   "outputs": [],
   "source": [
    "lev_model = np.loadtxt('MERRA2_modellevs.txt')[:,1]"
   ]
  },
  {
   "cell_type": "code",
   "execution_count": null,
   "metadata": {
    "hideCode": false,
    "hidePrompt": false
   },
   "outputs": [],
   "source": [
    "cldfrac_bin = np.array([0,0.1,0.25,0.5,1]) # mm/day\n",
    "rha_bin = np.zeros((len(cldfrac_bin)-1,49,72)) # m/s\n",
    "rhastd_bin = np.zeros((len(cldfrac_bin)-1,49,72))\n",
    "num_bin = np.copy(cldfrac_bin)*0\n",
    "\n",
    "for n in range(len(cldfrac_bin)-1):\n",
    "    idx = np.where(np.logical_and(cldfrac_all[:,24]>=cldfrac_bin[n],cldfrac_all[:,24]<cldfrac_bin[n+1]))[0]\n",
    "    rha_bin[n,:,:] = np.nanmean(rh_all[idx,:,:],axis=0)\n",
    "    rhastd_bin[n,:,:] = np.nanstd(rh_all[idx,:,:],axis=0)/np.sqrt(len(idx))\n",
    "    num_bin[n] = len(idx)\n",
    "    \n",
    "#fig=plt.figure(figsize=(8,4))\n",
    "\n",
    "clevs = np.linspace(0.3,1,8)\n",
    "plt.contourf(np.linspace(-72,72,49,dtype=int),np.flipud(lev_model),rha_bin[0,:,:].T\n",
    "             ,levels=clevs,cmap='jet');\n",
    "plt.colorbar();plt.ylim([1000,150]);plt.show()\n",
    "plt.contourf(np.linspace(-72,72,49,dtype=int),np.flipud(lev_model),rha_bin[1,:,:].T\n",
    "             ,levels=clevs,cmap='jet');\n",
    "plt.colorbar();plt.ylim([1000,150]);plt.show()\n",
    "plt.contourf(np.linspace(-72,72,49,dtype=int),np.flipud(lev_model),rha_bin[2,:,:].T\n",
    "             ,levels=clevs,cmap='jet');\n",
    "plt.colorbar();plt.ylim([1000,150]);plt.show()\n",
    "plt.contourf(np.linspace(-72,72,49,dtype=int),np.flipud(lev_model),rha_bin[3,:,:].T\n",
    "             ,levels=clevs,cmap='jet');\n",
    "plt.colorbar();plt.ylim([1000,150]);plt.show()"
   ]
  },
  {
   "cell_type": "code",
   "execution_count": null,
   "metadata": {
    "hideCode": false,
    "hidePrompt": false
   },
   "outputs": [],
   "source": [
    "cldfrac_bin = np.array([0,0.1,0.25,0.5,1]) # mm/day\n",
    "qa_bin = np.zeros((len(cldfrac_bin)-1,49,42)) # m/s\n",
    "qastd_bin = np.zeros((len(cldfrac_bin)-1,49,42))\n",
    "num_bin = np.copy(cldfrac_bin)*0\n",
    "\n",
    "for n in range(len(cldfrac_bin)-1):\n",
    "    idx = np.where(np.logical_and(cldfrac_all[:,24]>=cldfrac_bin[n],cldfrac_all[:,24]<cldfrac_bin[n+1]))[0]\n",
    "    qa_bin[n,:,:] = np.nanmean(q_rmseason[idx,:,:],axis=0)\n",
    "    qastd_bin[n,:,:] = np.nanstd(q_rmseason[idx,:,:],axis=0)/np.sqrt(len(idx))\n",
    "    num_bin[n] = len(idx)\n",
    "    \n",
    "#fig=plt.figure(figsize=(8,4))\n",
    "\n",
    "clevs = np.linspace(-1,1,21)\n",
    "plt.contourf(np.linspace(-72,72,49,dtype=int),lev,qa_bin[0,:,:].T*1000,cmap='jet',\n",
    "            levels=clevs\n",
    "            );\n",
    "plt.colorbar();plt.ylim([1000,150]);plt.show()\n",
    "plt.contourf(np.linspace(-72,72,49,dtype=int),lev,qa_bin[1,:,:].T*1000,cmap='jet',\n",
    "            levels=clevs\n",
    "            );\n",
    "plt.colorbar();plt.ylim([1000,150]);plt.show()\n",
    "plt.contourf(np.linspace(-72,72,49,dtype=int),lev,qa_bin[2,:,:].T*1000,cmap='jet',\n",
    "             levels=clevs\n",
    "            );\n",
    "plt.colorbar();plt.ylim([1000,150]);plt.show()\n",
    "plt.contourf(np.linspace(-72,72,49,dtype=int),lev,qa_bin[3,:,:].T*1000,cmap='jet',\n",
    "             levels=clevs\n",
    "            );\n",
    "plt.colorbar();plt.ylim([1000,150]);plt.show()\n",
    "\n",
    "#plt.legend(['0 < cldfrac < 0.1','0.1 < cldfrac < 0.25','0.25 < cldfrac < 0.5','0.5 < cldfrac < 1']\n",
    "#          ,fontsize=9)\n",
    "#plt.ylabel('CWV anomaly [mm]')\n",
    "#plt.xlabel('Lag time [hr]')\n",
    "#plt.grid(axis='x',linestyle='--')\n",
    "#plt.title('Precipitation evolution, 10deg box, IND')"
   ]
  },
  {
   "cell_type": "code",
   "execution_count": null,
   "metadata": {
    "hideCode": false,
    "hidePrompt": false
   },
   "outputs": [],
   "source": [
    "cldfrac_bin = np.array([0,0.1,0.25,0.5,1]) # mm/day\n",
    "Ta_bin = np.zeros((len(cldfrac_bin)-1,49,42)) # m/s\n",
    "Tastd_bin = np.zeros((len(cldfrac_bin)-1,49,42))\n",
    "num_bin = np.copy(cldfrac_bin)*0\n",
    "\n",
    "for n in range(len(cldfrac_bin)-1):\n",
    "    idx = np.where(np.logical_and(cldfrac_all[:,24]>=cldfrac_bin[n],cldfrac_all[:,24]<cldfrac_bin[n+1]))[0]\n",
    "    Ta_bin[n,:,:] = np.nanmean(T_rmseason[idx,:,:],axis=0)\n",
    "    Tastd_bin[n,:,:] = np.nanstd(T_rmseason[idx,:,:],axis=0)/np.sqrt(len(idx))\n",
    "    num_bin[n] = len(idx)\n",
    "    \n",
    "#fig=plt.figure(figsize=(8,4))\n",
    "\n",
    "clevs1 = np.linspace(-0.5,0.5,21)\n",
    "\n",
    "plt.contourf(np.linspace(-72,72,49,dtype=int),lev,Ta_bin[0,:,:].T#,levels=clevs1\n",
    "             ,cmap='RdBu_r');\n",
    "cbar = plt.colorbar();plt.ylim([1000,150]); cbar.set_label('T anomaly [K]')\n",
    "plt.contour(np.linspace(-72,72,49,dtype=int),lev,Ta_bin[0,:,:].T\n",
    "            ,levels=[-0.3,-0.2,-0.1,0.1,0.2,0.3],colors=['k'],linewidths=0.6)\n",
    "plt.ylabel('[hPa]');plt.xlabel('[hr]');plt.show()\n",
    "\n",
    "plt.contourf(np.linspace(-72,72,49,dtype=int),lev,Ta_bin[1,:,:].T#,levels=clevs1\n",
    "             ,cmap='RdBu_r');\n",
    "cbar = plt.colorbar();plt.ylim([1000,150]); cbar.set_label('T anomaly [K]')\n",
    "plt.contour(np.linspace(-72,72,49,dtype=int),lev,Ta_bin[1,:,:].T\n",
    "            ,levels=[-0.3,-0.2,-0.1,0.1,0.2,0.3],colors=['k'],linewidths=0.6)\n",
    "plt.ylabel('[hPa]');plt.xlabel('[hr]');plt.show()\n",
    "\n",
    "plt.contourf(np.linspace(-72,72,49,dtype=int),lev,Ta_bin[2,:,:].T#,levels=clevs1\n",
    "             ,cmap='RdBu_r');\n",
    "cbar = plt.colorbar();plt.ylim([1000,150]); cbar.set_label('T anomaly [K]')\n",
    "plt.contour(np.linspace(-72,72,49,dtype=int),lev,Ta_bin[2,:,:].T\n",
    "            ,levels=[-0.3,-0.2,-0.1,0.1,0.2,0.3],colors=['k'],linewidths=0.6)\n",
    "plt.ylabel('[hPa]');plt.xlabel('[hr]');plt.show()\n",
    "\n",
    "plt.contourf(np.linspace(-72,72,49,dtype=int),lev,Ta_bin[3,:,:].T#,levels=clevs1\n",
    "             ,cmap='RdBu_r');\n",
    "cbar = plt.colorbar();plt.ylim([1000,150]); cbar.set_label('T anomaly [K]')\n",
    "plt.contour(np.linspace(-72,72,49,dtype=int),lev,Ta_bin[3,:,:].T\n",
    "            ,levels=[-0.3,-0.2,-0.1,0.1,0.2,0.3],colors=['k'],linewidths=0.6)\n",
    "plt.ylabel('[hPa]');plt.xlabel('[hr]');plt.show()\n"
   ]
  },
  {
   "cell_type": "code",
   "execution_count": null,
   "metadata": {
    "hideCode": false,
    "hidePrompt": false
   },
   "outputs": [],
   "source": [
    "cldfrac_bin = np.array([0,0.1,0.25,0.5,1]) # mm/day\n",
    "cape_bin = np.zeros((len(cldfrac_bin)-1,49)) # m/s\n",
    "capestd_bin = np.zeros((len(cldfrac_bin)-1,49))\n",
    "num_bin = np.copy(cldfrac_bin)*0\n",
    "\n",
    "for n in range(len(cldfrac_bin)-1):\n",
    "    idx = np.where(np.logical_and(cldfrac_all[:,24]>=cldfrac_bin[n],cldfrac_all[:,24]<cldfrac_bin[n+1]))[0]\n",
    "    cape_bin[n,:] = np.nanmean(cape_all[idx,:],axis=0)\n",
    "    capestd_bin[n,:] = np.nanstd(cape_all[idx,:],axis=0)/np.sqrt(len(idx))\n",
    "    num_bin[n] = len(idx)\n",
    "    \n",
    "fig=plt.figure(figsize=(8,4))\n",
    "\n",
    "plt.plot(np.linspace(-72,72,49,dtype=int),cape_bin[0,:],color='k')\n",
    "plt.plot(np.linspace(-72,72,49,dtype=int),cape_bin[1,:],color='b')\n",
    "plt.plot(np.linspace(-72,72,49,dtype=int),cape_bin[2,:],color='orange')\n",
    "plt.plot(np.linspace(-72,72,49,dtype=int),cape_bin[3,:],color='r')\n",
    "\n",
    "plt.legend(['0 < cldfrac < 0.1','0.1 < cldfrac < 0.25','0.25 < cldfrac < 0.5','0.5 < cldfrac < 1']\n",
    "          ,fontsize=9)\n",
    "plt.ylabel('CWV anomaly [mm]')\n",
    "plt.xlabel('Lag time [hr]')\n",
    "plt.grid(axis='x',linestyle='--')\n",
    "#plt.title('Precipitation evolution, 10deg box, IND')"
   ]
  },
  {
   "cell_type": "code",
   "execution_count": null,
   "metadata": {
    "hideCode": false,
    "hidePrompt": false
   },
   "outputs": [],
   "source": [
    "%%time\n",
    "cldfrac_bin = np.array([0,0.1,0.25,0.5,1]) # cldfrac at ref\n",
    "div_regress = np.zeros((len(time_event),49,42))\n",
    "\n",
    "for n in range(len(cldfrac_bin)-1):\n",
    "    idx = np.where(np.logical_and(cldfrac_all[:,24]>=cldfrac_bin[n],cldfrac_all[:,24]<cldfrac_bin[n+1]))[0]\n",
    "\n",
    "    for t in idx: # samples\n",
    "        for k in range(div_regress.shape[2]): # vertical dims\n",
    "            tmp = prec_all[t,:];tmp2 = div_all[t,:,k]\n",
    "            pp = tmp[~np.isnan(tmp2)]; qq = tmp2[~np.isnan(tmp2)]  \n",
    "            if len(pp) > 0: # not empty\n",
    "                reg = [np.polyfit(pp,np.roll(qq,-lag),deg=1)[0] for lag in range(-24,25)]\n",
    "                div_regress[t,:,k] = np.asarray(reg)\n",
    "            else:\n",
    "                div_regress[t,:,k] = np.nan"
   ]
  },
  {
   "cell_type": "code",
   "execution_count": null,
   "metadata": {
    "hideCode": false,
    "hidePrompt": false
   },
   "outputs": [],
   "source": [
    "# divergence evolution\n",
    "cldfrac_bin = np.array([0,0.1,0.25,0.5,1]) # mm/day\n",
    "div_bin = np.zeros((len(cldfrac_bin)-1,49,42)) # m/s\n",
    "num_bin = np.copy(cldfrac_bin)*0\n",
    "\n",
    "for n in range(len(cldfrac_bin)-1):\n",
    "    idx = np.where(np.logical_and(cldfrac_all[:,24]>=cldfrac_bin[n],cldfrac_all[:,24]<cldfrac_bin[n+1]))[0]\n",
    "    div_bin[n,:,:] = np.nanmean(div_regress[idx,:,:],axis=0)\n",
    "    num_bin[n] = len(idx)\n",
    "    \n",
    "fig=plt.figure(figsize=(8,4))\n",
    "clevs = np.linspace(-0.6,0.6,17)\n",
    "plt.contourf(np.linspace(-72,72,49,dtype=int),lev,div_bin[0,:,:].T*1e5,\n",
    "             levels=clevs,cmap='PiYG',extend='both');\n",
    "cbar=plt.colorbar();plt.ylim([1000,150]);cbar.set_label('s$^{-1}$/[mm/hr]');plt.show()\n",
    "\n",
    "fig=plt.figure(figsize=(8,4))\n",
    "plt.contourf(np.linspace(-72,72,49,dtype=int),lev,div_bin[1,:,:].T*1e5,\n",
    "             levels=clevs,cmap='PiYG',extend='both');\n",
    "cbar=plt.colorbar();plt.ylim([1000,150]);cbar.set_label('s$^{-1}$/[mm/hr]');plt.show()\n",
    "\n",
    "fig=plt.figure(figsize=(8,4))\n",
    "plt.contourf(np.linspace(-72,72,49,dtype=int),lev,div_bin[2,:,:].T*1e5,\n",
    "             levels=clevs,cmap='PiYG',extend='both');\n",
    "cbar=plt.colorbar();plt.ylim([1000,150]);cbar.set_label('s$^{-1}$/[mm/hr]');plt.show()\n",
    "\n",
    "fig=plt.figure(figsize=(8,4))\n",
    "plt.contourf(np.linspace(-72,72,49,dtype=int),lev,div_bin[3,:,:].T*1e5,\n",
    "             levels=clevs,cmap='PiYG',extend='both');\n",
    "cbar=plt.colorbar();plt.ylim([1000,150]);cbar.set_label('s$^{-1}$/[mm/hr]');plt.show()"
   ]
  },
  {
   "cell_type": "code",
   "execution_count": null,
   "metadata": {
    "hideCode": false,
    "hidePrompt": false
   },
   "outputs": [],
   "source": [
    "# build cloud types climatology\n",
    "os.chdir(ISCCP_dir)\n",
    "files = sorted(glob('*nc'))\n",
    "data = xr.open_mfdataset(files)\n",
    "\n",
    "cldamt_types = data.cldamt_types.sel(lat=slice(-10,10),lon=slice(50,90))\n",
    "cldamt_cu = cldamt_types[:,0,:,:] + cldamt_types[:,3,:,:]\n",
    "cldamt_st = cldamt_types[:,13,:,:] + cldamt_types[:,16,:,:]\n",
    "cldamt_dc = cldamt_types[:,14,:,:] + cldamt_types[:,17,:,:]\n",
    "\n",
    "cu_clim = cldamt_cu.groupby('time.month').mean('time').compute() # climatology of daily data\n",
    "st_clim = cldamt_st.groupby('time.month').mean('time').compute()\n",
    "dc_clim = cldamt_dc.groupby('time.month').mean('time').compute()\n",
    "\n",
    "cu_rmseason = np.copy(cldamt_cu_all)\n",
    "st_rmseason = np.copy(cu_rmseason)\n",
    "dc_rmseason = np.copy(cu_rmseason)"
   ]
  },
  {
   "cell_type": "code",
   "execution_count": null,
   "metadata": {
    "hideCode": false,
    "hidePrompt": false
   },
   "outputs": [],
   "source": [
    "for n in range(len(time_event)):\n",
    "    cu_climsub = cu_clim.sel(lat=slice(lat_event[n]-5,lat_event[n]+5),\n",
    "                          lon=slice(lon_event[n]-5,lon_event[n]+5),month=time_event[n].month)\n",
    "    st_climsub = cu_clim.sel(lat=slice(lat_event[n]-5,lat_event[n]+5),\n",
    "                          lon=slice(lon_event[n]-5,lon_event[n]+5),month=time_event[n].month)\n",
    "    dc_climsub = cu_clim.sel(lat=slice(lat_event[n]-5,lat_event[n]+5),\n",
    "                          lon=slice(lon_event[n]-5,lon_event[n]+5),month=time_event[n].month)\n",
    "    \n",
    "    cu_rmseason[n,:] = cldamt_cu_all[n,:] - cu_climsub.mean(axis=(0,1)).values\n",
    "    st_rmseason[n,:] = cldamt_st_all[n,:] - st_climsub.mean(axis=(0,1)).values\n",
    "    dc_rmseason[n,:] = cldamt_dc_all[n,:] - dc_climsub.mean(axis=(0,1)).values"
   ]
  },
  {
   "cell_type": "code",
   "execution_count": null,
   "metadata": {
    "hideCode": false,
    "hidePrompt": false
   },
   "outputs": [],
   "source": [
    "%%time\n",
    "cldfrac_bin = np.array([0,0.1,0.25,0.5,1]) # cldfrac at ref\n",
    "cldamt_cu_regress = np.zeros((len(time_event),49))\n",
    "cldamt_st_regress = np.zeros((len(time_event),49))\n",
    "cldamt_dc_regress = np.zeros((len(time_event),49))\n",
    "\n",
    "for n in range(len(cldfrac_bin)-1):\n",
    "    idx = np.where(np.logical_and(cldfrac_all[:,24]>=cldfrac_bin[n],cldfrac_all[:,24]<cldfrac_bin[n+1]))[0]\n",
    "\n",
    "    for t in idx: # samples\n",
    "        tmp = prec_all[t,:];tmp2 = cldamt_cu_all[t,:]\n",
    "        pp = tmp[~np.isnan(tmp2)]; qq = tmp2[~np.isnan(tmp2)]  \n",
    "        if len(pp) > 0: # not empty\n",
    "            reg = [np.polyfit(pp,np.roll(qq,-lag),deg=1)[0] for lag in range(-24,25)]\n",
    "            cldamt_cu_regress[t,:] = np.asarray(reg)\n",
    "        else:\n",
    "            cldamt_cu_regress[t,:] = np.nan\n",
    "            \n",
    "for n in range(len(cldfrac_bin)-1):\n",
    "    idx = np.where(np.logical_and(cldfrac_all[:,24]>=cldfrac_bin[n],cldfrac_all[:,24]<cldfrac_bin[n+1]))[0]\n",
    "\n",
    "    for t in idx: # samples\n",
    "        tmp = prec_all[t,:];tmp2 = cldamt_st_all[t,:]\n",
    "        pp = tmp[~np.isnan(tmp2)]; qq = tmp2[~np.isnan(tmp2)]  \n",
    "        if len(pp) > 0: # not empty\n",
    "            reg = [np.polyfit(pp,np.roll(qq,-lag),deg=1)[0] for lag in range(-24,25)]\n",
    "            cldamt_st_regress[t,:] = np.asarray(reg)\n",
    "        else:\n",
    "            cldamt_st_regress[t,:] = np.nan\n",
    "\n",
    "for n in range(len(cldfrac_bin)-1):\n",
    "    idx = np.where(np.logical_and(cldfrac_all[:,24]>=cldfrac_bin[n],cldfrac_all[:,24]<cldfrac_bin[n+1]))[0]\n",
    "\n",
    "    for t in idx: # samples\n",
    "        tmp = prec_all[t,:];tmp2 = cldamt_dc_all[t,:]\n",
    "        pp = tmp[~np.isnan(tmp2)]; qq = tmp2[~np.isnan(tmp2)]  \n",
    "        if len(pp) > 0: # not empty\n",
    "            reg = [np.polyfit(pp,np.roll(qq,-lag),deg=1)[0] for lag in range(-24,25)]\n",
    "            cldamt_dc_regress[t,:] = np.asarray(reg)\n",
    "        else:\n",
    "            cldamt_dc_regress[t,:] = np.nan"
   ]
  },
  {
   "cell_type": "code",
   "execution_count": null,
   "metadata": {
    "hideCode": false,
    "hidePrompt": false
   },
   "outputs": [],
   "source": [
    "# cloud type evolution\n",
    "cldfrac_bin = np.array([0,0.1,0.25,0.5,1]) # mm/day\n",
    "cldamt_cu_bin = np.zeros((len(cldfrac_bin)-1,49)) # m/s\n",
    "cldamt_st_bin = np.zeros((len(cldfrac_bin)-1,49)) # m/s\n",
    "cldamt_dc_bin = np.zeros((len(cldfrac_bin)-1,49)) # m/s\n",
    "num_bin = np.copy(cldfrac_bin)*0\n",
    "\n",
    "for n in range(len(cldfrac_bin)-1):\n",
    "    idx = np.where(np.logical_and(cldfrac_all[:,24]>=cldfrac_bin[n],cldfrac_all[:,24]<cldfrac_bin[n+1]))[0]\n",
    "    cldamt_cu_bin[n,:] = np.nanmean(cldamt_cu_regress[idx,:],axis=0)\n",
    "    cldamt_st_bin[n,:] = np.nanmean(cldamt_st_regress[idx,:],axis=0)    \n",
    "    cldamt_dc_bin[n,:] = np.nanmean(cldamt_dc_regress[idx,:],axis=0)\n",
    "    num_bin[n] = len(idx)"
   ]
  },
  {
   "cell_type": "code",
   "execution_count": null,
   "metadata": {
    "hideCode": false,
    "hidePrompt": false,
    "scrolled": true
   },
   "outputs": [],
   "source": [
    "fig,ax = plt.subplots(2,2,figsize=(10,6))\n",
    "\n",
    "ax[0,0].plot(cldamt_cu_bin[0,:],'k')\n",
    "ax[0,0].plot(cldamt_st_bin[0,:],'b')\n",
    "ax[0,0].plot(cldamt_dc_bin[0,:],'r')\n",
    "\n",
    "ax[0,1].plot(cldamt_cu_bin[1,:],'k')\n",
    "ax[0,1].plot(cldamt_st_bin[1,:],'b')\n",
    "ax[0,1].plot(cldamt_dc_bin[1,:],'r')\n",
    "\n",
    "ax[1,0].plot(cldamt_cu_bin[2,:],'k')\n",
    "ax[1,0].plot(cldamt_st_bin[2,:],'b')\n",
    "ax[1,0].plot(cldamt_dc_bin[2,:],'r')\n",
    "\n",
    "ax[1,1].plot(cldamt_cu_bin[3,:],'k')\n",
    "ax[1,1].plot(cldamt_st_bin[3,:],'b')\n",
    "ax[1,1].plot(cldamt_dc_bin[3,:],'r')\n",
    "\n",
    "plt.show()"
   ]
  },
  {
   "cell_type": "code",
   "execution_count": null,
   "metadata": {
    "hideCode": false,
    "hidePrompt": false
   },
   "outputs": [],
   "source": [
    "lon_event.min()"
   ]
  },
  {
   "cell_type": "code",
   "execution_count": null,
   "metadata": {},
   "outputs": [],
   "source": []
  }
 ],
 "metadata": {
  "hide_code_all_hidden": false,
  "kernelspec": {
   "display_name": "Python 3",
   "language": "python",
   "name": "python3"
  },
  "language_info": {
   "codemirror_mode": {
    "name": "ipython",
    "version": 3
   },
   "file_extension": ".py",
   "mimetype": "text/x-python",
   "name": "python",
   "nbconvert_exporter": "python",
   "pygments_lexer": "ipython3",
   "version": "3.6.9"
  }
 },
 "nbformat": 4,
 "nbformat_minor": 2
}
