{
 "cells": [
  {
   "cell_type": "markdown",
   "metadata": {},
   "source": [
    "### Remapping GridSatB1 dataset into 0.1 deg x 0.1 deg from super high-resolution.\n",
    "adding time dimension into 0.1-deg data for cdo mergetime"
   ]
  },
  {
   "cell_type": "code",
   "execution_count": 1,
   "metadata": {},
   "outputs": [],
   "source": [
    "import os\n",
    "import numpy as np\n",
    "import glob\n",
    "import matplotlib.pyplot as plt\n",
    "import xarray as xr\n",
    "from netCDF4 import Dataset, date2num,num2date\n",
    "from datetime import datetime"
   ]
  },
  {
   "cell_type": "code",
   "execution_count": 2,
   "metadata": {},
   "outputs": [],
   "source": [
    "os.chdir('/data2/willytsai/TRMM_3hr/TRMM/2009_2018/')"
   ]
  },
  {
   "cell_type": "code",
   "execution_count": 3,
   "metadata": {},
   "outputs": [],
   "source": [
    "files = sorted(glob.glob('*2014*')+glob.glob('*2015*')+glob.glob('*2016*')+\n",
    "              glob.glob('*2017*')+glob.glob('*2018*')) # 2014-2018"
   ]
  },
  {
   "cell_type": "code",
   "execution_count": null,
   "metadata": {},
   "outputs": [],
   "source": [
    "for n in range(len(files)):\n",
    "    data2 = xr.open_dataset(files[n])\n",
    "    lat_sav = data2.nlat\n",
    "    lon_sav = data2.nlon\n",
    "\n",
    "    prec_contain = np.zeros((1,len(lon_sav),len(lat_sav)))\n",
    "    prec_contain[0,:,:] = data2.precipitation # precipitation [mm/hr]\n",
    "    ## writing netcdf for further processes    \n",
    "    dataset = Dataset('/data2/willytsai/TRMM_3hr/TRMM/2009_2018/merged/'+files[n]\n",
    "              ,'w',format='NETCDF4_CLASSIC')\n",
    "\n",
    "    lat = dataset.createDimension('nlat',len(lat_sav))\n",
    "    lon = dataset.createDimension('nlon',len(lon_sav))\n",
    "    time = dataset.createDimension('time',None)\n",
    "\n",
    "    # write variables\n",
    "    latitude = dataset.createVariable('nlat',np.float32,('nlat'))\n",
    "    longitude = dataset.createVariable('nlon',np.float32,('nlon'))\n",
    "    time = dataset.createVariable('time', np.float64, ('time',))\n",
    "    time.units = 'hours since 2000-01-01'\n",
    "    time.long_name = 'time'\n",
    "    times_arr = time[:]\n",
    "    precipitation = dataset.createVariable('precipitation',np.float32,('time','nlon','nlat'))\n",
    "\n",
    "    latitude[:] = lat_sav\n",
    "    longitude[:] = lon_sav\n",
    "    dates = datetime.strptime(files[n][5:16],'%Y%m%d.%H')\n",
    "    times = date2num(dates, time.units)\n",
    "    time[:] = times\n",
    "    precipitation[:,:] = prec_contain\n",
    "\n",
    "    # Variable Attributes\n",
    "    latitude.units = 'degree_north'\n",
    "    longitude.units = 'degree_east'\n",
    "    precipitation.units = 'mm/hr'\n",
    "\n",
    "    dataset.close()"
   ]
  },
  {
   "cell_type": "code",
   "execution_count": 6,
   "metadata": {},
   "outputs": [],
   "source": [
    "ff = xr.open_dataset('/data2/willytsai/TRMM_3hr/TRMM/2009_2018/merged/3B42.20140101.00.7.HDF.nc4')"
   ]
  },
  {
   "cell_type": "code",
   "execution_count": 7,
   "metadata": {},
   "outputs": [
    {
     "data": {
      "text/plain": [
       "(1, 1440, 241)"
      ]
     },
     "execution_count": 7,
     "metadata": {},
     "output_type": "execute_result"
    }
   ],
   "source": [
    "ff.precipitation.values.shape"
   ]
  },
  {
   "cell_type": "code",
   "execution_count": 8,
   "metadata": {},
   "outputs": [
    {
     "data": {
      "text/plain": [
       "<matplotlib.contour.QuadContourSet at 0x7f0143cfca58>"
      ]
     },
     "execution_count": 8,
     "metadata": {},
     "output_type": "execute_result"
    },
    {
     "data": {
      "image/png": "[encoded data removed]",
      "text/plain": [
       "<Figure size 432x288 with 1 Axes>"
      ]
     },
     "metadata": {
      "needs_background": "light"
     },
     "output_type": "display_data"
    }
   ],
   "source": [
    "plt.contourf((ff.precipitation)[0,:,:].T)"
   ]
  },
  {
   "cell_type": "code",
   "execution_count": 12,
   "metadata": {},
   "outputs": [],
   "source": [
    "ff_ori = xr.open_dataset('/data2/willytsai/TRMM_3hr/TRMM/2009_2018/3B42.20140101.00.7.HDF.nc4')"
   ]
  },
  {
   "cell_type": "code",
   "execution_count": 13,
   "metadata": {},
   "outputs": [
    {
     "data": {
      "text/plain": [
       "(1440, 241)"
      ]
     },
     "execution_count": 13,
     "metadata": {},
     "output_type": "execute_result"
    }
   ],
   "source": [
    "ff_ori.precipitation.shape"
   ]
  },
  {
   "cell_type": "code",
   "execution_count": 14,
   "metadata": {},
   "outputs": [
    {
     "data": {
      "text/plain": [
       "<matplotlib.contour.QuadContourSet at 0x7f0142d68dd8>"
      ]
     },
     "execution_count": 14,
     "metadata": {},
     "output_type": "execute_result"
    },
    {
     "data": {
      "image/png": "[encoded data removed]",
      "text/plain": [
       "<Figure size 432x288 with 1 Axes>"
      ]
     },
     "metadata": {
      "needs_background": "light"
     },
     "output_type": "display_data"
    }
   ],
   "source": [
    "plt.contourf((ff_ori.precipitation)[:,:].T)"
   ]
  },
  {
   "cell_type": "code",
   "execution_count": null,
   "metadata": {},
   "outputs": [],
   "source": []
  },
  {
   "cell_type": "code",
   "execution_count": null,
   "metadata": {},
   "outputs": [],
   "source": [
    "# year='2013'\n",
    "\n",
    "# # save regridded data one by one for preventing memory shortage....\n",
    "# for file_name in files:\n",
    "#     if (file_name[22:24]=='00' or file_name[22:24]=='03' or\n",
    "#         file_name[22:24]=='06' or file_name[22:24]=='09' or\n",
    "#         file_name[22:24]=='12' or file_name[22:24]=='15' or\n",
    "#         file_name[22:24]=='18' or file_name[22:24]=='21'):\n",
    "        \n",
    "#         os.chdir('/data/willytsai/gridsat_BT/'+year)\n",
    "#         #os.chdir('/data/willytsai/ISCCP/dynamo_ssa/gridsat_BT/')        \n",
    "#         bt_contain = np.nan*np.zeros((len(lat_sav),len(lon_sav))) # no data since 2018.10.01\n",
    "        \n",
    "#         data = xr.open_dataset(file_name)\n",
    "#         data2 = data.sel(lat=slice(-30,30)) # tropical only\n",
    "#         bt_contain[:,:] = data2.irwin_cdr # Infrared Brightness temperature [K]\n",
    "\n",
    "#         ## writing netcdf for further processes    \n",
    "#         dataset = Dataset('/data/willytsai/gridsat_BT/remap_0.1deg/'+year+'/'+file_name\n",
    "#                   ,'w',format='NETCDF4_CLASSIC')\n",
    "\n",
    "#         lat = dataset.createDimension('lat',len(lat_sav))\n",
    "#         lon = dataset.createDimension('lon',len(lon_sav))\n",
    "\n",
    "#         latitude = dataset.createVariable('lat',np.float32,('lat'))\n",
    "#         longitude = dataset.createVariable('lon',np.float32,('lon'))\n",
    "#         irwin_cdr = dataset.createVariable('irwin_cdr',np.float32,('lat','lon'))\n",
    "\n",
    "#         latitude[:] = lat_sav\n",
    "#         longitude[:] = lon_sav\n",
    "#         irwin_cdr[:,:] = bt_contain\n",
    "\n",
    "#         # Variable Attributes\n",
    "#         latitude.units = 'degree_north'\n",
    "#         longitude.units = 'degree_east'\n",
    "#         irwin_cdr.units = 'K'\n",
    "\n",
    "#         dataset.close()\n",
    "#         #####\n",
    "    \n",
    "#         # regrid the output netcdf file to 0.25deg by CDO command on linux \n",
    "#         #os.chdir('/data/willytsai/gridsat_BT/remap_0.1deg/'+year)\n",
    "#         os.chdir('/data/willytsai/gridsat_BT/remap_0.1deg/'+year)\n",
    "#         os.system('cdo remapbil,mygrid'+' '+file_name+' '+file_name[:25]+'_0.1deg.nc')\n",
    "#         os.system('rm '+file_name) # removing original high-res data with irwin_cdr "
   ]
  },
  {
   "cell_type": "code",
   "execution_count": null,
   "metadata": {},
   "outputs": [],
   "source": []
  }
 ],
 "metadata": {
  "kernelspec": {
   "display_name": "Python 3",
   "language": "python",
   "name": "python3"
  },
  "language_info": {
   "codemirror_mode": {
    "name": "ipython",
    "version": 3
   },
   "file_extension": ".py",
   "mimetype": "text/x-python",
   "name": "python",
   "nbconvert_exporter": "python",
   "pygments_lexer": "ipython3",
   "version": "3.6.9"
  }
 },
 "nbformat": 4,
 "nbformat_minor": 2
}
