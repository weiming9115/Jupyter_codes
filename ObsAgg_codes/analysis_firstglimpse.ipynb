{
 "cells": [
  {
   "cell_type": "code",
   "execution_count": null,
   "metadata": {
    "hideCode": false,
    "hidePrompt": false
   },
   "outputs": [],
   "source": [
    "import sys\n",
    "import os\n",
    "import xarray as xr\n",
    "from glob import glob\n",
    "import numpy as np\n",
    "import matplotlib.pyplot as plt\n",
    "import dask.array as da\n",
    "\n",
    "from datetime import datetime, timedelta\n",
    "import cartopy.crs as ccrs\n",
    "import cartopy.feature as cfeat\n",
    "from cartopy.util import add_cyclic_point\n",
    "from cartopy.mpl.gridliner import LONGITUDE_FORMATTER, LATITUDE_FORMATTER\n",
    "\n",
    "import warnings\n",
    "import psutil\n",
    "import matplotlib.dates as mdates\n",
    "from matplotlib.dates import DateFormatter\n",
    "from matplotlib import patches\n",
    "from matplotlib import cm\n",
    "\n",
    "from metpy import calc as mpcalc\n",
    "from metpy.units import units"
   ]
  },
  {
   "cell_type": "code",
   "execution_count": null,
   "metadata": {},
   "outputs": [],
   "source": [
    "os.chdir('/w2-data2/willytsai/python_module/')\n",
    "import SCAI_calc4obj as scai "
   ]
  },
  {
   "cell_type": "code",
   "execution_count": null,
   "metadata": {},
   "outputs": [],
   "source": [
    "def subset_TRMM(file_path,time_cent,lat_cent,lon_cent,days=3,lat_inc=5,lon_inc=5):\n",
    "\n",
    "    os.chdir(file_path)\n",
    "    \n",
    "    n=0\n",
    "    # daily file\n",
    "    date_sel = [time_cent + timedelta(days=day) for day in range(-days,days+1)] # selected files\n",
    "    for i,date in enumerate(date_sel):\n",
    "        date_str = datetime.strftime(date,format='%Y%m%d')\n",
    "        files = sorted(glob('*'+date_str+'*')) # sub-daily\n",
    "        for file in files:\n",
    "            data = xr.open_dataset(file)\n",
    "            data = data.sel(nlat=slice(lat_cent-lat_inc,lat_cent+lat_inc),\n",
    "                            nlon=slice(lon_cent-lon_inc,lon_cent+lon_inc))\n",
    "            data = data.assign_coords(time=datetime.strptime(file[5:16],'%Y%m%d.%H'))\n",
    "        \n",
    "            if n == 0: \n",
    "                tmp = data; n+=1\n",
    "            else:\n",
    "                tmp = xr.concat([tmp,data],dim='time')\n",
    "    \n",
    "    # extract fetched time window \n",
    "    data_sub = tmp.sel(time=slice(time_cent-timedelta(days=days),time_cent+timedelta(days=days)))\n",
    "    \n",
    "    return data_sub"
   ]
  },
  {
   "cell_type": "code",
   "execution_count": null,
   "metadata": {},
   "outputs": [],
   "source": [
    "def subset_MERRA2(file_path,time_cent,lat_cent,lon_cent,days=3,lat_inc=5,lon_inc=5):\n",
    "\n",
    "    os.chdir(file_path)\n",
    "    \n",
    "    n=0\n",
    "    # daily file \n",
    "    date_sel = [time_cent + timedelta(days=day) for day in range(-days,days+1)] # selected files\n",
    "    for i,date in enumerate(date_sel):\n",
    "        #print(date)\n",
    "        date_str = datetime.strftime(date,format='%Y%m%d')\n",
    "        file = sorted(glob('*'+date_str+'*'))[0]\n",
    "        data = xr.open_dataset(file)\n",
    "        data = data.sel(lat=slice(lat_cent-lat_inc,lat_cent+lat_inc),\n",
    "                        lon=slice(lon_cent-lon_inc,lon_cent+lon_inc))\n",
    "        \n",
    "        if n == 0: \n",
    "            tmp = data; n+=1\n",
    "        else:\n",
    "            tmp = xr.concat([tmp,data],'time')\n",
    "    \n",
    "    # extract fetched time window \n",
    "    data_sub = tmp.sel(time=slice(time_cent-timedelta(days=days),time_cent+timedelta(days=days)))\n",
    "    \n",
    "    return data_sub"
   ]
  },
  {
   "cell_type": "code",
   "execution_count": null,
   "metadata": {},
   "outputs": [],
   "source": [
    "def subset_gridsat(file_path,time_cent,lat_cent,lon_cent,days=3,lat_inc=5,lon_inc=5):\n",
    "\n",
    "    os.chdir(file_path)\n",
    "    \n",
    "    n=0\n",
    "    # daily file\n",
    "    date_sel = [time_cent + timedelta(days=day) for day in range(-days,days+1)] # selected files\n",
    "    for i,date in enumerate(date_sel):\n",
    "        date_str = datetime.strftime(date,format='%Y.%m.%d')\n",
    "        files = sorted(glob('*'+date_str+'*')) # sub-daily\n",
    "        for file in files:\n",
    "            data = xr.open_dataset(file)\n",
    "            data = data.sel(lat=slice(lat_cent-lat_inc,lat_cent+lat_inc)\n",
    "                            ,lon=slice(lon_cent-lon_inc,lon_cent+lon_inc))\n",
    "            data = data.assign_coords(time=datetime.strptime(file[11:24],'%Y.%m.%d.%H'))\n",
    "        \n",
    "            if n == 0: \n",
    "                tmp = data; n+=1\n",
    "            else:\n",
    "                tmp = xr.concat([tmp,data],'time')\n",
    "    \n",
    "    # extract fetched time window \n",
    "    data_sub = tmp.sel(time=slice(time_cent-timedelta(days=days),time_cent+timedelta(days=days)))\n",
    "    \n",
    "    return data_sub"
   ]
  },
  {
   "cell_type": "code",
   "execution_count": null,
   "metadata": {},
   "outputs": [],
   "source": [
    "def SCAI_index(prec_sm,bt_sm):\n",
    "\n",
    "    N_psT = np.zeros(bt_sm.shape[0]) # BT_based\n",
    "    N_prec = np.zeros(prec_sm.shape[0]) # prec_based\n",
    "    SCAI_BT = np.zeros(bt_sm.shape[0]) # cldfrac over domain by BT criteria\n",
    "    SCAI_p = np.zeros(prec_sm.shape[0]) # cldfrac over domain by prec criteria\n",
    "    \n",
    "   # N and SCAI indices\n",
    "    for t in range(bt_sm.shape[0]):\n",
    "        label_obj, N = scai.labeled_obj(bt_sm[t,:,:].values,cri=240,flag=2) # less than 240 W/m^2\n",
    "        SCAI_BT[t] = scai.SCAI_calc(label_obj,N,dx=0.25*100000,L=10*100000)\n",
    "        N_psT[t] = N\n",
    "    \n",
    "    for t in range(prec_sm.shape[0]):\n",
    "        label_obj, N = scai.labeled_obj(prec_sm[t,:,:].values,cri=1,flag=1) # larger than 1mm/day\n",
    "        SCAI_p[t] = scai.SCAI_calc(label_obj,N,dx=0.25*100000,L=10*100000)    \n",
    "        N_prec[t] = N\n",
    "\n",
    "    return (SCAI_BT,SCAI_p,N_psT,N_prec)"
   ]
  },
  {
   "cell_type": "code",
   "execution_count": null,
   "metadata": {
    "hideCode": false,
    "hidePrompt": false
   },
   "outputs": [],
   "source": [
    "warnings.filterwarnings('ignore')"
   ]
  },
  {
   "cell_type": "code",
   "execution_count": null,
   "metadata": {
    "hideCode": false,
    "hidePrompt": false
   },
   "outputs": [],
   "source": [
    "ISCCP_dir = '/w2-data/willytsai/ISCCP/hgg/'\n",
    "TRMM_dir = '/w2-data2/willytsai/TRMM_3hr/TRMM/'\n",
    "MERRA2_dir = '/w2-data2/willytsai/MERRA2/'\n",
    "MERRA2_3d_dir = '/w2-data/willytsai/'\n",
    "ERA5_dir = '/w2-data/willytsai/ERA5/'\n",
    "Gridsat_dir = '/w2-data/willytsai/gridsat_BT/remap_0.25deg/'\n",
    "fig_dir = '/w2-data/willytsai/ISCCP/fig/'"
   ]
  },
  {
   "cell_type": "markdown",
   "metadata": {
    "hideCode": false,
    "hidePrompt": false
   },
   "source": [
    "### Read data_event from written .dat files"
   ]
  },
  {
   "cell_type": "code",
   "execution_count": null,
   "metadata": {
    "hideCode": false,
    "hidePrompt": false
   },
   "outputs": [],
   "source": [
    "# load data\n",
    "os.chdir('/w2-data/willytsai/ISCCP/')\n",
    "\n",
    "# variable namelist\n",
    "var_name = np.loadtxt('var_name_2014_2018.dat',dtype='U16')\n",
    "# event time\n",
    "var_time = np.loadtxt('time_event_2014_2018.dat',dtype='U13')\n",
    "time_event = []\n",
    "for t in var_time:\n",
    "    tmp = datetime.strptime(t,'%Y-%m-%d-%H')\n",
    "    time_event.append(tmp)\n",
    "\n",
    "var_dataset = (np.loadtxt('var_event_2014_2018.dat'))"
   ]
  },
  {
   "cell_type": "code",
   "execution_count": null,
   "metadata": {
    "hideCode": false,
    "hidePrompt": false
   },
   "outputs": [],
   "source": [
    "os.chdir('/w2-data/willytsai/TQUV_3hr/')\n",
    "files = glob('*.nc')\n",
    "lev = xr.open_dataset(files[0]).T.lev # MERRA2 standard level \n",
    "del files\n",
    "os.chdir('/w2-data/willytsai/Cloudfrac_3hr/')\n",
    "lev_m = np.loadtxt('model_lev.txt')[:,1]# MERRA2 model level, 58 levs [72-15]"
   ]
  },
  {
   "cell_type": "code",
   "execution_count": null,
   "metadata": {
    "hideCode": false,
    "hidePrompt": false
   },
   "outputs": [],
   "source": [
    "def event_region(lat_event,lon_event,lon_w,lon_e,lat_s,lat_n):\n",
    "    'select specfic region'\n",
    "    idx = np.where(np.logical_and(lon_event >= lon_w, lon_event <= lon_e))[0]\n",
    "    idy = np.where(np.logical_and(lat_event >= lat_s, lat_event <= lat_n))[0]\n",
    "    idc = np.intersect1d(idx,idy)\n",
    "    return idc"
   ]
  },
  {
   "cell_type": "code",
   "execution_count": null,
   "metadata": {
    "hideCode": false,
    "hidePrompt": false
   },
   "outputs": [],
   "source": [
    "lat_event = var_dataset[:,0]\n",
    "lon_event = var_dataset[:,1]"
   ]
  },
  {
   "cell_type": "code",
   "execution_count": null,
   "metadata": {},
   "outputs": [],
   "source": [
    "time_event = np.asarray(time_event)\n",
    "lat_event = lat_event\n",
    "lon_event = lon_event"
   ]
  },
  {
   "cell_type": "code",
   "execution_count": null,
   "metadata": {
    "hideCode": false,
    "hidePrompt": false
   },
   "outputs": [],
   "source": [
    "os.chdir('/w2-data/willytsai/ISCCP')\n",
    "T_all = np.load('T_all.mat.npy')\n",
    "q_all = np.load('q_all.mat.npy')\n",
    "u_all = np.load('u_all.mat.npy')\n",
    "v_all = np.load('v_all.mat.npy')\n",
    "N_all = np.load('N_all.mat.npy')\n",
    "SCAIbt_all = np.load('SCAIbt_all.mat.npy')\n",
    "bt_all = np.load('bt_all.mat.npy')\n",
    "llws_all = np.load('llws_all.mat.npy')\n",
    "prec_all = np.load('prec_all.mat.npy')\n",
    "cwv_all = np.load('cwv_all.mat.npy')\n",
    "crh_all = np.load('crh_all.mat.npy')\n",
    "\n",
    "omega_all = np.load('omega_all.mat.npy')\n",
    "rh_all = np.load('rh_all.mat.npy')\n",
    "cwvstd_all = np.load('cwvstd_all.mat.npy')\n",
    "SF_all = np.load('SF_all.mat.npy')\n",
    "cldfrac_all = np.load('cldfrac_all.mat.npy')\n",
    "CFv_all = np.load('CFv_all.mat.npy')\n",
    "div_all  = np.load('div_all.mat.npy')\n",
    "cwvten_dyn_all = np.load('cwvten_dyn_all.mat.npy')\n",
    "cwvten_phy_all = np.load('cwvten_phy_all.mat.npy')\n",
    "cwvten_ana_all = np.load('cwvten_ana_all.mat.npy')\n",
    "cwvten_tot_all = cwvten_dyn_all+cwvten_phy_all+cwvten_ana_all\n",
    "Abar_all = (cldfrac_all/N_all*1600*(25*25))**0.5 # square root of Area [km]\n",
    "cape_all = np.load('cape_all.mat.npy')\n",
    "cin_all = np.load('cin_all.mat.npy')\n",
    "\n",
    "cldamt_cu_all = np.load('cldamt_cu_all.mat.npy')\n",
    "cldamt_st_all = np.load('cldamt_st_all.mat.npy')\n",
    "cldamt_dc_all = np.load('cldamt_dc_all.mat.npy')\n",
    "\n",
    "crh_q1_all = np.load('crh_q1_all.mat.npy')\n",
    "crh_q4_all = np.load('crh_q4_all.mat.npy')\n",
    "\n",
    "buoy_all = np.load('buoy_all.mat.npy')\n",
    "LHF_all = np.load('LHF_all.mat.npy')\n",
    "SHF_all = np.load('SHF_all.mat.npy')\n",
    "qvflux_all = np.load('qvfluxm_all.mat.npy')\n",
    "TQL_all = np.load('TQL_all.mat.npy')\n",
    "TQI_all = np.load('TQI_all.mat.npy')\n",
    "TQLI_all = TQL_all + TQI_all; del TQL_all, TQI_all"
   ]
  },
  {
   "cell_type": "code",
   "execution_count": null,
   "metadata": {},
   "outputs": [],
   "source": [
    "def center_case(time_event,lon_event,lat_event,cri_r=300,ratio=0.5):\n",
    "    'precipitation area is enclosed within a circle R at reference time'\n",
    "    \n",
    "    file_path = TRMM_dir+'2014_2018'\n",
    "    time_cent = time_event\n",
    "    lat_cent = lat_event\n",
    "    lon_cent = lon_event\n",
    "    \n",
    "    # read preciptation data in the given domain\n",
    "    data = subset_TRMM(file_path,time_cent,lat_cent,lon_cent,days=0,lat_inc=5,lon_inc=5)\n",
    "    prec_sm = data.precipitation.squeeze()\n",
    "    prec_sum = np.nansum(prec_sm)\n",
    "\n",
    "    # calculate the distance matrix\n",
    "    x,y = np.meshgrid(prec_sm.nlon,prec_sm.nlat)\n",
    "    dist = np.sqrt((x-lon_cent)**2+(y-lat_cent)**2)*100 # distance from center [km]\n",
    "    prec_sm.values[dist > cri_r] = 0\n",
    "    prec_frac = (np.nansum(prec_sm)/prec_sum)\n",
    "    \n",
    "    if prec_frac >= ratio:\n",
    "        result = 1\n",
    "    else:\n",
    "        result = 0\n",
    "\n",
    "    return result, prec_frac"
   ]
  },
  {
   "cell_type": "code",
   "execution_count": null,
   "metadata": {
    "hideCode": false,
    "hidePrompt": false
   },
   "outputs": [],
   "source": [
    "def remove_diurnal_1D(data_all):\n",
    "    'remove diurnal cycle in the time series [N,time], N cases'\n",
    "    tmp_re = np.copy(data_all)\n",
    "    NT = data_all.shape[1]\n",
    "    \n",
    "    for n in range(data_all.shape[0]):\n",
    "        tmp = np.fft.fft(data_all[n,:]) # 49\n",
    "        freqs = np.array(range(NT))   # This gets the left end correct\n",
    "        reversed_freqs = freqs[::-1]  # Reverse the array \n",
    "        reversed_freqs[0:int(NT/2)] = freqs[1:int(NT/2)+1] # Fix the low end of the reversed array\n",
    "        freqs = reversed_freqs[::-1]  # reverse it back \n",
    "        tmp[np.where(freqs==6)] = 0 # remove diurnal 6 cycles for 6 days\n",
    "        tmp[np.where(freqs==12)] = 0 # remove half-day\n",
    "        tmp_re[n,:] = np.fft.ifft(tmp) # reconstructed time-series                   \n",
    "    \n",
    "    return tmp_re"
   ]
  },
  {
   "cell_type": "code",
   "execution_count": null,
   "metadata": {
    "hideCode": false,
    "hidePrompt": false
   },
   "outputs": [],
   "source": [
    "def remove_diurnal_2D(data_all):\n",
    "    'remove diurnal cycle in the time series [N,time,lev], N cases'\n",
    "    \n",
    "    tmp_re = np.copy(data_all)\n",
    "    NT = data_all.shape[1]\n",
    "    \n",
    "    for n in range(data_all.shape[0]):\n",
    "        for k in range(data_all.shape[2]):\n",
    "            tmp = np.fft.fft(data_all[n,:,k]) # 49\n",
    "            freqs = np.array(range(NT))   # This gets the left end correct\n",
    "            reversed_freqs = freqs[::-1]  # Reverse the array \n",
    "            reversed_freqs[0:int(NT/2)] = freqs[1:int(NT/2)+1] # Fix the low end of the reversed array\n",
    "            freqs = reversed_freqs[::-1]  # reverse it back \n",
    "            tmp[np.where(freqs==6)] = 0 # remove diurnal 6 cycles for 6 days\n",
    "            tmp[np.where(freqs==12)] = 0 # remove half-day\n",
    "            tmp_re[n,:,k] = np.fft.ifft(tmp) # reconstructed time-series                   \n",
    "    \n",
    "    return tmp_re"
   ]
  },
  {
   "cell_type": "markdown",
   "metadata": {},
   "source": [
    "#### overlapping events identification and removal"
   ]
  },
  {
   "cell_type": "code",
   "execution_count": null,
   "metadata": {},
   "outputs": [],
   "source": [
    "lat_cen = np.arange(-5,10,5)\n",
    "lon_cen = np.arange(-175,180,5)\n",
    "idx_record = [] # idx list for final events\n",
    "\n",
    "for lat in lat_cen:\n",
    "    for lon in lon_cen:\n",
    "        idx = np.where(lat_event==lat)[0]\n",
    "        idy = np.where(lon_event==lon)[0]\n",
    "        idx_org = np.intersect1d(idx,idy)\n",
    "        \n",
    "        time_frame = time_event[idx_org]\n",
    "        for i,idx in enumerate(idx_org):\n",
    "            if i == 0:\n",
    "                if (time_frame[i+1]-time_frame[i]).days >= 6:\n",
    "                    idx_record.append(idx)\n",
    "            elif i == len(idx_org)-1:\n",
    "                if (time_frame[i]-time_frame[i-1]).days >= 6:\n",
    "                    idx_record.append(idx)\n",
    "            else:\n",
    "                if (time_frame[i+1]-time_frame[i]).days >= 6 and \\\n",
    "                   (time_frame[i]-time_frame[i-1]).days >= 6:\n",
    "                    idx_record.append(idx)            "
   ]
  },
  {
   "cell_type": "code",
   "execution_count": null,
   "metadata": {},
   "outputs": [],
   "source": [
    "idx_rm = np.array(idx_record) # new idx with removal overlapping"
   ]
  },
  {
   "cell_type": "code",
   "execution_count": null,
   "metadata": {},
   "outputs": [],
   "source": [
    "time_event = time_event[idx_rm]\n",
    "lat_event = lat_event[idx_rm]\n",
    "lon_event = lon_event[idx_rm]\n",
    "\n",
    "T_all = T_all[idx_rm,:,:]\n",
    "q_all = q_all[idx_rm,:,:]\n",
    "u_all = u_all[idx_rm,:,:]\n",
    "v_all = v_all[idx_rm,:,:]\n",
    "N_all = N_all[idx_rm,:]\n",
    "SCAIbt_all = SCAIbt_all[idx_rm,:]\n",
    "bt_all = bt_all[idx_rm,:]\n",
    "llws_all = llws_all[idx_rm,:]\n",
    "prec_all = prec_all[idx_rm,:]\n",
    "precstd_all = precstd_all[idx_rm,:]\n",
    "cwv_all = cwv_all[idx_rm,:]\n",
    "crh_all = crh_all[idx_rm,:]\n",
    "\n",
    "omega_all = omega_all[idx_rm,:,:]\n",
    "rh_all = rh_all[idx_rm,:,:]\n",
    "cwvstd_all = cwvstd_all[idx_rm,:]\n",
    "cldfrac_all = cldfrac_all[idx_rm,:]\n",
    "CFv_all = CFv_all[idx_rm,:,:]\n",
    "div_all  = div_all[idx_rm,:,:]\n",
    "cwvten_dyn_all = cwvten_dyn_all[idx_rm,:]\n",
    "cwvten_phy_all = cwvten_phy_all[idx_rm,:]\n",
    "cwvten_ana_all = cwvten_ana_all[idx_rm,:]\n",
    "cwvten_tot_all = cwvten_dyn_all+cwvten_phy_all+cwvten_ana_all\n",
    "Abar_all = Abar_all[idx_rm,:]\n",
    "cape_all = cape_all[idx_rm,:]\n",
    "cin_all = cin_all[idx_rm,:]\n",
    "\n",
    "cldamt_cu_all = cldamt_cu_all[idx_rm,:]\n",
    "cldamt_st_all = cldamt_st_all[idx_rm,:]\n",
    "cldamt_dc_all = cldamt_dc_all[idx_rm,:]\n",
    "\n",
    "crh_q1_all = crh_q1_all[idx_rm,:]\n",
    "crh_q4_all = crh_q4_all[idx_rm,:]\n",
    "\n",
    "buoy_all = buoy_all[idx_rm,:,:]\n",
    "qvflux_all = qvflux_all[idx_rm,:,:]\n",
    "SHF_all = SHF_all[idx_rm,:]\n",
    "LHF_all = LHF_all[idx_rm,:]\n",
    "TQLI_all = TQLI_all[idx_rm,:]"
   ]
  },
  {
   "cell_type": "code",
   "execution_count": null,
   "metadata": {},
   "outputs": [],
   "source": [
    "# %%time\n",
    "# # center event\n",
    "# case_mask = []\n",
    "# for t in range(10):\n",
    "#     case_mask.append(center_case(time_event[t],lat_event[t],lon_event[t]\n",
    "#                                  ,cri_r=300,ratio=0.5))"
   ]
  },
  {
   "cell_type": "code",
   "execution_count": null,
   "metadata": {
    "hideCode": false,
    "hidePrompt": false
   },
   "outputs": [],
   "source": [
    "# remove diurnal cycle and marginal cases\n",
    "T_all = remove_diurnal_2D(T_all) \n",
    "q_all = remove_diurnal_2D(q_all)\n",
    "u_all = remove_diurnal_2D(u_all)\n",
    "v_all = remove_diurnal_2D(v_all)\n",
    "N_all = N_all\n",
    "SCAIbt_all = SCAIbt_all\n",
    "llws_all = remove_diurnal_1D(llws_all)\n",
    "bt_all = remove_diurnal_1D(bt_all)\n",
    "prec_all = remove_diurnal_1D(prec_all)\n",
    "precstd_all = remove_diurnal_1D(prec_all)\n",
    "cwv_all = remove_diurnal_1D(cwv_all)\n",
    "crh_all = remove_diurnal_1D(crh_all)\n",
    "\n",
    "omega_all = remove_diurnal_2D(omega_all)\n",
    "rh_all = remove_diurnal_2D(rh_all)\n",
    "cwvstd_all = remove_diurnal_1D(cwvstd_all)\n",
    "SF_all = remove_diurnal_1D(SF_all)\n",
    "cldfrac_all = cldfrac_all\n",
    "CFv_all = remove_diurnal_2D(CFv_all)\n",
    "div_all  = remove_diurnal_2D(div_all); \n",
    "cwvten_dyn_all = remove_diurnal_1D(cwvten_dyn_all)\n",
    "cwvten_phy_all = remove_diurnal_1D(cwvten_phy_all)\n",
    "cwvten_ana_all = remove_diurnal_1D(cwvten_ana_all)\n",
    "cwvten_tot_all = cwvten_dyn_all+cwvten_phy_all+cwvten_ana_all;\n",
    "Abar_all = Abar_all\n",
    "cape_all = remove_diurnal_1D(cape_all)\n",
    "cin_all = remove_diurnal_1D(cin_all)\n",
    "\n",
    "crh_q1_all = remove_diurnal_1D(crh_q1_all)\n",
    "crh_q4_all = remove_diurnal_1D(crh_q4_all)\n",
    "\n",
    "cldamt_cu_all = remove_diurnal_1D(cldamt_cu_all)\n",
    "cldamt_st_all = remove_diurnal_1D(cldamt_st_all)\n",
    "cldamt_dc_all = remove_diurnal_1D(cldamt_dc_all)\n",
    "\n",
    "SHF_all = remove_diurnal_1D(SHF_all)\n",
    "LHF_all = remove_diurnal_1D(LHF_all)\n",
    "SFX_all = SHF_all + LHF_all\n",
    "TQLI_all = remove_diurnal_1D(TQLI_all)\n",
    "\n",
    "#SFXstd_all = remove_diurnal_1D(SFXstd_all)\n",
    "qvflux_all = remove_diurnal_2D(qvflux_all)"
   ]
  },
  {
   "cell_type": "code",
   "execution_count": null,
   "metadata": {
    "hideCode": false,
    "hidePrompt": false
   },
   "outputs": [],
   "source": [
    "def idx_season(time_event):\n",
    "    \"return idx for four seasons\"\n",
    "    idx_DJF = [];idx_MAM = []\n",
    "    idx_JJA = [];idx_SON = []\n",
    "    for i,time in enumerate(time_event):\n",
    "        if time.month == 12 or time.month == 1 or time.month == 2:\n",
    "            idx_DJF.append(i)\n",
    "        if time.month == 3 or time.month == 4 or time.month == 5:\n",
    "            idx_MAM.append(i)\n",
    "        if time.month == 6 or time.month == 7 or time.month == 8:\n",
    "            idx_JJA.append(i)\n",
    "        if time.month == 9 or time.month == 10 or time.month == 11:\n",
    "            idx_SON.append(i)\n",
    "    \n",
    "    return idx_DJF,idx_MAM,idx_JJA,idx_SON"
   ]
  },
  {
   "cell_type": "markdown",
   "metadata": {
    "hideCode": false,
    "hidePrompt": false
   },
   "source": [
    "#### TRMM precipitation seasonality showcases"
   ]
  },
  {
   "cell_type": "code",
   "execution_count": null,
   "metadata": {
    "hideCode": false,
    "hidePrompt": false
   },
   "outputs": [],
   "source": [
    "#os.chdir(TRMM_dir+'2014_2018')"
   ]
  },
  {
   "cell_type": "code",
   "execution_count": null,
   "metadata": {
    "hideCode": false,
    "hidePrompt": false
   },
   "outputs": [],
   "source": [
    "# date = []; date_begin = datetime(2014,1,1)\n",
    "# for t in range(14608):\n",
    "#     tmp = date_begin + t*timedelta(hours=3)\n",
    "#     date.append(tmp)\n",
    "    \n",
    "# # TRMM3B42 dataset 2014, 3hrly separate\n",
    "# yr = ['2014_2018']\n",
    "# prec_3hr = np.nan*np.zeros((len(date),241,1440))\n",
    "\n",
    "# n=1\n",
    "# files = sorted(glob('3B42.*'))\n",
    "# for file in files:\n",
    "#     data = xr.open_dataset(file).precipitation        \n",
    "#     prec_3hr[n-1,:,:] = data.values.swapaxes(0,1)\n",
    "#     n+=1\n",
    "# lon = data.nlon; lat = data.nlat\n",
    "# prec_xr = xr.DataArray(prec_3hr,coords=[date,lat,lon],dims=['time','lat','lon']); del prec_3hr"
   ]
  },
  {
   "cell_type": "code",
   "execution_count": null,
   "metadata": {
    "hideCode": false,
    "hidePrompt": false
   },
   "outputs": [],
   "source": [
    "# prec = prec_xr.sel(lat=slice(-20,20)) # indian ocean\n",
    "# prec_clim = prec.groupby('time.month').mean('time').compute()"
   ]
  },
  {
   "cell_type": "code",
   "execution_count": null,
   "metadata": {
    "hideCode": false,
    "hidePrompt": false
   },
   "outputs": [],
   "source": [
    "# fig = plt.figure(figsize=(13,4))\n",
    "# ax = plt.axes(projection=ccrs.PlateCarree(central_longitude=180))\n",
    "\n",
    "# clevs=np.linspace(0,20,21)\n",
    "# ps = plt.contourf(prec_clim.lon,prec_clim.lat,prec_clim.mean(axis=0)*24,transform=ccrs.PlateCarree(),\n",
    "#                   levels=clevs,cmap='jet',)\n",
    "# cbar = plt.colorbar(fraction=0.05,pad=0.1,orientation='horizontal')\n",
    "# cbar.set_label('[mm/day]',fontsize=12)\n",
    "# #cs = plt.contour(prec_clim.lon,prec_clim.lat,prec_clim.mean(axis=0)*24)\n",
    "# ax.coastlines()\n",
    "# ax.add_feature(cfeat.LAND,zorder=1,edgecolor='k',facecolor='whitesmoke') # maskout LAND\n",
    "# #gl = ax.gridlines(draw_labels=False,linestyle='--')\n",
    "# #gl.xlabels_top = gl.ylabels_right = False\n",
    "# #gl.xformatter = LONGITUDE_FORMATTER\n",
    "# #gl.yformatter = LATITUDE_FORMATTER\n",
    "# ax.set_yticks([-20,-15,-10,-5,0,5,10,15,20])\n",
    "# ax.set_yticklabels(['20S','15S','10S','5S','EQ','5N','10N','15N','20N'])\n",
    "# ax.set_xticks([-179.875,-120,-60,-0,60,120,179.875])\n",
    "# ax.set_xticklabels(['0','60E','120E','180','120W','60W','0'])\n",
    "# ax.set_ylim([-20,20]);ax.grid(linestyle=':')\n",
    "# plt.title('TRMM 3B42 precipitation, 2014-2018, annual mean',fontsize=14)"
   ]
  },
  {
   "cell_type": "code",
   "execution_count": null,
   "metadata": {
    "hideCode": false,
    "hidePrompt": false
   },
   "outputs": [],
   "source": [
    "# os.chdir('/w2-data/willytsai/ISCCP/fig/')\n",
    "# fig.savefig('TRMMprecip_regimes_demo.pdf',dpi=200)"
   ]
  },
  {
   "cell_type": "code",
   "execution_count": null,
   "metadata": {
    "hideCode": false,
    "hidePrompt": false
   },
   "outputs": [],
   "source": [
    "# # explanation rate \n",
    "# lon_bin = np.arange(-175,185,5)\n",
    "# lat_bin = np.arange(-5,10,5)\n",
    "\n",
    "# precsum_total = np.zeros((len(lon_bin),len(lat_bin)))\n",
    "# for i,lon_cen in enumerate(lon_bin):\n",
    "#     for j,lat_cen in enumerate(lat_bin):\n",
    "#         precsum_total[i,j] = prec_xr.sel(lat=slice(lat_cen-5,lat_cen+5),lon=slice(lon_cen-5,lon_cen+5)).sum()"
   ]
  },
  {
   "cell_type": "code",
   "execution_count": null,
   "metadata": {
    "hideCode": false,
    "hidePrompt": false
   },
   "outputs": [],
   "source": [
    "# precsum_event = np.copy(precsum_total)*0\n",
    "# for n in range(len(time_event)):\n",
    "    \n",
    "#     for i,lon_cen in enumerate(lon_bin):\n",
    "#         for j,lat_cen in enumerate(lat_bin):\n",
    "#             if lon_cen == lon_event[n] and lat_cen == lat_event[n]:\n",
    "#                 precsum_event[i,j] += prec_all[n,:].sum()*1600 "
   ]
  },
  {
   "cell_type": "code",
   "execution_count": null,
   "metadata": {
    "hideCode": false,
    "hidePrompt": false
   },
   "outputs": [],
   "source": [
    "# # convert lon_bin, lat_bin for pcolormap\n",
    "# lat_edge = np.arange(-7.5,12.5,5)\n",
    "# lon_edge = np.arange(-182.5,182.5,5)\n",
    "\n",
    "# cover_ratio = precsum_event/precsum_total # explained total rainfall\n",
    "\n",
    "# cover_ratio = np.vstack([np.zeros((cover_ratio.shape[1])),cover_ratio])\n",
    "# cover_ratio = np.vstack([cover_ratio.T,np.zeros((cover_ratio.shape[0])).T]).T\n",
    "# cover_ratio[cover_ratio==0] = np.nan"
   ]
  },
  {
   "cell_type": "code",
   "execution_count": null,
   "metadata": {
    "hideCode": false,
    "hidePrompt": false
   },
   "outputs": [],
   "source": [
    "# fig = plt.figure(figsize=(13,4))\n",
    "# ax = plt.axes(projection=ccrs.PlateCarree(central_longitude=180))\n",
    "\n",
    "# clevs=np.linspace(0,20,21)\n",
    "# ps = plt.pcolormesh(lon_edge,lat_edge,cover_ratio.T,transform=ccrs.PlateCarree(),\n",
    "#                   cmap='jet',)\n",
    "# cbar = plt.colorbar(fraction=0.05,pad=0.1,orientation='horizontal')\n",
    "# cbar.set_label('[mm/day]',fontsize=12)\n",
    "# #cs = plt.contour(prec_clim.lon,prec_clim.lat,prec_clim.mean(axis=0)*24)\n",
    "# ax.coastlines()\n",
    "# ax.add_feature(cfeat.LAND,zorder=1,edgecolor='k',facecolor='whitesmoke') # maskout LAND\n",
    "# #gl = ax.gridlines(draw_labels=False,linestyle='--')\n",
    "# #gl.xlabels_top = gl.ylabels_right = False\n",
    "# #gl.xformatter = LONGITUDE_FORMATTER\n",
    "# #gl.yformatter = LATITUDE_FORMATTER\n",
    "\n",
    "# ax.set_yticks([-20,-15,-10,-5,0,5,10,15,20])\n",
    "# ax.set_yticklabels(['20S','15S','10S','5S','EQ','5N','10N','15N','20N'])\n",
    "# ax.set_xticks([-179.875,-120,-60,-0,60,120,179.875])\n",
    "# ax.set_xticklabels(['0','60E','120E','180','120W','60W','0'])\n",
    "# ax.set_ylim([-20,20]);ax.grid(linestyle=':')"
   ]
  },
  {
   "cell_type": "markdown",
   "metadata": {
    "hideCode": false,
    "hidePrompt": false
   },
   "source": [
    "#### Region definition"
   ]
  },
  {
   "cell_type": "code",
   "execution_count": null,
   "metadata": {
    "hideCode": false,
    "hidePrompt": false
   },
   "outputs": [],
   "source": [
    "idx_IND = event_region(lat_event,lon_event,60,90,-10,10) # Tropical Indian Ocean\n",
    "idx_WPC = event_region(lat_event,lon_event,150,180,-10,10) # Tropical Western Pacific\n",
    "idx_EPC = event_region(lat_event,lon_event,-180,-90,-10,10) # Tropical Eastern Pacific"
   ]
  },
  {
   "cell_type": "code",
   "execution_count": null,
   "metadata": {},
   "outputs": [],
   "source": [
    "len(idx_IND)+len(idx_WPC)+len(idx_EPC)"
   ]
  },
  {
   "cell_type": "code",
   "execution_count": null,
   "metadata": {
    "hideCode": false,
    "hidePrompt": false
   },
   "outputs": [],
   "source": [
    "cldfrac_IND = cldfrac_all[idx_IND,:] # reference cloud coverage \n",
    "cldfrac_WPC = cldfrac_all[idx_WPC,:] # reference cloud coverage \n",
    "cldfrac_EPC = cldfrac_all[idx_EPC,:] # reference cloud coverage \n",
    "\n",
    "prec_IND = prec_all[idx_IND,:] \n",
    "prec_WPC = prec_all[idx_WPC,:] \n",
    "prec_EPC = prec_all[idx_EPC,:] \n",
    "\n",
    "crh_IND = crh_all[idx_IND,:] \n",
    "crh_WPC = crh_all[idx_WPC,:] \n",
    "crh_EPC = crh_all[idx_EPC,:] \n",
    "\n",
    "Abar_IND = Abar_all[idx_IND,:]\n",
    "Abar_WPC = Abar_all[idx_WPC,:]\n",
    "Abar_EPC = Abar_all[idx_EPC,:]\n",
    "\n",
    "SCAIbt_IND = SCAIbt_all[idx_IND,:]\n",
    "SCAIbt_WPC = SCAIbt_all[idx_WPC,:]\n",
    "SCAIbt_EPC = SCAIbt_all[idx_EPC,:]\n",
    "\n",
    "N_IND = N_all[idx_IND,:]\n",
    "N_WPC = N_all[idx_WPC,:]\n",
    "N_EPC = N_all[idx_EPC,:]\n",
    "\n",
    "q_IND = q_all[idx_IND,:,:]\n",
    "q_WPC = q_all[idx_WPC,:,:]\n",
    "q_EPC = q_all[idx_EPC,:,:]\n",
    "\n",
    "buoy_IND = buoy_all[idx_IND,:,:]\n",
    "buoy_WPC = buoy_all[idx_WPC,:,:]\n",
    "buoy_EPC = buoy_all[idx_EPC,:,:]\n",
    "\n",
    "rh_IND = rh_all[idx_IND,:,:]\n",
    "rh_WPC = rh_all[idx_WPC,:,:]\n",
    "rh_EPC = rh_all[idx_EPC,:,:]\n",
    "\n",
    "#------------------------------------------------\n",
    "counts_IND,bins = np.histogram(cldfrac_IND[:,24],bins=10,range=(0,1))\n",
    "plt.plot(bins[1:],counts_IND/sum(counts_IND),'-r',markerfacecolor='w')\n",
    "counts_WPC,bins = np.histogram(cldfrac_WPC[:,24],bins=10,range=(0,1))\n",
    "plt.plot(bins[1:],counts_WPC/sum(counts_WPC),'-s',color='orange',markerfacecolor='w')\n",
    "counts_EPC,bins = np.histogram(cldfrac_EPC[:,24],bins=10,range=(0,1))\n",
    "plt.plot(bins[1:],counts_EPC/sum(counts_EPC),'-sb',markerfacecolor='w')\n",
    "plt.ylabel('Probability',fontsize=12);plt.xlabel('Event cloud cover',fontsize=12)\n",
    "legend=plt.legend(['IND '+'('+str(sum(counts_IND))+')',\n",
    "            'WPC '+'('+str(sum(counts_WPC))+')',\n",
    "            'EPC '+'('+str(sum(counts_EPC))+')'])\n",
    "plt.setp(legend.get_texts(),color='dimgrey')\n",
    "plt.xlim([-0.05,1.05]);plt.grid(linestyle=':');plt.show()\n",
    "\n",
    "counts_IND,bins = np.histogram(Abar_IND[:,24],bins=10,range=(0,400))\n",
    "plt.plot(bins[1:],counts_IND/sum(counts_IND),'-sr',markerfacecolor='w')\n",
    "counts_WPC,bins = np.histogram(Abar_WPC[:,24],bins=10,range=(0,400))\n",
    "plt.plot(bins[1:],counts_WPC/sum(counts_WPC),'-s',color='orange',markerfacecolor='w')\n",
    "counts_EPC,bins = np.histogram(Abar_EPC[:,24],bins=10,range=(0,400))\n",
    "plt.plot(bins[1:],counts_EPC/sum(counts_EPC),'-sb',markerfacecolor='w')\n",
    "plt.ylabel('Probability',fontsize=12);plt.xlabel('Cloud coverage',fontsize=12)\n",
    "legend=plt.legend(['IND '+'('+str(sum(counts_IND))+')',\n",
    "            'WPC '+'('+str(sum(counts_WPC))+')',\n",
    "            'EPC '+'('+str(sum(counts_EPC))+')'])\n",
    "plt.setp(legend.get_texts(),color='dimgrey')\n",
    "plt.xlim([0,400]);plt.grid(linestyle=':');plt.show()"
   ]
  },
  {
   "cell_type": "code",
   "execution_count": null,
   "metadata": {
    "hideCode": false,
    "hidePrompt": false
   },
   "outputs": [],
   "source": [
    "# CRH vs cloud cover for all regimes\n",
    "crh_cri = np.array([0,0.5,0.65,0.8,1])\n",
    "cover_cri = np.array([0,0.2,0.4,0.6,0.8,1])\n",
    "cover_bin = np.zeros((len(crh_cri)-1,len(cover_cri)-1))\n",
    "precm_bin = np.copy(cover_bin)\n",
    "precste_bin = np.copy(cover_bin)\n",
    "SCAIbt_bin = np.copy(cover_bin)\n",
    "SCAIbtste_bin = np.copy(cover_bin)\n",
    "\n",
    "for n in range(len(crh_cri)-1):\n",
    "    idx = np.where(np.logical_and(crh_all[:,24]>=crh_cri[n],crh_all[:,24]<crh_cri[n+1]))[0]\n",
    "    \n",
    "    cover_tmp = cldfrac_all[idx,:]\n",
    "    prec_tmp = prec_all[idx,:]\n",
    "    Abar_tmp = Abar_all[idx,:]\n",
    "    SCAIbt_tmp = SCAIbt_all[idx,:]\n",
    "    \n",
    "    for i in range(len(cover_cri)-1):\n",
    "        idx2 = np.where(np.logical_and(cover_tmp[:,24]>=cover_cri[i]\n",
    "                                      ,cover_tmp[:,24]<cover_cri[i+1]))[0]\n",
    "        cover_bin[n,i] = len(idx2)\n",
    "        precm_bin[n,i] = np.nanmean(prec_tmp[idx2,24])\n",
    "        precste_bin[n,i] = np.nanstd(prec_tmp[idx2,24])/(len(idx2)**0.5)\n",
    "        SCAIbt_bin[n,i] = np.nanmean(SCAIbt_tmp[idx2,24])\n",
    "        SCAIbtste_bin[n,i] = np.nanstd(SCAIbt_tmp[idx2,24])/(len(idx2)**0.5)\n",
    "        "
   ]
  },
  {
   "cell_type": "code",
   "execution_count": null,
   "metadata": {
    "hideCode": false,
    "hidePrompt": false
   },
   "outputs": [],
   "source": [
    "fig, ax = plt.subplots(1,4,figsize=(14,3.5))\n",
    "\n",
    "ax[0].bar(['0','0.2','0.4','0.6','0.8'],cover_bin[0,:]/sum(cover_bin[0,:]),width=0.6,alpha=0.5)\n",
    "ax[0].set_xticks([-0.5,0.5,1.5,2.5,3.5]);ax[0].set_xticklabels(['0','0.2','0.4','0.6','0.8'])\n",
    "ax[0].set_xlabel('Cloud cover',fontsize=12);ax[0].set_ylabel('Probability',fontsize=12)\n",
    "ax[0].set_title('CRH_ref: 0-0.5, All',fontsize=12)\n",
    "ax[0].grid(axis='y',linestyle=':');ax[0].text(x=3.5,y=0.90,s=str(int(sum(cover_bin[0,:]))),color='grey')\n",
    "ax[0].set_ylim([0,1])\n",
    "\n",
    "ax[1].bar(['0','0.2','0.4','0.6','0.8'],cover_bin[1,:]/sum(cover_bin[1,:]),width=0.6,alpha=0.5)\n",
    "ax[1].set_xticks([-0.5,0.5,1.5,2.5,3.5]);ax[1].set_xticklabels(['0','0.2','0.4','0.6','0.8'])\n",
    "ax[1].set_xlabel('Cloud cover',fontsize=12);ax[1].set_ylabel('Probability',fontsize=12)\n",
    "ax[1].set_title('CRH_ref: 0.5-0.65, All',fontsize=12)\n",
    "ax[1].grid(axis='y',linestyle=':');ax[1].text(x=3.5,y=0.63,s=str(int(sum(cover_bin[1,:]))),color='grey')\n",
    "ax[1].set_ylim([0,0.7])\n",
    "\n",
    "ax[2].bar(['0','0.2','0.4','0.6','0.8'],cover_bin[2,:]/sum(cover_bin[2,:]),width=0.6,alpha=0.5)\n",
    "ax[2].set_xticks([-0.5,0.5,1.5,2.5,3.5]);ax[2].set_xticklabels(['0','0.2','0.4','0.6','0.8'])\n",
    "ax[2].set_xlabel('Cloud cover',fontsize=12);ax[2].set_ylabel('Probability',fontsize=12)\n",
    "ax[2].set_title('CRH_ref: 0.65-0.8, All',fontsize=12)\n",
    "ax[2].grid(axis='y',linestyle=':');ax[2].text(x=3.5,y=0.63,s=str(int(sum(cover_bin[2,:]))),color='grey')\n",
    "ax[2].set_ylim([0,0.7])\n",
    "\n",
    "ax[3].bar(['0','0.2','0.4','0.6','0.8'],cover_bin[3,:]/sum(cover_bin[3,:]),width=0.6,alpha=0.5)\n",
    "ax[3].set_xticks([-0.5,0.5,1.5,2.5,3.5]);ax[3].set_xticklabels(['0','0.2','0.4','0.6','0.8'])\n",
    "ax[3].set_xlabel('Cloud cover',fontsize=12);ax[3].set_ylabel('Probability',fontsize=12)\n",
    "ax[3].set_title('CRH_ref: 0.8-1, All',fontsize=12)\n",
    "ax[3].grid(axis='y',linestyle=':');ax[3].text(x=3.5,y=0.63,s=str(int(sum(cover_bin[3,:]))),color='grey')\n",
    "ax[3].set_ylim([0,0.7])\n",
    "\n",
    "# adding precipitation_mean variations in each subplot\n",
    "ax0 = ax[0].twinx()\n",
    "#ax0.plot([0,1,2,3,4],precm_bin[0,:]*24,'xr');ax0.set_ylim([5,80])\n",
    "ax0.errorbar([0,1,2,3,4],SCAIbt_bin[0,:],yerr=SCAIbtste_bin[0,:],fmt='or');ax0.set_ylim([0,15])\n",
    "ax0.tick_params(axis='y', labelcolor='r');ax0.set_ylabel('SCAI',color='r')\n",
    "\n",
    "ax1 = ax[1].twinx()\n",
    "#ax1.plot([0,1,2,3,4],precm_bin[1,:]*24,'xr');ax1.set_ylim([5,80])\n",
    "ax1.errorbar([0,1,2,3,4],SCAIbt_bin[1,:],yerr=SCAIbtste_bin[1,:],fmt='or');ax1.set_ylim([0,15])\n",
    "ax1.tick_params(axis='y', labelcolor='r');ax1.set_ylabel('SCAI',color='r')\n",
    "\n",
    "ax2 = ax[2].twinx()\n",
    "#ax2.plot([0,1,2,3,4],precm_bin[2,:]*24,'xr');ax2.set_ylim([5,80])\n",
    "ax2.errorbar([0,1,2,3,4],SCAIbt_bin[2,:],yerr=SCAIbtste_bin[2,:],fmt='or');ax2.set_ylim([0,15])\n",
    "ax2.tick_params(axis='y', labelcolor='r');ax2.set_ylabel('SCAI',color='r')\n",
    "\n",
    "ax3 = ax[3].twinx()\n",
    "#ax3.plot([0,1,2,3,4],precm_bin[3,:]*24,'xr');ax3.set_ylim([5,80])\n",
    "ax3.errorbar([0,1,2,3,4],SCAIbt_bin[3,:],yerr=SCAIbtste_bin[3,:],fmt='or');ax3.set_ylim([0,15])\n",
    "ax3.tick_params(axis='y', labelcolor='r');ax3.set_ylabel('SCAI',color='r')\n",
    "\n",
    "plt.tight_layout()\n",
    "\n",
    "fig.savefig(fig_dir+'CRH_CF_groups_SCAI_All.pdf',dip=200,bbox_inchs='tight')"
   ]
  },
  {
   "cell_type": "markdown",
   "metadata": {},
   "source": [
    "#### Stats for reference time"
   ]
  },
  {
   "cell_type": "code",
   "execution_count": null,
   "metadata": {},
   "outputs": [],
   "source": [
    "# cloud cover & Abar\n",
    "#cover_cri = np.array([0,0.1,0.2,0.3,0.4,0.5,0.6,0.7,0.8,0.9,1])\n",
    "cover_cri = np.linspace(0,1,21)\n",
    "Abar_bin = np.zeros((3,len(cover_cri)-1))\n",
    "Abarstd_bin = np.copy(Abar_bin)\n",
    "\n",
    "for i in range(len(cover_cri)-1):\n",
    "    idx1 = np.where(np.logical_and(cldfrac_IND[:,24]>=cover_cri[i]\n",
    "                                 ,cldfrac_IND[:,24]<cover_cri[i+1]))[0]\n",
    "    idx2 = np.where(np.logical_and(cldfrac_WPC[:,24]>=cover_cri[i]\n",
    "                                 ,cldfrac_WPC[:,24]<cover_cri[i+1]))[0]\n",
    "    idx3 = np.where(np.logical_and(cldfrac_EPC[:,24]>=cover_cri[i]\n",
    "                                 ,cldfrac_EPC[:,24]<cover_cri[i+1]))[0]\n",
    "    Abar_tmp1 = Abar_IND[idx1,24]\n",
    "    Abar_tmp1 = Abar_tmp1[~np.isnan(Abar_tmp1)]\n",
    "    Abar_tmp2 = Abar_WPC[idx2,24]\n",
    "    Abar_tmp2 = Abar_tmp2[~np.isnan(Abar_tmp2)]    \n",
    "    Abar_tmp3 = Abar_EPC[idx3,24]\n",
    "    Abar_tmp3 = Abar_tmp3[~np.isnan(Abar_tmp3)]\n",
    "    \n",
    "    Abar_bin[0,i] = np.nanmean(Abar_tmp1)\n",
    "    Abar_bin[1,i] = np.nanmean(Abar_tmp2)\n",
    "    Abar_bin[2,i] = np.nanmean(Abar_tmp3)\n",
    "    \n",
    "    Abarstd_bin[0,i] = np.nanstd(Abar_tmp1)/len(idx1)**0.5\n",
    "    Abarstd_bin[1,i] = np.nanstd(Abar_tmp2)/len(idx2)**0.5\n",
    "    Abarstd_bin[2,i] = np.nanstd(Abar_tmp3)/len(idx3)**0.5\n",
    "    \n",
    "    #Abarstd_bin[i] = np.nanstd(Abar_all[idx,24])/len(idx)**0.5"
   ]
  },
  {
   "cell_type": "code",
   "execution_count": null,
   "metadata": {},
   "outputs": [],
   "source": [
    "# cloud cover & N\n",
    "#cover_cri = np.array([0,0.1,0.2,0.3,0.4,0.5,0.6,0.7,0.8,0.9,1])\n",
    "cover_cri = np.linspace(0,1,21)\n",
    "N_bin = np.zeros((3,len(cover_cri)-1))\n",
    "Nstd_bin = np.copy(N_bin)\n",
    "\n",
    "for i in range(len(cover_cri)-1):\n",
    "    idx1 = np.where(np.logical_and(cldfrac_IND[:,24]>=cover_cri[i]\n",
    "                                 ,cldfrac_IND[:,24]<cover_cri[i+1]))[0]\n",
    "    idx2 = np.where(np.logical_and(cldfrac_WPC[:,24]>=cover_cri[i]\n",
    "                                 ,cldfrac_WPC[:,24]<cover_cri[i+1]))[0]\n",
    "    idx3 = np.where(np.logical_and(cldfrac_EPC[:,24]>=cover_cri[i]\n",
    "                                 ,cldfrac_EPC[:,24]<cover_cri[i+1]))[0]\n",
    "    N_tmp1 = N_IND[idx1,24]\n",
    "    N_tmp1 = N_tmp1[~np.isnan(N_tmp1)]\n",
    "    N_tmp2 = N_WPC[idx2,24]\n",
    "    N_tmp2 = N_tmp2[~np.isnan(N_tmp2)]    \n",
    "    N_tmp3 = N_EPC[idx3,24]\n",
    "    N_tmp3 = N_tmp3[~np.isnan(N_tmp3)]\n",
    "    \n",
    "    N_bin[0,i] = np.nanmean(N_tmp1)\n",
    "    N_bin[1,i] = np.nanmean(N_tmp2)\n",
    "    N_bin[2,i] = np.nanmean(N_tmp3)\n",
    "    \n",
    "    Nstd_bin[0,i] = np.nanstd(N_tmp1)/len(idx1)**0.5\n",
    "    Nstd_bin[1,i] = np.nanstd(N_tmp2)/len(idx2)**0.5\n",
    "    Nstd_bin[2,i] = np.nanstd(N_tmp3)/len(idx3)**0.5\n",
    "    \n",
    "    #Abarstd_bin[i] = np.nanstd(Abar_all[idx,24])/len(idx)**0.5"
   ]
  },
  {
   "cell_type": "code",
   "execution_count": null,
   "metadata": {},
   "outputs": [],
   "source": [
    "fig = plt.figure(figsize=(5,5))\n",
    "\n",
    "plt.plot(np.linspace(0.05,0.95,20),Abar_bin[0,:],linewidth=2,color='b')\n",
    "plt.fill_between(np.linspace(0.05,0.95,20),Abar_bin[0,:]+Abarstd_bin[0,:],Abar_bin[0,:],\n",
    "                color='b',alpha=0.2)\n",
    "plt.fill_between(np.linspace(0.05,0.95,20),Abar_bin[0,:]-Abarstd_bin[0,:],Abar_bin[0,:],\n",
    "                color='b',alpha=0.2)\n",
    "\n",
    "plt.plot(np.linspace(0.05,0.95,20),Abar_bin[1,:],linewidth=2,color='g')\n",
    "plt.fill_between(np.linspace(0.05,0.95,20),Abar_bin[1,:]+Abarstd_bin[1,:],Abar_bin[1,:],\n",
    "                color='g',alpha=0.2)\n",
    "plt.fill_between(np.linspace(0.05,0.95,20),Abar_bin[1,:]-Abarstd_bin[1,:],Abar_bin[1,:],\n",
    "                color='g',alpha=0.2)\n",
    "\n",
    "plt.plot(np.linspace(0.05,0.95,20),Abar_bin[2,:],linewidth=2,color='darkorange')\n",
    "plt.fill_between(np.linspace(0.05,0.95,20),Abar_bin[2,:]+Abarstd_bin[2,:],Abar_bin[2,:],\n",
    "                color='darkorange',alpha=0.2)\n",
    "plt.fill_between(np.linspace(0.05,0.95,20),Abar_bin[2,:]-Abarstd_bin[2,:],Abar_bin[2,:],\n",
    "                color='darkorange',alpha=0.2)\n",
    "plt.xlim([0,0.9])\n",
    "plt.ylabel(r'$\\sqrt{\\bar{A}}$   [km]',fontsize=12);plt.xlabel('Cloud coverage',fontsize=12)\n",
    "legend=plt.legend(['IND '+'('+str(sum(counts_IND))+')',\n",
    "            'WPC '+'('+str(sum(counts_WPC))+')',\n",
    "            'EPC '+'('+str(sum(counts_EPC))+')'],loc=2)\n",
    "plt.setp(legend.get_texts(),color='dimgrey')\n",
    "plt.grid(linestyle=':');plt.show()"
   ]
  },
  {
   "cell_type": "code",
   "execution_count": null,
   "metadata": {},
   "outputs": [],
   "source": [
    "fig = plt.figure(figsize=(5,5))\n",
    "\n",
    "plt.plot(np.linspace(0.05,0.95,20),N_bin[0,:],linewidth=2,color='b')\n",
    "plt.fill_between(np.linspace(0.05,0.95,20),N_bin[0,:]+Nstd_bin[0,:],N_bin[0,:],\n",
    "                color='b',alpha=0.2)\n",
    "plt.fill_between(np.linspace(0.05,0.95,20),N_bin[0,:]-Nstd_bin[0,:],N_bin[0,:],\n",
    "                color='b',alpha=0.2)\n",
    "\n",
    "plt.plot(np.linspace(0.05,0.95,20),N_bin[1,:],linewidth=2,color='g')\n",
    "plt.fill_between(np.linspace(0.05,0.95,20),N_bin[1,:]+Nstd_bin[1,:],N_bin[1,:],\n",
    "                color='g',alpha=0.2)\n",
    "plt.fill_between(np.linspace(0.05,0.95,20),N_bin[1,:]-Nstd_bin[1,:],N_bin[1,:],\n",
    "                color='g',alpha=0.2)\n",
    "\n",
    "plt.plot(np.linspace(0.05,0.95,20),N_bin[2,:],linewidth=2,color='darkorange')\n",
    "plt.fill_between(np.linspace(0.05,0.95,20),N_bin[2,:]+Nstd_bin[2,:],N_bin[2,:],\n",
    "                color='darkorange',alpha=0.2)\n",
    "plt.fill_between(np.linspace(0.05,0.95,20),N_bin[2,:]-Nstd_bin[2,:],N_bin[2,:],\n",
    "                color='darkorange',alpha=0.2)\n",
    "plt.xlim([0,0.9])\n",
    "plt.ylabel('Number',fontsize=12);plt.xlabel('Cloud coverage',fontsize=12)\n",
    "#plt.legend(['IND','WPC','EPC'],fontsize=12,loc=2)\n",
    "plt.grid(linestyle=':');plt.show()"
   ]
  },
  {
   "cell_type": "code",
   "execution_count": null,
   "metadata": {},
   "outputs": [],
   "source": [
    "# qv, rh profile binned by cloud coverage\n",
    "cover_cri = np.linspace(0,0.8,5)\n",
    "qv_binIND = np.zeros((len(cover_cri)-1,len(lev)))\n",
    "qvstd_binIND = np.copy(qv_binIND)\n",
    "qv_binWPC = np.zeros((len(cover_cri)-1,len(lev)))\n",
    "qvstd_binWPC = np.copy(qv_binIND)\n",
    "qv_binEPC = np.zeros((len(cover_cri)-1,len(lev)))\n",
    "qvstd_binEPC = np.copy(qv_binIND)\n",
    "\n",
    "for i in range(len(cover_cri)-1):\n",
    "    idx1 = np.where(np.logical_and(cldfrac_IND[:,24]>=cover_cri[i]\n",
    "                                 ,cldfrac_IND[:,24]<cover_cri[i+1]))[0]\n",
    "    idx2 = np.where(np.logical_and(cldfrac_WPC[:,24]>=cover_cri[i]\n",
    "                                 ,cldfrac_WPC[:,24]<cover_cri[i+1]))[0]\n",
    "    idx3 = np.where(np.logical_and(cldfrac_EPC[:,24]>=cover_cri[i]\n",
    "                                 ,cldfrac_EPC[:,24]<cover_cri[i+1]))[0]\n",
    "    q_tmp1 = q_IND[idx1,24,:]\n",
    "    q_tmp2 = q_WPC[idx2,24,:]\n",
    "    q_tmp3 = q_EPC[idx3,24,:]\n",
    "    \n",
    "    qv_binIND[i,:] = np.nanmean(q_tmp1,axis=0)\n",
    "    qv_binWPC[i,:] = np.nanmean(q_tmp2,axis=0)\n",
    "    qv_binEPC[i,:] = np.nanmean(q_tmp3,axis=0)\n",
    "\n",
    "fig,ax = plt.subplots(1,3,figsize=(12,4))\n",
    "colors = ['r','g','b','k']\n",
    "for n in range(4):\n",
    "    ax[0].plot(qv_binIND[n,:]*1000,lev,color=colors[n])\n",
    "    ax[1].plot(qv_binWPC[n,:]*1000,lev,color=colors[n])\n",
    "    ax[2].plot(qv_binEPC[n,:]*1000,lev,color=colors[n])\n",
    "ax[0].set_ylim([1000,100]);ax[0].set_xlim([-0.5,20])\n",
    "ax[1].set_ylim([1000,100]);ax[1].set_xlim([-0.5,20])\n",
    "ax[2].set_ylim([1000,100]);ax[2].set_xlim([-0.5,20])\n",
    "ax[0].text(1,200,'IND',fontsize=16,color='grey')\n",
    "ax[1].text(1,200,'WPC',fontsize=16,color='grey')\n",
    "ax[2].text(1,200,'EPC',fontsize=16,color='grey')\n",
    "ax[0].legend(['0-0.2','0.2-0.4','0.4-0.6','0.6-0..8'])\n",
    "ax[0].grid(linestyle=':');ax[1].grid(linestyle=':');ax[2].grid(linestyle=':')\n",
    "ax[0].set_ylabel('Pressure [hPa]',fontsize=12)\n",
    "ax[0].set_xlabel('qv [g/kg]',fontsize=12)\n",
    "ax[1].set_xlabel('qv [g/kg]',fontsize=12)\n",
    "ax[2].set_xlabel('qv [g/kg]',fontsize=12)\n",
    "\n",
    "plt.tight_layout()"
   ]
  },
  {
   "cell_type": "code",
   "execution_count": null,
   "metadata": {},
   "outputs": [],
   "source": [
    "cover_cri = np.linspace(0,0.8,5)\n",
    "rh_binIND = np.zeros((len(cover_cri)-1,len(lev_m)))\n",
    "rh_binWPC = np.zeros((len(cover_cri)-1,len(lev_m)))\n",
    "rh_binEPC = np.zeros((len(cover_cri)-1,len(lev_m)))\n",
    "\n",
    "for i in range(len(cover_cri)-1):\n",
    "    idx1 = np.where(np.logical_and(cldfrac_IND[:,24]>=cover_cri[i]\n",
    "                                 ,cldfrac_IND[:,24]<cover_cri[i+1]))[0]\n",
    "    idx2 = np.where(np.logical_and(cldfrac_WPC[:,24]>=cover_cri[i]\n",
    "                                 ,cldfrac_WPC[:,24]<cover_cri[i+1]))[0]\n",
    "    idx3 = np.where(np.logical_and(cldfrac_EPC[:,24]>=cover_cri[i]\n",
    "                                 ,cldfrac_EPC[:,24]<cover_cri[i+1]))[0]\n",
    "    rh_tmp1 = rh_IND[idx1,24,14:] # to 1 hpa\n",
    "    rh_tmp2 = rh_WPC[idx2,24,14:]\n",
    "    rh_tmp3 = rh_EPC[idx3,24,14:]\n",
    "    \n",
    "    rh_binIND[i,:] = np.nanmean(rh_tmp1,axis=0)\n",
    "    rh_binWPC[i,:] = np.nanmean(rh_tmp2,axis=0)\n",
    "    rh_binEPC[i,:] = np.nanmean(rh_tmp3,axis=0)\n",
    "\n",
    "fig,ax = plt.subplots(1,3,figsize=(12,4))\n",
    "colors = ['r','g','b','k']\n",
    "for n in range(4):\n",
    "    ax[0].plot(rh_binIND[n,:]*100,np.flipud(lev_m),color=colors[n])\n",
    "    ax[1].plot(rh_binWPC[n,:]*100,np.flipud(lev_m),color=colors[n])\n",
    "    ax[2].plot(rh_binEPC[n,:]*100,np.flipud(lev_m),color=colors[n])\n",
    "ax[0].set_ylim([1000,100]);ax[0].set_xlim([30,100])\n",
    "ax[1].set_ylim([1000,100]);ax[1].set_xlim([30,100])\n",
    "ax[2].set_ylim([1000,100]);ax[2].set_xlim([30,100])\n",
    "ax[0].text(35,200,'IND',fontsize=16,color='grey')\n",
    "ax[1].text(35,200,'WPC',fontsize=16,color='grey')\n",
    "ax[2].text(35,200,'EPC',fontsize=16,color='grey')\n",
    "ax[0].legend(['0-0.2','0.2-0.4','0.4-0.6','0.6-0..8'],loc=3)\n",
    "ax[0].grid(linestyle=':');ax[1].grid(linestyle=':');ax[2].grid(linestyle=':')\n",
    "ax[0].set_ylabel('Pressure [hPa]',fontsize=12)\n",
    "ax[0].set_xlabel('RH [%]',fontsize=12)\n",
    "ax[1].set_xlabel('RH [%]',fontsize=12)\n",
    "ax[2].set_xlabel('RH [%]',fontsize=12)\n",
    "\n",
    "plt.tight_layout()"
   ]
  },
  {
   "cell_type": "code",
   "execution_count": null,
   "metadata": {},
   "outputs": [],
   "source": [
    "cover_cri = np.linspace(0,0.8,5)\n",
    "buoy_binIND = np.zeros((len(cover_cri)-1,len(lev)))\n",
    "buoy_binWPC = np.zeros((len(cover_cri)-1,len(lev)))\n",
    "buoy_binEPC = np.zeros((len(cover_cri)-1,len(lev)))\n",
    "\n",
    "for i in range(len(cover_cri)-1):\n",
    "    idx1 = np.where(np.logical_and(cldfrac_IND[:,24]>=cover_cri[i]\n",
    "                                 ,cldfrac_IND[:,24]<cover_cri[i+1]))[0]\n",
    "    idx2 = np.where(np.logical_and(cldfrac_WPC[:,24]>=cover_cri[i]\n",
    "                                 ,cldfrac_WPC[:,24]<cover_cri[i+1]))[0]\n",
    "    idx3 = np.where(np.logical_and(cldfrac_EPC[:,24]>=cover_cri[i]\n",
    "                                 ,cldfrac_EPC[:,24]<cover_cri[i+1]))[0]\n",
    "    buoy_tmp1 = buoy_IND[idx1,:,16] # to 1 hpa\n",
    "    buoy_tmp2 = buoy_WPC[idx2,:,16]\n",
    "    buoy_tmp3 = buoy_EPC[idx3,:,16]\n",
    "    \n",
    "    buoy_binIND[i,:] = np.nanmean(buoy_tmp1,axis=0)\n",
    "    buoy_binWPC[i,:] = np.nanmean(buoy_tmp2,axis=0)\n",
    "    buoy_binEPC[i,:] = np.nanmean(buoy_tmp3,axis=0)\n",
    "    \n",
    "fig,ax = plt.subplots(1,3,figsize=(12,4))\n",
    "colors = ['r','g','b','k']\n",
    "for n in range(4):\n",
    "    ax[0].plot(buoy_binIND[n,:],lev,color=colors[n])\n",
    "    ax[1].plot(buoy_binWPC[n,:],lev,color=colors[n])\n",
    "    ax[2].plot(buoy_binEPC[n,:],lev,color=colors[n])\n",
    "ax[0].set_ylim([1000,100]);ax[0].set_xlim([-2.5,5])\n",
    "ax[1].set_ylim([1000,100]);ax[1].set_xlim([-2.5,5])\n",
    "ax[2].set_ylim([1000,100]);ax[2].set_xlim([-2.5,5])\n",
    "ax[0].text(-5,200,'IND',fontsize=16,color='grey')\n",
    "ax[1].text(-5,200,'WPC',fontsize=16,color='grey')\n",
    "ax[2].text(-5,200,'EPC',fontsize=16,color='grey')\n",
    "ax[0].legend(['0-0.2','0.2-0.4','0.4-0.6','0.6-0..8'],loc=3)\n",
    "ax[0].grid(linestyle=':');ax[1].grid(linestyle=':');ax[2].grid(linestyle=':')\n",
    "ax[0].set_ylabel('Pressure [hPa]',fontsize=12)\n",
    "ax[0].set_xlabel('RH [%]',fontsize=12)\n",
    "ax[1].set_xlabel('RH [%]',fontsize=12)\n",
    "ax[2].set_xlabel('RH [%]',fontsize=12)\n",
    "\n",
    "plt.tight_layout()"
   ]
  },
  {
   "cell_type": "code",
   "execution_count": null,
   "metadata": {
    "hideCode": false,
    "hidePrompt": false
   },
   "outputs": [],
   "source": [
    "# CRH vs cloud cover \n",
    "crh_cri = np.array([0,0.5,0.65,0.8,1])\n",
    "cover_cri = np.array([0,0.2,0.4,0.6,0.8,1])\n",
    "cover_bin = np.zeros((len(crh_cri)-1,len(cover_cri)-1))\n",
    "precm_bin = np.copy(cover_bin)\n",
    "precste_bin = np.copy(cover_bin)\n",
    "SCAIbt_bin = np.copy(cover_bin)\n",
    "SCAIbtste_bin = np.copy(cover_bin)\n",
    "\n",
    "for n in range(len(crh_cri)-1):\n",
    "    idx = np.where(np.logical_and(crh_EPC[:,24]>=crh_cri[n],crh_EPC[:,24]<crh_cri[n+1]))[0]\n",
    "    \n",
    "    cover_tmp = cldfrac_EPC[idx,:]\n",
    "    prec_tmp = prec_EPC[idx,:]\n",
    "    SCAIbt_tmp = SCAIbt_EPC[idx,:]\n",
    "    \n",
    "    for i in range(len(cover_cri)-1):\n",
    "        idx2 = np.where(np.logical_and(cover_tmp[:,24]>=cover_cri[i]\n",
    "                                      ,cover_tmp[:,24]<cover_cri[i+1]))[0]\n",
    "        cover_bin[n,i] = len(idx2)\n",
    "        precm_bin[n,i] = np.nanmean(prec_tmp[idx2,24])\n",
    "        precste_bin[n,i] = np.nanstd(prec_tmp[idx2,24])/len(idx2)**0.5\n",
    "        SCAIbt_bin[n,i] = np.nanmean(SCAIbt_tmp[idx2,24])\n",
    "        SCAIbtste_bin[n,i] = np.nanstd(SCAIbt_tmp[idx2,24])/len(idx2)**0.5"
   ]
  },
  {
   "cell_type": "code",
   "execution_count": null,
   "metadata": {
    "hideCode": false,
    "hidePrompt": false
   },
   "outputs": [],
   "source": [
    "# joint histogram CRH, cloud fraction for all \n",
    "crh_bin = np.linspace(0,1,21)\n",
    "cldfrac_bin = np.linspace(0,1,21)\n",
    "hist_bin_cf = np.zeros((len(crh_bin)-1,len(cldfrac_bin)-1))\n",
    "hist_bin_cfp = np.zeros((len(crh_bin)-1,len(cldfrac_bin)-1))\n",
    "\n",
    "for i in range(len(cldfrac_bin)-1):\n",
    "    for j in range(len(crh_bin)-1):\n",
    "        \n",
    "        idx = np.where(np.logical_and(crh_all[:,24]>=crh_bin[i],crh_all[:,24]<crh_bin[i+1]))[0]\n",
    "        idx2 = np.where(np.logical_and(cldfrac_all[:,24]>=cldfrac_bin[j]\n",
    "                                       ,cldfrac_all[:,24]<cldfrac_bin[j+1]))[0]\n",
    "        idx = np.intersect1d(idx,idx2)\n",
    "        hist_bin_cf[i,j] = len(idx)\n",
    "        hist_bin_cfp[i,j] = np.nanmean(prec_all[idx,24])"
   ]
  },
  {
   "cell_type": "code",
   "execution_count": null,
   "metadata": {},
   "outputs": [],
   "source": [
    "# joint histogram CRH, Abar for all \n",
    "Abar_bin = np.linspace(0,400,21)\n",
    "crh_bin = np.linspace(0,1,21)\n",
    "hist_bin_A = np.zeros((len(Abar_bin)-1,len(cldfrac_bin)-1))\n",
    "hist_bin_Ap = np.zeros((len(Abar_bin)-1,len(cldfrac_bin)-1))\n",
    "\n",
    "for i in range(len(Abar_bin)-1):\n",
    "    for j in range(len(crh_bin)-1):\n",
    "        \n",
    "        idx = np.where(np.logical_and(crh_all[:,24]>=crh_bin[i],crh_all[:,24]<crh_bin[i+1]))[0]\n",
    "        idx2 = np.where(np.logical_and(Abar_all[:,24]>=Abar_bin[j]\n",
    "                                       ,Abar_all[:,24]<Abar_bin[j+1]))[0]\n",
    "        idx = np.intersect1d(idx,idx2)\n",
    "        hist_bin_A[i,j] = len(idx)\n",
    "        hist_bin_Ap[i,j] = np.nanmean(prec_all[idx,24])"
   ]
  },
  {
   "cell_type": "code",
   "execution_count": null,
   "metadata": {
    "hideCode": false,
    "hidePrompt": false
   },
   "outputs": [],
   "source": [
    "# add row and column for pcolor\n",
    "hist_bin_cf = np.vstack([np.zeros((hist_bin_cf.shape[1])),hist_bin_cf])\n",
    "hist_bin_cf = np.vstack([hist_bin_cf.T,np.zeros((hist_bin_cf.shape[0])).T]).T\n",
    "\n",
    "hist_bin_cfp = np.vstack([np.zeros((hist_bin_cfp.shape[1])),hist_bin_cfp])\n",
    "hist_bin_cfp = np.vstack([hist_bin_cfp.T,np.zeros((hist_bin_cfp.shape[0])).T]).T\n",
    "\n",
    "hist_bin_A = np.vstack([np.zeros((hist_bin_A.shape[1])),hist_bin_A])\n",
    "hist_bin_A = np.vstack([hist_bin_A.T,np.zeros((hist_bin_A.shape[0])).T]).T\n",
    "\n",
    "hist_bin_Ap = np.vstack([np.zeros((hist_bin_Ap.shape[1])),hist_bin_Ap])\n",
    "hist_bin_Ap = np.vstack([hist_bin_Ap.T,np.zeros((hist_bin_Ap.shape[0])).T]).T"
   ]
  },
  {
   "cell_type": "code",
   "execution_count": null,
   "metadata": {
    "hideCode": false,
    "hidePrompt": false
   },
   "outputs": [],
   "source": [
    "fig,ax = plt.subplots(1,2,figsize=(12,5))\n",
    "ps1 = ax[0].pcolormesh(crh_bin,cldfrac_bin,np.log10(hist_bin_cf.T/np.sum(hist_bin_cf))[:-1,:-1])\n",
    "cbar = plt.colorbar(ps1,ax=ax[0],shrink=0.8)\n",
    "cbar.set_label('Log$_{10}$(Probability)',fontsize=13)\n",
    "ax[0].set_xlabel('Column relative humidity',fontsize=14);ax[0].set_ylabel('Cloud cover',fontsize=14)\n",
    "ax[0].set_xlim([0.3,1]);ax[0].set_ylim([0,1])\n",
    "\n",
    "ps2 = ax[1].pcolormesh(crh_bin,cldfrac_bin,hist_bin_cfp.T[:-1,:-1]*24,cmap='jet',vmin=5)\n",
    "cbar = plt.colorbar(ps2,ax=ax[1],shrink=0.8)\n",
    "cbar.set_label('Precipitation [mm/d]',fontsize=13)\n",
    "ax[1].contour(crh_bin,cldfrac_bin,hist_bin_cfp.T,level=[10,20,30],colors=['w'])\n",
    "ax[1].set_xlabel('Column relative humidity',fontsize=14);ax[1].set_ylabel('Cloud cover',fontsize=14)\n",
    "ax[1].set_xlim([0.3,1]);ax[1].set_ylim([0,1])\n",
    "\n",
    "plt.tight_layout()"
   ]
  },
  {
   "cell_type": "code",
   "execution_count": null,
   "metadata": {},
   "outputs": [],
   "source": [
    "fig,ax = plt.subplots(1,2,figsize=(12,5))\n",
    "ps1 = ax[0].pcolormesh(crh_bin,Abar_bin,np.log10(hist_bin_A.T/np.sum(hist_bin_A))[:-1,:-1])\n",
    "cbar = plt.colorbar(ps1,ax=ax[0],shrink=0.8)\n",
    "cbar.set_label('Log$_{10}$(Probability)',fontsize=14)\n",
    "ax[0].set_xlabel('Column relative humidity',fontsize=13);ax[0].set_ylabel(r'$\\sqrt{\\bar{A}}$  [km]',fontsize=14)\n",
    "ax[0].set_xlim([0.3,1]);ax[0].set_ylim([0,400])\n",
    "\n",
    "ps2 = ax[1].pcolormesh(crh_bin,Abar_bin,hist_bin_Ap.T[:-1,:-1]*24,cmap='jet',vmin=5)\n",
    "cbar = plt.colorbar(ps2,ax=ax[1],shrink=0.8)\n",
    "cbar.set_label('Precipitation [mm/d]',fontsize=13)\n",
    "ax[1].contour(crh_bin,Abar_bin,hist_bin_Ap.T,level=[10,20,30],colors=['w'])\n",
    "ax[1].set_xlabel('Column relative humidity',fontsize=14);ax[1].set_ylabel(r'$\\sqrt{\\bar{A}}$  [km]',fontsize=14)\n",
    "ax[1].set_xlim([0.3,1]);ax[1].set_ylim([0,400])\n",
    "\n",
    "plt.tight_layout()"
   ]
  },
  {
   "cell_type": "markdown",
   "metadata": {},
   "source": [
    "### Grouping by cldfrac and Abar"
   ]
  },
  {
   "cell_type": "code",
   "execution_count": null,
   "metadata": {},
   "outputs": [],
   "source": [
    "def idx_group(var1_all,v1_lbound,v1_ubound,var2_all,v2_lbound,v2_ubound):\n",
    "    \n",
    "    idx1 = np.where(np.logical_and(var1_all[:,24]>=v1_lbound,var1_all[:,24]<v1_ubound))[0]\n",
    "    idx2 = np.where(np.logical_and(var2_all[:,24]>=v2_lbound,var2_all[:,24]<v2_ubound))[0]\n",
    "    idx = np.intersect1d(idx1,idx2)\n",
    "    \n",
    "    return idx"
   ]
  },
  {
   "cell_type": "code",
   "execution_count": null,
   "metadata": {},
   "outputs": [],
   "source": [
    "def qvint_layer(q_all,T_all,lev,lp,up):\n",
    "    \n",
    "    # partial cwv\n",
    "    idx = np.where(np.logical_and(lev<=lp,lev>up))[0]\n",
    "    q_layer = q_all[:,:,idx]\n",
    "    T_layer = T_all[:,:,idx]\n",
    "    \n",
    "    lev_layer = np.tile(lev[idx],(T_layer.shape[0],T_layer.shape[1]))\n",
    "    lev_layer = (lev_layer.reshape(T_layer.shape[0],T_layer.shape[1],len(lev[idx])))\n",
    "        \n",
    "    ro_layer = lev_layer*100/(287.15*T_layer)\n",
    "    vint_layer = -np.trapz(q_layer/ro_layer,lev_layer*100,axis=2)/9.8 # vertical integral of q    \n",
    "    \n",
    "    return vint_layer"
   ]
  },
  {
   "cell_type": "code",
   "execution_count": null,
   "metadata": {},
   "outputs": [],
   "source": [
    "# event separation by cloud cover (convective scale) and CRH \n",
    "idx_G1 = idx_group(cldfrac_all,0,0.1,crh_all,0,1)\n",
    "idx_G2 = idx_group(cldfrac_all,0.1,0.2,crh_all,0,1)\n",
    "idx_G3 = idx_group(cldfrac_all,0.2,0.4,crh_all,0,1)\n",
    "idx_G4 = idx_group(cldfrac_all,0.4,0.6,crh_all,0,1)\n",
    "idx_G5 = idx_group(cldfrac_all,0.6,0.8,crh_all,0,1)"
   ]
  },
  {
   "cell_type": "code",
   "execution_count": null,
   "metadata": {},
   "outputs": [],
   "source": [
    "idx_G1AM = idx_group(Abar_all,0,100,crh_all,0.7,1)\n",
    "idx_G2AM = idx_group(Abar_all,100,200,crh_all,0.7,1)\n",
    "idx_G3AM = idx_group(Abar_all,200,300,crh_all,0.7,1)\n",
    "idx_G4AM = idx_group(Abar_all,300,600,crh_all,0.7,1)\n",
    "\n",
    "idx_G1AD = idx_group(Abar_all,0,100,crh_all,0,0.7)\n",
    "idx_G2AD = idx_group(Abar_all,100,200,crh_all,0,0.7)\n",
    "idx_G3AD = idx_group(Abar_all,200,300,crh_all,0,0.7)\n",
    "idx_G4AD = idx_group(Abar_all,300,600,crh_all,0,0.7)"
   ]
  },
  {
   "cell_type": "code",
   "execution_count": null,
   "metadata": {},
   "outputs": [],
   "source": [
    "qvint_G1_BL,qvint_G1_LF,qvint_G1_MF = (qvint_layer(q_all[idx_G1,:,:],T_all[idx_G1,:,:],lev,1000,900),\n",
    "                                       qvint_layer(q_all[idx_G1,:,:],T_all[idx_G1,:,:],lev,900,700),\n",
    "                                       qvint_layer(q_all[idx_G1,:,:],T_all[idx_G1,:,:],lev,700,500))\n",
    "\n",
    "qvint_G2_BL,qvint_G2_LF,qvint_G2_MF = (qvint_layer(q_all[idx_G2,:,:],T_all[idx_G2,:,:],lev,1000,900),\n",
    "                                       qvint_layer(q_all[idx_G2,:,:],T_all[idx_G2,:,:],lev,900,700),\n",
    "                                       qvint_layer(q_all[idx_G2,:,:],T_all[idx_G2,:,:],lev,700,500))\n",
    "\n",
    "qvint_G3_BL,qvint_G3_LF,qvint_G3_MF = (qvint_layer(q_all[idx_G3,:,:],T_all[idx_G3,:,:],lev,1000,900),\n",
    "                                       qvint_layer(q_all[idx_G3,:,:],T_all[idx_G3,:,:],lev,900,700),\n",
    "                                       qvint_layer(q_all[idx_G3,:,:],T_all[idx_G3,:,:],lev,700,500))\n",
    "\n",
    "qvint_G4_BL,qvint_G4_LF,qvint_G4_MF = (qvint_layer(q_all[idx_G4,:,:],T_all[idx_G4,:,:],lev,1000,900),\n",
    "                                       qvint_layer(q_all[idx_G4,:,:],T_all[idx_G4,:,:],lev,900,700),\n",
    "                                       qvint_layer(q_all[idx_G4,:,:],T_all[idx_G4,:,:],lev,700,500))\n",
    "\n",
    "qvint_G5_BL,qvint_G5_LF,qvint_G5_MF = (qvint_layer(q_all[idx_G5,:,:],T_all[idx_G5,:,:],lev,1000,900),\n",
    "                                       qvint_layer(q_all[idx_G5,:,:],T_all[idx_G5,:,:],lev,900,700),\n",
    "                                       qvint_layer(q_all[idx_G5,:,:],T_all[idx_G5,:,:],lev,700,500))"
   ]
  },
  {
   "cell_type": "code",
   "execution_count": null,
   "metadata": {},
   "outputs": [],
   "source": [
    "fig = plt.figure(figsize=(6,5))\n",
    "plt.plot(np.arange(-72,75,3),np.nanmean(cwv_all[idx_G1,:],axis=0),'xk',markersize=8,\n",
    "        markerfacecolor='None')\n",
    "plt.plot(np.arange(-72,75,3),np.nanmean(cwv_all[idx_G2,:],axis=0),'or',markersize=8,\n",
    "        markerfacecolor='None')\n",
    "plt.plot(np.arange(-72,75,3),np.nanmean(cwv_all[idx_G3,:],axis=0),'^g',markersize=8,\n",
    "        markerfacecolor='None')\n",
    "plt.plot(np.arange(-72,75,3),np.nanmean(cwv_all[idx_G4,:],axis=0),'db',markersize=8,\n",
    "        markerfacecolor='None')\n",
    "plt.plot(np.arange(-72,75,3),np.nanmean(cwv_all[idx_G5,:],axis=0),'sm',markersize=8,\n",
    "        markerfacecolor='None')\n",
    "\n",
    "plt.hlines(y=np.nanmean(cwv_all[idx_G1,:],axis=0)[0],xmin=-72,xmax=72\n",
    "           ,color='r',alpha=0.4)\n",
    "plt.hlines(y=np.nanmean(cwv_all[idx_G2,:],axis=0)[0],xmin=-72,xmax=72\n",
    "           ,color='g',alpha=0.4)\n",
    "plt.hlines(y=np.nanmean(cwv_all[idx_G3,:],axis=0)[0],xmin=-72,xmax=72\n",
    "           ,color='b',alpha=0.4)\n",
    "plt.hlines(y=np.nanmean(cwv_all[idx_G4,:],axis=0)[0],xmin=-72,xmax=72\n",
    "           ,color='m',alpha=0.4)\n",
    "plt.hlines(y=np.nanmean(cwv_all[idx_G5,:],axis=0)[0],xmin=-72,xmax=72\n",
    "           ,color='k',alpha=0.4)\n",
    "\n",
    "plt.vlines(x=0,ymin=40,ymax=70,linestyle=':');plt.ylim([40,70])\n",
    "plt.legend(['0-0.1','0.1-0.2','0.2-0.4','0.4-0.6','0.6-0.8'])\n",
    "plt.xlabel('hour',fontsize=14);plt.ylabel('CWV [mm]',fontsize=14)"
   ]
  },
  {
   "cell_type": "code",
   "execution_count": null,
   "metadata": {},
   "outputs": [],
   "source": [
    "fig,ax = plt.subplots(1,3,figsize=(15,5))\n",
    "ax[0].plot(np.arange(-72,75,3),np.nanmean(qvint_G1_BL,axis=0),'or',markersize=6,\n",
    "        markerfacecolor='None')\n",
    "ax[0].plot(np.arange(-72,75,3),np.nanmean(qvint_G2_BL,axis=0),'og',markersize=6,\n",
    "        markerfacecolor='None')\n",
    "ax[0].plot(np.arange(-72,75,3),np.nanmean(qvint_G3_BL,axis=0),'ob',markersize=6,\n",
    "        markerfacecolor='None')\n",
    "ax[0].plot(np.arange(-72,75,3),np.nanmean(qvint_G4_BL,axis=0),'om',markersize=6,\n",
    "        markerfacecolor='None')\n",
    "ax[0].vlines(x=0,ymin=0,ymax=50,linestyles=':');ax[0].set_ylim([8,16])\n",
    "\n",
    "ax[1].plot(np.arange(-72,75,3),np.nanmean(qvint_G1_LF,axis=0),'or',markersize=6,\n",
    "        markerfacecolor='None')\n",
    "ax[1].plot(np.arange(-72,75,3),np.nanmean(qvint_G2_LF,axis=0),'og',markersize=6,\n",
    "        markerfacecolor='None')\n",
    "ax[1].plot(np.arange(-72,75,3),np.nanmean(qvint_G3_LF,axis=0),'ob',markersize=6,\n",
    "        markerfacecolor='None')\n",
    "ax[1].plot(np.arange(-72,75,3),np.nanmean(qvint_G4_LF,axis=0),'om',markersize=6,\n",
    "        markerfacecolor='None')\n",
    "ax[1].vlines(x=0,ymin=0,ymax=50,linestyles=':');ax[1].set_ylim([15,23])\n",
    "\n",
    "ax[2].plot(np.arange(-72,75,3),np.nanmean(qvint_G1_MF,axis=0),'or',markersize=6,\n",
    "        markerfacecolor='None')\n",
    "ax[2].plot(np.arange(-72,75,3),np.nanmean(qvint_G2_MF,axis=0),'og',markersize=6,\n",
    "        markerfacecolor='None')\n",
    "ax[2].plot(np.arange(-72,75,3),np.nanmean(qvint_G3_MF,axis=0),'ob',markersize=6,\n",
    "        markerfacecolor='None')\n",
    "ax[2].plot(np.arange(-72,75,3),np.nanmean(qvint_G4_MF,axis=0),'om',markersize=6,\n",
    "        markerfacecolor='None')\n",
    "ax[2].vlines(x=0,ymin=0,ymax=50,linestyles=':');ax[2].set_ylim([7,15])"
   ]
  },
  {
   "cell_type": "code",
   "execution_count": null,
   "metadata": {},
   "outputs": [],
   "source": [
    "# qvflux vertical evolution"
   ]
  },
  {
   "cell_type": "code",
   "execution_count": null,
   "metadata": {},
   "outputs": [],
   "source": [
    "qvint_G1_BL,qvint_G1_LF,qvint_G1_MF = (qvint_layer(q_all[idx_G1AD,:,:],T_all[idx_G1AD,:,:],lev,1000,900),\n",
    "                                       qvint_layer(q_all[idx_G1AD,:,:],T_all[idx_G1AD,:,:],lev,900,700),\n",
    "                                       qvint_layer(q_all[idx_G1AD,:,:],T_all[idx_G1AD,:,:],lev,700,500))\n",
    "\n",
    "qvint_G2_BL,qvint_G2_LF,qvint_G2_MF = (qvint_layer(q_all[idx_G2AD,:,:],T_all[idx_G2AD,:,:],lev,1000,900),\n",
    "                                       qvint_layer(q_all[idx_G2AD,:,:],T_all[idx_G2AD,:,:],lev,900,700),\n",
    "                                       qvint_layer(q_all[idx_G2AD,:,:],T_all[idx_G2AD,:,:],lev,700,500))\n",
    "\n",
    "qvint_G3_BL,qvint_G3_LF,qvint_G3_MF = (qvint_layer(q_all[idx_G3AD,:,:],T_all[idx_G3AD,:,:],lev,1000,900),\n",
    "                                       qvint_layer(q_all[idx_G3AD,:,:],T_all[idx_G3AD,:,:],lev,900,700),\n",
    "                                       qvint_layer(q_all[idx_G3AD,:,:],T_all[idx_G3AD,:,:],lev,700,500))\n",
    "\n",
    "qvint_G4_BL,qvint_G4_LF,qvint_G4_MF = (qvint_layer(q_all[idx_G4AD,:,:],T_all[idx_G4AD,:,:],lev,1000,900),\n",
    "                                       qvint_layer(q_all[idx_G4AD,:,:],T_all[idx_G4AD,:,:],lev,900,700),\n",
    "                                       qvint_layer(q_all[idx_G4AD,:,:],T_all[idx_G4AD,:,:],lev,700,500))"
   ]
  },
  {
   "cell_type": "code",
   "execution_count": null,
   "metadata": {},
   "outputs": [],
   "source": [
    "fig,ax = plt.subplots(1,3,figsize=(15,5))\n",
    "ax[0].plot(np.nanmean(qvint_G1_BL,axis=0),'-or')\n",
    "ax[0].plot(np.nanmean(qvint_G2_BL,axis=0),'-og')\n",
    "ax[0].plot(np.nanmean(qvint_G3_BL,axis=0),'-ob')\n",
    "ax[0].plot(np.nanmean(qvint_G4_BL,axis=0),'-om')\n",
    "#ax[0].vlines(x=24,ymin=0,ymax=50,linestyles=':');ax[0].set_ylim([10.9,11.4])\n",
    "\n",
    "ax[1].plot(np.nanmean(qvint_G1_LF,axis=0),'-or')\n",
    "ax[1].plot(np.nanmean(qvint_G2_LF,axis=0),'-og')\n",
    "ax[1].plot(np.nanmean(qvint_G3_LF,axis=0),'-ob')\n",
    "ax[1].plot(np.nanmean(qvint_G4_LF,axis=0),'-om')\n",
    "#ax[1].vlines(x=24,ymin=0,ymax=50,linestyles=':');ax[1].set_ylim([17.5,20])\n",
    "\n",
    "ax[2].plot(np.nanmean(qvint_G1_MF,axis=0),'-or')\n",
    "ax[2].plot(np.nanmean(qvint_G2_MF,axis=0),'-og')\n",
    "ax[2].plot(np.nanmean(qvint_G3_MF,axis=0),'-ob')\n",
    "ax[2].plot(np.nanmean(qvint_G4_MF,axis=0),'-om')\n",
    "#ax[2].vlines(x=24,ymin=0,ymax=50,linestyles=':');ax[2].set_ylim([9.5,13.5])"
   ]
  },
  {
   "cell_type": "markdown",
   "metadata": {},
   "source": [
    "#### Moisture budget analysis based on cloud scale"
   ]
  },
  {
   "cell_type": "code",
   "execution_count": null,
   "metadata": {},
   "outputs": [],
   "source": [
    "# column-integrated moisture flux \n",
    "qvflux_vint_all = np.trapz(qvflux_all,lev*100,axis=2)/9.8"
   ]
  },
  {
   "cell_type": "code",
   "execution_count": null,
   "metadata": {},
   "outputs": [],
   "source": [
    "# extend SFX array\n",
    "LHF_allre = np.zeros((len(time_event),49))\n",
    "for n in range(len(time_event)):\n",
    "    LHF_allre[n,:48] = LHF_all[n,:]\n",
    "    LHF_allre[n,48] = LHF_all[n,-1]"
   ]
  },
  {
   "cell_type": "code",
   "execution_count": null,
   "metadata": {},
   "outputs": [],
   "source": [
    "TQLI_all.shape"
   ]
  },
  {
   "cell_type": "code",
   "execution_count": null,
   "metadata": {},
   "outputs": [],
   "source": [
    "# TQLI local tendency\n",
    "TQLI_tend = np.gradient(TQLI_all,3,axis=1)"
   ]
  },
  {
   "cell_type": "code",
   "execution_count": null,
   "metadata": {},
   "outputs": [],
   "source": [
    "# SFX grouped by idx_AM, area-binned, moist \n",
    "fig,ax = plt.subplots(5,1,figsize=(10,10))\n",
    "ax[0].plot(np.linspace(-72,72,49),np.nanmean(LHF_allre[idx_G1,:]/2.5e6*86400,axis=0),'-g',linewidth=1.5)\n",
    "ax[1].plot(np.linspace(-72,72,49),np.nanmean(LHF_allre[idx_G2,:]/2.5e6*86400,axis=0),'-g',linewidth=1.5)\n",
    "ax[2].plot(np.linspace(-72,72,49),np.nanmean(LHF_allre[idx_G3,:]/2.5e6*86400,axis=0),'-g',linewidth=1.5)\n",
    "ax[3].plot(np.linspace(-72,72,49),np.nanmean(LHF_allre[idx_G4,:]/2.5e6*86400,axis=0),'-g',linewidth=1.5)\n",
    "ax[4].plot(np.linspace(-72,72,49),np.nanmean(LHF_allre[idx_G5,:]/2.5e6*86400,axis=0),'-g',linewidth=1.5)\n",
    "\n",
    "ax[0].plot(np.linspace(-72,72,49),np.nanmean(qvflux_vint_all[idx_G1,:]*86400,axis=0),color='navy',linewidth=1.5)\n",
    "ax[1].plot(np.linspace(-72,72,49),np.nanmean(qvflux_vint_all[idx_G2,:]*86400,axis=0),color='navy',linewidth=1.5)\n",
    "ax[2].plot(np.linspace(-72,72,49),np.nanmean(qvflux_vint_all[idx_G3,:]*86400,axis=0),color='navy',linewidth=1.5)\n",
    "ax[3].plot(np.linspace(-72,72,49),np.nanmean(qvflux_vint_all[idx_G4,:]*86400,axis=0),color='navy',linewidth=1.5)\n",
    "ax[4].plot(np.linspace(-72,72,49),np.nanmean(qvflux_vint_all[idx_G5,:]*86400,axis=0),color='navy',linewidth=1.5)\n",
    "\n",
    "ax[0].plot(np.linspace(-72,72,49),np.nanmean(-prec_all[idx_G1,:]*24,axis=0),color='darkorange',linewidth=1.5)\n",
    "ax[1].plot(np.linspace(-72,72,49),np.nanmean(-prec_all[idx_G2,:]*24,axis=0),color='darkorange',linewidth=1.5)\n",
    "ax[2].plot(np.linspace(-72,72,49),np.nanmean(-prec_all[idx_G3,:]*24,axis=0),color='darkorange',linewidth=1.5)\n",
    "ax[3].plot(np.linspace(-72,72,49),np.nanmean(-prec_all[idx_G4,:]*24,axis=0),color='darkorange',linewidth=1.5)\n",
    "ax[4].plot(np.linspace(-72,72,49),np.nanmean(-prec_all[idx_G5,:]*24,axis=0),color='darkorange',linewidth=1.5)\n",
    "\n",
    "# net mositure storage based on the budget equation\n",
    "net1 = np.nanmean(LHF_allre[idx_G1,:]/2.5e6*86400,axis=0)+ \\\n",
    "             np.nanmean(qvflux_vint_all[idx_G1,:]*86400,axis=0)- \\\n",
    "             np.nanmean(prec_all[idx_G1,:]*24,axis=0)\n",
    "net2 = np.nanmean(LHF_allre[idx_G2,:]/2.5e6*86400,axis=0)+ \\\n",
    "             np.nanmean(qvflux_vint_all[idx_G2,:]*86400,axis=0)- \\\n",
    "             np.nanmean(prec_all[idx_G2,:]*24,axis=0)\n",
    "net3 = np.nanmean(LHF_allre[idx_G3,:]/2.5e6*86400,axis=0)+ \\\n",
    "             np.nanmean(qvflux_vint_all[idx_G3,:]*86400,axis=0)- \\\n",
    "             np.nanmean(prec_all[idx_G3,:]*24,axis=0)\n",
    "net4 = np.nanmean(LHF_allre[idx_G4,:]/2.5e6*86400,axis=0)+ \\\n",
    "             np.nanmean(qvflux_vint_all[idx_G4,:]*86400,axis=0)- \\\n",
    "             np.nanmean(prec_all[idx_G4,:]*24,axis=0)\n",
    "net5 = np.nanmean(LHF_allre[idx_G5,:]/2.5e6*86400,axis=0)+ \\\n",
    "             np.nanmean(qvflux_vint_all[idx_G5,:]*86400,axis=0)- \\\n",
    "             np.nanmean(prec_all[idx_G5,:]*24,axis=0)\n",
    "\n",
    "ax[0].fill_between(np.linspace(-72,72,49),net1, 0, where=net1>0, facecolor='b',interpolate=True,alpha=0.4)\n",
    "ax[0].fill_between(np.linspace(-72,72,49),net1, 0, where=net1<0, facecolor='r',interpolate=True,alpha=0.4)\n",
    "ax[1].fill_between(np.linspace(-72,72,49),net2, 0, where=net2>0, facecolor='b',interpolate=True,alpha=0.4)\n",
    "ax[1].fill_between(np.linspace(-72,72,49),net2, 0, where=net2<0, facecolor='r',interpolate=True,alpha=0.4)\n",
    "ax[2].fill_between(np.linspace(-72,72,49),net3, 0, where=net3>0, facecolor='b',interpolate=True,alpha=0.4)\n",
    "ax[2].fill_between(np.linspace(-72,72,49),net3, 0, where=net3<0, facecolor='r',interpolate=True,alpha=0.4)\n",
    "ax[3].fill_between(np.linspace(-72,72,49),net4, 0, where=net4>0, facecolor='b',interpolate=True,alpha=0.4)\n",
    "ax[3].fill_between(np.linspace(-72,72,49),net4, 0, where=net4<0, facecolor='r',interpolate=True,alpha=0.4)\n",
    "ax[4].fill_between(np.linspace(-72,72,49),net5, 0, where=net5>0, facecolor='b',interpolate=True,alpha=0.4)\n",
    "ax[4].fill_between(np.linspace(-72,72,49),net5, 0, where=net5<0, facecolor='r',interpolate=True,alpha=0.4)\n",
    "\n",
    "ax[0].set_xlim([-72,72]);ax[0].hlines(y=0,xmin=-72,xmax=600,linewidth=0.5,zorder=3)\n",
    "ax[1].set_xlim([-72,72]);ax[1].hlines(y=0,xmin=-72,xmax=600,linewidth=0.5,zorder=3)\n",
    "ax[2].set_xlim([-72,72]);ax[2].hlines(y=0,xmin=-72,xmax=600,linewidth=0.5,zorder=3)\n",
    "ax[3].set_xlim([-72,72]);ax[3].hlines(y=0,xmin=-72,xmax=600,linewidth=0.5,zorder=3)\n",
    "ax[4].set_xlim([-72,72]);ax[4].hlines(y=0,xmin=-72,xmax=600,linewidth=0.5,zorder=3)\n",
    "\n",
    "ax[0].set_ylim([-10,10]);ax[1].set_ylim([-15,15]);ax[2].set_ylim([-25,25])\n",
    "ax[3].set_ylim([-40,40]);ax[4].set_ylim([-50,50])\n",
    "\n",
    "ax[0].set_ylabel('mm/day',fontsize=12)\n",
    "ax[1].set_ylabel('mm/day',fontsize=12)\n",
    "ax[2].set_ylabel('mm/day',fontsize=12)\n",
    "ax[3].set_ylabel('mm/day',fontsize=12)\n",
    "ax[4].set_ylabel('mm/day',fontsize=12)\n",
    "ax[4].set_xlabel('hour',fontsize=12)\n",
    "\n",
    "ax[0].grid(linestyle='--',color='grey',linewidth=0.2);ax[0].set_xticks(np.arange(-72,84,12))\n",
    "ax[1].grid(linestyle='--',color='grey',linewidth=0.2);ax[1].set_xticks(np.arange(-72,84,12))\n",
    "ax[2].grid(linestyle='--',color='grey',linewidth=0.2);ax[2].set_xticks(np.arange(-72,84,12))\n",
    "ax[3].grid(linestyle='--',color='grey',linewidth=0.2);ax[3].set_xticks(np.arange(-72,84,12))\n",
    "ax[4].grid(linestyle='--',color='grey',linewidth=0.2);ax[4].set_xticks(np.arange(-72,84,12))\n",
    "\n",
    "ax[0].set_xticklabels(labels=[])\n",
    "ax[1].set_xticklabels(labels=[])\n",
    "ax[2].set_xticklabels(labels=[])\n",
    "ax[3].set_xticklabels(labels=[])\n",
    "\n",
    "ax[0].set_title('Column-integrated moisture budget analysis, Qv_ten = QF + LHF - P',fontsize=13)\n",
    "ax[0].legend(['LHF','MFlux','Prec'], loc=1,\n",
    "       ncol=3, borderaxespad=0.2, frameon=False)\n",
    "plt.show()"
   ]
  },
  {
   "cell_type": "code",
   "execution_count": null,
   "metadata": {},
   "outputs": [],
   "source": [
    "# SFX grouped by idx_AM, area-binned, moist \n",
    "fig,ax = plt.subplots(5,1,figsize=(10,10))\n",
    "\n",
    "# net mositure storage based on the budget equation\n",
    "net1 = np.nanmean(SFX_allre[idx_G1,:]/2.5e6*86400,axis=0)+ \\\n",
    "             np.nanmean(qvflux_vint_all[idx_G1,:]*86400,axis=0)- \\\n",
    "             np.nanmean(prec_all[idx_G1,:]*24,axis=0)\n",
    "net2 = np.nanmean(SFX_allre[idx_G2,:]/2.5e6*86400,axis=0)+ \\\n",
    "             np.nanmean(qvflux_vint_all[idx_G2,:]*86400,axis=0)- \\\n",
    "             np.nanmean(prec_all[idx_G2,:]*24,axis=0)\n",
    "net3 = np.nanmean(SFX_allre[idx_G3,:]/2.5e6*86400,axis=0)+ \\\n",
    "             np.nanmean(qvflux_vint_all[idx_G3,:]*86400,axis=0)- \\\n",
    "             np.nanmean(prec_all[idx_G3,:]*24,axis=0)\n",
    "net4 = np.nanmean(SFX_allre[idx_G4,:]/2.5e6*86400,axis=0)+ \\\n",
    "             np.nanmean(qvflux_vint_all[idx_G4,:]*86400,axis=0)- \\\n",
    "             np.nanmean(prec_all[idx_G4,:]*24,axis=0)\n",
    "net5 = np.nanmean(SFX_allre[idx_G5,:]/2.5e6*86400,axis=0)+ \\\n",
    "             np.nanmean(qvflux_vint_all[idx_G5,:]*86400,axis=0)- \\\n",
    "             np.nanmean(prec_all[idx_G5,:]*24,axis=0)\n",
    "\n",
    "ax[0].fill_between(np.linspace(-72,72,49),net1, 0, where=net1>0, facecolor='b',interpolate=True,alpha=0.4)\n",
    "ax[0].fill_between(np.linspace(-72,72,49),net1, 0, where=net1<0, facecolor='r',interpolate=True,alpha=0.4)\n",
    "ax[1].fill_between(np.linspace(-72,72,49),net2, 0, where=net2>0, facecolor='b',interpolate=True,alpha=0.4)\n",
    "ax[1].fill_between(np.linspace(-72,72,49),net2, 0, where=net2<0, facecolor='r',interpolate=True,alpha=0.4)\n",
    "ax[2].fill_between(np.linspace(-72,72,49),net3, 0, where=net3>0, facecolor='b',interpolate=True,alpha=0.4)\n",
    "ax[2].fill_between(np.linspace(-72,72,49),net3, 0, where=net3<0, facecolor='r',interpolate=True,alpha=0.4)\n",
    "ax[3].fill_between(np.linspace(-72,72,49),net4, 0, where=net4>0, facecolor='b',interpolate=True,alpha=0.4)\n",
    "ax[3].fill_between(np.linspace(-72,72,49),net4, 0, where=net4<0, facecolor='r',interpolate=True,alpha=0.4)\n",
    "ax[4].fill_between(np.linspace(-72,72,49),net5, 0, where=net5>0, facecolor='b',interpolate=True,alpha=0.4)\n",
    "ax[4].fill_between(np.linspace(-72,72,49),net5, 0, where=net5<0, facecolor='r',interpolate=True,alpha=0.4)\n",
    "\n",
    "ax[0].set_xlim([-72,72]);ax[0].hlines(y=0,xmin=-72,xmax=600,linewidth=0.5,zorder=3)\n",
    "ax[1].set_xlim([-72,72]);ax[1].hlines(y=0,xmin=-72,xmax=600,linewidth=0.5,zorder=3)\n",
    "ax[2].set_xlim([-72,72]);ax[2].hlines(y=0,xmin=-72,xmax=600,linewidth=0.5,zorder=3)\n",
    "ax[3].set_xlim([-72,72]);ax[3].hlines(y=0,xmin=-72,xmax=600,linewidth=0.5,zorder=3)\n",
    "ax[4].set_xlim([-72,72]);ax[4].hlines(y=0,xmin=-72,xmax=600,linewidth=0.5,zorder=3)\n",
    "\n",
    "ax[0].set_ylim([-10,10]);ax[1].set_ylim([-10,10]);ax[2].set_ylim([-10,10])\n",
    "ax[3].set_ylim([-10,10]);ax[4].set_ylim([-10,10])\n",
    "\n",
    "ax[0].set_ylabel('mm/day',fontsize=12)\n",
    "ax[1].set_ylabel('mm/day',fontsize=12)\n",
    "ax[2].set_ylabel('mm/day',fontsize=12)\n",
    "ax[3].set_ylabel('mm/day',fontsize=12)\n",
    "ax[4].set_ylabel('mm/day',fontsize=12)\n",
    "ax[4].set_xlabel('hour',fontsize=12)\n",
    "\n",
    "ax[0].grid(linestyle='--',color='grey',linewidth=0.2);ax[0].set_xticks(np.arange(-72,84,12))\n",
    "ax[1].grid(linestyle='--',color='grey',linewidth=0.2);ax[1].set_xticks(np.arange(-72,84,12))\n",
    "ax[2].grid(linestyle='--',color='grey',linewidth=0.2);ax[2].set_xticks(np.arange(-72,84,12))\n",
    "ax[3].grid(linestyle='--',color='grey',linewidth=0.2);ax[3].set_xticks(np.arange(-72,84,12))\n",
    "ax[4].grid(linestyle='--',color='grey',linewidth=0.2);ax[4].set_xticks(np.arange(-72,84,12))\n",
    "\n",
    "ax[0].set_xticklabels(labels=[])\n",
    "ax[1].set_xticklabels(labels=[])\n",
    "ax[2].set_xticklabels(labels=[])\n",
    "ax[3].set_xticklabels(labels=[])\n",
    "\n",
    "ax[0].set_title('Column-integrated moisture budget analysis, Qv_ten = QF + LHF - P',fontsize=13)\n",
    "ax[0].legend(['local tendency'], loc=1,\n",
    "       ncol=1, borderaxespad=0.2, frameon=False)\n",
    "plt.show()"
   ]
  },
  {
   "cell_type": "code",
   "execution_count": null,
   "metadata": {},
   "outputs": [],
   "source": [
    "# SFX grouped by idx_AM, area-binned, moist \n",
    "fig,ax = plt.subplots(2,2,figsize=(8,6))\n",
    "ax[0,0].plot(np.nanmean(SFX_allre[idx_G1,:],axis=0),'--k',linewidth=3)\n",
    "ax[0,1].plot(np.nanmean(SFX_allre[idx_G2,:],axis=0),'--k',linewidth=3)\n",
    "ax[1,0].plot(np.nanmean(SFX_allre[idx_G3,:],axis=0),'--k',linewidth=3)\n",
    "ax[1,1].plot(np.nanmean(SFX_allre[idx_G4,:],axis=0),'--k',linewidth=3)\n",
    "ax[1,1].plot(np.nanmean(SFX_allre[idx_G5,:],axis=0),'--b',linewidth=3)\n",
    "\n",
    "\n",
    "# ax[0,0].plot(np.nanmean(2.5e6*qvflux_vint_all[idx_G1AD,:],axis=0),'-k',linewidth=3)\n",
    "# ax[0,1].plot(np.nanmean(2.5e6*qvflux_vint_all[idx_G2AD,:],axis=0),'-k',linewidth=3)\n",
    "# ax[1,0].plot(np.nanmean(2.5e6*qvflux_vint_all[idx_G3AD,:],axis=0),'-k',linewidth=3)\n",
    "# ax[1,1].plot(np.nanmean(2.5e6*qvflux_vint_all[idx_G4AD,:],axis=0),'-k',linewidth=3)\n",
    "\n",
    "#ax[0,0].set_ylim([-30,250]);ax[0,0].vlines(x=24,ymin=-30,ymax=600,linestyle=':')\n",
    "#ax[0,1].set_ylim([-30,350]);ax[0,1].vlines(x=24,ymin=-30,ymax=600,linestyle=':')\n",
    "#ax[1,0].set_ylim([-30,450]);ax[1,0].vlines(x=24,ymin=-30,ymax=600,linestyle=':')\n",
    "#ax[1,1].set_ylim([-30,550]);ax[1,1].vlines(x=24,ymin=-30,ymax=600,linestyle=':')\n",
    "#ax[0].vlines(x=24,ymin=0,ymax=50,linestyles=':');ax[0].set_ylim([10.9,11.4])"
   ]
  },
  {
   "cell_type": "code",
   "execution_count": null,
   "metadata": {},
   "outputs": [],
   "source": [
    "plt.plot(np.arange(-72,75,3),np.nanmean(crh_q4_all[idx_G1,:],axis=0),'r')\n",
    "plt.plot(np.arange(-72,75,3),np.nanmean(crh_q4_all[idx_G2,:],axis=0),'g')\n",
    "plt.plot(np.arange(-72,75,3),np.nanmean(crh_q4_all[idx_G3,:],axis=0),'b')\n",
    "plt.plot(np.arange(-72,75,3),np.nanmean(crh_q4_all[idx_G4,:],axis=0),'k')\n",
    "plt.plot(np.arange(-72,75,3),np.nanmean(crh_q4_all[idx_G5,:],axis=0),'m')\n",
    "\n",
    "plt.plot(np.arange(-72,75,3),np.nanmean(crh_q1_all[idx_G1,:],axis=0),'--r')\n",
    "plt.plot(np.arange(-72,75,3),np.nanmean(crh_q1_all[idx_G2,:],axis=0),'--g')\n",
    "plt.plot(np.arange(-72,75,3),np.nanmean(crh_q1_all[idx_G3,:],axis=0),'--b')\n",
    "plt.plot(np.arange(-72,75,3),np.nanmean(crh_q1_all[idx_G4,:],axis=0),'--k')\n",
    "plt.plot(np.arange(-72,75,3),np.nanmean(crh_q1_all[idx_G5,:],axis=0),'--m')"
   ]
  },
  {
   "cell_type": "code",
   "execution_count": null,
   "metadata": {},
   "outputs": [],
   "source": [
    "plt.plot(np.arange(-72,75,3),np.nanmean(crh_q4_all[idx_G1,:]-crh_q1_all[idx_G1,:],axis=0),'r')\n",
    "plt.plot(np.arange(-72,75,3),np.nanmean(crh_q4_all[idx_G2,:]-crh_q1_all[idx_G2,:],axis=0),'g')\n",
    "plt.plot(np.arange(-72,75,3),np.nanmean(crh_q4_all[idx_G3,:]-crh_q1_all[idx_G3,:],axis=0),'b')\n",
    "plt.plot(np.arange(-72,75,3),np.nanmean(crh_q4_all[idx_G4,:]-crh_q1_all[idx_G4,:],axis=0),'k')\n",
    "plt.plot(np.arange(-72,75,3),np.nanmean(crh_q4_all[idx_G5,:]-crh_q1_all[idx_G5,:],axis=0),'m')"
   ]
  },
  {
   "cell_type": "markdown",
   "metadata": {},
   "source": [
    "####  successive events after different scale of convection formation"
   ]
  },
  {
   "cell_type": "code",
   "execution_count": null,
   "metadata": {},
   "outputs": [],
   "source": [
    "idx_G4[:10]"
   ]
  },
  {
   "cell_type": "code",
   "execution_count": null,
   "metadata": {},
   "outputs": [],
   "source": [
    "def var_successive(idx_group,succ_num,var_all):\n",
    "    var_com = np.zeros((len(idx_group),succ_num)) # variable stored\n",
    "    days_com = np.copy(var_com)\n",
    "    for n,idx in enumerate(idx_group):\n",
    "\n",
    "        target_time = time_event[idx]\n",
    "        target_lat = lat_event[idx]\n",
    "        target_lon = lon_event[idx]\n",
    "\n",
    "        idx1 = np.where(lat_event == target_lat)\n",
    "        idx2 = np.where(lon_event == target_lon)\n",
    "        idx_pos = np.intersect1d(idx1,idx2)\n",
    "\n",
    "        for i,idy in enumerate(idx_pos):\n",
    "            if target_time == time_event[idy]:\n",
    "                idx_succ = idx_pos[i:i+succ_num]\n",
    "                var_com[n,:len(idx_succ)] = var_all[idx_succ,24]\n",
    "                #days_com[n,:len(idx_succ)] = time_event[idx_succ]\n",
    "                \n",
    "    return var_com #days_com"
   ]
  },
  {
   "cell_type": "code",
   "execution_count": null,
   "metadata": {},
   "outputs": [],
   "source": [
    "(time_event[1:5]-time_event[0:4])"
   ]
  },
  {
   "cell_type": "code",
   "execution_count": null,
   "metadata": {},
   "outputs": [],
   "source": [
    "cldfrac_succG1 = var_successive(idx_G1,5,crh_all)\n",
    "cldfrac_succG2 = var_successive(idx_G2,5,crh_all)\n",
    "cldfrac_succG3 = var_successive(idx_G3,5,crh_all)\n",
    "cldfrac_succG4 = var_successive(idx_G4,5,crh_all)\n",
    "cldfrac_succG5 = var_successive(idx_G5,5,crh_all)\n",
    "\n",
    "plt.plot(np.nanmean(cldfrac_succG1,axis=0),'-or')\n",
    "plt.plot(np.nanmean(cldfrac_succG2,axis=0),'-og')\n",
    "plt.plot(np.nanmean(cldfrac_succG3,axis=0),'-ob')\n",
    "plt.plot(np.nanmean(cldfrac_succG4,axis=0),'-om')\n",
    "plt.plot(np.nanmean(cldfrac_succG5,axis=0),'-ok')"
   ]
  },
  {
   "cell_type": "code",
   "execution_count": null,
   "metadata": {},
   "outputs": [],
   "source": [
    "from scipy.ndimage import gaussian_filter"
   ]
  },
  {
   "cell_type": "code",
   "execution_count": null,
   "metadata": {},
   "outputs": [],
   "source": [
    "plt.plot(np.arange(-72,75,3),gaussian_filter(np.nanmean(np.gradient(cwv_all[idx_G1,:],2,axis=1)*24,axis=0),1),'r')\n",
    "plt.plot(np.arange(-72,75,3),gaussian_filter(np.nanmean(np.gradient(cwv_all[idx_G2,:],2,axis=1)*24,axis=0),1),'g')\n",
    "plt.plot(np.arange(-72,75,3),gaussian_filter(np.nanmean(np.gradient(cwv_all[idx_G3,:],2,axis=1)*24,axis=0),1),'b')\n",
    "plt.plot(np.arange(-72,75,3),gaussian_filter(np.nanmean(np.gradient(cwv_all[idx_G4,:],2,axis=1)*24,axis=0),1),'b')\n",
    "#plt.plot(np.arange(-72,75,3),np.nanmean(np.gradient(cwv_all[idx_G5,:],3,axis=1)*24,axis=0),'-ok')\n",
    "\n",
    "plt.xlim([-72,72]);plt.grid()"
   ]
  },
  {
   "cell_type": "code",
   "execution_count": null,
   "metadata": {},
   "outputs": [],
   "source": [
    "plt.plot(np.arange(-72,75,3),gaussian_filter(np.nanmean(np.gradient(prec_all[idx_G1,:],3,axis=1)*24,axis=0),2),'-r')\n",
    "plt.plot(np.arange(-72,75,3),gaussian_filter(np.nanmean(np.gradient(prec_all[idx_G2,:],3,axis=1)*24,axis=0),2),'-g')\n",
    "plt.plot(np.arange(-72,75,3),gaussian_filter(np.nanmean(np.gradient(prec_all[idx_G3,:],3,axis=1)*24,axis=0),2),'-b')\n",
    "plt.plot(np.arange(-72,75,3),gaussian_filter(np.nanmean(np.gradient(prec_all[idx_G4,:],3,axis=1)*24,axis=0),2),'-k')\n",
    "\n",
    "plt.xlim([-48,48]);plt.grid()"
   ]
  },
  {
   "cell_type": "code",
   "execution_count": null,
   "metadata": {},
   "outputs": [],
   "source": [
    "plt.plot(np.arange(-72,75,3),np.nanmean(np.gradient(crh_all[idx_G1,:],3,axis=1)*24,axis=0),'-or')\n",
    "plt.plot(np.arange(-72,75,3),np.nanmean(np.gradient(crh_all[idx_G2,:],3,axis=1)*24,axis=0),'-og')\n",
    "plt.plot(np.arange(-72,75,3),np.nanmean(np.gradient(crh_all[idx_G3,:],3,axis=1)*24,axis=0),'-ob')\n",
    "plt.plot(np.arange(-72,75,3),np.nanmean(np.gradient(crh_all[idx_G4,:],3,axis=1)*24,axis=0))\n",
    "\n",
    "plt.xlim([-48,48]);plt.grid()"
   ]
  },
  {
   "cell_type": "code",
   "execution_count": null,
   "metadata": {},
   "outputs": [],
   "source": [
    "plt.plot(np.arange(-72,75,3),gaussian_filter(np.nanmean(prec_all[idx_G1,:],axis=0),0),'-r')\n",
    "plt.plot(np.arange(-72,75,3),gaussian_filter(np.nanmean(prec_all[idx_G2,:],axis=0),0),'-g')\n",
    "plt.plot(np.arange(-72,75,3),gaussian_filter(np.nanmean(prec_all[idx_G3,:],axis=0),0),'-b')\n",
    "plt.plot(np.arange(-72,75,3),gaussian_filter(np.nanmean(prec_all[idx_G4,:],axis=0),0),'-k')"
   ]
  },
  {
   "cell_type": "code",
   "execution_count": null,
   "metadata": {
    "hideCode": false,
    "hidePrompt": false
   },
   "outputs": [],
   "source": [
    "clevs = np.linspace(-0.6,0.6,13)\n",
    "q_mean = np.tile(q_all[:,:,:].mean(axis=1),49).reshape(q_all.shape)\n",
    "qa_all = q_all[idx_G1AM,:,:] - q_mean[idx_G1AM,:,:] # moisture anomaly\n",
    "plt.contourf(np.arange(-72,75,3),lev,np.nanmean(qa_all*1000,axis=0).T,levels=clevs)\n",
    "plt.ylim([1000,100]);plt.colorbar();plt.show()"
   ]
  },
  {
   "cell_type": "code",
   "execution_count": null,
   "metadata": {},
   "outputs": [],
   "source": [
    "qa_all = q_all[idx_G2AM,:,:] - q_mean[idx_G2AM,:,:] # moisture anomaly\n",
    "plt.contourf(np.arange(-72,75,3),lev,np.nanmean(qa_all*1000,axis=0).T,levels=clevs)\n",
    "plt.ylim([1000,100]);plt.colorbar();plt.show()"
   ]
  },
  {
   "cell_type": "code",
   "execution_count": null,
   "metadata": {},
   "outputs": [],
   "source": [
    "qa_all = q_all[idx_G3AM,:,:] - q_mean[idx_G3AM,:,:] # moisture anomaly\n",
    "plt.contourf(np.arange(-72,75,3),lev,np.nanmean(qa_all*1000,axis=0).T,levels=clevs)\n",
    "plt.ylim([1000,100]);plt.colorbar();plt.show()"
   ]
  },
  {
   "cell_type": "code",
   "execution_count": null,
   "metadata": {},
   "outputs": [],
   "source": [
    "qa_all = q_all[idx_G4AM,:,:] - q_mean[idx_G4AM,:,:] # moisture anomaly\n",
    "plt.contourf(np.arange(-72,75,3),lev,np.nanmean(qa_all*1000,axis=0).T,levels=clevs)\n",
    "plt.ylim([1000,100]);plt.colorbar();plt.show()"
   ]
  },
  {
   "cell_type": "code",
   "execution_count": null,
   "metadata": {},
   "outputs": [],
   "source": [
    "#div_mean = np.tile(div_all[:,:,:].mean(axis=1),49).reshape(div_all.shape)\n",
    "diva_all = div_all[idx_G1AM,:,:] #- div_mean[idx_G1,:,:] # moisture anomaly\n",
    "plt.contourf(np.arange(-72,75,3),lev,np.nanmean(div_all[idx_G1AM,:],axis=0).T)\n",
    "plt.ylim([1000,100]);plt.colorbar();plt.show()"
   ]
  },
  {
   "cell_type": "code",
   "execution_count": null,
   "metadata": {},
   "outputs": [],
   "source": [
    "diva_all = div_all[idx_G2AM,:,:] #- div_mean[idx_G1,:,:] # moisture anomaly\n",
    "plt.contourf(np.arange(-72,75,3),lev,np.nanmean(div_all[idx_G2AM,:],axis=0).T)\n",
    "plt.ylim([1000,100]);plt.colorbar();plt.show()"
   ]
  },
  {
   "cell_type": "code",
   "execution_count": null,
   "metadata": {},
   "outputs": [],
   "source": [
    "diva_all = div_all[idx_G3AM,:,:] #- div_mean[idx_G1,:,:] # moisture anomaly\n",
    "plt.contourf(np.arange(-72,75,3),lev,np.nanmean(div_all[idx_G3AM,:],axis=0).T)\n",
    "plt.ylim([1000,100]);plt.colorbar();plt.show()"
   ]
  },
  {
   "cell_type": "code",
   "execution_count": null,
   "metadata": {},
   "outputs": [],
   "source": [
    "diva_all = div_all[idx_G4AM,:,:] #- div_mean[idx_G1,:,:] # moisture anomaly\n",
    "plt.contourf(np.arange(-72,75,3),lev,np.nanmean(div_all[idx_G4AM,:],axis=0).T)\n",
    "plt.ylim([1000,100]);plt.colorbar();plt.show()"
   ]
  },
  {
   "cell_type": "code",
   "execution_count": null,
   "metadata": {},
   "outputs": [],
   "source": [
    "#omegaa_all = omega_all[idx_G2,:,:] - omega_mean[idx_G2,:,:] # moisture anomaly\n",
    "plt.contourf(np.arange(-72,75,3),lev,np.nanmean(omega_all[idx_G2,:],axis=0).T)\n",
    "plt.ylim([1000,100]);plt.colorbar();plt.show()"
   ]
  },
  {
   "cell_type": "code",
   "execution_count": null,
   "metadata": {},
   "outputs": [],
   "source": [
    "#omegaa_all = omega_all[idx_G3,:,:] - omega_mean[idx_G3,:,:] # moisture anomaly\n",
    "plt.contourf(np.arange(-72,75,3),lev,np.nanmean(omega_all[idx_G3,:],axis=0).T)\n",
    "plt.ylim([1000,100]);plt.colorbar();plt.show()"
   ]
  },
  {
   "cell_type": "markdown",
   "metadata": {},
   "source": [
    "### Omega vertical mode decomposition [Masunaga and L'ecuyer]"
   ]
  },
  {
   "cell_type": "code",
   "execution_count": null,
   "metadata": {},
   "outputs": [],
   "source": [
    "def vertmode_omega(omega_data,omega_bg,fbc_mtx):\n",
    "    'omega_bg: background omega profile, defined as paper'\n",
    "    m_dim = fbc_mtx.shape[0]\n",
    "    t_dim = omega_data.shape[0]\n",
    "    m_time = np.zeros((m_dim,t_dim))\n",
    "    omega_rcst = np.zeros(omega_data.shape) # reconstructed profile by three modes \n",
    "    for t in range(t_dim):\n",
    "        omega_mtx = np.matrix((omega_data[t,:25]-omega_bg[:25]))\n",
    "        m_mtx = (fbc_mtx*fbc_mtx.T).I*(fbc_mtx*omega_mtx.T) # regression coefficient    \n",
    "        m_time[:,t] = m_mtx.A.T\n",
    "        omega_rcst[t,:] = m_mtx.T*fbc_mtx\n",
    "    return m_time, omega_rcst"
   ]
  },
  {
   "cell_type": "code",
   "execution_count": null,
   "metadata": {},
   "outputs": [],
   "source": [
    "# prescribed vertical mode definition\n",
    "ps = 1000\n",
    "ptp = 100\n",
    "p = lev[:25]\n",
    "fbc1 = -np.sin(1*np.pi*(p-ptp)/(ps-ptp)) # prescribed first mode\n",
    "fbc2 = np.sin(2*np.pi*(p-ptp)/(ps-ptp)) # prescribed second mode \n",
    "fshl = -np.sin(np.pi*(p-850)/(ps-850)); fshl[6:] = 0 # prescribed shallow mode, peak at 850hpa\n",
    "fbc_mtx = np.stack((fbc1,fbc2,fshl),axis=0)\n",
    "fbc_mtx = np.matrix(fbc_mtx)"
   ]
  },
  {
   "cell_type": "code",
   "execution_count": null,
   "metadata": {},
   "outputs": [],
   "source": [
    "omega_allmn = np.nanmean(omega_all,axis=0)\n",
    "omega_bg = np.nanmean(np.concatenate((omega_allmn[:4,:25],omega_allmn[-4:,:25])),axis=0)"
   ]
  },
  {
   "cell_type": "code",
   "execution_count": null,
   "metadata": {},
   "outputs": [],
   "source": [
    "em1_time = np.zeros(prec_all.shape)\n",
    "em2_time = np.zeros(prec_all.shape)\n",
    "em3_time = np.zeros(prec_all.shape)\n",
    "\n",
    "for n in range(len(omega_all)):\n",
    "    m_time, omega_rcst = vertmode_omega(omega_all[n,:,:25],omega_bg,fbc_mtx)\n",
    "    em1_time[n,:] = m_time[0,:]\n",
    "    em2_time[n,:] = m_time[1,:]\n",
    "    em3_time[n,:] = m_time[2,:]"
   ]
  },
  {
   "cell_type": "code",
   "execution_count": null,
   "metadata": {},
   "outputs": [],
   "source": [
    "# total \n",
    "plt.plot(np.nanmean(em1_time,axis=0),'r')\n",
    "plt.plot(np.nanmean(em2_time,axis=0),'b')\n",
    "plt.plot(np.nanmean(em3_time,axis=0),'k')"
   ]
  },
  {
   "cell_type": "code",
   "execution_count": null,
   "metadata": {},
   "outputs": [],
   "source": [
    "plt.plot(np.nanmean(em1_time[idx_G1,:],axis=0),'r')\n",
    "plt.plot(np.nanmean(em2_time[idx_G1,:],axis=0),'b')\n",
    "plt.plot(np.nanmean(em3_time[idx_G1,:],axis=0),'k')"
   ]
  },
  {
   "cell_type": "code",
   "execution_count": null,
   "metadata": {},
   "outputs": [],
   "source": [
    "plt.plot(np.nanmean(em1_time[idx_G2,:],axis=0),'r')\n",
    "plt.plot(np.nanmean(em2_time[idx_G2,:],axis=0),'b')\n",
    "plt.plot(np.nanmean(em3_time[idx_G2,:],axis=0),'k')"
   ]
  },
  {
   "cell_type": "code",
   "execution_count": null,
   "metadata": {},
   "outputs": [],
   "source": [
    "plt.plot(np.nanmean(em1_time[idx_G4,:],axis=0))\n",
    "plt.plot(np.nanmean(em2_time[idx_G4,:],axis=0))\n",
    "plt.plot(np.nanmean(em3_time[idx_G4,:],axis=0))"
   ]
  },
  {
   "cell_type": "code",
   "execution_count": null,
   "metadata": {},
   "outputs": [],
   "source": [
    "cldamt_dc_all[150,:]"
   ]
  },
  {
   "cell_type": "code",
   "execution_count": null,
   "metadata": {},
   "outputs": [],
   "source": [
    "plt.plot(np.nanmean(cldamt_cu_all[idx_G1,:],axis=0),'k')\n",
    "plt.plot(np.nanmean(cldamt_st_all[idx_G1,:],axis=0),'b')\n",
    "plt.plot(np.nanmean(cldamt_dc_all[idx_G1,:],axis=0),'r')"
   ]
  },
  {
   "cell_type": "code",
   "execution_count": null,
   "metadata": {},
   "outputs": [],
   "source": [
    "num = 23\n",
    "print(cldfrac_all[num,24],Abar_all[num,24],crh_all[num,24])\n",
    "plt.plot(cldamt_cu_all[num,:],'k')\n",
    "plt.plot(cldamt_st_all[num,:],'b')\n",
    "plt.plot(cldamt_dc_all[num,:],'r')"
   ]
  },
  {
   "cell_type": "code",
   "execution_count": null,
   "metadata": {},
   "outputs": [],
   "source": []
  },
  {
   "cell_type": "code",
   "execution_count": null,
   "metadata": {},
   "outputs": [],
   "source": [
    "z = np.array([124,810,1541,3178,4437,5887,6000])\n",
    "slp = -3/6000\n",
    "u = 3 + slp*z\n",
    "u"
   ]
  },
  {
   "cell_type": "code",
   "execution_count": null,
   "metadata": {
    "hideCode": true
   },
   "outputs": [],
   "source": []
  },
  {
   "cell_type": "code",
   "execution_count": null,
   "metadata": {},
   "outputs": [],
   "source": []
  },
  {
   "cell_type": "code",
   "execution_count": null,
   "metadata": {},
   "outputs": [],
   "source": [
    "-----------------------------------------------"
   ]
  },
  {
   "cell_type": "code",
   "execution_count": null,
   "metadata": {},
   "outputs": [],
   "source": [
    "def caseview(time_event,lat_event,lon_event):\n",
    "\n",
    "    data_sub1 = subset_MERRA2(MERRA2_3d_dir+'TQUV_3hr'\n",
    "                          ,time_event,lat_event,lon_event,3,10,20)\n",
    "    data_sub2 = subset_TRMM(TRMM_dir+'2014_2018'\n",
    "                          ,time_event,lat_event,lon_event,3,10,20)\n",
    "    data_sub3 = subset_MERRA2(MERRA2_dir+'inst_2d_hourly'\n",
    "                          ,time_event,lat_event,lon_event,3,10,20)\n",
    "    data_sub4 = subset_MERRA2(MERRA2_3d_dir+'omega_3hr'\n",
    "                          ,time_event,lat_event,lon_event,3,10,20)\n",
    "    data_sub5 = subset_gridsat(Gridsat_dir+'2014_2018'\n",
    "                          ,time_event,lat_event,lon_event,3,10,20)\n",
    "    \n",
    "    u_sm = data_sub1.U\n",
    "    v_sm = data_sub1.V\n",
    "    T_sm = data_sub1.T\n",
    "    q_sm = data_sub1.QV\n",
    "    prec_sm = data_sub2.precipitation.resample(time='6H').nearest()\n",
    "    cwv_sm = data_sub3.TQV.resample(time='6H').nearest()\n",
    "    omega_sm = data_sub4.OMEGA\n",
    "    bt_sm = data_sub5.irwin_cdr.resample(time='6H').nearest()\n",
    "\n",
    "    u_950sm = u_sm.sel(lev=950).resample(time='6H').nearest()\n",
    "    v_950sm = v_sm.sel(lev=950).resample(time='6H').nearest()\n",
    "    u_tar = u_sm.sel(lon=slice(lon_event-5,lon_event+5),lat=slice(lat_event-5,lat_event+5))\n",
    "    v_tar = v_sm.sel(lon=slice(lon_event-5,lon_event+5),lat=slice(lat_event-5,lat_event+5))\n",
    "    omega_tar = omega_sm.sel(lon=slice(lon_event-5,lon_event+5),lat=slice(lat_event-5,lat_event+5))\n",
    "    prec_tar = prec_sm.sel(nlon=slice(lon_event-5,lon_event+5),nlat=slice(lat_event-5,lat_event+5))\n",
    "    bt_tar = bt_sm.sel(lon=slice(lon_event-5,lon_event+5),lat=slice(lat_event-5,lat_event+5))\n",
    "    SCAIbt_sm,SCAI_p,Nbt_sm,N_prec = SCAI_index(prec_tar,bt_tar) # 6H data\n",
    "    div_tar = np.gradient(u_tar,0.625*100*1e3,axis=3)+np.gradient(v_tar,0.5*100*1e3,axis=2) # divergence 3D\n",
    "    \n",
    "    p = T_sm.lev.values*units('mbar')\n",
    "    T_tar = T_sm.sel(lon=slice(lon_event-5,lon_event+5),lat=slice(lat_event-5,lat_event+5))\n",
    "    q_tar = q_sm.sel(lon=slice(lon_event-5,lon_event+5),lat=slice(lat_event-5,lat_event+5))\n",
    "    # cape/cin calculation\n",
    "    cape_sm = np.zeros(len(T_tar.time))\n",
    "    cin_sm = np.copy(cape_sm)\n",
    "    for t in range(len(u_tar.time)):\n",
    "        T_tmp = np.nanmean(T_tar[t,:,:,:],axis=(1,2))\n",
    "        q_tmp = np.nanmean(q_tar[t,:,:,:],axis=(1,2))\n",
    "        T = (T_tmp-273.15)*units('degC')\n",
    "        q = q_tmp*units('kg/kg')\n",
    "        Td = mpcalc.dewpoint(mpcalc.vapor_pressure(p,q))\n",
    "        \n",
    "        try:\n",
    "            Tp = mpcalc.parcel_profile(p,T[0],Td[0]).to('degC')                    \n",
    "            el_pressure,el_temperature = mpcalc.el(p,T,Td) # equilibrium level\n",
    "            el_idx = np.argmin(np.abs(p.magnitude - el_pressure.magnitude))                \n",
    "            ELps = [el_pressure.magnitude] # Initialize an array of EL pressures for detrainment profile\n",
    "            [CAPE,CIN] = mpcalc.cape_cin(p[:el_idx],T[:el_idx],Td[:el_idx],Tp[:el_idx])\n",
    "            cape_sm[t] = CAPE.magnitude\n",
    "            cin_sm[t] = CIN.magnitude\n",
    "        except:\n",
    "            cape_sm[t] = np.nan\n",
    "            cin_sm[t] = np.nan\n",
    "    \n",
    "    # Abar calculation\n",
    "    tmp = bt_tar.values\n",
    "    cldfrac_sm = [len(np.where(tmp[n,:,:]<240)[0])/(tmp.shape[1]*tmp.shape[2]) for n in range(tmp.shape[0])]\n",
    "    Abar_sm = cldfrac_sm/Nbt_sm*1600\n",
    "    \n",
    "    return (u_950sm,v_950sm,omega_sm,prec_sm,cwv_sm,bt_sm,SCAIbt_sm,Nbt_sm,Abar_sm\n",
    "            ,div_tar,cape_sm,cin_sm)"
   ]
  },
  {
   "cell_type": "code",
   "execution_count": null,
   "metadata": {},
   "outputs": [],
   "source": [
    "idx_G3AD[0:100]"
   ]
  },
  {
   "cell_type": "code",
   "execution_count": null,
   "metadata": {},
   "outputs": [],
   "source": [
    "num=1908\n",
    "u_950sm,v_950sm,omega_sm,prec_sm,cwv_sm,bt_sm,SCAIbt_sm,Nbt_sm,Abar_sm,div_sm,cape_sm,cin_sm = caseview(time_event[num],lat_event[num],lon_event[num])"
   ]
  },
  {
   "cell_type": "code",
   "execution_count": null,
   "metadata": {},
   "outputs": [],
   "source": [
    "fig,ax = plt.subplots(7,2,figsize=(12,15))\n",
    "for n in range(7):\n",
    "    #ax[n] = plt.axes(projection=ccrs.PlateCarree(central_longitude=0))\n",
    "    ax[n,0].pcolormesh(cwv_sm.lon,cwv_sm.lat,cwv_sm[4*n,:,:])\n",
    "    ax[n,0].contour(cwv_sm.lon,cwv_sm.lat,cwv_sm[4*n,:,:],levels=[48],colors=['w'])\n",
    "    ax[n,0].quiver(u_950sm.lon[::2],u_950sm.lat[::2],u_950sm[4*n,::2,::2],v_950sm[4*n,::2,::2])      \n",
    "    rect1 = patches.Rectangle((lon_event[num]-5,lat_event[num]-5),10,10,linewidth=2,\n",
    "                              edgecolor='r',facecolor='None')\n",
    "    ax[n,0].add_patch(rect1)\n",
    "    if n ==0:\n",
    "        ax[n,0].set_title(time_event[num])\n",
    "        \n",
    "    ax[n,1].contour(prec_sm.nlon,prec_sm.nlat,prec_sm[4*n,:,:].transpose(),\n",
    "                   levels=[1,5,10,30,50],linewidths=1,colors=['m'])\n",
    "    tmp = bt_sm[4*n,:,:].values; #tmp[tmp>240] = np.nan\n",
    "    ax[n,1].pcolormesh(bt_sm.lon,bt_sm.lat,tmp,cmap='binary_r') \n",
    "    rect2 = patches.Rectangle((lon_event[num]-5,lat_event[num]-5),10,10,linewidth=2,\n",
    "                              edgecolor='r',facecolor='None')\n",
    "    ax[n,1].add_patch(rect2)\n",
    "    ax[n,1].text(lon_event[num]+10,lat_event[num]+7.5,'N = '+str(int(Nbt_sm[n])),color='g',fontsize=11)\n",
    "    ax[n,1].text(lon_event[num]+10,lat_event[num]+5.5,'SCAI = '+str(round(SCAIbt_sm[n],1)),color='g',fontsize=11)\n",
    "    ax[n,1].text(lon_event[num]+10,lat_event[num]+3.5,'Abar = '+str(round(Abar_sm[n],1)),color='g',fontsize=11)\n",
    "    if n ==0:\n",
    "        ax[n,1].set_title(time_event[num])"
   ]
  },
  {
   "cell_type": "code",
   "execution_count": null,
   "metadata": {},
   "outputs": [],
   "source": []
  },
  {
   "cell_type": "code",
   "execution_count": null,
   "metadata": {},
   "outputs": [],
   "source": []
  },
  {
   "cell_type": "code",
   "execution_count": null,
   "metadata": {
    "hideCode": false,
    "hidePrompt": false
   },
   "outputs": [],
   "source": [
    "cldfrac_bin = np.array([0,0.1,0.25,0.5,1]) # mm/day\n",
    "SFX_bin = np.zeros((len(cldfrac_bin)-1,48)) # m/s\n",
    "SFXstd_bin = np.zeros((len(cldfrac_bin)-1,48))\n",
    "num_bin = np.copy(cldfrac_bin)*0\n",
    "\n",
    "for n in range(len(cldfrac_bin)-1):\n",
    "    idx = np.where(np.logical_and(cldfrac_all[:,24]>=cldfrac_bin[n],cldfrac_all[:,24]<cldfrac_bin[n+1]))[0]\n",
    "    SFX_bin[n,:] = np.nanmean(SFX_all[idx,:],axis=0)\n",
    "    SFXstd_bin[n,:] = np.nanmean(SFXstd_all[idx,:],axis=0)\n",
    "    num_bin[n] = len(idx)\n",
    "    \n",
    "fig=plt.figure(figsize=(8,4))\n",
    "\n",
    "plt.plot(np.linspace(-72,72,48,dtype=int),SFX_bin[0,:],color='k')\n",
    "plt.plot(np.linspace(-72,72,48,dtype=int),SFX_bin[1,:],color='b')\n",
    "plt.plot(np.linspace(-72,72,48,dtype=int),SFX_bin[2,:],color='orange')\n",
    "plt.plot(np.linspace(-72,72,48,dtype=int),SFX_bin[3,:],color='r')\n",
    "\n",
    "plt.legend(['0 < cldfrac < 0.1','0.1 < cldfrac < 0.25','0.25 < cldfrac < 0.5','0.5 < cldfrac < 1']\n",
    "          ,fontsize=9)\n",
    "plt.ylabel('SFX [W/m$^2$]')\n",
    "plt.xlabel('Lag time [hr]')\n",
    "plt.grid(axis='x',linestyle=':')\n",
    "#plt.title('Precipitation evolution, 10deg box, IND')"
   ]
  },
  {
   "cell_type": "code",
   "execution_count": null,
   "metadata": {
    "hideCode": false,
    "hidePrompt": false
   },
   "outputs": [],
   "source": [
    "cldfrac_bin = np.array([0,0.1,0.25,0.5,1]) # mm/day\n",
    "wsfc_bin = np.zeros((len(cldfrac_bin)-1,49)) # m/s\n",
    "num_bin = np.copy(cldfrac_bin)*0\n",
    "\n",
    "for n in range(len(cldfrac_bin)-1):\n",
    "    idx = np.where(np.logical_and(cldfrac_all[:,24]>=cldfrac_bin[n],cldfrac_all[:,24]<cldfrac_bin[n+1]))[0]\n",
    "    wsfc_bin[n,:] = np.nanmean((u_all[idx,:,0]**2+v_all[idx,:,0]**2)**0.5,axis=0)\n",
    "    num_bin[n] = len(idx)\n",
    "    \n",
    "fig=plt.figure(figsize=(8,4))\n",
    "\n",
    "plt.plot(np.linspace(-72,72,49,dtype=int),wsfc_bin[0,:],color='k')\n",
    "plt.plot(np.linspace(-72,72,49,dtype=int),wsfc_bin[1,:],color='b')\n",
    "plt.plot(np.linspace(-72,72,49,dtype=int),wsfc_bin[2,:],color='orange')\n",
    "plt.plot(np.linspace(-72,72,49,dtype=int),wsfc_bin[3,:],color='r')\n",
    "\n",
    "plt.legend(['0 < cldfrac < 0.1','0.1 < cldfrac < 0.25','0.25 < cldfrac < 0.5','0.5 < cldfrac < 1']\n",
    "          ,fontsize=9)\n",
    "plt.ylabel('SFX [W/m$^2$]')\n",
    "plt.xlabel('Lag time [hr]')\n",
    "plt.grid(axis='x',linestyle=':')\n",
    "#plt.title('Precipitation evolution, 10deg box, IND')"
   ]
  },
  {
   "cell_type": "code",
   "execution_count": null,
   "metadata": {
    "hideCode": false,
    "hidePrompt": false
   },
   "outputs": [],
   "source": [
    "# cldfrac_bin = np.array([0,0.1,0.25,0.5,1]) # mm/day\n",
    "# freq_bin = np.zeros((len(cldfrac_bin)-1,4)) # m/s\n",
    "\n",
    "# for n in range(len(cldfrac_bin)-1):\n",
    "#     idx1 = np.where(np.logical_and(cldfrac_DJF[:,24]>=cldfrac_bin[n],cldfrac_DJF[:,24]<cldfrac_bin[n+1]))[0]\n",
    "#     idx2 = np.where(np.logical_and(cldfrac_MAM[:,24]>=cldfrac_bin[n],cldfrac_MAM[:,24]<cldfrac_bin[n+1]))[0]\n",
    "#     idx3 = np.where(np.logical_and(cldfrac_JJA[:,24]>=cldfrac_bin[n],cldfrac_JJA[:,24]<cldfrac_bin[n+1]))[0]\n",
    "#     idx4 = np.where(np.logical_and(cldfrac_SON[:,24]>=cldfrac_bin[n],cldfrac_SON[:,24]<cldfrac_bin[n+1]))[0]\n",
    "    \n",
    "#     freq_bin[n,0] = len(idx1)\n",
    "#     freq_bin[n,1] = len(idx2)\n",
    "#     freq_bin[n,2] = len(idx3)\n",
    "#     freq_bin[n,3] = len(idx4)"
   ]
  },
  {
   "cell_type": "code",
   "execution_count": null,
   "metadata": {
    "hideCode": false,
    "hidePrompt": false
   },
   "outputs": [],
   "source": [
    "# constructing the climatology over targeted scenes for T,q,RH anomaly \n",
    "# to remove seasonality and diurnal cycle\n",
    "os.chdir(MERRA2_dir+'inst_2d_hourly')\n",
    "files = sorted(glob('*nc'))\n",
    "data = xr.open_mfdataset(files)"
   ]
  },
  {
   "cell_type": "code",
   "execution_count": null,
   "metadata": {
    "hideCode": false,
    "hidePrompt": false
   },
   "outputs": [],
   "source": [
    "cwv = data.sel(lat=slice(-20,20)).TQV\n",
    "cwv_clim = cwv.groupby('time.month').mean('time').compute() # climatology of daily data"
   ]
  },
  {
   "cell_type": "code",
   "execution_count": null,
   "metadata": {
    "hideCode": false,
    "hidePrompt": false
   },
   "outputs": [],
   "source": [
    "# test for removing seasonality over all cases\n",
    "cwv_rmseason = np.copy(cwv_all)\n",
    "\n",
    "for n in range(len(time_event)):\n",
    "    cwv_climsub = cwv_clim.sel(lat=slice(lat_event[n]-5,lat_event[n]+5),\n",
    "                          lon=slice(lon_event[n]-5,lon_event[n]+5),month=time_event[n].month)\n",
    "    cwv_rmseason[n,:] = cwv_all[n,:] - cwv_climsub.mean().values"
   ]
  },
  {
   "cell_type": "code",
   "execution_count": null,
   "metadata": {
    "hideCode": false,
    "hidePrompt": false
   },
   "outputs": [],
   "source": [
    "cldfrac_bin = np.array([0,0.1,0.25,0.5,1]) # mm/day\n",
    "cwva_bin = np.zeros((len(cldfrac_bin)-1,49)) # m/s\n",
    "cwvastd_bin = np.zeros((len(cldfrac_bin)-1,49))\n",
    "num_bin = np.copy(cldfrac_bin)*0\n",
    "\n",
    "for n in range(len(cldfrac_bin)-1):\n",
    "    idx = np.where(np.logical_and(cldfrac_all[:,24]>=cldfrac_bin[n],cldfrac_all[:,24]<cldfrac_bin[n+1]))[0]\n",
    "    cwva_bin[n,:] = np.nanmean(cwv_all[idx,:],axis=0)\n",
    "    cwvastd_bin[n,:] = np.nanstd(cwv_all[idx,:],axis=0)/np.sqrt(len(idx))\n",
    "    num_bin[n] = len(idx)\n",
    "\n",
    "fig=plt.figure(figsize=(8,4))\n",
    "\n",
    "plt.plot(np.linspace(-72,72,49,dtype=int),cwva_bin[0,:],color='k')\n",
    "plt.plot(np.linspace(-72,72,49,dtype=int),cwva_bin[1,:],color='b')\n",
    "plt.plot(np.linspace(-72,72,49,dtype=int),cwva_bin[2,:],color='orange')\n",
    "plt.plot(np.linspace(-72,72,49,dtype=int),cwva_bin[3,:],color='r')\n",
    "\n",
    "plt.legend(['0 < cldfrac < 0.1','0.1 < cldfrac < 0.25','0.25 < cldfrac < 0.5','0.5 < cldfrac < 1']\n",
    "          ,fontsize=9)\n",
    "plt.ylabel('CWV anomaly [mm]')\n",
    "plt.xlabel('Lag time [hr]')\n",
    "plt.grid(axis='x',linestyle='--')\n",
    "#plt.title('Precipitation evolution, 10deg box, IND')"
   ]
  },
  {
   "cell_type": "code",
   "execution_count": null,
   "metadata": {
    "hideCode": false,
    "hidePrompt": false
   },
   "outputs": [],
   "source": [
    "def discrete_cmap(N, base_cmap=None):\n",
    "    \"\"\"Create an N-bin discrete colormap from the specified input map\"\"\"\n",
    "\n",
    "    # Note that if base_cmap is a string or None, you can simply do\n",
    "    #    return plt.cm.get_cmap(base_cmap, N)\n",
    "    # The following works for string, None, or a colormap instance:\n",
    "\n",
    "    base = plt.cm.get_cmap(base_cmap)\n",
    "    color_list = base(np.linspace(0, 1, N))\n",
    "    cmap_name = base.name + str(N)\n",
    "    return base.from_list(cmap_name, color_list, N)"
   ]
  },
  {
   "cell_type": "code",
   "execution_count": null,
   "metadata": {
    "hideCode": false,
    "hidePrompt": false
   },
   "outputs": [],
   "source": [
    "# prec anomaly vs cwv anomaly\n",
    "fig = plt.figure(figsize=(6,6))\n",
    "\n",
    "plt.plot(cwva_bin[0,:],preca_bin[0,:],'-k',linewidth=0.6)\n",
    "plt.scatter(cwva_bin[0,:],preca_bin[0,:],c=np.arange(-24,25),s=80\n",
    "            ,cmap=discrete_cmap(6, 'RdBu'),zorder=2,edgecolor='grey')\n",
    "plt.plot(cwva_bin[1,:],preca_bin[1,:],'-r',linewidth=0.6)\n",
    "plt.scatter(cwva_bin[1,:],preca_bin[1,:],c=np.arange(-24,25),s=80\n",
    "            ,cmap=discrete_cmap(6, 'RdBu'),zorder=2,edgecolor='grey')\n",
    "plt.plot(cwva_bin[2,:],preca_bin[2,:],'-g',linewidth=0.6)\n",
    "plt.scatter(cwva_bin[2,:],preca_bin[2,:],c=np.arange(-24,25),s=80\n",
    "            ,cmap=discrete_cmap(6, 'RdBu'),zorder=2,edgecolor='grey')\n",
    "plt.plot(cwva_bin[3,:],preca_bin[3,:],'-b',linewidth=0.6)\n",
    "plt.scatter(cwva_bin[3,:],preca_bin[3,:],c=np.arange(-24,25),s=80\n",
    "            ,cmap=discrete_cmap(6, 'RdBu'),zorder=2,edgecolor='grey')"
   ]
  },
  {
   "cell_type": "code",
   "execution_count": null,
   "metadata": {
    "hideCode": false,
    "hidePrompt": false
   },
   "outputs": [],
   "source": [
    "# open T_clim, qv_clim, RH_clim \n",
    "os.chdir('/w2-data/willytsai/ISCCP/')\n",
    "T_clim = xr.open_dataset('T_clim_10deg.nc')\n",
    "qv_clim = xr.open_dataset('qv_clim_10deg.nc')\n",
    "RH_clim = xr.open_dataset('rh_clim_10deg.nc')"
   ]
  },
  {
   "cell_type": "code",
   "execution_count": null,
   "metadata": {
    "hideCode": false,
    "hidePrompt": false
   },
   "outputs": [],
   "source": [
    "T_rmseason = np.copy(T_all)\n",
    "\n",
    "for n in range(len(time_event)):\n",
    "    T_climsub = T_clim.sel(lat=slice(lat_event[n]-5,lat_event[n]+5),\n",
    "                          lon=slice(lon_event[n]-5,lon_event[n]+5),month=time_event[n].month).T\n",
    "    T_rmseason[n,:,:] = (T_all[n,:,:] - T_climsub.mean(axis=(1,2)).values)"
   ]
  },
  {
   "cell_type": "code",
   "execution_count": null,
   "metadata": {
    "hideCode": false,
    "hidePrompt": false
   },
   "outputs": [],
   "source": [
    "q_rmseason = np.copy(q_all)\n",
    "\n",
    "for n in range(len(time_event)):\n",
    "    q_climsub = qv_clim.sel(lat=slice(lat_event[n]-5,lat_event[n]+5),\n",
    "                          lon=slice(lon_event[n]-5,lon_event[n]+5),month=time_event[n].month).QV\n",
    "    q_rmseason[n,:,:] = q_all[n,:,:] - q_climsub.mean(axis=(1,2)).values"
   ]
  },
  {
   "cell_type": "code",
   "execution_count": null,
   "metadata": {
    "hideCode": false,
    "hidePrompt": false
   },
   "outputs": [],
   "source": [
    "rh_rmseason = np.copy(rh_all)\n",
    "\n",
    "for n in range(len(time_event)):\n",
    "    rh_climsub = RH_clim.sel(lat=slice(lat_event[n]-5,lat_event[n]+5),\n",
    "                          lon=slice(lon_event[n]-5,lon_event[n]+5),month=time_event[n].month).RH\n",
    "    rh_rmseason[n,:,:] = rh_all[n,:,:] - rh_climsub.mean(axis=(1,2)).values"
   ]
  },
  {
   "cell_type": "code",
   "execution_count": null,
   "metadata": {
    "hideCode": false,
    "hidePrompt": false
   },
   "outputs": [],
   "source": [
    "# os.chdir(MERRA2_3d_dir+'RH_3hr')\n",
    "# files = glob('*nc4')\n",
    "# data = xr.open_mfdataset(files)"
   ]
  },
  {
   "cell_type": "code",
   "execution_count": null,
   "metadata": {
    "hideCode": false,
    "hidePrompt": false
   },
   "outputs": [],
   "source": [
    "# %%time\n",
    "# rh = data.sel(lon=slice(50,90),lat=slice(-10,10)).RH\n",
    "# rh_clim = rh.groupby('time.month').mean('time').compute() # climatology of daily data"
   ]
  },
  {
   "cell_type": "code",
   "execution_count": null,
   "metadata": {
    "hideCode": false,
    "hidePrompt": false
   },
   "outputs": [],
   "source": [
    "# os.chdir('/w2-data/willytsai/ISCCP')\n",
    "# m2data = np.loadtxt('MERRA2_modellevs.txt')\n",
    "# m2lev = np.flipud(m2data[:,1])"
   ]
  },
  {
   "cell_type": "code",
   "execution_count": null,
   "metadata": {
    "hideCode": false,
    "hidePrompt": false
   },
   "outputs": [],
   "source": [
    "# for m in range(12):\n",
    "#     plt.plot(np.nanmean(rh_clim[m,:,:,:],axis=(1,2)),m2lev,zorder=1)\n",
    "# plt.ylim([1000,150])\n",
    "# plt.legend(['1','2','3','4','5','6','7','8','9','10','11','12'])"
   ]
  },
  {
   "cell_type": "code",
   "execution_count": null,
   "metadata": {
    "hideCode": false,
    "hidePrompt": false
   },
   "outputs": [],
   "source": [
    "for m in range(12):\n",
    "    plt.plot(qv_clim[m,:,:,:].mean(axis=(1,2)),lev,zorder=1)\n",
    "plt.ylim([1000,150])\n",
    "plt.legend(['1','2','3','4','5','6','7','8','9','10','11','12'])"
   ]
  },
  {
   "cell_type": "code",
   "execution_count": null,
   "metadata": {
    "hideCode": false,
    "hidePrompt": false
   },
   "outputs": [],
   "source": [
    "u = data.sel(lon=slice(50,90),lat=slice(-10,10)).U\n",
    "u_clim = u.groupby('time.month').mean('time').compute() # climatology of daily data\n",
    "\n",
    "u_rmseason = np.copy(u_all)\n",
    "\n",
    "for n in range(len(time_event)):\n",
    "    u_climsub = u_clim.sel(lat=slice(lat_event[n]-5,lat_event[n]+5),\n",
    "                          lon=slice(lon_event[n]-5,lon_event[n]+5),month=time_event[n].month)\n",
    "    u_rmseason[n,:] = u_all[n,:,:] - u_climsub.mean(axis=(1,2)).values"
   ]
  },
  {
   "cell_type": "code",
   "execution_count": null,
   "metadata": {
    "hideCode": false,
    "hidePrompt": false
   },
   "outputs": [],
   "source": [
    "for m in range(12):\n",
    "    plt.plot(u_clim[m,:,:,:].mean(axis=(1,2)),lev,zorder=1)\n",
    "plt.ylim([1000,150]);plt.vlines(0,ymax=1000,ymin=0,zorder=2)\n",
    "plt.xlim([-10,10])\n",
    "plt.legend(['1','2','3','4','5','6','7','8','9','10','11','12'])"
   ]
  },
  {
   "cell_type": "code",
   "execution_count": null,
   "metadata": {
    "hideCode": false,
    "hidePrompt": false
   },
   "outputs": [],
   "source": [
    "lev_model = np.loadtxt('MERRA2_modellevs.txt')[:,1]"
   ]
  },
  {
   "cell_type": "code",
   "execution_count": null,
   "metadata": {
    "hideCode": false,
    "hidePrompt": false
   },
   "outputs": [],
   "source": [
    "cldfrac_bin = np.array([0,0.1,0.25,0.5,1]) # mm/day\n",
    "rha_bin = np.zeros((len(cldfrac_bin)-1,49,72)) # m/s\n",
    "rhastd_bin = np.zeros((len(cldfrac_bin)-1,49,72))\n",
    "num_bin = np.copy(cldfrac_bin)*0\n",
    "\n",
    "for n in range(len(cldfrac_bin)-1):\n",
    "    idx = np.where(np.logical_and(cldfrac_all[:,24]>=cldfrac_bin[n],cldfrac_all[:,24]<cldfrac_bin[n+1]))[0]\n",
    "    rha_bin[n,:,:] = np.nanmean(rh_all[idx,:,:],axis=0)\n",
    "    rhastd_bin[n,:,:] = np.nanstd(rh_all[idx,:,:],axis=0)/np.sqrt(len(idx))\n",
    "    num_bin[n] = len(idx)\n",
    "    \n",
    "#fig=plt.figure(figsize=(8,4))\n",
    "\n",
    "clevs = np.linspace(0.3,1,8)\n",
    "plt.contourf(np.linspace(-72,72,49,dtype=int),np.flipud(lev_model),rha_bin[0,:,:].T\n",
    "             ,levels=clevs,cmap='jet');\n",
    "plt.colorbar();plt.ylim([1000,150]);plt.show()\n",
    "plt.contourf(np.linspace(-72,72,49,dtype=int),np.flipud(lev_model),rha_bin[1,:,:].T\n",
    "             ,levels=clevs,cmap='jet');\n",
    "plt.colorbar();plt.ylim([1000,150]);plt.show()\n",
    "plt.contourf(np.linspace(-72,72,49,dtype=int),np.flipud(lev_model),rha_bin[2,:,:].T\n",
    "             ,levels=clevs,cmap='jet');\n",
    "plt.colorbar();plt.ylim([1000,150]);plt.show()\n",
    "plt.contourf(np.linspace(-72,72,49,dtype=int),np.flipud(lev_model),rha_bin[3,:,:].T\n",
    "             ,levels=clevs,cmap='jet');\n",
    "plt.colorbar();plt.ylim([1000,150]);plt.show()"
   ]
  },
  {
   "cell_type": "code",
   "execution_count": null,
   "metadata": {
    "hideCode": false,
    "hidePrompt": false
   },
   "outputs": [],
   "source": [
    "cldfrac_bin = np.array([0,0.1,0.25,0.5,1]) # mm/day\n",
    "qa_bin = np.zeros((len(cldfrac_bin)-1,49,42)) # m/s\n",
    "qastd_bin = np.zeros((len(cldfrac_bin)-1,49,42))\n",
    "num_bin = np.copy(cldfrac_bin)*0\n",
    "\n",
    "for n in range(len(cldfrac_bin)-1):\n",
    "    idx = np.where(np.logical_and(cldfrac_all[:,24]>=cldfrac_bin[n],cldfrac_all[:,24]<cldfrac_bin[n+1]))[0]\n",
    "    qa_bin[n,:,:] = np.nanmean(q_rmseason[idx,:,:],axis=0)\n",
    "    qastd_bin[n,:,:] = np.nanstd(q_rmseason[idx,:,:],axis=0)/np.sqrt(len(idx))\n",
    "    num_bin[n] = len(idx)\n",
    "    \n",
    "#fig=plt.figure(figsize=(8,4))\n",
    "\n",
    "clevs = np.linspace(-1,1,21)\n",
    "plt.contourf(np.linspace(-72,72,49,dtype=int),lev,qa_bin[0,:,:].T*1000,cmap='jet',\n",
    "            levels=clevs\n",
    "            );\n",
    "plt.colorbar();plt.ylim([1000,150]);plt.show()\n",
    "plt.contourf(np.linspace(-72,72,49,dtype=int),lev,qa_bin[1,:,:].T*1000,cmap='jet',\n",
    "            levels=clevs\n",
    "            );\n",
    "plt.colorbar();plt.ylim([1000,150]);plt.show()\n",
    "plt.contourf(np.linspace(-72,72,49,dtype=int),lev,qa_bin[2,:,:].T*1000,cmap='jet',\n",
    "             levels=clevs\n",
    "            );\n",
    "plt.colorbar();plt.ylim([1000,150]);plt.show()\n",
    "plt.contourf(np.linspace(-72,72,49,dtype=int),lev,qa_bin[3,:,:].T*1000,cmap='jet',\n",
    "             levels=clevs\n",
    "            );\n",
    "plt.colorbar();plt.ylim([1000,150]);plt.show()\n",
    "\n",
    "#plt.legend(['0 < cldfrac < 0.1','0.1 < cldfrac < 0.25','0.25 < cldfrac < 0.5','0.5 < cldfrac < 1']\n",
    "#          ,fontsize=9)\n",
    "#plt.ylabel('CWV anomaly [mm]')\n",
    "#plt.xlabel('Lag time [hr]')\n",
    "#plt.grid(axis='x',linestyle='--')\n",
    "#plt.title('Precipitation evolution, 10deg box, IND')"
   ]
  },
  {
   "cell_type": "code",
   "execution_count": null,
   "metadata": {
    "hideCode": false,
    "hidePrompt": false
   },
   "outputs": [],
   "source": [
    "cldfrac_bin = np.array([0,0.1,0.25,0.5,1]) # mm/day\n",
    "Ta_bin = np.zeros((len(cldfrac_bin)-1,49,42)) # m/s\n",
    "Tastd_bin = np.zeros((len(cldfrac_bin)-1,49,42))\n",
    "num_bin = np.copy(cldfrac_bin)*0\n",
    "\n",
    "for n in range(len(cldfrac_bin)-1):\n",
    "    idx = np.where(np.logical_and(cldfrac_all[:,24]>=cldfrac_bin[n],cldfrac_all[:,24]<cldfrac_bin[n+1]))[0]\n",
    "    Ta_bin[n,:,:] = np.nanmean(T_rmseason[idx,:,:],axis=0)\n",
    "    Tastd_bin[n,:,:] = np.nanstd(T_rmseason[idx,:,:],axis=0)/np.sqrt(len(idx))\n",
    "    num_bin[n] = len(idx)\n",
    "    \n",
    "#fig=plt.figure(figsize=(8,4))\n",
    "\n",
    "clevs1 = np.linspace(-0.5,0.5,21)\n",
    "\n",
    "plt.contourf(np.linspace(-72,72,49,dtype=int),lev,Ta_bin[0,:,:].T#,levels=clevs1\n",
    "             ,cmap='RdBu_r');\n",
    "cbar = plt.colorbar();plt.ylim([1000,150]); cbar.set_label('T anomaly [K]')\n",
    "plt.contour(np.linspace(-72,72,49,dtype=int),lev,Ta_bin[0,:,:].T\n",
    "            ,levels=[-0.3,-0.2,-0.1,0.1,0.2,0.3],colors=['k'],linewidths=0.6)\n",
    "plt.ylabel('[hPa]');plt.xlabel('[hr]');plt.show()\n",
    "\n",
    "plt.contourf(np.linspace(-72,72,49,dtype=int),lev,Ta_bin[1,:,:].T#,levels=clevs1\n",
    "             ,cmap='RdBu_r');\n",
    "cbar = plt.colorbar();plt.ylim([1000,150]); cbar.set_label('T anomaly [K]')\n",
    "plt.contour(np.linspace(-72,72,49,dtype=int),lev,Ta_bin[1,:,:].T\n",
    "            ,levels=[-0.3,-0.2,-0.1,0.1,0.2,0.3],colors=['k'],linewidths=0.6)\n",
    "plt.ylabel('[hPa]');plt.xlabel('[hr]');plt.show()\n",
    "\n",
    "plt.contourf(np.linspace(-72,72,49,dtype=int),lev,Ta_bin[2,:,:].T#,levels=clevs1\n",
    "             ,cmap='RdBu_r');\n",
    "cbar = plt.colorbar();plt.ylim([1000,150]); cbar.set_label('T anomaly [K]')\n",
    "plt.contour(np.linspace(-72,72,49,dtype=int),lev,Ta_bin[2,:,:].T\n",
    "            ,levels=[-0.3,-0.2,-0.1,0.1,0.2,0.3],colors=['k'],linewidths=0.6)\n",
    "plt.ylabel('[hPa]');plt.xlabel('[hr]');plt.show()\n",
    "\n",
    "plt.contourf(np.linspace(-72,72,49,dtype=int),lev,Ta_bin[3,:,:].T#,levels=clevs1\n",
    "             ,cmap='RdBu_r');\n",
    "cbar = plt.colorbar();plt.ylim([1000,150]); cbar.set_label('T anomaly [K]')\n",
    "plt.contour(np.linspace(-72,72,49,dtype=int),lev,Ta_bin[3,:,:].T\n",
    "            ,levels=[-0.3,-0.2,-0.1,0.1,0.2,0.3],colors=['k'],linewidths=0.6)\n",
    "plt.ylabel('[hPa]');plt.xlabel('[hr]');plt.show()\n"
   ]
  },
  {
   "cell_type": "code",
   "execution_count": null,
   "metadata": {
    "hideCode": false,
    "hidePrompt": false
   },
   "outputs": [],
   "source": [
    "cldfrac_bin = np.array([0,0.1,0.25,0.5,1]) # mm/day\n",
    "cape_bin = np.zeros((len(cldfrac_bin)-1,49)) # m/s\n",
    "capestd_bin = np.zeros((len(cldfrac_bin)-1,49))\n",
    "num_bin = np.copy(cldfrac_bin)*0\n",
    "\n",
    "for n in range(len(cldfrac_bin)-1):\n",
    "    idx = np.where(np.logical_and(cldfrac_all[:,24]>=cldfrac_bin[n],cldfrac_all[:,24]<cldfrac_bin[n+1]))[0]\n",
    "    cape_bin[n,:] = np.nanmean(cape_all[idx,:],axis=0)\n",
    "    capestd_bin[n,:] = np.nanstd(cape_all[idx,:],axis=0)/np.sqrt(len(idx))\n",
    "    num_bin[n] = len(idx)\n",
    "    \n",
    "fig=plt.figure(figsize=(8,4))\n",
    "\n",
    "plt.plot(np.linspace(-72,72,49,dtype=int),cape_bin[0,:],color='k')\n",
    "plt.plot(np.linspace(-72,72,49,dtype=int),cape_bin[1,:],color='b')\n",
    "plt.plot(np.linspace(-72,72,49,dtype=int),cape_bin[2,:],color='orange')\n",
    "plt.plot(np.linspace(-72,72,49,dtype=int),cape_bin[3,:],color='r')\n",
    "\n",
    "plt.legend(['0 < cldfrac < 0.1','0.1 < cldfrac < 0.25','0.25 < cldfrac < 0.5','0.5 < cldfrac < 1']\n",
    "          ,fontsize=9)\n",
    "plt.ylabel('CWV anomaly [mm]')\n",
    "plt.xlabel('Lag time [hr]')\n",
    "plt.grid(axis='x',linestyle='--')\n",
    "#plt.title('Precipitation evolution, 10deg box, IND')"
   ]
  },
  {
   "cell_type": "code",
   "execution_count": null,
   "metadata": {
    "hideCode": false,
    "hidePrompt": false
   },
   "outputs": [],
   "source": [
    "div_all.shape"
   ]
  },
  {
   "cell_type": "code",
   "execution_count": null,
   "metadata": {
    "hideCode": false,
    "hidePrompt": false
   },
   "outputs": [],
   "source": [
    "%%time\n",
    "cldfrac_bin = np.array([0,0.1,0.25,0.5,1]) # cldfrac at ref\n",
    "div_regress = np.zeros((len(time_event),49,42))\n",
    "\n",
    "for n in range(len(cldfrac_bin)-1):\n",
    "    idx = np.where(np.logical_and(cldfrac_all[:,24]>=cldfrac_bin[n],cldfrac_all[:,24]<cldfrac_bin[n+1]))[0]\n",
    "\n",
    "    for t in idx: # samples\n",
    "        for k in range(div_regress.shape[2]): # vertical dims\n",
    "            tmp = prec_all[t,:];tmp2 = div_all[t,:,k]\n",
    "            pp = tmp[~np.isnan(tmp2)]; qq = tmp2[~np.isnan(tmp2)]  \n",
    "            if len(pp) > 0: # not empty\n",
    "                reg = [np.polyfit(pp,np.roll(qq,-lag),deg=1)[0] for lag in range(-24,25)]\n",
    "                div_regress[t,:,k] = np.asarray(reg)\n",
    "            else:\n",
    "                div_regress[t,:,k] = np.nan"
   ]
  },
  {
   "cell_type": "code",
   "execution_count": null,
   "metadata": {
    "hideCode": false,
    "hidePrompt": false
   },
   "outputs": [],
   "source": [
    "# divergence evolution\n",
    "cldfrac_bin = np.array([0,0.1,0.25,0.5,1]) # mm/day\n",
    "div_bin = np.zeros((len(cldfrac_bin)-1,49,42)) # m/s\n",
    "num_bin = np.copy(cldfrac_bin)*0\n",
    "\n",
    "for n in range(len(cldfrac_bin)-1):\n",
    "    idx = np.where(np.logical_and(cldfrac_all[:,24]>=cldfrac_bin[n],cldfrac_all[:,24]<cldfrac_bin[n+1]))[0]\n",
    "    div_bin[n,:,:] = np.nanmean(div_regress[idx,:,:],axis=0)\n",
    "    num_bin[n] = len(idx)\n",
    "    \n",
    "fig=plt.figure(figsize=(8,4))\n",
    "clevs = np.linspace(-0.6,0.6,17)\n",
    "plt.contourf(np.linspace(-72,72,49,dtype=int),lev,div_bin[0,:,:].T*1e5,\n",
    "             levels=clevs,cmap='PiYG',extend='both');\n",
    "cbar=plt.colorbar();plt.ylim([1000,150]);cbar.set_label('s$^{-1}$/[mm/hr]');plt.show()\n",
    "\n",
    "fig=plt.figure(figsize=(8,4))\n",
    "plt.contourf(np.linspace(-72,72,49,dtype=int),lev,div_bin[1,:,:].T*1e5,\n",
    "             levels=clevs,cmap='PiYG',extend='both');\n",
    "cbar=plt.colorbar();plt.ylim([1000,150]);cbar.set_label('s$^{-1}$/[mm/hr]');plt.show()\n",
    "\n",
    "fig=plt.figure(figsize=(8,4))\n",
    "plt.contourf(np.linspace(-72,72,49,dtype=int),lev,div_bin[2,:,:].T*1e5,\n",
    "             levels=clevs,cmap='PiYG',extend='both');\n",
    "cbar=plt.colorbar();plt.ylim([1000,150]);cbar.set_label('s$^{-1}$/[mm/hr]');plt.show()\n",
    "\n",
    "fig=plt.figure(figsize=(8,4))\n",
    "plt.contourf(np.linspace(-72,72,49,dtype=int),lev,div_bin[3,:,:].T*1e5,\n",
    "             levels=clevs,cmap='PiYG',extend='both');\n",
    "cbar=plt.colorbar();plt.ylim([1000,150]);cbar.set_label('s$^{-1}$/[mm/hr]');plt.show()"
   ]
  },
  {
   "cell_type": "code",
   "execution_count": null,
   "metadata": {
    "hideCode": false,
    "hidePrompt": false
   },
   "outputs": [],
   "source": [
    "# build cloud types climatology\n",
    "os.chdir(ISCCP_dir)\n",
    "files = sorted(glob('*nc'))\n",
    "data = xr.open_mfdataset(files)\n",
    "\n",
    "cldamt_types = data.cldamt_types.sel(lat=slice(-10,10),lon=slice(50,90))\n",
    "cldamt_cu = cldamt_types[:,0,:,:] + cldamt_types[:,3,:,:]\n",
    "cldamt_st = cldamt_types[:,13,:,:] + cldamt_types[:,16,:,:]\n",
    "cldamt_dc = cldamt_types[:,14,:,:] + cldamt_types[:,17,:,:]\n",
    "\n",
    "cu_clim = cldamt_cu.groupby('time.month').mean('time').compute() # climatology of daily data\n",
    "st_clim = cldamt_st.groupby('time.month').mean('time').compute()\n",
    "dc_clim = cldamt_dc.groupby('time.month').mean('time').compute()\n",
    "\n",
    "cu_rmseason = np.copy(cldamt_cu_all)\n",
    "st_rmseason = np.copy(cu_rmseason)\n",
    "dc_rmseason = np.copy(cu_rmseason)"
   ]
  },
  {
   "cell_type": "code",
   "execution_count": null,
   "metadata": {
    "hideCode": false,
    "hidePrompt": false
   },
   "outputs": [],
   "source": [
    "for n in range(len(time_event)):\n",
    "    cu_climsub = cu_clim.sel(lat=slice(lat_event[n]-5,lat_event[n]+5),\n",
    "                          lon=slice(lon_event[n]-5,lon_event[n]+5),month=time_event[n].month)\n",
    "    st_climsub = cu_clim.sel(lat=slice(lat_event[n]-5,lat_event[n]+5),\n",
    "                          lon=slice(lon_event[n]-5,lon_event[n]+5),month=time_event[n].month)\n",
    "    dc_climsub = cu_clim.sel(lat=slice(lat_event[n]-5,lat_event[n]+5),\n",
    "                          lon=slice(lon_event[n]-5,lon_event[n]+5),month=time_event[n].month)\n",
    "    \n",
    "    cu_rmseason[n,:] = cldamt_cu_all[n,:] - cu_climsub.mean(axis=(0,1)).values\n",
    "    st_rmseason[n,:] = cldamt_st_all[n,:] - st_climsub.mean(axis=(0,1)).values\n",
    "    dc_rmseason[n,:] = cldamt_dc_all[n,:] - dc_climsub.mean(axis=(0,1)).values"
   ]
  },
  {
   "cell_type": "code",
   "execution_count": null,
   "metadata": {
    "hideCode": false,
    "hidePrompt": false
   },
   "outputs": [],
   "source": [
    "%%time\n",
    "cldfrac_bin = np.array([0,0.1,0.25,0.5,1]) # cldfrac at ref\n",
    "cldamt_cu_regress = np.zeros((len(time_event),49))\n",
    "cldamt_st_regress = np.zeros((len(time_event),49))\n",
    "cldamt_dc_regress = np.zeros((len(time_event),49))\n",
    "\n",
    "for n in range(len(cldfrac_bin)-1):\n",
    "    idx = np.where(np.logical_and(cldfrac_all[:,24]>=cldfrac_bin[n],cldfrac_all[:,24]<cldfrac_bin[n+1]))[0]\n",
    "\n",
    "    for t in idx: # samples\n",
    "        tmp = prec_all[t,:];tmp2 = cldamt_cu_all[t,:]\n",
    "        pp = tmp[~np.isnan(tmp2)]; qq = tmp2[~np.isnan(tmp2)]  \n",
    "        if len(pp) > 0: # not empty\n",
    "            reg = [np.polyfit(pp,np.roll(qq,-lag),deg=1)[0] for lag in range(-24,25)]\n",
    "            cldamt_cu_regress[t,:] = np.asarray(reg)\n",
    "        else:\n",
    "            cldamt_cu_regress[t,:] = np.nan\n",
    "            \n",
    "for n in range(len(cldfrac_bin)-1):\n",
    "    idx = np.where(np.logical_and(cldfrac_all[:,24]>=cldfrac_bin[n],cldfrac_all[:,24]<cldfrac_bin[n+1]))[0]\n",
    "\n",
    "    for t in idx: # samples\n",
    "        tmp = prec_all[t,:];tmp2 = cldamt_st_all[t,:]\n",
    "        pp = tmp[~np.isnan(tmp2)]; qq = tmp2[~np.isnan(tmp2)]  \n",
    "        if len(pp) > 0: # not empty\n",
    "            reg = [np.polyfit(pp,np.roll(qq,-lag),deg=1)[0] for lag in range(-24,25)]\n",
    "            cldamt_st_regress[t,:] = np.asarray(reg)\n",
    "        else:\n",
    "            cldamt_st_regress[t,:] = np.nan\n",
    "\n",
    "for n in range(len(cldfrac_bin)-1):\n",
    "    idx = np.where(np.logical_and(cldfrac_all[:,24]>=cldfrac_bin[n],cldfrac_all[:,24]<cldfrac_bin[n+1]))[0]\n",
    "\n",
    "    for t in idx: # samples\n",
    "        tmp = prec_all[t,:];tmp2 = cldamt_dc_all[t,:]\n",
    "        pp = tmp[~np.isnan(tmp2)]; qq = tmp2[~np.isnan(tmp2)]  \n",
    "        if len(pp) > 0: # not empty\n",
    "            reg = [np.polyfit(pp,np.roll(qq,-lag),deg=1)[0] for lag in range(-24,25)]\n",
    "            cldamt_dc_regress[t,:] = np.asarray(reg)\n",
    "        else:\n",
    "            cldamt_dc_regress[t,:] = np.nan"
   ]
  },
  {
   "cell_type": "code",
   "execution_count": null,
   "metadata": {
    "hideCode": false,
    "hidePrompt": false
   },
   "outputs": [],
   "source": [
    "# cloud type evolution\n",
    "cldfrac_bin = np.array([0,0.1,0.25,0.5,1]) # mm/day\n",
    "cldamt_cu_bin = np.zeros((len(cldfrac_bin)-1,49)) # m/s\n",
    "cldamt_st_bin = np.zeros((len(cldfrac_bin)-1,49)) # m/s\n",
    "cldamt_dc_bin = np.zeros((len(cldfrac_bin)-1,49)) # m/s\n",
    "num_bin = np.copy(cldfrac_bin)*0\n",
    "\n",
    "for n in range(len(cldfrac_bin)-1):\n",
    "    idx = np.where(np.logical_and(cldfrac_all[:,24]>=cldfrac_bin[n],cldfrac_all[:,24]<cldfrac_bin[n+1]))[0]\n",
    "    cldamt_cu_bin[n,:] = np.nanmean(cldamt_cu_regress[idx,:],axis=0)\n",
    "    cldamt_st_bin[n,:] = np.nanmean(cldamt_st_regress[idx,:],axis=0)    \n",
    "    cldamt_dc_bin[n,:] = np.nanmean(cldamt_dc_regress[idx,:],axis=0)\n",
    "    num_bin[n] = len(idx)"
   ]
  },
  {
   "cell_type": "code",
   "execution_count": null,
   "metadata": {
    "hideCode": false,
    "hidePrompt": false,
    "scrolled": true
   },
   "outputs": [],
   "source": [
    "fig,ax = plt.subplots(2,2,figsize=(10,6))\n",
    "\n",
    "ax[0,0].plot(cldamt_cu_bin[0,:],'k')\n",
    "ax[0,0].plot(cldamt_st_bin[0,:],'b')\n",
    "ax[0,0].plot(cldamt_dc_bin[0,:],'r')\n",
    "\n",
    "ax[0,1].plot(cldamt_cu_bin[1,:],'k')\n",
    "ax[0,1].plot(cldamt_st_bin[1,:],'b')\n",
    "ax[0,1].plot(cldamt_dc_bin[1,:],'r')\n",
    "\n",
    "ax[1,0].plot(cldamt_cu_bin[2,:],'k')\n",
    "ax[1,0].plot(cldamt_st_bin[2,:],'b')\n",
    "ax[1,0].plot(cldamt_dc_bin[2,:],'r')\n",
    "\n",
    "ax[1,1].plot(cldamt_cu_bin[3,:],'k')\n",
    "ax[1,1].plot(cldamt_st_bin[3,:],'b')\n",
    "ax[1,1].plot(cldamt_dc_bin[3,:],'r')\n",
    "\n",
    "plt.show()"
   ]
  },
  {
   "cell_type": "code",
   "execution_count": null,
   "metadata": {
    "hideCode": false,
    "hidePrompt": false
   },
   "outputs": [],
   "source": []
  }
 ],
 "metadata": {
  "hide_code_all_hidden": false,
  "kernelspec": {
   "display_name": "Python 3",
   "language": "python",
   "name": "python3"
  },
  "language_info": {
   "codemirror_mode": {
    "name": "ipython",
    "version": 3
   },
   "file_extension": ".py",
   "mimetype": "text/x-python",
   "name": "python",
   "nbconvert_exporter": "python",
   "pygments_lexer": "ipython3",
   "version": "3.6.9"
  }
 },
 "nbformat": 4,
 "nbformat_minor": 2
}
